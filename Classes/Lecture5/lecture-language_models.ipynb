{
 "cells": [
  {
   "cell_type": "code",
   "execution_count": 3,
   "metadata": {
    "colab": {
     "base_uri": "https://localhost:8080/"
    },
    "executionInfo": {
     "elapsed": 228,
     "status": "ok",
     "timestamp": 1727118633692,
     "user": {
      "displayName": "Andrew Zachary",
      "userId": "08217951406983746510"
     },
     "user_tz": 240
    },
    "id": "4_utP1oeR5MP",
    "outputId": "64774304-ad98-4921-8f3e-0084d9620bf9"
   },
   "outputs": [],
   "source": [
    "import numpy as np\n",
    "import pandas as pd\n",
    "import matplotlib.pyplot as plt\n",
    "\n",
    "font = {'size': 16}\n",
    "# matplotlib.rc('font', **font)\n",
    "\n",
    "%matplotlib inline\n",
    "\n",
    "np.random.seed(1234)"
   ]
  },
  {
   "cell_type": "markdown",
   "metadata": {
    "id": "WXBHldZdR5MR"
   },
   "source": [
    "### until now: 'bag of words assumption', but text has structure!\n",
    "\n",
    "\n",
    "# Language Models I\n",
    "\n",
    "- ### Text contains a lot of information\n",
    "    - ### Find a way to model it (word counts, syntactics, semantics, etc)\n",
    "    - ### Use huge amounts of text\n",
    "\n",
    "- ### Gray area between unsupervised <-> supervised\n",
    "\n",
    "- ### These are the building blocks for algorithms like GPT-4"
   ]
  },
  {
   "cell_type": "markdown",
   "metadata": {
    "id": "bQv9ZlVAR5MT"
   },
   "source": [
    "# $ \\\\ $\n",
    "# $ \\\\ $\n",
    "# $ \\\\ $"
   ]
  },
  {
   "cell_type": "markdown",
   "metadata": {
    "id": "e1SizxaFR5MT"
   },
   "source": [
    "# Common Tasks for a Language Model\n",
    "## 1) Associate a probability with text\n",
    "- ### eg P(real sentence) vs P(not a real sentence)\n",
    "\n",
    "## 2) For a given text predict the next word (GPT) - can we predict the 'future'?\n",
    "- ### eg \"It's raining today so i should bring an `<?>`\"\n",
    "\n",
    "<br>\n",
    "<br>\n",
    "<br>\n",
    "<br>\n",
    "<br>\n",
    "<br>\n",
    "<br>\n",
    "<br>\n",
    "<br>\n",
    "\n",
    "\n",
    "# Questions\n",
    "- ### Why is this enough for gpt?\n",
    "- ### What's the limit? (causality)\n",
    "- ### Is this (un)supervised? (this gray area will become even blurrier once we learn about neural networks)"
   ]
  },
  {
   "cell_type": "markdown",
   "metadata": {
    "id": "djCQwRrJR5MT"
   },
   "source": [
    "# $ \\\\ $\n",
    "# $ \\\\ $\n",
    "# $ \\\\ $"
   ]
  },
  {
   "cell_type": "markdown",
   "metadata": {
    "id": "qkNnnIfAR5MU"
   },
   "source": [
    "# Examples:"
   ]
  },
  {
   "cell_type": "markdown",
   "metadata": {
    "id": "--pYLp-5R5MU"
   },
   "source": [
    "# Translation: German -> English\n",
    "\n",
    "## \"Gestern habe ich beim MIT einen burger gegessen.\"\n",
    "## \"Hier, j'ai mangé un hamburger au MIT\"\n",
    "\n",
    "##\n",
    "\n",
    "##\n",
    "\n",
    ">### Yesterday have I at MIT a burger eaten.\n",
    ">### <small>(Score 21%)</small>\n",
    "\n",
    "## vs\n",
    "\n",
    ">### Yesterday I ate an MIT at a burger.\n",
    ">### <small>(Score 65%)</small>\n",
    "\n",
    "## vs\n",
    "\n",
    ">### Yesterday I ate a burger at MIT.\n",
    ">### <small>(Score 92%)</small>"
   ]
  },
  {
   "cell_type": "markdown",
   "metadata": {
    "id": "w5yISVTvR5MV"
   },
   "source": [
    "# $ \\\\ $\n",
    "# $ \\\\ $\n",
    "# $ \\\\ $"
   ]
  },
  {
   "cell_type": "markdown",
   "metadata": {
    "id": "HhgI62V7R5MV"
   },
   "source": [
    "# Speech Recognition:\n",
    "\n",
    ">### How to wreck a nice beach\n",
    "\n",
    "## vs\n",
    "\n",
    ">### How to recognize speech"
   ]
  },
  {
   "cell_type": "markdown",
   "metadata": {
    "id": "7P2WiB-cR5MW"
   },
   "source": [
    "# $ \\\\ $\n",
    "# $ \\\\ $\n",
    "# $ \\\\ $"
   ]
  },
  {
   "cell_type": "markdown",
   "metadata": {
    "id": "8KGlL30UR5MW"
   },
   "source": [
    "# Search:"
   ]
  },
  {
   "cell_type": "markdown",
   "metadata": {
    "id": "ajqERxABR5MW"
   },
   "source": [
    "<div>\n",
    "<img src=\"GoogleSearch.png\" width=\"500px\"/>\n",
    "</div>"
   ]
  },
  {
   "cell_type": "markdown",
   "metadata": {
    "id": "S5sUjQPWR5MW"
   },
   "source": [
    "# $ \\\\ $\n",
    "# $ \\\\ $\n",
    "# $ \\\\ $"
   ]
  },
  {
   "cell_type": "markdown",
   "metadata": {
    "id": "hIBph0C8R5MX"
   },
   "source": [
    "## Language Models are used everywhere.\n",
    "## Today we will learn how we can use the concept of n-gram approxmiations & counting to create such models\n",
    "\n",
    "##\n",
    "\n",
    "## -> More to come: \"Language models II: RNN neural, write whole novels\""
   ]
  },
  {
   "cell_type": "markdown",
   "metadata": {
    "id": "hjAa8IiKR5MX"
   },
   "source": [
    "# $ \\\\ $\n",
    "# $ \\\\ $\n",
    "# $ \\\\ $"
   ]
  },
  {
   "cell_type": "markdown",
   "metadata": {
    "id": "Udc7ulJdR5MX"
   },
   "source": [
    "## Find next word:\n",
    "\n",
    "## $P(\\text{word}|\\text{history}) = ?$\n",
    "\n",
    "##\n",
    "\n",
    "### $P(\\text{word}|\\text{\"I go to the beach to\"})$\n",
    "- ### run?\n",
    "- ### swim?\n",
    "- ### printer?"
   ]
  },
  {
   "cell_type": "markdown",
   "metadata": {
    "id": "TTYiTVeKR5MY"
   },
   "source": [
    "## What is the naive solution here?"
   ]
  },
  {
   "cell_type": "markdown",
   "metadata": {
    "id": "66qh7necR5MY"
   },
   "source": [
    "# $ \\\\ $\n",
    "# $ \\\\ $\n",
    "# $ \\\\ $"
   ]
  },
  {
   "cell_type": "markdown",
   "metadata": {
    "id": "43vxaROOR5MY"
   },
   "source": [
    "## Compare probability of all possible sentence completions!\n",
    "\n",
    "### Counts(I go to the beach to *run*)\n",
    "### - vs\n",
    "### Counts(I go to the beach to *swim*)\n",
    "### - vs\n",
    "### Counts(I go to the beach to *printer*)"
   ]
  },
  {
   "cell_type": "markdown",
   "metadata": {
    "id": "nw2rB2Q4R5MY"
   },
   "source": [
    "# $ \\\\ $\n",
    "# $ \\\\ $\n",
    "# $ \\\\ $"
   ]
  },
  {
   "cell_type": "markdown",
   "metadata": {
    "id": "ARf3Y8fFR5MZ"
   },
   "source": [
    "## However..."
   ]
  },
  {
   "cell_type": "markdown",
   "metadata": {
    "id": "k_MmjNe_R5MZ"
   },
   "source": [
    "# $ \\\\ $\n",
    "# $ \\\\ $\n",
    "# $ \\\\ $"
   ]
  },
  {
   "cell_type": "markdown",
   "metadata": {
    "id": "y1692N6HR5MZ"
   },
   "source": [
    "<div>\n",
    "<img src=\"Google2.png\" width=\"800px\"/>\n",
    "</div>"
   ]
  },
  {
   "cell_type": "markdown",
   "metadata": {
    "id": "sfh56SuQR5MZ"
   },
   "source": [
    "## Language is creative, so realistically we need to improve on basic counting.\n",
    "\n",
    "## How can we do this?"
   ]
  },
  {
   "cell_type": "markdown",
   "metadata": {
    "id": "T5BgaBKJR5MZ"
   },
   "source": [
    "# $ \\\\ $\n",
    "# $ \\\\ $\n",
    "# $ \\\\ $"
   ]
  },
  {
   "cell_type": "markdown",
   "metadata": {
    "id": "pp46rLjTR5Ma"
   },
   "source": [
    "## -> N-gram approximation"
   ]
  },
  {
   "cell_type": "markdown",
   "metadata": {
    "id": "PPOvRJ3QR5Ma"
   },
   "source": [
    "# $ \\\\ $\n",
    "# $ \\\\ $\n",
    "# $ \\\\ $"
   ]
  },
  {
   "cell_type": "markdown",
   "metadata": {
    "id": "jr30OLYhR5Ma"
   },
   "source": [
    "## Some notation\n",
    "\n",
    "- ### A sentence with n words $w_1, w_2, ..., w_n$ = $w_1^n$\n",
    "- ### Each word is a random variables over a vocabulary $w \\in vocab$ where $len(vocab) = V$\n",
    "\n",
    "### Chain rule of probability - Probability of sentence\n",
    "- ### $P(w_1^n) =P(w_1)P(w_2|w_1)P(w_3|w_1^2)...P(w_n|w_1^{n-1})=\\displaystyle\\prod_{k=1}^{n}P(w_k|w_1^{k-1})$"
   ]
  },
  {
   "cell_type": "markdown",
   "metadata": {
    "id": "_nXNwr5MR5Ma"
   },
   "source": [
    "# $ \\\\ $\n",
    "# $ \\\\ $\n",
    "# $ \\\\ $"
   ]
  },
  {
   "cell_type": "markdown",
   "metadata": {
    "id": "K3Jx2pVBR5Ma"
   },
   "source": [
    "## Simplest Approximation: independent unigrams\n",
    "### $P(w_k|w_1^{k-1})≈P(w_k)$\n",
    "### $P(w_k) = \\frac{C(w_k)}{\\sum C(w_j)} = \\frac{C(w_k)}{N}$ where $N$ is the number of words in a training corpus\n",
    "\n",
    "##\n",
    "\n",
    "### What is the next logical step?"
   ]
  },
  {
   "cell_type": "markdown",
   "metadata": {
    "id": "lY9mHMHJR5Mb"
   },
   "source": [
    "# $ \\\\ $\n",
    "# $ \\\\ $\n",
    "# $ \\\\ $"
   ]
  },
  {
   "cell_type": "markdown",
   "metadata": {
    "id": "5Hud2yC5R5Mb"
   },
   "source": [
    "## General Approximation: use history of up to N tokens for each estimate."
   ]
  },
  {
   "cell_type": "markdown",
   "metadata": {
    "id": "SzxzgszMR5Mb"
   },
   "source": [
    "### Note: This can be seen as a Markov model (limited history determins the probability)"
   ]
  },
  {
   "cell_type": "markdown",
   "metadata": {
    "id": "dbNRqEYzR5Mb"
   },
   "source": [
    "## eg: 2-gram model:\n",
    "### $P(w_k|w_1^{k-1})≈P(w_k|w_{k-1})$"
   ]
  },
  {
   "cell_type": "markdown",
   "metadata": {
    "id": "FWoW6PR9R5Mc"
   },
   "source": [
    "# $ \\\\ $\n",
    "# $ \\\\ $\n",
    "# $ \\\\ $"
   ]
  },
  {
   "cell_type": "markdown",
   "metadata": {
    "id": "Mp1TmcQUR5Mc"
   },
   "source": [
    "## How do we estimate the probability of a word in a bigram model $𝑃(𝑤_𝑘|𝑤_{𝑘−1})$?\n",
    "## Counts of bigram $w_{k-1}w_k$, divided by number of all bigrams starting with $w_{k-1}$\n",
    "\n",
    "## $𝑃(𝑤_𝑘|𝑤_{𝑘−1})=\\frac{C(w_{k-1}w_k)}{\\sum_{w'}C(w_{k-1}w'_k)}$\n",
    "\n",
    "## Number of bigrams starting with $w_{k-1}$ simplifies to number of unigrams $w_{k-1}$\n",
    "\n",
    "## $𝑃(𝑤_𝑘|𝑤_{𝑘−1})=\\frac{C(w_{k-1}w_k)}{C(w_{k-1})}$"
   ]
  },
  {
   "cell_type": "markdown",
   "metadata": {
    "id": "P_Xu8Z9qR5Mc"
   },
   "source": [
    "# $ \\\\ $\n",
    "# $ \\\\ $\n",
    "# $ \\\\ $"
   ]
  },
  {
   "cell_type": "markdown",
   "metadata": {
    "id": "-S2BIXZ1R5Mc"
   },
   "source": [
    "## Calculation Example - bigrams\n",
    "\n",
    "### Note: we want to keep track of beginning/end of sentences. Introduce `<s>` \\& `</s>`.\n",
    "\n",
    "### Train corpus:\n",
    "\n",
    "- ### \\<s\\> I am Sam \\</s\\>\n",
    "- ### \\<s\\> Sam I am \\</s\\>\n",
    "- ### \\<s\\> I do not like green eggs and ham \\</s\\>"
   ]
  },
  {
   "cell_type": "markdown",
   "metadata": {
    "id": "BvK6OGxkR5Mc"
   },
   "source": [
    "### $$P(\\text{I}|\\text{<s>})=\\frac{2}{3}=.67 \\hskip 2em P(\\text{Sam}|\\text{<s>})=\\frac{1}{3}=.33 \\hskip 2em P(\\text{am}|\\text{I})=\\frac{2}{3}=.67$$\n",
    "### $$P(\\text{</s>}|\\text{Sam})=\\frac{1}{2}=.50 \\hskip 2em P(\\text{Sam}|\\text{am})=\\frac{1}{2}=.50 \\hskip 2em P(\\text{do}|\\text{I})=\\frac{1}{3}=.33$$\n",
    "\n",
    "### $$P(\\text{\"I am Sam\"}) = P(\\text{I}|\\text{<s>}) ~ \\times ~ P(\\text{am}|\\text{I}) ~ \\times ~...$$"
   ]
  },
  {
   "cell_type": "markdown",
   "metadata": {
    "id": "EaMmJo8CR5Mc"
   },
   "source": [
    "# $ \\\\ $\n",
    "# $ \\\\ $\n",
    "# $ \\\\ $"
   ]
  },
  {
   "cell_type": "markdown",
   "metadata": {
    "id": "NWuiFFTTR5Md"
   },
   "source": [
    "## Larger corpus"
   ]
  },
  {
   "cell_type": "code",
   "execution_count": 5,
   "metadata": {
    "colab": {
     "base_uri": "https://localhost:8080/",
     "height": 373
    },
    "executionInfo": {
     "elapsed": 851,
     "status": "error",
     "timestamp": 1727208905749,
     "user": {
      "displayName": "Andrew Zachary",
      "userId": "08217951406983746510"
     },
     "user_tz": 240
    },
    "id": "Xvr_L2d4R5Md",
    "outputId": "172df5df-8971-4310-9f47-2acea4427048"
   },
   "outputs": [],
   "source": [
    "# ignore this code for now, we will get back to it later\n",
    "import pandas as pd\n",
    "import numpy as np\n",
    "import re\n",
    "from collections import Counter\n",
    "wiki_df = pd.read_csv('kdwd_r1k_articles.csv')\n",
    "def get_tokens(text):\n",
    "    return ['<s>'] + re.findall(r'\\w+', text.lower()) + ['</s>']\n",
    "sentences_list = ' '.join(wiki_df['intro_text'].tolist()).split('.')\n",
    "full_token_list = [get_tokens(text) for text in sentences_list]\n",
    "unigram_counts = Counter()\n",
    "for token_list in full_token_list:\n",
    "    for t in token_list:\n",
    "        unigram_counts[t] += 1\n",
    "bigram_counts = Counter()\n",
    "for token_list in full_token_list:\n",
    "    for t1, t2 in zip(token_list, token_list[1:]):\n",
    "        bigram_counts[t1 + ' ' + t2] += 1\n",
    "def get_mat(sentence, do_norm=False):\n",
    "    tokens = get_tokens(sentence)\n",
    "    mat_counts = np.zeros((len(tokens), len(tokens)))\n",
    "    for n1, t1 in enumerate(tokens):\n",
    "        for n2, t2 in enumerate(tokens):\n",
    "            if do_norm:\n",
    "                mat_counts[n1, n2] = bigram_counts[t1 + ' ' + t2] / unigram_counts[t1]\n",
    "                df = pd.DataFrame(mat_counts, index=tokens, columns=tokens).round(5)\n",
    "            else:\n",
    "                mat_counts[n1, n2] = int(bigram_counts[t1 + ' ' + t2])\n",
    "                df = pd.DataFrame(mat_counts, index=tokens, columns=tokens).astype(int)\n",
    "    return df"
   ]
  },
  {
   "cell_type": "code",
   "execution_count": 6,
   "metadata": {
    "id": "5BoIue1zTmjp"
   },
   "outputs": [],
   "source": [
    "def get_mat(sentence, do_norm=False):\n",
    "    tokens = get_tokens(sentence)\n",
    "    mat_counts = np.zeros((len(tokens), len(tokens)))\n",
    "    for n1, t1 in enumerate(tokens):\n",
    "        for n2, t2 in enumerate(tokens):\n",
    "            if do_norm:\n",
    "                mat_counts[n1, n2] = bigram_counts[t1 + ' ' + t2] / unigram_counts[t1]\n",
    "                df = pd.DataFrame(mat_counts, index=tokens, columns=tokens).round(5)\n",
    "            else:\n",
    "                mat_counts[n1, n2] = int(bigram_counts[t1 + ' ' + t2])\n",
    "                df = pd.DataFrame(mat_counts, index=tokens, columns=tokens).astype(int)\n",
    "    return df\n",
    "\n",
    "def get_tokens(text):\n",
    "    return ['<s>'] + re.findall(r'\\w+', text.lower()) + ['</s>']"
   ]
  },
  {
   "cell_type": "code",
   "execution_count": 7,
   "metadata": {
    "colab": {
     "base_uri": "https://localhost:8080/",
     "height": 294
    },
    "executionInfo": {
     "elapsed": 272,
     "status": "error",
     "timestamp": 1727118902401,
     "user": {
      "displayName": "Andrew Zachary",
      "userId": "08217951406983746510"
     },
     "user_tz": 240
    },
    "id": "ZdUv4q6XR5Md",
    "outputId": "2da310e5-8fd5-4a63-9b9f-235b682f771e"
   },
   "outputs": [
    {
     "data": {
      "text/html": [
       "<div>\n",
       "<style scoped>\n",
       "    .dataframe tbody tr th:only-of-type {\n",
       "        vertical-align: middle;\n",
       "    }\n",
       "\n",
       "    .dataframe tbody tr th {\n",
       "        vertical-align: top;\n",
       "    }\n",
       "\n",
       "    .dataframe thead th {\n",
       "        text-align: right;\n",
       "    }\n",
       "</style>\n",
       "<table border=\"1\" class=\"dataframe\">\n",
       "  <thead>\n",
       "    <tr style=\"text-align: right;\">\n",
       "      <th></th>\n",
       "      <th>&lt;s&gt;</th>\n",
       "      <th>wayfair</th>\n",
       "      <th>has</th>\n",
       "      <th>offices</th>\n",
       "      <th>throughout</th>\n",
       "      <th>the</th>\n",
       "      <th>united</th>\n",
       "      <th>states</th>\n",
       "      <th>&lt;/s&gt;</th>\n",
       "    </tr>\n",
       "  </thead>\n",
       "  <tbody>\n",
       "    <tr>\n",
       "      <th>&lt;s&gt;</th>\n",
       "      <td>0</td>\n",
       "      <td>2</td>\n",
       "      <td>5</td>\n",
       "      <td>1</td>\n",
       "      <td>2</td>\n",
       "      <td>918</td>\n",
       "      <td>9</td>\n",
       "      <td>10</td>\n",
       "      <td>13</td>\n",
       "    </tr>\n",
       "    <tr>\n",
       "      <th>wayfair</th>\n",
       "      <td>0</td>\n",
       "      <td>0</td>\n",
       "      <td>1</td>\n",
       "      <td>0</td>\n",
       "      <td>0</td>\n",
       "      <td>0</td>\n",
       "      <td>0</td>\n",
       "      <td>0</td>\n",
       "      <td>0</td>\n",
       "    </tr>\n",
       "    <tr>\n",
       "      <th>has</th>\n",
       "      <td>0</td>\n",
       "      <td>0</td>\n",
       "      <td>0</td>\n",
       "      <td>14</td>\n",
       "      <td>0</td>\n",
       "      <td>3</td>\n",
       "      <td>0</td>\n",
       "      <td>0</td>\n",
       "      <td>1</td>\n",
       "    </tr>\n",
       "    <tr>\n",
       "      <th>offices</th>\n",
       "      <td>0</td>\n",
       "      <td>0</td>\n",
       "      <td>0</td>\n",
       "      <td>0</td>\n",
       "      <td>3</td>\n",
       "      <td>0</td>\n",
       "      <td>0</td>\n",
       "      <td>0</td>\n",
       "      <td>2</td>\n",
       "    </tr>\n",
       "    <tr>\n",
       "      <th>throughout</th>\n",
       "      <td>0</td>\n",
       "      <td>0</td>\n",
       "      <td>0</td>\n",
       "      <td>0</td>\n",
       "      <td>0</td>\n",
       "      <td>37</td>\n",
       "      <td>0</td>\n",
       "      <td>0</td>\n",
       "      <td>0</td>\n",
       "    </tr>\n",
       "    <tr>\n",
       "      <th>the</th>\n",
       "      <td>0</td>\n",
       "      <td>0</td>\n",
       "      <td>0</td>\n",
       "      <td>0</td>\n",
       "      <td>0</td>\n",
       "      <td>0</td>\n",
       "      <td>274</td>\n",
       "      <td>1</td>\n",
       "      <td>0</td>\n",
       "    </tr>\n",
       "    <tr>\n",
       "      <th>united</th>\n",
       "      <td>0</td>\n",
       "      <td>0</td>\n",
       "      <td>0</td>\n",
       "      <td>0</td>\n",
       "      <td>0</td>\n",
       "      <td>0</td>\n",
       "      <td>0</td>\n",
       "      <td>393</td>\n",
       "      <td>0</td>\n",
       "    </tr>\n",
       "    <tr>\n",
       "      <th>states</th>\n",
       "      <td>0</td>\n",
       "      <td>0</td>\n",
       "      <td>0</td>\n",
       "      <td>0</td>\n",
       "      <td>0</td>\n",
       "      <td>9</td>\n",
       "      <td>2</td>\n",
       "      <td>0</td>\n",
       "      <td>136</td>\n",
       "    </tr>\n",
       "    <tr>\n",
       "      <th>&lt;/s&gt;</th>\n",
       "      <td>0</td>\n",
       "      <td>0</td>\n",
       "      <td>0</td>\n",
       "      <td>0</td>\n",
       "      <td>0</td>\n",
       "      <td>0</td>\n",
       "      <td>0</td>\n",
       "      <td>0</td>\n",
       "      <td>0</td>\n",
       "    </tr>\n",
       "  </tbody>\n",
       "</table>\n",
       "</div>"
      ],
      "text/plain": [
       "            <s>  wayfair  has  offices  throughout  the  united  states  </s>\n",
       "<s>           0        2    5        1           2  918       9      10    13\n",
       "wayfair       0        0    1        0           0    0       0       0     0\n",
       "has           0        0    0       14           0    3       0       0     1\n",
       "offices       0        0    0        0           3    0       0       0     2\n",
       "throughout    0        0    0        0           0   37       0       0     0\n",
       "the           0        0    0        0           0    0     274       1     0\n",
       "united        0        0    0        0           0    0       0     393     0\n",
       "states        0        0    0        0           0    9       2       0   136\n",
       "</s>          0        0    0        0           0    0       0       0     0"
      ]
     },
     "execution_count": 7,
     "metadata": {},
     "output_type": "execute_result"
    }
   ],
   "source": [
    "sentence = 'wayfair has offices throughout the united states'\n",
    "get_mat(sentence)"
   ]
  },
  {
   "cell_type": "code",
   "execution_count": 8,
   "metadata": {
    "id": "T5lDi_X2R5Md",
    "outputId": "dff7b311-001c-40ef-9626-8e3ca134cf86"
   },
   "outputs": [
    {
     "data": {
      "text/html": [
       "<div>\n",
       "<style scoped>\n",
       "    .dataframe tbody tr th:only-of-type {\n",
       "        vertical-align: middle;\n",
       "    }\n",
       "\n",
       "    .dataframe tbody tr th {\n",
       "        vertical-align: top;\n",
       "    }\n",
       "\n",
       "    .dataframe thead th {\n",
       "        text-align: right;\n",
       "    }\n",
       "</style>\n",
       "<table border=\"1\" class=\"dataframe\">\n",
       "  <thead>\n",
       "    <tr style=\"text-align: right;\">\n",
       "      <th></th>\n",
       "      <th>&lt;s&gt;</th>\n",
       "      <th>wayfair</th>\n",
       "      <th>has</th>\n",
       "      <th>offices</th>\n",
       "      <th>throughout</th>\n",
       "      <th>the</th>\n",
       "      <th>united</th>\n",
       "      <th>states</th>\n",
       "      <th>&lt;/s&gt;</th>\n",
       "    </tr>\n",
       "  </thead>\n",
       "  <tbody>\n",
       "    <tr>\n",
       "      <th>&lt;s&gt;</th>\n",
       "      <td>0.0</td>\n",
       "      <td>0.0</td>\n",
       "      <td>0.001</td>\n",
       "      <td>0.000</td>\n",
       "      <td>0.000</td>\n",
       "      <td>0.153</td>\n",
       "      <td>0.002</td>\n",
       "      <td>0.002</td>\n",
       "      <td>0.002</td>\n",
       "    </tr>\n",
       "    <tr>\n",
       "      <th>wayfair</th>\n",
       "      <td>0.0</td>\n",
       "      <td>0.0</td>\n",
       "      <td>0.250</td>\n",
       "      <td>0.000</td>\n",
       "      <td>0.000</td>\n",
       "      <td>0.000</td>\n",
       "      <td>0.000</td>\n",
       "      <td>0.000</td>\n",
       "      <td>0.000</td>\n",
       "    </tr>\n",
       "    <tr>\n",
       "      <th>has</th>\n",
       "      <td>0.0</td>\n",
       "      <td>0.0</td>\n",
       "      <td>0.000</td>\n",
       "      <td>0.038</td>\n",
       "      <td>0.000</td>\n",
       "      <td>0.008</td>\n",
       "      <td>0.000</td>\n",
       "      <td>0.000</td>\n",
       "      <td>0.003</td>\n",
       "    </tr>\n",
       "    <tr>\n",
       "      <th>offices</th>\n",
       "      <td>0.0</td>\n",
       "      <td>0.0</td>\n",
       "      <td>0.000</td>\n",
       "      <td>0.000</td>\n",
       "      <td>0.039</td>\n",
       "      <td>0.000</td>\n",
       "      <td>0.000</td>\n",
       "      <td>0.000</td>\n",
       "      <td>0.026</td>\n",
       "    </tr>\n",
       "    <tr>\n",
       "      <th>throughout</th>\n",
       "      <td>0.0</td>\n",
       "      <td>0.0</td>\n",
       "      <td>0.000</td>\n",
       "      <td>0.000</td>\n",
       "      <td>0.000</td>\n",
       "      <td>0.771</td>\n",
       "      <td>0.000</td>\n",
       "      <td>0.000</td>\n",
       "      <td>0.000</td>\n",
       "    </tr>\n",
       "    <tr>\n",
       "      <th>the</th>\n",
       "      <td>0.0</td>\n",
       "      <td>0.0</td>\n",
       "      <td>0.000</td>\n",
       "      <td>0.000</td>\n",
       "      <td>0.000</td>\n",
       "      <td>0.000</td>\n",
       "      <td>0.056</td>\n",
       "      <td>0.000</td>\n",
       "      <td>0.000</td>\n",
       "    </tr>\n",
       "    <tr>\n",
       "      <th>united</th>\n",
       "      <td>0.0</td>\n",
       "      <td>0.0</td>\n",
       "      <td>0.000</td>\n",
       "      <td>0.000</td>\n",
       "      <td>0.000</td>\n",
       "      <td>0.000</td>\n",
       "      <td>0.000</td>\n",
       "      <td>0.887</td>\n",
       "      <td>0.000</td>\n",
       "    </tr>\n",
       "    <tr>\n",
       "      <th>states</th>\n",
       "      <td>0.0</td>\n",
       "      <td>0.0</td>\n",
       "      <td>0.000</td>\n",
       "      <td>0.000</td>\n",
       "      <td>0.000</td>\n",
       "      <td>0.020</td>\n",
       "      <td>0.004</td>\n",
       "      <td>0.000</td>\n",
       "      <td>0.302</td>\n",
       "    </tr>\n",
       "    <tr>\n",
       "      <th>&lt;/s&gt;</th>\n",
       "      <td>0.0</td>\n",
       "      <td>0.0</td>\n",
       "      <td>0.000</td>\n",
       "      <td>0.000</td>\n",
       "      <td>0.000</td>\n",
       "      <td>0.000</td>\n",
       "      <td>0.000</td>\n",
       "      <td>0.000</td>\n",
       "      <td>0.000</td>\n",
       "    </tr>\n",
       "  </tbody>\n",
       "</table>\n",
       "</div>"
      ],
      "text/plain": [
       "            <s>  wayfair    has  offices  throughout    the  united  states  \\\n",
       "<s>         0.0      0.0  0.001    0.000       0.000  0.153   0.002   0.002   \n",
       "wayfair     0.0      0.0  0.250    0.000       0.000  0.000   0.000   0.000   \n",
       "has         0.0      0.0  0.000    0.038       0.000  0.008   0.000   0.000   \n",
       "offices     0.0      0.0  0.000    0.000       0.039  0.000   0.000   0.000   \n",
       "throughout  0.0      0.0  0.000    0.000       0.000  0.771   0.000   0.000   \n",
       "the         0.0      0.0  0.000    0.000       0.000  0.000   0.056   0.000   \n",
       "united      0.0      0.0  0.000    0.000       0.000  0.000   0.000   0.887   \n",
       "states      0.0      0.0  0.000    0.000       0.000  0.020   0.004   0.000   \n",
       "</s>        0.0      0.0  0.000    0.000       0.000  0.000   0.000   0.000   \n",
       "\n",
       "             </s>  \n",
       "<s>         0.002  \n",
       "wayfair     0.000  \n",
       "has         0.003  \n",
       "offices     0.026  \n",
       "throughout  0.000  \n",
       "the         0.000  \n",
       "united      0.000  \n",
       "states      0.302  \n",
       "</s>        0.000  "
      ]
     },
     "execution_count": 8,
     "metadata": {},
     "output_type": "execute_result"
    }
   ],
   "source": [
    "sentence = 'wayfair has offices throughout the united states'\n",
    "get_mat(sentence, do_norm=True).round(3)"
   ]
  },
  {
   "cell_type": "markdown",
   "metadata": {
    "id": "TAtlnbawR5Me"
   },
   "source": [
    "### $$P(\\text{<s>} ~ \\text{wayfair has offices throughout the united states} ~ \\text{</s>})$$\n",
    "### $$= P(\\text{wayfair}|\\text{<s>}) \\times P(\\text{has}|\\text{wayfair}) \\times P(\\text{offices}|\\text{has}) \\times ~... $$\n",
    "### $$= 0.00033 \\times 0.25000 \\times 0.03763 \\times ~... $$\n",
    "### $$= 0.00000... $$"
   ]
  },
  {
   "cell_type": "markdown",
   "metadata": {
    "id": "V_EYgJyrR5Me"
   },
   "source": [
    "# $ \\\\ $\n",
    "# $ \\\\ $\n",
    "# $ \\\\ $"
   ]
  },
  {
   "cell_type": "markdown",
   "metadata": {
    "id": "Uz-8iV-gR5Me"
   },
   "source": [
    "## Some of these probabilities quickly get very small -> use logarithm"
   ]
  },
  {
   "cell_type": "code",
   "execution_count": 9,
   "metadata": {
    "id": "kTtnMEujR5Me",
    "outputId": "a020d3db-310f-4abc-f614-5f16378c4737"
   },
   "outputs": [
    {
     "data": {
      "image/png": "[encoded data removed]",
      "text/plain": [
       "<Figure size 640x480 with 1 Axes>"
      ]
     },
     "metadata": {},
     "output_type": "display_data"
    }
   ],
   "source": [
    "# plt.figure(fontsize=16)\n",
    "plt.plot(np.arange(0,1,0.001)[1:], np.log(np.arange(0,1,0.001)[1:]))\n",
    "plt.xlabel('P')\n",
    "plt.ylabel('log(P)');"
   ]
  },
  {
   "cell_type": "markdown",
   "metadata": {
    "id": "KH3Eh9HbR5Mf"
   },
   "source": [
    "- ## Convenient to deal with small numbers and multiplications become sums"
   ]
  },
  {
   "cell_type": "markdown",
   "metadata": {
    "id": "QlnRgXnjR5Mf"
   },
   "source": [
    "# $ \\\\ $\n",
    "# $ \\\\ $\n",
    "# $ \\\\ $"
   ]
  },
  {
   "cell_type": "markdown",
   "metadata": {
    "id": "nubtbEG0R5Mf"
   },
   "source": [
    "## Before we build our first language model, how will we evaluate it?"
   ]
  },
  {
   "cell_type": "markdown",
   "metadata": {
    "id": "y1vmz2bxR5Mf"
   },
   "source": [
    "# $ \\\\ $\n",
    "# $ \\\\ $\n",
    "# $ \\\\ $"
   ]
  },
  {
   "cell_type": "markdown",
   "metadata": {
    "id": "cx7x6KRoR5Mf"
   },
   "source": [
    "## 1. Downstream task (extrinsic)\n",
    "\n",
    "### The best judge of a language model is its benefit in another task.\n",
    "\n",
    "### For example:\n",
    "\n",
    "- ### Does our translation output improve by using a language model?\n",
    "- ### Can we classify spam better by using a language model?"
   ]
  },
  {
   "cell_type": "markdown",
   "metadata": {
    "id": "EXl1_1-kR5Mg"
   },
   "source": [
    "# $ \\\\ $\n",
    "# $ \\\\ $\n",
    "# $ \\\\ $"
   ]
  },
  {
   "cell_type": "markdown",
   "metadata": {
    "id": "A9II8Cw7R5Mg"
   },
   "source": [
    "## 2. Perplexity (intrinsic)"
   ]
  },
  {
   "cell_type": "markdown",
   "metadata": {
    "id": "T3aTUehkR5Mg"
   },
   "source": [
    "##"
   ]
  },
  {
   "cell_type": "markdown",
   "metadata": {
    "id": "5ZCKeS7AR5Mg"
   },
   "source": [
    "##"
   ]
  },
  {
   "cell_type": "markdown",
   "metadata": {
    "id": "T6bkz0v1R5Mg"
   },
   "source": [
    "##  Definition: inverse probability of a test set\n",
    "### aka: Measure on how likely an unseen text is under a specific Language Model\n",
    "\n",
    "## $PP(W) = P(w_1...w_N)^{-\\frac{1}{N}}$\n",
    "\n",
    "- ### lower perplexity is better"
   ]
  },
  {
   "cell_type": "markdown",
   "metadata": {
    "id": "9Ie9txMLR5Mg"
   },
   "source": [
    "##"
   ]
  },
  {
   "cell_type": "markdown",
   "metadata": {
    "id": "zCSI8YayR5Mg"
   },
   "source": [
    "##"
   ]
  },
  {
   "cell_type": "markdown",
   "metadata": {
    "id": "M7U0xtU8R5Mh"
   },
   "source": [
    "## using chainrule we get\n",
    "\n",
    "### unigrams: $PP(W) = (\\displaystyle\\prod_{k=1}^{N}\\frac{1}{P(w_k)})^{\\frac{1}{N}}$\n",
    "\n",
    "### bigrams: $PP(W) = (\\displaystyle\\prod_{k=1}^{N}\\frac{1}{P(w_k|w_{k-1})})^{\\frac{1}{N}}$"
   ]
  },
  {
   "cell_type": "markdown",
   "metadata": {
    "id": "vJMDlsf3R5Mh"
   },
   "source": [
    "##"
   ]
  },
  {
   "cell_type": "markdown",
   "metadata": {
    "id": "_c5J2v99R5Mh"
   },
   "source": [
    "##"
   ]
  },
  {
   "cell_type": "markdown",
   "metadata": {
    "id": "g4j9HK4yR5Mh"
   },
   "source": [
    "### Pros:\n",
    "- #### simpler, doesn't need a task\n",
    "\n",
    "### Cons:\n",
    "- #### inapplicable to unnormalized language models (i.e., models that are not true probability distributions that sum to 1)\n",
    "- #### not comparable between language models with different vocabularies"
   ]
  },
  {
   "cell_type": "markdown",
   "metadata": {
    "id": "R3ItC_FNR5Mh"
   },
   "source": [
    "##"
   ]
  },
  {
   "cell_type": "markdown",
   "metadata": {
    "id": "wRy9Hl5NR5Mh"
   },
   "source": [
    "##"
   ]
  },
  {
   "cell_type": "markdown",
   "metadata": {
    "id": "URGYJ7pfR5Mh"
   },
   "source": [
    "### we can use this as an 'unsupervised' proxy on how useful our model will be in a downstream task."
   ]
  },
  {
   "cell_type": "markdown",
   "metadata": {
    "id": "bQT1scpBR5Mh"
   },
   "source": [
    "##"
   ]
  },
  {
   "cell_type": "markdown",
   "metadata": {
    "id": "KvhpVrGAR5Mh"
   },
   "source": [
    "#### [more reading] (optional) https://towardsdatascience.com/perplexity-in-language-models-87a196019a94"
   ]
  },
  {
   "cell_type": "markdown",
   "metadata": {
    "id": "tkI8CMO9R5Mi"
   },
   "source": [
    "# $ \\\\ $\n",
    "# $ \\\\ $\n",
    "# $ \\\\ $"
   ]
  },
  {
   "cell_type": "markdown",
   "metadata": {
    "id": "rCzSE5r1R5Mi"
   },
   "source": [
    "## Building an n-gram language model"
   ]
  },
  {
   "cell_type": "code",
   "execution_count": 10,
   "metadata": {
    "id": "IsO0NGUZR5Mi"
   },
   "outputs": [],
   "source": [
    "import pandas as pd\n",
    "import numpy as np\n",
    "import re\n",
    "\n",
    "wiki_df = pd.read_csv('kdwd_r1k_articles.csv')\n",
    "\n",
    "def get_tokens(text):\n",
    "    return ['<s>'] + re.findall(r'\\w+', text.lower()) + ['</s>']\n",
    "\n",
    "train_sentences_list = ' '.join(wiki_df['intro_text'].iloc[:-100].tolist()).split('.')\n",
    "test_sentences_list = ' '.join(wiki_df['intro_text'].iloc[-100:].tolist()).split('.')"
   ]
  },
  {
   "cell_type": "code",
   "execution_count": 11,
   "metadata": {
    "id": "0xXGyNDCR5Mi"
   },
   "outputs": [],
   "source": [
    "from collections import Counter\n",
    "\n",
    "train_token_list = [get_tokens(text) for text in train_sentences_list]\n",
    "\n",
    "unigram_counts = Counter()\n",
    "for token_list in train_token_list:\n",
    "    for t in token_list:\n",
    "        unigram_counts[t] += 1\n",
    "\n",
    "bigram_counts = Counter()\n",
    "for token_list in train_token_list:\n",
    "    for t1, t2 in zip(token_list, token_list[1:]):\n",
    "        bigram_counts[t1 + ' ' + t2] += 1"
   ]
  },
  {
   "cell_type": "code",
   "execution_count": 12,
   "metadata": {
    "id": "0xpTQr91R5Mi",
    "outputId": "1877fc0c-9235-43ee-f70f-4b6fd1d6b0f4"
   },
   "outputs": [
    {
     "data": {
      "text/plain": [
       "[('<s>', 5322),\n",
       " ('</s>', 5322),\n",
       " ('the', 4349),\n",
       " ('and', 3751),\n",
       " ('in', 3313),\n",
       " ('of', 2165),\n",
       " ('company', 1657),\n",
       " ('is', 1504),\n",
       " ('a', 1175),\n",
       " ('to', 960)]"
      ]
     },
     "execution_count": 12,
     "metadata": {},
     "output_type": "execute_result"
    }
   ],
   "source": [
    "unigram_counts.most_common(10)"
   ]
  },
  {
   "cell_type": "code",
   "execution_count": 13,
   "metadata": {
    "id": "DYqFUv_YR5Mi",
    "outputId": "2e89d478-68b9-440b-b4b4-c787af10d21d"
   },
   "outputs": [
    {
     "data": {
      "text/plain": [
       "[('the company', 855),\n",
       " ('<s> the', 812),\n",
       " ('in the', 648),\n",
       " ('of the', 504),\n",
       " ('inc </s>', 394),\n",
       " ('<s> in', 378),\n",
       " ('is an', 374),\n",
       " ('<s> it', 369),\n",
       " ('united states', 350),\n",
       " ('an american', 345)]"
      ]
     },
     "execution_count": 13,
     "metadata": {},
     "output_type": "execute_result"
    }
   ],
   "source": [
    "bigram_counts.most_common(10)"
   ]
  },
  {
   "cell_type": "code",
   "execution_count": 14,
   "metadata": {
    "id": "LFpbxppTR5Mj"
   },
   "outputs": [],
   "source": [
    "n_unigrams = np.sum([v for _, v in unigram_counts.items()])\n",
    "\n",
    "def get_unigram_token_prob(token):\n",
    "    return unigram_counts[token] / n_unigrams"
   ]
  },
  {
   "cell_type": "code",
   "execution_count": 15,
   "metadata": {
    "id": "_3ND-xWBR5Mj",
    "outputId": "17b6f352-6195-4860-97db-b1c1e667abc1"
   },
   "outputs": [
    {
     "data": {
      "text/plain": [
       "0.04554355907886607"
      ]
     },
     "execution_count": 15,
     "metadata": {},
     "output_type": "execute_result"
    }
   ],
   "source": [
    "get_unigram_token_prob('the')"
   ]
  },
  {
   "cell_type": "code",
   "execution_count": 16,
   "metadata": {
    "id": "k93-mBeRR5Mj",
    "outputId": "9365ce49-c5f1-4650-9934-4dd21a43cd36"
   },
   "outputs": [
    {
     "data": {
      "text/plain": [
       "0.0004607764082478977"
      ]
     },
     "execution_count": 16,
     "metadata": {},
     "output_type": "execute_result"
    }
   ],
   "source": [
    "get_unigram_token_prob('apple')"
   ]
  },
  {
   "cell_type": "code",
   "execution_count": 17,
   "metadata": {
    "id": "uO3Nqy8KR5Mj"
   },
   "outputs": [],
   "source": [
    "def get_text_prob_unigram(text):\n",
    "    tokens = get_tokens(text)\n",
    "    logp = 0\n",
    "    for t in tokens[1:-1]:\n",
    "        logp += np.log(get_unigram_token_prob(t))\n",
    "    return logp"
   ]
  },
  {
   "cell_type": "code",
   "execution_count": 18,
   "metadata": {
    "id": "Nkb9HJaER5Mj",
    "outputId": "e7cc8664-ed43-4871-a73a-2c98be63df9c"
   },
   "outputs": [
    {
     "data": {
      "text/plain": [
       "-13.125937335501064"
      ]
     },
     "execution_count": 18,
     "metadata": {},
     "output_type": "execute_result"
    }
   ],
   "source": [
    "get_text_prob_unigram('apple inc')"
   ]
  },
  {
   "cell_type": "code",
   "execution_count": 19,
   "metadata": {
    "id": "h0L5K_9SR5Mj",
    "outputId": "7201c83f-cab3-4ac8-8aa8-f3952af4639f"
   },
   "outputs": [
    {
     "data": {
      "text/plain": [
       "-13.125937335501064"
      ]
     },
     "execution_count": 19,
     "metadata": {},
     "output_type": "execute_result"
    }
   ],
   "source": [
    "get_text_prob_unigram('inc apple')"
   ]
  },
  {
   "cell_type": "code",
   "execution_count": 20,
   "metadata": {
    "id": "5z9_nm9HR5Mj",
    "outputId": "c6c79000-0941-481a-9062-5bb5b060e200"
   },
   "outputs": [
    {
     "data": {
      "text/plain": [
       "-17.357625459234043"
      ]
     },
     "execution_count": 20,
     "metadata": {},
     "output_type": "execute_result"
    }
   ],
   "source": [
    "get_text_prob_unigram('apple steve')"
   ]
  },
  {
   "cell_type": "code",
   "execution_count": 21,
   "metadata": {
    "id": "NmhgMMFoR5Mk"
   },
   "outputs": [],
   "source": [
    "def get_bigram_token_prob(token1, token2):\n",
    "    return bigram_counts[token1 + ' ' + token2] / unigram_counts[token1]"
   ]
  },
  {
   "cell_type": "code",
   "execution_count": 22,
   "metadata": {
    "id": "6-fJfE5MR5Mk"
   },
   "outputs": [],
   "source": [
    "def get_text_prob_bigram(text):\n",
    "    tokens = get_tokens(text)\n",
    "    logp = 0\n",
    "    for t1, t2 in zip(tokens[1:-1], tokens[2:]):\n",
    "        logp += np.log(get_bigram_token_prob(t1, t2))\n",
    "    return logp"
   ]
  },
  {
   "cell_type": "code",
   "execution_count": 23,
   "metadata": {
    "id": "bKDpNlwYR5Mk",
    "outputId": "fb7a1380-71a0-4724-880f-8cc59f4b508a"
   },
   "outputs": [
    {
     "data": {
      "text/plain": [
       "-2.4449919564614695"
      ]
     },
     "execution_count": 23,
     "metadata": {},
     "output_type": "execute_result"
    }
   ],
   "source": [
    "get_text_prob_bigram('apple inc')"
   ]
  },
  {
   "cell_type": "code",
   "execution_count": 24,
   "metadata": {
    "id": "TlvNpBBRR5Mk",
    "outputId": "d111d1b1-24b1-4962-9d13-81640b2ea49c"
   },
   "outputs": [
    {
     "name": "stderr",
     "output_type": "stream",
     "text": [
      "/var/folders/n7/btm17_wx4qbd75mnb8jvst6w0000gn/T/ipykernel_62993/1581132757.py:5: RuntimeWarning: divide by zero encountered in log\n",
      "  logp += np.log(get_bigram_token_prob(t1, t2))\n"
     ]
    },
    {
     "data": {
      "text/plain": [
       "-inf"
      ]
     },
     "execution_count": 24,
     "metadata": {},
     "output_type": "execute_result"
    }
   ],
   "source": [
    "get_text_prob_bigram('inc apple')"
   ]
  },
  {
   "cell_type": "markdown",
   "metadata": {
    "id": "eHekuU4PR5Mk"
   },
   "source": [
    "## There is a problem that we have glossed over"
   ]
  },
  {
   "cell_type": "code",
   "execution_count": 25,
   "metadata": {
    "id": "jUysO5KgR5Mk",
    "outputId": "ad9f0e13-78ed-40b6-8b56-edb0f78e81fe"
   },
   "outputs": [
    {
     "name": "stderr",
     "output_type": "stream",
     "text": [
      "/var/folders/n7/btm17_wx4qbd75mnb8jvst6w0000gn/T/ipykernel_62993/1322820601.py:5: RuntimeWarning: divide by zero encountered in log\n",
      "  logp += np.log(get_unigram_token_prob(t))\n"
     ]
    },
    {
     "data": {
      "text/plain": [
       "-inf"
      ]
     },
     "execution_count": 25,
     "metadata": {},
     "output_type": "execute_result"
    }
   ],
   "source": [
    "get_text_prob_unigram('dolphin')"
   ]
  },
  {
   "cell_type": "markdown",
   "metadata": {
    "id": "0qIA_PmFR5Ml"
   },
   "source": [
    "## We get a probability of 0 for unknown unigrams! This will make all text have probability 0!\n",
    "## Same for bigrams, so even closed/giant vocabulary doesn't help."
   ]
  },
  {
   "cell_type": "markdown",
   "metadata": {
    "id": "Ip6OmClgR5Ml"
   },
   "source": [
    "## How do we prevent this?"
   ]
  },
  {
   "cell_type": "markdown",
   "metadata": {
    "id": "HHVxJCTnR5Ml"
   },
   "source": [
    "# $ \\\\ $\n",
    "# $ \\\\ $\n",
    "# $ \\\\ $"
   ]
  },
  {
   "cell_type": "markdown",
   "metadata": {
    "id": "3O52wR65R5Ml"
   },
   "source": [
    "## Add count 1 to everything, keep normalized\n",
    "### This is also known as \"Laplace smoothing\""
   ]
  },
  {
   "cell_type": "code",
   "execution_count": 26,
   "metadata": {
    "id": "SNa6yVy5R5Ml"
   },
   "outputs": [],
   "source": [
    "def get_unigram_token_prob(token):\n",
    "    return (unigram_counts[token] + 1) / (n_unigrams + len(unigram_counts))\n",
    "\n",
    "def get_bigram_token_prob(token1, token2):\n",
    "    return (bigram_counts[token1 + ' ' + token2] + 1) / (unigram_counts[token1] + len(unigram_counts))"
   ]
  },
  {
   "cell_type": "code",
   "execution_count": 27,
   "metadata": {
    "id": "nI8wEcR7R5Ml",
    "outputId": "ad40225c-28e7-4732-bc1d-d5dae6d70793"
   },
   "outputs": [
    {
     "data": {
      "text/plain": [
       "-9.174298600628918"
      ]
     },
     "execution_count": 27,
     "metadata": {},
     "output_type": "execute_result"
    }
   ],
   "source": [
    "get_text_prob_bigram('dolphin')"
   ]
  },
  {
   "cell_type": "code",
   "execution_count": 28,
   "metadata": {
    "id": "x4-XMWEDR5Ml",
    "outputId": "d8176a47-475c-4888-dc56-6d614ff07d0c"
   },
   "outputs": [
    {
     "data": {
      "text/plain": [
       "-18.353873731733426"
      ]
     },
     "execution_count": 28,
     "metadata": {},
     "output_type": "execute_result"
    }
   ],
   "source": [
    "get_text_prob_bigram('apple sky')"
   ]
  },
  {
   "cell_type": "markdown",
   "metadata": {
    "id": "W6KLJIROR5Ml"
   },
   "source": [
    "### evaluate perplexity"
   ]
  },
  {
   "cell_type": "markdown",
   "metadata": {
    "id": "6tLY0Z5LR5Mm"
   },
   "source": [
    "#### reminder, for bigrams:\n",
    "$PP(W) = (\\displaystyle\\prod_{k=1}^{N}\\frac{1}{P(w_k|w_{k-1})})^{\\frac{1}{N}}$"
   ]
  },
  {
   "cell_type": "code",
   "execution_count": 29,
   "metadata": {
    "id": "8Qd5LX9PR5Mm"
   },
   "outputs": [],
   "source": [
    "def get_text_ppl_unigram(text):\n",
    "    tokens = get_tokens(text)\n",
    "    n_tokens = len(tokens)\n",
    "    logp = 0\n",
    "    for t in tokens[1:-1]:\n",
    "        logp += np.log(get_unigram_token_prob(t))\n",
    "    return (1 / np.exp(logp))**(1 / n_tokens)\n",
    "\n",
    "def get_text_ppl_bigram(text):\n",
    "    tokens = get_tokens(text)\n",
    "    n_tokens = len(tokens)\n",
    "    logp = 0\n",
    "    for t1, t2 in zip(tokens, tokens[1:-1]):\n",
    "        logp += np.log(get_bigram_token_prob(t1, t2))\n",
    "    return (1 / np.exp(logp))**(1 / n_tokens)"
   ]
  },
  {
   "cell_type": "markdown",
   "metadata": {
    "id": "W8_IMeScR5Mn"
   },
   "source": [
    "### Let's look at a common phrase in our (small) training data"
   ]
  },
  {
   "cell_type": "code",
   "execution_count": 30,
   "metadata": {
    "id": "IkYCY-GMR5Mn",
    "outputId": "ec90a094-3642-4717-9afc-2de08372554c"
   },
   "outputs": [
    {
     "data": {
      "text/plain": [
       "0.00025680778412927893"
      ]
     },
     "execution_count": 30,
     "metadata": {},
     "output_type": "execute_result"
    }
   ],
   "source": [
    "get_unigram_token_prob('exploration')"
   ]
  },
  {
   "cell_type": "code",
   "execution_count": 31,
   "metadata": {
    "id": "ZcdCLzObR5Mn",
    "outputId": "d91aaa1c-5657-4fa1-f785-22ce017480a0"
   },
   "outputs": [
    {
     "data": {
      "text/plain": [
       "0.0011391880695940347"
      ]
     },
     "execution_count": 31,
     "metadata": {},
     "output_type": "execute_result"
    }
   ],
   "source": [
    "get_bigram_token_prob('hydrocarbon', 'exploration')"
   ]
  },
  {
   "cell_type": "code",
   "execution_count": 32,
   "metadata": {
    "id": "P9E-JFVVR5Mn",
    "outputId": "7af611b1-e154-4045-b739-d047341d2692"
   },
   "outputs": [
    {
     "data": {
      "text/plain": [
       "108.80734521775413"
      ]
     },
     "execution_count": 32,
     "metadata": {},
     "output_type": "execute_result"
    }
   ],
   "source": [
    "get_text_ppl_unigram('is a company engaged in hydrocarbon exploration.')"
   ]
  },
  {
   "cell_type": "code",
   "execution_count": 33,
   "metadata": {
    "id": "ECBT8HXfR5Mo",
    "outputId": "90ada14d-6dd7-4929-8b79-62a7b0b4c20c"
   },
   "outputs": [
    {
     "data": {
      "text/plain": [
       "92.31064151724841"
      ]
     },
     "execution_count": 33,
     "metadata": {},
     "output_type": "execute_result"
    }
   ],
   "source": [
    "get_text_ppl_bigram('is a company engaged in hydrocarbon exploration.')"
   ]
  },
  {
   "cell_type": "markdown",
   "metadata": {
    "id": "J9yMUGk6R5Mo"
   },
   "source": [
    "### Not surprisingly our bigram model does better.\n",
    "\n",
    "### What if we look at our whole test set?"
   ]
  },
  {
   "cell_type": "code",
   "execution_count": 34,
   "metadata": {
    "id": "EUtAXfpbR5Mo",
    "outputId": "b6741663-8967-4f0b-8e77-4f5e652c880b"
   },
   "outputs": [
    {
     "data": {
      "text/plain": [
       "604.5126361852824"
      ]
     },
     "execution_count": 34,
     "metadata": {},
     "output_type": "execute_result"
    }
   ],
   "source": [
    "ppl_list = []\n",
    "for text in test_sentences_list:\n",
    "    ppl_list.append(get_text_ppl_unigram(text))\n",
    "np.mean(ppl_list)"
   ]
  },
  {
   "cell_type": "code",
   "execution_count": 35,
   "metadata": {
    "id": "QsKmXARXR5Mo",
    "outputId": "fd682baa-dfe7-418c-dac9-393fd808c9e3"
   },
   "outputs": [
    {
     "data": {
      "text/plain": [
       "892.5030633621313"
      ]
     },
     "execution_count": 35,
     "metadata": {},
     "output_type": "execute_result"
    }
   ],
   "source": [
    "ppl_list = []\n",
    "for text in test_sentences_list:\n",
    "    ppl_list.append(get_text_ppl_bigram(text))\n",
    "np.mean(ppl_list)"
   ]
  },
  {
   "cell_type": "markdown",
   "metadata": {
    "id": "QzhxgMCoR5Mo"
   },
   "source": [
    "## The bigram model perplexity for our test set is actually higher! (overfit)\n",
    "\n",
    "## -> Depending on train data size, vocabulary size, n-gram choice, the results here are a decent guideline, but nothing really substitues extrinsic (on-task) evaluation."
   ]
  },
  {
   "cell_type": "markdown",
   "metadata": {
    "id": "zMz6BHn2R5Mo"
   },
   "source": [
    "# $ \\\\ $\n",
    "# $ \\\\ $\n",
    "# $ \\\\ $"
   ]
  },
  {
   "cell_type": "markdown",
   "metadata": {
    "id": "cfpO4xA3R5Mo"
   },
   "source": [
    "## Example plots for large-scale datasets:\n",
    "\n",
    "![PerplexityFromGoog.png](attachment:image.png)\n",
    "\n",
    "<div style=\"text-align: right\"><small> [ref] deliprao.com/archives/201</small></div>\n",
    "    \n",
    "- ### more training data is better\n",
    "- ### higher ngram is better, usually up to a point (overfitting)"
   ]
  },
  {
   "cell_type": "markdown",
   "metadata": {
    "id": "hafrSr2vR5Mo"
   },
   "source": [
    "# $ \\\\ $\n",
    "# $ \\\\ $\n",
    "# $ \\\\ $"
   ]
  },
  {
   "cell_type": "markdown",
   "metadata": {
    "id": "WDqmuJq3R5Mo"
   },
   "source": [
    "![image.png](SOTANLP.png)\n",
    "<div style=\"text-align: right\"><small>[ref] paperswithcode</small></div>"
   ]
  },
  {
   "cell_type": "markdown",
   "metadata": {
    "id": "KP3S4MfbR5Mo"
   },
   "source": [
    "- ## SOTA drastically improved over the past few years"
   ]
  },
  {
   "cell_type": "markdown",
   "metadata": {
    "id": "v6PAAKONR5Mo"
   },
   "source": [
    "# $ \\\\ $\n",
    "# $ \\\\ $\n",
    "# $ \\\\ $"
   ]
  },
  {
   "cell_type": "markdown",
   "metadata": {
    "id": "6O9FniipR5Mo"
   },
   "source": [
    "## Returning to our problem of unknown word: P(unigram)=0\n",
    "\n",
    "## Adding +1 to every token was a simple way to prevent 0.\n",
    "\n",
    "##\n",
    "\n",
    "## How else can we handle unknown words in test?\n",
    "## or: How do we get a good estimate for how common they are?"
   ]
  },
  {
   "cell_type": "markdown",
   "metadata": {
    "id": "empVwBxYR5Mo"
   },
   "source": [
    "# $ \\\\ $\n",
    "# $ \\\\ $\n",
    "# $ \\\\ $"
   ]
  },
  {
   "cell_type": "markdown",
   "metadata": {
    "id": "BVfRfi7bR5Mo"
   },
   "source": [
    "<div>\n",
    "<img src=\"UnknownWord1.png\" width=\"600px\"/>\n",
    "</div>"
   ]
  },
  {
   "cell_type": "markdown",
   "metadata": {
    "id": "OWVef0gvR5Mp"
   },
   "source": [
    "# $ \\\\ $\n",
    "# $ \\\\ $\n",
    "# $ \\\\ $"
   ]
  },
  {
   "cell_type": "markdown",
   "metadata": {
    "id": "obBxGqXkR5Mp"
   },
   "source": [
    "## Make dedicated Token \\<unk\\> for rare words in train"
   ]
  },
  {
   "cell_type": "markdown",
   "metadata": {
    "id": "AIoIYLb1R5Mp"
   },
   "source": [
    "<div>\n",
    "<img src=\"UnknownWord2.png\" width=\"600px\"/>\n",
    "</div>"
   ]
  },
  {
   "cell_type": "markdown",
   "metadata": {
    "id": "NnP79XSWR5Mp"
   },
   "source": [
    "# $ \\\\ $\n",
    "# $ \\\\ $\n",
    "# $ \\\\ $"
   ]
  },
  {
   "cell_type": "markdown",
   "metadata": {
    "id": "eBWIFR8kR5Mp"
   },
   "source": [
    "## Is there something smarter we can do for unknown n-grams?\n",
    "\n",
    "## Eg: \"computer science\": P(bigram)=0?"
   ]
  },
  {
   "cell_type": "markdown",
   "metadata": {
    "id": "5GEXump9R5Mp"
   },
   "source": [
    "# $ \\\\ $\n",
    "# $ \\\\ $\n",
    "# $ \\\\ $"
   ]
  },
  {
   "cell_type": "markdown",
   "metadata": {
    "id": "h0ATs7j9R5Mp"
   },
   "source": [
    "# $ \\\\ $\n",
    "# $ \\\\ $\n",
    "# $ \\\\ $"
   ]
  },
  {
   "cell_type": "markdown",
   "metadata": {
    "id": "xsBLUG0fR5Mp"
   },
   "source": [
    "## Backoff (see Homework)\n",
    "\n",
    "## Estimate bigram probability via unigram probability\n",
    "\n",
    "### eg bigram $P(w_k|w_{k-1})$ has count 0 so we approximate with unigram $P(w_k)$"
   ]
  },
  {
   "cell_type": "markdown",
   "metadata": {
    "id": "8vAgE5OhR5Mp"
   },
   "source": [
    "# $ \\\\ $\n",
    "# $ \\\\ $\n",
    "# $ \\\\ $"
   ]
  },
  {
   "cell_type": "markdown",
   "metadata": {
    "id": "sYcSOTFZR5Mp"
   },
   "source": [
    "## Public use of n-gram models"
   ]
  },
  {
   "cell_type": "markdown",
   "metadata": {
    "id": "6NS-r16KR5Mp"
   },
   "source": [
    "![image.png](GoogleNGram.png)"
   ]
  },
  {
   "cell_type": "markdown",
   "metadata": {
    "id": "JiLkiypYR5Mp"
   },
   "source": [
    "# $ \\\\ $\n",
    "# $ \\\\ $\n",
    "# $ \\\\ $"
   ]
  },
  {
   "cell_type": "markdown",
   "metadata": {
    "id": "3yJyyQBUR5Mp"
   },
   "source": [
    "## Kenlm - An integrated n-gram LM framework\n",
    "\n",
    "### `pip install https://github.com/kpu/kenlm/archive/master.zip`\n",
    "\n",
    "- ### easy building of model\n",
    "- ### advanced smoothing\n",
    "- ### fast, small memory footprint, optimized for querying"
   ]
  },
  {
   "cell_type": "code",
   "execution_count": 42,
   "metadata": {
    "id": "kyYPVdouR5Mp"
   },
   "outputs": [
    {
     "name": "stdout",
     "output_type": "stream",
     "text": [
      "zsh:1: /usr/local/bin/pip: bad interpreter: /usr/local/opt/python@3.11/bin/python3.11: no such file or directory\n",
      "Requirement already satisfied: kenlm in /Users/Andrew/Library/Caches/pypoetry/virtualenvs/ssml-mR-Cegl2-py3.11/lib/python3.11/site-packages (0.2.0)\n"
     ]
    }
   ],
   "source": [
    "# Install kenlm package\n",
    "!pip install kenlm\n",
    "import kenlm"
   ]
  },
  {
   "cell_type": "markdown",
   "metadata": {
    "id": "HeQynONMR5Mp"
   },
   "source": [
    "### 4-gram model, 200k vocab - 11Gb"
   ]
  },
  {
   "cell_type": "code",
   "execution_count": 43,
   "metadata": {
    "id": "5wJC0hrDR5Mp"
   },
   "outputs": [],
   "source": [
    "# https://dl.fbaipublicfiles.com/wav2letter/lexicon_free/librispeech/models/lm/lm_librispeech_kenlm_word_4g_200kvocab.bin"
   ]
  },
  {
   "cell_type": "code",
   "execution_count": 44,
   "metadata": {
    "id": "jdZLOSM7R5Mp"
   },
   "outputs": [],
   "source": [
    "model = kenlm.Model('lm_librispeech_kenlm_word_4g_200kvocab.bin')"
   ]
  },
  {
   "cell_type": "code",
   "execution_count": 46,
   "metadata": {
    "id": "-gKi9vOgR5Mp",
    "outputId": "c1c25e39-eb1a-4e2a-cc03-8ba3ce5984e7"
   },
   "outputs": [
    {
     "name": "stdout",
     "output_type": "stream",
     "text": [
      "Sentence score: -208.19174194335938 \n",
      "\n",
      "\n",
      "CPU times: user 543 μs, sys: 142 μs, total: 685 μs\n",
      "Wall time: 1.82 ms\n"
     ]
    }
   ],
   "source": [
    "%%time\n",
    "sentence = \"\"\"\n",
    "After adding nearly 27 million new paying subscribers in the first six months of 2020, Netflix warned investors to brace for a slowdown. Analysts expect only 3.8 million new paid subscribers for the third quarter when Netflix reports results Tuesday afternoon. That would mark its lowest quarterly pickup in more than a year\n",
    "\"\"\".lower()\n",
    "print(\"Sentence score:\", model.score(sentence), \"\\n\\n\")"
   ]
  },
  {
   "cell_type": "markdown",
   "metadata": {
    "id": "_xVg9aC8R5Mq"
   },
   "source": [
    "### Example: sentence likelihood"
   ]
  },
  {
   "cell_type": "code",
   "execution_count": 47,
   "metadata": {
    "id": "AlJ0VDukR5Mq",
    "outputId": "c691285d-f4d5-4562-e0cf-8fdf110fe19f"
   },
   "outputs": [
    {
     "data": {
      "text/plain": [
       "-33.94782638549805"
      ]
     },
     "execution_count": 47,
     "metadata": {},
     "output_type": "execute_result"
    }
   ],
   "source": [
    "sentence = \"ate yesterday burger at i a mit\"\n",
    "model.score(sentence)"
   ]
  },
  {
   "cell_type": "code",
   "execution_count": 48,
   "metadata": {
    "id": "2Ao50E0lR5Mq",
    "outputId": "59efc0b9-1ae7-4339-9862-de0e39640dbc"
   },
   "outputs": [
    {
     "data": {
      "text/plain": [
       "-27.17040252685547"
      ]
     },
     "execution_count": 48,
     "metadata": {},
     "output_type": "execute_result"
    }
   ],
   "source": [
    "sentence = \"yesterday i ate a mit at burger\"\n",
    "model.score(sentence)"
   ]
  },
  {
   "cell_type": "code",
   "execution_count": 49,
   "metadata": {
    "id": "_lyfdDDnR5Mq",
    "outputId": "e68553e5-6d65-4ae0-cc54-0ae61109dcdc"
   },
   "outputs": [
    {
     "data": {
      "text/plain": [
       "-25.033166885375977"
      ]
     },
     "execution_count": 49,
     "metadata": {},
     "output_type": "execute_result"
    }
   ],
   "source": [
    "sentence = \"yesterday i ate a burger at mit\"\n",
    "model.score(sentence)"
   ]
  },
  {
   "cell_type": "code",
   "execution_count": 50,
   "metadata": {},
   "outputs": [
    {
     "data": {
      "text/plain": [
       "-23.912525177001953"
      ]
     },
     "execution_count": 50,
     "metadata": {},
     "output_type": "execute_result"
    }
   ],
   "source": [
    "sentence = \"I went to the beach to food\"\n",
    "model.score(sentence)"
   ]
  },
  {
   "cell_type": "markdown",
   "metadata": {
    "id": "KMA4_X80R5Mq"
   },
   "source": [
    "### Example: predict next word"
   ]
  },
  {
   "cell_type": "code",
   "execution_count": 51,
   "metadata": {
    "id": "i-ZPbEttR5Mq",
    "outputId": "fe133c3a-f2dd-45ae-902b-89aaafa44c84"
   },
   "outputs": [
    {
     "data": {
      "text/plain": [
       "-6.967015266418457"
      ]
     },
     "execution_count": 51,
     "metadata": {},
     "output_type": "execute_result"
    }
   ],
   "source": [
    "model.score(\"wet\")"
   ]
  },
  {
   "cell_type": "code",
   "execution_count": 52,
   "metadata": {
    "id": "y8Oay4FAR5Mq",
    "outputId": "335f3d06-22d9-4476-9f44-1f3f064a3e39"
   },
   "outputs": [
    {
     "data": {
      "text/plain": [
       "-6.306774616241455"
      ]
     },
     "execution_count": 52,
     "metadata": {},
     "output_type": "execute_result"
    }
   ],
   "source": [
    "model.score(\"red\")"
   ]
  },
  {
   "cell_type": "markdown",
   "metadata": {
    "id": "AF4XX_CWR5Mq"
   },
   "source": [
    "### `\"red\"` is more likely than `\"wet\"`\n",
    "\n",
    "### What if we try to complete the sentence: \"ocean water is\"\n",
    "### `\"wet\"` more likely than `\"red\"`?"
   ]
  },
  {
   "cell_type": "code",
   "execution_count": 53,
   "metadata": {
    "id": "oehIzbv5R5Mq"
   },
   "outputs": [
    {
     "name": "stdout",
     "output_type": "stream",
     "text": [
      "wet -14.039976119995117\n",
      "red -15.215217590332031\n",
      "desktop -19.074228286743164\n",
      "xyz... -20.774600982666016\n"
     ]
    }
   ],
   "source": [
    "sentence = \"ocean water is\"\n",
    "for token in [\"wet\", \"red\", \"desktop\", \"xyz...\"]:\n",
    "    print(token, model.score(sentence + \" \" + token))"
   ]
  },
  {
   "cell_type": "markdown",
   "metadata": {
    "id": "li1ip-gfR5Mq"
   },
   "source": [
    "# $ \\\\ $\n",
    "# $ \\\\ $\n",
    "# $ \\\\ $"
   ]
  },
  {
   "cell_type": "markdown",
   "metadata": {
    "id": "hukrYOvJR5Mq"
   },
   "source": [
    "## Optional continued reading\n",
    "\n",
    "- ### Kneser-Ney Smoothing\n",
    "    - #### http://smithamilli.com/blog/kneser-ney/\n",
    "\n",
    "- ### Kenlm\n",
    "    - #### https://kheafield.com/code/kenlm/\n",
    "    - #### https://www.aclweb.org/anthology/P13-2121.pdf"
   ]
  },
  {
   "cell_type": "markdown",
   "metadata": {
    "id": "4fEeiVSWR5Mq"
   },
   "source": [
    "# $ \\\\ $\n",
    "# $ \\\\ $\n",
    "# $ \\\\ $"
   ]
  },
  {
   "cell_type": "code",
   "execution_count": null,
   "metadata": {
    "id": "cmwO5j4-R5Mq"
   },
   "outputs": [],
   "source": []
  },
  {
   "cell_type": "code",
   "execution_count": null,
   "metadata": {
    "id": "sNozZe0sR5Mq"
   },
   "outputs": [],
   "source": []
  },
  {
   "cell_type": "code",
   "execution_count": null,
   "metadata": {
    "id": "MqVqn76AR5Mq"
   },
   "outputs": [],
   "source": []
  },
  {
   "cell_type": "code",
   "execution_count": null,
   "metadata": {
    "id": "GyLly0E2R5Mr"
   },
   "outputs": [],
   "source": []
  },
  {
   "cell_type": "code",
   "execution_count": null,
   "metadata": {
    "id": "8bnjN4OuR5Mr"
   },
   "outputs": [],
   "source": []
  },
  {
   "cell_type": "code",
   "execution_count": null,
   "metadata": {
    "id": "byd5etKNR5Mr"
   },
   "outputs": [],
   "source": []
  },
  {
   "cell_type": "code",
   "execution_count": null,
   "metadata": {
    "id": "8vvEU9lxR5Mr"
   },
   "outputs": [],
   "source": []
  }
 ],
 "metadata": {
  "colab": {
   "provenance": []
  },
  "kernelspec": {
   "display_name": "Python 3 (ipykernel)",
   "language": "python",
   "name": "python3"
  },
  "language_info": {
   "codemirror_mode": {
    "name": "ipython",
    "version": 3
   },
   "file_extension": ".py",
   "mimetype": "text/x-python",
   "name": "python",
   "nbconvert_exporter": "python",
   "pygments_lexer": "ipython3",
   "version": "3.11.9"
  }
 },
 "nbformat": 4,
 "nbformat_minor": 0
}
