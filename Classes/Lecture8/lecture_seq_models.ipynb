{
 "cells": [
  {
   "cell_type": "code",
   "execution_count": 1,
   "id": "558ae631",
   "metadata": {},
   "outputs": [
    {
     "name": "stdout",
     "output_type": "stream",
     "text": [
      "%pylab is deprecated, use %matplotlib inline and import the required libraries.\n",
      "Populating the interactive namespace from numpy and matplotlib\n"
     ]
    }
   ],
   "source": [
    "%pylab inline"
   ]
  },
  {
   "cell_type": "code",
   "execution_count": 2,
   "id": "f5f55275",
   "metadata": {},
   "outputs": [],
   "source": [
    "import re\n",
    "\n",
    "import numpy as np\n",
    "import pandas as pd"
   ]
  },
  {
   "cell_type": "markdown",
   "id": "0329ad07",
   "metadata": {},
   "source": [
    "# TODAY!\n",
    "\n",
    "## - Sequence Models\n",
    "\n",
    "## - Neural Embeddings\n",
    "\n",
    "## - (Large) Language Modeling"
   ]
  },
  {
   "cell_type": "markdown",
   "id": "d85d9143",
   "metadata": {},
   "source": [
    "# $ \\\\ $\n",
    "# $ \\\\ $"
   ]
  },
  {
   "cell_type": "markdown",
   "id": "f311678b",
   "metadata": {},
   "source": [
    "# $ \\\\ $\n",
    "# $ \\\\ $"
   ]
  },
  {
   "cell_type": "markdown",
   "id": "08c0f60c",
   "metadata": {},
   "source": [
    "## We have learned about respecting the text input sequence"
   ]
  },
  {
   "cell_type": "markdown",
   "id": "ec57f878",
   "metadata": {},
   "source": [
    "<div>\n",
    "<img src=\"NN.png\" width=\"600px\"/>\n",
    "</div>"
   ]
  },
  {
   "cell_type": "markdown",
   "id": "d2597e51",
   "metadata": {},
   "source": [
    "## What are some examples of text classification?"
   ]
  },
  {
   "cell_type": "markdown",
   "id": "fdd3e7ff",
   "metadata": {},
   "source": [
    "# $ \\\\ $\n",
    "# $ \\\\ $"
   ]
  },
  {
   "cell_type": "markdown",
   "id": "aa28cfdf",
   "metadata": {},
   "source": [
    "# $ \\\\ $\n",
    "# $ \\\\ $"
   ]
  },
  {
   "cell_type": "markdown",
   "id": "11fc0ab4",
   "metadata": {},
   "source": [
    "- ### Topic modeling\n",
    "- ### Spam detection\n",
    "- ### Sentiment analysis"
   ]
  },
  {
   "cell_type": "markdown",
   "id": "f702b702",
   "metadata": {},
   "source": [
    "# $ \\\\ $\n",
    "# $ \\\\ $\n",
    "# $ \\\\ $"
   ]
  },
  {
   "cell_type": "markdown",
   "id": "51f53923",
   "metadata": {},
   "source": [
    "### Example Keras Nework:\n",
    "\n",
    "#### sequence length == 5\n",
    "\n",
    "```\n",
    "\n",
    "word_input = Input()  \n",
    "# shape (5,)\n",
    "\n",
    "embedded_words = Embedding()(word_input)  \n",
    "# shape (5, embed_dim)\n",
    "\n",
    "hidden = MyAwesomeLayer()(embedded_words)\n",
    "# shape (hidden_dim)\n",
    "\n",
    "output = Dense(NUM_CLASSES, activation='softmax')(hidden)\n",
    "# shape (2,)\n",
    "```"
   ]
  },
  {
   "cell_type": "markdown",
   "id": "d4f105bf",
   "metadata": {},
   "source": [
    "# $ \\\\ $\n",
    "# $ \\\\ $\n",
    "# $ \\\\ $"
   ]
  },
  {
   "cell_type": "markdown",
   "id": "7889857f",
   "metadata": {},
   "source": [
    "## Sequence-level Output"
   ]
  },
  {
   "cell_type": "markdown",
   "id": "53d26fec",
   "metadata": {},
   "source": [
    "<div>\n",
    "<img src=\"NN2.png\" width=\"600px\"/>\n",
    "</div>"
   ]
  },
  {
   "cell_type": "markdown",
   "id": "ab874270",
   "metadata": {},
   "source": [
    "## What are some examples?"
   ]
  },
  {
   "cell_type": "markdown",
   "id": "451f355a",
   "metadata": {},
   "source": [
    "# $ \\\\ $\n",
    "# $ \\\\ $"
   ]
  },
  {
   "cell_type": "markdown",
   "id": "449077a6",
   "metadata": {},
   "source": [
    "# $ \\\\ $\n",
    "# $ \\\\ $"
   ]
  },
  {
   "cell_type": "markdown",
   "id": "6d3a34f2",
   "metadata": {},
   "source": [
    "- ### Extractive summarization\n",
    "- ### Named Entity detection\n",
    "- ### Speech recognition?"
   ]
  },
  {
   "cell_type": "markdown",
   "id": "7f540d30",
   "metadata": {},
   "source": [
    "# $ \\\\ $\n",
    "# $ \\\\ $\n",
    "# $ \\\\ $"
   ]
  },
  {
   "cell_type": "markdown",
   "id": "271fe89e",
   "metadata": {},
   "source": [
    "### Example Keras Nework:\n",
    "\n",
    "#### sequence length == 5\n",
    "\n",
    "```\n",
    "word_input = Input()  \n",
    "# shape (5,)\n",
    "\n",
    "embedded_words = Embedding()(word_input)  \n",
    "# shape (5, embed_dim)\n",
    "\n",
    "hidden = MyAwesomeLayer()(embedded_words)\n",
    "# shape (5, hidden_dim)\n",
    "\n",
    "output = Dense(NUM_CLASSES, activation='softmax')(hidden)\n",
    "# shape (5, NUM_CLASSES)\n",
    "```"
   ]
  },
  {
   "cell_type": "markdown",
   "id": "daa9323d",
   "metadata": {},
   "source": [
    "# $ \\\\ $\n",
    "# $ \\\\ $\n",
    "# $ \\\\ $"
   ]
  },
  {
   "cell_type": "markdown",
   "id": "e01a8964",
   "metadata": {},
   "source": [
    "## For our network we can choose a Dense layer, a CNN, an RNN/LSTM.\n",
    "## What should we do?"
   ]
  },
  {
   "cell_type": "markdown",
   "id": "78da57a5",
   "metadata": {},
   "source": [
    "# $ \\\\ $\n",
    "# $ \\\\ $\n",
    "# $ \\\\ $"
   ]
  },
  {
   "cell_type": "markdown",
   "id": "02854388",
   "metadata": {},
   "source": [
    "# $ \\\\ $\n",
    "# $ \\\\ $\n",
    "# $ \\\\ $"
   ]
  },
  {
   "cell_type": "markdown",
   "id": "6fa1aa0f",
   "metadata": {},
   "source": [
    "### Let's choose RNNs and stack a few layers"
   ]
  },
  {
   "cell_type": "markdown",
   "id": "db243cfd",
   "metadata": {},
   "source": [
    "<div>\n",
    "<img src=\"RNN.png\" width=\"500px\"/>\n",
    "</div>"
   ]
  },
  {
   "cell_type": "markdown",
   "id": "66492482",
   "metadata": {},
   "source": [
    "# $ \\\\ $\n",
    "# $ \\\\ $"
   ]
  },
  {
   "cell_type": "markdown",
   "id": "683e4163",
   "metadata": {},
   "source": [
    "### Example Keras Nework\n",
    "\n",
    "#### sequence length == 5\n",
    "\n",
    "```\n",
    "word_input = Input()  \n",
    "# shape (5,)\n",
    "\n",
    "embedded_words = Embedding()(word_input)  \n",
    "# shape (5, embed_dim)\n",
    "\n",
    "hidden = LSTM(return_sequences=True)(embedded_words)\n",
    "# shape (5, hidden_dim_1)\n",
    "\n",
    "hidden = LSTM(return_sequences=True)(hidden)\n",
    "# shape (5, hidden_dim_2)\n",
    "\n",
    "output = Dense(NUM_CLASSES, activation='softmax')(hidden)\n",
    "# shape (5, 2)\n",
    "```"
   ]
  },
  {
   "cell_type": "markdown",
   "id": "1aa79025",
   "metadata": {},
   "source": [
    "# $ \\\\ $\n",
    "# $ \\\\ $"
   ]
  },
  {
   "cell_type": "markdown",
   "id": "70ccd61a",
   "metadata": {},
   "source": [
    "### We can add bi-directionality"
   ]
  },
  {
   "cell_type": "markdown",
   "id": "9f4ceec1",
   "metadata": {},
   "source": [
    "<div>\n",
    "<img src=\"RNN2.png\" width=\"500px\"/>\n",
    "</div>"
   ]
  },
  {
   "cell_type": "markdown",
   "id": "25f5124d",
   "metadata": {},
   "source": [
    "# $ \\\\ $\n",
    "# $ \\\\ $"
   ]
  },
  {
   "cell_type": "markdown",
   "id": "542a4bb4",
   "metadata": {},
   "source": [
    "### Example Keras Nework\n",
    "\n",
    "#### sequence length == 5\n",
    "\n",
    "```\n",
    "word_input = Input()  \n",
    "# shape (5,)\n",
    "\n",
    "embedded_words = Embedding()(word_input)  \n",
    "# shape (5, embed_dim)\n",
    "\n",
    "hidden = Bidirectional(LSTM(return_sequences=True))(embedded_words)\n",
    "# shape (5, 2 x hidden_dim_1)\n",
    "\n",
    "hidden = Bidirectional(LSTM(return_sequences=True))(hidden)\n",
    "# shape (5, 2 x hidden_dim_2)\n",
    "\n",
    "output = Dense(NUM_CLASSES, activation='softmax')(hidden)\n",
    "# shape (5, 2)\n",
    "```"
   ]
  },
  {
   "cell_type": "code",
   "execution_count": 3,
   "id": "4edcd6cc",
   "metadata": {},
   "outputs": [
    {
     "name": "stdout",
     "output_type": "stream",
     "text": [
      "\u001b[1;31mInit signature:\u001b[0m\n",
      "\u001b[0mBidirectional\u001b[0m\u001b[1;33m(\u001b[0m\u001b[1;33m\n",
      "\u001b[0m    \u001b[0mlayer\u001b[0m\u001b[1;33m,\u001b[0m\u001b[1;33m\n",
      "\u001b[0m    \u001b[0mmerge_mode\u001b[0m\u001b[1;33m=\u001b[0m\u001b[1;34m'concat'\u001b[0m\u001b[1;33m,\u001b[0m\u001b[1;33m\n",
      "\u001b[0m    \u001b[0mweights\u001b[0m\u001b[1;33m=\u001b[0m\u001b[1;32mNone\u001b[0m\u001b[1;33m,\u001b[0m\u001b[1;33m\n",
      "\u001b[0m    \u001b[0mbackward_layer\u001b[0m\u001b[1;33m=\u001b[0m\u001b[1;32mNone\u001b[0m\u001b[1;33m,\u001b[0m\u001b[1;33m\n",
      "\u001b[0m    \u001b[1;33m**\u001b[0m\u001b[0mkwargs\u001b[0m\u001b[1;33m,\u001b[0m\u001b[1;33m\n",
      "\u001b[0m\u001b[1;33m)\u001b[0m\u001b[1;33m\u001b[0m\u001b[1;33m\u001b[0m\u001b[0m\n",
      "\u001b[1;31mDocstring:\u001b[0m     \n",
      "Bidirectional wrapper for RNNs.\n",
      "\n",
      "Args:\n",
      "  layer: `keras.layers.RNN` instance, such as `keras.layers.LSTM` or\n",
      "    `keras.layers.GRU`. It could also be a `keras.layers.Layer` instance\n",
      "    that meets the following criteria:\n",
      "    1. Be a sequence-processing layer (accepts 3D+ inputs).\n",
      "    2. Have a `go_backwards`, `return_sequences` and `return_state`\n",
      "      attribute (with the same semantics as for the `RNN` class).\n",
      "    3. Have an `input_spec` attribute.\n",
      "    4. Implement serialization via `get_config()` and `from_config()`.\n",
      "    Note that the recommended way to create new RNN layers is to write a\n",
      "    custom RNN cell and use it with `keras.layers.RNN`, instead of\n",
      "    subclassing `keras.layers.Layer` directly.\n",
      "    - When the `returns_sequences` is true, the output of the masked\n",
      "    timestep will be zero regardless of the layer's original\n",
      "    `zero_output_for_mask` value.\n",
      "  merge_mode: Mode by which outputs of the forward and backward RNNs will be\n",
      "    combined. One of {'sum', 'mul', 'concat', 'ave', None}. If None, the\n",
      "    outputs will not be combined, they will be returned as a list. Default\n",
      "    value is 'concat'.\n",
      "  backward_layer: Optional `keras.layers.RNN`, or `keras.layers.Layer`\n",
      "    instance to be used to handle backwards input processing.\n",
      "    If `backward_layer` is not provided, the layer instance passed as the\n",
      "    `layer` argument will be used to generate the backward layer\n",
      "    automatically.\n",
      "    Note that the provided `backward_layer` layer should have properties\n",
      "    matching those of the `layer` argument, in particular it should have the\n",
      "    same values for `stateful`, `return_states`, `return_sequences`, etc.\n",
      "    In addition, `backward_layer` and `layer` should have different\n",
      "    `go_backwards` argument values.\n",
      "    A `ValueError` will be raised if these requirements are not met.\n",
      "\n",
      "Call arguments:\n",
      "  The call arguments for this layer are the same as those of the wrapped RNN\n",
      "    layer.\n",
      "  Beware that when passing the `initial_state` argument during the call of\n",
      "  this layer, the first half in the list of elements in the `initial_state`\n",
      "  list will be passed to the forward RNN call and the last half in the list\n",
      "  of elements will be passed to the backward RNN call.\n",
      "\n",
      "Raises:\n",
      "  ValueError:\n",
      "    1. If `layer` or `backward_layer` is not a `Layer` instance.\n",
      "    2. In case of invalid `merge_mode` argument.\n",
      "    3. If `backward_layer` has mismatched properties compared to `layer`.\n",
      "\n",
      "Examples:\n",
      "\n",
      "```python\n",
      "model = Sequential()\n",
      "model.add(Bidirectional(LSTM(10, return_sequences=True),\n",
      "                             input_shape=(5, 10)))\n",
      "model.add(Bidirectional(LSTM(10)))\n",
      "model.add(Dense(5))\n",
      "model.add(Activation('softmax'))\n",
      "model.compile(loss='categorical_crossentropy', optimizer='rmsprop')\n",
      "\n",
      "# With custom backward layer\n",
      "model = Sequential()\n",
      "forward_layer = LSTM(10, return_sequences=True)\n",
      "backward_layer = LSTM(10, activation='relu', return_sequences=True,\n",
      "                      go_backwards=True)\n",
      "model.add(Bidirectional(forward_layer, backward_layer=backward_layer,\n",
      "                        input_shape=(5, 10)))\n",
      "model.add(Dense(5))\n",
      "model.add(Activation('softmax'))\n",
      "model.compile(loss='categorical_crossentropy', optimizer='rmsprop')\n",
      "```\n",
      "\u001b[1;31mFile:\u001b[0m           c:\\users\\rob6694\\miniconda3\\envs\\nick\\lib\\site-packages\\keras\\layers\\rnn\\bidirectional.py\n",
      "\u001b[1;31mType:\u001b[0m           type\n",
      "\u001b[1;31mSubclasses:\u001b[0m     "
     ]
    }
   ],
   "source": [
    "from tensorflow.keras.layers import Input, Dense, Embedding, LSTM, Bidirectional\n",
    "\n",
    "Bidirectional?"
   ]
  },
  {
   "cell_type": "markdown",
   "id": "9d18b378",
   "metadata": {},
   "source": [
    "# $ \\\\ $\n",
    "# $ \\\\ $"
   ]
  },
  {
   "cell_type": "markdown",
   "id": "45d7344a",
   "metadata": {},
   "source": [
    "## Example: Text Capitalization"
   ]
  },
  {
   "cell_type": "markdown",
   "id": "3a24aaf4",
   "metadata": {},
   "source": [
    "### Task:\n",
    "\n",
    "### Input: `yesterday, i went to whole foods.`\n",
    "\n",
    "### Output: `Yesterday, I went to Whole Foods.`"
   ]
  },
  {
   "cell_type": "markdown",
   "id": "98defee0",
   "metadata": {},
   "source": [
    "## How do we frame this task?"
   ]
  },
  {
   "cell_type": "markdown",
   "id": "f7f30d35",
   "metadata": {},
   "source": [
    "# $ \\\\ $\n",
    "# $ \\\\ $\n",
    "# $ \\\\ $"
   ]
  },
  {
   "cell_type": "markdown",
   "id": "9a031d9e",
   "metadata": {},
   "source": [
    "# $ \\\\ $\n",
    "# $ \\\\ $\n",
    "# $ \\\\ $"
   ]
  },
  {
   "cell_type": "markdown",
   "id": "fd88b3ca",
   "metadata": {},
   "source": [
    "### Tokenize: `yesterday`, `,`, `i`, `went`, `to`, `whole`, `foods`, `.`\n",
    "\n",
    "### Vocab Index: `#172`, `#3`, `#11`, `#42`, `#28`, `#920`, `#86`, `#2`\n",
    "\n",
    "### Embed, Model, etc\n",
    "\n",
    "### Output (needs cap): `1`, `0`, `1`, `0`, `0`, `1`, `1`, `0`\n",
    "- #### `yesterday` - `1`\n",
    "- #### `,` - `0`\n",
    "- #### `i` - `1`\n",
    "- #### `went` - `0`\n",
    "- #### `to` - `0`\n",
    "- #### `whole` - `1`\n",
    "- #### `foods` - `1`\n",
    "- #### `.` - `0`"
   ]
  },
  {
   "cell_type": "markdown",
   "id": "c5d6d009",
   "metadata": {},
   "source": [
    "# $ \\\\ $\n",
    "# $ \\\\ $\n",
    "# $ \\\\ $"
   ]
  },
  {
   "cell_type": "markdown",
   "id": "e6743752",
   "metadata": {},
   "source": [
    "## Let's write some code"
   ]
  },
  {
   "cell_type": "code",
   "execution_count": 4,
   "id": "d8c1d35e",
   "metadata": {},
   "outputs": [],
   "source": [
    "wiki_df = pd.read_csv('../data/kdwd_r1k_articles.csv')\n",
    "train_text = '\\n'.join(wiki_df['intro_text'].iloc[:700])\n",
    "val_text = '\\n'.join(wiki_df['intro_text'].iloc[700:])"
   ]
  },
  {
   "cell_type": "markdown",
   "id": "14d4779f",
   "metadata": {},
   "source": [
    "## How do we tokenize? is whitespace splitting a good idea?"
   ]
  },
  {
   "cell_type": "markdown",
   "id": "81d51739",
   "metadata": {},
   "source": [
    "# $ \\\\ $\n",
    "# $ \\\\ $\n",
    "# $ \\\\ $"
   ]
  },
  {
   "cell_type": "markdown",
   "id": "a47abae0",
   "metadata": {},
   "source": [
    "## eg `r'[A-Za-z]+|[^\\s]` to make sure we get every symbole like `.` individually"
   ]
  },
  {
   "cell_type": "code",
   "execution_count": 5,
   "id": "178a8298",
   "metadata": {},
   "outputs": [],
   "source": [
    "def tokenize(text):\n",
    "    return re.findall(r'[A-Za-z]+|[^\\s]', text)"
   ]
  },
  {
   "cell_type": "code",
   "execution_count": 6,
   "id": "e3731511",
   "metadata": {},
   "outputs": [],
   "source": [
    "train_tokens = tokenize(train_text)\n",
    "val_tokens = tokenize(val_text)"
   ]
  },
  {
   "cell_type": "markdown",
   "id": "36183846",
   "metadata": {},
   "source": [
    "## How do we deal with variable sequence length?"
   ]
  },
  {
   "cell_type": "markdown",
   "id": "43715632",
   "metadata": {},
   "source": [
    "# $ \\\\ $\n",
    "# $ \\\\ $\n",
    "# $ \\\\ $"
   ]
  },
  {
   "cell_type": "markdown",
   "id": "873a5d3c",
   "metadata": {},
   "source": [
    "## Instead of padding (see homework), let's keep a moving fixed window of eg 10 words"
   ]
  },
  {
   "cell_type": "code",
   "execution_count": 7,
   "id": "cc366f55",
   "metadata": {},
   "outputs": [],
   "source": [
    "chunk_len = 10\n",
    "\n",
    "train_chunks = []\n",
    "for n in range(len(train_tokens) // chunk_len):\n",
    "    train_chunks.append(train_tokens[n * chunk_len: (n + 1) * chunk_len])\n",
    "    \n",
    "val_chunks = []\n",
    "for n in range(len(val_tokens) // chunk_len):\n",
    "    val_chunks.append(val_tokens[n * chunk_len: (n + 1) * chunk_len])"
   ]
  },
  {
   "cell_type": "code",
   "execution_count": 8,
   "id": "0154689c",
   "metadata": {},
   "outputs": [
    {
     "name": "stdout",
     "output_type": "stream",
     "text": [
      "11701 train chunks\n",
      "751 val chunks\n"
     ]
    }
   ],
   "source": [
    "print(len(train_chunks), 'train chunks')\n",
    "print(len(val_chunks), 'val chunks')"
   ]
  },
  {
   "cell_type": "code",
   "execution_count": 9,
   "id": "ba1b7c60",
   "metadata": {},
   "outputs": [
    {
     "data": {
      "text/plain": [
       "['Apple',\n",
       " 'Inc',\n",
       " '.',\n",
       " 'is',\n",
       " 'an',\n",
       " 'American',\n",
       " 'multinational',\n",
       " 'technology',\n",
       " 'company',\n",
       " 'headquartered']"
      ]
     },
     "execution_count": 9,
     "metadata": {},
     "output_type": "execute_result"
    }
   ],
   "source": [
    "train_chunks[0]"
   ]
  },
  {
   "cell_type": "markdown",
   "id": "d04d52ba",
   "metadata": {},
   "source": [
    "## $ \\\\ $\n",
    "## $ \\\\ $\n",
    "## $ \\\\ $"
   ]
  },
  {
   "cell_type": "markdown",
   "id": "3ff9583c",
   "metadata": {},
   "source": [
    "### Make target: 0/1 indicators for \"needs_capitalization\""
   ]
  },
  {
   "cell_type": "code",
   "execution_count": 10,
   "id": "8ae630ee",
   "metadata": {},
   "outputs": [],
   "source": [
    "# [('Apple', 1),\n",
    "#  ('Inc', 1),\n",
    "#  ('.', 0),\n",
    "#  ('is', 0),\n",
    "#  ('an', 0),\n",
    "#  ('American', 1),\n",
    "#  ('multinational', 0),\n",
    "#  ('technology', 0),\n",
    "#  ('company', 0),\n",
    "#  ('headquartered', 0)]"
   ]
  },
  {
   "cell_type": "code",
   "execution_count": 11,
   "id": "0bb45ad3",
   "metadata": {},
   "outputs": [],
   "source": [
    "train_chunks_target = []\n",
    "for chunk in train_chunks:\n",
    "    chunk_target = []\n",
    "    for token in chunk:\n",
    "        if token[0] != token[0].lower():\n",
    "            chunk_target.append(1)\n",
    "        else:\n",
    "            chunk_target.append(0)\n",
    "    train_chunks_target.append(chunk_target)\n",
    "    \n",
    "val_chunks_target = []\n",
    "for chunk in val_chunks:\n",
    "    chunk_target = []\n",
    "    for token in chunk:\n",
    "        if token[0] != token[0].lower():\n",
    "            chunk_target.append(1)\n",
    "        else:\n",
    "            chunk_target.append(0)\n",
    "    val_chunks_target.append(chunk_target)"
   ]
  },
  {
   "cell_type": "code",
   "execution_count": 12,
   "id": "94d3d8a5",
   "metadata": {},
   "outputs": [
    {
     "data": {
      "text/plain": [
       "[('Apple', 1),\n",
       " ('Inc', 1),\n",
       " ('.', 0),\n",
       " ('is', 0),\n",
       " ('an', 0),\n",
       " ('American', 1),\n",
       " ('multinational', 0),\n",
       " ('technology', 0),\n",
       " ('company', 0),\n",
       " ('headquartered', 0)]"
      ]
     },
     "execution_count": 12,
     "metadata": {},
     "output_type": "execute_result"
    }
   ],
   "source": [
    "list(zip(train_chunks[0], train_chunks_target[0]))"
   ]
  },
  {
   "cell_type": "markdown",
   "id": "be3a3727",
   "metadata": {},
   "source": [
    "## $ \\\\ $\n",
    "## $ \\\\ $\n",
    "## $ \\\\ $"
   ]
  },
  {
   "cell_type": "markdown",
   "id": "54823b8c",
   "metadata": {},
   "source": [
    "## Make vocabulary for input"
   ]
  },
  {
   "cell_type": "code",
   "execution_count": 13,
   "id": "f1385381",
   "metadata": {},
   "outputs": [],
   "source": [
    "token_vc = pd.Series(train_tokens).str.lower().value_counts()"
   ]
  },
  {
   "cell_type": "code",
   "execution_count": 14,
   "id": "10173508",
   "metadata": {},
   "outputs": [
    {
     "data": {
      "text/plain": [
       ",      8337\n",
       ".      5617\n",
       "the    4588\n",
       "and    3930\n",
       "0      3644\n",
       "dtype: int64"
      ]
     },
     "execution_count": 14,
     "metadata": {},
     "output_type": "execute_result"
    }
   ],
   "source": [
    "token_vc.head()"
   ]
  },
  {
   "cell_type": "code",
   "execution_count": 15,
   "id": "2fb80ea6",
   "metadata": {},
   "outputs": [
    {
     "data": {
      "text/plain": [
       "recommendations    1\n",
       "mansueto           1\n",
       "sr                 1\n",
       "appleton           1\n",
       "boutiques          1\n",
       "dtype: int64"
      ]
     },
     "execution_count": 15,
     "metadata": {},
     "output_type": "execute_result"
    }
   ],
   "source": [
    "token_vc.tail()"
   ]
  },
  {
   "cell_type": "markdown",
   "id": "5e65a59e",
   "metadata": {},
   "source": [
    "### Set cutoff for UNK to define fixed vocabulary"
   ]
  },
  {
   "cell_type": "code",
   "execution_count": 16,
   "id": "b119d62c",
   "metadata": {},
   "outputs": [],
   "source": [
    "min_cutoff = 3\n",
    "vocab_list = token_vc[token_vc >= min_cutoff].index.tolist()"
   ]
  },
  {
   "cell_type": "code",
   "execution_count": 17,
   "id": "48921f3c",
   "metadata": {},
   "outputs": [
    {
     "name": "stdout",
     "output_type": "stream",
     "text": [
      "3270 tokens in vocabulary\n"
     ]
    }
   ],
   "source": [
    "print(len(vocab_list), 'tokens in vocabulary')"
   ]
  },
  {
   "cell_type": "markdown",
   "id": "19ae72de",
   "metadata": {},
   "source": [
    "## $ \\\\ $\n",
    "## $ \\\\ $\n",
    "## $ \\\\ $"
   ]
  },
  {
   "cell_type": "markdown",
   "id": "3c3fd19a",
   "metadata": {},
   "source": [
    "## Make Input embeddings for vocabulary"
   ]
  },
  {
   "cell_type": "markdown",
   "id": "cc2338e6",
   "metadata": {},
   "source": [
    "<div>\n",
    "<img src=\"InputEmb.png\" width=\"350px\"/>\n",
    "</div>"
   ]
  },
  {
   "cell_type": "markdown",
   "id": "4c490f80",
   "metadata": {},
   "source": [
    "### Let's reserve `len(vocab_list) + 1` for `<UNK>`"
   ]
  },
  {
   "cell_type": "code",
   "execution_count": 18,
   "id": "4b9b2687",
   "metadata": {},
   "outputs": [],
   "source": [
    "embed_dim = 50\n",
    "embed_matrix = np.zeros((len(vocab_list) + 1, embed_dim))"
   ]
  },
  {
   "cell_type": "markdown",
   "id": "94be8412",
   "metadata": {},
   "source": [
    "## $ \\\\ $\n",
    "## $ \\\\ $\n",
    "## $ \\\\ $"
   ]
  },
  {
   "cell_type": "markdown",
   "id": "fc23dc3a",
   "metadata": {},
   "source": [
    "## Create input index vectors as lookup for embed matrix"
   ]
  },
  {
   "cell_type": "code",
   "execution_count": 19,
   "id": "c81cbf9c",
   "metadata": {},
   "outputs": [],
   "source": [
    "vocab_idx_lookup = {token: n for n, token in enumerate(vocab_list)}\n",
    "idx_vocab_lookup = {n: token for n, token in enumerate(vocab_list)}"
   ]
  },
  {
   "cell_type": "code",
   "execution_count": 20,
   "id": "a3a249fd",
   "metadata": {},
   "outputs": [],
   "source": [
    "X_train = []\n",
    "for chunk in train_chunks:\n",
    "    X_train.append([vocab_idx_lookup.get(token.lower(), len(vocab_list)) for token in chunk])\n",
    "X_train = np.array(X_train)\n",
    "\n",
    "X_val = []\n",
    "for chunk in val_chunks:\n",
    "    X_val.append([vocab_idx_lookup.get(token.lower(), len(vocab_list)) for token in chunk])\n",
    "X_val = np.array(X_val)"
   ]
  },
  {
   "cell_type": "code",
   "execution_count": 21,
   "id": "58de0ff8",
   "metadata": {},
   "outputs": [
    {
     "name": "stdout",
     "output_type": "stream",
     "text": [
      "['Apple', 'Inc', '.', 'is', 'an', 'American', 'multinational', 'technology', 'company', 'headquartered']\n"
     ]
    }
   ],
   "source": [
    "print(train_chunks[0])"
   ]
  },
  {
   "cell_type": "code",
   "execution_count": 22,
   "id": "773a9ad6",
   "metadata": {},
   "outputs": [
    {
     "data": {
      "text/plain": [
       "array([263,  36,   1,  10,  32,  34, 107, 103,   9,  45])"
      ]
     },
     "execution_count": 22,
     "metadata": {},
     "output_type": "execute_result"
    }
   ],
   "source": [
    "X_train[0]"
   ]
  },
  {
   "cell_type": "markdown",
   "id": "49928087",
   "metadata": {},
   "source": [
    "## $ \\\\ $\n",
    "## $ \\\\ $\n",
    "## $ \\\\ $"
   ]
  },
  {
   "cell_type": "markdown",
   "id": "6216d9dd",
   "metadata": {},
   "source": [
    "## Create target vectors for 2 classes"
   ]
  },
  {
   "cell_type": "code",
   "execution_count": 23,
   "id": "1d30b5c9",
   "metadata": {},
   "outputs": [],
   "source": [
    "from tensorflow.keras.utils import to_categorical\n",
    "\n",
    "y_train = []\n",
    "for chunk in train_chunks_target:\n",
    "    y_train.append([to_categorical(n, num_classes=2) for n in chunk])\n",
    "y_train = np.array(y_train)\n",
    "\n",
    "y_val = []\n",
    "for chunk in val_chunks_target:\n",
    "    y_val.append([to_categorical(n, num_classes=2) for n in chunk])\n",
    "y_val = np.array(y_val)"
   ]
  },
  {
   "cell_type": "code",
   "execution_count": 24,
   "id": "2432c8a6",
   "metadata": {},
   "outputs": [
    {
     "data": {
      "text/plain": [
       "[1, 1, 0, 0, 0, 1, 0, 0, 0, 0]"
      ]
     },
     "execution_count": 24,
     "metadata": {},
     "output_type": "execute_result"
    }
   ],
   "source": [
    "train_chunks_target[0]"
   ]
  },
  {
   "cell_type": "code",
   "execution_count": 25,
   "id": "4ca543fe",
   "metadata": {},
   "outputs": [
    {
     "data": {
      "text/plain": [
       "array([[0., 1.],\n",
       "       [0., 1.],\n",
       "       [1., 0.],\n",
       "       [1., 0.],\n",
       "       [1., 0.],\n",
       "       [0., 1.],\n",
       "       [1., 0.],\n",
       "       [1., 0.],\n",
       "       [1., 0.],\n",
       "       [1., 0.]], dtype=float32)"
      ]
     },
     "execution_count": 25,
     "metadata": {},
     "output_type": "execute_result"
    }
   ],
   "source": [
    "y_train[0]"
   ]
  },
  {
   "cell_type": "markdown",
   "id": "f8bf804e",
   "metadata": {},
   "source": [
    "## $ \\\\ $\n",
    "## $ \\\\ $\n",
    "## $ \\\\ $"
   ]
  },
  {
   "cell_type": "markdown",
   "id": "e5437c2f",
   "metadata": {},
   "source": [
    "## Build the Neural Network Model"
   ]
  },
  {
   "cell_type": "code",
   "execution_count": 26,
   "id": "983316a3",
   "metadata": {},
   "outputs": [],
   "source": [
    "from tensorflow.keras.models import Model\n",
    "from tensorflow.keras.layers import Input, Dense, Embedding, LSTM, Bidirectional\n",
    "from tensorflow.keras.initializers import Constant\n",
    "import tensorflow.keras.backend as K"
   ]
  },
  {
   "cell_type": "code",
   "execution_count": 27,
   "id": "8ef61ce4",
   "metadata": {},
   "outputs": [],
   "source": [
    "def get_model(embed_matrix):\n",
    "\n",
    "    K.clear_session()\n",
    "\n",
    "    word_input = Input(shape=(chunk_len,), dtype='int32')\n",
    "\n",
    "    embedded_words = Embedding(\n",
    "        embed_matrix.shape[0], \n",
    "        embed_matrix.shape[1],\n",
    "        embeddings_initializer=Constant(embed_matrix),\n",
    "        trainable=True,\n",
    "        input_length=chunk_len\n",
    "    )(word_input)\n",
    "\n",
    "    hidden = Bidirectional(LSTM(\n",
    "        16, \n",
    "        dropout=0.2,\n",
    "        recurrent_dropout=0.2,\n",
    "        return_sequences=True,\n",
    "    ))(embedded_words)\n",
    "\n",
    "    hidden = Dense(4, activation='elu')(hidden)\n",
    "    output = Dense(2, activation='softmax')(hidden)\n",
    "\n",
    "    model = Model(word_input, output)\n",
    "\n",
    "    model.compile(\n",
    "        optimizer='adam', \n",
    "        loss='binary_crossentropy', \n",
    "        metrics=['accuracy']\n",
    "    )\n",
    "    \n",
    "    return model\n",
    "\n",
    "model = get_model(embed_matrix)"
   ]
  },
  {
   "cell_type": "code",
   "execution_count": 28,
   "id": "20bd8411",
   "metadata": {},
   "outputs": [
    {
     "name": "stdout",
     "output_type": "stream",
     "text": [
      "Model: \"model\"\n",
      "_________________________________________________________________\n",
      " Layer (type)                Output Shape              Param #   \n",
      "=================================================================\n",
      " input_1 (InputLayer)        [(None, 10)]              0         \n",
      "                                                                 \n",
      " embedding (Embedding)       (None, 10, 50)            163550    \n",
      "                                                                 \n",
      " bidirectional (Bidirectiona  (None, 10, 32)           8576      \n",
      " l)                                                              \n",
      "                                                                 \n",
      " dense (Dense)               (None, 10, 4)             132       \n",
      "                                                                 \n",
      " dense_1 (Dense)             (None, 10, 2)             10        \n",
      "                                                                 \n",
      "=================================================================\n",
      "Total params: 172,268\n",
      "Trainable params: 172,268\n",
      "Non-trainable params: 0\n",
      "_________________________________________________________________\n"
     ]
    }
   ],
   "source": [
    "model.summary()"
   ]
  },
  {
   "cell_type": "markdown",
   "id": "d6148d99",
   "metadata": {},
   "source": [
    "## $ \\\\ $\n",
    "## $ \\\\ $\n",
    "## $ \\\\ $"
   ]
  },
  {
   "cell_type": "markdown",
   "id": "e29839d8",
   "metadata": {},
   "source": [
    "## Fit the model"
   ]
  },
  {
   "cell_type": "code",
   "execution_count": 29,
   "id": "404eb52a",
   "metadata": {},
   "outputs": [
    {
     "name": "stdout",
     "output_type": "stream",
     "text": [
      "Epoch 1/10\n",
      "183/183 [==============================] - 9s 17ms/step - loss: 0.4248 - accuracy: 0.8279 - val_loss: 0.2624 - val_accuracy: 0.8996\n",
      "Epoch 2/10\n",
      "183/183 [==============================] - 3s 14ms/step - loss: 0.2021 - accuracy: 0.9219 - val_loss: 0.1696 - val_accuracy: 0.9308\n",
      "Epoch 3/10\n",
      "183/183 [==============================] - 3s 14ms/step - loss: 0.1335 - accuracy: 0.9477 - val_loss: 0.1441 - val_accuracy: 0.9439\n",
      "Epoch 4/10\n",
      "183/183 [==============================] - 3s 14ms/step - loss: 0.1107 - accuracy: 0.9572 - val_loss: 0.1394 - val_accuracy: 0.9471\n",
      "Epoch 5/10\n",
      "183/183 [==============================] - 3s 14ms/step - loss: 0.0982 - accuracy: 0.9622 - val_loss: 0.1397 - val_accuracy: 0.9478\n",
      "Epoch 6/10\n",
      "183/183 [==============================] - 2s 13ms/step - loss: 0.0898 - accuracy: 0.9661 - val_loss: 0.1386 - val_accuracy: 0.9483\n",
      "Epoch 7/10\n",
      "183/183 [==============================] - 3s 15ms/step - loss: 0.0826 - accuracy: 0.9688 - val_loss: 0.1435 - val_accuracy: 0.9462\n",
      "Epoch 8/10\n",
      "183/183 [==============================] - 2s 14ms/step - loss: 0.0787 - accuracy: 0.9706 - val_loss: 0.1428 - val_accuracy: 0.9486\n",
      "Epoch 9/10\n",
      "183/183 [==============================] - 2s 13ms/step - loss: 0.0744 - accuracy: 0.9719 - val_loss: 0.1452 - val_accuracy: 0.9477\n",
      "Epoch 10/10\n",
      "183/183 [==============================] - 2s 13ms/step - loss: 0.0699 - accuracy: 0.9740 - val_loss: 0.1494 - val_accuracy: 0.9466\n"
     ]
    }
   ],
   "source": [
    "hist = model.fit(\n",
    "    X_train, y_train, \n",
    "    validation_data=(X_val, y_val),\n",
    "    epochs=10, \n",
    "    shuffle=True,\n",
    "    batch_size=64\n",
    ")"
   ]
  },
  {
   "cell_type": "code",
   "execution_count": 30,
   "id": "5a1df65a",
   "metadata": {},
   "outputs": [],
   "source": [
    "text = \"apple inc. is a great company and also recently\""
   ]
  },
  {
   "cell_type": "code",
   "execution_count": 31,
   "id": "3257bd59",
   "metadata": {},
   "outputs": [],
   "source": [
    "encoded_input = [vocab_idx_lookup.get(token, len(vocab_list)) for token in tokenize(text)[:10]]"
   ]
  },
  {
   "cell_type": "code",
   "execution_count": 32,
   "id": "495109ec",
   "metadata": {},
   "outputs": [
    {
     "name": "stdout",
     "output_type": "stream",
     "text": [
      "1/1 [==============================] - 1s 569ms/step\n"
     ]
    }
   ],
   "source": [
    "output = model.predict(np.array(encoded_input).reshape(1, -1))[0, :,1]"
   ]
  },
  {
   "cell_type": "code",
   "execution_count": 33,
   "id": "7515d88f",
   "metadata": {},
   "outputs": [
    {
     "data": {
      "text/plain": [
       "['Apple', 'Inc', '.', 'is', 'a', 'great', 'company', 'and', 'also', 'recently']"
      ]
     },
     "execution_count": 33,
     "metadata": {},
     "output_type": "execute_result"
    }
   ],
   "source": [
    "threshold = 0.8\n",
    "out_text = []\n",
    "for cap_indicator, token in zip(output, tokenize(text)):\n",
    "    if cap_indicator >= threshold:\n",
    "        out_text.append(token.capitalize())\n",
    "    else:\n",
    "        out_text.append(token)\n",
    "out_text"
   ]
  },
  {
   "cell_type": "code",
   "execution_count": 34,
   "id": "73eac5f0",
   "metadata": {},
   "outputs": [
    {
     "data": {
      "image/png": "[encoded data removed]",
      "text/plain": [
       "<Figure size 640x480 with 1 Axes>"
      ]
     },
     "metadata": {},
     "output_type": "display_data"
    }
   ],
   "source": [
    "plt.plot(hist.history['loss'], '.-g', label='loss')\n",
    "plt.plot(hist.history['val_loss'], '.-b', label='val_loss')\n",
    "plt.legend();"
   ]
  },
  {
   "cell_type": "markdown",
   "id": "776e5622",
   "metadata": {},
   "source": [
    "### what can we tell from this graph?"
   ]
  },
  {
   "cell_type": "markdown",
   "id": "02e46ad6",
   "metadata": {},
   "source": [
    "## $ \\\\ $\n",
    "## $ \\\\ $\n",
    "## $ \\\\ $"
   ]
  },
  {
   "cell_type": "markdown",
   "id": "35f1efa6",
   "metadata": {},
   "source": [
    "## Regularize by using pretrained embeddings from somewhere else\n",
    "- #### populate the word vectors that we know"
   ]
  },
  {
   "cell_type": "markdown",
   "id": "7dfb83a8",
   "metadata": {},
   "source": [
    "<div>\n",
    "<img src=\"PreTrainEmb.png\" width=\"800px\"/>\n",
    "</div>"
   ]
  },
  {
   "cell_type": "markdown",
   "id": "a3c92f3e",
   "metadata": {},
   "source": [
    "## $ \\\\ $\n",
    "## $ \\\\ $\n",
    "## $ \\\\ $"
   ]
  },
  {
   "cell_type": "code",
   "execution_count": 35,
   "id": "dbcd0218",
   "metadata": {},
   "outputs": [],
   "source": [
    "from gensim.models import KeyedVectors\n",
    "glove_model = KeyedVectors.load_word2vec_format('../data/glove.6B.50d.txt', binary=False, limit=None, no_header=True)\n"
   ]
  },
  {
   "cell_type": "code",
   "execution_count": 36,
   "id": "75759799",
   "metadata": {},
   "outputs": [
    {
     "data": {
      "text/plain": [
       "numpy.ndarray"
      ]
     },
     "execution_count": 36,
     "metadata": {},
     "output_type": "execute_result"
    }
   ],
   "source": [
    "type(glove_model['apple'])"
   ]
  },
  {
   "cell_type": "code",
   "execution_count": 37,
   "id": "587e7918",
   "metadata": {},
   "outputs": [],
   "source": [
    "new_embed_matrix = embed_matrix\n",
    "for n, token in enumerate(vocab_list):\n",
    "    if token in glove_model:\n",
    "        new_embed_matrix[n] = glove_model[token]"
   ]
  },
  {
   "cell_type": "code",
   "execution_count": 38,
   "id": "8c3e2801",
   "metadata": {},
   "outputs": [],
   "source": [
    "model = get_model(new_embed_matrix)"
   ]
  },
  {
   "cell_type": "code",
   "execution_count": 39,
   "id": "0d437174",
   "metadata": {},
   "outputs": [
    {
     "name": "stdout",
     "output_type": "stream",
     "text": [
      "Epoch 1/10\n",
      "183/183 [==============================] - 9s 15ms/step - loss: 0.4060 - accuracy: 0.8261 - val_loss: 0.2626 - val_accuracy: 0.8967\n",
      "Epoch 2/10\n",
      "183/183 [==============================] - 2s 13ms/step - loss: 0.2168 - accuracy: 0.9182 - val_loss: 0.1683 - val_accuracy: 0.9358\n",
      "Epoch 3/10\n",
      "183/183 [==============================] - 2s 13ms/step - loss: 0.1524 - accuracy: 0.9430 - val_loss: 0.1475 - val_accuracy: 0.9425\n",
      "Epoch 4/10\n",
      "183/183 [==============================] - 3s 15ms/step - loss: 0.1291 - accuracy: 0.9511 - val_loss: 0.1415 - val_accuracy: 0.9455\n",
      "Epoch 5/10\n",
      "183/183 [==============================] - 3s 14ms/step - loss: 0.1161 - accuracy: 0.9555 - val_loss: 0.1341 - val_accuracy: 0.9485\n",
      "Epoch 6/10\n",
      "183/183 [==============================] - 3s 14ms/step - loss: 0.1068 - accuracy: 0.9590 - val_loss: 0.1318 - val_accuracy: 0.9483\n",
      "Epoch 7/10\n",
      "183/183 [==============================] - 3s 14ms/step - loss: 0.1003 - accuracy: 0.9617 - val_loss: 0.1303 - val_accuracy: 0.9489\n",
      "Epoch 8/10\n",
      "183/183 [==============================] - 3s 14ms/step - loss: 0.0938 - accuracy: 0.9643 - val_loss: 0.1297 - val_accuracy: 0.9509\n",
      "Epoch 9/10\n",
      "183/183 [==============================] - 2s 14ms/step - loss: 0.0895 - accuracy: 0.9660 - val_loss: 0.1294 - val_accuracy: 0.9499\n",
      "Epoch 10/10\n",
      "183/183 [==============================] - 3s 14ms/step - loss: 0.0861 - accuracy: 0.9669 - val_loss: 0.1289 - val_accuracy: 0.9515\n"
     ]
    }
   ],
   "source": [
    "hist2 = model.fit(\n",
    "    X_train, y_train, \n",
    "    validation_data=(X_val, y_val),\n",
    "    epochs=10, \n",
    "    shuffle=True,\n",
    "    batch_size=64\n",
    ")"
   ]
  },
  {
   "cell_type": "code",
   "execution_count": 40,
   "id": "f2f357db",
   "metadata": {},
   "outputs": [
    {
     "data": {
      "image/png": "[encoded data removed]",
      "text/plain": [
       "<Figure size 640x480 with 1 Axes>"
      ]
     },
     "metadata": {},
     "output_type": "display_data"
    }
   ],
   "source": [
    "plt.plot(hist2.history['loss'], '.-g', label='loss')\n",
    "plt.plot(hist2.history['val_loss'], '.-b', label='val_loss')\n",
    "plt.legend();"
   ]
  },
  {
   "cell_type": "code",
   "execution_count": 41,
   "id": "b6b54658",
   "metadata": {},
   "outputs": [
    {
     "data": {
      "image/png": "[encoded data removed]",
      "text/plain": [
       "<Figure size 1000x600 with 1 Axes>"
      ]
     },
     "metadata": {},
     "output_type": "display_data"
    }
   ],
   "source": [
    "plt.figure(figsize=(10,6))\n",
    "plt.plot(hist.history['loss'], '--g', alpha=0.3, label='prev_loss')\n",
    "plt.plot(hist.history['val_loss'], '--b', alpha=0.3, label='prev_val_loss')\n",
    "plt.plot(hist2.history['loss'], '.-g', label='loss')\n",
    "plt.plot(hist2.history['val_loss'], '.-b', label='val_loss')\n",
    "plt.ylim([0.05, 0.25])\n",
    "plt.legend();"
   ]
  },
  {
   "cell_type": "markdown",
   "id": "69359eaa",
   "metadata": {},
   "source": [
    "# $ $\n",
    "# $ $\n",
    "# $ $\n",
    "# $ $"
   ]
  },
  {
   "cell_type": "markdown",
   "id": "928de575",
   "metadata": {},
   "source": [
    "## What are some ways in which we could improve this model?"
   ]
  },
  {
   "cell_type": "markdown",
   "id": "56de0fdd",
   "metadata": {},
   "source": [
    "# $ $\n",
    "# $ $\n",
    "# $ $\n",
    "# $ $"
   ]
  },
  {
   "cell_type": "markdown",
   "id": "1e2e032e",
   "metadata": {},
   "source": [
    "- ### use every word as a start"
   ]
  },
  {
   "cell_type": "markdown",
   "id": "f4cfeb40",
   "metadata": {},
   "source": [
    "<div>\n",
    "<img src=\"SlidingWindow.png\" width=\"500px\"/>\n",
    "</div>"
   ]
  },
  {
   "cell_type": "markdown",
   "id": "fcbc72f3",
   "metadata": {},
   "source": [
    "```\n",
    "chunk_len = 10\n",
    "\n",
    "train_chunks = []\n",
    "for n in range(len(train_tokens) // chunk_len):\n",
    "    train_chunks.append(train_tokens[n * chunk_len: (n + 1) * chunk_len])\n",
    "```\n",
    "\n",
    "vs\n",
    "\n",
    "```\n",
    "chunk_len = 10\n",
    "\n",
    "train_chunks = []\n",
    "for n in range(len(train_tokens) - chunk_len):\n",
    "    train_chunks.append(train_tokens[n: n + chunk_len])\n",
    "```"
   ]
  },
  {
   "cell_type": "markdown",
   "id": "01c33ef4",
   "metadata": {},
   "source": [
    "# $ $\n",
    "# $ $\n",
    "# $ $\n",
    "# $ $"
   ]
  },
  {
   "cell_type": "markdown",
   "id": "ae776062",
   "metadata": {},
   "source": [
    "- ### add padding for varying input length\n",
    "- ### model structure improvements\n",
    "- ### more data (!we can get this from anywhere!)"
   ]
  },
  {
   "cell_type": "markdown",
   "id": "ea705693",
   "metadata": {},
   "source": [
    "# $ $\n",
    "# $ $\n",
    "# $ $\n",
    "# $ $"
   ]
  },
  {
   "cell_type": "markdown",
   "id": "e68d3ea7",
   "metadata": {},
   "source": [
    "## ! Note: Actually we have learned a lot of knowledge in this task (see LLMs) !"
   ]
  },
  {
   "cell_type": "markdown",
   "id": "064591f2",
   "metadata": {},
   "source": [
    "# $ $\n",
    "# $ $\n",
    "# $ $\n",
    "# $ $"
   ]
  },
  {
   "cell_type": "markdown",
   "id": "77fee235",
   "metadata": {},
   "source": [
    "## Can the output for each word in a sequence tagging experiment be multi-class?"
   ]
  },
  {
   "cell_type": "markdown",
   "id": "19204bf7",
   "metadata": {},
   "source": [
    "# $ $\n",
    "# $ $\n",
    "# $ $\n",
    "# $ $"
   ]
  },
  {
   "cell_type": "markdown",
   "id": "281bc613",
   "metadata": {},
   "source": [
    "# $ $\n",
    "# $ $\n",
    "# $ $\n",
    "# $ $"
   ]
  },
  {
   "cell_type": "markdown",
   "id": "d14e72b2",
   "metadata": {},
   "source": [
    "## Example: Named Entity Recognition - NER\n",
    "\n",
    "### Task to 'tag' words  in a sentence with one of the categories:\n",
    "- #### `Person` (PER)\n",
    "- #### `Organization` (ORG)\n",
    "- #### `Location` (LOC)\n",
    "- #### ..."
   ]
  },
  {
   "cell_type": "markdown",
   "id": "fb274537",
   "metadata": {},
   "source": [
    "### # Janet is a terrific cardiologist who shops at Whole Foods. \n",
    "\n",
    "### ->\n",
    "\n",
    "### # `Janet`$_{PER}$ is a terrific cardiologist who shops at `Whole Foods`$_{ORG}$. "
   ]
  },
  {
   "cell_type": "markdown",
   "id": "ce205da3",
   "metadata": {},
   "source": [
    "# $ $\n",
    "# $ $\n",
    "# $ $\n",
    "# $ $"
   ]
  },
  {
   "cell_type": "markdown",
   "id": "41eadb84",
   "metadata": {},
   "source": [
    "## We will look at this example in the homework."
   ]
  },
  {
   "cell_type": "markdown",
   "id": "e99710dd",
   "metadata": {},
   "source": [
    "# $ \\\\ $\n",
    "# $ \\\\ $\n",
    "# $ \\\\ $"
   ]
  },
  {
   "cell_type": "markdown",
   "id": "2f02ebf6",
   "metadata": {},
   "source": [
    "# Embeddings & Language modeling II\n",
    "\n",
    "- ### 1) Neural word embeddings (word2vec)\n",
    "- ### 2) Contextual embeddings via language models (Elmo, Bert)\n",
    "- ### 3) Modern (Large) Language models"
   ]
  },
  {
   "cell_type": "markdown",
   "id": "909e0353",
   "metadata": {},
   "source": [
    "# $ \\\\ $\n",
    "# $ \\\\ $\n",
    "# $ \\\\ $"
   ]
  },
  {
   "cell_type": "markdown",
   "id": "7b538c3b",
   "metadata": {},
   "source": [
    "## We know how to use a supervised task to create word embeddings\n",
    "- ### eg: spam classification or NER"
   ]
  },
  {
   "cell_type": "markdown",
   "id": "aff3cc2c",
   "metadata": {},
   "source": [
    "<div>\n",
    "<img src=\"NN3.png\" width=\"600px\"/>\n",
    "</div>"
   ]
  },
  {
   "cell_type": "markdown",
   "id": "ca43a8bf",
   "metadata": {},
   "source": [
    "# $ \\\\ $\n",
    "# $ \\\\ $"
   ]
  },
  {
   "cell_type": "markdown",
   "id": "a5f36a5a",
   "metadata": {},
   "source": [
    "## We know how to use an unsupervised task to create a language model\n",
    "- ### eg: 3-gram model"
   ]
  },
  {
   "cell_type": "markdown",
   "id": "12fbd8b7",
   "metadata": {},
   "source": [
    "<div>\n",
    "<img src=\"Wikipedia.png\" width=\"600px\"/>\n",
    "</div>"
   ]
  },
  {
   "cell_type": "markdown",
   "id": "68c21771",
   "metadata": {},
   "source": [
    "# $ \\\\ $\n",
    "# $ \\\\ $"
   ]
  },
  {
   "cell_type": "markdown",
   "id": "f62b17ea",
   "metadata": {},
   "source": [
    "## Can we combine these?\n",
    "- ### create a neural network with a language model objective\n",
    "- ### extract embeddings from that network\n",
    "\n",
    "#### aka: turn the learning of embeddings into a supervised problem"
   ]
  },
  {
   "cell_type": "markdown",
   "id": "5ba2dcf4",
   "metadata": {},
   "source": [
    "# $ \\\\ $\n",
    "# $ \\\\ $"
   ]
  },
  {
   "cell_type": "markdown",
   "id": "a0c08534",
   "metadata": {},
   "source": [
    "## Let's define a simple task and network to do this  <small>(Continous bag of words: CBOW)</small>"
   ]
  },
  {
   "cell_type": "markdown",
   "id": "56c82c23",
   "metadata": {},
   "source": [
    "<div>\n",
    "<img src=\"CBOW.png\" width=\"600px\"/>\n",
    "</div>"
   ]
  },
  {
   "cell_type": "markdown",
   "id": "18ed802e",
   "metadata": {},
   "source": [
    "# $ \\\\ $\n",
    "# $ \\\\ $"
   ]
  },
  {
   "cell_type": "markdown",
   "id": "809d983a",
   "metadata": {},
   "source": [
    "### What does the network look like?"
   ]
  },
  {
   "cell_type": "markdown",
   "id": "97c20503",
   "metadata": {},
   "source": [
    "<div>\n",
    "<img src=\"CBOWModel.png\" width=\"600px\"/>\n",
    "</div>"
   ]
  },
  {
   "cell_type": "markdown",
   "id": "4718a3b0",
   "metadata": {},
   "source": [
    "# $ \\\\ $\n",
    "# $ \\\\ $"
   ]
  },
  {
   "cell_type": "markdown",
   "id": "7948269f",
   "metadata": {},
   "source": [
    "## Where do we find the embedding matrix?\n",
    "### matrix of shape (vocab_size, embed_dim)"
   ]
  },
  {
   "cell_type": "markdown",
   "id": "02073027",
   "metadata": {},
   "source": [
    "<div>\n",
    "<img src=\"CBOWEmbedding.png\" width=\"1000px\"/>\n",
    "</div>"
   ]
  },
  {
   "cell_type": "markdown",
   "id": "65c124cd",
   "metadata": {},
   "source": [
    "# $ \\\\ $\n",
    "# $ \\\\ $"
   ]
  },
  {
   "cell_type": "markdown",
   "id": "e05e1103",
   "metadata": {},
   "source": [
    "### Example Keras Nework\n",
    "\n",
    "```\n",
    "word_input = Input()  \n",
    "# shape (4,)\n",
    "\n",
    "embedded_words = Embedding(trainable=True)(word_input)  \n",
    "# shape (4, embed_dim)\n",
    "\n",
    "avg_embedding = MyAverage()(embedded_words)\n",
    "# shape (embed_dim,)\n",
    "\n",
    "output = Dense(vocab_size, activation='softmax')(avg_embedding)\n",
    "# shape (vocab_size,)\n",
    "```"
   ]
  },
  {
   "cell_type": "markdown",
   "id": "6ca98839",
   "metadata": {},
   "source": [
    "# $ \\\\ $\n",
    "# $ \\\\ $"
   ]
  },
  {
   "cell_type": "markdown",
   "id": "0e42e7f7",
   "metadata": {},
   "source": [
    "## One of the first popular algorithms for this was Word2Vec (Google)\n",
    "## Let's use an implementation of this from `gensim`"
   ]
  },
  {
   "cell_type": "code",
   "execution_count": 42,
   "id": "d6903455",
   "metadata": {},
   "outputs": [],
   "source": [
    "wiki_df = pd.read_csv(\"../data/kdwd_r1k_articles.csv\")"
   ]
  },
  {
   "cell_type": "code",
   "execution_count": 43,
   "id": "a41317d5",
   "metadata": {},
   "outputs": [],
   "source": [
    "corpus = [re.findall(r'[a-z]+', text.lower()) for text in wiki_df['intro_text'].values]"
   ]
  },
  {
   "cell_type": "code",
   "execution_count": 44,
   "id": "8fbc6a3b",
   "metadata": {},
   "outputs": [],
   "source": [
    "from gensim.models import Word2Vec\n",
    "\n",
    "model = Word2Vec(corpus, min_count=3, vector_size=50, epochs=100)"
   ]
  },
  {
   "cell_type": "markdown",
   "id": "1aade1a7",
   "metadata": {},
   "source": [
    "### we get embeddings, just like we are used to"
   ]
  },
  {
   "cell_type": "code",
   "execution_count": 45,
   "id": "09be7766",
   "metadata": {},
   "outputs": [
    {
     "name": "stdout",
     "output_type": "stream",
     "text": [
      "cosine sim 0.61665565\n"
     ]
    },
    {
     "data": {
      "text/plain": [
       "[<matplotlib.lines.Line2D at 0x257326585b0>]"
      ]
     },
     "execution_count": 45,
     "metadata": {},
     "output_type": "execute_result"
    },
    {
     "data": {
      "image/png": "[encoded data removed]",
      "text/plain": [
       "<Figure size 640x480 with 1 Axes>"
      ]
     },
     "metadata": {},
     "output_type": "display_data"
    }
   ],
   "source": [
    "from sklearn.metrics.pairwise import cosine_similarity\n",
    "\n",
    "w1 = \"apple\"\n",
    "w2 = \"computers\"\n",
    "\n",
    "print('cosine sim',cosine_similarity([model.wv[w1]], [model.wv[w2]])[0][0])\n",
    "plt.plot(model.wv['apple'], '.-')\n",
    "plt.plot(model.wv['computers'], '.-')"
   ]
  },
  {
   "cell_type": "code",
   "execution_count": 46,
   "id": "681de777",
   "metadata": {},
   "outputs": [
    {
     "name": "stdout",
     "output_type": "stream",
     "text": [
      "cosine sim 0.060181424\n"
     ]
    },
    {
     "data": {
      "text/plain": [
       "[<matplotlib.lines.Line2D at 0x257326a7130>]"
      ]
     },
     "execution_count": 46,
     "metadata": {},
     "output_type": "execute_result"
    },
    {
     "data": {
      "image/png": "[encoded data removed]",
      "text/plain": [
       "<Figure size 640x480 with 1 Axes>"
      ]
     },
     "metadata": {},
     "output_type": "display_data"
    }
   ],
   "source": [
    "w1 = \"apple\"\n",
    "w2 = \"oil\"\n",
    "\n",
    "print('cosine sim',cosine_similarity([model.wv[w1]], [model.wv[w2]])[0][0])\n",
    "plt.plot(model.wv[w1], '.-')\n",
    "plt.plot(model.wv[w2], '.-')"
   ]
  },
  {
   "cell_type": "markdown",
   "id": "9478353a",
   "metadata": {},
   "source": [
    "### fast, cosine distance lookup"
   ]
  },
  {
   "cell_type": "code",
   "execution_count": 47,
   "id": "6d3e6b5d",
   "metadata": {},
   "outputs": [
    {
     "data": {
      "text/plain": [
       "[('google', 0.6390557289123535),\n",
       " ('computers', 0.6166556477546692),\n",
       " ('microsoft', 0.6145262122154236),\n",
       " ('tablet', 0.6115058064460754),\n",
       " ('fellow', 0.6016826629638672),\n",
       " ('jobs', 0.5665212273597717),\n",
       " ('samsung', 0.5523134469985962),\n",
       " ('status', 0.5425548553466797),\n",
       " ('wozniak', 0.5419477224349976),\n",
       " ('target', 0.5242987275123596)]"
      ]
     },
     "execution_count": 47,
     "metadata": {},
     "output_type": "execute_result"
    }
   ],
   "source": [
    "model.wv.most_similar('apple')"
   ]
  },
  {
   "cell_type": "markdown",
   "id": "22dccfcf",
   "metadata": {},
   "source": [
    "# $ \\\\ $\n",
    "# $ \\\\ $"
   ]
  },
  {
   "cell_type": "markdown",
   "id": "57c71fc2",
   "metadata": {},
   "source": [
    "### but we now have an actual NN model just like any other"
   ]
  },
  {
   "cell_type": "code",
   "execution_count": 48,
   "id": "391627f2",
   "metadata": {},
   "outputs": [
    {
     "name": "stdout",
     "output_type": "stream",
     "text": [
      "Loss after epoch 0: 88123.7265625\n",
      "Loss after epoch 1: 52435.6953125\n",
      "Loss after epoch 2: 50344.546875\n",
      "Loss after epoch 3: 48426.609375\n",
      "Loss after epoch 4: 47022.421875\n",
      "Loss after epoch 5: 46494.125\n",
      "Loss after epoch 6: 45916.1875\n",
      "Loss after epoch 7: 60461.21875\n",
      "Loss after epoch 8: 44589.9375\n",
      "Loss after epoch 9: 44361.15625\n"
     ]
    }
   ],
   "source": [
    "from gensim.models.callbacks import CallbackAny2Vec\n",
    "\n",
    "class my_callback(CallbackAny2Vec):\n",
    "    \"\"\"\n",
    "    Callback to print loss after each epoch\n",
    "    \"\"\"\n",
    "    def __init__(self):\n",
    "        self.epoch = 0\n",
    "\n",
    "    def on_epoch_end(self, model):\n",
    "        loss = model.get_latest_training_loss()\n",
    "        if self.epoch == 0:\n",
    "            print('Loss after epoch {}: {}'.format(self.epoch, loss))\n",
    "        else:\n",
    "            print('Loss after epoch {}: {}'.format(self.epoch, loss- self.loss_previous_step))\n",
    "        self.epoch += 1\n",
    "        self.loss_previous_step = loss\n",
    "\n",
    "_ = Word2Vec(corpus, epochs=10, compute_loss=True, callbacks=[my_callback()])"
   ]
  },
  {
   "cell_type": "markdown",
   "id": "01653472",
   "metadata": {},
   "source": [
    "### we can monitor convergence, loss, val performance, etc"
   ]
  },
  {
   "cell_type": "markdown",
   "id": "c607bb12",
   "metadata": {},
   "source": [
    "# $ \\\\ $\n",
    "# $ \\\\ $"
   ]
  },
  {
   "cell_type": "markdown",
   "id": "9c7a6a8f",
   "metadata": {},
   "source": [
    "### Let's look under the hood into the main weights matrix (Embedding layer)"
   ]
  },
  {
   "cell_type": "markdown",
   "id": "3574d639",
   "metadata": {},
   "source": [
    "<div>\n",
    "<img src=\"EmbeddingLayer.png\" width=\"800px\"/>\n",
    "</div>\n"
   ]
  },
  {
   "cell_type": "code",
   "execution_count": 49,
   "id": "d7e551eb",
   "metadata": {},
   "outputs": [
    {
     "data": {
      "text/plain": [
       "(3372, 50)"
      ]
     },
     "execution_count": 49,
     "metadata": {},
     "output_type": "execute_result"
    }
   ],
   "source": [
    "weights_matix = model.wv.vectors\n",
    "weights_matix.shape"
   ]
  },
  {
   "cell_type": "code",
   "execution_count": 50,
   "id": "cf3e7314",
   "metadata": {},
   "outputs": [
    {
     "data": {
      "text/plain": [
       "257"
      ]
     },
     "execution_count": 50,
     "metadata": {},
     "output_type": "execute_result"
    }
   ],
   "source": [
    "model.wv.key_to_index['apple']"
   ]
  },
  {
   "cell_type": "markdown",
   "id": "c504fefa",
   "metadata": {},
   "source": [
    "### let `v` be the OHE vector for `'apple'`"
   ]
  },
  {
   "cell_type": "code",
   "execution_count": 51,
   "id": "f75cdc28",
   "metadata": {},
   "outputs": [],
   "source": [
    "v = np.zeros((len(model.wv.key_to_index)))\n",
    "v[model.wv.key_to_index['apple']] = 1"
   ]
  },
  {
   "cell_type": "markdown",
   "id": "2766fe98",
   "metadata": {},
   "source": [
    "### test if `model.wv['apple'] == np.dot(weights_matix.T, v)`"
   ]
  },
  {
   "cell_type": "code",
   "execution_count": 52,
   "id": "240e8ad2",
   "metadata": {},
   "outputs": [
    {
     "data": {
      "text/plain": [
       "[<matplotlib.lines.Line2D at 0x2573272e440>]"
      ]
     },
     "execution_count": 52,
     "metadata": {},
     "output_type": "execute_result"
    },
    {
     "data": {
      "image/png": "[encoded data removed]",
      "text/plain": [
       "<Figure size 640x480 with 1 Axes>"
      ]
     },
     "metadata": {},
     "output_type": "display_data"
    }
   ],
   "source": [
    "plt.plot(model.wv['apple'], '.-')\n",
    "plt.plot(np.dot(weights_matix.T, v), '.-')"
   ]
  },
  {
   "cell_type": "markdown",
   "id": "ae2f8792",
   "metadata": {},
   "source": [
    "<div>\n",
    "<img src=\"CBOWEmbedding.png\" width=\"1000px\"/>\n",
    "</div>"
   ]
  },
  {
   "cell_type": "markdown",
   "id": "f0297930",
   "metadata": {},
   "source": [
    "# $ \\\\ $\n",
    "# $ \\\\ $"
   ]
  },
  {
   "cell_type": "markdown",
   "id": "bafb83e6",
   "metadata": {},
   "source": [
    "### Let's look into predicting `'microsoft'` given the context `'windows', 'tablet', 'pc'`"
   ]
  },
  {
   "cell_type": "code",
   "execution_count": 53,
   "id": "52ea299a",
   "metadata": {},
   "outputs": [
    {
     "data": {
      "text/plain": [
       "[('microsoft', 0.7077733278274536),\n",
       " ('computers', 0.6575942039489746),\n",
       " ('dominant', 0.6209782361984253),\n",
       " ('surface', 0.5999319553375244),\n",
       " ('code', 0.5991560816764832),\n",
       " ('smartphones', 0.5937674641609192),\n",
       " ('runs', 0.5896422266960144),\n",
       " ('shield', 0.5863073468208313),\n",
       " ('disk', 0.5824577808380127),\n",
       " ('innovations', 0.5714677572250366)]"
      ]
     },
     "execution_count": 53,
     "metadata": {},
     "output_type": "execute_result"
    }
   ],
   "source": [
    "model.wv.most_similar(['windows', 'tablet', 'pc'])"
   ]
  },
  {
   "cell_type": "markdown",
   "id": "f43dfe34",
   "metadata": {},
   "source": [
    "### makes sense that the embedding of these words is closes to microsoft.\n",
    "\n",
    "### But what about the final network ouput?"
   ]
  },
  {
   "cell_type": "markdown",
   "id": "2b4989e9",
   "metadata": {},
   "source": [
    "# $ \\\\ $\n",
    "# $ \\\\ $"
   ]
  },
  {
   "cell_type": "code",
   "execution_count": 54,
   "id": "7bab3b2d",
   "metadata": {},
   "outputs": [],
   "source": [
    "v = np.zeros((len(model.wv.key_to_index)))\n",
    "v[model.wv.key_to_index['windows']] = 1\n",
    "v[model.wv.key_to_index['tablet']] = 1\n",
    "v[model.wv.key_to_index['pc']] = 1"
   ]
  },
  {
   "cell_type": "code",
   "execution_count": 55,
   "id": "fc5fd89c",
   "metadata": {},
   "outputs": [],
   "source": [
    "from scipy.special import softmax"
   ]
  },
  {
   "cell_type": "code",
   "execution_count": 56,
   "id": "2991dade",
   "metadata": {},
   "outputs": [],
   "source": [
    "hidden_state = np.dot(weights_matix.T, v)\n",
    "output = np.dot(hidden_state, weights_matix.T)\n",
    "softmax_output = softmax(output)"
   ]
  },
  {
   "cell_type": "code",
   "execution_count": 57,
   "id": "a226a9ce",
   "metadata": {},
   "outputs": [
    {
     "data": {
      "text/plain": [
       "microsoft    1.000000e+00\n",
       "computers    2.474366e-09\n",
       "apple        2.562311e-16\n",
       "computer     6.064583e-17\n",
       "system       6.935894e-19\n",
       "computing    2.890191e-21\n",
       "personal     1.581664e-21\n",
       "windows      1.226111e-21\n",
       "cloud        4.210547e-22\n",
       "mobile       7.549908e-24\n",
       "dtype: float64"
      ]
     },
     "execution_count": 57,
     "metadata": {},
     "output_type": "execute_result"
    }
   ],
   "source": [
    "s = pd.Series(softmax_output).sort_values(ascending=False)\n",
    "s.index = [model.wv.index_to_key[idx] for idx in s.index]\n",
    "s.head(10)"
   ]
  },
  {
   "cell_type": "markdown",
   "id": "8a52a04a",
   "metadata": {},
   "source": [
    "## How are these different?"
   ]
  },
  {
   "cell_type": "markdown",
   "id": "d5a74b22",
   "metadata": {},
   "source": [
    "# $ \\\\ $\n",
    "# $ \\\\ $"
   ]
  },
  {
   "cell_type": "markdown",
   "id": "5692f5cb",
   "metadata": {},
   "source": [
    "# $ \\\\ $\n",
    "# $ \\\\ $"
   ]
  },
  {
   "cell_type": "markdown",
   "id": "e2159337",
   "metadata": {},
   "source": [
    "## We have now learned ways of producing embedding matrices in many ways, including from NNs, allowing us to use those matrices in other downstream tasks"
   ]
  },
  {
   "cell_type": "markdown",
   "id": "987bd93f",
   "metadata": {},
   "source": [
    "<div>\n",
    "<img src=\"PreTrainEmb2.png\" width=\"900px\"/>\n",
    "</div>"
   ]
  },
  {
   "cell_type": "markdown",
   "id": "1db6189a",
   "metadata": {},
   "source": [
    "# $ \\\\ $\n",
    "# $ \\\\ $"
   ]
  },
  {
   "cell_type": "markdown",
   "id": "c7bac99f",
   "metadata": {},
   "source": [
    "## What are we missing here for the represenation of words?"
   ]
  },
  {
   "cell_type": "markdown",
   "id": "30d8f1b0",
   "metadata": {},
   "source": [
    "# $ \\\\ $\n",
    "# $ \\\\ $\n",
    "# $ \\\\ $\n",
    "# $ \\\\ $"
   ]
  },
  {
   "cell_type": "markdown",
   "id": "f7a282d0",
   "metadata": {},
   "source": [
    "## Embeddings up until now are a 'static' lookup for each word. They can get finetuned, but still one per word.\n",
    "\n",
    "## But we know that this is not true (ambiguity):"
   ]
  },
  {
   "cell_type": "markdown",
   "id": "a163ef70",
   "metadata": {},
   "source": [
    "<div>\n",
    "<img src=\"ambiguity.png\" width=\"400px\"/>\n",
    "</div>"
   ]
  },
  {
   "cell_type": "markdown",
   "id": "43e2dd6d",
   "metadata": {},
   "source": [
    "## So what are we missing in our embeddings?"
   ]
  },
  {
   "cell_type": "markdown",
   "id": "0c56a77d",
   "metadata": {},
   "source": [
    "# $ \\\\ $\n",
    "# $ \\\\ $\n",
    "# $ \\\\ $\n",
    "# $ \\\\ $"
   ]
  },
  {
   "cell_type": "markdown",
   "id": "eae260d7",
   "metadata": {},
   "source": [
    "### the meaning of the word depends on the context that it is being used in:\n",
    "\n",
    "- #### I found a wooden `stick` in the forest\n",
    "- #### chewing gum can `stick` to my shoe"
   ]
  },
  {
   "cell_type": "markdown",
   "id": "4c0144a0",
   "metadata": {},
   "source": [
    "### the word represenation (vector) should be different in each scenario"
   ]
  },
  {
   "cell_type": "markdown",
   "id": "c897b368",
   "metadata": {},
   "source": [
    "# $ \\\\ $\n",
    "# $ \\\\ $\n",
    "# $ \\\\ $\n",
    "# $ \\\\ $"
   ]
  },
  {
   "cell_type": "markdown",
   "id": "050b821a",
   "metadata": {},
   "source": [
    "## enter.... Sesame Street"
   ]
  },
  {
   "cell_type": "markdown",
   "id": "e36260cd",
   "metadata": {},
   "source": [
    "<div>\n",
    "<img src=\"SesameStreet.png\" width=\"600px\"/>\n",
    "</div>"
   ]
  },
  {
   "cell_type": "markdown",
   "id": "85bbb03d",
   "metadata": {},
   "source": [
    "# $ \\\\ $\n",
    "# $ \\\\ $"
   ]
  },
  {
   "cell_type": "markdown",
   "id": "7c40f3d8",
   "metadata": {},
   "source": [
    "## ELMO (Embeddings from Language Models)"
   ]
  },
  {
   "cell_type": "markdown",
   "id": "58127255",
   "metadata": {},
   "source": [
    "### word vectors are learned functions of the internal states of a deep bidirectional language mode\n",
    "\n",
    "#### - https://arxiv.org/pdf/1802.05365.pdf"
   ]
  },
  {
   "cell_type": "markdown",
   "id": "3e30e0af",
   "metadata": {},
   "source": [
    "<div>\n",
    "<img src=\"ELMO.png\" width=\"600px\"/>\n",
    "</div>"
   ]
  },
  {
   "cell_type": "markdown",
   "id": "9dfe848e",
   "metadata": {},
   "source": [
    "### seen as a black box, this model will turn a list of words into vectors that depend on other words\n",
    "\n",
    "## How is this achieved?"
   ]
  },
  {
   "cell_type": "markdown",
   "id": "61b29b2c",
   "metadata": {},
   "source": [
    "# $ \\\\ $\n",
    "# $ \\\\ $"
   ]
  },
  {
   "cell_type": "markdown",
   "id": "5f2894fd",
   "metadata": {},
   "source": [
    "# $ \\\\ $\n",
    "# $ \\\\ $"
   ]
  },
  {
   "cell_type": "markdown",
   "id": "1dc9061a",
   "metadata": {},
   "source": [
    "## Build a language model using an LSTM ontop of an Embedding layer"
   ]
  },
  {
   "cell_type": "markdown",
   "id": "7c7dd12b",
   "metadata": {},
   "source": [
    "### Language model optimize the probability of the next word given its past:\n",
    "- ### $P(w_k|w_{k-1}w_{k-2}...w_{2}w_{1})$"
   ]
  },
  {
   "cell_type": "markdown",
   "id": "71b32644",
   "metadata": {},
   "source": [
    "<div>\n",
    "<img src=\"ELMO2.png\" width=\"600px\"/>\n",
    "</div>"
   ]
  },
  {
   "cell_type": "markdown",
   "id": "ccf87418",
   "metadata": {},
   "source": [
    "- ### each LSTM layer contains information from the previous words as well as the word itself"
   ]
  },
  {
   "cell_type": "markdown",
   "id": "66aec283",
   "metadata": {},
   "source": [
    "## Is this left to right formulation limiting us?"
   ]
  },
  {
   "cell_type": "markdown",
   "id": "36956c80",
   "metadata": {},
   "source": [
    "# $ \\\\ $\n",
    "# $ \\\\ $"
   ]
  },
  {
   "cell_type": "markdown",
   "id": "dc5003bc",
   "metadata": {},
   "source": [
    "# $ \\\\ $\n",
    "# $ \\\\ $"
   ]
  },
  {
   "cell_type": "markdown",
   "id": "49731605",
   "metadata": {},
   "source": [
    "## Build a second language model 'reading' in reverse"
   ]
  },
  {
   "cell_type": "markdown",
   "id": "fed269d6",
   "metadata": {},
   "source": [
    "### Then jointly optimize the probabilities of Forward and backward language model.\n",
    "- ### $P(w_k|w_{k-1}w_{k-2}...w_{2}w_{1})$\n",
    "- ### $P(w_k|w_{k+1}w_{k+2}...w_{N-1}w_{N})$"
   ]
  },
  {
   "cell_type": "markdown",
   "id": "0809c568",
   "metadata": {},
   "source": [
    "<div>\n",
    "<img src=\"ELMO3.png\" width=\"1000px\"/>\n",
    "</div>"
   ]
  },
  {
   "cell_type": "markdown",
   "id": "21daaafd",
   "metadata": {},
   "source": [
    "- ### each layer can be viewed as a contextual representation of the current word including information from its past"
   ]
  },
  {
   "cell_type": "markdown",
   "id": "94eed3a4",
   "metadata": {},
   "source": [
    "# $ \\\\ $\n",
    "# $ \\\\ $"
   ]
  },
  {
   "cell_type": "markdown",
   "id": "3f323e4c",
   "metadata": {},
   "source": [
    "## How do we get a word embedding for eg `'stick'`?"
   ]
  },
  {
   "cell_type": "markdown",
   "id": "dd8ba3f6",
   "metadata": {},
   "source": [
    "<div>\n",
    "<img src=\"ELMO4.png\" width=\"900px\"/>\n",
    "</div>"
   ]
  },
  {
   "cell_type": "markdown",
   "id": "d69d74c0",
   "metadata": {},
   "source": [
    "### Contextual word embedding as weighed sum over layer representations"
   ]
  },
  {
   "cell_type": "markdown",
   "id": "e9783f15",
   "metadata": {},
   "source": [
    "# $ \\\\ $\n",
    "# $ \\\\ $"
   ]
  },
  {
   "cell_type": "markdown",
   "id": "40c9cc1a",
   "metadata": {},
   "source": [
    "# $ \\\\ $\n",
    "# $ \\\\ $"
   ]
  },
  {
   "cell_type": "markdown",
   "id": "925a7720",
   "metadata": {},
   "source": [
    "## Use pre-trained ELMO model as a base representation for your input text"
   ]
  },
  {
   "cell_type": "markdown",
   "id": "99dfc271",
   "metadata": {},
   "source": [
    "<div>\n",
    "<img src=\"ELMO5.png\" width=\"700px\"/>\n",
    "</div>"
   ]
  },
  {
   "cell_type": "markdown",
   "id": "80e89697",
   "metadata": {},
   "source": [
    "# $ \\\\ $\n",
    "# $ \\\\ $"
   ]
  },
  {
   "cell_type": "markdown",
   "id": "8f1304fe",
   "metadata": {},
   "source": [
    "### Note that you now need an entire network rather than just a matrix"
   ]
  },
  {
   "cell_type": "markdown",
   "id": "e3236504",
   "metadata": {},
   "source": [
    "## A good way to evaluate models like elmo is 'downstream' evaluation"
   ]
  },
  {
   "cell_type": "markdown",
   "id": "e895c5b5",
   "metadata": {},
   "source": [
    "<div>\n",
    "<img src=\"SOTAResults.png\" width=\"600px\"/>\n",
    "</div>"
   ]
  },
  {
   "cell_type": "markdown",
   "id": "3aae99e4",
   "metadata": {},
   "source": [
    "# $ \\\\ $\n",
    "# $ \\\\ $"
   ]
  },
  {
   "cell_type": "markdown",
   "id": "e3683d54",
   "metadata": {},
   "source": [
    "## Note: such pretrained Language Models / Embeddings will often exist in many sizes"
   ]
  },
  {
   "cell_type": "markdown",
   "id": "d4a15034",
   "metadata": {},
   "source": [
    "<div>\n",
    "<img src=\"Encoder1.png\" width=\"500px\"/>\n",
    "</div>"
   ]
  },
  {
   "cell_type": "markdown",
   "id": "f5d846ce",
   "metadata": {},
   "source": [
    "### Trade off speed vs accuracy"
   ]
  },
  {
   "cell_type": "markdown",
   "id": "1b00c712",
   "metadata": {},
   "source": [
    "<div>\n",
    "<img src=\"Encoder2.png\" width=\"500px\"/>\n",
    "</div>"
   ]
  },
  {
   "cell_type": "markdown",
   "id": "e8dcc77f",
   "metadata": {},
   "source": [
    "## This makes neural LM a very powerful and remarkable easy way to distribute pre-trained networks for further use in downstream tasks"
   ]
  },
  {
   "cell_type": "markdown",
   "id": "8375abb8",
   "metadata": {},
   "source": [
    "# $ \\\\ $\n",
    "# $ \\\\ $"
   ]
  },
  {
   "cell_type": "markdown",
   "id": "897a3e13",
   "metadata": {},
   "source": [
    "## BUT, RNNs are slow and hard to scale\n",
    "## Furthermore, attention is a powerful concept:"
   ]
  },
  {
   "cell_type": "markdown",
   "id": "b990d3d6",
   "metadata": {},
   "source": [
    "# $ \\\\ $\n",
    "# $ \\\\ $"
   ]
  },
  {
   "cell_type": "markdown",
   "id": "5e4a31dc",
   "metadata": {},
   "source": [
    "### Attention in nlp (translation)"
   ]
  },
  {
   "cell_type": "markdown",
   "id": "ec7886e2",
   "metadata": {},
   "source": [
    "<div>\n",
    "<img src=\"Attention1.png\" width=\"60%\"/>\n",
    "</div>"
   ]
  },
  {
   "cell_type": "markdown",
   "id": "8d143a4e",
   "metadata": {},
   "source": [
    "# $ \\\\ $\n",
    "# $ \\\\ $"
   ]
  },
  {
   "cell_type": "markdown",
   "id": "f417ea97",
   "metadata": {},
   "source": [
    "<div>\n",
    "<img src=\"Attention2.png\" width=\"55%\"/>\n",
    "</div>"
   ]
  },
  {
   "cell_type": "markdown",
   "id": "a362993d",
   "metadata": {},
   "source": [
    "# $ \\\\ $\n",
    "# $ \\\\ $"
   ]
  },
  {
   "cell_type": "markdown",
   "id": "fb770370",
   "metadata": {},
   "source": [
    "<div>\n",
    "<img src=\"Attention3.png\" width=\"55%\"/>\n",
    "</div>"
   ]
  },
  {
   "cell_type": "markdown",
   "id": "2c045449",
   "metadata": {},
   "source": [
    "# $ \\\\ $\n",
    "# $ \\\\ $"
   ]
  },
  {
   "cell_type": "markdown",
   "id": "8f848b53",
   "metadata": {},
   "source": [
    "### Attention activation map"
   ]
  },
  {
   "cell_type": "markdown",
   "id": "4e5af3ed",
   "metadata": {},
   "source": [
    "<div>\n",
    "<img src=\"AttentionActivation.png\" width=\"55%\"/>\n",
    "</div>"
   ]
  },
  {
   "cell_type": "markdown",
   "id": "54e0d28e",
   "metadata": {},
   "source": [
    "# $ \\\\ $\n",
    "# $ \\\\ $"
   ]
  },
  {
   "cell_type": "markdown",
   "id": "a3b3dfae",
   "metadata": {},
   "source": [
    "## Transformer - a powerful NN building block"
   ]
  },
  {
   "cell_type": "markdown",
   "id": "4fb5fc4b",
   "metadata": {},
   "source": [
    "- ### fast parallelizable attention mechanism (vs RNN)"
   ]
  },
  {
   "cell_type": "markdown",
   "id": "c8d2a9ca",
   "metadata": {},
   "source": [
    "- #### ref: http://jalammar.github.io/illustrated-transformer/"
   ]
  },
  {
   "cell_type": "markdown",
   "id": "e55cd759",
   "metadata": {},
   "source": [
    "<div>\n",
    "<img src=\"TransformerIllustrated.png\" width=\"1000px\"/>\n",
    "</div>"
   ]
  },
  {
   "cell_type": "markdown",
   "id": "f8831fe3",
   "metadata": {},
   "source": [
    "# $ \\\\ $\n",
    "# $ \\\\ $"
   ]
  },
  {
   "cell_type": "markdown",
   "id": "7cfef064",
   "metadata": {},
   "source": [
    "## First (Large) LM model was `BERT`"
   ]
  },
  {
   "cell_type": "markdown",
   "id": "1984cfa5",
   "metadata": {},
   "source": [
    "# $ \\\\ $\n",
    "# $ \\\\ $"
   ]
  },
  {
   "cell_type": "markdown",
   "id": "8ab09556",
   "metadata": {},
   "source": [
    "## BERT\n",
    "\n",
    "### Bidirectional Encoder Representations from Transformers\n",
    "\n",
    "#### https://arxiv.org/pdf/1810.04805.pdf"
   ]
  },
  {
   "cell_type": "markdown",
   "id": "2092eee6",
   "metadata": {},
   "source": [
    "<div>\n",
    "<img src=\"BERT.png\" width=\"500px\"/>\n",
    "</div>"
   ]
  },
  {
   "cell_type": "markdown",
   "id": "a47711c1",
   "metadata": {},
   "source": [
    "# $ \\\\ $\n",
    "# $ \\\\ $"
   ]
  },
  {
   "cell_type": "markdown",
   "id": "fd11e655",
   "metadata": {},
   "source": [
    "## General Idea of Bert"
   ]
  },
  {
   "cell_type": "markdown",
   "id": "0dec474c",
   "metadata": {},
   "source": [
    "## <center> Step 1:</center>"
   ]
  },
  {
   "cell_type": "markdown",
   "id": "49cfeb8a",
   "metadata": {},
   "source": [
    "<div>\n",
    "<img src=\"BERT2.png\" width=\"500px\"/>\n",
    "</div>"
   ]
  },
  {
   "cell_type": "markdown",
   "id": "474b7efc",
   "metadata": {},
   "source": [
    "## <center> Step 2:</center>"
   ]
  },
  {
   "cell_type": "markdown",
   "id": "0f96e37b",
   "metadata": {},
   "source": [
    "<div>\n",
    "<img src=\"BERT3.png\" width=\"500px\"/>\n",
    "</div>"
   ]
  },
  {
   "cell_type": "markdown",
   "id": "f4ed9a52",
   "metadata": {},
   "source": [
    "# $ \\\\ $\n",
    "# $ \\\\ $"
   ]
  },
  {
   "cell_type": "markdown",
   "id": "b16202fb",
   "metadata": {},
   "source": [
    "## How is Bert trained?"
   ]
  },
  {
   "cell_type": "markdown",
   "id": "67c9267f",
   "metadata": {},
   "source": [
    "## Masking k% of words\n",
    "\n",
    "- ### the man went to the `[MASK]` to buy a `[MASK]` of milk\n",
    "### -> predict `store` and `gallon`"
   ]
  },
  {
   "cell_type": "markdown",
   "id": "d145f5a2",
   "metadata": {},
   "source": [
    "### Question, how is this different from GPT's next word prediction?"
   ]
  },
  {
   "cell_type": "markdown",
   "id": "6651af3f",
   "metadata": {},
   "source": [
    "# $ \\\\ $\n",
    "# $ \\\\ $"
   ]
  },
  {
   "cell_type": "code",
   "execution_count": 58,
   "id": "06028241",
   "metadata": {},
   "outputs": [],
   "source": [
    "from transformers import BertTokenizer, BertModel\n",
    "\n",
    "tokenizer = BertTokenizer.from_pretrained('bert-base-uncased')\n",
    "model = BertModel.from_pretrained(\"bert-base-uncased\")"
   ]
  },
  {
   "cell_type": "markdown",
   "id": "a439bb9a",
   "metadata": {},
   "source": [
    "#### note: word piece tokenizer was used"
   ]
  },
  {
   "cell_type": "code",
   "execution_count": 59,
   "id": "931e6ab1",
   "metadata": {},
   "outputs": [
    {
     "data": {
      "text/plain": [
       "['un', '##fr', '##ien', '##dly']"
      ]
     },
     "execution_count": 59,
     "metadata": {},
     "output_type": "execute_result"
    }
   ],
   "source": [
    "tokenizer.tokenize('unfriendly')"
   ]
  },
  {
   "cell_type": "markdown",
   "id": "702ae9a1",
   "metadata": {},
   "source": [
    "### Encode the input text for model consumption"
   ]
  },
  {
   "cell_type": "code",
   "execution_count": 60,
   "id": "b266576d",
   "metadata": {},
   "outputs": [],
   "source": [
    "text = \"Replace me by any text you'd like.\""
   ]
  },
  {
   "cell_type": "code",
   "execution_count": 61,
   "id": "129891e3",
   "metadata": {},
   "outputs": [],
   "source": [
    "encoded_input = tokenizer(text, return_tensors='pt')"
   ]
  },
  {
   "cell_type": "code",
   "execution_count": 62,
   "id": "0f17e962",
   "metadata": {},
   "outputs": [
    {
     "data": {
      "text/plain": [
       "{'input_ids': tensor([[ 101, 5672, 2033, 2011, 2151, 3793, 2017, 1005, 1040, 2066, 1012,  102]]), 'token_type_ids': tensor([[0, 0, 0, 0, 0, 0, 0, 0, 0, 0, 0, 0]]), 'attention_mask': tensor([[1, 1, 1, 1, 1, 1, 1, 1, 1, 1, 1, 1]])}"
      ]
     },
     "execution_count": 62,
     "metadata": {},
     "output_type": "execute_result"
    }
   ],
   "source": [
    "encoded_input"
   ]
  },
  {
   "cell_type": "code",
   "execution_count": 63,
   "id": "4487f5e3",
   "metadata": {},
   "outputs": [],
   "source": [
    "output = model(**encoded_input)\n"
   ]
  },
  {
   "cell_type": "code",
   "execution_count": 64,
   "id": "69e565c7",
   "metadata": {},
   "outputs": [
    {
     "data": {
      "text/plain": [
       "torch.Size([1, 12, 768])"
      ]
     },
     "execution_count": 64,
     "metadata": {},
     "output_type": "execute_result"
    }
   ],
   "source": [
    "output.last_hidden_state.shape"
   ]
  },
  {
   "cell_type": "markdown",
   "id": "f96f83f3",
   "metadata": {},
   "source": [
    "### very easy to get powerful contextual representations for our input sentence"
   ]
  },
  {
   "cell_type": "markdown",
   "id": "0ace8df6",
   "metadata": {},
   "source": [
    "# $ \\\\ $\n",
    "# $ \\\\ $"
   ]
  },
  {
   "cell_type": "markdown",
   "id": "afb88456",
   "metadata": {},
   "source": [
    "## Let's test this:\n",
    "### Choose two different interpretations of `'stick'`"
   ]
  },
  {
   "cell_type": "code",
   "execution_count": 65,
   "id": "67d064ff",
   "metadata": {},
   "outputs": [],
   "source": [
    "text = \"I found a wooden stick in the forest\"\n",
    "encoded_input = tokenizer(text, return_tensors='pt')\n",
    "output = model(**encoded_input)\n",
    "vec_1 = output.last_hidden_state[0,4,:].detach().numpy()\n",
    "\n",
    "text = \"chewing gum can stick to my shoe\"\n",
    "encoded_input = tokenizer(text, return_tensors='pt')\n",
    "output = model(**encoded_input)\n",
    "vec_2 = output.last_hidden_state[0,3,:].detach().numpy()"
   ]
  },
  {
   "cell_type": "code",
   "execution_count": 66,
   "id": "a8d60180",
   "metadata": {},
   "outputs": [
    {
     "data": {
      "image/png": "[encoded data removed]",
      "text/plain": [
       "<Figure size 1600x600 with 1 Axes>"
      ]
     },
     "metadata": {},
     "output_type": "display_data"
    }
   ],
   "source": [
    "plt.figure(figsize=(16,6))\n",
    "plt.plot(vec_1)\n",
    "plt.plot(vec_2);"
   ]
  },
  {
   "cell_type": "code",
   "execution_count": 67,
   "id": "e7bac90f",
   "metadata": {},
   "outputs": [],
   "source": [
    "from sklearn.metrics.pairwise import cosine_similarity"
   ]
  },
  {
   "cell_type": "code",
   "execution_count": 68,
   "id": "2c3ba340",
   "metadata": {},
   "outputs": [
    {
     "name": "stdout",
     "output_type": "stream",
     "text": [
      "cosine sim: 0.36625832\n"
     ]
    }
   ],
   "source": [
    "print('cosine sim:', cosine_similarity([vec_1], [vec_2])[0][0])"
   ]
  },
  {
   "cell_type": "markdown",
   "id": "997f637d",
   "metadata": {},
   "source": [
    "### Let's choose a sentence where the meaning of stick is more similar"
   ]
  },
  {
   "cell_type": "code",
   "execution_count": 69,
   "id": "245f8eb7",
   "metadata": {},
   "outputs": [],
   "source": [
    "text = \"My garden has a wooden stick on the ground\"\n",
    "encoded_input = tokenizer(text, return_tensors='pt')\n",
    "output = model(**encoded_input)\n",
    "vec_3 = output.last_hidden_state[0,5,:].detach().numpy()"
   ]
  },
  {
   "cell_type": "code",
   "execution_count": 70,
   "id": "b8937332",
   "metadata": {
    "scrolled": true
   },
   "outputs": [
    {
     "name": "stdout",
     "output_type": "stream",
     "text": [
      "cosine sim: 0.876843\n"
     ]
    }
   ],
   "source": [
    "print('cosine sim:', cosine_similarity([vec_1], [vec_3])[0][0])"
   ]
  },
  {
   "cell_type": "markdown",
   "id": "cabe714b",
   "metadata": {},
   "source": [
    "# $ \\\\ $\n",
    "# $ \\\\ $"
   ]
  },
  {
   "cell_type": "markdown",
   "id": "1d8d369f",
   "metadata": {},
   "source": [
    "## We can also look at the original masked training task"
   ]
  },
  {
   "cell_type": "code",
   "execution_count": 71,
   "id": "89cbeef0",
   "metadata": {},
   "outputs": [
    {
     "name": "stderr",
     "output_type": "stream",
     "text": [
      "BertForMaskedLM has generative capabilities, as `prepare_inputs_for_generation` is explicitly overwritten. However, it doesn't directly inherit from `GenerationMixin`. From 👉v4.50👈 onwards, `PreTrainedModel` will NOT inherit from `GenerationMixin`, and this model will lose the ability to call `generate` and other related functions.\n",
      "  - If you're using `trust_remote_code=True`, you can get rid of this warning by loading the model with an auto class. See https://huggingface.co/docs/transformers/en/model_doc/auto#auto-classes\n",
      "  - If you are the owner of the model architecture code, please modify your model class such that it inherits from `GenerationMixin` (after `PreTrainedModel`, otherwise you'll get an exception).\n",
      "  - If you are not the owner of the model architecture class, please contact the model code owner to update it.\n",
      "Some weights of the model checkpoint at bert-base-uncased were not used when initializing BertForMaskedLM: ['bert.pooler.dense.bias', 'bert.pooler.dense.weight', 'cls.seq_relationship.bias', 'cls.seq_relationship.weight']\n",
      "- This IS expected if you are initializing BertForMaskedLM from the checkpoint of a model trained on another task or with another architecture (e.g. initializing a BertForSequenceClassification model from a BertForPreTraining model).\n",
      "- This IS NOT expected if you are initializing BertForMaskedLM from the checkpoint of a model that you expect to be exactly identical (initializing a BertForSequenceClassification model from a BertForSequenceClassification model).\n"
     ]
    }
   ],
   "source": [
    "from transformers import pipeline\n",
    "unmasker = pipeline('fill-mask', model='bert-base-uncased')"
   ]
  },
  {
   "cell_type": "code",
   "execution_count": 72,
   "id": "70911d03",
   "metadata": {},
   "outputs": [
    {
     "data": {
      "text/plain": [
       "[{'score': 0.1800980418920517,\n",
       "  'token': 2833,\n",
       "  'token_str': 'food',\n",
       "  'sequence': 'the cat ate most of the food.'},\n",
       " {'score': 0.09574179351329803,\n",
       "  'token': 6240,\n",
       "  'token_str': 'meat',\n",
       "  'sequence': 'the cat ate most of the meat.'},\n",
       " {'score': 0.04698106646537781,\n",
       "  'token': 5909,\n",
       "  'token_str': 'fruit',\n",
       "  'sequence': 'the cat ate most of the fruit.'},\n",
       " {'score': 0.024772504344582558,\n",
       "  'token': 7852,\n",
       "  'token_str': 'bread',\n",
       "  'sequence': 'the cat ate most of the bread.'},\n",
       " {'score': 0.021497944369912148,\n",
       "  'token': 7954,\n",
       "  'token_str': 'meal',\n",
       "  'sequence': 'the cat ate most of the meal.'}]"
      ]
     },
     "execution_count": 72,
     "metadata": {},
     "output_type": "execute_result"
    }
   ],
   "source": [
    "unmasker(\"The cat ate most of the [MASK].\")"
   ]
  },
  {
   "cell_type": "markdown",
   "id": "c8c99be7",
   "metadata": {},
   "source": [
    "# $ \\\\ $\n",
    "# $ \\\\ $"
   ]
  },
  {
   "cell_type": "markdown",
   "id": "87ee0bac",
   "metadata": {},
   "source": [
    "## Improvements to BERT (ImageNet moment)"
   ]
  },
  {
   "cell_type": "markdown",
   "id": "a19f5e63",
   "metadata": {},
   "source": [
    "<div>\n",
    "<img src=\"BERT4.png\" width=\"400px\"/>\n",
    "</div>"
   ]
  },
  {
   "cell_type": "markdown",
   "id": "7dc1f297",
   "metadata": {},
   "source": [
    "#### <center>and many more...</center>"
   ]
  },
  {
   "cell_type": "markdown",
   "id": "64416e4b",
   "metadata": {},
   "source": [
    "# $ \\\\ $\n",
    "# $ \\\\ $"
   ]
  },
  {
   "cell_type": "markdown",
   "id": "e27ba255",
   "metadata": {},
   "source": [
    "<div>\n",
    "<img src=\"BERT5.png\" width=\"600px\"/>\n",
    "</div>"
   ]
  },
  {
   "cell_type": "markdown",
   "id": "9739e612",
   "metadata": {},
   "source": [
    "# $ \\\\ $\n",
    "# $ \\\\ $"
   ]
  },
  {
   "cell_type": "markdown",
   "id": "b6d8c93c",
   "metadata": {},
   "source": [
    "<div>\n",
    "<img src=\"BERT6.png\" width=\"700px\"/>\n",
    "</div>"
   ]
  },
  {
   "cell_type": "markdown",
   "id": "68810984",
   "metadata": {},
   "source": [
    "## Note that these models incorporate a lot of general knowledge."
   ]
  },
  {
   "cell_type": "markdown",
   "id": "edc8c0f3",
   "metadata": {},
   "source": []
  },
  {
   "cell_type": "markdown",
   "id": "f86fa3c3",
   "metadata": {},
   "source": [
    "# $ \\\\ $\n",
    "# $ \\\\ $"
   ]
  },
  {
   "cell_type": "markdown",
   "id": "9161c519",
   "metadata": {},
   "source": [
    "## some references\n",
    "- #### ref: https://ruder.io/word-embeddings-1/index.html#skipgram\n",
    "- #### ref w2v: http://jalammar.github.io/illustrated-word2vec/\n",
    "- #### ref http://jalammar.github.io/illustrated-bert/"
   ]
  },
  {
   "cell_type": "markdown",
   "id": "d76aa3c7",
   "metadata": {},
   "source": [
    "# $ \\\\ $\n",
    "# $ \\\\ $"
   ]
  },
  {
   "cell_type": "markdown",
   "id": "98fa38c9",
   "metadata": {},
   "source": [
    "## Modern networks"
   ]
  },
  {
   "cell_type": "markdown",
   "id": "1e3e4bc4",
   "metadata": {},
   "source": [
    "- #### Convolutions (up/down sampling, fast, length extrapolation images, audio)\n",
    "- #### Lstm (simple sequences, leightweight decoders)\n",
    "- #### Activations, Norm Layers, Dropout, etc\n",
    "- #### Transformers (most powerful, slow, positional dependence)"
   ]
  },
  {
   "cell_type": "markdown",
   "id": "a72ac9c1",
   "metadata": {},
   "source": [
    "# $ \\\\ $\n",
    "# $ \\\\ $"
   ]
  },
  {
   "cell_type": "markdown",
   "id": "490b9e14",
   "metadata": {},
   "source": [
    "### Network Architectures"
   ]
  },
  {
   "cell_type": "markdown",
   "id": "85ae3cf5",
   "metadata": {},
   "source": [
    "<div>\n",
    "<img src=\"NetworkArchitecture.png\" width=\"500px\"/>\n",
    "</div>"
   ]
  },
  {
   "cell_type": "markdown",
   "id": "6ed3a460",
   "metadata": {},
   "source": [
    "# $ \\\\ $\n",
    "# $ \\\\ $"
   ]
  },
  {
   "cell_type": "markdown",
   "id": "1968ff91",
   "metadata": {},
   "source": [
    "### High level model structure"
   ]
  },
  {
   "cell_type": "markdown",
   "id": "f141b338",
   "metadata": {},
   "source": [
    "<div>\n",
    "<img src=\"HighLevelModelStructure.png\" width=\"500px\"/>\n",
    "</div>"
   ]
  },
  {
   "cell_type": "markdown",
   "id": "ed144fe0",
   "metadata": {},
   "source": [
    "#### Finetuning Large Networks:\n",
    "- #### separate encoder/decoder networks\n",
    "- #### replacing model head (using embeddings)\n",
    "- #### freezing of parts/layers for finetuning"
   ]
  },
  {
   "cell_type": "markdown",
   "id": "d96947b8",
   "metadata": {},
   "source": [
    "# $ \\\\ $\n",
    "# $ \\\\ $"
   ]
  },
  {
   "cell_type": "markdown",
   "id": "692061ce",
   "metadata": {},
   "source": [
    "### GPT-4 (Decoder-only model)"
   ]
  },
  {
   "cell_type": "markdown",
   "id": "c246f4d8",
   "metadata": {},
   "source": [
    "<div>\n",
    "<img src=\"GPT4.png\" width=\"500px\"/>\n",
    "</div>"
   ]
  },
  {
   "cell_type": "markdown",
   "id": "696c6f75",
   "metadata": {},
   "source": [
    "# $ \\\\ $"
   ]
  },
  {
   "cell_type": "markdown",
   "id": "78c3d701",
   "metadata": {},
   "source": [
    "# $ \\\\ $\n",
    "# $ \\\\ $"
   ]
  },
  {
   "cell_type": "markdown",
   "id": "ab658e38",
   "metadata": {},
   "source": [
    "### Llama: Meta's Open Source GPT"
   ]
  },
  {
   "cell_type": "markdown",
   "id": "98f3f299",
   "metadata": {},
   "source": [
    "https://www.llama.com/llama-downloads/"
   ]
  },
  {
   "cell_type": "markdown",
   "id": "54ae0f87",
   "metadata": {},
   "source": [
    "<div>\n",
    "<img src=\"Llama3dot2.jpg\" width=\"100%\"/>\n",
    "</div>"
   ]
  },
  {
   "cell_type": "markdown",
   "id": "bfc96e52",
   "metadata": {},
   "source": []
  },
  {
   "cell_type": "markdown",
   "id": "b321a141",
   "metadata": {},
   "source": []
  },
  {
   "cell_type": "code",
   "execution_count": null,
   "id": "61c0b795",
   "metadata": {},
   "outputs": [],
   "source": []
  },
  {
   "cell_type": "code",
   "execution_count": null,
   "id": "7c84bad4",
   "metadata": {},
   "outputs": [],
   "source": []
  },
  {
   "cell_type": "code",
   "execution_count": null,
   "id": "d8a7d980",
   "metadata": {},
   "outputs": [],
   "source": []
  }
 ],
 "metadata": {
  "kernelspec": {
   "display_name": "Nick",
   "language": "python",
   "name": "python3"
  },
  "language_info": {
   "codemirror_mode": {
    "name": "ipython",
    "version": 3
   },
   "file_extension": ".py",
   "mimetype": "text/x-python",
   "name": "python",
   "nbconvert_exporter": "python",
   "pygments_lexer": "ipython3",
   "version": "3.10.14"
  }
 },
 "nbformat": 4,
 "nbformat_minor": 5
}
