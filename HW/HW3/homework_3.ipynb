{
 "cells": [
  {
   "cell_type": "markdown",
   "metadata": {},
   "source": [
    "# Homework #3"
   ]
  },
  {
   "cell_type": "markdown",
   "metadata": {},
   "source": [
    "# Problem 1: Obtain structured company data using Regex"
   ]
  },
  {
   "cell_type": "code",
   "execution_count": 1,
   "metadata": {},
   "outputs": [
    {
     "name": "stdout",
     "output_type": "stream",
     "text": [
      "%pylab is deprecated, use %matplotlib inline and import the required libraries.\n",
      "Populating the interactive namespace from numpy and matplotlib\n"
     ]
    }
   ],
   "source": [
    "%pylab inline"
   ]
  },
  {
   "cell_type": "code",
   "execution_count": 1,
   "metadata": {},
   "outputs": [],
   "source": [
    "import re\n",
    "import pandas as pd"
   ]
  },
  {
   "cell_type": "code",
   "execution_count": 5,
   "metadata": {},
   "outputs": [
    {
     "data": {
      "text/html": [
       "<div>\n",
       "<style scoped>\n",
       "    .dataframe tbody tr th:only-of-type {\n",
       "        vertical-align: middle;\n",
       "    }\n",
       "\n",
       "    .dataframe tbody tr th {\n",
       "        vertical-align: top;\n",
       "    }\n",
       "\n",
       "    .dataframe thead th {\n",
       "        text-align: right;\n",
       "    }\n",
       "</style>\n",
       "<table border=\"1\" class=\"dataframe\">\n",
       "  <thead>\n",
       "    <tr style=\"text-align: right;\">\n",
       "      <th></th>\n",
       "      <th>page_id</th>\n",
       "      <th>page_title</th>\n",
       "      <th>page_views</th>\n",
       "      <th>intro_text</th>\n",
       "    </tr>\n",
       "  </thead>\n",
       "  <tbody>\n",
       "    <tr>\n",
       "      <th>0</th>\n",
       "      <td>856</td>\n",
       "      <td>Apple Inc.</td>\n",
       "      <td>190485</td>\n",
       "      <td>Apple Inc. is an American multinational techno...</td>\n",
       "    </tr>\n",
       "    <tr>\n",
       "      <th>1</th>\n",
       "      <td>2386</td>\n",
       "      <td>American Airlines</td>\n",
       "      <td>40829</td>\n",
       "      <td>American Airlines, Inc. (AA) is a major Americ...</td>\n",
       "    </tr>\n",
       "  </tbody>\n",
       "</table>\n",
       "</div>"
      ],
      "text/plain": [
       "   page_id         page_title  page_views  \\\n",
       "0      856         Apple Inc.      190485   \n",
       "1     2386  American Airlines       40829   \n",
       "\n",
       "                                          intro_text  \n",
       "0  Apple Inc. is an American multinational techno...  \n",
       "1  American Airlines, Inc. (AA) is a major Americ...  "
      ]
     },
     "execution_count": 5,
     "metadata": {},
     "output_type": "execute_result"
    }
   ],
   "source": [
    "wiki_df = pd.read_csv('data/kdwd_r1k_articles.csv')\n",
    "wiki_df.head(2)"
   ]
  },
  {
   "cell_type": "markdown",
   "metadata": {},
   "source": [
    "### -) Write a regex to find unusually capitalized terms\n",
    "Sometimes product names will have unusual capitalization such as iPhone or ThinkPad. Find a list of such terms and investigate if you think some of them are products."
   ]
  },
  {
   "cell_type": "code",
   "execution_count": 11,
   "metadata": {},
   "outputs": [
    {
     "name": "stdout",
     "output_type": "stream",
     "text": [
      "256 terms found that are potential products\n",
      "{'UnionPay', 'CubeSmart', 'BioSpin', 'iLife', 'PowerTOP', 'PulteGroup', 'ProPublica', 'RingCentral', 'ThinkPad', 'CareFusion', 'McCann', 'HomeTeam', 'McKelvey', 'RenaissanceRe', 'DDoS', 'SaskTel', 'OkCupid', 'McVey', 'LogMeIn', 'NetScreen', 'SoHo', 'CityCenter', 'McGee', 'AirPods', 'SystemC', 'RiverSource', 'SoCs', 'SoftBank', 'SuperTarget', 'AbbVie', 'FreeStyle', 'PepsiCo', 'LinkedIn', 'AbioCor', 'MinuteClinic', 'McMaster', 'BioWare', 'BofA', 'McMoRan', 'FarmVille', 'FlexRigs', 'ServiceNow', 'jetBlue', 'SpectraSite', 'BankAmerica', 'WellCare', 'McCormick', 'GrafTech', 'tvOS', 'MitraClip', 'ExpertCity', 'LoRa', 'CoreSite', 'TransFund', 'iTunes', 'MidCap', 'ViacomCBS', 'MullenLowe', 'SoCalGas', 'OpenStack', 'FactSet', 'SeaTac', 'BellSouth', 'GeForce', 'kV', 'AmeriGas', 'VoIP', 'DoubleTree', 'ManpowerGroup', 'HoloLens', 'AmerisourceBergen', 'KGaA', 'SolarCity', 'HomeAway', 'IoT', 'FirstEnergy', 'AspenTech', 'FoodSaver', 'MiWi', 'eSignature', 'DePaolo', 'iCloud', 'ProNav', 'OpenTable', 'FleetCor', 'iPad', 'McDonnell', 'MasterCard', 'nVidia', 'SpaceShipOne', 'AntiVirals', 'ViroMed', 'ExxonMobil', 'ProLogis', 'iOS', 'WingStreet', 'SaaS', 'iPadOS', 'LoopNet', 'ABInBev', 'McCollum', 'KeepStock', 'AboveNet', 'OfficeTeam', 'HomePod', 'GlaxoSmithKline', 'CoStar', 'AmeriSpec', 'NortonLifeLock', 'EpiPen', 'MasterBrand', 'GoDaddy', 'UnitedHealth', 'NeXT', 'PaperMate', 'HollyFrontier', 'CarRentals', 'TargetExpress', 'BiosPacific', 'EchoStar', 'CommScope', 'TeamHealth', 'RealPage', 'AmeriSource', 'SpeedPerks', 'TriQuint', 'WarnerMedia', 'TreeHouse', 'CinFin', 'McLennan', 'ClickPay', 'DeSerres', 'CyrusOne', 'VisaNet', 'BostonBiochem', 'macOS', 'PhRMA', 'AutoNation', 'ExtraOrtho', 'JetBlue', 'CorningWare', 'OpenDNS', 'SmartAuction', 'LyondellBasell', 'ProConnect', 'OneWest', 'BioMarin', 'OshKosh', 'MoBank', 'DataMan', 'StarCraft', 'CenturyLink', 'JanSport', 'CityTarget', 'FortiGate', 'conEdison', 'DirecTV', 'eBay', 'QuickBooks', 'NextEra', 'AllModern', 'LatencyTOP', 'PaySpot', 'LabCorp', 'ProSeries', 'iPhone', 'DaVita', 'CarMax', 'PSoC', 'LongHorn', 'eProcurement', 'AmSurg', 'MetLife', 'RenewLife', 'WoodWick', 'ThinkCentre', 'SundanceTV', 'iMessage', 'watchOS', 'WaterSeal', 'PlentyOfFish', 'CapSense', 'NationsBank', 'SystemVerilog', 'LiftFan', 'ConocoPhillips', 'ZonePerfect', 'ArcLight', 'TransUnion', 'HealthSouth', 'TurboTax', 'UltiPro', 'AkzoNobel', 'GoTo', 'PayPal', 'AvalonBay', 'DowDuPont', 'GlobalFoundries', 'BetterInvesting', 'ProteinSimple', 'BioPharma', 'MarketWatch', 'AvantiGas', 'ScanSoft', 'DigiCert', 'CoreLogic', 'PeopleSoft', 'FireEye', 'LifeStorage', 'eDiscovery', 'aHUS', 'GetGo', 'FlightSafety', 'DuPont', 'iPod', 'AppleCare', 'McDonald', 'BioShock', 'NetJets', 'EvDO', 'AutoFuse', 'iWork', 'HomeSense', 'OneMain', 'DaVinci', 'BankAmericard', 'HomeGoods', 'UnumProvident', 'AutoZone', 'iMac', 'HomeLink', 'McDermott', 'BorgWarner', 'ServiceMaster', 'CdTe', 'BioMedical', 'VisionPro', 'eCommerce', 'McLean', 'PerkinElmer', 'PwC', 'McGraw', 'BizBuySell', 'McKenney', 'WorldPay', 'DocuSign', 'FedEx', 'AutoCAD', 'BancWest', 'TeleRecarga', 'WorleyParsons', 'OneChicago', 'MarketAxess', 'BioScience', 'SkyTeam', 'BlackRock'}\n"
     ]
    }
   ],
   "source": [
    "maybe_products_ptn = r'\\b[a-zA-Z]*[a-z][A-Z][a-zA-Z]*\\b'  # updated pattern to include lowercase start\n",
    "\n",
    "# code here!\n",
    "maybe_products_set = set()\n",
    "for text in wiki_df['intro_text']:\n",
    "    maybe_products_set.update(re.findall(maybe_products_ptn, text))\n",
    "\n",
    "print(len(maybe_products_set), 'terms found that are potential products')\n",
    "print(maybe_products_set)"
   ]
  },
  {
   "cell_type": "code",
   "execution_count": 10,
   "metadata": {},
   "outputs": [],
   "source": [
    "# verify that we found some of the key terms\n",
    "assert('iPhone' in maybe_products_set)\n",
    "assert('ThinkPad' in maybe_products_set)"
   ]
  },
  {
   "cell_type": "markdown",
   "metadata": {},
   "source": [
    "### -) Parse company acquisition data from plain text"
   ]
  },
  {
   "cell_type": "markdown",
   "metadata": {},
   "source": [
    "We are looking to identify the following types of patterns.<br />\n",
    "`'Citrix acquired Sequoia Software Corp'`<br />\n",
    "`'Moody\\'s was acquired by Dun & Bradstreet in 1962.'`<br />\n",
    "The idea here is to look for patterns around the word 'acquire' with two valid entities on either side, and an option year at the end.<br />\n",
    "<span style=\"color:orange\">Helpful Reminder:</span> you can create non-capturing capture groups via `(?:capture this|or that)`"
   ]
  },
  {
   "cell_type": "code",
   "execution_count": 36,
   "metadata": {},
   "outputs": [
    {
     "name": "stdout",
     "output_type": "stream",
     "text": [
      "6359 terms found that are potential companies\n",
      "{'East West Bancorp Inc', 'Black & Decker', 'Loom', 'Mobil', 'Sara Lee', 'Founding', 'Financial Services', 'Pork', 'Fast Tech', 'Rayovac and Varta', 'On October', 'Green Building Council', 'Conshohocken', 'Wireless BLE Bluetooth Low-Energy and USB', 'Darden Restaurants Inc', 'ICE Clear Netherlands and ICE NGX', 'Robert Half', \"Nature's Miracle\", 'Southern California', 'Cotai', 'EA Vancouver', 'NOV', 'AMD', 'Hess', 'Phase I-IV', 'Old El Paso', 'Aerospace', 'Restasis', 'Permian Basin', 'Canada and Europe', 'Chevrolet', 'CEO Gil Amelio', 'Holden', 'Royal Vopak', 'Jeff Fettig', 'Scotland Group', 'HII', 'Private First Class Stuart S', 'Jack Dorsey', 'Intercontinental Exchange', 'BNP Paribas', 'Indiana and Virginia', \"Tate's Bake Shop and Tang\", 'Defense', 'Frost Bankers', 'Healthpeak Properties', 'LDS Church', 'Exploration and Production', 'Madison Square', 'NCR Global Headquarters', 'Broadcom Inc', 'MTN', 'Conversely', 'Quanta Services', 'NJ', 'Executive Programs', 'Radnor', 'Medical Group', 'London Stock Exchange and SIX Swiss Exchange', 'Asbestos Personal Injury Settlement Trust', 'Annaly Capital Management', 'TBB', 'Armonk', 'Amdocs', 'Kansas', 'Head Chairman and C', 'Pega Infinity', 'Pipeline & Process Services', 'Chubb', 'Magnolia Audio Video', 'Flower Foods', 'Life & Retirement', \"ONEOK's\", 'SEB', 'Visteon', 'Southeastern Michigan', 'The Howard Hughes Corporation', 'Lam', 'Its European', 'Health Plan Arizona and Missouri Care', 'Englewood', 'Regional', 'Cognex Corporation', 'HealthSouth', 'Finland', \"Gold N'Plump\", 'Jack Kilby', 'Retail Banking', 'China and Europe', 'CNX', 'Dutch Boy', 'In June', 'Pringles', 'Ryan Brant', 'Jeff Gordon', \"Autodesk's\", 'ADI', 'Nobel Prizes', 'CorningWare and Visions Pyroceram', 'Hughes', 'MGM Growth Properties', \"Hudson's\", 'Largest Companies', 'Opdivo', 'The Carlyle Group', 'Targa Resources', 'CAT', \"Interbrand's\", 'CubeSmart', 'Kosmos Energy', 'The Venetian Macao', 'The Rouse Company', 'The International Business Machines Corporation', 'Palo Alto Research Center', 'APTIV', 'SS', 'July', 'Greece', 'Roger Altman', 'United States Military', 'Alliance Healthcare', 'Prudential', 'BD', 'Expo Markers', 'Cincinnati Global Syndicate', 'STAT and MitraClip', 'WNBA', 'Samsung', 'Milford', 'Cablevision', 'Swedish American John W', 'SBA Communications Corporation', 'Founded', 'Azure', 'Coke', 'Herald Square', 'Dun & Bradstreet', 'The Gap', 'Marriott', 'Allied Waste Industries', 'Malaysia and Thailand', 'ATC', 'ICBC', 'Gigafactory', 'Waterloo', 'Securock Brand Glass-Mat Sheathing', 'BATUS Inc', \"New York's Little Italy\", 'Free People', 'Heartland RV', 'Paramount Group', 'HP', 'Broadridge', 'Mexico', 'Pfizer', 'Consolidated Edison', 'German', 'World Bank', 'Bionostics and BostonBiochem', 'Universal Sealants', 'Hotwire', 'Donaldson Company', 'Departments', 'The Babcock & Wilcox Companies', 'Central Oklahoma', 'Russell Hobbs', 'Riverwoods', 'Textron', 'From', 'First Citizens Bank', 'London', 'Bethesda', 'WaterSeal', 'NRG Energy', 'Shelton', 'Public Service Corporation', 'Central Texas', 'Coal', 'Puerto Rico and London', 'MGM Grand', 'Zyprexa', 'Woolworth Company', 'Google', 'Commercial', 'Street', 'BOH', 'Mountain View', 'Century Fox', 'Fortune World', \"Through Kirby's\", 'Macy & Co', 'Minogue', 'Tesla Motors', 'Motto', 'Lehigh Valley Hospital and St', 'San Antonio', 'Harold Stanley', 'Duracell', 'Bradley Jacobs', 'Master Charge', 'Marineland', 'Liberty Property Trust', \"Envision's\", 'Fiserv Forum', 'In Canada', 'AVR and SAM', 'Align Technology', 'Lyondell Chemical Company', 'JBS S', 'IPO', 'Buffett', 'Lyon', 'Sheetrock Brand Gypsum Panels', 'Northrop Grumman', \"Gap's\", 'Baugh and Harry Rosenthal', \"Juniper's\", 'Sentry Safe', 'Shelly Dean', 'Researchers', \"VMware's\", 'AUA', 'Thor Industries', 'Jimmy Dean', 'Hubbell Incorporated', 'Wellbore Technologies', 'Newton', 'Kimco Realty Corporation', 'Champs Sports', 'PPG Place', 'HomePod', 'Most Admired Companies', 'Constellation Energy Group', 'Hess Energy Trading Company', 'Nevada', 'Skyworks Solutions', 'Bell Operating Companies', 'Japan', 'Scotland', 'Shantou and Shenzhen', 'GE Company', 'Westlake Chemical', 'Exelixis Plant Sciences', 'Agilent Technologies', 'Desseaux N', \"Annie's Homegrown\", 'Leonard Bosack and Sandy Lerner', 'Zions First National Bank', 'Medical Segment', 'Indiana Michigan Power', 'American Fortune', 'Tulsa Drillers', 'Anderson-Barngrover Co', 'Arconic', 'Biogen', 'DAP', 'Santa Barbara', 'Sealed Air', 'Walt Disney Studios', 'PSoC', 'Christie Brown and Company', 'The Home Depot', 'Greater Cleveland', 'Gulf', 'ProSeries and Lacerte', 'US Federal Judge Amit Mehta', 'Brookfield Property Partners', 'Freeform', 'Formerly', 'Paul Lamfrom', 'Missouri', 'Delaware City', 'De Agostini', 'Armor Materials', 'Allergan Inc', 'Silk Reflections', 'Standard & Poors', 'S-ICD', 'Schmitt', 'DPS', 'Harry Stonecipher', 'San Ramon', 'Beaverton', 'The Bank', 'Dayton Corporation', 'These', 'Hunt', 'Inditex Group and H', 'Clear Lake', 'Vectren South', 'Traditionally', 'Lennox', 'Forbes Magazine', 'Virgin Mobile', 'HCA', 'HealthSouth Corporation', 'Young', 'Great Street', 'MPA', 'EMEA', 'Oracle Corporation', 'WellCare', 'Marathon Petroleum', 'British English', 'Blackstone', 'Bayonne Energy Center', 'Central Illinois Public Service Company', 'Amphenol Cables', 'Zoetis', 'Photovoltaik Global', 'Chairman Emeritus', 'Charles F', 'Hernando', 'Hewlett Packard Enterprise', 'Secure Sockets Layer', 'Barnett Shale', 'Boston Scientific', 'IB', 'Noyce', 'The First American Corporation', 'David and Alice Schwartz', 'Nvidia', 'Publicis and Omnicom', 'Walt Disney Animation Studios', 'Unum US', 'Effective January', 'Truck Load', 'Burns', 'SEI', 'Sarepta Therapeutics and SRPT', 'Allegheny Technologies', 'Napa Valley', 'Leyland Trucks and DAF', 'Wilmington', 'Sallie Mae Bank and Navient', 'Rayovac', 'Graphic Packaging International', 'WABCO Holdings', 'IPG Photonics', 'Co', 'CIOs', 'Prologis Logistics Rent Index', 'Missile Defense Integration and Operations Center', 'Bruker AXS', 'Motion Technologies', 'Hartford', 'QIAGEN N', 'In April', 'Commonwealth Land Title', 'Reston', 'Abilene', 'Commerce Bank', 'Newport News', 'Dow Jones MarketWatch', 'Eli Lilly', 'Tijuana', \"Seaboard Corporation's\", 'Mondelez Canada', 'BioShock', 'Oklahoma and Arkansas', 'Clorox Chemical Co', 'San Bernardino', 'Spectracide and Garden Safe', 'Hanes Hosiery', 'Phoenix', 'General Electric Company', 'Macau', \"New York's World Trade Center\", 'AutoCAD', 'Cablegrams', 'George Kaiser', 'American Internet', 'LU', 'Microsoft Mobile', 'Pumpkin Spice Latte', 'Vernier', 'Joseph D', 'South America and China', 'David Weiden', 'Austin Beutner', 'Commentators', 'Beltway', 'Mandiant', 'BofA', 'Triarc Companies', 'Ford Motor Company', 'JFK', 'Copart', 'ATI', 'Cutter and Repel', 'Dubai', 'Ingrezza', 'Cadillac', 'Deep South', 'GE Commercial Motors', \"AIG's\", \"Eddie V's Prime Seafood and The Capital Grille\", 'First Empire State Corporation', 'Berkshire Hathaway Inc', 'Fleet Support', 'Modelo Especial', 'BBC Studios', 'Wright', 'CEO John J', 'Mogens Bay', 'WingStreet', 'Rent Roll', 'Oro', 'First Alert', 'Liffe', 'Newark', 'George Dayton', 'Puerto Rico', 'Macintosh', 'National Medal', 'Princeton', 'Carrier', 'Caribbean', 'EPC', 'CityTarget and TargetExpress', 'Former Boeing', 'North Shore Gas', 'Payment and Merchandising Technology', 'Teledyne Technologies', 'TI', 'Coleman', 'Anthropologie', 'Rent', 'New York and Pennsylvania', 'Pixar', \"Hilton's\", 'Controls', 'Construction Products Group', 'OEM', 'Pioneer Natural Resources Company', 'Southern Airways', 'Long', 'Energy Systems and Controls', 'Robert Noyce and Gordon Moore', 'Lennox Industries', 'Steve Winn', 'Walmart Inc', 'G', 'Monett', 'Michelle Wine Estates', 'Hoops', 'Continental American Insurance Company', 'Max and Maya', 'Colombo', 'Exosome Diagnostics', \"Valve's Steam and Epic Games' Epic Games Store\", 'ING U', 'Envision Healthcare', 'Methodists', 'Garmin', 'Chesapeake Bay Candle', 'Greater St', \"Dean Witter's Chairman and CEO\", 'Samsung and Huawei', 'Ross Dress', 'Legality', 'Landmark Software & Services', 'EvDO', 'Walgreens', 'Medicaid', 'Hilo', 'SPG', 'Australia and Mauritius', 'Bulge Bracket', 'Ecolab', 'Schlumberger Limited', 'Bing', 'Fluids', 'Sigma Partners', 'Most Innovative Growth Companies', 'Cocoa Puffs', 'Republic', 'Madrid and Santander', 'Caribbean and Central America', 'Neurocrine Biosciences', 'AEP Texas', 'Mayfield Heights', 'Renaissance Reinsurance Ltd', 'Specialty Retailer', 'Eastview', 'Emerson Electric Co', 'Berkshire Hathaway', 'ServiceMaster Restore', 'High Moon Studios and Toys', 'Foamposite', 'Harrison', 'Silver Spring', \"Forbes' American's\", 'Rhode Island and Westchester County', 'Dragon Age', 'Dutch', 'Questar', 'During Lent', \"Fortune World's Most Admired Companies\", 'Cintas', 'Grooming', 'NNN', 'Viacom', 'Astoria Bank', 'Irving', 'Giannini', 'Express Scripts', 'Sugar and Power', 'RFMD', 'Cadbury', 'Avenues', \"Watsco's\", 'GPUs', 'Texas and St Louis', 'Candygrams', 'Advertising', 'Schulze and James Wheeler', 'DOV', 'Experis', 'ABInBev', 'Ventura County', 'Madison Avenue', 'Hunt Transport', 'Redwood City', 'HomeLink Wireless Control System', 'Los Gatos', 'Alcan', 'Incyte Corp', 'Science', 'Western Union', 'Azur Pharma', 'West Palm Beach', 'United States', 'Cantel Medical Corporation', 'Carrier Corporation', 'The Plan', 'Trafford', \"Bristol Myers Squibb's\", 'Andeavor', 'PCs', 'Kowlzan', 'SCM', 'Fortune Brands', 'Nemours', 'Chengdu', 'Cable One', 'Hastings', 'Cameron Health', 'Denmark', 'F-RAM and SRAM Traveo', 'Later FMC', 'New York Stock Exchange October', \"Incyte's\", 'Voya Financial', 'Mitsubishi Motors', 'GoTo', 'CVS Caremark', 'Panamanian', 'Matariki Forestry Group', 'Shazam', 'Duke Energy Corporation', 'Most Admired Company', 'Paychex', 'Research', 'The Walt Disney Company', 'While', 'Shay', 'Cities Service Company', 'Sherwin-Williams Company', \"Gordon's\", \"CEO's\", 'Dolan', 'American Water Works Company', 'New Hampshire and Massachusetts', 'UK', 'Squibb', 'Morrissey', 'Slovakia', 'Ivar Giaever', 'Aaron Brothers Custom Framing', 'Prince', 'Salt Lake City', 'Birmingham', 'Celgene Corporation', 'Brentuximab', 'Assurance Wireless', 'Teen and Young Adult Program', \"Akamai's\", 'Palm Beach', 'Cartoon', 'Bio-Techne', 'Wyndham Worldwide Corporation', 'Consumer Packaging', 'AMC Networks Inc', 'Recollections', \"Constellation's\", 'Lepidoptera', 'Colorado Springs', 'Chief Operating Officer', 'Omaha and St', 'NYCB', 'LDPE', 'National Basketball Association', 'Pittsburgh National Corporation and Provident National Corporation', 'Woburn', 'Before', 'Brazil and Australia', 'Five Star', 'Nordstrom and Carl F', 'First Hawaiian Bank', 'NGI', 'John F', 'MIMUSA', 'Holt & Knupps', 'AAP', 'Choice Hotels', 'Embraer', \"Flowers' Warehouse Segment\", 'Hamilton', \"Qualcomm's\", 'Shurgard Storage Centers', \"World's Most Ethical Company\", \"Warren Buffett's Berkshire Hathaway\", 'Marco Island', 'Hewlett-Packard', 'RenaissanceRe Specialty U', 'Navient Corporation', 'Citrix Systems', 'Several', \"Wozniak's Apple I\", 'American Girl', 'Corning Glass Works', 'Korea', 'Viagra', 'Michael J', 'Merrill Lynch Wealth Management', 'Teleflex Incorporated', 'Chairman & Chief Executive Officer', \"XPO's\", 'Oshkosh Truck', 'Kate Spade New York and Stuart Weitzman', 'Rust-Oleum', 'AllModern', 'Wayne Hughes Early', 'United Parcel Service', 'Oaks', 'Utah and North Carolina', 'HETCO', 'Chief Scientific Advisor', 'Mason & Co', 'New York and Mississippi', 'Aviall', 'Interactive Brokers LLC', 'Sparklight', 'Maryland and MGM Springfield', 'Medicare', 'Elmer Winter and Aaron Scheinfeld', 'MAU', 'AT', 'Enron Oil & Gas Company', 'Walgreens and Duane Reade', 'SKC', 'Nicknamed Big Blue', 'Federal Express', 'Corn Flakes', \"China's HNA Group\", 'Cheez-It', 'Cornell Law School', \"PayPal's\", 'McDonald', 'Palo Alto Networks', \"CVS Health's\", 'Hubbell Inc', 'Northern Trust Corporation', 'Bio-Rad', 'First Citizens', 'VAM', 'CdTe', 'Group', 'Originally', \"Burt's Bees\", 'Con Edison Development', 'Manhattan Supply Company', 'United Therapeutics', 'CSR Racing', 'Windsor', 'Social Point', 'Oreo', 'MPWR', 'Natural Vitality', 'Centennial', 'Guy Carpenter', 'Michigan Street', 'Williams Production and Exploration', 'Santander Bank', \"Marshall Field's\", 'SoCs', 'Italia', 'ICE Clear Europe', 'National Medals', 'TX', 'Sands Macao', 'CVS Pharmacy', 'Liberty Interactive', 'Seasons', 'MEDNAX', 'The Equitable', 'Xcel', 'Web', 'AECOM Technology Corporation', 'Evolution Fresh', 'Paycom Software', 'Versum Materials', 'Federal Home Loan Bank', 'The FTC', 'National Notification Network', 'MAX', 'AntiVirals', 'Commercial Heating and Cooling', 'Southwest', 'Mergent Handbook', 'Autodesk', 'Master Lock', 'Margo Georgiadis', 'Host Hotels & Resorts', 'Health', 'Dentyne', 'Packaging Corporation', 'NortonLifeLock', 'Oshkosh Corporation', 'CarRentals', 'We', \"Martin's Day\", 'Charles Francis O', 'Equinix', 'Soliris', 'Whiting Petroleum Corporation', 'Akamai', 'It', 'Golden Arches', 'Roseville', 'Linux', 'Global Payments Inc', 'They', 'Dallas County', 'Signatures', 'Basell Polyolefins', 'National Amusements', 'Hawaii Corporation', 'Asia and North America', 'United States and Asia', 'Hudson Company', 'Elliott', 'Kenner', 'Hilton Garden Inn', 'Mexican', 'Europe and Asia', 'Dialysis', 'LifeStorage LP', 'Hanes', 'Chase Manhattan', 'Mission', 'Active and Work', 'IBMers', 'Alaska and Hawaii', 'HomeSense', 'Tube Instruments', 'Marlboro', 'CEO Charles Shaver', \"QIAGEN's\", 'Colfax Corporation', 'Borderlands', 'OEMs', 'Southern and American', 'Zynga', 'Trans-Alaska Pipeline System', 'Osage River', 'Alphabet', 'Oxy', 'DPC', 'ESPN', 'Cresson', 'Its Canada', 'FactSet Research Systems Inc', 'Burnaby', 'Southwest Airlines Co', 'Equifax Inc', \"America's Best Banks\", \"Dover's\", 'Axalta', 'Delaware', 'Genmab', 'African American', 'Masimo SET', 'Quanta', 'Worldpay Group', 'The American River Transportation Company', 'Monroe', 'Homewood Suites', 'Wells Fargo', 'Taxus Stent', 'CBS Corporation and Viacom', 'Sumner Redstone', 'National Fuel Gas Distribution Corporation', 'Competitors', 'By September', 'Dayton Company', 'GAP', \"Ameriprise Financial's\", 'Cold War', 'Wyndham Destinations', 'Konica Minolta', 'AVT', 'Frazier Technology Ventures', 'RPM', 'More', 'Johnson', 'MGM Resorts International', 'Hologic', 'Novus Biologicals', 'Electric Boat', 'Ignite', 'Highlands Ranch', 'Aria Resort & Casino', 'Bubble Wrap', 'Centene Corporation', 'Based', 'Rolling Meadows', 'CBRE', 'Germany and France', 'Michael D', 'Hurricane Katrina', 'Freddie Mac', 'Like', 'Diversified Products', 'First Republic Wealth Advisors and First Republic Investment Management', 'CTR', 'Coty', 'Builder', 'ZB', 'Earlier', 'Xerox Holdings Corporation', 'Menards', 'Phase I', 'Bengaluru', 'Specialty Products', 'Quest', 'Forbes Magazine Global', 'Scattered', 'June', 'Allmerica Property & Casualty Companies', 'KC Masterpiece', 'South Dakota and Wyoming', 'Executive Vice President & COO', 'MSCI World and MSCI EAFE Indexes', 'Manhattan', 'SystemVerilog', \"O'Hare\", 'South', 'Qualcomm', 'Consulting and Conferences', 'Pepco Holdings', 'Darren Jackson', 'Norwegian Cruise Line', 'Environmental', 'D', 'Kraft Heinz Company', 'Little Falls', 'Sprague-Sells Co', 'Thomas Peterffy', 'Isis', 'McGraw Hill Companies', 'Overland Park', 'Westbrook', 'San Jose', 'Thierry Bernard', 'Bill Ackman', 'Brazil', 'Trak Auto', 'Brandywine Realty Trust', 'Liletta', 'NextEra Energy Resources', 'Trinity Industries', 'Copa Airlines Colombia', 'Club', 'Delaware City Refinery', 'Willis Towers Watson', 'BOK Tower', 'Landstar System', 'Bismarck', 'Weyerhaeuser Company', 'Lubrizol', 'Eaton', 'American National Insurance Company', 'Clearlake Capital', 'Sheetrock Brand All Purpose Joint Compound In December', 'Asia Pacific', 'Cincinnati Global Underwriting Agency Ltd', \"Armstrong's\", 'Richard Teller Crane', 'Big Men', 'Electronic Arts Inc', 'The Big Book', 'TKs', 'Appalachian Power', 'Electric Reliability Council', 'Waltham', 'California Reinforced Plastics', 'BOE', 'Critics', 'Leonard P', 'Management', 'Hackney', 'Eduardo Saverin', 'EFX', 'Weatherford', 'Purdy and Kool Seal', 'GC', 'Steward Health Care', 'Tourette', 'XCOM', 'Relentless and Burn', 'Connecticut and Boston', 'Ho', 'Fastelavn', 'GrafTech International Ltd', 'William C', 'Sid Tool', 'Saint-Quentin-Fallavier', 'Grand Prairie', 'Cummins', 'Similar', 'Experian and TransUnion', 'Brazil and Italy', 'Beechcraft', 'OLEDs', 'BGC Partners', 'Richard J', 'Billion', 'Dell Technologies', 'Marcellus Formation', 'Ultimate Software', 'Executive Vice President and CIO', 'Jun Ying', 'Louisiana', 'November', 'Work For', 'Baker Distributing Company', 'Banca', 'Water Pik Technologies', 'Millard Drexler', 'Marka Hansen', 'Throughout', 'Jack Calhoun', 'CIT Bank', 'ZF Friedrichshafen', \"People's United Financial\", 'Clorox', 'Scangos', 'JProtect', 'Old Republic International Corporation', 'MS-DOS', 'Aldurazyme', \"Verisign's\", 'Energy Services', 'Westchester', \"Baxter's BioScience\", 'A Collection', 'Materials Technologies', 'Norfolk Southern', 'Sysco No', 'Florida and Sanibel Island', 'Martin Eberhard and Marc Tarpenning', 'Kriens', 'Hughes Network Systems and EchoStar Satellite Services', 'Colorado State Bank and Trust', 'Richard', 'Schneider National', 'CEO and Chairman', 'ATR', 'FactSet', 'Lincoln Financial Group', 'Keith J', 'International', \"Luke's Hospital\", 'SeaTac', 'Dr', 'Glucerna', 'Park Avenue', 'TriQuint Semiconductor and RF Micro Devices', 'South Korea and Australia', 'Fridley', 'Indianapolis', 'Continental Oil Center', 'Early', 'Richfield', 'CST Brands', 'ATEN', 'Pentair', 'Dixie-Narco', \"IDEX Corporation's\", 'Portfolio Program', 'XL', 'Philadelphia and Unicom Corp', 'National Hardware', 'T-Mobile and Metro', 'Poett', 'Corie Barry', 'Sunrise', 'Menlo Park', 'Mexico and Puerto Rico', 'NextEra Energy Partners', 'Rome', 'Richard and Maurice McDonald', 'Lockheed Corporation', 'Judy Wicks', 'Robert Ralph Young and Allan Price Kirby', 'Footaction USA', 'Manpower Inc', 'KKR and Envision', 'Brinker', 'Mark W', 'Melville Corporation', 'Philip Morris International Inc', 'Asian', 'Darden Restaurants', 'Norwegian Cruise Line Holdings', 'America Holdings', 'North American and International', 'Knight-Swift Transportation Holdings Inc', 'Catholic', 'Regeneron Pharmaceuticals', 'HCA Healthcare', 'Franklin W', 'T Communications', 'Energizer', 'Seaboard Marine', 'Southern California Gas Company', 'French', 'Albert Nahmad', 'ERs', 'CBS and The CW', 'Finance', 'Julie Sweet', 'Advanced Cell Diagnostics', 'RBOCs', 'Albert H', 'Hato Rey', 'Texarkana', 'Philip Morris', 'Canada', 'Due', \"Among Lincoln Electric's\", 'Ohio and Dublin', \"Carter's and OshKosh B'gosh\", 'Drilling', 'Woodford', 'Lincoln', 'Bahama Breeze', 'Targa', 'William Boeing', 'Corelle Vitrelle', 'Assuming', 'Auburn Hills', 'Fortune Global', 'Core & Main', 'Cincinnati Global Underwriting Ltd', 'Artistree', 'Air Force', 'T-Mobile US', 'Oak Brook', 'Discover and Pulse', 'Great Plains Natural Gas Co', 'European Union', 'Hydroxybutyric', 'Valex', 'Crosstex', 'Carey Inc', 'FLEETCOR', 'Wells Fargo & Company', 'CRM', 'Van Noy Brothers', 'Nabors Industries', 'First Republic', 'Brown Telephone Company', 'GPL', 'Cellular', 'Outdoor', 'Wex', 'Heatcraft', 'Wachovia', 'Energy Corridor', 'Jefferies Financial Group Inc', 'Discovery Family', 'Marquette Building', 'Richardson', 'Webex', 'Atlantic and Gulf Coast', 'Urban Outfitters', 'Refrigerated', \"Moody's\", 'Berry Global', 'JPMorgan Chase Bank', 'United States Secretary', 'Mauritania and Senegal', 'Unum Corporation and The Provident Companies', 'MIC', 'Virtu', 'Commodity Futures Trading Commission', 'Udvar', 'OTC', 'BWP', 'Veritas Technologies', 'Vornado Realty Trust', 'Daytona Beach', 'Condit', 'PhRMA', 'Bert Wolstein', 'Downtown Oklahoma', 'California', 'Aprica', 'Texas and Washington', 'PSEG', 'IND', 'Grace Empire', 'Nahmad', 'Akamai Technologies', 'European Central Bank President Mario Draghi', 'Disney Media Networks', 'Tigex', \"Allegheny's\", 'Pharmaceutical Wholesale', 'CARQUEST and WORLDPAC', 'Life Technologies Corporation', 'ZonePerfect', 'Allentown', 'Annaly Management Company LLC', 'Charlotte', 'SVB', 'Brant', 'P Global Inc', 'On', 'AJG', 'Smaller', 'UK and Switzerland', 'LPL Insurance Associates', 'Vectibix', 'IDEXX', 'Charter Communications', 'AMC', 'Scientific and Industrial Imaging', 'Chubb Limited', 'Bill', 'Polly Pocket', 'Maplewood', 'Keurig Dr Pepper', 'Bean Spray Pump Company', \"Freshley's\", 'October', 'Public Storage', 'Pfizer and UCB Pharma', 'Mount Dora Farms', \"Wells Fargo's\", 'Thomas H', 'Best Companies To Work For', 'Viibryd', 'Lockheed Martin', 'The Hague', 'Six Flags Theme Parks', 'Warren Buffett', 'Visalia', 'September', 'BWP Distributors', 'Aimco', 'Pegasystems', 'Juniper', 'SDA Systems and ECAD', 'Pat Hanrahan and Chris Stolte', 'Veeva Systems Inc', 'Minn', 'Advent International', 'Patton', 'Things Business', 'Maryland Corporation', 'ExpertCity', 'East Texas', 'The Raytheon Company', 'ICPMS', 'Downtown Dallas', 'CEO Philip M', 'Comcast and AT', 'First American', 'Little Rock', 'Thomson Reuters', 'SolarCity', 'Skate', 'Crown Castle', 'IBM', 'Mastercard', 'Liebovich', \"FLEETCOR's\", 'CEO Kevin Gorman', 'Middle Tennessee', \"Standard and Poor's\", 'AARP', 'Healthcare Property Investors', 'Quaker Oats Company', 'Cendant Corporation', 'CDMA', 'Post Refrigerated Retail', 'Air Products', 'Clearwire Corporation', 'Cascadian Therapeutics', 'Unisphere', 'Teaneck', 'Huntington Ingalls Industries', 'Booking Holdings', 'This', 'Jr', 'Halliburton', 'Goldman', 'PSE', 'TRADE', 'Born', 'Infineon', 'Hudson Valley Holding Corp', 'Massachusetts', 'The Columbia Sportswear Company', 'Stericycle', 'Gigabit Ethernet', 'Aetna', 'RNA Medical', 'Ruffino', 'Tempur Sealy International', 'Campo and D', 'DTE', 'Advance', 'Joss & Main', 'RenaissanceRe Ventures Ltd', 'DSP', 'Nuclear and Environmental', 'Mirage Resorts', 'Oneworld', 'SundanceTV', 'The Mosaic Company', 'Alabama and Mosher Steel', 'FlightSafety International', 'Pennsylvania Station', 'FBHS', 'Security Fabric', 'TurboTax', 'Electronic Instruments Group', 'Oaktree Capital', 'United Technologies Automotive', 'Sioux Falls', 'US and Canada', 'Agios', 'Elgin', 'Dollygrams', 'OVC', 'Durant', 'Analysts', 'Industrial Specialties', 'Pega Platform', \"Domino's Farms Office Park\", 'Hidden Valley', 'Lockhart', 'DuPont and Novaled', 'Federal Realty Investment Trust', 'Upromise Rewards', 'Red Hat', 'USB', 'CIT Group Inc', 'Gelnique', 'Newell Brands', 'Corning Consumer Products Company', 'Denmark and Southeast Asia', 'Andrew Grove', \"Forbes's\", 'Rice', 'Calif', 'CVS', 'EDA', 'Gulf Power Company', 'TSA', \"IPG's Chief Technology Officer\", 'American Eagle', 'MinuteClinic', 'Fortune Brands Home & Security', 'Studio', 'Occidental Petroleum Corporation', 'MECO', 'ICD', 'Sprint Corporation', 'TransFund', 'DICE', 'CEO Matthew Maddox', 'My Little Pony', 'East Syracuse', 'JPMorgan Chase', 'Siskin Steel', 'Mississippi', 'Ashland Global Specialty Chemicals Inc', 'MEMS', 'Chairman and President', 'NGL', 'Gresham', 'AMB Property Corporation and ProLogis', 'The Flowserve', 'Penske Automotive Group', 'Affymax', 'Knife River Corporation', 'SDI', 'Products', 'Acuity Brands', 'Dollar General Corporation', 'Allegheny Ludlum Corporation', 'Thailand', 'BASIC', 'The Stanley Works', 'LoopNet', 'Santander', 'Currently', 'New Jersey and New York', 'Glenn L', 'Flagstar Bank', 'Merck', 'GoDaddy', 'Duofold', 'LLC', 'Charles Avnet', 'Mathieson Alkali Works', 'Chennai and Bangalore', 'Ewing', 'Hickory', 'Martin Company and American-Marietta Corporation', 'The Sims', 'The Michaels Companies', 'HXL', 'EMBLEM Subcutaneous Implantable Defibrillator', 'American Airlines Group', 'Swift Transportation', 'Bristol-Myers', 'Helsinki Stock Exchange', 'United', 'Zorba', 'FBI', 'Nikesh Arora', 'Hess Oil and Chemical and Amerada Petroleum', 'Missile Defense Agency', \"Verizon's\", 'CapSense', 'Randstad', 'Memorial Sloan Kettering', 'Tru', 'Known', 'Szabla', 'Anthem', 'Class B', 'Short Hills', 'NPM Capital N', 'The Interpublic Group', 'Fannie Mae', 'Middleby', 'IDEXX Laboratories', 'UPS Airlines', 'Now Alleghany Corporation', 'Chubb Corporation', 'Coherent', 'Fort Lauderdale Florida', 'Dolby', 'HCP', 'April', 'Remington', 'EAS', 'Plainview', 'Noble Energy', 'Signal Extraction Technology', 'Herbert Irving', 'VMware', 'History', 'Created', 'EPAM Continuum', 'CEO and President', 'Acuvue', 'BW', 'ProPublica', 'Cayman Islands', 'IPL', 'Renaissance Underwriting Managers', 'Orchard Park', 'Pennsylvania', \"Long John Silver's and A\", 'Tapestry', 'BHLDN', 'CONSOL Energy', 'Ohana Health Plan', 'HECO', 'The New York Times', 'Scott A', 'Boeing Defense', 'Stonhard', 'Dayton', 'The Utility', 'Sandy', 'Texas Instruments', 'SBNY', 'Walt Disney Parks and Resorts', 'Montana', 'AECOM', 'Sparks', 'Coasts', 'Although Intel', 'Tysons', 'Chattanooga', 'Australian', 'The Vanguard Group', 'Danger Inc', 'Beam Inc', 'Constellation Brands', \"Alleghany's\", 'DJO Global', 'Bunge', 'CVS Specialty', 'Southwestern Bell Telephone Company', 'Tesla Factory', 'Residential Heating and Cooling', 'GoDaddy Inc', 'Zayo Group', 'Corporate', \"Moody's Analytics\", 'Teavana', 'Splunk', 'University', 'Bermuda', \"Nokia's\", 'Steve Jobs', 'ACGL', \"NYC's\", 'New York', 'Ma Bell', 'Central-Eastern European', 'Parker-Hannifin Corporation', 'Kohlberg Kravis Roberts', 'Assurant', 'ABC', 'Omnicom', \"Pittsburgh's North Shore\", 'Waterbury', 'Pittsburgh', 'Rhode Island and Vermont', \"United's\", 'John Swanson', 'Fisher-Price', 'The Clorox Company', 'Prologis', 'Are', 'Richard McVey', \"Barron's\", 'Exxon Valdez', 'Fred Campbell Auto Supply', 'The Global Operations Headquarters', 'Expeditors', 'Old Dominion Freight Line', 'Hungary', 'However', 'Teledyne', 'Great Plains', 'Plano', 'Beijing', 'JetBlue Airways', 'Univar', 'Worcester', 'Sequoia Capital', 'Private Division', 'The Cincinnati Indemnity Company and The Cincinnati Casualty Company', 'GM', \"Thirty Years' War\", 'Kansas and Missouri', 'Wayland', 'Minnetonka', 'BMS', 'LAN', 'HGVC', 'Nielsen N', 'Cigna and Express Scripts', 'On September', 'Secretaries', 'AAA', 'Koreatown', 'Juarez', 'Kwikset', 'Until', 'Run', 'NR', 'The Weather Company', 'TreeHouse Foods Inc', 'Teleflex', 'TV', 'Snee and Katharine Weymouth', 'BXP', 'PKU', 'MPS', 'Oklahoma', 'Sovran Self Storage', 'PECO Energy Company', 'PA and Plymouth', 'Japan and Taiwan', 'DVD and Blu', 'Target Corporation', 'Rainbow Light', 'Frappuccino', 'Consumer Financial Protection Bureau', 'Prussia', 'Ameren Corporation', 'ARNC', 'Qualcomm CDMA Technologies', 'Brighthouse Financial', 'Colony Capital', 'Select Nordstrom', 'Since August', 'The Energy Marketing', 'Church', 'Coraopolis', 'Lee Partners', 'San Diego Gas & Electric', 'Cantor Fitzgerald', 'Zions Utah Bancorporation', 'Robinson', 'Scotts Valley', 'Western Digital', 'The Scotts Miracle-Gro Company', 'American Express', 'Established', 'Broadway', \"Disney's\", 'Eighth Avenue', 'Wynn Resorts Ltd', 'TeamHealth', \"Levi's\", 'Ralph Lauren', 'Bard', 'Port Reading NJ and St', 'Things', 'Fiscal', 'Covington', 'Juvederm', 'Rockstar Games', 'Osborn', 'Engineered Systems', 'Alapocas', 'Allegheny Teledyne Incorporated', 'Leggett & Platt', 'TS', 'Eugene Watson', 'Medicaid Drug Rebate Program', 'Lexington', 'Ankeny', 'Healthpeak', 'Motorola Solutions', 'Cole Haan and Umbro', 'Freeport', 'General Mills', \"Hawai'i\", \"Kroger's\", 'Indiana and Ohio', 'Roper Technologies', 'VISA', 'East', 'Fiserv', 'Babysun', 'Bruker Energy & Supercon Technologies', 'Pioneer', 'RingCentral CEO Vlad Shmunis and CTO Vlad Vendrow', 'Interflex', 'Citizens Financial Group', 'Maidenform', 'The Cincinnati Life Insurance Company', 'The UPS Store', 'Industrial Business Indicator', 'Sands Cotai Central', 'Illinois Tool Works Inc', 'Feb', 'RF', 'Ed Iacobucci', 'Orange and Rockland Utilities', 'Willemstad', 'Empire City Casino', 'Growth Stock Index', 'Metals USA', 'Premier', 'Dean Witter Discover & Co', 'Texas and New Mexico', 'While Advance', 'Institutional Shareholder Services', 'Xcode', 'Feminine', 'Tak Mak and Craig Thompson', 'Formerly Cable One', 'Norge', 'Mattel', 'Beginning', 'Twitter', 'Logic Pro', 'Furby', 'Bond and Specialty Insurance', 'Norwest Corporation', 'War', 'Pulte Homes', 'SpectraSite Communications', 'On July', 'Airbus Group', 'Howard Schultz', 'Comcast', 'McGee Air Services', 'Orion', 'UPS Flight Forward', 'The Paul Revere Life Insurance Company and Provident Life and Accident Insurance Company', 'Spectrum Brands Holdings', 'Hilton Hotels', 'CBS Building', 'Gold Medal', 'Virginia', 'Apache Corporation', 'Baby Bell', 'General American Transportation Corporation', 'Red Lobster', 'Glenn Murphy', 'Customer Fulfillment Centers', \"Arby's Group\", 'Seagate Technology', 'Discount Store News', 'Nike Dunk', 'Caterpillars', 'Both Bank', 'Omnicom Group Inc', 'Euronext Paris', 'Croix USVI', 'Seven Sisters', 'Intermix', 'Fortigent', 'Various', 'Calphalon', 'Treasury', 'DC and Maryland', 'In Slavic Eastern Orthodox', 'Met', 'UHS', 'Westchase', 'Liquid-Plumr', 'Conrad Hotels & Resorts', 'EG Group', 'Ernst & Young National Entrepreneur', 'Akcea Therapeutics', 'Arkansas', 'Omaha', 'Sharpie', 'Werner Enterprises', 'Feralloy', 'Palo Alto', \"Apple's\", 'Huntsman', 'Alleghany Corporation', 'Wyndham Worldwide', 'IL', 'Kuala Lumpur', 'Many', 'AFSI', 'The Mills', 'Standard Oil', 'Oct', 'SYNOP', 'Director', 'Proofpoint Systems', 'Verisk', 'Panama', 'George Foreman', 'Germany and South Korea', \"PepsiCo's\", 'OGE Energy Corp', 'Barny and Peek Freans', 'Smith', 'ProteinSimple', 'Van Waters & Rogers', 'American Metal Products', 'Whitacre Tower', 'Carl', 'Revenues', 'Puerto Rico and Saudi Arabia', 'Arch Capital Group Ltd', 'J & L America', 'Disney', 'Coldwell Banker Richard Ellis', 'Esso', 'Kansas City', 'Atlassian Corporation Plc', 'Downers Grove', 'Dallas-Fort Worth International Airport', 'Sands China', 'USD', 'Sysco-US Foods', 'Infrastructure', 'Motorola Mobility', 'Royal Dutch Shell', 'North America', 'US Department', 'Target', 'Fortis Insurance N', 'DISH Network Corporation', 'Leon Hess', 'METTLER TOLEDO', 'URBN', 'Midtown Atlanta', 'Millburn', 'Tweets', 'Bakken Formation and Three Forks Shale', 'PepsiCo', 'Chicago Board', 'Duke Realty', 'Modified', 'Hoover Universal', 'Nabisco', 'New York Post', 'Wooden Jacket Can Company', 'Year', 'Ontario', 'FY', 'Amphenol', 'Global', 'Allstate', 'Ballast Point and Funky Buddha', 'Citigroup and Merrill Lynch', 'Foot Locker Retail', 'Federal Trade Commission', 'On February', 'AvalonBay Communities', 'W Restaurants', 'Reno', 'Merry Maids', 'Orbitz', 'Hawaiian Electric Company', 'Credit Acceptance', 'Alex Bowman', 'Less', 'Toll Brothers', 'In November', 'Merrill Lynch', 'Synchrony', 'Coca-Cola Cherry', 'Chemicals and Resources', 'Fred Luddy', 'West Adams Street', 'Under Secretary', 'Unum Group', 'NXP Semiconductors N', 'Chesterfield', 'Concho Resources Inc', \"ExxonMobil's\", 'Within', 'Citizens Bank', 'Hurley International and Converse', 'Allison', 'Burger King', 'Linzess', \"Gamble's Incorporated\", 'Frito-Lay North America CEO Tom Greco', 'Pamplona', 'LII', 'Demand', 'JC Penney', 'DNS', 'Berlin and Aachen', 'Apartments', 'GD', 'South Boston', 'Micron and Intel', 'Ventures', 'Investor AB', 'Crimea', 'Sysco Corp', 'Autodesk Product Design Suite', 'Eli Lilly and Company', 'Jo-Ann Stores', 'T', 'Distributing', 'Nissan', 'Intuit Inc', 'Quality Management and Standards', 'PBF', 'Atlassian', 'Lowell', 'Pennsylvania Plaza', 'Ulta Beauty', 'EMS', 'Parker Appliance Company', 'Energen Corporation', 'CommScope Inc', 'Duty', 'ITW', 'NYSE', 'Midwest United States', 'Apple Pay', 'Two', \"Lowe's Companies\", 'Alexion', 'Gap Adult', 'VMW', 'EQIX', 'Unified Communications', 'Casey Jr', 'Cavanal Hill Investment Management', 'Henry Sturgis Morgan', 'North Carolina', 'Baby Bells', 'Hellman & Friedman Capital Partners', 'Warehouse', 'Novartis', 'Melodygrams', 'Medicare Advantage and Medicare Prescription Drug', 'Adecco and Dutch', 'Jacksonville', 'UEP', 'Lacta', 'Alaska Airlines and Horizon Air', 'Prosperity Bank', 'Acadia', 'Expedia Group', 'Matthew Flannery', 'Millefiori Milano and WoodWick', 'Fabric & Home Care', 'Former', 'Sun Communities', 'Residents', 'Celebrex', 'Arm & Hammer', 'ADN', 'Social Security', 'GMC', 'Marsh', 'Timberland and North Face', 'Arm', 'Agoda', 'Clearfield Cluster', \"LPL's\", 'William W', 'Betty Crocker', 'Trump', 'Halls', 'Denver', 'Spyro', 'Words', \"People's Daily\", 'Willard Marriott', 'Poland', 'Hewlett-Packard Company', \"Carter's\", \"America's\", 'CDN', 'ADT Inc', 'USAF Space Fence', 'New-Jersey', 'Corning Glass Works and Owens-Illinois', 'HRG Group', 'William Procter and James Gamble', 'AVANGRID', 'EU', 'United States Treasury', 'Welding Consumables', 'ICE Clear Credit', 'Australia and New Zealand', 'Baltimore', 'DaVita Inc', 'IHS Inc', 'Similac', \"Christie and Dad's Cookies\", 'GetGo', 'Valley', 'Cynthia Harriss', 'Lo Loestrin Fe', 'BOK', 'Speed', \"O'Reilly Auto Parts\", 'Russia and Italy', 'Hasbro', 'Coca-Cola Zero Sugar', 'T and Dell', 'Yonkers', 'Arlington', 'Ralph Lauren Corporation', \"America's Most Generous Corporations\", 'Crown Cork & Seal Company', 'Nike', 'Ohio River', 'Sea', 'Muncie', 'Monster Energy', 'Nassetta', 'Bloomberg', 'The Netherlands', 'Marshalltown', 'PowerTOP and LatencyTOP', 'Universe', 'Multiple', 'TYA', 'OG', 'GMAC', 'United Rentals', \"LII's\", 'California and Florida', 'Con Edison', 'Penn Central Transportation Company', 'Pactiv Corporation', 'Maui Electric Company', 'United States and United Kingdom', 'Global Tower Partners', 'FirstEnergy', 'Universal Display Corporation', 'UDR Inc', 'American Medical Response', 'Kitchen Bouquet', 'From August', 'Esoteric Testing', 'ATE', 'ECR', 'Rotring', 'Polo Ralph Lauren', 'Queen Elizabeth II', 'Artificial Lift', 'Solar Power World', 'Graham Holdings Company', 'RealPage', 'Berkley Corporation', 'Baby Bell NYNEX', 'Matson and Elliot Handler', 'Haas', 'CyrusOne', 'Organized', 'AMOLEDs', 'Bloomfield', 'ON Semiconductor', 'Justice', 'American International Group', 'TCCB', 'AUM', 'CO', 'Tableau Software', 'CNA', \"Pilgrim's Pride\", 'February', 'Michaels', 'Wayne Huizenga', 'Canada Governor', 'Since June', 'China', 'Proofpoint', 'PPG', 'Ltd', 'MEDIVATORS', 'Intel Array Building Blocks', \"Columbia's\", 'Civilization', 'Akron', 'Evan Williams', 'Beam Suntory', 'LPL Financial Holdings Inc', 'WPL', 'The Martin Marietta Corporation', \"Moe's Southwest Grill\", 'Exelixis', 'Insurance-Domestic', 'In January', 'STP', 'PulteGroup', 'Pacific Metal', 'Ticor Title', 'CIO', 'Activision Blizzard', 'Charles County', 'Ritz', 'Thomas Rutledge', 'FMC', 'CIT', 'REITs', 'Pinnacle Foods', 'Germany', 'Transit Mix Concrete & Materials Company', 'Big Oil', 'Synopsys', 'Mary Land & Exploration Company', 'Applied Molecular Genetics Inc', 'Mardi Gras', 'Esurance', 'New York City and Westchester County', 'Continental Casualty Company', 'European Rail', 'Lennox Kitty Track', 'Spain', 'Top', 'E-Trade Financial Corporation', 'MDS', 'Diversey Care', 'Carl Icahn', 'S', 'Lyft', 'No', 'Unum', 'American Utility Management', 'Dim', 'Arctic Cat', 'Cincinnati', 'Fritz Feigl Prize', 'Seneca Resources Company', 'Krylon', 'Ozark', \"Macy's Thanksgiving Day Parade\", 'IBM PC', 'Heritage Plaza', 'MGM Macau', \"NCR's\", 'Del Monte Foods', \"Fluor's\", 'Tegra', \"Ackman's\", 'Asia-Pacific', 'All', 'Ingersoll-Rand', 'KBR', 'Florida Corporation', 'Zeeland', 'Contemporaneous', 'EHC', 'District Court Judge Eduardo Robreno', 'Starwood Hotels & Resorts Worldwide', 'SF', 'Not', 'Lucky Charms', 'Corporate Services', 'Anglican', 'CVS Health', 'Topeka', 'Melbourne', \"LabCorp's ViroMed\", 'LTL', 'Columbia', 'Footlocker', 'IQVIA', 'VHDL', 'Focused', 'Analog Devices', 'Bells', 'Kirby', 'Ying', 'BCA', 'In August', 'JanSport', 'Although', 'Major League Gaming', 'Roger C', 'Osterizer', 'Cargill and Archer Daniels Midland', 'United Gas Improvement Co', 'Die', 'Valero Energy Corporation', 'Diamond Shamrock', 'Mohawk Industries', 'El Dorado', 'Family Care', 'Incorporated', 'On April', 'FPL', 'Central America', 'Flowcrete', \"Hawaii's\", \"Al's\", 'Perlman', 'ZEN', 'Biogen Idec', 'GGP', \"Arista's\", 'Ingersoll-Rand Inc', 'Alamo Title', 'SEC', 'Internet Protocol', 'Seaboard Corporation', 'Techne Corporation', 'American Airlines and American Eagle', 'Pizza Hut', 'National', 'Galveston', 'OfficeTeam', 'Host Marriott', 'Bedford', 'Philip Johnson', 'Essential Air Service', 'Timber Hill', 'United States Army', 'UFCW', 'Forbes', 'Dale Asplund', 'WDC', 'Direct Energy', \"New York's Department\", 'SEI Investments Company', 'BWX Technologies', 'West', 'Missouri Pacific', 'Latin America and Africa', 'Skype Technologies', 'Extra Space Storage', 'Greater Orlando', 'Arthur J', 'Computer Sciences Corporation', 'Eaton Corporation Inc', 'Boots', 'Albuquerque', 'Curio', 'Rock', 'Nabors', 'Zebra Technologies Corporation', 'Fortunes', 'Express Homes', 'Large', 'FPGA', 'IFC Center', 'Round Rock', 'Maslenitsa', 'European', 'Monster', 'Hassenfeld Brothers', 'Silicon Valley', 'In July', 'Warrick', 'BorgWarner Inc', 'Sacred Harp', 'RPM International Inc', 'Enterprise', \"NationsBank's\", 'Headquartered', 'Subsequently', 'Deerfield', 'Tube Service', 'Oktas', 'Harvard College', 'Santa Clara', 'ServiceMaster', 'SBC', \"Advance's\", 'Michigan and Dallas', 'Detroit Edison', 'Streets', 'SSL', 'Bali', 'Belvita', 'Manchester', 'Acadia Healthcare', 'Managing', 'Nothing Runs Like', 'Royal Little', 'Disney Parks', 'Yale', 'Once', 'Lipitor', 'Ameriprise Financial Services', 'Boston', 'Loyalty Program', 'DNA', 'Republic Services Board', 'SL Green Realty Corp', 'Mid-Atlantic Region', 'Seattle', 'Christian Chabot', 'Nexeo Solutions', 'Stanford', 'Singapore', 'Parker', \"Mondelez International's\", 'Geek Squad', 'Penn Plaza', 'Candy Crush Saga', 'The Progressive Corporation', 'Chicago Mercantile Exchange & Chicago Board', 'Huntsman Corporation', 'Italian', 'Sherman', 'Terex', 'Burbank', 'Walter', 'Church & Dwight Co', 'Uniball', 'Wayne Hughes and Kenneth Volk Jr', 'Irvine', 'USG Corporation', 'Chennai', 'Take-Two', 'Deutsche Telekom', 'Agriculture', 'Baldwin', 'U-Store-It Trust', \"Pfizer's\", 'Refrigeration', 'Beverly Hills', 'Cottonwood Heights', 'Gary Cohn', 'VA', 'American Banker and BAI', 'Africa and Australia', 'Hunt Transport Services', 'England', 'HD Supply', 'David M', 'Tilex', \"BancWest's First Hawaiian Bank\", 'ACE', 'Lafley', 'Post', 'Phil Silver and Greg Horrigan', \"Apple and Microsoft's\", 'Interim Armored Vehicle', 'MGM', 'TUC', 'Boston Marathon', 'North Reading', 'Walgreens Boots Alliance', 'Fremont', 'Health Care', 'Asda', 'Legg Mason', 'RNAi', 'Hill City', 'Center', 'Marathon Electric Motor', 'Aramark Corporation', 'Internet', 'Futuris', 'The Flowserve Corporation', 'Scotts', 'Utility', 'LDL', 'America Merrill Lynch', 'SAP Successfactors', 'Amphenol Fiber Systems International', 'Home Depot', 'New Haven', 'Apple II', 'NASDAQ', 'Microsoft Office', 'Citibank', 'Participants', 'DSD', 'Rockville', 'Drexler', 'Standard Oil Company', 'Bender-Wallace Development Company', 'Jackson', 'Quick Car', 'Along', 'Following', 'Owens Corning', 'Treyarch', 'Clients', 'Molecular Biology and Pathology', 'Bryan', \"Air Product's\", 'Altria', 'Rom', 'Weingarten Realty Investors', 'Foodservice', 'Fort Worth Metroplex', 'After', 'Experian and Equifax', 'Verilog', 'SoCalGas', 'Movilcarga', \"Smucker's\", 'Microsoft Corporation', 'Commonwealth Edison', 'Comptroller', 'Vici Properties', 'Baby Neill Constant', 'Charles Schwab Corporation', \"PMI's\", 'Back', 'The DTE Energy', 'Luxembourg', 'MasterCard', 'Tour', 'Initial Public Offering', 'The Public Service Electric and Gas Company', 'Cheerios', 'Varian', 'Doris Fisher', 'West Coast', 'Economics Laboratory', 'Enterprise Security', 'KeepStock', 'Sprint Nextel Corporation', 'Kysor', 'Scottsdale', 'Snap', 'The Equitable Life Assurance Society', 'Pa and Bakersfield', 'Columbia and Guam', 'Airstream', 'American Water Works and Guarantee Company', 'Phillips Petroleum Co', 'Ralph Lauren Childrenswear', 'British Virgin Islands', 'LNC', 'The DSD Segment', 'BPM', 'St', 'Madison', 'Cadence Design Systems', 'OpenDNS', 'Channelview', 'FortiGate', 'Ken and Michael Xie', 'The', 'Thompson Creek Metals', 'Oregon and Washington', 'Nuk', 'Discovery', 'VF Corporation', 'Chicago and New York City', 'Yahoo', 'Barbie', \"Mervyn's\", 'Ortner Freight Car', 'AFSSS', 'AES', 'PayPal', 'John Middleton', 'Framehawk', 'Billionaire', 'United Airlines Holdings', 'RNA', 'Green Mountain Energy', \"T's\", 'Wal-Mart', 'SD-WAN', 'Ben Franklin', 'Benefit', 'Flowserve Corporation', 'Freescale Semiconductor', \"A'merica\", 'P Global Platts', 'Dalvance', 'Asa Griggs Candler', 'Eaton Vance Corp', 'Maxim', 'Unshielded Twisted Pair', 'Rotary and Mission Systems', 'Rocky Mountains', 'Van Noy Railway News and Hotel Company', 'AEG', 'Ting Tsung Chao', 'PDVSA', 'Midwestern United States', 'Danvers', 'Garmin Ltd', \"Business Insurance's\", 'Western New York', 'Comerica Park', 'Retail Pharmacy USA', 'Armenian Stock Exchange', 'OkCupid', 'Hilton Grand Vacations Company', 'Saipan', 'EA Sports UFC', 'Dick', 'That January', 'Its', 'Paycom', 'Rhode Island', 'Conrad Hilton', 'McCormick', 'Richard Manoogian', 'Health and Human Services', 'GHB', 'The Gulf Intracoastal Waterway', 'Freeport-McMoRan Center', 'Bell Atlantic', 'Hoechst Celanese', 'Commodity Trading and Milling', 'DIFCO', 'IT', \"Norfolk Southern Corporation's\", 'MarketAxess Holdings Inc', 'Elaborate', 'Jubilee', 'Reilly Automotive', 'Spectrum Brands', 'The Carlyle Group and Clayton', 'Board', 'Bear Instruments', 'Gulf Intracoastal Waterway', 'Tropicana Products', 'Professional Lines', 'Industrials Group', 'Zayo Group Holdings', 'Daisyfresh', 'Elkhart', 'Semiconductor', 'T Inc', 'That July', 'Directors', 'Interactive Brokers', \"North America's\", 'Wild Horse Winery', 'Levi Strauss & Co', 'Nextel', 'Oahu', 'Dutch and Belgian', 'Spirits', 'Lexmark', 'Affiliated Managers Group', 'Madison Square Garden', 'John Moody', 'MPLS', 'Virginian Railway', 'San Clemente', 'Operations', 'Apple Music', 'Thousand Oaks', 'Comerica Theatre', 'Deepwater Horizon', \"Cisco's\", 'Crown', 'Wally', 'Alphabet Inc', 'Lululemon', 'SNAP', 'ICE', 'Completion & Production Solutions', 'Mac App Store', 'Moen', 'Infra-Metals Co', 'OneMain Financial', 'Broken', 'Amphenol Aerospace', 'President John Fees', 'Rollins', 'Ameren Transmission Company The Ameren Missouri', 'Spanish', 'Cork', 'The Crane Company', \"Berkley's\", 'Trident', \"CIT's\", 'Clean & Clear', 'Ted Doheny', 'Procter & Gamble', 'Chips Ahoy', \"HPE's\", 'United States Senator', 'Macon', 'Southwestern Electric Power Company', 'Skippack', 'Former CEO Robert Coury', 'Old Navy', 'Band-Aid Brand', 'Hexcel', 'Best Price', 'We Energies', 'Alaska Airlines', 'FFELP', 'Crew', 'Middleby Corp', 'ServiceNow', 'Franciscan Estates', 'Activision', 'MW', 'Hershey Foods', 'Gibbstown', 'Hovensa JV', 'Waters', 'Bruker Daltonics', 'Tsakonas', 'VIP', 'Long Beach', 'Illinois and Minnesota', 'Tyson Foods', 'Riga Stock Exchange', 'Connecticut and Philadelphia', 'Copa Airlines', 'Cingular Wireless', 'Walt Disney Direct', 'Entergy Corporation', 'The Walt Disney Studio and Walt Disney Productions', 'JPMorgan Chase & Co', 'December', 'Best Manufacturing', 'Consumer', 'ISIL', 'HollyFrontier', \"Bloomingdale's\", 'New Zealand', 'Computer Science', 'Despite', 'Gathering', 'LSI', 'Zoetis Inc', 'Brown & Brown Insurance', 'Companion Animal Group', 'Commerce', 'National Hockey League', 'Consolidated Analysis Center', \"Equifax's\", 'George Scangos', 'NASDAQ Global Select Market', 'Guidewire Software Inc', 'Mississippi and Texas', 'The Creative Group', 'Swords', 'Demetriou', 'Disney Brothers Cartoon Studio', 'The Glaser-Kochavi', 'Microsoft Surface', 'ITT Inc', 'Fluor Corporation', 'Scaled Composites', 'Minnesota', 'Raider', 'AFVs', 'Vinci Surgical System', 'Alexion Pharmaceuticals Inc', 'President and Chief Executive Officer Arne Sorenson', 'American Phenolic Corp', \"World's Most Ethical Companies\", 'Medicaid and Medicare', 'Airbus', 'Cincinnati Specialty Underwriters Insurance Company', 'Dick Cheney', 'P Global Ratings', 'National Specialty Alloys', 'Eversource Energy', 'Miami', 'New York City', 'The Hewlett Packard Enterprise Company', 'Inc', 'Christopher Lofgren', 'Guangzhou', 'Khosla Ventures', 'General Growth Properties', 'Nektar Therapeutics', 'Apple Pay Cash', 'PA', 'Beiard Industries', 'BizBuySell', 'Marriott Corporation', 'Business', 'American Water', 'Bell System', 'The Kansas City', 'Joe Mansueto', 'Macquarie Infrastructure Corporation', 'Westar Energy', 'Appalachia', 'Securities and Exchange Commission', 'Wintrust', 'Hot Wheels', 'Pinnacle West Capital', 'CACI International Inc', 'Johnson & Johnson', 'DCS', 'Alex Molinaroli', 'Blue Sky Studios', \"Although McDonald's\", 'N', \"Don's\", 'Boeing', \"Advance Auto's\", 'Visi-Therm', \"Marsh & McLennan's\", \"Kohl's\", 'Best Buy Mobile and Insignia', 'Edmonton and Austin', 'Analytical Laboratory', 'Tim Cook', 'In December', \"Moore's\", 'Fitbit and Apple', 'Redwood Shores', 'ATM', 'James Luther Turner and Cal Turner', 'EPAM', 'Rowland Hussey Macy', 'Chief Financial Officer', 'Genpact', 'T Long Lines', 'TeleRecarga and ATX', 'Georgiadis', 'Carnival', 'Center City', 'Stuart T', 'National Harbor', 'That', 'Best Mid-Cap Stocks', 'Grand Theft Auto', 'Lease Rent Options', 'New Jersey Bell', 'El Indio Gold Belt', \"Hewlett-Packard's\", 'Latin America and Asia', 'Pennsylvania Railroad', 'Since', \"Arm's\", 'Apple Store', 'Euclid', 'CNS', 'Renaissance Reinsurance', 'Wal-Mart Stores', 'Star Wars', 'Aptiv PLC', 'CinFin Capital Management Company', 'Ingalls Shipbuilding and Technical Solutions', 'Milwaukee', 'Henrico County', 'Thermo Fisher', 'Northwest', 'Rayovac Corporation', 'BOSC', 'Goulds Pumps', 'Conjugates', 'TD', 'AvantiGas', 'Truckload', 'Littelfuse', 'Capri Holdings Limited', 'Examples', 'Iraq', 'Medicare and Medicaid', 'Philip Morris Companies', 'Albemarle Corporation', 'TOFC', 'AGCO Corporation', 'World Trade Center', 'Con Ed', 'Nourishing', 'Wozniak', 'Pancakes', 'Cymbalta', 'In', 'New York Stock Exchange', 'Takeda Pharmaceutical Company', 'Alcoa', 'Markit Ltd', \"Nu Skin's\", 'Broadridge Financial Solutions', 'James C', 'PACCAR', 'Scott Kriens', 'AirPods', 'CNA Financial Corporation', 'Spyridon Artavanis', 'CFC Investment Company', 'Alpharetta', 'Mid-Continent', 'Findlay', 'Kailua-Kona', 'Salesforce', 'Valvoline Inc', 'Michael Byrne O', 'PEAK', 'Dow Corning and Pittsburgh Corning', 'Loews', 'American Civil War', 'Grainger', \"Lehigh Valley's\", 'The CEO', 'In German', 'Nike Bauer', 'Diamond Offshore Drilling', 'Portec-Paragon', 'Molina Healthcare', 'Orkin', 'Regional Bell Operating Companies', 'Carboline', 'Buffalo', 'Gap', 'Marysville', 'Pediatrix Medical Group and American Anesthesiology', 'Portland', 'Cambridge', 'Glenn K', 'Quintiles and IMS Health', 'Microchip Technology Inc', 'National Health Laboratory', 'Eventually', 'Peoples Gas', 'Rouse Properties', 'The Olin Corporation', 'Denim & Supply Ralph Lauren', 'Sacramento', 'BBC America', 'New Era Cap Company', 'Consolidated Edison Company', 'Baltimore Ravens', 'Qualcomm Technology Licensing', 'Ball Brothers Glass Manufacturing Company', 'TJ Maxx', 'Power Only', 'United States and New Zealand', 'Virtu Financial', 'Hermes Growth Partners and DAG Ventures', 'Entergy', 'Three World Financial Center', 'Corporate Office Properties Trust', 'Hampton', 'Conagra', 'Lake', 'PNC Bank', 'Berry', 'WCG', 'Security', 'Morningstar Advisor Workstation', 'Symphony Health', 'MEK', 'Sr', 'John Reese', 'Chairman and CEO', \"Levi's and LP\", 'Model S', 'Popular', 'Coach', 'Euro Stoxx', 'Reed Hastings and Marc Randolph', 'Affiliated Computer Services', 'International Railway Systems S', 'Wisconsin Power and Light Company', 'FTC', 'Comerica Incorporated', 'Nickel Plate Road and Wabash Railway', 'Mandalay Bay', 'Matchbox', \"NS's\", 'AutoFuse', 'MIL-DTL', 'San Diego', 'NSP', 'Sallie Mae', 'United Arab Emirates', 'Humana Inc', 'Shield Tablet', 'NC', 'Iceland Stock Exchange', 'Williston Basin', 'Horsham', 'Trip Hawkins', 'DTE Energy', 'Tempur-Pedic International', 'REIT', 'America and Italy', 'Caffeine-Free Coca-Cola', 'Pawtucket', 'Drilling Solutions', 'Radio Frequency', 'Vanguard', 'Humalog', 'Seneca', 'West Monroe', 'Invesco Perpetual', 'Mylan N', 'PEGA', 'ESG', 'Scrushy', 'Heroes', 'Networks', 'Morgan Stanley Dean Witter Discover & Co', 'Guitar Hero', 'Flash-IP', 'Blue Ridge Mountains', 'Magnificent Mile', 'Midwest', 'Celgene Cellular Therapeutics', 'United Kingdom and Asia', \"After Young's\", 'Textron Aviation', 'Forest Labs', 'JHA', 'Transocean', 'AmeriGas', 'Henry Baldwin Hyde', 'Teradyne', 'Space & Security', 'Marabou', 'Space Systems', 'Kirkland', 'TECH', 'Norwalk', \"AME's\", 'Corpus Christi and Victoria', 'Grace Catalysts Technologies and Grace Materials and Chemicals', 'South Africa', 'Nonetheless', 'Transit Mix Concrete and Materials Company', 'Connor', 'Advanced Micro Devices', 'Spirit', 'IPG Mediabrands', 'Gallagher & Co', \"Dick's\", 'East West', \"The Gap's\", 'Midwest and British Columbia', 'Philip J', 'Missiles and Fire Control', 'IP and Durco International', 'NASDAQ December', 'Branching', 'SpeedPerks', 'Hercules', 'Hatfield', 'Equatorial Guinea', 'Gotham Bank', 'Kiani', 'Army', 'Indonesia and Malaysia', 'ICE Clear Singapore', 'Market Research Firms', 'Apple Inc', 'Western Europe', 'Under', 'Lucasfilm', 'Bristol Myers Squibb', 'Fidelity National Title Group', 'Zions Bancorporation', 'North America and Europe', 'AXA', 'Watertown', \"L'eggs\", 'Cementing', 'The Mondelez', 'Rosemont', 'Everbridge', 'TransUnion', 'Fitch', 'Federated Department Stores', 'Hilton Grand Vacations Inc', 'President', 'Personal and Home Care', 'PeopleSoft', 'Discover Card', 'Daiichi Sankyo', 'Nilson Report', 'General Motors Company', 'GPU', 'R', 'Rich Barton', 'Winston-Salem', 'Ohio', \"NYNEX's\", 'Conagra Brands', 'Africa', 'GI', 'Therma-Tru', 'Lottomatica S', 'She', 'Orrville', 'Dispensing Equipment', 'Houston and San Antonio', 'Disney Channel', 'Lynchburg', 'T Bank Corporation', 'Optive', 'ONG', 'Mark West', 'Lady Foot Locker', 'Jungle', 'New York State', 'ESRD', 'Threading Building Blocks', 'Watsco', 'Northeast', 'Equitable Shipyards', 'Provident', 'DRAM', 'Colfax', 'MSCI Inc', 'Mexico and Central America', 'Southern Airways Express', \"Manhattan's Radio Row\", 'Schlage and Von Duprin', 'Military Services Group', 'Solar Cells', 'Lennox International', 'Lynx Therapeutics', 'AspenTech', 'Bergen Brunswig and AmeriSource', 'Napoleonic', 'Nebraska', 'Mohawk', 'Eze Software', 'Japanese', 'Aramark and Sodexo', 'Amex', 'Fremont and Valley', 'Apple and Amazon', 'PV', 'Grubhub Inc', 'Maintenance Warehouse', 'Fire & Safety', 'Pyrex', 'ERP', 'Pacific Northwest', 'South America and Asia', 'LPL Financial', 'New York Stock', \"Freshley's and European Bakers\", 'Circuit City Stores', 'Marriot', 'Activision Blizzard and Electronic Arts', 'Livin Lite RV', 'CEO & President', 'Biogen Inc', 'Ignition Partners', 'Steve Ells', 'Philippines', 'Canadian', 'Aqua America', 'Yahoo Finance', 'Hotels', 'Kinder Morgan', 'Ocean Avenue', 'PLLs', 'Fastenal', 'Visa Inc', 'Shamrock', 'New Brunswick', 'Banana Republic', 'Ann Arbor', 'IHS Markit Ltd', 'Frost Bank', 'Taipei and Xiamen', 'Genentech', 'The Body Shop International', 'Burlington Northern Santa Fe Corporation', 'San Francisco', 'Toyota', 'DuPont', \"In Southern's\", 'Gates Corporation', 'Mass Effect', 'Pittsburgh International Airport and Baltimore', 'Southern United States', 'San Francisco and Washington', 'Storage Equities', 'MGM Mirage', 'By', 'Turner and Son', 'Richmond Tank Car and Union Tank Car', 'Knight-Swift', 'Chachoengsao', 'Appalachia Region', 'John D', 'RGA', 'CBOT', 'IPTV', 'Caesars Entertainment Corporation', 'E', 'Pep Boys', 'Michael Kors', 'South African', 'Mexicali', 'Cabot Corporation', 'Tesla', 'Stoops', 'Park Hotels & Resorts', 'Roper Industries', 'Mark Hughes', 'Gaming and Leisure Properties', 'Myelodysplastic', 'Smyrna', \"Osisko Mining's Malartic\", 'RenaissanceRe Holdings Ltd', 'Carquest', 'Univar Solutions', 'Caesars', 'Fourth Amended Plan', 'RCI', 'Winners', 'Herbalife Nutrition', 'Delaware and Maryland', 'NYC-PRR', 'Xylem Inc', \"Perrigo's\", 'Con Edison Solutions', 'FoodSaver', 'Fall', 'Citigroup', 'Oak Park', 'Thermo Electron and Fisher Scientific', 'ONEOK Field', 'Dallas Tank', 'Kayak', 'Notable', 'Tabacal Agroindustria', 'ExxonMobil', \"People's Republic\", 'John Bean', 'Ally Financial', 'PRR', 'Qualcomm Technologies', 'Springfield', 'Oklahoma Natural Gas Company', 'Uber', 'Until July', 'Bristol-Myers Squibb Company', 'Most Trustworthy Companies', 'Multi-Protocol Label Switching', 'Edison Energy', 'Weston', 'Silicon Valley Bank', 'VisaNet', 'ZMH', 'The AES Corporation', 'Harris Corporation', 'Joe Kiani', 'Gartner Group', 'Model', 'Terex Financial Services', 'Ionis', \"Kirby's\", 'Among', 'Global Lifestyle', 'John Walker', 'Utah and Wyoming', \"Kellogg's\", 'Babcock & Wilcox', 'Johnnie Bryan Hunt', 'National Fuel Gas', 'Fresh Step', 'Mid-Atlantic', 'Coty Inc', 'San Rafael', 'Agoura Hills', 'Dr Pepper Snapple Group', 'CME Group', 'FreeStyle Libre', 'Membership', 'Don Schneider', 'Diflucan', 'Class III Genesee and Wyoming Railroad', \"Domino's Pizza\", \"IPG's Chairman and Chief Executive Officer\", 'Irish Revenue Commissioners', 'Asia and Europe', 'Fort Lauderdale', 'Taco Bell', 'Delta Steel', 'Worldpay', 'Starbucks Evenings', 'Hudson Pacific Properties', 'Pool', 'Sky', 'Arthur Taubman', 'Apple Stores', 'Waldorf Astoria Hotels & Resorts', 'Roadster', 'Nucor', 'Guyana & Suriname', 'Kentucky', 'Hilton Worldwide Holdings', 'Ethernet', 'Dell', 'Kmart', 'Texaco', 'Howard Hughes', 'Jiefang', 'Dominion', 'Hillsboro', 'Micron Technology', 'Sales', 'Oris and Mantis Van Sweringen', 'Hilton', 'W', 'Calgary', 'Nektar', 'NSC', 'One Lincoln Street', 'Thomas & Friends', 'Thomas Rowe Price', 'Seventh Street and Boston Avenue', 'AXA Equitable Life Insurance Company', 'Hughes Supply', 'Timken', 'Insurance-International', 'PSX', 'Art Peck', 'Halter Marine', 'Pressler', 'Astellas Pharma', 'Eaton Vance', 'Actavis', 'National Cash Register', \"Netflix's\", 'Users', 'Lincoln Financial Field', 'Freedom Homes', 'Equity Residential', 'ADMMicro', 'Mar Cor Purification', 'Cana', 'Marys', 'Damian Services Corp', 'Agilent', 'Nanjing', 'Blackstone Group and Morgan Stanley Real Estate', \"Fry's\", 'AMSURG', 'I', 'Genius Bar', 'Lear', 'Starboard Values', 'Baby', 'Goodlettsville', 'Voya', 'LEED', 'Chemical Analysis Division', 'Doug Leone', 'Dallas Tank Company', 'CEO James Hughes July', 'Barrack Jr', 'During', 'Six Flags', 'Adient', 'We TV', 'NationsBank', 'On March', 'Celebrity', 'Allmerica Financial Corporation', \"FactSet's\", 'Industrial Technology', 'Dymo', 'Star Alliance', 'Best Buy Co', 'United States and Libya', 'Adrian Bellamy', 'Swedish ESAB', 'Raytheon', 'Avery Dennison Corporation', 'Hygiene', 'Northrop Grumman Corporation', 'Amerada Hess Corporation', \"Standard & Poor's\", 'Gentex Corporation', 'Scottsville', 'Paul Pressler', 'Crane Co', 'Gregory J', 'Jacobs Engineering Group Inc', 'Basaglar', 'Mosher Steel', 'Boeing Shared Services Group', 'The U', 'London and Singapore', 'Patrick Robinson', 'Food Machinery Corporation', 'ADM Trucking', 'King', 'Bannockburn', 'North American Division', 'Allman', 'Kohl Family', 'FleetCor Technologies', \"European Union's Electronic Signatures Directive\", 'Offices', 'Brian Robins', \"Voya's\", 'Shoppers Drug Mart', 'Sherwin-Williams', 'Horton', 'SOTG', 'Alltrista', 'Cheryl Miller', 'Andrew McCollum', 'Perrigo', 'Jeffrey A', 'MGM China Holdings Limited', 'Mayfield Village', 'Swoosh', 'Shrovetide', 'Alliant Energy Corporation', 'Canopy', 'Cliniqa', 'New York Mercantile Exchange', 'Texas', 'Marvel Studios', 'HDS', 'The Loop', 'Operations & Technology', 'Personal Insurance', 'Sensipar', 'PCO Services', 'BDS', 'Venere', 'General Dynamics Land Systems Canada', 'Humulin', 'Antar and Flaga', 'The Fisher', 'General Dynamics Corporation', 'Swiss', 'Wine', 'Park MGM', 'Sandy Springs', 'Walt Disney Pictures', 'Citgo', 'Through', 'Stanley and Sidney Goldstein and Ralph Hoagland', 'State', 'Advance Auto Parts', 'Sam Walton', 'MASI', 'Exton', 'Merriam', 'ULSD', 'CA', 'Equitable Powder Company', 'JetBlue', 'Carthage', 'Fisher', 'Powerwall', 'International Game Technology', 'RWE Group', 'Colombia', 'Alaska', 'Harvoni and Sovaldi', 'Milton Bradley', 'Ross', 'Resource', 'Pennsylvania Lines', \"Smucker and Smucker's\", 'CIPSCO Inc', 'Associated Banc-Corp', 'Winnipeg', 'The NCR Corporation', 'Henry Schein Inc', 'RenaissanceRe Syndicate', 'Chicago Mercantile Exchange', 'Two Shell Plaza', 'Republic Industries', 'Now', 'Rinbros', 'Milpitas', \"Edison's\", 'Deisel-Wemmer-Gilbert Corporation', 'Southwest Airlines and American Airlines', 'Hoffmann-La Roche', 'NCR', 'Negra Modelo', 'Connect and Control Technologies', 'Consulting & Project Management', 'Springdale', 'United Food and Commercial Workers', 'First Citizens Bancshares', 'Bruker Scientific Instruments', 'United Technologies', 'AppleCare', 'Chub O', 'Need', 'The Swedish', 'Serial EEPROM', 'Lincolnshire', 'Rosemead', 'Central and South America', 'In September', 'Legg & Co', 'New Orleans', 'The ONEOK Foundation', 'HP Inc', 'Special', 'Best Buy', \"Raytheon's\", 'Sundance Now and Shudder', 'ADCs', 'The Woodlands', 'Commercial Investment Trust', 'SkyTeam', 'Becton Dickinson', 'Bobby Yerramilli-Rao', 'Roebuck and Co', 'Lincoln Electric Holdings', 'Keystone Insurance and Investment Co', 'El Segundo', 'JV', 'Electronic Arts', 'PNC Financial Services Group', 'First Hawaiian Center', 'SaskTel', 'United Technologies Corporation', 'For', 'Double RL', 'Wonderbra', 'ICC', 'BankAmerica', \"ONEOK's Energy Services\", 'NU', 'P Global Market Intelligence', 'January', 'Some', 'Harvard', 'DAU', \"Take-Two's\", \"Spain's\", 'Jack Dorsey and Jim McKelvey', 'Herman O', \"Yard House and Cheddar's Scratch Kitchen\", 'Mid-America Apartment Communities', 'Eleven', 'Call', 'Charter', 'PWR', 'Senior Housing and Medical Office', 'Alleud', 'Brand Jordan', 'Rocky Mountain', 'Jack Henry & Associates', 'Reliance Steel and Aluminum Co', 'The International Paper Company', 'Dollar Tree', 'Floor & Decor', 'Hunt Valley', 'Gillette', 'CCC', \"Sempra Energy's\", 'Rainbow Media Holdings', 'IRES', 'PIC', 'Sling TV', 'Federal Deposit Insurance Corporation', 'Canonsburg', 'IEnova', 'Integrated Research & Development', \"Apple's CDO\", 'Coffee', 'Aluminum Company', 'Sprouts Farmers Market', 'Tortue', 'SQL', 'Host Marriot Services', 'F', 'AVII', 'Joe Carlson', 'Bunge International', 'Phase III', 'John Simon Fluor', 'International Flavors & Fragrances', 'Marathon Oil Tower', 'Ross Stores', 'Milka', 'Governors', 'OLED', 'Bunge Limited', 'First Horizon National Corporation', 'Hauppauge', 'Manpower', 'Within North America', 'Food and Beverage', 'New York Rangers', 'Quonset Hut', 'Waterman', \"Dell's\", 'PNC', 'Wright Brand', 'Verisign Trust Seal', 'Fox Searchlight Pictures', \"Johnson's Baby\", 'Index and S', 'Nikola Tesla', \"Sam Walton's\", 'BNSF Railway Company', 'Starbucks', 'ThinkPad', 'Financial Services Businesses', 'Expected', 'Triscuit', 'Boston Properties', 'Diet Coke Caffeine-Free', 'Respawn Entertainment', 'Transact', 'Jobs and Wozniak', 'Tagless', 'Joe', 'State Street', 'SPSS', 'DLP Cinema', 'Reilly', 'Noah Glass', 'NRG', 'Cacharel', 'Midland Basin', 'Hackensack', 'Alliance Boots', 'Alexandria Real Estate Equities', 'Illinois River', 'Enablex', 'Latin America', 'Pfister', 'Mac', 'Berol', 'Dickinson and Company', 'Renesas and Micron', 'Ionis Pharmaceuticals', 'Activision Blizzard Studios', 'Voice', 'Tempe', 'Athleta', 'Sysco', 'Toronto', 'Landstar', 'SpaceShipOne', 'Strauss Zelnick', 'Chicago Board Options Exchange', 'Idaho', 'Pre-Lent', 'AboveNet', 'Creatology and Ashland', 'Chevron Corporation', 'Site Leasing and Site Development', 'CMS Enterprises', 'US ESIGN Act', 'T Bank Stadium', 'The European Bakers', 'Capella Healthcare', 'Dow Jones Industrial Index', 'Igor Samartsev', \"T Corporation's\", 'BHGE', 'Education', 'Morocco and Western Sahara', 'Indiana', 'Gulfstream Aerospace', 'Bruker BioSpin', 'He', \"New Jersey's\", 'Morgan Stanley Capital International and MSCI Barra', 'Axiometrics', 'Cupertino', \"Hamm's\", 'Keysight', 'Pascua Lama', 'Baby Jogger and Graco', 'Series A', 'Lauren Ralph Lauren', 'Sterling Bancorp', 'Botox', 'North and South America and Europe', 'Cisco', 'Q', 'Walton Enterprises', 'Tetra', 'Evansville', 'Pedialyte', 'App Store', 'Decade', 'Stanley Black & Decker', \"Totino's\", 'Fort Worth Division', 'Livestock', 'MN', \"Dick's Sporting Goods\", 'FCB', 'Conoco Inc', 'Westminster', 'Edwards Lifesciences', 'Varian Medical Systems', \"Shopper's World\", 'Gulf Region', 'Syro Steel and Stearns Airport Equipment', 'Washington International Airport', 'Public Storage Inc', 'DISH Network', 'Lucas', 'Post Holdings', 'UBS', 'Altair', 'Carolinas', 'Water and Electrical', \"Dayton's Dry Goods Company\", 'Delta', 'To', 'Atlanta', 'Virgin Islands', 'Florida and Santa Clara', 'The BPPR', 'Arconic Inc', 'The IBM', 'DWG Corporation', 'West Pharmaceutical Services', 'COO', 'Valvoline', 'Nuance', 'National Fuel Gas Midstream Company', 'Cedar Mill', 'Award Honorees', 'A Walmart', 'C Technologies', 'Zayre Corp', 'Kennedy International Airport', 'Radeon', 'Bernard Kroger', 'Smokeless Tobacco Company', 'Small', 'DE', 'Pine-Sol', 'CVS Caremark Corporation', 'Henry W', 'Bell Mobility', 'Discovery Research', 'Low', 'Banco Popular Puerto Rico', 'Mistolin', \"BioMarin's\", 'Marathon Oil', 'QCT', 'Fluor', \"Levi's San Jose\", 'Clos', 'United Kingdom and Canada', 'DePaolo', 'Wonderbox', 'Teradata Corporation', 'Calhoun', 'Gap Inc', 'Topeka and Great Plains Energy', 'Winona', 'Oshkosh', 'Corteva', 'Sketch', 'Engineered Materials', \"Hunt's\", 'Magog', 'Steve Ballmer', 'Fairfax County', 'Sidney Jacobson', 'Becton', 'McCormick & Company', 'Fruit', 'Cosmetics & Fragrance Inc', 'Lilyhammer', 'ISPs', 'Markel', 'NNN Leases', 'ADM', 'Heatcraft Refrigeration and Armstrong', 'Toledo', 'Wyndham Hotels and Resorts', 'JOHN DEERE', 'Advantage Funding Management', 'LyondellBasell', 'Energy Marketing', 'Olefins and Vinyls', 'Bank Holding Company Act', 'Kauai Island Utility Cooperative', 'Ivor Ichikowitz', 'Himawari', 'Lennox International Inc', 'Boardwalk Pipeline Partners', 'Each Dollar Tree', 'Boeing Capital', 'England Mark Carney', 'BOK Financial Corporation', 'Buffalo Bills', 'Writing', 'CoStar Group', 'UGI', 'Federal Family Education Loan Program', 'Colonial Life', 'Mike Petters', 'Prior', 'Sheer Energy', 'Manhattan Project', 'Delphi Automotive PLC', 'Nashville and San Francisco', 'The Bell Telephone Company', 'Tocris Bioscience', 'Loews Hotels and Consolidated Container Company', 'Appalachian Basin', 'Outfront Media', 'Kim Crawford', 'Klaus Kleinfeld', 'Blue-Point', 'Alabama', \"Hansen's\", 'GUI', 'Devon Energy Center', 'USA', 'Emerson', 'L Brands', 'Just My Size', 'United States and Europe', 'Dublin', 'Innovation', 'PayPal Holdings Inc', 'General Insurance', 'The Direct Store Delivery', 'Roche BioMedical', 'Delmarva Power & Light', 'Maryland', 'O', \"Vectren's\", 'Consumers Energy', 'RBOC', 'Link Motor Supply', 'Choice Hotels International', 'East Asia', 'Tel Aviv and Singapore', 'Kenworth', 'Honolulu', 'Norfolk and Western Railway', 'Ulta Salon', 'Ardagh Group', 'Ozurdex', 'Mickey Mouse', 'Evercore Partners', 'Allegion', \"Amgen's Thousand Oaks\", 'Textron Inc', 'D Systems', 'Enterprise Services', 'Amgen Inc', 'DoubleTree', 'Simon Kneen', 'August', \"Northrop's\", 'American Fortune Global', 'FTTN and DSL', 'Kenosha', 'T Wireless', 'Robert Half Finance & Accounting', 'Clean Harbors', 'Jabil', \"Zayo's\", 'Milwaukee Bucks', 'Cleveland', 'Telephone and Data Systems', 'Donald Trump', 'Commercial Banking', \"Allan Kirby's\", 'R Block', 'Lexar', 'ACE Limited', 'Frankfurt', 'ManpowerGroup Solutions', 'Trix', 'DaVinci Reinsurance Ltd', 'Special Yarns Company', 'Other', 'United States Cellular Corporation', 'Pepsi', 'Pediatrix', 'Shield Portable', 'WAVE', 'May and July', 'Range Resources Corporation', 'Mark Widmar', 'San Francisco Bay Area', 'General Instrument', 'Host International Company', 'Keystone', 'Nigerian', 'Tyler Technologies', 'Incyte', 'ING Group', 'WellCare Health Plans', 'Soy Vay', 'Vectren Energy Delivery', 'Nobel Prize', 'Baar', 'Unit', 'Integrated Capacity Solutions', 'Ethan Brown', 'James P', 'Eastern Virginia', 'OneMain', \"McDonald's Corporation\", 'Wells Fargo & Company and Minneapolis', 'HCM', 'Chapter', 'CMG', 'Buffalo Savings Bank', 'While CarMax', 'Chairman', 'Lazy Pet', 'Northern States Power-Minnesota', \"Caltech and Citibank's\", 'Wayfair', 'NVR', 'CBRE Group', 'Joseph J', 'By January', 'US', 'State John C', 'Cybertruck', \"UAH's United\", 'Terrain', 'Penn National Gaming', 'Top Layer Reinsurance Ltd', \"Pilgrim's Pride Corporation\", 'Intel PC', 'Chief Executive Officer', 'Russian', 'The Federal Trade Commission', 'Testing & Subsea', 'National Fuel Resources', 'Baja California', 'AbioCor', 'BioWare', 'Tennessee', 'Kansas City Power & Light', 'Life Storage', 'LoRa', 'American Standard Brands', 'Namibia', 'Eindhoven', 'Ronald Wayne', 'Hillshire Farm', 'Tinder', 'Aerospace & Electronics', 'Bystolic', 'Schaffhausen', 'Dave Lennox', \"Dallas's Austin Bridge Company\", 'EFPs', 'Ares EIF', 'Tapestry Collection', 'Hilton Worldwide Holdings Inc', 'Franklin Lakes', 'White Plains', 'France', \"Activision's\", \"Domino's\", 'MPLAB', 'Steven J', 'Philip', 'Tremco', 'MSP Underwriting', 'Adcetris', 'Symantec', 'In May', 'Technology', 'Wisconsin Electric Power and Wisconsin Gas', 'CMS Energy', 'Registered', 'Alaska Permanent Fund', 'Prime Minister', 'Weatherford International', 'DWG Cigar Corporation', 'Acquisition', 'MSN', 'Ultimate Software Group', 'Larkin', 'VAR', 'Discover', 'Fusion', 'Baker Hughes Company', 'CAVOK', 'Public Service Electric and Gas Company', 'Royal Gold', 'United States and Puerto Rico', 'MSK', 'Gtech Corporation', 'Europe', \"Visa's\", 'Van Sweringens', 'Donald Fisher', 'Saphris', 'Aidells', 'Olive Garden', \"Canada's\", 'The Archer Daniels Midland Company', 'On May', 'In Pennsylvania', 'DocuSign', 'Grupo Big', 'Nestle', 'Diners Club International', 'An Equifax', 'Mace Siegel and Richard Cohen', 'The Venetian and The Palazzo', 'The Royal Bank', 'CBS Corporation', 'Melville', 'Store', 'One', 'Jon Vander Ark', 'Blizzard Entertainment', 'CRO', 'Bolingbrook', 'Blue Ribbon Sports', 'Australia Malcolm Turnbull', 'Pennzoil Building', 'Austin', 'Wisconsin', 'Metro-Goldwyn-Mayer', 'British American Tobacco', 'Pershing Square Capital', \"Halliburton's\", 'Cboe Global Markets', 'New England', 'Consumer Protection Financial Bureau', \"Texas Instruments's\", 'Gtech', 'Lockheed Martin Corporation', 'Software', 'Shaygan Kheradpir', 'Murphy Oil Corporation', 'White Lightening', 'Conrail', 'Norway', 'Flowers', 'David S', 'Sony Pictures', 'IEX', 'Climate Control', 'Report', \"Qualcomm's R\", 'Extended Stay America', \"Amphenol's\", 'Via', 'The Tower', \"AWI's\", 'Seattle Genetics', 'Natick', 'In October', 'Technologies', 'Great Lent', 'Bentonville', 'Production Capacity', 'Specialist Four Robert F', 'T Corporation', 'Helmerich & Payne', 'Walt and Roy O', 'Life', 'Piperlime', 'South Texas', 'Floor & Decor Holdings', 'Wyoming', 'John Jack Schiff and Robert Cleveland Schiff', 'Jobs', 'The Banker and Brand Finance', \"Armstrong's European Textile and Sports Flooring\", 'The Little Clinic', 'AIDS', 'Southlake', 'Europe and Latin America', 'Megapack', 'Technology and Innovation', 'Stack', 'Connecticut', 'An', 'Boost Mobile', 'New Jersey', 'JBG SMITH Properties', 'Scoop Away and Ever Clean', 'MetLife', 'Loews Corporation', 'CEO', 'The Curtiss-Wright Corporation', 'Apollo Global Management', 'Sterling National Bank', 'UGI Corporation', 'Each', 'Wallace Calvin Abbott', 'CEO and CFO', 'OneWest Bank', 'Fourth', 'Security Title Agency', 'Corman Railroad', 'Then', 'NAND', 'Dollar Tree Stores', 'Zimmer', 'Pepsi-Cola Company and Frito-Lay', \"City Center's\", 'FEW', 'Big Three', 'Citizens', 'Intuit', 'Valmont', 'International Game Technology PLC', 'Pratt & Lambert', 'Berkeley', 'Vectren North', 'USFD', 'Con Edison Energy', 'Montana-Dakota Utilities Co', 'New York Times', 'Aeronautics', 'Ghana and Uganda', 'Europe and Singapore', 'Company', 'Soon', 'GE Oil and Gas', 'BMW', 'Founders Joseph J', \"Spectrum's United Pet Group\", 'About', 'Rami Rahim', 'Howard R', 'Trimark', 'Jacobs Technology Inc', 'David Duffield', 'LG', 'Inventions', 'Merck Group', 'Popular Bank', \"ICU Medical's\", 'Sprint', 'Baker Hughes', \"MIC's\", 'J & L Industrial Supply', 'International Comfort Products Corporation', 'Think', 'United States and Canada', 'Instant Ocean', 'Niagara Falls', 'Al', 'SBC Communications Inc', 'Conduent Inc', 'Momondo', 'Penney', \"HP's\", 'Visual Studio', 'HIT', 'Peter S', 'Rig Technologies', 'TriQuint', 'Ensenada', 'Institutional Markets', 'Greater Houston', 'Freeport-McMoRan Inc', 'Sidney', 'Nashville', 'Oath Inc', 'Human Capital Management', 'MA', 'Completion Tools', 'TreeHouse Foods', 'CenturyLink', 'A Fortune', 'CEO Dan Hesse', 'Sydney', 'Sweden and Los Angeles', 'Federal Reserve Bank', 'Mercer', 'Capabilities', 'John Tamberlane', 'Booz Allen', 'Class I', \"LogMeIn's\", 'Six Flags Entertainment Corporation', 'Global Preneed', 'Intel Corporation', 'The Alaska Air Group', 'Nerf', 'Water', 'Neartown', 'London Stock Exchange', 'ISIS', 'Diamond State Telephone', 'Extensible Operating System', 'Marcellus and Utica Shales', 'Bud Robinson', 'Masco Corporation', 'SCT', 'MSCI BRIC', 'Chandler', \"Macy's\", 'Herzog', 'Superior', 'Robinson and Fisher', 'KMS Fab LLC and KMS South', 'The Middleby Corporation', 'Nasdaq Global Select Market', 'Qdoba Mexican Grill', 'Visioneer', 'BD Medical and BD Life Sciences', 'US Episcopal Church', 'Target Canada', 'Bill Gates and Paul Allen', 'KFC', 'Middle East and Asia', 'Zithromax', 'Lilly', 'Nextera Energy', 'Pictures', 'World War I', 'Antero Resources Corporation', 'Northern States Power Company', 'Providing', 'Initially', 'Robert Daugherty', 'Nu Skin', 'Unicode', 'Cognizant', 'Thomas M', 'Utah', 'Jersey', 'Zynga Poker', 'T-Mobile', 'Vail Resorts Hospitality', 'Lehigh Valley', 'Ethisphere Magazine', 'Western Europe and Australia', 'Apple TV', 'Northfield Township', 'Pullman-Standard Car Manufacturing Company', 'LASH', 'Chrysler Corporation', 'American English', 'Qorvo', 'Thomasville', 'UAL Corporation', 'Intermodal', 'Irish', 'Eggo', 'New Mexico', 'Col', 'Group Retirement', 'President and CEO Dennis Muilenburg', 'Only', 'Google Cloud', 'The Open Source Technology Center', 'Navient', 'CVS Corporation', 'Continental Resources', 'Santa Monica', 'Maxim Integrated', 'Ramon Laguarta', 'Limited', 'Bar Rescue and Hotel Impossible', 'Allied', 'Masco', 'The Phillips', 'Drill Bits & Services', 'Eastern Time', \"Rockefeller's Standard Oil\", 'Latisse', 'Stanley Works and Black & Decker', 'Reuters', 'Mid', 'ICS', 'Tylenol', \"The McDonald's Corporation\", 'Although Bell Atlantic', 'SMS', \"Evercore's Investment Banking\", 'Italy', 'DirecTV', \"Detroit's Renaissance Center\", 'Eastern Interconnection', 'CarMax', 'EMEA and Asia Pacific', 'RenewLife', 'Mohamed Diab', 'UPS', 'CME Clearing', 'System', 'Glasco Polyvend Lektrovend', 'CoreLogic Inc', 'Ray Wallace', 'Biz Stone', 'ONEOK', 'Star Tribune', 'Michaels Stores', 'Trade', 'Sarasota', 'HR', 'Envison and AMSURG', 'Lewis Cantley', 'Splunk Inc', 'Common', 'Hanesbrands', 'Right Management', 'Reilly Automotive and Ozark Automotive Distributors', 'Atlantic City Electric', 'Approximately', 'Discover Financial Services', 'PerkinElmer', 'Providence', 'BWX Technologies Inc', 'Pierce Manufacturing', 'J', 'Dulles', 'Boston Scientific Corporation', 'Byron L', 'President and CEO', 'Almost', 'Danaher Corporation', 'The Western Union Company', 'Monster Beverage', 'AAL', 'KKR', 'UAH', 'UPS Freight', 'Index', 'Xcel Energy Inc', 'Abbott Laboratories', 'Essex Property Trust', 'Mastercard Worldwide', 'The Chase', 'Merck KGaA', 'Simon Property Group', 'Louisville', 'Morgan & Co', 'MGM Resorts', 'Pentagon', 'Motion Picture Association', 'Fifth and Boulder', 'Leadership', 'SRAM and DRAM', 'TPG Capital and Paulson & Co', 'Norwood', 'Jeff Miller', 'Embarq', 'Hawaiian', 'K', 'Do-It-Yourself', 'RFID', 'Cintas Corporation', 'Laboratory Corporation', 'Contigo and Bubba', 'UAL', 'Diamondback Energy', 'December HPE', 'South Florida', 'Air Southwest Co', 'The Pipeline and Storage', 'WWE', 'Ontario and Montreal', \"American Water's\", 'GPI', 'Arastra', \"Wendy's International\", 'WBI Energy', \"Dayton's\", 'Industrial', 'Hampton Roads', 'WSO', 'Linsco', 'Jira', 'ServiceMaster Clean', 'Vietnam War', 'General Electric', 'Schneider', 'Rockwell Automation', 'Booz Allen Hamilton Inc', 'On June', 'Microchip Technology', 'Michael P', 'Russia', 'Rayonier Inc', 'Bohn', 'Curtiss', 'Hopewell Township and New Brunswick', 'CME', 'Weyerhaeuser', 'JBI', 'PMIC Power Management ICs', 'ConocoPhillips', 'The Timken Company', 'Robert Half International', 'PNR', 'Dallas', 'Qualcomm Incorporated', 'Synchrony Bank', 'Terminix Commercial', 'BetterInvesting', 'Prudential Financial', 'Facebook', 'East West Bancorp', 'Phillips', 'Lear Corporation', 'Buick', 'First Central Bank', 'Wilmslow', 'Deere & Company', 'Tampa', 'Provo', 'European and Asian', 'Gilead Sciences and Genta', 'NetScreen Technologies', 'Xbox', 'Whisper', 'Ireland', 'Dow Inc', 'Balboa Bridge', 'Power', 'The Private Trust Company', 'Bankruptcy Protection', 'Aranesp', 'OEC', 'Pure Storage', 'SoHo', 'Vancouver', 'Medical Properties Trust', 'Production Solutions', 'Mark Zuckerberg', 'Korean', 'One-Oak', 'AWI CEO Michael D', \"Lloyd's\", 'Wallin', 'Largest Banks', 'DLP', 'Forbes Global', 'John Crane', 'The Harris Products Group', 'Thrall Car Manufacturing Company', \"Tony Hawk's\", 'DBA', 'FNTG', \"Macquarie Infrastructure Corporation's\", 'Summer Olympics', 'Cline Shale', 'Nearly', 'Leroy Merlin', 'Philip Morris Capital Corporation', 'Waters Corporation', 'Wallingford', 'Nplate', 'BNC', 'Lottomatica', 'HomeAway', 'Air Lease Corporation', 'British American Tobacco Company', 'ProNav', 'V', 'Terminix', 'Consumer Value Stores', 'Chuck', \"Chubb's\", 'William Byron', 'Bank', 'San Mateo', 'United States Department', 'Gary Burrell and Min Kao', 'LIV', 'American Water Military Services Group', 'Food Processing', 'Aneel Bhusri', 'Vidaza', 'Raymond James Financial', 'Travelocity', 'Grace', 'The Principal Financial Group', 'Lewis', 'Oklahoma City', 'Ferguson', 'The Hartford', 'Toronto-Dominion Bank', \"O'Fallon\", 'Nextel Communications', 'Florida Power & Light', 'PaySpot', 'NEER', 'Fighting Falcon', 'Musk', 'Because', 'Northern States Power-Wisconsin', 'Thermo Fisher Scientific', \"America's Best Employers\", 'Scott', 'The Prisoner', \"Moody's Corporation\", 'Tyree', 'PPG Industries', 'Though', 'The Plaza Macao', 'Her', 'Greek', 'EA', \"Sterling Bancorp's Sterling National Bank\", 'SCI', 'Alabama and Mississippi', 'Global Housing', 'VIA', 'Menomonee Falls', 'Their FlexRigs', 'E-Loan', 'Port', 'Tarrytown', 'JWN', \"T's Long Lines Program\", 'Annual', 'VisionPro', 'McLean', \"AMD's\", 'Dayton-Hudson Corporation', 'Shoes', 'California and Massachusetts', 'Micronauts', 'USAToday', 'Sony', 'NCL', 'Armstrong World Industries', \"Walmart's\", 'Borden', 'Western Christian', 'Quest Diagnostics and Covance', 'Autodesk Inventor', 'Albany', 'Valero', 'BioMarin Pharmaceutical Inc', 'T Mobility', 'Aspen Technology', 'Bauer Hockey', \"Tracinda's\", 'Ashland', 'Exubera', 'Don Fisher', 'CN', 'Cigna', 'Straubel and Ian Wright', 'Oakland', 'Burlingame', 'Nintendo', 'Pune', 'In February', 'Texas Instruments and IBM', 'Corning', 'Realogy Holdings Corp', 'Energy Management System', 'Cardinal Health', 'Between', 'Air Max', 'Champion', \"Kohl's Corporation\", 'First Republic Bank', 'Sperry Drilling', 'Broadcom Corporation', 'Prozac', \"Company's\", 'Kevin Johnson', 'EpiPen', 'HD Supply Holdings', 'On August', 'CommScope', 'Composites', \"World's Most Admired Companies\", 'Mississippi River System', \"Dunkin' Donuts and Baskin-Robbins\", 'Rainbow Programming Holdings', 'Marsh & McLennan Companies', 'Including', 'Dolby Labs', 'Western United States', 'Terex Corporation', 'Prime Standard', 'Xen', 'The Company', 'The Williams Companies', 'South America', 'Foster', 'Billerica', 'Monopoly', 'College Station', 'Atlantic', 'URI', 'Margolis', 'Mrs', 'Sara Lee Corporation', 'Masimo', 'Financial Stability Board', 'US West', 'Calais', 'Total', 'Southeast', 'Exelon', 'Smucker Company', 'Maytag', 'Miracle-Gro and Ortho', 'Lycoming Engines', 'POS', \"Sprint's\", 'Latin', 'Emerald Homes', 'Semi', 'The Group', 'Bio-Techne Corporation', 'Air Products and Chemicals', 'United States Food and Drug Administration', 'HELCO', 'Welltower Inc', 'Instead', 'Augusta', 'Comprising', 'Louis', 'The Industrial Fumigant Company', 'Nike Golf', 'Martin', 'Pradeep Sindhu', 'Petters', 'Accenture', 'AIG', 'Rochester', 'Google and SoftBank', 'Denver Basin', 'The Blackstone Group', 'Ceridian HCM', 'Experiences and Products', 'Best Companies', 'North Carolina and Advance Auto Parts', 'Hill', 'Chub', 'Bellevue', 'ITT', 'Exxon Mobil Corporation', 'Internationally', 'FNF', 'Patterson', 'EC', 'West Street', 'Stanley Crooke', 'Eastbay', \"Chevron's\", 'Executive Chairman Bill Marriott', 'Milton Park', 'North Kansas City', 'Princeton University', 'West Africa', 'Glendale', 'KDP', 'Taiwan', \"Southwest's\", 'York', 'Bunker Ramo Corporation', 'Hendrick Motorsports', 'Confinity', 'Philip Morris International', 'Marine', 'LTE', 'National Oilwell Varco', 'Uber Technologies', \"Baxter's Medical Products\", 'Command & Conquer', 'Gates', 'Northrop Grumman Shipbuilding', 'Suites', 'Advent Software', 'Ever After High', 'Willis Tower', \"Lincoln Electric's\", 'Life Science', 'Abiomed', 'IPG', 'Andrew Florance', 'Spectrum', 'LyondellBasell Industries N', 'DTE Electric Company', 'Just Do It', 'Glass', 'Houston', 'Union Bank', 'FireEye', 'Neutrogena', 'Northern Trust', 'Dazs', 'Canadian LAV III', 'Treasury Robert Rubin and Henry Paulson', 'Family Dollar', 'Guidewire', \"Aramark's\", 'First Hawaiian', 'Security and Exchange Commission', 'BorgWarner', 'McCann Worldgroup', 'Isis Pharmaceuticals', 'Chase Manhattan Corporation', 'Shanghai', 'There', 'NXP', 'National Fuel Gas Supply Corporation and Empire Pipeline', 'Electromechanical Group', 'Dell Technologies Inc', 'Gibraltar', 'Ultramar', 'Western Digital Corporation', 'ATMs', 'Expeditors International', 'NSTAR', 'Cometriq', 'WPP', 'Wall Street Journal', \"America's Largest Companies\", 'Fluid Handling', 'Asia', \"Michigan's\", 'Reliant Energy', 'Foster City', 'Avago Technologies', 'Rubbermaid', 'Dave Lesar', 'Xerox', 'UnitedHealth Group Incorporated', 'Kaiserslautern', 'New York Liberty', 'Transformers', 'NYC', 'Michael M', 'The Kellogg Company', 'WPX Energy', 'Dare Vita', 'VoIP', 'First Tennessee', 'Battle Creek', 'P Dow Jones Indices', 'Troubled Asset Relief Program', 'The Parisian Macao', 'Lam Research Corporation', 'Fred M', 'Sterling', 'Interactive Brokers Group', 'Fortinet', 'Bloomfield Hills', 'America', 'Skyworks', 'Copa Holdings', 'Communications', 'Casa Noble Tequila and High West Whiskey', 'Zynga Inc', 'American Telephone and Telegraph Company', 'Jersey City', 'Moore', 'Exelon Corporation', 'Companion', 'Enron', 'The Unicode', 'Second Measure', 'Southern California Edison', 'TDS', 'HPQ', 'Or', \"USG's\", 'DISH', 'Regency Centers Corporation', 'BPRG', \"Wendy's\", 'General Dynamics', 'Mirage Resorts Chairman and CEO Steve Wynn', 'Citrix', 'Knauf', 'Roper', 'AkzoNobel', 'Mark Steven', 'Purchase Program', 'Vail Resorts', 'Cambridge Analytica', 'Paradise', 'The Vetri Group', \"Lilly's\", 'Geophysical Service Incorporated', 'Brazilian', 'North and South America', 'FMC Corporation', 'PNH', 'Zimmer Biomet', 'WL Ross & Co and Powershares', 'Lazard', 'Global Business Advisor', 'Phase II', 'Located', 'Nordstrom', 'Distributed Antenna System', 'Benson F', 'Vivendi Games', 'The J', 'On December', 'After Babcock & Wilcox', 'Refrigeration & Food Equipment', 'NASCAR', 'PEGylation', 'Dermalogica', 'American Savings Bank', 'Continental', 'Macerich', 'Hub Group', 'Industrial Process', 'Claure', 'See', 'Ingredion Incorporated', 'Italy Mario Monti', 'Ryan Homes', 'Public Companies', 'Danaher', 'Pipeline and Storage', 'Monolithic Power Systems', 'Broomfield', \"The Promus Companies and Harrah's Entertainment\", 'Dingo', 'QTL', 'Unilever', 'The Genesee & Wyoming Inc', 'The French Battery Company', 'Switches', 'Seaboard Foods', 'Dolby Laboratories', 'Marketing Specialists', 'Baja Fresh', 'Americas and Europe', 'TD Ameritrade', 'Pillsbury', 'Citicorp', 'M', 'Greater Manchester', 'Wilmington Trust', 'Analog', 'Newport News Shipbuilding', 'Ritmo', 'Intuitive Surgical Inc', 'Perfecto', 'ATVI', 'CISA', 'Oregon', 'In Asia', 'American Water Works and Electric Company', 'Joe Bob Perkins', 'Boulder', 'Kirby Inland Marine', 'The First American Family', 'Texas Instruments Incorporated', 'Universal Display', 'Nu Skin and Pharmanex', 'Dentsply International Inc', 'Service Corporation International', 'South Dakota', 'Greater Washington', 'The Hartford and Travelers', 'Pharmaceutical Industries and Associations', \"Royal Gold's\", 'Cincinnati Global', 'Allweiler', 'The Public Service Enterprise Group', 'Ivy League', 'Malaysia', 'OS', 'PKI', 'In Greater China', 'Oxford', 'General Motors Acceptance Corporation', 'Camden Property Trust', 'Southwestern Public Service Co', 'National Football League', 'Advent', 'ACM', 'Mortimer B', \"Activision-Blizzard's\", 'Swanson', 'QIAGEN', 'General Motors', 'First Republic Securities Company LLC and Trust', 'Public Service Company', 'Bendix Corporation', 'Skillman', 'Vice President', 'Crock-Pot', 'AbbVie', 'Scott Scherr', 'International Business Machines', 'Production Facilities', 'PRA Health Sciences', 'MIS', 'Henry Foster', 'Bob', 'Northeast Utilities', 'Lyrica', 'Dexcom', 'OpenStack', 'Lawrence', 'ITT Industries', 'Zendesk Inc', 'General Parts', \"Circuit City's\", 'Mylan', 'David D', 'Herb Kelleher', 'Bain Capital LLC', 'One Hanes Places', 'Marcelo Claure', 'Argentina', 'Sol', 'Over', 'Chemical Bank', 'Bothell', 'X', 'Transocean Ltd', 'Ansys', 'Through Markel Ventures', 'Nike Blazers', 'IM Flash Technologies', 'Morgan Stanley Building', 'Wellcare Health Plans', 'New York Metropolitan', 'East Pratt Street', 'AmerisourceBergen Corporation', 'Norfolk Southern Corporation', 'Herbalife', 'Pfizer Inc', 'StarCraft', 'Starbucks Corporation', 'Environmental & Nuclear', \"TI's Central Research Labs\", 'NASDAQ OMX Vilnius', 'Paul', 'GE', 'Goldman Sachs', 'Jessica Graziano', 'The Goldman Sachs Group', 'FirstEnergy Corp', 'ThinkCentre', 'Roanoke', 'IRS', 'Mississauga', 'Yum China', 'Post-Newsweek Cable', \"Internet's\", 'Dead Space', 'Systems and Services Company', 'Wyomissing', 'Voorhees', 'Emergency Economic Stabilization Act', 'Ecolab Inc', \"Casey's\", 'Keytruda', 'Columbia Threadneedle Investments', 'UnumProvident', 'Madden NFL', 'Brown & Brown', 'Dentsply Sirona', 'Energy East and Iberdrola USA', 'Foot Locker', 'BEST', 'EOS', 'Spectra-Physics', 'Las Vegas', 'Bryn Mawr', 'Glad', 'Eastpak', \"Victoria's Secret and Bath & Body Works\", 'RSAC', 'Ball Corporation', 'American Marketing Association', 'Poultry and Dairy', 'Shelly Dean Oil Company', 'P Global', 'First Solar', 'Stream Energy and Cirro Energy', 'Energy Group', 'Caremark Rx', 'Class A', 'Dow Chemical and DuPont', 'Corey Goodman and Gerry Rubin', 'EA Sports', 'Scale Venture Partners', 'IBM and Microsoft', 'Constellation', 'Lower Manhattan', 'Craig L', 'UDC', 'CIT Group', 'Micro Focus', 'GeForce', 'Marcellus Shale', 'Gilead', 'The Dun & Bradstreet Corporation', 'Parker Brothers', \"Elmer's\", 'Minnesota Mining and Manufacturing Company', 'ALC', 'Petratis', 'Phillips Petroleum Company', 'Zurich', 'Exelis', 'LPL Financial LLC', 'H', 'Peru', 'Match Group', 'Al Schneider', 'Plc', 'Shrove Tuesday', 'Potomac Electric Power Company', 'Fortune Magazine', 'March', 'WLP', 'OMF', 'Axalta Coating Systems', 'CEO Millard Drexler', 'Spraberry Trend', \"World's Best Bank\", 'Growing', 'Kansas and Texas', 'Qwest', 'Bank OZK', 'Amazon', 'Bloch and Richard Bloch', 'Ulta Beauty Inc', 'Hartree Partners', 'AMC Networks International', 'Historically', \"Johnson & Johnson's\", 'LNG', 'Charlie Munger', 'Matrix Laboratories Limited', 'Elon Musk', 'Wales', 'McDermott International', 'Haas Jr', 'Protiviti Inc', 'Manhattan Beach', 'Seaboard', 'Genteq', 'VCOs', \"Missouri's Union Electric Company\", \"Omnicom's\", 'Michael R', 'Humana', \"Bell Atlantic's\", 'Carlsbad', 'NFR', 'CEO Doug Shulman', 'The ADT Corporation', 'Nordstrom Inc', 'Sound', 'Suriname', 'Booking Holdings Inc', 'Xyrem', 'Echelon Mall', 'Chipotle', 'NYSE and S', 'Alaska Air Group', 'Plymouth', 'Oklahoma City Metropolitan Area', 'Timber Hill Inc', 'Closed Block Business', 'San Juan', 'Life Sciences Award Winner', 'Essentially', 'CityCenter', 'James Cracchiolo', 'Ashburn', 'AVI BioPharma', 'Oster', 'SoftBank', 'Bead Landing', 'Leeson', 'Financial Industry Regulatory Authority', 'LinkedIn', 'Netherlands', 'Tecate', 'Prolia and XGEVA', 'Oncor', 'Pharmaceuticals', 'Ireland and Spain', 'Activision Publishing', 'Chevy Chase', 'Take-Two Interactive Software', 'Brentwood', 'Israel', 'The IAV', 'Wisconsin Public Service', 'Intermediate', 'Private Ledger', 'Diversity', 'Huntington Bancshares Incorporated', 'Florida', \"Kinney Shoes and Woolworth's\", 'None', 'Greeley', 'Bruker Corporation', 'Medtronic', 'HomeTeam Pest Defense', 'Property', 'Hobby Lobby', 'Ciba Composites', 'Wireline & Perforating', 'Energy', 'Automatic Products', 'The Garden', 'Hayes', 'Short Message Service', 'Hawaiian Electric Industries', 'Flatbed', 'Dealing', 'Food and Drug Administration', 'Clayton Antitrust Act', 'Netflix', 'Medal', 'Stock', 'Farmington', 'Dedicated Contract Services', \"Merck's\", 'MoBank', 'Ryder System', 'Icahn', 'Con Edison Transmission', 'Americas', 'Canadair', 'Lightning II', 'Alliant Energy', 'Michigan', 'LabCorp', 'Raptor', 'Williamsville', 'American Tower', 'Origin', 'American Electric Power', 'PlentyOfFish', 'PACCAR Inc', 'His', 'Hawker and Cessna', 'Resort', 'With', 'Allergan', 'CTSH', 'Robert Half Management Resources', 'Mission Driven Innovative Solutions', 'Alfred E', \"Mylan's\", 'Bob Nardelli', 'Koppel', 'Camden', 'BioScience and Medical Products', 'Corning Incorporated', 'Edward B', 'Central America and South America', 'Sierra', 'Genentech and Exelixis', 'Baltimore Gas and Electric', 'East West Bank', 'Russell', 'John Stith Pemberton', 'Impella', 'Copenhagen Stock Exchange', 'Fastenal Company', 'Peter Gassner and Matt Wallach', 'CEO Harold Geneen', 'ArcLight Capital and Newark Energy Center', 'Southwestern Bell Corporation', 'Kirk Kerkorian', 'CEB', 'Parsippany', 'According', 'Ensure', 'Epogen', 'Associated Bank', 'LCN', 'Allen-Bradley and Rockwell Software', \"Hawai'i Electric Light Company\", 'SLM Corporation', 'Jazz Pharmaceuticals', 'Sandy Baker', 'United Airlines', 'Xylem', \"Foot Locker's\", 'Ralph Lauren Purple Label and Ralph Lauren Collection', \"Olin's\", 'The Americas', 'Electrical', 'Annapolis Junction', 'Olathe', 'Hawaii', 'ACS Corporation', 'Flowserve', 'Cheapflights', 'SCANA Corporation', 'Invesco Ltd', 'MCO', 'Pilot Flying J', 'Its Post Consumer Brands', 'Ghana', 'Skylanders', 'West and J', 'PBF Energy Inc', 'BATS Global Markets', 'Summit', \"Boeing's\", 'Lent', 'Citigroup Inc', 'Big Four', 'Starbucks Reserve', 'Miami-Dade County', 'Thanksgiving Day', 'Ethisphere Institute', \"President Trump's\", 'Cessna Grand Caravans and Pilatus PC', 'Lenovo', 'Starboard Value LP', 'Aflac Inc', 'Fort Worth', 'Oliver Wyman Group', 'AutoNation', 'Svedka Vodka', \"Canada's Best Employers\", 'Qurate Retail Group', 'Chinese', 'International Telephone & Telegraph', 'Bruker', 'Coca-Cola', 'Since AT', 'India', 'Nebraska and Wyoming', \"Dunkin' Brands Group\", 'Brixmor Property Group Inc', 'Limited Brands', 'Oklahoma Gas & Electric Company', 'Perigold', 'Norwegian', 'Pampered Chef', 'Rockstar Games and Rockstar North', 'Polish', 'Office', 'Northern Virginia', 'Seaboard Overseas & Trading Group', 'Monster Beverage Corporation', 'Activision-Blizzard', 'Kirby Corporation', 'Petersburg', 'Vanderbilt', 'Capital', 'JUUL Labs', 'Six Flags Over Texas', 'ESH Hospitality', 'Monster Energy NASCAR Cup Series', 'Credit Acceptance Corporation', 'Maxwell Kohl', 'P', 'Evercore', 'Walmart', 'US Foods', 'MDU Resources Group', \"Casey's General Stores\", 'Goldman Sachs Bank USA', 'John Deere', 'Wisconsin and Laurel', 'Southern', 'Pleasanton', 'Exelon Generation', 'Santander Group', 'Pedro Heilbron', 'MSC Industrial Direct Co', 'RingCentral', 'The TJX Companies', 'IFC', 'AU Optronics CMEL', 'Trinity Steel', 'APi', 'Westbury', 'Priceline', 'Las Vegas Strip', 'Target Australia', 'Richard M', 'PICkit', 'CECONY', \"People's United Bank\", \"Fortune's\", 'List', 'MIT', \"PRA's\", 'United States and Greater China', 'Crown Holdings', 'Reorganization', 'Although Trinity', 'Multi-Chem', 'Revit', 'Hilton Inc', 'Gtech S', 'Time Warner Cable', 'Orange', 'Fortune', 'Much', 'Scott M', 'Gwinnett County', 'Intercontinental', 'CCC Steel', 'OBI', 'GlaxoSmithKline', 'Corona', 'MasterBrand Cabinets', 'U', 'Allegheny', 'AWI', 'Silgan Holdings', 'CNX Resources', 'Technology Square', 'Buildings', 'NASDAQ Biotechnology Index', 'Middle East', 'Sandton', 'Hercules Composites Products Division', 'Harold McMaster', 'Commerce Trust Company', 'DC', 'Neulasta', 'The Norfolk Southern Railway', 'Model Y', 'ICU Medical', \"Fast Company's\", 'Covidien', 'Microsoft', 'New', 'BioMarin', 'HCI', 'Actonel', 'Criticism', 'Collier Trophy', 'Juniper Networks', 'Ally', 'Longview', 'Infinity Ward', 'FIFA', 'Cheniere Energy', 'Sealy Corporation', 'Their', 'Its Michael Foods Group', 'Sprouts', 'Gulf Coast', 'Canadian Pacific Railway', 'Australia', 'South Carolina', 'ZNGA', \"Spectrum's Hardware & Home Improvement\", 'Consumer Reports', 'Bloomberg L', 'ICE Clear U', 'Mooresville', 'New Jersey Jon Corzine', 'Booking', 'Green Bay', 'The Procter & Gamble Company', 'Birch Lane', 'Massachusetts and New Hampshire', 'Banco Santander', 'MSC Industrial Supply Co', 'Trinity', 'American Campus Communities Inc', 'Georgia Institute', 'Jony Ive', 'Sweden', 'Storm', 'League', 'Nu Skin Enterprises', 'Malone', 'Stanford University', 'Tricon Global Restaurants', 'Minnesota Energy Resources and Upper Michigan Energy Resources', 'CareFusion', 'Wayfair Inc', 'National Retail Properties', 'Square', 'True North Partners', 'Biomet', 'Washington', 'SystemC', \"Celanese's\", 'Integrys Energy Group', 'Iowa', 'Microsoft Windows', 'Reinsurance', 'Simulated Environments Inc', \"Parkinson's\", 'North American Car Corporation', 'State Fair', 'Oncor Electric Delivery Company', 'Databeans', 'Oil and Gas', 'Individual Retirement', 'CFO', 'Collectively', 'Music', \"Rubio's Coastal Grill\", 'Purcell', 'Frankfurt Stock Exchange', 'Tyco International', 'American Tower Corporation', 'Started', 'Somerset', 'American Financial Group', 'MiWi', 'Cigna Medical Group', 'Glenview', 'Overwatch', 'Commerce Bancshares', 'Verisign Identity Protection', 'The Ball', 'Golden Valley', 'The JBI', 'Automatic Data Processing', 'ROK', 'Indexed', 'Avnet', 'PaperMate', 'Canada and Mexico', 'Powerpack', \"McDonald's\", 'Sunbeam', 'Jarden Corporation', 'Schwab', 'Natrelle', \"Lowe's\", 'Upon', 'Bellagio', 'Most', 'Interviewing', 'Apple and Google', 'Four Seasons Hotel Macao', 'Ivanka Trump', 'NI', 'Enogex Inc', 'Christopher J', 'Gateway', 'Switzerland', 'Overnite Transportation', 'Interbank', 'The Boeing Company', 'Canada Drilling', 'Inheritation', 'Midwestern and Southern United States', 'Great Depression', 'IFC Films and RLJE Films', 'Steven F', 'ExxonMobil Chemical', 'Enterprise Group', 'Thomas', 'Discover Bank', 'Rio Tinto', 'American Homes', 'This Fortune', 'Live Nation and Ticketmaster', 'A Fortune Global', 'IV', 'McDonnell Douglas', 'Expedia', \"ITT's\", 'Cybersecurity', 'Federal Reserve System', 'Provident New York Bancorp', 'Neocell', 'Avenue', 'HomeGoods', 'Mr', 'The National Bureau', 'Beyond Meat', 'Internet Explorer and Edge', 'Verizon Wireless', 'Teflaro', 'Dell and EMC Corporation', 'Celanese Corporation', 'Nielsen', 'Alcoa Corp', 'Revlimid', 'WorleyParsons', 'As', 'Midtown Manhattan', 'General Parts International', 'EOG Resources', 'DT', 'Protestants', 'Ultimate', 'Tableau', 'McGraw Hill Financial', 'DVD', 'Tracinda Corporation', 'La Boulange', 'Murphy', 'First Republic Trust Company', 'EFPIA', 'John B Hess', 'ITT Corporation', \"Evercore's Investment Management\", 'Marina Bay Sands', 'Burlington', 'Chalmette', 'NextEra Energy', 'Carole Gould', 'Morningstar', 'Netflix Original', 'Visa', 'Advance and Walmart', \"Poynter Institute's International Fact-Checking Network\", 'BKN', 'The Hasbro', 'Colorado River', 'Gert Boyle', 'Afterwards', 'Club Social', 'Most Dollar Tree', 'Panasonic Idemitsu OLED', 'Jakafi', 'Baroid', 'Memphis', 'Franklin', 'Cascade Natural Gas Company', 'Business Insurance', 'Million', 'Kentucky Power', 'National Futures Association', 'Chicago', 'World War II', 'Chevron', 'LiftFan Propulsion System', 'Cloud', 'NOR', 'The Most Sustainable Company', 'Invesco', 'O-G-and-E', 'Steagall Act', 'Currency', 'Paris', 'Harold Hamm', 'Western Auto', 'Framingham', 'Harold', 'Legal Information Institute', 'Chairman Thomas Peterffy', 'Regional Bell Operating Company', 'Tesaro', 'Buckeye Partners', 'Charles H', 'CME Group Inc', 'A Bloomberg', 'Masters', 'AmSurg', 'GEICO', 'J & L', 'Schlumberger N', 'Charles R', 'Ameren Missouri', 'RELPs', 'Robert', 'Specialties', 'At December', 'Chief Executive Darren Jackson', 'Ameriprise Financial', 'Euronet Worldwide', 'Sudhakar Reddy Bonthu', 'OGE Energy', 'First American Financial Corporation', 'Orlando', 'Warren', 'George Damaris', 'FedEx Corporation', 'Dover', 'Skechers USA', 'White', 'Harvey Hubbell', \"Autodesk's Media and Entertainment\", 'RBS WorldPay', 'Roundup', 'Lighter', 'Platform Specialty Products Corporation', 'Continental Can', 'Air Jordan', 'Hess Corporation', 'Keurig Green Mountain', 'Ynon Kreiz', 'ICs', 'And', 'Victor', 'Endoscope Reprocessing and Therapeutic Filtration', 'Delaware Basin', 'CEO Keith Krach', 'IP', 'Wayne', 'FAA', 'Richard McKenney', 'Cognex', 'Bakken', 'APIs', 'Fortis', 'Newport News and Ingalls', 'International Drilling', 'Very Strong', 'Encompass Health Corporation', 'Alnylam Pharmaceuticals Inc', 'EH', 'CIP', 'Commonwealth', 'World', 'Citi', 'Embassy Suites Hotels', 'Hubert Joly', 'Doorn', 'Apple Computer', 'Abbey National', 'Titanfall', 'MDU Construction Services Group', 'American Water Works & Guarantee Company', 'HMSHost', 'Henry Schein', 'US FDA', 'Dollar General', 'RVs', 'American and European', 'Hong Kong', 'Fluid & Metering Technologies', 'UAE', 'New York and New England', 'Weber', 'EchoStar Corporation', 'Twilio', 'Taylor', 'Frank Blake', 'Berwyn', 'Endicott', 'National Fuel Gas Company', 'Seiyu Group', 'At', 'Universal Health Services', 'Louise Moorhouse', 'Gartner', 'Vermont', 'Visteon Corporation', 'Fluor Construction Company', 'Equifax', 'Apple Card', 'Bill Bowerman and Phil Knight', 'East Tennessee', 'Health & Science Technologies', 'American S', 'Amadeo Pietro Giannini', 'DAS', 'Synvasive Technology', 'Catalent', 'Street and Madison Avenue', 'Board & Chief Executive Officer', 'Dupli-Color', 'Northeastern United States', 'PC', 'Midland', 'Kerkorian', 'Cimarex Energy Co', 'Lululemon Athletica', 'Governor', 'Sarepta Therapeutics', 'ADC', 'The Fortune', 'Jabber and Jasper', 'York International', 'Noble Affiliates', 'First Horizon', 'Baojun', 'Marshalls', 'Bell', 'SM Energy Company', 'Regal Beloit Corporation', 'AEP', 'Ball Brothers Company', 'DuPont Performance Coatings', \"Textron's\", 'Apartment Investment and Management Company', 'DOJ', 'PMI', 'Charles River Laboratories', 'Twister', 'Fiduciary', 'Beachwood', 'Kroger', 'The Travelers Companies', 'Neurocrine', 'Bio-Rad Laboratories', 'Art Deco', 'Darden', 'RiverSource Life Insurance Company', 'Corelle Brands', 'Purchase', 'Long Island City', 'Delta Air Lines', 'Joint Development Area', 'Alexander Graham Bell', 'Ultipro Software', 'On November', 'WTFC', 'Las Vegas Sands Corporation', 'Warcraft', 'Louisiana Tech', 'FDA', 'Perrigo Company', 'Pasadena', 'Additionally', 'XOOM Energy', 'ViacomCBS', 'Shield Android TV', 'Global Center', 'Later', 'PANW', 'Mexico and Europe', 'Business Magazine', 'British Charter International PLC', 'Hype Cycles and Magic Quadrants', 'Zinsser', 'Hilton Grand Vacations', 'Tampa Bay', 'David Offensend', 'Formula', 'Morgan Stanley', 'Glassdoor Best', 'The Hanover Insurance Group', 'EXR', 'Edison International', 'Mokulele', 'FX', 'Richard Hayne', 'Schlumberger', 'UPC', 'Illinois', 'Brooklyn Heights', 'Chateau Ste', 'Legg Mason & Co', 'Krazy Glue', 'May', 'Infrastructure & Advanced Facilities', 'Barely There', 'Travelers Group', 'Banco Popular', 'Computing-Tabulating-Recording Company', 'Eagle Materials Inc', 'Garden', 'Greensboro', 'Stryker', 'GARMIN', 'Lenten', 'Arizona', 'Duluth', 'Best', 'SFDC', 'Engineering', 'Alcoa Corporation', 'Hanesbrands Inc', 'Rob Theis', 'Verizon Communications Inc', 'Pegasystems Inc', 'Walt Disney and Ub Iwerks', 'Semiconductor Test and Systems Test Group', 'Adena Friedman', 'Department', 'New Britain', 'AOL', 'Turing Awards', 'Cincinnati Financial Corporation', 'Kummeth', 'Jacobs Engineering', 'Link', 'Research and Diagnostic Systems Inc', 'Moscow', 'United States and Vancouver', 'Thompson', 'Beefy-T', 'STACK Formation', 'Dividend Achievers', 'Herberts Gmbh', 'Retail Pharmacy International', 'Toblerone', 'Hilton Hotels Corporation', 'T Global Information Solutions', 'OneChicago', 'Raleigh', 'Until May', \"RPM's\", 'Mac Tools and Cornwell Tools', 'Utah and Orlando', 'Levant', 'SITE Centers Corp', 'Reynolds', 'Beauty', 'Chiclets', 'Quebec', 'Jack Green and Joseph M', 'Columbia and Canada', 'Vertex Pharmaceuticals', 'Stride', 'Gardner Denver', 'Wellington Management Group', 'BellSouth', 'Utah Corporation', 'ES', \"Green & Black's\", 'Omnicom Group', 'European Stock Exchanges', 'Greenville Steel Car Company', 'Gilead Sciences', 'William Carter', 'Diet Coke', 'Vectren Corporation', 'Philadelphia Eagles', 'Amgen', 'HMO', 'Tyler Technologies Inc', 'BNSF', 'NBA', 'Chipotle Mexican Grill', 'The Wall Street Journal', 'Sunnyvale', 'Terrorism', 'Deere', \"Johnson Control's\", 'Chicago Title', 'Leawood', 'Penn Central', 'Carlyle Group', 'Worthington Industries', 'Amsterdam', \"WEC Energy Group's\", 'HEI', 'WarnerMedia', 'South Korea', 'Fidelity National Title', 'DeSerres', 'Terms', 'Signature Bank', 'ExtraOrtho', 'Progressive', 'Yoplait', 'Tapijtfabriek H', 'Fire', \"Signature Bank's\", 'Shurgard', 'Harvard Business School', 'Ball Park', 'Trump Organization', 'Berkshire', 'Oracle', 'New York Community Bancorp', 'The Coca-Cola Company', 'Provident Bank', 'Treasury Steven Mnuchin', 'GlobalFoundries', 'Hilton Worldwide', 'DocuSign Agreement Cloud', 'Robert Mondavi', 'DigiCert', 'Chemical Intermediates and Solvents', 'Ameren Illinois', 'QIA', 'Currently American Tower', 'Aflac', 'The Walt Disney Studios', 'Sears', 'Nucor Corporation', 'Amphenol Corporation', 'Sempra Energy', 'Exxon', 'FedEx', 'Lucent Technologies', 'HIV', 'Stamford', 'Ozarks', 'Developers Diversified Realty', 'Arista Networks', 'North Dakota', 'Greenwich', 'John C', 'Up', 'Dolophine', 'Unum UK', 'Redmond', 'FB', 'Minwax', 'Southeastern United States', 'Valmont Industries', 'Panama City', 'Nutanix', 'Midwest and Southeast', 'Taunton', 'Coach New York', 'Tysons Corner', 'Kalamazoo and Battle Creek', 'Verizon', 'VMware ESXi', 'The Charles Schwab Corporation', 'Boise', 'National Geographic', 'ManpowerGroup', 'House', 'Both', 'Braine', 'Ingersoll-Sergeant Drill Company and Rand Drill Company', 'Meridian Health Plan', 'SFAS', 'DW Norris', 'PwC Consulting', 'JP Morgan Chase', 'JD Polk', 'SDG', 'Nvidia Corporation', 'Enbrel', 'Delta Connection', 'Westlake', 'Principal', 'Formed', 'Revenue', 'Brookfield Properties Retail Group', 'Peterffy', 'Since Satya Nadella', 'Intel', 'Discount Auto Parts', 'Rentalcars', 'Lancaster', 'Linde', 'Michael Roth', 'Rowe Price Group', 'Sequoia Software Corp', 'Primatics Financial', 'Mastercard International Global Headquarters', 'FedEx Express', 'Bell Telephone Company', 'ClickPay', 'In March', 'AXIS Capital Holdings Limited', 'Brita', 'Butterball', 'HNA Group', 'Mastercard Incorporated', 'Dollar Tree and Dollar Bills', 'New York Central', 'Agios Pharmaceuticals Inc', 'Student Loan Marketing Association', 'When', 'Andacolo', 'Legal', 'Morgan', 'Safari', \"Teradyne's\", 'Lincoln National Corporation', 'United Dominion Realty', 'Scott Belair', 'Final Cut Pro', 'Independent Public Offering', 'Avangrid', 'Frosted Flakes', 'Utica Shale', 'Zendesk', 'TK Maxx', 'MSC', 'Affordable Care Act', 'Beloit', 'At March', 'Robert J', 'Lake Forest', 'Aramark', \"AEP's\", 'Cabot Oil & Gas Corporation', 'Friends', 'Paris and London', 'Formerly Cadbury Schweppes Americas Beverages', 'Smith Corporation', 'Lam Research', 'Dow Jones Industrial Average', 'Meiomi', 'Tulsa', 'Long & Foster', 'DDR Corp', 'Allegheny Steel Distributors', 'BlackRock', 'Republic Services', 'Clayton', 'Crucial and Ballistix', 'On January', 'Justice Department', 'Fox', 'Traded', 'Arch Capital', 'Taubman Centers', 'The Kroger Co', 'Yarde Metals', 'Few', 'American', 'Perimeter Center', 'T Bank', 'British', 'Santa Fe Railway', 'NYSE MKT', 'Kids Foot Locker', 'Dustin Moskovitz and Chris Hughes', 'AA', 'URL', 'Milestone Group', 'AmerisourceBergen', 'The Armstrong World Industries', 'In-Sight', 'Applied Materials', 'B', 'Nike Skateboarding', 'Pacific Sales', 'Boca Raton', 'Washington County', 'Marriott International', 'SaaS', 'CME Globex', 'Large Companies', 'Quest Diagnostics', 'Texas Stadium', 'Coca-Cola Vanilla', 'Lihue', 'Islamic State', 'MullenLowe Group', 'Euco', 'Northbrook', 'Ernest Health', 'Energy and Environmental Design', 'Stadium New Era Field', 'Labor', 'Chongqing', 'North American', 'Philadelphia', 'Thomas J', 'Norfolk', 'Xilinx', 'Americans', 'Gas Apparatus', 'CSN Stores', 'Euromoney Institutional Investor', \"Uncle Bob's Self Storage\", 'Financial Crisis Inquiry Commission', 'Johnson Controls', 'Interim Chief Executive Officer', 'Reliance Metalcenter', 'First Capital Corp', 'CACI', 'Hybridon', \"Oracle's\", 'RBS', \"Lambert's Point\", 'Energy Services Group', \"HCP's Chief Financial Officer\", 'American Machine and Metals', 'Accountemps', 'Booz Allen Hamilton Holding Corporation', 'NextEra Energy Services', 'Nasdaq', 'Transportation Security Administration', 'Corn Products International', 'NetJets', 'Further Colfax', 'Reinsurance Group', 'NS', 'BankAmericard', 'Sherwin-Williams Paints', 'NY', 'North Korea', 'Gendex Corporation', 'Yankee Candle', 'Its U', 'West Texas', 'Atmos Energy', 'Arena', 'SVB Financial Group', 'Ingersoll Rand Plc', 'Macquarie Group Limited', 'Ipsen', 'Marathon Oil Corporation', 'Monongahela Valley', 'Nordson Corporation', 'Vantiv', 'Vortex', 'The Cincinnati Insurance Company', 'Their SAPIEN', 'Brands', 'Fidelity National Financial', 'Irving Langmuir', 'Markel Corporation', 'The Economist', 'Catalent Pharma Solutions', 'Verisk Analytics', 'Sealed Air Corporation', 'New Hampshire', 'Peterbilt', 'Trafford Park', 'SoftBank Group Corp', 'Stockholm Stock Exchange', \"Nelson's Green Brier Tennessee Whiskey\", 'Replacing', 'America Corporation', 'C', 'Cisco Systems', 'Nuclear', 'Staywell Health Plan', 'Forbes Digital', 'Hoofddorp', 'Mokulele Airlines', 'At US', 'New York Central Railroad', 'Regal', 'EMJ', 'Beaumont', 'Kauai', 'Android', 'Kraft Foods Inc', 'Diablo', 'Redomiciled', 'Zuckerman and Edward H', 'North America and Asia', 'Brookfield', 'CEO Daniel Springer', 'United and Continental Airlines', 'Ray Kroc', 'EPR Properties', \"Hawai'is\", 'PCR', 'Allison Transmission', 'Boston Options Exchange', 'United Airlines and Delta Air Lines', 'QTI', 'Valentin P', 'Enidine', 'Baker Hughes Incorporated', 'Suntory', 'Alberta', 'Carl Liebert III', 'UTC', 'Sysco Corporation', 'Keith Oden', 'Cypress Semiconductors', 'Michel Combes', 'Rheem', 'Namenda', 'Philip Morris USA', 'IDEX Corporation', 'Western Pest Services', 'BHF', 'Deloitte', 'Chile', 'Enterprise Solutions', 'DataMan', 'Of', 'Woonsocket', 'Fort Mill', 'Chesapeake', 'Matt', 'California Analysis Center', 'NBA Live', 'Greater Atlanta', 'AmeriSpec and Furniture Medic', 'Processor', 'Dupey', 'Takeda', 'Hubbell', 'Permian Basin and Eagle Ford', 'Together', 'Envision', 'FDIC', 'Niketown', 'Take-Two Interactive and Ubisoft', 'Minneapolis', 'Gatorade', 'MGM National Harbor', 'Kosmos', 'TJX', 'NHL', 'Live Nation Entertainment', 'Valvoline Instant Oil Change and Valvoline Express Care', 'Androderm', 'Secretary', 'Ending', 'Jabil Inc', 'Beacon', 'GSK', 'Southeast Asia', 'SIGFOX and Ethernet', 'Cigna Global Health Benefits', 'Sempra LNG', 'Madison Square Garden Center', 'Bristol-Myers Squibb', 'Ansys Inc', 'Rosarito', 'Gorilla Glass', 'Consolidated', 'On-Site', 'SuperTarget', 'LongHorn Steakhouse', 'Intermountain Gas Company', \"Trump's Florida\", 'Pharmaceutical Research and Manufacturers', 'Hertfordshire', 'ANICO', 'NortonLifeLock Inc', 'Macquarie Infrastructure Management', 'VIEs', 'North Bethesda', 'Transcontinental Capital Corporation', 'PVC', 'Law', 'Workday', 'Verizon Media', 'Michigan Gas Utilities', 'Advance Stores', 'Wike', 'Family Game Night', 'Taparko', 'Holmes', 'District', 'Maui', 'P Telephone', 'Maine', 'Serial SRAM', 'Webster Bank', 'Industries', 'Prismacolor', 'Interstate Power and Light Company', 'Houdaille Industries', 'Koch Industries', 'DXC Technology', 'New Jersey and Houston', 'Monster High', 'SQ', 'Prosperity Bancshares', \"Broadcom's Wireless Internet\", \"The Company's\", 'Cypress Semiconductor Corporation', 'Elliott Management Corporation', 'Wuling', 'Often', 'Western Digital and WD', 'Atmos Energy Corporation', 'Monterrey', 'Overcast', 'Samsung Electronics', 'Bender', 'Washington D', 'Battlefield', \"Sam's Club\", 'SmartAuction', 'Red Dead', 'Sefi Ghasemi', 'QuickBooks', 'Apple Watch', 'Rival', 'Pinnacle Financial Partners', 'Bagnell Dam', 'Sketchbook', 'Everest Re Group', 'Deisel-Wemmer Co', 'WEC Energy Group Inc', 'C Pro', 'Small Business Administration', 'Morningstar Direct', 'The Allstate Corporation', 'Service', 'Dover Corporation', 'GPS', 'Walmart Brasil', 'ZBH', 'Its French', 'Federal Reserve', 'Apple', \"Woolworth's\", 'MPS I', 'Kuvan', 'Air Lease', 'AWS', 'Evangelical Lutheran', 'AOL and Yahoo', 'CEO and Fees', 'Antibody', 'Tallinn Stock Exchange', 'Brokerage', 'Avenue Food & Provisions', 'IGT', 'Jarden', 'President and Chief Investment Officer', 'United Continental Holdings', 'Babcock & Wilcox Enterprises Inc', 'AEP Ohio', 'ProConnect Tax Online', 'Gapontsev', 'Queens', 'Waterworks', 'Chairman John C', 'LogMeIn', 'Model X', 'Davidson', 'Comerica', 'National Instruments Corporation', 'Alameda', 'Production Enhancement', 'Anglicans', \"The Wendy's Company\", 'Motorola', 'Power Rangers', \"Comerica Bank New Year's Parade\", 'Current', 'FIS', 'Dell EMC', \"Macy's Herald Square\", 'The Lego Group', 'Cryovac', 'Cullen', 'American DuPont', 'Dept', 'Georgia', 'Berry Plastics', 'IoT', 'Today', 'NASDAQ Biotechnology', 'Eagle Ford Group', 'CTAS', 'OpenTable', 'Evergy', \"Continental's\", 'Estrace', 'Henry Singleton and George Kozmetsky', 'NVIDIA', 'Chabot', 'Halliburton Company', 'Its President and Chief Executive Officer', 'Playtex', 'SGN', 'Calamba and Cabuyao', 'VHT', 'Guam', 'Cohen', 'Robert Half Legal', 'QGEN', \"Lockheed Martin's\", 'Ball', 'Lyondell', 'Tokyo', 'The Urban Outfitters', 'Kenneth Woolley', 'The Hartford Financial Services Group', 'Nahuatl', 'Laukien Prize', 'Bright House Networks', 'China and Veldhoven', 'New Haven Railroad', 'Cannon', 'Chief Executive Officer and President', 'Jayco', 'Charles', 'National Genetics Institute', 'Chaps', 'One World Trade Center', \"Accenture's\", 'Cronos Group', 'Hurricane Sandy', 'Kraft Foods', 'Walton', 'Wexford', 'Wells Fargo Bank', 'The American Express Company', 'Marathon Petroleum Corporation', 'CAD', 'ScanSoft', 'Los Angeles', 'Chesapeake Energy Corporation', 'VC', 'BIAF', 'KONI', 'David K', 'Excellence', 'Ryder', \"Fisher's\", 'Parker Pens', \"Moody's Investors Service\", 'Merritt J', 'GA', 'Flowers Foods', 'Cerner Corporation', 'L', 'Carport Auto Parts', 'Newport Beach', 'Armed Forces', 'Asia and Latin America', 'The Exploration and Production', 'White Mountains Insurance Group', 'Arista', 'Bay Area', 'Dubilier & Rice', 'Syria', 'Richmond', 'Des Moines', 'Altria Group', 'Thomas Oland', 'AMETEK', 'Club Monaco', 'China UnionPay', 'Belgium', 'FarmVille', 'Bois', 'Hexcel Corporation', 'ASV', 'Jonas Salk', 'Embraer and ATR', 'The HollyFrontier Corporation', 'Edward Breen', \"Starboard's\", 'ERTs', 'Helzberg Diamonds', 'Colombian', 'XPO Logistics', 'Canton', 'LED', 'CoreSite Realty Corporation', 'Vail Resorts Development Company', 'Zoho', 'AXIS', 'Reinsurance-Global', 'Darice', 'MSG', \"Morningstar's\", 'Economic Research', 'Whitehead', 'Evercore Inc', 'NeXT', 'BiosPacific', 'State Street Corporation', 'Mimpara', 'Donald M', 'SDN', 'P MidCap', 'Varathane and Testors', 'Fort Wayne', 'Microsoft Azure', 'Monclova', 'Hinge and Match', 'A', 'Pershing Square Capital Management', 'Cadbury Schweppes', 'NVHomes and Heartland Homes', 'Research Triangle Park', 'Lenexa', 'Warsaw', 'Travelers', 'National Semiconductor', 'Hilden', 'Briggs & Stratton', 'DaVita', 'Jacobs', 'Michael Kors Holdings Limited', 'Speedway', \"Pennsylvania's Cambria and Indiana\", 'Day-Glo and Dryvit', 'Saunders', 'Boeing Commercial Airplanes', 'Goodfellow Dry Goods', 'Yum', 'Virginia and Mississippi', 'Columbia Management and Threadneedle Asset Management', 'The Limited', 'Companies', 'Lamb Weston Holdings', 'Iraq War', 'Genzyme Corporation', 'Kennametal', 'LPD', 'Baxter International Inc', 'DowDuPont', 'Lighter Aboard Ship', 'Quicken', 'Telus Mobility', 'ServiceMaster Global Holdings', 'Colony', 'NFG', 'Appleton', 'American Family Life Assurance Company', 'Washington Metro', 'Eagle', 'Arizona Public Service and Bright Canyon Energy', 'AutoZone', 'Kingsford', 'USG', 'West Virginia', 'EA Tiburon', 'Colorado', 'United Kingdom', 'GTE', 'Grace and Company', 'James O', 'DDoS', 'Matco', 'A US', 'Dominion Energy', 'Steel Dynamics', 'Confluence', 'United States Gypsum Corporation', 'Torrance', 'Ravenswood Winery', 'The Pink Panther', 'Donald Fisher and Doris F', 'Also', 'Alcoa Inc', 'Austin and San Antonio', 'Royal Warrant', 'American Radio Systems', 'Awards', 'HoloLens', 'HVAC', 'Texas and Louisiana', 'Allen', 'Armor All', 'Johnson Controls International', \"Caesars's\", 'Abbott Park', 'Differential Steel Car Company', 'Devon Energy Corporation', 'Paulsboro', 'Mount Milligan', 'Honor', 'The Facebook', 'Todd Oldham', 'Nike Pro', 'Element Solutions Inc', 'Liberty Global', 'From February', 'SYSTIMAX and Uniprise', 'Costa Rica and Panama', 'Ameren', 'American Airlines', 'New York Knicks', 'HPE', 'Bell Helicopter', 'Livonia', 'HLS', 'JetBlue Airways Corporation', 'Arrow Electronics', 'The Huntington National Bank', 'Dubilier', 'Bangalore', 'SBC Communications', 'Bruker Daltonics and Bruker Optics', 'Conduent', 'National Bank', \"TransUnion's\", 'Net', 'Hilton Hotels & Resorts', 'East Coast', 'Executive Vice President & CFO', 'Consumer & International', 'Lincoln Electric', 'Freia', 'Dairy Queen', 'Detroit', 'Nielsen Holdings Plc', 'Wildlight', 'Doss', 'Varden Technologies', 'UltiPro', 'Southwestern United States', 'Martin Marietta', 'Empire State Building', 'European Federation', 'Israel and China', 'City', 'Apple and Microsoft', 'Celebra', 'Hanrahan and Stolte', 'Rogers Wireless', 'Hearthstone', 'US Federal Reserve Bank', 'Xcel Energy', 'Bean Spray Pump', 'Donald Slager', 'Verisign', 'Chesapeake Bay', 'Gemaire Distributors Inc', 'CEO Jeremy Male', 'Steve Wozniak', 'Columbus', 'MarketAxess'}\n"
     ]
    }
   ],
   "source": [
    "# find a way to capture, 'FedEx', 'Coca-Cola', 'Sequoia Software Corp', 'Dun & Bradstreet' and 'Moody\\'s'\n",
    "company_ptn = r'\\b(?:(?:[A-Z][a-z\\']*)+|[A-Z]+)(?:(?:[ -](?:&|and)?[ -]?(?:(?:[A-Z][a-z\\']*)+|[A-Z]+))*)(?: (?:Corporation|Corp|Group|Inc|LLC|Ltd|Software|Systems))?\\b'\n",
    "\n",
    "# code here!\n",
    "maybe_companies_set = set()\n",
    "for text in wiki_df['intro_text']:\n",
    "    maybe_companies_set.update(re.findall(company_ptn, text))\n",
    "\n",
    "print(len(maybe_companies_set), 'terms found that are potential companies')\n",
    "print(maybe_companies_set)"
   ]
  },
  {
   "cell_type": "code",
   "execution_count": 41,
   "metadata": {},
   "outputs": [],
   "source": [
    "# verify that we found some of the key terms\n",
    "assert('FedEx' in maybe_companies_set)\n",
    "assert('Coca-Cola' in maybe_companies_set)\n",
    "assert('Sequoia Software Corp' in maybe_companies_set)\n",
    "assert('Dun & Bradstreet' in maybe_companies_set)\n",
    "assert('Moody\\'s' in maybe_companies_set)"
   ]
  },
  {
   "cell_type": "code",
   "execution_count": 42,
   "metadata": {},
   "outputs": [],
   "source": [
    "# acquisition pattern\n",
    "acquisition_ptn = r'(?:acquired|was acquired by)'\n",
    "\n",
    "# find a way to optionally capture the year such as ' in 1962'\n",
    "optional_year_ptn = r'(?: in [12][0-9]{3}\\b)?'"
   ]
  },
  {
   "cell_type": "code",
   "execution_count": 43,
   "metadata": {},
   "outputs": [],
   "source": [
    "# let's assemble the patterns together to a full capture pattern\n",
    "full_acquisition_pattern = (\n",
    "    company_ptn + r'\\s+' + acquisition_ptn + r'\\s+' + company_ptn + optional_year_ptn\n",
    ")"
   ]
  },
  {
   "cell_type": "code",
   "execution_count": 44,
   "metadata": {},
   "outputs": [
    {
     "name": "stdout",
     "output_type": "stream",
     "text": [
      "22 potential acquisitions found.\n"
     ]
    }
   ],
   "source": [
    "acquisition_strings = []\n",
    "for _, row in wiki_df.iterrows():\n",
    "    acquisition_strings.extend(re.findall(full_acquisition_pattern, row['intro_text']))\n",
    "print(len(acquisition_strings), 'potential acquisitions found.')"
   ]
  },
  {
   "cell_type": "code",
   "execution_count": 45,
   "metadata": {},
   "outputs": [],
   "source": [
    "# verify that we found some of the key terms\n",
    "assert('Citrix acquired Sequoia Software Corp' in acquisition_strings)\n",
    "assert('Moody\\'s was acquired by Dun & Bradstreet in 1962' in acquisition_strings)"
   ]
  },
  {
   "cell_type": "code",
   "execution_count": 46,
   "metadata": {},
   "outputs": [
    {
     "name": "stdout",
     "output_type": "stream",
     "text": [
      "['Citrix acquired Sequoia Software Corp', 'Citrix acquired Framehawk', 'Aflac acquired Continental American Insurance Company', 'Giannini acquired Banca', 'It was acquired by Avago Technologies in 2016', \"Moody's was acquired by Dun & Bradstreet in 1962\", 'Brookfield acquired Rouse Properties in 2016', 'Medtronic acquired Irish', 'ACE Limited acquired Chubb in 2016', 'Lottomatica acquired Gtech Corporation', 'CIT Group acquired OneWest Bank', 'Advance Auto Parts acquired Carport Auto Parts', 'Advance acquired Discount Auto Parts', 'Advance Auto Parts acquired BWP Distributors', 'Thermo Fisher acquired Life Technologies Corporation', 'Bell Atlantic acquired GTE', 'It was acquired by FIS', 'Keurig Green Mountain acquired Dr Pepper Snapple Group', 'Gendex Corporation acquired Dentsply International Inc', 'Sovran Self Storage acquired LifeStorage LP', \"Novartis acquired Incyte's\", 'Colfax acquired British Charter International PLC']\n"
     ]
    }
   ],
   "source": [
    "print(acquisition_strings)"
   ]
  },
  {
   "cell_type": "markdown",
   "metadata": {},
   "source": [
    "### -) Question: Are there any false positives in your results? If so, how could you account for them?"
   ]
  },
  {
   "cell_type": "markdown",
   "metadata": {},
   "source": [
    "**ANSWER**\n",
    "\n",
    "The following are false positives:\n",
    "- It was acquired by Avago Technologies in 2016\n",
    "- It was acquired by FIS\n",
    "  \n",
    "It is not a company name. We could account for these false positives by limiting the company names to be at least 3 characters long."
   ]
  },
  {
   "cell_type": "markdown",
   "metadata": {},
   "source": [
    "### -) Let's look into speed of regex matching"
   ]
  },
  {
   "cell_type": "code",
   "execution_count": 47,
   "metadata": {},
   "outputs": [],
   "source": [
    "# write a simple pattern of your choice to search for in our dataset\n",
    "search_ptn = r'iPhone'"
   ]
  },
  {
   "cell_type": "code",
   "execution_count": 48,
   "metadata": {},
   "outputs": [],
   "source": [
    "# assemble a list of strings\n",
    "doc_list = wiki_df['intro_text'].tolist()"
   ]
  },
  {
   "cell_type": "code",
   "execution_count": 50,
   "metadata": {},
   "outputs": [
    {
     "name": "stdout",
     "output_type": "stream",
     "text": [
      "570 µs ± 12.9 µs per loop (mean ± std. dev. of 7 runs, 1,000 loops each)\n"
     ]
    }
   ],
   "source": [
    "%%timeit\n",
    "# evaluation loop here\n",
    "for doc in doc_list:\n",
    "    re.search(search_ptn, doc)"
   ]
  },
  {
   "cell_type": "markdown",
   "metadata": {},
   "source": [
    "### Let's compile the regex and see if this increases the speed using `re.compile`"
   ]
  },
  {
   "cell_type": "code",
   "execution_count": 51,
   "metadata": {},
   "outputs": [
    {
     "name": "stdout",
     "output_type": "stream",
     "text": [
      "399 µs ± 4.26 µs per loop (mean ± std. dev. of 7 runs, 1,000 loops each)\n"
     ]
    }
   ],
   "source": [
    "%%timeit\n",
    "# evaluation loop here\n",
    "compiled_search_ptn = re.compile(search_ptn)\n",
    "for doc in doc_list:\n",
    "    compiled_search_ptn.search(doc)"
   ]
  },
  {
   "cell_type": "markdown",
   "metadata": {},
   "source": [
    "### A note on speed: basic string operations are always faster than regex\n",
    "#### show this using `'my_string' in 'other_string'`"
   ]
  },
  {
   "cell_type": "code",
   "execution_count": 54,
   "metadata": {},
   "outputs": [
    {
     "name": "stdout",
     "output_type": "stream",
     "text": [
      "266 µs ± 2.82 µs per loop (mean ± std. dev. of 7 runs, 1,000 loops each)\n"
     ]
    }
   ],
   "source": [
    "%%timeit\n",
    "# code here!\n",
    "for doc in doc_list:\n",
    "    if 'iPhone' in doc:\n",
    "        pass"
   ]
  },
  {
   "cell_type": "markdown",
   "metadata": {},
   "source": [
    "# Problem 2: Word phrases"
   ]
  },
  {
   "cell_type": "markdown",
   "metadata": {},
   "source": [
    "In this problem we will look at methods to identify valid n-grams such as 'New York' or 'Barack Obama' while eliminating statistical flukes such as `in the` or `i write`.\n",
    "\n",
    "Preprocessing such as this can drastically improved embeddings since words can ngrams will often have a different meaning than the sum of its parts\n",
    " `V('united')` + `V('states')` != `V('united states')`\n",
    " `V('real')` + `V('estate')` != `V('real estate')`"
   ]
  },
  {
   "cell_type": "code",
   "execution_count": 155,
   "metadata": {},
   "outputs": [
    {
     "name": "stdout",
     "output_type": "stream",
     "text": [
      "%pylab is deprecated, use %matplotlib inline and import the required libraries.\n",
      "Populating the interactive namespace from numpy and matplotlib\n"
     ]
    },
    {
     "name": "stderr",
     "output_type": "stream",
     "text": [
      "/Users/bluebird/develop/15.S08_applied_nlp/venv_nlp/lib/python3.10/site-packages/IPython/core/magics/pylab.py:166: UserWarning: pylab import has clobbered these variables: ['f']\n",
      "`%matplotlib` prevents importing * from pylab and numpy\n",
      "  warn(\"pylab import has clobbered these variables: %s\"  % clobbered +\n"
     ]
    }
   ],
   "source": [
    "%pylab inline"
   ]
  },
  {
   "cell_type": "code",
   "execution_count": 156,
   "metadata": {},
   "outputs": [],
   "source": [
    "import os\n",
    "import json\n",
    "import re\n",
    "\n",
    "import numpy as np\n",
    "import pandas as pd"
   ]
  },
  {
   "cell_type": "code",
   "execution_count": 157,
   "metadata": {},
   "outputs": [],
   "source": [
    "wiki_df = pd.read_csv('data/kdwd_r1k_articles.csv')"
   ]
  },
  {
   "cell_type": "markdown",
   "metadata": {},
   "source": [
    "### get consecutive unigrams for the 'intro_text' column of our dataset"
   ]
  },
  {
   "cell_type": "code",
   "execution_count": 178,
   "metadata": {},
   "outputs": [
    {
     "name": "stdout",
     "output_type": "stream",
     "text": [
      "['apple', 'inc', 'is', 'an', 'american', 'multinational', 'technology', 'company', 'headquartered', 'in']\n"
     ]
    }
   ],
   "source": [
    "# list of lists of unigrams\n",
    "unigram_pattern = r'\\b\\w+\\b'\n",
    "corpus = [re.findall(unigram_pattern, doc.lower()) for doc in wiki_df['intro_text'].tolist()]\n",
    "print(corpus[0][0:10])"
   ]
  },
  {
   "cell_type": "markdown",
   "metadata": {},
   "source": [
    "### The package `gensim` has a convenient wrapper to obtain statistically significant ngrams/Phrase automatically\n",
    "\n",
    "### we need to first `pip install gensim`\n",
    "### `gensim` is a useful library for anything related to word representations and embeddings. It will come up a few more times. https://radimrehurek.com/gensim/index.html"
   ]
  },
  {
   "cell_type": "code",
   "execution_count": 159,
   "metadata": {},
   "outputs": [],
   "source": [
    "from gensim.models.phrases import Phrases, Phraser, ENGLISH_CONNECTOR_WORDS"
   ]
  },
  {
   "cell_type": "markdown",
   "metadata": {},
   "source": [
    "### Write some code to parse our corpus and use valid ngrams using `Phrases`"
   ]
  },
  {
   "cell_type": "code",
   "execution_count": 160,
   "metadata": {},
   "outputs": [],
   "source": [
    "phrases = Phrases(corpus, min_count=5, threshold=10)"
   ]
  },
  {
   "cell_type": "code",
   "execution_count": 161,
   "metadata": {},
   "outputs": [],
   "source": [
    "# vocab_count_dict = {k: v for k, v in phrases.vocab.items()}\n",
    "# n_grams = ...\n",
    "# https://www.educative.io/answers/what-is-gensimmodelsphrasesphrases-function\n",
    "\n",
    "phraser = Phraser(phrases)\n",
    "n_grams = []\n",
    "for doc in corpus:\n",
    "    transformed_doc = phraser[doc]\n",
    "    phrase_list = [phrase.replace('_', ' ') for phrase in transformed_doc if '_' in phrase]\n",
    "    n_grams.extend(phrase_list)"
   ]
  },
  {
   "cell_type": "code",
   "execution_count": 180,
   "metadata": {},
   "outputs": [
    {
     "name": "stdout",
     "output_type": "stream",
     "text": [
      "481 n-grams found\n",
      "['  notoc  ', '000 customers', '000 employees', '000 people', '1 3', '1 billion', '1 million', '1 nbsp', '100 000', '100 countries', '13 000', '16 000', '2 billion', '20 countries', '2000 list', '2018 fortune', '2019 fortune', '3 billion', '3 million', '31 2017', '31 2018', '31 2019', '4 million', '40 countries', '5 billion', '5 million', '500 index', '500 list', '500 rankings', '6 billion', '6 million', '7 billion', '7 million', '8 billion', '9 billion', '9 million', 'activision blizzard', 'admired companies', 'advance auto', 'after being', 'agreed to acquire', 'also known', 'also owns', 'also provides', 'american manufacturer', 'american multinational', 'american tower', 'american water', 'among others', 'analytical instruments', 'announced plans', 'announced that', 'annual revenue', 'annual revenues', 'any other', 'apartment units', 'approximately 5', 'april 2016', 'are located', 'are used', 'around the world', 'as a result', 'as of december', 'as of march', 'as part', 'as well', 'asia pacific', 'asset management', 'assets under', 'auto parts', 'bank holding', 'bank of america', 'banking subsidiary', 'banks in the united', 'based in san', 'began trading', 'bell atlantic', 'berkshire hathaway', 'best buy', 'best known', 'billion in annual', 'billion in assets', 'board of directors', 'boston massachusetts', 'brand name', 'brand names', 'brands include', 'brands including', 'bristol myers', 'business segments', 'cambridge massachusetts', 'can be', 'canada europe', 'canada mexico', 'capital management', 'casualty insurance', 'central america', 'chairman and ceo', 'chairman of the board', 'changed its']\n"
     ]
    }
   ],
   "source": [
    "# print(n_grams.shape[0], 'n-grams found')\n",
    "# n_grams.head(10)\n",
    "\n",
    "# Sort the list and make it distinct\n",
    "n_grams = sorted(set(n_grams))\n",
    "\n",
    "# count the number of n-grams\n",
    "print(len(n_grams), 'n-grams found')\n",
    "print(n_grams[0:100])"
   ]
  },
  {
   "cell_type": "markdown",
   "metadata": {},
   "source": [
    "### How do the results look? Can you improve the results by excluding common terms using the `connector_words` kwarg of `Phrases`?"
   ]
  },
  {
   "cell_type": "code",
   "execution_count": 163,
   "metadata": {},
   "outputs": [],
   "source": [
    "phrases = Phrases(corpus, min_count=5, threshold=10, connector_words=ENGLISH_CONNECTOR_WORDS)"
   ]
  },
  {
   "cell_type": "code",
   "execution_count": 187,
   "metadata": {},
   "outputs": [],
   "source": [
    "#for sentence in phrases[corpus]:\n",
    "    #print(sentence)"
   ]
  },
  {
   "cell_type": "code",
   "execution_count": 167,
   "metadata": {},
   "outputs": [],
   "source": [
    "# n_grams = ...\n",
    "\n",
    "phraser = Phraser(phrases)\n",
    "n_grams = []\n",
    "for doc in corpus:\n",
    "    transformed_doc = phraser[doc]\n",
    "    phrase_list = [phrase.replace('_', ' ') for phrase in transformed_doc if '_' in phrase]\n",
    "    n_grams.extend(phrase_list)"
   ]
  },
  {
   "cell_type": "code",
   "execution_count": 188,
   "metadata": {},
   "outputs": [
    {
     "name": "stdout",
     "output_type": "stream",
     "text": [
      "481 n-grams found\n",
      "['  notoc  ', '000 customers', '000 employees', '000 people', '1 3', '1 billion', '1 million', '1 nbsp', '100 000', '100 countries', '13 000', '16 000', '2 billion', '20 countries', '2000 list', '2018 fortune', '2019 fortune', '3 billion', '3 million', '31 2017', '31 2018', '31 2019', '4 million', '40 countries', '5 billion', '5 million', '500 index', '500 list', '500 rankings', '6 billion', '6 million', '7 billion', '7 million', '8 billion', '9 billion', '9 million', 'activision blizzard', 'admired companies', 'advance auto', 'after being', 'agreed to acquire', 'also known', 'also owns', 'also provides', 'american manufacturer', 'american multinational', 'american tower', 'american water', 'among others', 'analytical instruments', 'announced plans', 'announced that', 'annual revenue', 'annual revenues', 'any other', 'apartment units', 'approximately 5', 'april 2016', 'are located', 'are used', 'around the world', 'as a result', 'as of december', 'as of march', 'as part', 'as well', 'asia pacific', 'asset management', 'assets under', 'auto parts', 'bank holding', 'bank of america', 'banking subsidiary', 'banks in the united', 'based in san', 'began trading', 'bell atlantic', 'berkshire hathaway', 'best buy', 'best known', 'billion in annual', 'billion in assets', 'board of directors', 'boston massachusetts', 'brand name', 'brand names', 'brands include', 'brands including', 'bristol myers', 'business segments', 'cambridge massachusetts', 'can be', 'canada europe', 'canada mexico', 'capital management', 'casualty insurance', 'central america', 'chairman and ceo', 'chairman of the board', 'changed its']\n"
     ]
    }
   ],
   "source": [
    "# print(n_grams.shape[0], 'n-grams found')\n",
    "# n_grams.head(10)\n",
    "\n",
    "# Sort the list and make it distinct\n",
    "n_grams = sorted(set(n_grams))\n",
    "\n",
    "# count the number of n-grams\n",
    "print(len(n_grams), 'n-grams found')\n",
    "print(n_grams[0:100])"
   ]
  },
  {
   "cell_type": "markdown",
   "metadata": {},
   "source": [
    "This was convenient, but it's also a black box where many of the knobs for tuning are actually broken in the newest version. Let's try to create our own solution for finding n-grams.\n",
    "\n",
    "To do this, let's start by counting unigrams and bigrams within our corpus\n",
    "\n",
    "Tip: use Counter for easy counting. It behaves similar to a dictionary with some added functionality around counting. such as `my_counter[unknown_key]` returning `0` for all unknown keys"
   ]
  },
  {
   "cell_type": "code",
   "execution_count": 169,
   "metadata": {},
   "outputs": [
    {
     "name": "stdout",
     "output_type": "stream",
     "text": [
      "Top 10 unigrams: [('the', 4873), ('and', 4173), ('in', 3706), ('of', 2422), ('company', 1884), ('is', 1686), ('a', 1336), ('to', 1072), ('s', 958), ('as', 905)]\n",
      "Top 10 bigrams: [(('the', 'company'), 999), (('in', 'the'), 711), (('of', 'the'), 577), (('is', 'a'), 411), (('is', 'an'), 403), (('united', 'states'), 393), (('an', 'american'), 365), (('headquartered', 'in'), 316), (('the', 'united'), 274), (('on', 'the'), 241)]\n"
     ]
    }
   ],
   "source": [
    "from collections import Counter\n",
    "\n",
    "unigram_counter = Counter()\n",
    "bigram_counter = Counter()\n",
    "\n",
    "for tokens in corpus:\n",
    "    # your code here\n",
    "    unigram_counter.update(tokens)\n",
    "    bigram_counter.update(zip(tokens, tokens[1:]))\n",
    "\n",
    "print(\"Top 10 unigrams:\", unigram_counter.most_common(10))\n",
    "print(\"Top 10 bigrams:\", bigram_counter.most_common(10))"
   ]
  },
  {
   "cell_type": "markdown",
   "metadata": {},
   "source": [
    "Now we need to come up with a score for each bigram that helps us decide on its importance and the fact of whether it is truly a bigram or two independent unigrams."
   ]
  },
  {
   "cell_type": "code",
   "execution_count": 170,
   "metadata": {},
   "outputs": [
    {
     "data": {
      "text/html": [
       "<div>\n",
       "<style scoped>\n",
       "    .dataframe tbody tr th:only-of-type {\n",
       "        vertical-align: middle;\n",
       "    }\n",
       "\n",
       "    .dataframe tbody tr th {\n",
       "        vertical-align: top;\n",
       "    }\n",
       "\n",
       "    .dataframe thead th {\n",
       "        text-align: right;\n",
       "    }\n",
       "</style>\n",
       "<table border=\"1\" class=\"dataframe\">\n",
       "  <thead>\n",
       "    <tr style=\"text-align: right;\">\n",
       "      <th></th>\n",
       "      <th>bigram</th>\n",
       "      <th>count</th>\n",
       "    </tr>\n",
       "  </thead>\n",
       "  <tbody>\n",
       "    <tr>\n",
       "      <th>40</th>\n",
       "      <td>(the, company)</td>\n",
       "      <td>999</td>\n",
       "    </tr>\n",
       "    <tr>\n",
       "      <th>710</th>\n",
       "      <td>(in, the)</td>\n",
       "      <td>711</td>\n",
       "    </tr>\n",
       "    <tr>\n",
       "      <th>28</th>\n",
       "      <td>(of, the)</td>\n",
       "      <td>577</td>\n",
       "    </tr>\n",
       "    <tr>\n",
       "      <th>637</th>\n",
       "      <td>(is, a)</td>\n",
       "      <td>411</td>\n",
       "    </tr>\n",
       "    <tr>\n",
       "      <th>2</th>\n",
       "      <td>(is, an)</td>\n",
       "      <td>403</td>\n",
       "    </tr>\n",
       "    <tr>\n",
       "      <th>1231</th>\n",
       "      <td>(united, states)</td>\n",
       "      <td>393</td>\n",
       "    </tr>\n",
       "    <tr>\n",
       "      <th>3</th>\n",
       "      <td>(an, american)</td>\n",
       "      <td>365</td>\n",
       "    </tr>\n",
       "    <tr>\n",
       "      <th>8</th>\n",
       "      <td>(headquartered, in)</td>\n",
       "      <td>316</td>\n",
       "    </tr>\n",
       "    <tr>\n",
       "      <th>2243</th>\n",
       "      <td>(the, united)</td>\n",
       "      <td>274</td>\n",
       "    </tr>\n",
       "    <tr>\n",
       "      <th>1292</th>\n",
       "      <td>(on, the)</td>\n",
       "      <td>241</td>\n",
       "    </tr>\n",
       "  </tbody>\n",
       "</table>\n",
       "</div>"
      ],
      "text/plain": [
       "                   bigram  count\n",
       "40         (the, company)    999\n",
       "710             (in, the)    711\n",
       "28              (of, the)    577\n",
       "637               (is, a)    411\n",
       "2                (is, an)    403\n",
       "1231     (united, states)    393\n",
       "3          (an, american)    365\n",
       "8     (headquartered, in)    316\n",
       "2243        (the, united)    274\n",
       "1292            (on, the)    241"
      ]
     },
     "execution_count": 170,
     "metadata": {},
     "output_type": "execute_result"
    }
   ],
   "source": [
    "# your code here\n",
    "bigram_df = pd.DataFrame(bigram_counter.items(), columns=['bigram', 'count'])\n",
    "bigram_df = bigram_df.sort_values(by='count', ascending=False)\n",
    "bigram_df.head(10)"
   ]
  },
  {
   "cell_type": "markdown",
   "metadata": {},
   "source": [
    "### Find ways to sort and filter your output to bigrams that make sense, such as `wells fargo`, `apple inc` or `puerto rico`"
   ]
  },
  {
   "cell_type": "markdown",
   "metadata": {},
   "source": [
    "Option 1: Removing stopwords and limiting based on frequency and part of word"
   ]
  },
  {
   "cell_type": "code",
   "execution_count": 53,
   "metadata": {},
   "outputs": [
    {
     "name": "stderr",
     "output_type": "stream",
     "text": [
      "[nltk_data] Downloading package averaged_perceptron_tagger to\n",
      "[nltk_data]     /Users/bluebird/nltk_data...\n",
      "[nltk_data]   Package averaged_perceptron_tagger is already up-to-\n",
      "[nltk_data]       date!\n",
      "[nltk_data] Downloading package stopwords to\n",
      "[nltk_data]     /Users/bluebird/nltk_data...\n",
      "[nltk_data]   Package stopwords is already up-to-date!\n"
     ]
    }
   ],
   "source": [
    "import nltk\n",
    "from nltk.corpus import stopwords\n",
    "\n",
    "nltk.download('averaged_perceptron_tagger')\n",
    "nltk.download('stopwords')\n",
    "\n",
    "# Function to filter bigrams based on POS tags (Noun, Noun) or (Adjective, Noun)\n",
    "def filter_bigrams_by_pos(bigrams):\n",
    "    filtered_bigrams = []\n",
    "    for bigram in bigrams:\n",
    "        pos_tags = nltk.pos_tag(bigram)\n",
    "        if (pos_tags[0][1].startswith('NN') and pos_tags[1][1].startswith('NN')) or \\\n",
    "           (pos_tags[0][1].startswith('JJ') and pos_tags[1][1].startswith('NN')):\n",
    "            filtered_bigrams.append(bigram)\n",
    "    return filtered_bigrams"
   ]
  },
  {
   "cell_type": "code",
   "execution_count": 69,
   "metadata": {},
   "outputs": [
    {
     "name": "stdout",
     "output_type": "stream",
     "text": [
      "658 bigrams found after stop word and frequency filtering\n"
     ]
    },
    {
     "data": {
      "text/html": [
       "<div>\n",
       "<style scoped>\n",
       "    .dataframe tbody tr th:only-of-type {\n",
       "        vertical-align: middle;\n",
       "    }\n",
       "\n",
       "    .dataframe tbody tr th {\n",
       "        vertical-align: top;\n",
       "    }\n",
       "\n",
       "    .dataframe thead th {\n",
       "        text-align: right;\n",
       "    }\n",
       "</style>\n",
       "<table border=\"1\" class=\"dataframe\">\n",
       "  <thead>\n",
       "    <tr style=\"text-align: right;\">\n",
       "      <th></th>\n",
       "      <th>bigram</th>\n",
       "      <th>count</th>\n",
       "    </tr>\n",
       "  </thead>\n",
       "  <tbody>\n",
       "    <tr>\n",
       "      <th>0</th>\n",
       "      <td>(united, states)</td>\n",
       "      <td>393</td>\n",
       "    </tr>\n",
       "    <tr>\n",
       "      <th>1</th>\n",
       "      <td>(new, york)</td>\n",
       "      <td>191</td>\n",
       "    </tr>\n",
       "    <tr>\n",
       "      <th>2</th>\n",
       "      <td>(fortune, 500)</td>\n",
       "      <td>165</td>\n",
       "    </tr>\n",
       "    <tr>\n",
       "      <th>3</th>\n",
       "      <td>(american, multinational)</td>\n",
       "      <td>92</td>\n",
       "    </tr>\n",
       "    <tr>\n",
       "      <th>4</th>\n",
       "      <td>(real, estate)</td>\n",
       "      <td>91</td>\n",
       "    </tr>\n",
       "    <tr>\n",
       "      <th>5</th>\n",
       "      <td>(natural, gas)</td>\n",
       "      <td>85</td>\n",
       "    </tr>\n",
       "    <tr>\n",
       "      <th>6</th>\n",
       "      <td>(publicly, traded)</td>\n",
       "      <td>85</td>\n",
       "    </tr>\n",
       "    <tr>\n",
       "      <th>7</th>\n",
       "      <td>(company, headquartered)</td>\n",
       "      <td>84</td>\n",
       "    </tr>\n",
       "    <tr>\n",
       "      <th>8</th>\n",
       "      <td>(holding, company)</td>\n",
       "      <td>73</td>\n",
       "    </tr>\n",
       "    <tr>\n",
       "      <th>9</th>\n",
       "      <td>(stock, exchange)</td>\n",
       "      <td>70</td>\n",
       "    </tr>\n",
       "    <tr>\n",
       "      <th>10</th>\n",
       "      <td>(financial, services)</td>\n",
       "      <td>66</td>\n",
       "    </tr>\n",
       "    <tr>\n",
       "      <th>11</th>\n",
       "      <td>(york, city)</td>\n",
       "      <td>64</td>\n",
       "    </tr>\n",
       "    <tr>\n",
       "      <th>12</th>\n",
       "      <td>(company, based)</td>\n",
       "      <td>63</td>\n",
       "    </tr>\n",
       "    <tr>\n",
       "      <th>13</th>\n",
       "      <td>(investment, trust)</td>\n",
       "      <td>58</td>\n",
       "    </tr>\n",
       "    <tr>\n",
       "      <th>14</th>\n",
       "      <td>(500, list)</td>\n",
       "      <td>57</td>\n",
       "    </tr>\n",
       "    <tr>\n",
       "      <th>15</th>\n",
       "      <td>(estate, investment)</td>\n",
       "      <td>57</td>\n",
       "    </tr>\n",
       "    <tr>\n",
       "      <th>16</th>\n",
       "      <td>(york, stock)</td>\n",
       "      <td>52</td>\n",
       "    </tr>\n",
       "    <tr>\n",
       "      <th>17</th>\n",
       "      <td>(north, america)</td>\n",
       "      <td>50</td>\n",
       "    </tr>\n",
       "    <tr>\n",
       "      <th>18</th>\n",
       "      <td>(december, 31)</td>\n",
       "      <td>50</td>\n",
       "    </tr>\n",
       "    <tr>\n",
       "      <th>19</th>\n",
       "      <td>(000, employees)</td>\n",
       "      <td>48</td>\n",
       "    </tr>\n",
       "  </tbody>\n",
       "</table>\n",
       "</div>"
      ],
      "text/plain": [
       "                       bigram  count\n",
       "0            (united, states)    393\n",
       "1                 (new, york)    191\n",
       "2              (fortune, 500)    165\n",
       "3   (american, multinational)     92\n",
       "4              (real, estate)     91\n",
       "5              (natural, gas)     85\n",
       "6          (publicly, traded)     85\n",
       "7    (company, headquartered)     84\n",
       "8          (holding, company)     73\n",
       "9           (stock, exchange)     70\n",
       "10      (financial, services)     66\n",
       "11               (york, city)     64\n",
       "12           (company, based)     63\n",
       "13        (investment, trust)     58\n",
       "14                (500, list)     57\n",
       "15       (estate, investment)     57\n",
       "16              (york, stock)     52\n",
       "17           (north, america)     50\n",
       "18             (december, 31)     50\n",
       "19           (000, employees)     48"
      ]
     },
     "execution_count": 69,
     "metadata": {},
     "output_type": "execute_result"
    }
   ],
   "source": [
    "# Get the list of stopwords\n",
    "stop_words = set(stopwords.words('english'))\n",
    "\n",
    "# Filter out bigrams containing a stopword\n",
    "filtered_bigram_df = bigram_df[bigram_df['bigram'].apply(lambda x: x[0] not in stop_words and x[1] not in stop_words)]\n",
    "\n",
    "# Remove any bigrams occurring less than 5 times\n",
    "filtered_bigram_df = filtered_bigram_df[filtered_bigram_df['count'] >= 5]\n",
    "\n",
    "# Reset index\n",
    "filtered_bigram_df = filtered_bigram_df.reset_index(drop=True)\n",
    "\n",
    "print(filtered_bigram_df.shape[0], 'bigrams found after stop word and frequency filtering')\n",
    "filtered_bigram_df.head(20)"
   ]
  },
  {
   "cell_type": "code",
   "execution_count": 65,
   "metadata": {},
   "outputs": [],
   "source": [
    "# Apply the POS filter\n",
    "filtered_bigram_df['bigram'] = filtered_bigram_df['bigram'].apply(lambda x: tuple(x))\n",
    "filtered_bigrams = filter_bigrams_by_pos(filtered_bigram_df['bigram'].tolist())\n",
    "\n",
    "# Filter the dataframe based on the results\n",
    "filtered_bigram_df = filtered_bigram_df[filtered_bigram_df['bigram'].isin(filtered_bigrams)]"
   ]
  },
  {
   "cell_type": "code",
   "execution_count": 68,
   "metadata": {},
   "outputs": [
    {
     "name": "stdout",
     "output_type": "stream",
     "text": [
      "374 bigrams found after POS filtering\n"
     ]
    },
    {
     "data": {
      "text/html": [
       "<div>\n",
       "<style scoped>\n",
       "    .dataframe tbody tr th:only-of-type {\n",
       "        vertical-align: middle;\n",
       "    }\n",
       "\n",
       "    .dataframe tbody tr th {\n",
       "        vertical-align: top;\n",
       "    }\n",
       "\n",
       "    .dataframe thead th {\n",
       "        text-align: right;\n",
       "    }\n",
       "</style>\n",
       "<table border=\"1\" class=\"dataframe\">\n",
       "  <thead>\n",
       "    <tr style=\"text-align: right;\">\n",
       "      <th></th>\n",
       "      <th>bigram</th>\n",
       "      <th>count</th>\n",
       "    </tr>\n",
       "  </thead>\n",
       "  <tbody>\n",
       "    <tr>\n",
       "      <th>0</th>\n",
       "      <td>(united, states)</td>\n",
       "      <td>393</td>\n",
       "    </tr>\n",
       "    <tr>\n",
       "      <th>1</th>\n",
       "      <td>(new, york)</td>\n",
       "      <td>191</td>\n",
       "    </tr>\n",
       "    <tr>\n",
       "      <th>3</th>\n",
       "      <td>(american, multinational)</td>\n",
       "      <td>92</td>\n",
       "    </tr>\n",
       "    <tr>\n",
       "      <th>4</th>\n",
       "      <td>(real, estate)</td>\n",
       "      <td>91</td>\n",
       "    </tr>\n",
       "    <tr>\n",
       "      <th>5</th>\n",
       "      <td>(natural, gas)</td>\n",
       "      <td>85</td>\n",
       "    </tr>\n",
       "    <tr>\n",
       "      <th>9</th>\n",
       "      <td>(stock, exchange)</td>\n",
       "      <td>70</td>\n",
       "    </tr>\n",
       "    <tr>\n",
       "      <th>10</th>\n",
       "      <td>(financial, services)</td>\n",
       "      <td>66</td>\n",
       "    </tr>\n",
       "    <tr>\n",
       "      <th>11</th>\n",
       "      <td>(york, city)</td>\n",
       "      <td>64</td>\n",
       "    </tr>\n",
       "    <tr>\n",
       "      <th>13</th>\n",
       "      <td>(investment, trust)</td>\n",
       "      <td>58</td>\n",
       "    </tr>\n",
       "    <tr>\n",
       "      <th>15</th>\n",
       "      <td>(estate, investment)</td>\n",
       "      <td>57</td>\n",
       "    </tr>\n",
       "    <tr>\n",
       "      <th>16</th>\n",
       "      <td>(york, stock)</td>\n",
       "      <td>52</td>\n",
       "    </tr>\n",
       "    <tr>\n",
       "      <th>17</th>\n",
       "      <td>(north, america)</td>\n",
       "      <td>50</td>\n",
       "    </tr>\n",
       "    <tr>\n",
       "      <th>20</th>\n",
       "      <td>(total, revenue)</td>\n",
       "      <td>46</td>\n",
       "    </tr>\n",
       "    <tr>\n",
       "      <th>22</th>\n",
       "      <td>(new, jersey)</td>\n",
       "      <td>45</td>\n",
       "    </tr>\n",
       "    <tr>\n",
       "      <th>24</th>\n",
       "      <td>(states, corporations)</td>\n",
       "      <td>44</td>\n",
       "    </tr>\n",
       "    <tr>\n",
       "      <th>28</th>\n",
       "      <td>(services, company)</td>\n",
       "      <td>35</td>\n",
       "    </tr>\n",
       "    <tr>\n",
       "      <th>32</th>\n",
       "      <td>(north, carolina)</td>\n",
       "      <td>30</td>\n",
       "    </tr>\n",
       "    <tr>\n",
       "      <th>33</th>\n",
       "      <td>(san, francisco)</td>\n",
       "      <td>30</td>\n",
       "    </tr>\n",
       "    <tr>\n",
       "      <th>36</th>\n",
       "      <td>(chief, executive)</td>\n",
       "      <td>27</td>\n",
       "    </tr>\n",
       "    <tr>\n",
       "      <th>38</th>\n",
       "      <td>(group, inc)</td>\n",
       "      <td>26</td>\n",
       "    </tr>\n",
       "  </tbody>\n",
       "</table>\n",
       "</div>"
      ],
      "text/plain": [
       "                       bigram  count\n",
       "0            (united, states)    393\n",
       "1                 (new, york)    191\n",
       "3   (american, multinational)     92\n",
       "4              (real, estate)     91\n",
       "5              (natural, gas)     85\n",
       "9           (stock, exchange)     70\n",
       "10      (financial, services)     66\n",
       "11               (york, city)     64\n",
       "13        (investment, trust)     58\n",
       "15       (estate, investment)     57\n",
       "16              (york, stock)     52\n",
       "17           (north, america)     50\n",
       "20           (total, revenue)     46\n",
       "22              (new, jersey)     45\n",
       "24     (states, corporations)     44\n",
       "28        (services, company)     35\n",
       "32          (north, carolina)     30\n",
       "33           (san, francisco)     30\n",
       "36         (chief, executive)     27\n",
       "38               (group, inc)     26"
      ]
     },
     "execution_count": 68,
     "metadata": {},
     "output_type": "execute_result"
    }
   ],
   "source": [
    "print(filtered_bigram_df.shape[0], 'bigrams found after POS filtering')\n",
    "filtered_bigram_df.head(20)"
   ]
  },
  {
   "cell_type": "markdown",
   "metadata": {},
   "source": [
    "Option 2: Pointwise Mutual Information\n",
    "\n",
    "Sources:\n",
    "- https://dtunkelang.medium.com/let-bigrams-be-bigrams-aa6136d58fc2\n",
    "- https://medium.com/@nicharuch/collocations-identifying-phrases-that-act-like-individual-words-in-nlp-f58a93a2f84a\n",
    "- https://www.nltk.org/howto/collocations.html\n"
   ]
  },
  {
   "cell_type": "code",
   "execution_count": 89,
   "metadata": {},
   "outputs": [
    {
     "name": "stdout",
     "output_type": "stream",
     "text": [
      "['Apple', 'Inc.', 'is', 'an', 'American', 'multinational', 'technology', 'company', 'headquartered', 'in']\n"
     ]
    }
   ],
   "source": [
    "from nltk.collocations import *\n",
    "\n",
    "bigram_measures = nltk.collocations.BigramAssocMeasures()\n",
    "tokens = nltk.word_tokenize(' '.join(wiki_df['intro_text'].tolist()))\n",
    "print(tokens[:10])"
   ]
  },
  {
   "cell_type": "code",
   "execution_count": 93,
   "metadata": {},
   "outputs": [
    {
     "name": "stdout",
     "output_type": "stream",
     "text": [
      "1405 bigrams found\n"
     ]
    },
    {
     "data": {
      "text/html": [
       "<div>\n",
       "<style scoped>\n",
       "    .dataframe tbody tr th:only-of-type {\n",
       "        vertical-align: middle;\n",
       "    }\n",
       "\n",
       "    .dataframe tbody tr th {\n",
       "        vertical-align: top;\n",
       "    }\n",
       "\n",
       "    .dataframe thead th {\n",
       "        text-align: right;\n",
       "    }\n",
       "</style>\n",
       "<table border=\"1\" class=\"dataframe\">\n",
       "  <thead>\n",
       "    <tr style=\"text-align: right;\">\n",
       "      <th></th>\n",
       "      <th>bigram</th>\n",
       "      <th>pmi</th>\n",
       "    </tr>\n",
       "  </thead>\n",
       "  <tbody>\n",
       "    <tr>\n",
       "      <th>0</th>\n",
       "      <td>(Dr, Pepper)</td>\n",
       "      <td>14.414117</td>\n",
       "    </tr>\n",
       "    <tr>\n",
       "      <th>1</th>\n",
       "      <td>(Hewlett, Packard)</td>\n",
       "      <td>14.414117</td>\n",
       "    </tr>\n",
       "    <tr>\n",
       "      <th>2</th>\n",
       "      <td>(Goldman, Sachs)</td>\n",
       "      <td>14.151083</td>\n",
       "    </tr>\n",
       "    <tr>\n",
       "      <th>4</th>\n",
       "      <td>(Six, Flags)</td>\n",
       "      <td>14.151083</td>\n",
       "    </tr>\n",
       "    <tr>\n",
       "      <th>3</th>\n",
       "      <td>(Hong, Kong)</td>\n",
       "      <td>14.151083</td>\n",
       "    </tr>\n",
       "    <tr>\n",
       "      <th>5</th>\n",
       "      <td>(Foot, Locker)</td>\n",
       "      <td>13.928690</td>\n",
       "    </tr>\n",
       "    <tr>\n",
       "      <th>6</th>\n",
       "      <td>(Merrill, Lynch)</td>\n",
       "      <td>13.928690</td>\n",
       "    </tr>\n",
       "    <tr>\n",
       "      <th>7</th>\n",
       "      <td>(Sallie, Mae)</td>\n",
       "      <td>13.928690</td>\n",
       "    </tr>\n",
       "    <tr>\n",
       "      <th>8</th>\n",
       "      <td>(Las, Vegas)</td>\n",
       "      <td>13.736045</td>\n",
       "    </tr>\n",
       "    <tr>\n",
       "      <th>9</th>\n",
       "      <td>(Mountain, View)</td>\n",
       "      <td>13.736045</td>\n",
       "    </tr>\n",
       "    <tr>\n",
       "      <th>10</th>\n",
       "      <td>(Palo, Alto)</td>\n",
       "      <td>13.736045</td>\n",
       "    </tr>\n",
       "    <tr>\n",
       "      <th>11</th>\n",
       "      <td>(J.B., Hunt)</td>\n",
       "      <td>13.736045</td>\n",
       "    </tr>\n",
       "    <tr>\n",
       "      <th>12</th>\n",
       "      <td>(Northrop, Grumman)</td>\n",
       "      <td>13.736045</td>\n",
       "    </tr>\n",
       "    <tr>\n",
       "      <th>14</th>\n",
       "      <td>(automated, teller)</td>\n",
       "      <td>13.566120</td>\n",
       "    </tr>\n",
       "    <tr>\n",
       "      <th>13</th>\n",
       "      <td>(Nu, Skin)</td>\n",
       "      <td>13.566120</td>\n",
       "    </tr>\n",
       "    <tr>\n",
       "      <th>15</th>\n",
       "      <td>(Berkshire, Hathaway)</td>\n",
       "      <td>13.566120</td>\n",
       "    </tr>\n",
       "    <tr>\n",
       "      <th>16</th>\n",
       "      <td>(Interactive, Brokers)</td>\n",
       "      <td>13.566120</td>\n",
       "    </tr>\n",
       "    <tr>\n",
       "      <th>17</th>\n",
       "      <td>(Legg, Mason)</td>\n",
       "      <td>13.543400</td>\n",
       "    </tr>\n",
       "    <tr>\n",
       "      <th>18</th>\n",
       "      <td>(Zions, Bancorporation)</td>\n",
       "      <td>13.373475</td>\n",
       "    </tr>\n",
       "    <tr>\n",
       "      <th>19</th>\n",
       "      <td>(Packard, Enterprise)</td>\n",
       "      <td>13.276614</td>\n",
       "    </tr>\n",
       "  </tbody>\n",
       "</table>\n",
       "</div>"
      ],
      "text/plain": [
       "                     bigram        pmi\n",
       "0              (Dr, Pepper)  14.414117\n",
       "1        (Hewlett, Packard)  14.414117\n",
       "2          (Goldman, Sachs)  14.151083\n",
       "4              (Six, Flags)  14.151083\n",
       "3              (Hong, Kong)  14.151083\n",
       "5            (Foot, Locker)  13.928690\n",
       "6          (Merrill, Lynch)  13.928690\n",
       "7             (Sallie, Mae)  13.928690\n",
       "8              (Las, Vegas)  13.736045\n",
       "9          (Mountain, View)  13.736045\n",
       "10             (Palo, Alto)  13.736045\n",
       "11             (J.B., Hunt)  13.736045\n",
       "12      (Northrop, Grumman)  13.736045\n",
       "14      (automated, teller)  13.566120\n",
       "13               (Nu, Skin)  13.566120\n",
       "15    (Berkshire, Hathaway)  13.566120\n",
       "16   (Interactive, Brokers)  13.566120\n",
       "17            (Legg, Mason)  13.543400\n",
       "18  (Zions, Bancorporation)  13.373475\n",
       "19    (Packard, Enterprise)  13.276614"
      ]
     },
     "execution_count": 93,
     "metadata": {},
     "output_type": "execute_result"
    }
   ],
   "source": [
    "# Calculate bigrams\n",
    "finder = BigramCollocationFinder.from_words(tokens)\n",
    "\n",
    "# Filter for bigrams that occur at least 5 times\n",
    "finder.apply_freq_filter(5)\n",
    "\n",
    "# Remove stop words\n",
    "finder.apply_word_filter(lambda w: w in stop_words)\n",
    "\n",
    "# Convert finder to a dataframe with the pmi score\n",
    "bigram_df = pd.DataFrame(list(finder.score_ngrams(bigram_measures.pmi)), columns=['bigram', 'pmi']).sort_values('pmi', ascending=False)\n",
    "\n",
    "# Print the number of bigrams\n",
    "print(bigram_df.shape[0], 'bigrams found')\n",
    "bigram_df.head(20)"
   ]
  },
  {
   "cell_type": "markdown",
   "metadata": {},
   "source": [
    "# Problem 3: Corporate Similarity and Returns"
   ]
  },
  {
   "cell_type": "markdown",
   "metadata": {},
   "source": [
    "In this example we'll explore how to use NLP to measure corporate similarity\n",
    "\n",
    "In particular we will\n",
    " - Make word vectors for firms in order to get an NLP measure of similarity\n",
    " - Measure the quality of this similarity metric by predicting future co-movement of returns. \n",
    " \n",
    "Step X: This problem uses a few concepts of basic modeling such as `sklearn.model_selection.train_test_split` and `sklearn.linear_model.LinearRegression`\n",
    " \n",
    "\n",
    "$ \\\\ $\n",
    "Step 0: Load the MD&A section from Form-10-K from 2016"
   ]
  },
  {
   "cell_type": "code",
   "execution_count": 91,
   "metadata": {},
   "outputs": [],
   "source": [
    "import json\n",
    "import pandas as pd"
   ]
  },
  {
   "cell_type": "code",
   "execution_count": 92,
   "metadata": {},
   "outputs": [],
   "source": [
    "with open('data/parsed_mda.json') as f:\n",
    "    data = json.load(f)"
   ]
  },
  {
   "cell_type": "markdown",
   "metadata": {},
   "source": [
    "### Next, take only the first filing for each company"
   ]
  },
  {
   "cell_type": "code",
   "execution_count": 93,
   "metadata": {},
   "outputs": [],
   "source": [
    "clean = []\n",
    "seen = set()\n",
    "for item in data:\n",
    "    if item['ticker'] in seen:\n",
    "        continue\n",
    "    else:\n",
    "        seen.add(item['ticker'])\n",
    "        clean.append(item)\n",
    "data = clean\n",
    "del clean"
   ]
  },
  {
   "cell_type": "code",
   "execution_count": 189,
   "metadata": {},
   "outputs": [],
   "source": [
    "#print(data[0])"
   ]
  },
  {
   "cell_type": "code",
   "execution_count": 190,
   "metadata": {},
   "outputs": [],
   "source": [
    "#print(data[0]['mda'][:500])"
   ]
  },
  {
   "cell_type": "markdown",
   "metadata": {},
   "source": [
    "### Now load the price data for 2015-2018"
   ]
  },
  {
   "cell_type": "code",
   "execution_count": 96,
   "metadata": {},
   "outputs": [
    {
     "data": {
      "text/html": [
       "<div>\n",
       "<style scoped>\n",
       "    .dataframe tbody tr th:only-of-type {\n",
       "        vertical-align: middle;\n",
       "    }\n",
       "\n",
       "    .dataframe tbody tr th {\n",
       "        vertical-align: top;\n",
       "    }\n",
       "\n",
       "    .dataframe thead th {\n",
       "        text-align: right;\n",
       "    }\n",
       "</style>\n",
       "<table border=\"1\" class=\"dataframe\">\n",
       "  <thead>\n",
       "    <tr style=\"text-align: right;\">\n",
       "      <th></th>\n",
       "      <th>MMM</th>\n",
       "      <th>ABT</th>\n",
       "      <th>ABBV</th>\n",
       "      <th>ABMD</th>\n",
       "      <th>ACN</th>\n",
       "      <th>ATVI</th>\n",
       "      <th>ADBE</th>\n",
       "      <th>AMD</th>\n",
       "      <th>AAP</th>\n",
       "      <th>AES</th>\n",
       "      <th>...</th>\n",
       "      <th>WLTW</th>\n",
       "      <th>WYNN</th>\n",
       "      <th>XEL</th>\n",
       "      <th>XRX</th>\n",
       "      <th>XLNX</th>\n",
       "      <th>XYL</th>\n",
       "      <th>YUM</th>\n",
       "      <th>ZBH</th>\n",
       "      <th>ZION</th>\n",
       "      <th>ZTS</th>\n",
       "    </tr>\n",
       "    <tr>\n",
       "      <th>Date</th>\n",
       "      <th></th>\n",
       "      <th></th>\n",
       "      <th></th>\n",
       "      <th></th>\n",
       "      <th></th>\n",
       "      <th></th>\n",
       "      <th></th>\n",
       "      <th></th>\n",
       "      <th></th>\n",
       "      <th></th>\n",
       "      <th></th>\n",
       "      <th></th>\n",
       "      <th></th>\n",
       "      <th></th>\n",
       "      <th></th>\n",
       "      <th></th>\n",
       "      <th></th>\n",
       "      <th></th>\n",
       "      <th></th>\n",
       "      <th></th>\n",
       "      <th></th>\n",
       "    </tr>\n",
       "  </thead>\n",
       "  <tbody>\n",
       "    <tr>\n",
       "      <th>2015-01-02</th>\n",
       "      <td>152.857296</td>\n",
       "      <td>41.911850</td>\n",
       "      <td>59.166809</td>\n",
       "      <td>37.31</td>\n",
       "      <td>83.567918</td>\n",
       "      <td>19.647773</td>\n",
       "      <td>72.340</td>\n",
       "      <td>2.69</td>\n",
       "      <td>157.835250</td>\n",
       "      <td>12.207402</td>\n",
       "      <td>...</td>\n",
       "      <td>NaN</td>\n",
       "      <td>137.601094</td>\n",
       "      <td>32.876454</td>\n",
       "      <td>51.006224</td>\n",
       "      <td>40.568729</td>\n",
       "      <td>36.487373</td>\n",
       "      <td>48.740797</td>\n",
       "      <td>110.052964</td>\n",
       "      <td>27.623683</td>\n",
       "      <td>42.403000</td>\n",
       "    </tr>\n",
       "    <tr>\n",
       "      <th>2015-01-05</th>\n",
       "      <td>149.409947</td>\n",
       "      <td>41.921185</td>\n",
       "      <td>58.053335</td>\n",
       "      <td>37.07</td>\n",
       "      <td>82.156933</td>\n",
       "      <td>19.374481</td>\n",
       "      <td>71.980</td>\n",
       "      <td>2.66</td>\n",
       "      <td>155.754803</td>\n",
       "      <td>11.859892</td>\n",
       "      <td>...</td>\n",
       "      <td>NaN</td>\n",
       "      <td>135.259187</td>\n",
       "      <td>32.503272</td>\n",
       "      <td>49.893361</td>\n",
       "      <td>39.819696</td>\n",
       "      <td>34.216494</td>\n",
       "      <td>47.750487</td>\n",
       "      <td>114.158329</td>\n",
       "      <td>26.588649</td>\n",
       "      <td>42.148444</td>\n",
       "    </tr>\n",
       "    <tr>\n",
       "      <th>2015-01-06</th>\n",
       "      <td>147.816713</td>\n",
       "      <td>41.445126</td>\n",
       "      <td>57.765986</td>\n",
       "      <td>36.13</td>\n",
       "      <td>81.564320</td>\n",
       "      <td>19.013344</td>\n",
       "      <td>70.530</td>\n",
       "      <td>2.63</td>\n",
       "      <td>155.645306</td>\n",
       "      <td>11.592576</td>\n",
       "      <td>...</td>\n",
       "      <td>NaN</td>\n",
       "      <td>132.373957</td>\n",
       "      <td>32.676210</td>\n",
       "      <td>49.225643</td>\n",
       "      <td>39.247454</td>\n",
       "      <td>34.015277</td>\n",
       "      <td>47.164385</td>\n",
       "      <td>113.190639</td>\n",
       "      <td>25.573145</td>\n",
       "      <td>41.737240</td>\n",
       "    </tr>\n",
       "    <tr>\n",
       "      <th>2015-01-07</th>\n",
       "      <td>148.888186</td>\n",
       "      <td>41.781167</td>\n",
       "      <td>60.100691</td>\n",
       "      <td>37.28</td>\n",
       "      <td>83.276314</td>\n",
       "      <td>18.598525</td>\n",
       "      <td>71.110</td>\n",
       "      <td>2.58</td>\n",
       "      <td>158.989948</td>\n",
       "      <td>11.610397</td>\n",
       "      <td>...</td>\n",
       "      <td>NaN</td>\n",
       "      <td>136.261523</td>\n",
       "      <td>32.958372</td>\n",
       "      <td>49.856265</td>\n",
       "      <td>39.261411</td>\n",
       "      <td>34.283567</td>\n",
       "      <td>48.727324</td>\n",
       "      <td>116.005740</td>\n",
       "      <td>25.812374</td>\n",
       "      <td>42.598811</td>\n",
       "    </tr>\n",
       "    <tr>\n",
       "      <th>2015-01-08</th>\n",
       "      <td>152.456658</td>\n",
       "      <td>42.639940</td>\n",
       "      <td>60.729266</td>\n",
       "      <td>38.96</td>\n",
       "      <td>84.546201</td>\n",
       "      <td>18.788854</td>\n",
       "      <td>72.915</td>\n",
       "      <td>2.61</td>\n",
       "      <td>160.383549</td>\n",
       "      <td>11.788608</td>\n",
       "      <td>...</td>\n",
       "      <td>NaN</td>\n",
       "      <td>137.900858</td>\n",
       "      <td>33.340656</td>\n",
       "      <td>51.228796</td>\n",
       "      <td>40.136058</td>\n",
       "      <td>34.542275</td>\n",
       "      <td>49.576161</td>\n",
       "      <td>117.237350</td>\n",
       "      <td>26.178542</td>\n",
       "      <td>43.254780</td>\n",
       "    </tr>\n",
       "  </tbody>\n",
       "</table>\n",
       "<p>5 rows × 494 columns</p>\n",
       "</div>"
      ],
      "text/plain": [
       "                   MMM        ABT       ABBV   ABMD        ACN       ATVI  \\\n",
       "Date                                                                        \n",
       "2015-01-02  152.857296  41.911850  59.166809  37.31  83.567918  19.647773   \n",
       "2015-01-05  149.409947  41.921185  58.053335  37.07  82.156933  19.374481   \n",
       "2015-01-06  147.816713  41.445126  57.765986  36.13  81.564320  19.013344   \n",
       "2015-01-07  148.888186  41.781167  60.100691  37.28  83.276314  18.598525   \n",
       "2015-01-08  152.456658  42.639940  60.729266  38.96  84.546201  18.788854   \n",
       "\n",
       "              ADBE   AMD         AAP        AES  ...  WLTW        WYNN  \\\n",
       "Date                                             ...                     \n",
       "2015-01-02  72.340  2.69  157.835250  12.207402  ...   NaN  137.601094   \n",
       "2015-01-05  71.980  2.66  155.754803  11.859892  ...   NaN  135.259187   \n",
       "2015-01-06  70.530  2.63  155.645306  11.592576  ...   NaN  132.373957   \n",
       "2015-01-07  71.110  2.58  158.989948  11.610397  ...   NaN  136.261523   \n",
       "2015-01-08  72.915  2.61  160.383549  11.788608  ...   NaN  137.900858   \n",
       "\n",
       "                  XEL        XRX       XLNX        XYL        YUM         ZBH  \\\n",
       "Date                                                                            \n",
       "2015-01-02  32.876454  51.006224  40.568729  36.487373  48.740797  110.052964   \n",
       "2015-01-05  32.503272  49.893361  39.819696  34.216494  47.750487  114.158329   \n",
       "2015-01-06  32.676210  49.225643  39.247454  34.015277  47.164385  113.190639   \n",
       "2015-01-07  32.958372  49.856265  39.261411  34.283567  48.727324  116.005740   \n",
       "2015-01-08  33.340656  51.228796  40.136058  34.542275  49.576161  117.237350   \n",
       "\n",
       "                 ZION        ZTS  \n",
       "Date                              \n",
       "2015-01-02  27.623683  42.403000  \n",
       "2015-01-05  26.588649  42.148444  \n",
       "2015-01-06  25.573145  41.737240  \n",
       "2015-01-07  25.812374  42.598811  \n",
       "2015-01-08  26.178542  43.254780  \n",
       "\n",
       "[5 rows x 494 columns]"
      ]
     },
     "execution_count": 96,
     "metadata": {},
     "output_type": "execute_result"
    }
   ],
   "source": [
    "prices = pd.read_csv(\n",
    "    'data/sp500_prices.csv', \n",
    "    index_col=0, \n",
    "    parse_dates=True\n",
    ").loc['2015-01-01':'2018-01-01']\n",
    "prices.head()"
   ]
  },
  {
   "cell_type": "code",
   "execution_count": 97,
   "metadata": {},
   "outputs": [],
   "source": [
    "data_tickers = [item['ticker'] for item in data]\n",
    "assert len(data_tickers) == len(set(data_tickers)), 'non-unique tickers, this will not work'"
   ]
  },
  {
   "cell_type": "code",
   "execution_count": 98,
   "metadata": {},
   "outputs": [
    {
     "name": "stdout",
     "output_type": "stream",
     "text": [
      "323 unique tickers found in MDA data\n",
      "755 tickers found in prices\n"
     ]
    }
   ],
   "source": [
    "print(len(data_tickers), 'unique tickers found in MDA data')\n",
    "print(len(prices.index.unique()), 'tickers found in prices')"
   ]
  },
  {
   "cell_type": "code",
   "execution_count": 99,
   "metadata": {},
   "outputs": [
    {
     "name": "stdout",
     "output_type": "stream",
     "text": [
      "missing tickers: ['AAL', 'AAPL', 'ABBV', 'ABMD', 'ABT', 'AGN', 'AIZ', 'AJG', 'AME', 'AON', 'AOS', 'APA', 'APD', 'APH', 'ARNC', 'ATVI', 'AVGO', 'AVY', 'AWK', 'AXP', 'AZO', 'BAX', 'BBT', 'BDX', 'BHGE', 'BLK', 'BLL', 'BXP', 'CAG', 'CBRE', 'CELG', 'CF', 'CHD', 'CI', 'CL', 'CLX', 'CMCSA', 'CMS', 'COF', 'COP', 'CPB', 'D', 'DD', 'DE', 'DG', 'DIS', 'DISCA', 'DISH', 'DLTR', 'DOW', 'DVA', 'DVN', 'DXC', 'ECL', 'EL', 'EQIX', 'EXC', 'EXPE', 'EXR', 'FBHS', 'FDX', 'FISV', 'FITB', 'FL', 'FLT', 'FOX', 'FOXA', 'FRC', 'FTI', 'FTV', 'GIS', 'GOOGL', 'GPC', 'GRMN', 'GS', 'HAS', 'HCA', 'HCP', 'HES', 'HON', 'HP', 'HPE', 'HRB', 'HRL', 'HST', 'IBM', 'INCY', 'INFO', 'IQV', 'JBHT', 'JEC', 'K', 'KEY', 'KIM', 'KR', 'L', 'LEN', 'LLL', 'LMT', 'LYB', 'MAR', 'MAS', 'MCO', 'MDLZ', 'MET', 'MGM', 'MLM', 'MMM', 'MNST', 'MOS', 'MS', 'MSCI', 'MSFT', 'MTB', 'NCLH', 'NEM', 'NKTR', 'NLSN', 'NOV', 'NTAP', 'NUE', 'NWS', 'NWSA', 'O', 'ORCL', 'PBCT', 'PCAR', 'PFG', 'PLD', 'PNC', 'PRGO', 'PWR', 'QCOM', 'REGN', 'RHI', 'RHT', 'RMD', 'ROL', 'SEE', 'SLB', 'SNA', 'SPG', 'SRE', 'STX', 'TEL', 'TJX', 'TPR', 'TRIP', 'TRV', 'TSS', 'TTWO', 'TWTR', 'TXN', 'TXT', 'UAA', 'UAL', 'UHS', 'ULTA', 'USB', 'V', 'VAR', 'VFC', 'VZ', 'WAB', 'WAT', 'WBA', 'WEC', 'WM', 'WRK', 'XEC', 'ZBH']\n"
     ]
    }
   ],
   "source": [
    "# List which tickers are missing in the mda json data that exist in the prices\n",
    "missing_tickers = set(prices.columns) - set(data_tickers)\n",
    "# Sort the missing tickers\n",
    "missing_tickers = sorted(list(missing_tickers))\n",
    "print('missing tickers:', missing_tickers)"
   ]
  },
  {
   "cell_type": "markdown",
   "metadata": {},
   "source": [
    "## Step 1: clean the text\n",
    "- Much of NLP boils down to doing reasonable processing on text.\n",
    "- First, we'll try out very minimial processing"
   ]
  },
  {
   "cell_type": "code",
   "execution_count": 100,
   "metadata": {},
   "outputs": [],
   "source": [
    "def clean_mda_simple(mda):\n",
    "    return mda.lower()"
   ]
  },
  {
   "cell_type": "code",
   "execution_count": 101,
   "metadata": {},
   "outputs": [],
   "source": [
    "# add import here\n",
    "from sklearn.feature_extraction.text import TfidfVectorizer\n",
    "from sklearn.metrics.pairwise import cosine_similarity\n",
    "\n",
    "# using no parameters for TfidfVectorizer for this simple example\n",
    "vec = TfidfVectorizer() # default settings greatly decreases the correlation between returns and word similarities"
   ]
  },
  {
   "cell_type": "code",
   "execution_count": 102,
   "metadata": {},
   "outputs": [
    {
     "name": "stdout",
     "output_type": "stream",
     "text": [
      "(323, 24928)\n"
     ]
    }
   ],
   "source": [
    "# word_vecs = ...\n",
    "word_vecs = vec.fit_transform((clean_mda_simple(item['mda']) for item in data))\n",
    "print(word_vecs.shape)"
   ]
  },
  {
   "cell_type": "markdown",
   "metadata": {},
   "source": [
    "## Step 2: Pairwise Word similarity\n",
    "- Calculate the pairwise cosine similarity between word vectors\n",
    "- Make the cosine similarities into a dataframe indexed/columned on ticker symbols"
   ]
  },
  {
   "cell_type": "code",
   "execution_count": 103,
   "metadata": {},
   "outputs": [
    {
     "name": "stdout",
     "output_type": "stream",
     "text": [
      "          ADBE       AAP       AMD       AES       AMG       AFL       AIV  \\\n",
      "ADBE  1.000000  0.794595  0.809993  0.738847  0.771025  0.697476  0.617205   \n",
      "AAP   0.794595  1.000000  0.835343  0.773859  0.798051  0.723132  0.647898   \n",
      "AMD   0.809993  0.835343  1.000000  0.806705  0.826294  0.731263  0.652656   \n",
      "AES   0.738847  0.773859  0.806705  1.000000  0.772338  0.716099  0.633811   \n",
      "AMG   0.771025  0.798051  0.826294  0.772338  1.000000  0.709764  0.635551   \n",
      "\n",
      "          AKAM   SO       ALK  ...       JCI        MU       RJF       ROK  \\\n",
      "ADBE  0.865301  0.0  0.740219  ...  0.757418  0.766076  0.776184  0.790667   \n",
      "AAP   0.863385  0.0  0.761096  ...  0.787645  0.801146  0.801547  0.823923   \n",
      "AMD   0.866758  0.0  0.786754  ...  0.814339  0.809757  0.810382  0.814448   \n",
      "AES   0.821687  0.0  0.751233  ...  0.828628  0.776436  0.796716  0.776423   \n",
      "AMG   0.846253  0.0  0.769998  ...  0.748867  0.763281  0.818221  0.793322   \n",
      "\n",
      "          SWKS      SBUX      SNPS       TSN       TDG      VIAB  \n",
      "ADBE  0.866640  0.734935  0.879703  0.821194  0.782013  0.749112  \n",
      "AAP   0.827648  0.787677  0.832716  0.830265  0.805112  0.779251  \n",
      "AMD   0.848316  0.739826  0.848308  0.842546  0.811280  0.790044  \n",
      "AES   0.788249  0.708629  0.788762  0.791514  0.797264  0.752916  \n",
      "AMG   0.798857  0.708009  0.817225  0.808883  0.748148  0.758264  \n",
      "\n",
      "[5 rows x 323 columns]\n"
     ]
    }
   ],
   "source": [
    "word_sims = cosine_similarity(word_vecs)\n",
    "word_sims_df = pd.DataFrame(word_sims, index=data_tickers, columns=data_tickers)\n",
    "print(word_sims_df.head())"
   ]
  },
  {
   "cell_type": "markdown",
   "metadata": {},
   "source": [
    "## Step 2a: Why `cosine_similarity` and not another measure?"
   ]
  },
  {
   "cell_type": "markdown",
   "metadata": {},
   "source": [
    "Sources:\n",
    "- https://medium.com/@arjunprakash027/understanding-cosine-similarity-a-key-concept-in-data-science-72a0fcc57599\n",
    "- https://medium.com/@florvela/making-nlp-easy-simple-techniques-for-word-vectorization-and-cosine-similarity-e6ef94586f71\n",
    "- https://www.datastax.com/guides/what-is-cosine-similarity"
   ]
  },
  {
   "cell_type": "markdown",
   "metadata": {},
   "source": [
    "### ANSWER GOES HERE\n",
    "\n",
    "- \"Magnitude Independence: It focuses on the orientation of the vectors rather than their magnitude, making it robust to variations in document length and word frequency.\"\n",
    "- \"Normalization: It naturally normalizes the vectors, making it suitable for comparing documents of different sizes.\"\n",
    "- \"Interpretability: The cosine of the angle provides an easily interpretable measure of similarity.\""
   ]
  },
  {
   "cell_type": "markdown",
   "metadata": {},
   "source": [
    "## Step 3: Wrangle the price and word data\n",
    "Our goal here is to have a dataframe which is indexed on PAIRS of tickers and has columns\n",
    " - `returns_correlation`: the correlation of returns for those two tickers from Jan 1 2016 to Jan 1 2017\n",
    " - `word_similarity`: the cosine similarity of the word vectors for the two companies' MD&A sections\n",
    " \n",
    "Tips\n",
    " - NB: use pct_change to calculate returns in pandas\n",
    " - NB: use the pandas builtin corr function to calculate correlations (we don't need anything fancy)\n",
    " - NB: the index of the dataframe should have two columns (the tickers)"
   ]
  },
  {
   "cell_type": "code",
   "execution_count": 104,
   "metadata": {},
   "outputs": [],
   "source": [
    "# one way you might do this is\n",
    "# rets_cor = ... # calculate returns correlations\n",
    "# word_cor = #  calcuate the word similarities in the right shape\n",
    "\n",
    "# all_data = rets_cor.join(word_cor)\n",
    "# all_data = all_data.dropna()\n",
    "# all_data.head()"
   ]
  },
  {
   "cell_type": "code",
   "execution_count": 105,
   "metadata": {},
   "outputs": [
    {
     "name": "stdout",
     "output_type": "stream",
     "text": [
      "Date\n",
      "2015-01-02    152.857296\n",
      "2015-01-05    149.409947\n",
      "Name: MMM, dtype: float64\n",
      "-0.022552724612908567\n"
     ]
    }
   ],
   "source": [
    "print(prices['MMM'].head(2))\n",
    "# Manually check the percent change (old - new) / old\n",
    "print((prices['MMM'].iloc[1] - prices['MMM'].iloc[0]) / prices['MMM'].iloc[0])"
   ]
  },
  {
   "cell_type": "code",
   "execution_count": 106,
   "metadata": {},
   "outputs": [
    {
     "name": "stdout",
     "output_type": "stream",
     "text": [
      "                 MMM       ABT      ABBV      ABMD       ACN      ATVI  \\\n",
      "Date                                                                     \n",
      "2016-01-04       NaN       NaN       NaN       NaN       NaN       NaN   \n",
      "2016-01-05  0.004359 -0.000233 -0.004166 -0.002816  0.005205 -0.012759   \n",
      "2016-01-06 -0.020141 -0.008388  0.000174  0.003529 -0.001954 -0.009424   \n",
      "2016-01-07 -0.024362 -0.023966 -0.002963 -0.039625 -0.029366 -0.014134   \n",
      "2016-01-08 -0.003405 -0.020944 -0.027268  0.032471 -0.009681 -0.015440   \n",
      "\n",
      "                ADBE       AMD       AAP       AES  ...      WLTW      WYNN  \\\n",
      "Date                                                ...                       \n",
      "2016-01-04       NaN       NaN       NaN       NaN  ...       NaN       NaN   \n",
      "2016-01-05  0.004023 -0.007220 -0.006831  0.013786  ...       NaN  0.018904   \n",
      "2016-01-06 -0.014295 -0.089091 -0.026455 -0.034519  ... -0.046567 -0.051805   \n",
      "2016-01-07 -0.020984 -0.091816  0.011073 -0.024919  ... -0.041924 -0.094070   \n",
      "2016-01-08 -0.014140 -0.059341 -0.021971  0.014444  ...  0.014528 -0.040704   \n",
      "\n",
      "                 XEL       XRX      XLNX       XYL       YUM       ZBH  \\\n",
      "Date                                                                     \n",
      "2016-01-04       NaN       NaN       NaN       NaN       NaN       NaN   \n",
      "2016-01-05  0.010084 -0.001942  0.014847 -0.000277 -0.002493  0.020823   \n",
      "2016-01-06  0.010538 -0.012646 -0.018287 -0.012476 -0.007080  0.004330   \n",
      "2016-01-07  0.003842 -0.027586 -0.039448 -0.025828 -0.034116 -0.022993   \n",
      "2016-01-08 -0.010935 -0.028369 -0.020534 -0.009510 -0.013607 -0.004217   \n",
      "\n",
      "                ZION       ZTS  \n",
      "Date                            \n",
      "2016-01-04       NaN       NaN  \n",
      "2016-01-05 -0.010857  0.015655  \n",
      "2016-01-06 -0.029145  0.000208  \n",
      "2016-01-07 -0.030019 -0.030404  \n",
      "2016-01-08 -0.011254 -0.014605  \n",
      "\n",
      "[5 rows x 494 columns]\n"
     ]
    },
    {
     "name": "stderr",
     "output_type": "stream",
     "text": [
      "/var/folders/tl/1_9jjfjj3wb0nqls4mbmjchw0000gn/T/ipykernel_34104/4031409078.py:2: FutureWarning: The default fill_method='pad' in DataFrame.pct_change is deprecated and will be removed in a future version. Either fill in any non-leading NA values prior to calling pct_change or specify 'fill_method=None' to not fill NA values.\n",
      "  returns = prices.loc['2016-01-01':'2017-01-01'].pct_change()\n"
     ]
    }
   ],
   "source": [
    "# Calculate returns between Jan 1 2016 and Jan 1 2017\n",
    "returns = prices.loc['2016-01-01':'2017-01-01'].pct_change()\n",
    "#returns = prices.pct_change()\n",
    "print(returns.head())"
   ]
  },
  {
   "cell_type": "code",
   "execution_count": 107,
   "metadata": {},
   "outputs": [
    {
     "name": "stdout",
     "output_type": "stream",
     "text": [
      "           MMM       ABT      ABBV      ABMD       ACN      ATVI      ADBE  \\\n",
      "MMM   1.000000  0.388121  0.240860  0.249482  0.447164  0.292491  0.431371   \n",
      "ABT   0.388121  1.000000  0.434728  0.392018  0.382333  0.340372  0.433040   \n",
      "ABBV  0.240860  0.434728  1.000000  0.313743  0.190497  0.211534  0.320422   \n",
      "ABMD  0.249482  0.392018  0.313743  1.000000  0.435299  0.395632  0.512213   \n",
      "ACN   0.447164  0.382333  0.190497  0.435299  1.000000  0.415899  0.550949   \n",
      "\n",
      "           AMD       AAP       AES  ...      WLTW      WYNN       XEL  \\\n",
      "MMM   0.133798  0.280127  0.486248  ...  0.509104  0.258648  0.222444   \n",
      "ABT   0.221818  0.311918  0.296081  ...  0.332612  0.210723  0.024405   \n",
      "ABBV  0.106552  0.170192  0.157466  ...  0.282591  0.213532 -0.079174   \n",
      "ABMD  0.161933  0.229582  0.222980  ...  0.365390  0.266591  0.061514   \n",
      "ACN   0.211802  0.238929  0.348189  ...  0.507111  0.241807  0.167244   \n",
      "\n",
      "           XRX      XLNX       XYL       YUM       ZBH      ZION       ZTS  \n",
      "MMM   0.438878  0.371580  0.598673  0.545368  0.338652  0.470543  0.394915  \n",
      "ABT   0.372187  0.442672  0.432083  0.340774  0.518438  0.388693  0.483236  \n",
      "ABBV  0.249754  0.295623  0.304949  0.164437  0.370727  0.315413  0.465562  \n",
      "ABMD  0.313505  0.331280  0.351629  0.346454  0.403591  0.266964  0.390265  \n",
      "ACN   0.430160  0.383939  0.448386  0.514007  0.312847  0.380975  0.409598  \n",
      "\n",
      "[5 rows x 494 columns]\n"
     ]
    }
   ],
   "source": [
    "# Calculate the correlation matrix for returns\n",
    "rets_cor = returns.corr()\n",
    "print(rets_cor.head())"
   ]
  },
  {
   "cell_type": "code",
   "execution_count": 108,
   "metadata": {},
   "outputs": [
    {
     "name": "stdout",
     "output_type": "stream",
     "text": [
      "  ticker1 ticker2  word_similarity\n",
      "0    ADBE    ADBE         1.000000\n",
      "1    ADBE     AAP         0.794595\n",
      "2    ADBE     AMD         0.809993\n",
      "3    ADBE     AES         0.738847\n",
      "4    ADBE     AMG         0.771025\n"
     ]
    }
   ],
   "source": [
    "# Reshape the word similarities dataframe\n",
    "word_cor = word_sims_df.stack().reset_index()\n",
    "word_cor.columns = ['ticker1', 'ticker2', 'word_similarity']\n",
    "print(word_cor.head())"
   ]
  },
  {
   "cell_type": "code",
   "execution_count": 109,
   "metadata": {},
   "outputs": [
    {
     "name": "stdout",
     "output_type": "stream",
     "text": [
      "  ticker1 ticker2  returns_correlation\n",
      "0     MMM     MMM             1.000000\n",
      "1     MMM     ABT             0.388121\n",
      "2     MMM    ABBV             0.240860\n",
      "3     MMM    ABMD             0.249482\n",
      "4     MMM     ACN             0.447164\n"
     ]
    }
   ],
   "source": [
    "# Reshape the returns correlation dataframe to have a MultiIndex with pairs of tickers\n",
    "rets_cor = rets_cor.stack().reset_index()\n",
    "rets_cor.columns = ['ticker1', 'ticker2', 'returns_correlation']\n",
    "print(rets_cor.head())"
   ]
  },
  {
   "cell_type": "code",
   "execution_count": 110,
   "metadata": {},
   "outputs": [
    {
     "data": {
      "text/html": [
       "<div>\n",
       "<style scoped>\n",
       "    .dataframe tbody tr th:only-of-type {\n",
       "        vertical-align: middle;\n",
       "    }\n",
       "\n",
       "    .dataframe tbody tr th {\n",
       "        vertical-align: top;\n",
       "    }\n",
       "\n",
       "    .dataframe thead th {\n",
       "        text-align: right;\n",
       "    }\n",
       "</style>\n",
       "<table border=\"1\" class=\"dataframe\">\n",
       "  <thead>\n",
       "    <tr style=\"text-align: right;\">\n",
       "      <th></th>\n",
       "      <th>ticker1</th>\n",
       "      <th>ticker2</th>\n",
       "      <th>returns_correlation</th>\n",
       "    </tr>\n",
       "  </thead>\n",
       "  <tbody>\n",
       "    <tr>\n",
       "      <th>1934</th>\n",
       "      <td>ACN</td>\n",
       "      <td>ADBE</td>\n",
       "      <td>0.550949</td>\n",
       "    </tr>\n",
       "  </tbody>\n",
       "</table>\n",
       "</div>"
      ],
      "text/plain": [
       "     ticker1 ticker2  returns_correlation\n",
       "1934     ACN    ADBE             0.550949"
      ]
     },
     "execution_count": 110,
     "metadata": {},
     "output_type": "execute_result"
    }
   ],
   "source": [
    "# Check the return correlation for ACN and ADBE\n",
    "rets_cor[(rets_cor['ticker1'] == 'ACN') & (rets_cor['ticker2'] == 'ADBE')]"
   ]
  },
  {
   "cell_type": "code",
   "execution_count": 111,
   "metadata": {},
   "outputs": [
    {
     "data": {
      "text/html": [
       "<div>\n",
       "<style scoped>\n",
       "    .dataframe tbody tr th:only-of-type {\n",
       "        vertical-align: middle;\n",
       "    }\n",
       "\n",
       "    .dataframe tbody tr th {\n",
       "        vertical-align: top;\n",
       "    }\n",
       "\n",
       "    .dataframe thead th {\n",
       "        text-align: right;\n",
       "    }\n",
       "</style>\n",
       "<table border=\"1\" class=\"dataframe\">\n",
       "  <thead>\n",
       "    <tr style=\"text-align: right;\">\n",
       "      <th></th>\n",
       "      <th>ticker1</th>\n",
       "      <th>ticker2</th>\n",
       "      <th>returns_correlation</th>\n",
       "      <th>word_similarity</th>\n",
       "    </tr>\n",
       "  </thead>\n",
       "  <tbody>\n",
       "    <tr>\n",
       "      <th>1</th>\n",
       "      <td>ACN</td>\n",
       "      <td>ADBE</td>\n",
       "      <td>0.550949</td>\n",
       "      <td>0.829395</td>\n",
       "    </tr>\n",
       "    <tr>\n",
       "      <th>2</th>\n",
       "      <td>ACN</td>\n",
       "      <td>AMD</td>\n",
       "      <td>0.211802</td>\n",
       "      <td>0.787571</td>\n",
       "    </tr>\n",
       "    <tr>\n",
       "      <th>3</th>\n",
       "      <td>ACN</td>\n",
       "      <td>AAP</td>\n",
       "      <td>0.238929</td>\n",
       "      <td>0.784119</td>\n",
       "    </tr>\n",
       "    <tr>\n",
       "      <th>4</th>\n",
       "      <td>ACN</td>\n",
       "      <td>AES</td>\n",
       "      <td>0.348189</td>\n",
       "      <td>0.753118</td>\n",
       "    </tr>\n",
       "    <tr>\n",
       "      <th>5</th>\n",
       "      <td>ACN</td>\n",
       "      <td>AMG</td>\n",
       "      <td>0.507414</td>\n",
       "      <td>0.754781</td>\n",
       "    </tr>\n",
       "  </tbody>\n",
       "</table>\n",
       "</div>"
      ],
      "text/plain": [
       "  ticker1 ticker2  returns_correlation  word_similarity\n",
       "1     ACN    ADBE             0.550949         0.829395\n",
       "2     ACN     AMD             0.211802         0.787571\n",
       "3     ACN     AAP             0.238929         0.784119\n",
       "4     ACN     AES             0.348189         0.753118\n",
       "5     ACN     AMG             0.507414         0.754781"
      ]
     },
     "execution_count": 111,
     "metadata": {},
     "output_type": "execute_result"
    }
   ],
   "source": [
    "# Merge the two dataframes on ticker pairs\n",
    "all_data = pd.merge(rets_cor, word_cor, on=['ticker1', 'ticker2'])\n",
    "\n",
    "# Remove rows where the tickers are the same and drop any missing values\n",
    "all_data = all_data[all_data['ticker1'] != all_data['ticker2']]\n",
    "all_data = all_data.dropna()\n",
    "\n",
    "all_data.head()"
   ]
  },
  {
   "cell_type": "code",
   "execution_count": 112,
   "metadata": {},
   "outputs": [
    {
     "name": "stdout",
     "output_type": "stream",
     "text": [
      "(100806, 4)\n",
      "318 unique tickers\n"
     ]
    }
   ],
   "source": [
    "print(all_data.shape)\n",
    "print(all_data['ticker1'].nunique(), 'unique tickers')"
   ]
  },
  {
   "cell_type": "markdown",
   "metadata": {},
   "source": [
    "## Step 3a: \n",
    " - What is the contemperaneous correlation of these data?\n",
    " - Make a scatter plot of the returns correlation and word similarities"
   ]
  },
  {
   "cell_type": "code",
   "execution_count": 113,
   "metadata": {},
   "outputs": [],
   "source": [
    "# all_data.corr()"
   ]
  },
  {
   "cell_type": "code",
   "execution_count": 114,
   "metadata": {},
   "outputs": [
    {
     "name": "stdout",
     "output_type": "stream",
     "text": [
      "0.11448917487916994\n"
     ]
    }
   ],
   "source": [
    "# Calculate the contemporaneous correlation\n",
    "print(all_data['returns_correlation'].corr(all_data['word_similarity']))"
   ]
  },
  {
   "cell_type": "code",
   "execution_count": 115,
   "metadata": {},
   "outputs": [],
   "source": [
    "## This should be about 12%. That's not bad, but we can do better"
   ]
  },
  {
   "cell_type": "code",
   "execution_count": 116,
   "metadata": {},
   "outputs": [
    {
     "data": {
      "text/plain": [
       "<Axes: xlabel='returns_correlation', ylabel='word_similarity'>"
      ]
     },
     "execution_count": 116,
     "metadata": {},
     "output_type": "execute_result"
    },
    {
     "data": {
      "image/png": "[encoded data removed]",
      "text/plain": [
       "<Figure size 640x480 with 1 Axes>"
      ]
     },
     "metadata": {},
     "output_type": "display_data"
    }
   ],
   "source": [
    "all_data.plot.scatter(x='returns_correlation', y='word_similarity')"
   ]
  },
  {
   "cell_type": "markdown",
   "metadata": {},
   "source": [
    "## Part 4: Try to predict the future returns correlations\n",
    "- Use OLS (`LinearRegression`) to predict `returns_correlation` from `word_similarity`. \n",
    "- What is the (contemperaneous) out of sample performance?"
   ]
  },
  {
   "cell_type": "code",
   "execution_count": 117,
   "metadata": {},
   "outputs": [],
   "source": [
    "from sklearn.model_selection import train_test_split\n",
    "from sklearn.linear_model import LinearRegression"
   ]
  },
  {
   "cell_type": "code",
   "execution_count": 118,
   "metadata": {},
   "outputs": [
    {
     "name": "stdout",
     "output_type": "stream",
     "text": [
      "(100806, 1) (100806,)\n",
      "   word_similarity\n",
      "1         0.829395\n",
      "2         0.787571\n",
      "3         0.784119\n",
      "4         0.753118\n",
      "5         0.754781\n",
      "1    0.550949\n",
      "2    0.211802\n",
      "3    0.238929\n",
      "4    0.348189\n",
      "5    0.507414\n",
      "Name: returns_correlation, dtype: float64\n"
     ]
    }
   ],
   "source": [
    "data_df =  all_data.copy()\n",
    "feature_cols =  ['word_similarity']\n",
    "target_col =  'returns_correlation'\n",
    "\n",
    "X = data_df[feature_cols] # independent variables\n",
    "y = data_df[target_col] # dependent variable\n",
    "\n",
    "print(X.shape, y.shape)\n",
    "print(X.head())\n",
    "print(y.head())"
   ]
  },
  {
   "cell_type": "code",
   "execution_count": 119,
   "metadata": {},
   "outputs": [
    {
     "name": "stdout",
     "output_type": "stream",
     "text": [
      "(70564, 1) (30242, 1) (70564,) (30242,)\n"
     ]
    }
   ],
   "source": [
    "# Split the data into training and testing sets\n",
    "X_train, X_test, y_train, y_test = train_test_split(X, y, test_size=0.3, random_state=42)\n",
    "print(X_train.shape, X_test.shape, y_train.shape, y_test.shape)"
   ]
  },
  {
   "cell_type": "code",
   "execution_count": 120,
   "metadata": {},
   "outputs": [
    {
     "name": "stdout",
     "output_type": "stream",
     "text": [
      "Out of sample performance (R^2 score): 0.014597806451352668\n",
      "Coefficients:\n",
      "word_similarity    0.06496\n",
      "dtype: float64\n"
     ]
    }
   ],
   "source": [
    "# Train the model\n",
    "reg = LinearRegression()\n",
    "reg.fit(X_train, y_train)\n",
    "\n",
    "# Evaluate the model\n",
    "score = reg.score(X_test, y_test)\n",
    "coefficients = pd.Series(reg.coef_, index=feature_cols)\n",
    "\n",
    "print(f'Out of sample performance (R^2 score): {score}')\n",
    "print('Coefficients:')\n",
    "print(coefficients)"
   ]
  },
  {
   "cell_type": "markdown",
   "metadata": {},
   "source": [
    "This is not amazing. We can do better!"
   ]
  },
  {
   "cell_type": "markdown",
   "metadata": {},
   "source": [
    "## Part 5: Repeat, but be careful\n",
    "Here we will see if we can clean the data better\n",
    "\n",
    "Things to try\n",
    " - Look at the histograms of word similarities to see if we can \"ignore\" some ill-behaved data\n",
    " - Try limiting how greedy the `TFIDFVectorizer` is: `min_df`, `max_df`, `max_features`, etc.\n",
    " \n",
    "We will examine our data and look for things that look out of place\n",
    " - We will ultimately want our data to look normally distributed\n"
   ]
  },
  {
   "cell_type": "code",
   "execution_count": 191,
   "metadata": {},
   "outputs": [],
   "source": [
    "import numpy as np\n",
    "from sklearn.feature_extraction.text import TfidfVectorizer\n",
    "from sklearn.metrics.pairwise import cosine_similarity\n",
    "import matplotlib.pyplot as plt"
   ]
  },
  {
   "cell_type": "code",
   "execution_count": 122,
   "metadata": {},
   "outputs": [],
   "source": [
    "def clean_mda(mda):\n",
    "    paras = [p.lower() for p in mda.split('\\n') if len(p) > 40]\n",
    "    cleaned =  ' '.join(paras)\n",
    "    words = cleaned.split()\n",
    "    words = [word for word in words if len(word) > 2]\n",
    "    if len(words) > 10:\n",
    "        return ' '.join(words)\n",
    "    else:\n",
    "        return ''"
   ]
  },
  {
   "cell_type": "code",
   "execution_count": 192,
   "metadata": {},
   "outputs": [],
   "source": [
    "def clean_mda(mda, min_word_length=3, min_words=10):\n",
    "    # Clean and lower-case all paragraphs (without filtering by length)\n",
    "    paras = [p.strip().lower() for p in mda.split('\\n')]\n",
    "    \n",
    "    # Join paragraphs into a single text block\n",
    "    cleaned = ' '.join(paras)\n",
    "    \n",
    "    # Split into words and filter out short words or non-alphabetic content\n",
    "    words = [word for word in re.findall(r'\\b\\w+\\b', cleaned) if len(word) >= min_word_length]\n",
    "    \n",
    "    # Return the cleaned text if it has the minimum number of words\n",
    "    if len(words) >= min_words:\n",
    "        return ' '.join(words)\n",
    "    else:\n",
    "        return ''"
   ]
  },
  {
   "cell_type": "code",
   "execution_count": 193,
   "metadata": {},
   "outputs": [],
   "source": [
    "# Limit the TFIDFVectorizer\n",
    "vec = TfidfVectorizer(\n",
    "    min_df=3,\n",
    "    max_df=1.0\n",
    ")\n",
    "word_vecs = vec.fit_transform((clean_mda(item['mda']) for item in data))"
   ]
  },
  {
   "cell_type": "code",
   "execution_count": 195,
   "metadata": {},
   "outputs": [
    {
     "name": "stdout",
     "output_type": "stream",
     "text": [
      "(323, 323)\n"
     ]
    }
   ],
   "source": [
    "word_sims = cosine_similarity(word_vecs)\n",
    "word_sims_df = pd.DataFrame(word_sims, index=data_tickers, columns=data_tickers)\n",
    "print(word_sims.shape) # (323, 323)"
   ]
  },
  {
   "cell_type": "code",
   "execution_count": 196,
   "metadata": {},
   "outputs": [],
   "source": [
    "# Lots of word similarities are all zeros- so we'll ignore\n",
    "# add code here to remove rows of word_sims where all the elements are zero\n",
    "non_zero_indices = np.any(word_sims != 0, axis=1)\n",
    "word_sims = word_sims[non_zero_indices][:, non_zero_indices]"
   ]
  },
  {
   "cell_type": "code",
   "execution_count": 197,
   "metadata": {},
   "outputs": [
    {
     "name": "stdout",
     "output_type": "stream",
     "text": [
      "(303, 303)\n"
     ]
    }
   ],
   "source": [
    "# Recalculate the returns correlation and the cosine similarities\n",
    "word_sims_df = pd.DataFrame(word_sims, index=np.array(data_tickers)[non_zero_indices], columns=np.array(data_tickers)[non_zero_indices])\n",
    "print(word_sims_df.shape) # (300, 300)\n",
    "#print(word_sims_df.head())"
   ]
  },
  {
   "cell_type": "code",
   "execution_count": 198,
   "metadata": {},
   "outputs": [
    {
     "name": "stdout",
     "output_type": "stream",
     "text": [
      "(494, 494)\n"
     ]
    }
   ],
   "source": [
    "rets_cor = returns.corr()\n",
    "print(rets_cor.shape)\n",
    "#print(rets_cor.head())"
   ]
  },
  {
   "cell_type": "code",
   "execution_count": 199,
   "metadata": {},
   "outputs": [
    {
     "name": "stdout",
     "output_type": "stream",
     "text": [
      "  ticker1 ticker2  word_similarity\n",
      "0    ADBE    ADBE         1.000000\n",
      "1    ADBE     AAP         0.752893\n",
      "2    ADBE     AMD         0.765247\n",
      "3    ADBE     AES         0.698108\n",
      "4    ADBE     AMG         0.698750\n"
     ]
    }
   ],
   "source": [
    "# Reshape the word similarities dataframe\n",
    "word_cor = word_sims_df.stack().reset_index()\n",
    "word_cor.columns = ['ticker1', 'ticker2', 'word_similarity']\n",
    "print(word_cor.head())"
   ]
  },
  {
   "cell_type": "code",
   "execution_count": 200,
   "metadata": {},
   "outputs": [
    {
     "name": "stdout",
     "output_type": "stream",
     "text": [
      "  ticker1 ticker2  returns_correlation\n",
      "0     MMM     MMM             1.000000\n",
      "1     MMM     ABT             0.388121\n",
      "2     MMM    ABBV             0.240860\n",
      "3     MMM    ABMD             0.249482\n",
      "4     MMM     ACN             0.447164\n"
     ]
    }
   ],
   "source": [
    "# Reshape the returns correlation dataframe\n",
    "rets_cor = rets_cor.stack().reset_index()\n",
    "rets_cor.columns = ['ticker1', 'ticker2', 'returns_correlation']\n",
    "print(rets_cor.head())"
   ]
  },
  {
   "cell_type": "code",
   "execution_count": 201,
   "metadata": {},
   "outputs": [
    {
     "data": {
      "text/html": [
       "<div>\n",
       "<style scoped>\n",
       "    .dataframe tbody tr th:only-of-type {\n",
       "        vertical-align: middle;\n",
       "    }\n",
       "\n",
       "    .dataframe tbody tr th {\n",
       "        vertical-align: top;\n",
       "    }\n",
       "\n",
       "    .dataframe thead th {\n",
       "        text-align: right;\n",
       "    }\n",
       "</style>\n",
       "<table border=\"1\" class=\"dataframe\">\n",
       "  <thead>\n",
       "    <tr style=\"text-align: right;\">\n",
       "      <th></th>\n",
       "      <th>ticker1</th>\n",
       "      <th>ticker2</th>\n",
       "      <th>returns_correlation</th>\n",
       "      <th>word_similarity</th>\n",
       "    </tr>\n",
       "  </thead>\n",
       "  <tbody>\n",
       "    <tr>\n",
       "      <th>1</th>\n",
       "      <td>ACN</td>\n",
       "      <td>ADBE</td>\n",
       "      <td>0.550949</td>\n",
       "      <td>0.793553</td>\n",
       "    </tr>\n",
       "    <tr>\n",
       "      <th>2</th>\n",
       "      <td>ACN</td>\n",
       "      <td>AMD</td>\n",
       "      <td>0.211802</td>\n",
       "      <td>0.734093</td>\n",
       "    </tr>\n",
       "    <tr>\n",
       "      <th>3</th>\n",
       "      <td>ACN</td>\n",
       "      <td>AAP</td>\n",
       "      <td>0.238929</td>\n",
       "      <td>0.743929</td>\n",
       "    </tr>\n",
       "    <tr>\n",
       "      <th>4</th>\n",
       "      <td>ACN</td>\n",
       "      <td>AES</td>\n",
       "      <td>0.348189</td>\n",
       "      <td>0.716894</td>\n",
       "    </tr>\n",
       "    <tr>\n",
       "      <th>5</th>\n",
       "      <td>ACN</td>\n",
       "      <td>AMG</td>\n",
       "      <td>0.507414</td>\n",
       "      <td>0.662996</td>\n",
       "    </tr>\n",
       "  </tbody>\n",
       "</table>\n",
       "</div>"
      ],
      "text/plain": [
       "  ticker1 ticker2  returns_correlation  word_similarity\n",
       "1     ACN    ADBE             0.550949         0.793553\n",
       "2     ACN     AMD             0.211802         0.734093\n",
       "3     ACN     AAP             0.238929         0.743929\n",
       "4     ACN     AES             0.348189         0.716894\n",
       "5     ACN     AMG             0.507414         0.662996"
      ]
     },
     "execution_count": 201,
     "metadata": {},
     "output_type": "execute_result"
    }
   ],
   "source": [
    "# Merge the two dataframes on ticker pairs\n",
    "all_data = pd.merge(rets_cor, word_cor, on=['ticker1', 'ticker2'])\n",
    "\n",
    "# Remove rows where the tickers are the same and drop any missing values\n",
    "all_data = all_data[all_data['ticker1'] != all_data['ticker2']]\n",
    "all_data = all_data.dropna()\n",
    "all_data.head()"
   ]
  },
  {
   "cell_type": "code",
   "execution_count": 202,
   "metadata": {},
   "outputs": [
    {
     "name": "stdout",
     "output_type": "stream",
     "text": [
      "0.1108769971043175\n"
     ]
    }
   ],
   "source": [
    "print(all_data['returns_correlation'].corr(all_data['word_similarity']))"
   ]
  },
  {
   "cell_type": "code",
   "execution_count": 203,
   "metadata": {},
   "outputs": [
    {
     "data": {
      "text/plain": [
       "Text(0.5, 1.0, 'Returns Correlation')"
      ]
     },
     "execution_count": 203,
     "metadata": {},
     "output_type": "execute_result"
    },
    {
     "data": {
      "image/png": "[encoded data removed]",
      "text/plain": [
       "<Figure size 1200x700 with 1 Axes>"
      ]
     },
     "metadata": {},
     "output_type": "display_data"
    }
   ],
   "source": [
    "# inspect your data- make some histograms\n",
    "plt.figure(figsize=(12,7))\n",
    "all_data.returns_correlation.hist(bins=40)\n",
    "plt.title('Returns Correlation')"
   ]
  },
  {
   "cell_type": "code",
   "execution_count": 204,
   "metadata": {},
   "outputs": [
    {
     "data": {
      "text/plain": [
       "Text(0.5, 1.0, 'Word Similarity')"
      ]
     },
     "execution_count": 204,
     "metadata": {},
     "output_type": "execute_result"
    },
    {
     "data": {
      "image/png": "[encoded data removed]",
      "text/plain": [
       "<Figure size 1200x700 with 1 Axes>"
      ]
     },
     "metadata": {},
     "output_type": "display_data"
    }
   ],
   "source": [
    "plt.figure(figsize=(12,7))\n",
    "all_data.word_similarity.hist(bins=40)\n",
    "plt.title('Word Similarity')"
   ]
  },
  {
   "cell_type": "markdown",
   "metadata": {},
   "source": [
    "### Cleaning our data\n",
    "It seems lots of things are identically 0 (no word overlap) or identically 1 (the MD&A section for one company perfectly overlaps itself). We will exclude those"
   ]
  },
  {
   "cell_type": "code",
   "execution_count": 205,
   "metadata": {},
   "outputs": [
    {
     "name": "stdout",
     "output_type": "stream",
     "text": [
      "(88506, 4)\n"
     ]
    }
   ],
   "source": [
    "print(all_data.shape) # (88506, 4)"
   ]
  },
  {
   "cell_type": "code",
   "execution_count": 207,
   "metadata": {},
   "outputs": [
    {
     "name": "stdout",
     "output_type": "stream",
     "text": [
      "(88504, 4)\n"
     ]
    }
   ],
   "source": [
    "# Exclude rows where word_similarity is 0 or 1 - cleaning already took care of most of this\n",
    "cleaned_data = all_data[(all_data['word_similarity'] != 0) & (all_data['word_similarity'] != 1)]\n",
    "print(cleaned_data.shape)"
   ]
  },
  {
   "cell_type": "code",
   "execution_count": 208,
   "metadata": {},
   "outputs": [
    {
     "data": {
      "text/plain": [
       "Text(0.5, 1.0, 'Returns Correlation')"
      ]
     },
     "execution_count": 208,
     "metadata": {},
     "output_type": "execute_result"
    },
    {
     "data": {
      "image/png": "[encoded data removed]",
      "text/plain": [
       "<Figure size 1200x700 with 1 Axes>"
      ]
     },
     "metadata": {},
     "output_type": "display_data"
    }
   ],
   "source": [
    "# examine histograms again\n",
    "plt.figure(figsize=(12,7))\n",
    "cleaned_data.returns_correlation.hist(bins=40)\n",
    "plt.title('Returns Correlation')"
   ]
  },
  {
   "cell_type": "code",
   "execution_count": 209,
   "metadata": {},
   "outputs": [
    {
     "data": {
      "text/plain": [
       "Text(0.5, 1.0, 'Word Similarity')"
      ]
     },
     "execution_count": 209,
     "metadata": {},
     "output_type": "execute_result"
    },
    {
     "data": {
      "image/png": "[encoded data removed]",
      "text/plain": [
       "<Figure size 1200x700 with 1 Axes>"
      ]
     },
     "metadata": {},
     "output_type": "display_data"
    }
   ],
   "source": [
    "plt.figure(figsize=(12,7))\n",
    "cleaned_data.word_similarity.hist(bins=40)\n",
    "plt.title('Word Similarity')"
   ]
  },
  {
   "cell_type": "code",
   "execution_count": 210,
   "metadata": {},
   "outputs": [
    {
     "name": "stdout",
     "output_type": "stream",
     "text": [
      "0.11084645861261527\n"
     ]
    }
   ],
   "source": [
    "print(cleaned_data['returns_correlation'].corr(cleaned_data['word_similarity']))"
   ]
  },
  {
   "cell_type": "markdown",
   "metadata": {},
   "source": [
    "Lastly, there is a bit of a \"hump\" at low `word_similarity`"
   ]
  },
  {
   "cell_type": "code",
   "execution_count": 211,
   "metadata": {},
   "outputs": [],
   "source": [
    "# Filter out rows with low word_similarity values\n",
    "threshold = 0.45\n",
    "filtered_data = cleaned_data[cleaned_data['word_similarity'] > threshold]"
   ]
  },
  {
   "cell_type": "code",
   "execution_count": 212,
   "metadata": {},
   "outputs": [
    {
     "name": "stdout",
     "output_type": "stream",
     "text": [
      "0.2060993031482555\n"
     ]
    }
   ],
   "source": [
    "print(filtered_data['returns_correlation'].corr(filtered_data['word_similarity']))"
   ]
  },
  {
   "cell_type": "markdown",
   "metadata": {},
   "source": [
    "The contemperaneous correlation is twice as large!"
   ]
  },
  {
   "cell_type": "markdown",
   "metadata": {},
   "source": [
    "## Part 6: Now, repeat the exercise of predicting future returns correlation"
   ]
  },
  {
   "cell_type": "code",
   "execution_count": 213,
   "metadata": {},
   "outputs": [
    {
     "name": "stdout",
     "output_type": "stream",
     "text": [
      "Out of sample performance (R^2 score): 0.039684117233714455\n",
      "Coefficients:\n",
      "word_similarity    0.396044\n",
      "dtype: float64\n"
     ]
    }
   ],
   "source": [
    "# Split the filtered data into features and target\n",
    "X = filtered_data[['word_similarity']]\n",
    "y = filtered_data['returns_correlation']\n",
    "\n",
    "# Split the data into training and testing sets\n",
    "X_train, X_test, y_train, y_test = train_test_split(X, y, test_size=0.3, random_state=42)\n",
    "\n",
    "# Train the model\n",
    "reg = LinearRegression()\n",
    "reg.fit(X_train, y_train)\n",
    "\n",
    "# Evaluate the model\n",
    "score = reg.score(X_test, y_test)\n",
    "coefficients = pd.Series(reg.coef_, index=['word_similarity'])\n",
    "\n",
    "print(f'Out of sample performance (R^2 score): {score}')\n",
    "print('Coefficients:')\n",
    "print(coefficients)"
   ]
  },
  {
   "cell_type": "markdown",
   "metadata": {},
   "source": [
    "This is about 5 times better than before!\n",
    "## $ \\\\ $ \n",
    "## Part 7: What will happen if we include last year's returns correlation as a feature"
   ]
  },
  {
   "cell_type": "code",
   "execution_count": 214,
   "metadata": {},
   "outputs": [
    {
     "name": "stdout",
     "output_type": "stream",
     "text": [
      "2017-12-29 00:00:00\n"
     ]
    }
   ],
   "source": [
    "# Get max date of the prices\n",
    "max_date = prices.index.max()\n",
    "print(max_date)"
   ]
  },
  {
   "cell_type": "code",
   "execution_count": 215,
   "metadata": {},
   "outputs": [
    {
     "name": "stdout",
     "output_type": "stream",
     "text": [
      "                 MMM       ABT      ABBV      ABMD       ACN      ATVI  \\\n",
      "Date                                                                     \n",
      "2017-01-03       NaN       NaN       NaN       NaN       NaN       NaN   \n",
      "2017-01-04  0.001516  0.007939  0.014100  0.030082  0.002404  0.019651   \n",
      "2017-01-05 -0.003421  0.008638  0.007584 -0.008035 -0.014991  0.015525   \n",
      "2017-01-06  0.002926  0.027204  0.000314  0.005313  0.011392 -0.000791   \n",
      "2017-01-09 -0.005386 -0.000981  0.006584  0.014642 -0.011178 -0.005539   \n",
      "\n",
      "                ADBE       AMD       AAP       AES  ...      WLTW      WYNN  \\\n",
      "Date                                                ...                       \n",
      "2017-01-03       NaN       NaN       NaN       NaN  ...       NaN       NaN   \n",
      "2017-01-04  0.006378  0.000000  0.008206 -0.008576  ...  0.012334  0.032243   \n",
      "2017-01-05  0.016996 -0.016623 -0.000698 -0.012976  ...  0.009618  0.012849   \n",
      "2017-01-06  0.022566  0.007117 -0.013091  0.035933  ...  0.006510  0.010827   \n",
      "2017-01-09  0.002493  0.015018 -0.000590 -0.024535  ... -0.006074  0.003462   \n",
      "\n",
      "                 XEL       XRX      XLNX       XYL       YUM       ZBH  \\\n",
      "Date                                                                     \n",
      "2017-01-03       NaN       NaN       NaN       NaN       NaN       NaN   \n",
      "2017-01-04  0.004431  0.037736 -0.007279  0.014904  0.003639  0.009194   \n",
      "2017-01-05  0.000000 -0.004196 -0.012108 -0.009129  0.003310  0.006425   \n",
      "2017-01-06  0.002941 -0.015449  0.019334 -0.007010  0.012097  0.000095   \n",
      "2017-01-09 -0.015152 -0.005706  0.000169 -0.004236  0.002794  0.019436   \n",
      "\n",
      "                ZION       ZTS  \n",
      "Date                            \n",
      "2017-01-03       NaN       NaN  \n",
      "2017-01-04  0.014358  0.009703  \n",
      "2017-01-05 -0.016210 -0.003327  \n",
      "2017-01-06  0.006498  0.003152  \n",
      "2017-01-09 -0.010837 -0.002773  \n",
      "\n",
      "[5 rows x 494 columns]\n"
     ]
    },
    {
     "name": "stderr",
     "output_type": "stream",
     "text": [
      "/var/folders/tl/1_9jjfjj3wb0nqls4mbmjchw0000gn/T/ipykernel_34104/601945902.py:2: FutureWarning: The default fill_method='pad' in DataFrame.pct_change is deprecated and will be removed in a future version. Either fill in any non-leading NA values prior to calling pct_change or specify 'fill_method=None' to not fill NA values.\n",
      "  last_year_returns = prices.loc['2017-01-01':'2018-01-01'].pct_change()\n"
     ]
    }
   ],
   "source": [
    "# Calculate last year's returns correlation (2017)\n",
    "last_year_returns = prices.loc['2017-01-01':'2018-01-01'].pct_change()\n",
    "print(last_year_returns.head())"
   ]
  },
  {
   "cell_type": "code",
   "execution_count": 216,
   "metadata": {},
   "outputs": [
    {
     "name": "stdout",
     "output_type": "stream",
     "text": [
      "  ticker1 ticker2  last_year_corr\n",
      "0     MMM     MMM        1.000000\n",
      "1     MMM     ABT        0.205479\n",
      "2     MMM    ABBV        0.123827\n",
      "3     MMM    ABMD        0.079086\n",
      "4     MMM     ACN        0.238030\n"
     ]
    }
   ],
   "source": [
    "# Reshape the returns correlation dataframe\n",
    "last_year_corr = last_year_returns.corr().stack().reset_index()\n",
    "last_year_corr.columns = ['ticker1', 'ticker2', 'last_year_corr']\n",
    "print(last_year_corr.head())"
   ]
  },
  {
   "cell_type": "code",
   "execution_count": 217,
   "metadata": {},
   "outputs": [
    {
     "name": "stdout",
     "output_type": "stream",
     "text": [
      "  ticker1 ticker2  returns_correlation  word_similarity  last_year_corr\n",
      "0     ACN    ADBE             0.550949         0.793553        0.275787\n",
      "1     ACN     AMD             0.211802         0.734093        0.073714\n",
      "2     ACN     AAP             0.238929         0.743929        0.059294\n",
      "3     ACN     AES             0.348189         0.716894        0.149002\n",
      "4     ACN     AMG             0.507414         0.662996        0.274935\n",
      "(80460, 5)\n"
     ]
    }
   ],
   "source": [
    "# Merge last year's correlation with the current data\n",
    "data_df = pd.merge(filtered_data, last_year_corr, on=['ticker1', 'ticker2'])\n",
    "print(data_df.head())\n",
    "print(data_df.shape)"
   ]
  },
  {
   "cell_type": "code",
   "execution_count": 218,
   "metadata": {},
   "outputs": [
    {
     "name": "stdout",
     "output_type": "stream",
     "text": [
      "   word_similarity  last_year_corr\n",
      "0         0.793553        0.275787\n",
      "1         0.734093        0.073714\n",
      "2         0.743929        0.059294\n",
      "3         0.716894        0.149002\n",
      "4         0.662996        0.274935\n",
      "0    0.550949\n",
      "1    0.211802\n",
      "2    0.238929\n",
      "3    0.348189\n",
      "4    0.507414\n",
      "Name: returns_correlation, dtype: float64\n",
      "(80460, 2) (80460,)\n"
     ]
    }
   ],
   "source": [
    "# Include last year's correlation as a feature\n",
    "# Split the filtered data into features and target\n",
    "X = data_df[['word_similarity','last_year_corr']]\n",
    "y = data_df['returns_correlation']\n",
    "print(X.head())\n",
    "print(y.head())\n",
    "print(X.shape, y.shape)"
   ]
  },
  {
   "cell_type": "code",
   "execution_count": 219,
   "metadata": {},
   "outputs": [
    {
     "name": "stdout",
     "output_type": "stream",
     "text": [
      "(56322, 2) (24138, 2) (56322,) (24138,)\n"
     ]
    }
   ],
   "source": [
    "# Split the data into training and testing sets\n",
    "X_train, X_test, y_train, y_test = train_test_split(X, y, test_size=0.3, random_state=42)\n",
    "print(X_train.shape, X_test.shape, y_train.shape, y_test.shape)"
   ]
  },
  {
   "cell_type": "code",
   "execution_count": 220,
   "metadata": {},
   "outputs": [
    {
     "name": "stdout",
     "output_type": "stream",
     "text": [
      "Out of sample performance (R^2 score): 0.3879891695549169\n",
      "Coefficients:\n",
      "word_similarity    0.226121\n",
      "last_year_corr     0.697921\n",
      "dtype: float64\n"
     ]
    }
   ],
   "source": [
    "# Train the model\n",
    "reg = LinearRegression()\n",
    "reg.fit(X_train, y_train)\n",
    "\n",
    "# Evaluate the model\n",
    "score = reg.score(X_test, y_test)\n",
    "coefficients = pd.Series(reg.coef_, index=[['word_similarity','last_year_corr']])\n",
    "\n",
    "print(f'Out of sample performance (R^2 score): {score}')\n",
    "print('Coefficients:')\n",
    "print(coefficients)"
   ]
  },
  {
   "cell_type": "markdown",
   "metadata": {},
   "source": [
    "Indeed, we do much better, but the word features still help!"
   ]
  }
 ],
 "metadata": {
  "kernelspec": {
   "display_name": "venv_nlp",
   "language": "python",
   "name": "python3"
  },
  "language_info": {
   "codemirror_mode": {
    "name": "ipython",
    "version": 3
   },
   "file_extension": ".py",
   "mimetype": "text/x-python",
   "name": "python",
   "nbconvert_exporter": "python",
   "pygments_lexer": "ipython3",
   "version": "3.10.11"
  }
 },
 "nbformat": 4,
 "nbformat_minor": 4
}
