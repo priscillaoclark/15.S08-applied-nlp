{
 "cells": [
  {
   "cell_type": "markdown",
   "metadata": {},
   "source": [
    "# Problem 3: The Company Name Comparer (40%)"
   ]
  },
  {
   "cell_type": "markdown",
   "metadata": {},
   "source": [
    "A common problem in NLP for finance is automatically comparing two company names to see if they are the same. \n",
    "Intuitively, this is a problem that is fairly easy for humans: \n",
    " - `S and P Global` and `S&P Global`\n",
    " - `JPMorgan` and `JP Morgan`\n",
    " - `Google Inc.` and `Google`\n",
    "\n",
    "However, the number of ways in which companies can be represented, and the intricacies of corporate \n",
    "structure make it difficult to craft rules to capture this behavior.\n",
    "This makes the problem perfect for a machine learning approach. \n",
    "We will see that it is particularly well suited to deep learning, since some \n",
    "features will be difficult to craft by hand. \n",
    "In the end of this problem we will build a neural network that accepts TWO strings as input\n",
    "and produces a single floating point output, which is the probability that\n",
    "the two organizations refer to the same thing. "
   ]
  },
  {
   "cell_type": "code",
   "execution_count": 1,
   "metadata": {},
   "outputs": [
    {
     "name": "stdout",
     "output_type": "stream",
     "text": [
      "%pylab is deprecated, use %matplotlib inline and import the required libraries.\n",
      "Populating the interactive namespace from numpy and matplotlib\n"
     ]
    }
   ],
   "source": [
    "import numpy as np\n",
    "import pandas as pd\n",
    "%pylab inline\n",
    "np.random.seed(1234)"
   ]
  },
  {
   "cell_type": "markdown",
   "metadata": {},
   "source": [
    "## Part 0: Load the data"
   ]
  },
  {
   "cell_type": "markdown",
   "metadata": {},
   "source": [
    "Wikipedia is an excellent source of natural language data. \n",
    "We need a data set of many ways that we can refer to the same company.\n",
    "Here we will use the page redicts- if a certain page automatically \n",
    "redirects to a second page, we can say with high confidence that the \n",
    "title of the first page unambiguously refers to the same thing as \n",
    "the second. The lack of ambiguity is important! For example, we \n",
    "do not want `Amazon` to be another way to refer to `amazon.com` since\n",
    "it can also refer to the `amazon river`. See [here](https://en.wikipedia.org/wiki/Amazon) for more.\n",
    "\n",
    "In `org_redirects.csv` you will find data on the page redirects that have been \n",
    "filtered down to everything considered an organization (this is not only companies, \n",
    "but it's close). The file has columns\n",
    " - `souce_id` a page id for the source page\n",
    " - `source_title`: the page title for the source\n",
    " - `target_id`: the page id for the page to which the source will redirect\n",
    " - `target_title`: the title of the page to which the source redirects\n",
    " - `target_qid`: the id of the page in wikidata, the accompanying knowledge graph to wikipedia\n",
    " - `edge_type`: the type of organization the target item has in wikidata\n",
    "\n",
    "For our purposes, we can consider the `source_title` and `target_title` two \n",
    "ways to unambiguously refer to the same organization. We will teach an algorithm\n",
    "to recognize the patterns in these data.\n",
    "\n",
    "\n",
    "TODO\n",
    "1. Load the data\n",
    "2. Explore the data: \n",
    "   - What is the distribution of words / characters?\n",
    "   - Are there any tokens that are particularly common?"
   ]
  },
  {
   "cell_type": "code",
   "execution_count": 2,
   "metadata": {},
   "outputs": [
    {
     "name": "stdout",
     "output_type": "stream",
     "text": [
      "(1096901, 7)\n"
     ]
    },
    {
     "data": {
      "text/html": [
       "<div>\n",
       "<style scoped>\n",
       "    .dataframe tbody tr th:only-of-type {\n",
       "        vertical-align: middle;\n",
       "    }\n",
       "\n",
       "    .dataframe tbody tr th {\n",
       "        vertical-align: top;\n",
       "    }\n",
       "\n",
       "    .dataframe thead th {\n",
       "        text-align: right;\n",
       "    }\n",
       "</style>\n",
       "<table border=\"1\" class=\"dataframe\">\n",
       "  <thead>\n",
       "    <tr style=\"text-align: right;\">\n",
       "      <th></th>\n",
       "      <th>source_id</th>\n",
       "      <th>source_title</th>\n",
       "      <th>target_id</th>\n",
       "      <th>target_title</th>\n",
       "      <th>target_qid</th>\n",
       "      <th>qid</th>\n",
       "      <th>edge_type</th>\n",
       "    </tr>\n",
       "  </thead>\n",
       "  <tbody>\n",
       "    <tr>\n",
       "      <th>0</th>\n",
       "      <td>20</td>\n",
       "      <td>AfghanistanMilitary</td>\n",
       "      <td>20182</td>\n",
       "      <td>Afghan_Armed_Forces</td>\n",
       "      <td>11062919</td>\n",
       "      <td>11062919</td>\n",
       "      <td>8473</td>\n",
       "    </tr>\n",
       "    <tr>\n",
       "      <th>1</th>\n",
       "      <td>820</td>\n",
       "      <td>Afghanistan/Military</td>\n",
       "      <td>20182</td>\n",
       "      <td>Afghan_Armed_Forces</td>\n",
       "      <td>11062919</td>\n",
       "      <td>11062919</td>\n",
       "      <td>8473</td>\n",
       "    </tr>\n",
       "    <tr>\n",
       "      <th>2</th>\n",
       "      <td>8771295</td>\n",
       "      <td>Afghan_Military</td>\n",
       "      <td>20182</td>\n",
       "      <td>Afghan_Armed_Forces</td>\n",
       "      <td>11062919</td>\n",
       "      <td>11062919</td>\n",
       "      <td>8473</td>\n",
       "    </tr>\n",
       "    <tr>\n",
       "      <th>3</th>\n",
       "      <td>8916870</td>\n",
       "      <td>Afghan_Military_Force</td>\n",
       "      <td>20182</td>\n",
       "      <td>Afghan_Armed_Forces</td>\n",
       "      <td>11062919</td>\n",
       "      <td>11062919</td>\n",
       "      <td>8473</td>\n",
       "    </tr>\n",
       "    <tr>\n",
       "      <th>4</th>\n",
       "      <td>8916892</td>\n",
       "      <td>Afghan_Militia_Force</td>\n",
       "      <td>20182</td>\n",
       "      <td>Afghan_Armed_Forces</td>\n",
       "      <td>11062919</td>\n",
       "      <td>11062919</td>\n",
       "      <td>8473</td>\n",
       "    </tr>\n",
       "  </tbody>\n",
       "</table>\n",
       "</div>"
      ],
      "text/plain": [
       "   source_id           source_title  target_id         target_title  \\\n",
       "0         20    AfghanistanMilitary      20182  Afghan_Armed_Forces   \n",
       "1        820   Afghanistan/Military      20182  Afghan_Armed_Forces   \n",
       "2    8771295        Afghan_Military      20182  Afghan_Armed_Forces   \n",
       "3    8916870  Afghan_Military_Force      20182  Afghan_Armed_Forces   \n",
       "4    8916892   Afghan_Militia_Force      20182  Afghan_Armed_Forces   \n",
       "\n",
       "   target_qid       qid  edge_type  \n",
       "0    11062919  11062919       8473  \n",
       "1    11062919  11062919       8473  \n",
       "2    11062919  11062919       8473  \n",
       "3    11062919  11062919       8473  \n",
       "4    11062919  11062919       8473  "
      ]
     },
     "execution_count": 2,
     "metadata": {},
     "output_type": "execute_result"
    }
   ],
   "source": [
    "df = pd.read_csv(\"org_redirects.csv\")\n",
    "print(df.shape)\n",
    "df.head()"
   ]
  },
  {
   "cell_type": "markdown",
   "metadata": {},
   "source": [
    "## Part 1: Process, Clean, and Filter"
   ]
  },
  {
   "cell_type": "markdown",
   "metadata": {},
   "source": [
    "We need to have the data in slightly more usable form. \n",
    "For simplicity, we will want to only deal with lowercase characters. \n",
    "Additionally, we will want to remove special characters from the source\n",
    "and target titles.\n",
    "\n",
    "Additionally, some redirects require special knowledge, that we don't expect the \n",
    "algorithm to be able to learn. \n",
    "\n",
    "TODO: \n",
    " - create two new columns `source_clean` and `target_clean` which are lowercased versions of the original data with the characters `,_/` replaced by spaces\n",
    " - NB: remember to drop rows that are now duplicates because of the string cleaning we've done"
   ]
  },
  {
   "cell_type": "code",
   "execution_count": 3,
   "metadata": {},
   "outputs": [
    {
     "name": "stdout",
     "output_type": "stream",
     "text": [
      "Shape before dropping duplicates: (1096901, 9)\n"
     ]
    }
   ],
   "source": [
    "import re # probably a useful import \n",
    "\n",
    "def normalize_string(s):\n",
    "    # your code here\n",
    "    # normalize the data by lowercasing, and replace certain characters with whitespace\n",
    "    # careful, replace 1 or more whitespace characters with a single whitespace\n",
    "    s = s.lower()\n",
    "    s = re.sub(r'[,_/]', ' ', s)\n",
    "    s = re.sub(r'\\s+', ' ', s)\n",
    "    s = s.strip()\n",
    "    \n",
    "    return s\n",
    "\n",
    "df[\"clean_source\"] = df[\"source_title\"].apply(normalize_string)\n",
    "df[\"clean_target\"] = df[\"target_title\"].apply(normalize_string)\n",
    "\n",
    "# drop the duplicates here. \n",
    "# you should have approx 1.1 million examples before dropping duplicates\n",
    "# and approx 1.04 million examples after\n",
    "print(f\"Shape before dropping duplicates: {df.shape}\")"
   ]
  },
  {
   "cell_type": "code",
   "execution_count": 4,
   "metadata": {},
   "outputs": [
    {
     "name": "stdout",
     "output_type": "stream",
     "text": [
      "Shape after dropping duplicates: (1043573, 9)\n"
     ]
    }
   ],
   "source": [
    "df = df.drop_duplicates(subset=['clean_source', 'clean_target'])\n",
    "print(f\"Shape after dropping duplicates: {df.shape}\")"
   ]
  },
  {
   "cell_type": "markdown",
   "metadata": {},
   "source": [
    "## Part 2: Make training data"
   ]
  },
  {
   "cell_type": "markdown",
   "metadata": {},
   "source": [
    "We only have positive examples, ie two ways of referring to the same organization. \n",
    "We need negative examples in order for the network to learn what is not considered the same orgnanization. \n",
    "There are many ways to do this, but we will use the most simple one- random examples from the training data. \n",
    "\n",
    "TODO:\n",
    " - make another copy of our training data\n",
    " - shuffle either the source or target columns so that they no longer line up\n",
    " - add these new data as negative examples to the training data\n",
    " - split the data into two: train and test \n",
    "\n",
    "\n",
    "Now we have a dataset with approximately 50% positive examples\n",
    "\n",
    "TODO (answers these questions in text)\n",
    " - What are the benefits of this approach\n",
    " - What are the downsides of this appoach\n",
    " - What would be a more sophisticated way to generate negative examples\n"
   ]
  },
  {
   "cell_type": "code",
   "execution_count": 5,
   "metadata": {},
   "outputs": [],
   "source": [
    "# wrangle the data here\n",
    "# you should have approximately twice as many examples now\n",
    "# the mean `y` value should be about 0.5\n",
    "import numpy as np\n",
    "from sklearn.model_selection import train_test_split\n",
    "\n",
    "positive_pairs = df[['clean_source', 'clean_target']].copy()\n",
    "positive_pairs['y'] = 1\n",
    "\n",
    "negative_pairs = df[['clean_source', 'clean_target']].copy()\n",
    "negative_pairs['clean_target'] = np.random.permutation(negative_pairs['clean_target'])\n",
    "negative_pairs['y'] = 0\n",
    "\n",
    "all_pairs = pd.concat([positive_pairs, negative_pairs], axis=0)\n",
    "all_pairs = all_pairs.sample(frac=1, random_state=42).reset_index(drop=True)"
   ]
  },
  {
   "cell_type": "code",
   "execution_count": 6,
   "metadata": {},
   "outputs": [
    {
     "name": "stdout",
     "output_type": "stream",
     "text": [
      "Total examples: 2087146\n",
      "Average label value: 0.500\n",
      "Training examples: 1669716\n",
      "Test examples: 417430\n"
     ]
    }
   ],
   "source": [
    "# split randomly into train and test\n",
    "train_data, test_data = train_test_split(all_pairs, test_size=0.2, random_state=42)\n",
    "print(f\"Total examples: {len(all_pairs)}\")\n",
    "print(f\"Average label value: {all_pairs['y'].mean():.3f}\")\n",
    "print(f\"Training examples: {len(train_data)}\")\n",
    "print(f\"Test examples: {len(test_data)}\")"
   ]
  },
  {
   "cell_type": "markdown",
   "metadata": {},
   "source": [
    "**Comments**\n",
    "\n",
    "Benefits:\n",
    "- Simple and fast to implement\n",
    "- Computationally efficient\n",
    "- Guarantees a balanced dataset (50-50 split between positive and negative examples)\n",
    "- Preserves the natural distribution of company name formats in both columns\n",
    "- Easy to scale - we can generate as many negative examples as needed\n",
    "\n",
    "Downsides:\n",
    "- May create \"easy\" negative examples that don't challenge the model\n",
    "- Could accidentally create some false negatives (when randomly paired companies are actually the same)\n",
    "- Doesn't capture real-world scenarios where company names are intentionally similar but different\n",
    "- May not help the model learn subtle distinctions between similar but different companies\n",
    "- Random pairing might not expose the model to the most important edge cases\n",
    "\n",
    "More sophisticated approaches to generate negative examples:\n",
    "\n",
    "Controlled Character Modification:\n",
    "- Make specific character-level changes to company names\n",
    "- Replace/add/remove legal entity suffixes (Inc, LLC, Ltd)\n",
    "- Modify spacing and punctuation in controlled ways\n",
    "- This would help the model learn about meaningful vs non-meaningful differences\n",
    "\n",
    "Similar Company Selection:\n",
    "- Use string similarity metrics (Levenshtein distance, Jaccard similarity) to find similar but different companies\n",
    "- This would create \"hard\" negative examples that force the model to learn subtle distinctions\n",
    "- Example: \"American Airlines\" vs \"American Express\"\n",
    "\n",
    "Industry-Based Pairing:\n",
    "- Use company metadata to pair companies from the same industry\n",
    "- This would create more realistic negative examples of companies that might actually be confused\n",
    "\n",
    "Subsidiary/Parent Company Relationships:\n",
    "- Use corporate structure data to create negative examples from related but distinct entities\n",
    "- Example: \"Google\" vs \"Alphabet Inc\"\n",
    "\n",
    "Known Disambiguation Cases:\n",
    "- Use Wikipedia disambiguation pages to find companies with similar names that are definitely different\n",
    "- This would provide high-quality negative examples based on real-world cases\n",
    "\n",
    "Rule-Based Generation:\n",
    "- Create systematic variations of company names\n",
    "- Change common words (e.g., \"North\" to \"South\", \"First\" to \"Second\")\n",
    "- This would help the model learn semantic differences"
   ]
  },
  {
   "cell_type": "markdown",
   "metadata": {},
   "source": [
    "## Part 3: Turn the data into numpy arrays"
   ]
  },
  {
   "cell_type": "markdown",
   "metadata": {},
   "source": [
    "We will use a character level representation, since organizations have too\n",
    "many special words to use a word-level representation. \n",
    "\n",
    "Eventually, we will build a neural network that accepts TWO strings as input\n",
    "and produces a single floating point output, which is the probability that\n",
    "the source and target refer to the same thing.\n",
    "\n",
    "TODO:\n",
    " - turn the data into sequences of characters that are integer encoded\n",
    "   - use the `Tokenizer` with `char_level=True`\n",
    "   - use `tokenizer.text_to_sequences` to turn the characters into integer-encoded sequences\n",
    " - pad the sequences to a constant length of 30 characters\n",
    " - write two functions, `train_gen` and `test_gen` which yield data for the network in the right form.\n",
    "   - data should be yielded as `yield [input_1, input_2], output`\n",
    "   - you will likely find it easier to have these functions one-hot-encode the characters on the fly instead of holding very large numpy arrays in memory.\n",
    " - test your functions and make sure you can recover the original input"
   ]
  },
  {
   "cell_type": "code",
   "execution_count": 7,
   "metadata": {},
   "outputs": [],
   "source": [
    "from tensorflow.keras.preprocessing.sequence import pad_sequences\n",
    "from tensorflow.keras.preprocessing.text import Tokenizer"
   ]
  },
  {
   "cell_type": "code",
   "execution_count": 8,
   "metadata": {},
   "outputs": [],
   "source": [
    "def text_iterator():\n",
    "    \"\"\"This is a helpful iterator\n",
    "    \n",
    "    It will yield all the data in `clean_source` and `clean_target` \n",
    "    in the training data, without making another copy\n",
    "    \"\"\"\n",
    "    for item in train_data[\"clean_source\"]:\n",
    "        yield item\n",
    "    for item in train_data[\"clean_target\"]:\n",
    "        yield item\n",
    "\n",
    "\n",
    "tok = Tokenizer(lower=True, char_level=True, num_words=140)\n",
    "tok.fit_on_texts(text_iterator())"
   ]
  },
  {
   "cell_type": "code",
   "execution_count": 9,
   "metadata": {},
   "outputs": [
    {
     "name": "stdout",
     "output_type": "stream",
     "text": [
      "(1669716, 30) (417430, 30)\n"
     ]
    }
   ],
   "source": [
    "# for both train and test\n",
    "#   for the src and target\n",
    "#   - turn each into integer sequence\n",
    "#   - pad the sequences \n",
    "# make y values for both train and test\n",
    "MAX_SEQ_LEN = 30\n",
    "\n",
    "x_train_src = pad_sequences(tok.texts_to_sequences(train_data['clean_source']), \n",
    "                          maxlen=MAX_SEQ_LEN)\n",
    "x_train_targ = pad_sequences(tok.texts_to_sequences(train_data['clean_target']), \n",
    "                           maxlen=MAX_SEQ_LEN)\n",
    "y_train = train_data['y'].values\n",
    "\n",
    "\n",
    "x_test_src = pad_sequences(tok.texts_to_sequences(test_data['clean_source']), \n",
    "                         maxlen=MAX_SEQ_LEN)\n",
    "x_test_targ = pad_sequences(tok.texts_to_sequences(test_data['clean_target']), \n",
    "                          maxlen=MAX_SEQ_LEN)\n",
    "y_test = test_data['y'].values\n",
    "\n",
    "print(x_train_targ.shape, x_test_targ.shape)"
   ]
  },
  {
   "cell_type": "code",
   "execution_count": 10,
   "metadata": {},
   "outputs": [],
   "source": [
    "MAX_CHARS = tok.num_words + 1"
   ]
  },
  {
   "cell_type": "code",
   "execution_count": 11,
   "metadata": {},
   "outputs": [],
   "source": [
    "from tensorflow.keras.utils import to_categorical\n",
    "import funcy\n",
    "\n",
    "def train_gen(batch_size):\n",
    "    # your code here\n",
    "    # the last line should probably look like\n",
    "    #    `yield [batch_src, batch_targ], batch_y`\n",
    "    \n",
    "    # don't forget to one hot encode the characaters\n",
    "    #   keras.utils.to_categorical is helpful (num_classes=MAX_CHARS)\n",
    "    \n",
    "    # if you're feeling enterprising, you can randomly flip\n",
    "    # the source and target data, which serves as a way to augment\n",
    "    # the training data. Consider                \n",
    "#             if np.random.rand() > 0.5:\n",
    "#                 batch_src, batch_targ = batch_targ, batch_src\n",
    "    while True:\n",
    "        indices = np.random.permutation(len(x_train_src))\n",
    "        \n",
    "        for i in range(0, len(indices), batch_size):\n",
    "            batch_indices = indices[i:i + batch_size]\n",
    "            \n",
    "            batch_src = x_train_src[batch_indices]\n",
    "            batch_targ = x_train_targ[batch_indices]\n",
    "            batch_y = y_train[batch_indices]\n",
    "\n",
    "            if np.random.rand() > 0.5:\n",
    "                batch_src, batch_targ = batch_targ, batch_src\n",
    "            \n",
    "            batch_src = to_categorical(batch_src, num_classes=MAX_CHARS).astype('float32')\n",
    "            batch_targ = to_categorical(batch_targ, num_classes=MAX_CHARS).astype('float32')\n",
    "            batch_y = batch_y.astype('float32')\n",
    "            \n",
    "            yield (batch_src, batch_targ), batch_y\n",
    "            \n",
    "\n",
    "def val_gen(batch_size):\n",
    "    # your code here, it should be very similar to the function above\n",
    "    # no need to flip the src and targets randomly\n",
    "    while True:\n",
    "        for i in range(0, len(x_test_src), batch_size):\n",
    "\n",
    "            batch_src = x_test_src[i:i + batch_size]\n",
    "            batch_targ = x_test_targ[i:i + batch_size]\n",
    "            batch_y = y_test[i:i + batch_size]\n",
    "            \n",
    "            batch_src = to_categorical(batch_src, num_classes=MAX_CHARS).astype('float32')\n",
    "            batch_targ = to_categorical(batch_targ, num_classes=MAX_CHARS).astype('float32')\n",
    "            batch_y = batch_y.astype('float32')\n",
    "            \n",
    "            yield (batch_src, batch_targ), batch_y"
   ]
  },
  {
   "cell_type": "code",
   "execution_count": 12,
   "metadata": {},
   "outputs": [
    {
     "name": "stdout",
     "output_type": "stream",
     "text": [
      "Sample batch shapes: (32, 30, 141) (32, 30, 141) (32,)\n",
      "Sample decoded text: wmab-fm\n"
     ]
    }
   ],
   "source": [
    "# check the shapes, make sure you can recover the data and it looks normal\n",
    "train_iter = train_gen(32)\n",
    "val_iter = val_gen(32)\n",
    "\n",
    "# Get sample batches\n",
    "[src_batch, targ_batch], batch_y = next(train_iter)\n",
    "\n",
    "print(\"Sample batch shapes:\", src_batch.shape, targ_batch.shape, batch_y.shape)\n",
    "\n",
    "# Decode a sample sequence to verify data\n",
    "sample_text = ''.join([tok.index_word.get(i, '') for i in \n",
    "                      np.argmax(src_batch[0], axis=-1) if i != 0])\n",
    "print(\"Sample decoded text:\", sample_text)"
   ]
  },
  {
   "cell_type": "markdown",
   "metadata": {},
   "source": [
    "## Part 4: Build and fit a model"
   ]
  },
  {
   "cell_type": "markdown",
   "metadata": {},
   "source": [
    "The beauty of keras is that it is flexible enough to allow us to do almost arbitrary matrix operations. \n",
    "In this model we will use several `Conv1D`-`MaxPooling1D` combinations to\n",
    "encode or process the organization names. However, we will use the __SAME__ blocks for both \n",
    "the source and target names, in order to \"force\" the network to learn operations that\n",
    "distill the strings down into features that make them easy to compare.\n",
    "\n",
    "Build a keras model that \n",
    " - has __two__ text inputs\n",
    " - has several conv/pooling blocks to process the inputs\n",
    " - uses the __same__ blocks to process both of the text inputs\n",
    " - concatentates the result of the convolutions together into one vector\n",
    " - use one or more `Dense` layers to output a single (`float`), which is the probability that the two organizations are the same\n",
    "\n",
    "Hint: `keras.models.Model` can accept lists of inputs and outputs in addition to single tensors. \n",
    " - `model = Model([input_1, input_2], output)`"
   ]
  },
  {
   "cell_type": "code",
   "execution_count": 13,
   "metadata": {},
   "outputs": [],
   "source": [
    "from tensorflow.keras.layers import (\n",
    "    Conv1D,\n",
    "    MaxPooling1D,\n",
    "    LSTM,\n",
    "    Dense,\n",
    "    Dropout,\n",
    "    Input,\n",
    "    Concatenate,\n",
    "    GlobalMaxPooling1D,\n",
    ")\n",
    "from tensorflow.keras.models import Model\n",
    "import tensorflow.keras.backend as K"
   ]
  },
  {
   "cell_type": "code",
   "execution_count": 14,
   "metadata": {},
   "outputs": [
    {
     "data": {
      "text/html": [
       "<pre style=\"white-space:pre;overflow-x:auto;line-height:normal;font-family:Menlo,'DejaVu Sans Mono',consolas,'Courier New',monospace\"><span style=\"font-weight: bold\">Model: \"functional\"</span>\n",
       "</pre>\n"
      ],
      "text/plain": [
       "\u001b[1mModel: \"functional\"\u001b[0m\n"
      ]
     },
     "metadata": {},
     "output_type": "display_data"
    },
    {
     "data": {
      "text/html": [
       "<pre style=\"white-space:pre;overflow-x:auto;line-height:normal;font-family:Menlo,'DejaVu Sans Mono',consolas,'Courier New',monospace\">┏━━━━━━━━━━━━━━━━━━━━━┳━━━━━━━━━━━━━━━━━━━┳━━━━━━━━━━━━┳━━━━━━━━━━━━━━━━━━━┓\n",
       "┃<span style=\"font-weight: bold\"> Layer (type)        </span>┃<span style=\"font-weight: bold\"> Output Shape      </span>┃<span style=\"font-weight: bold\">    Param # </span>┃<span style=\"font-weight: bold\"> Connected to      </span>┃\n",
       "┡━━━━━━━━━━━━━━━━━━━━━╇━━━━━━━━━━━━━━━━━━━╇━━━━━━━━━━━━╇━━━━━━━━━━━━━━━━━━━┩\n",
       "│ input_layer         │ (<span style=\"color: #00d7ff; text-decoration-color: #00d7ff\">None</span>, <span style=\"color: #00af00; text-decoration-color: #00af00\">30</span>, <span style=\"color: #00af00; text-decoration-color: #00af00\">141</span>)   │          <span style=\"color: #00af00; text-decoration-color: #00af00\">0</span> │ -                 │\n",
       "│ (<span style=\"color: #0087ff; text-decoration-color: #0087ff\">InputLayer</span>)        │                   │            │                   │\n",
       "├─────────────────────┼───────────────────┼────────────┼───────────────────┤\n",
       "│ input_layer_1       │ (<span style=\"color: #00d7ff; text-decoration-color: #00d7ff\">None</span>, <span style=\"color: #00af00; text-decoration-color: #00af00\">30</span>, <span style=\"color: #00af00; text-decoration-color: #00af00\">141</span>)   │          <span style=\"color: #00af00; text-decoration-color: #00af00\">0</span> │ -                 │\n",
       "│ (<span style=\"color: #0087ff; text-decoration-color: #0087ff\">InputLayer</span>)        │                   │            │                   │\n",
       "├─────────────────────┼───────────────────┼────────────┼───────────────────┤\n",
       "│ conv1d (<span style=\"color: #0087ff; text-decoration-color: #0087ff\">Conv1D</span>)     │ (<span style=\"color: #00d7ff; text-decoration-color: #00d7ff\">None</span>, <span style=\"color: #00af00; text-decoration-color: #00af00\">30</span>, <span style=\"color: #00af00; text-decoration-color: #00af00\">128</span>)   │     <span style=\"color: #00af00; text-decoration-color: #00af00\">90,368</span> │ input_layer[<span style=\"color: #00af00; text-decoration-color: #00af00\">0</span>][<span style=\"color: #00af00; text-decoration-color: #00af00\">0</span>… │\n",
       "│                     │                   │            │ input_layer_1[<span style=\"color: #00af00; text-decoration-color: #00af00\">0</span>]… │\n",
       "├─────────────────────┼───────────────────┼────────────┼───────────────────┤\n",
       "│ max_pooling1d       │ (<span style=\"color: #00d7ff; text-decoration-color: #00d7ff\">None</span>, <span style=\"color: #00af00; text-decoration-color: #00af00\">10</span>, <span style=\"color: #00af00; text-decoration-color: #00af00\">128</span>)   │          <span style=\"color: #00af00; text-decoration-color: #00af00\">0</span> │ conv1d[<span style=\"color: #00af00; text-decoration-color: #00af00\">0</span>][<span style=\"color: #00af00; text-decoration-color: #00af00\">0</span>],     │\n",
       "│ (<span style=\"color: #0087ff; text-decoration-color: #0087ff\">MaxPooling1D</span>)      │                   │            │ conv1d[<span style=\"color: #00af00; text-decoration-color: #00af00\">1</span>][<span style=\"color: #00af00; text-decoration-color: #00af00\">0</span>]      │\n",
       "├─────────────────────┼───────────────────┼────────────┼───────────────────┤\n",
       "│ conv1d_1 (<span style=\"color: #0087ff; text-decoration-color: #0087ff\">Conv1D</span>)   │ (<span style=\"color: #00d7ff; text-decoration-color: #00d7ff\">None</span>, <span style=\"color: #00af00; text-decoration-color: #00af00\">10</span>, <span style=\"color: #00af00; text-decoration-color: #00af00\">128</span>)   │     <span style=\"color: #00af00; text-decoration-color: #00af00\">82,048</span> │ max_pooling1d[<span style=\"color: #00af00; text-decoration-color: #00af00\">0</span>]… │\n",
       "│                     │                   │            │ max_pooling1d[<span style=\"color: #00af00; text-decoration-color: #00af00\">1</span>]… │\n",
       "├─────────────────────┼───────────────────┼────────────┼───────────────────┤\n",
       "│ max_pooling1d_1     │ (<span style=\"color: #00d7ff; text-decoration-color: #00d7ff\">None</span>, <span style=\"color: #00af00; text-decoration-color: #00af00\">3</span>, <span style=\"color: #00af00; text-decoration-color: #00af00\">128</span>)    │          <span style=\"color: #00af00; text-decoration-color: #00af00\">0</span> │ conv1d_1[<span style=\"color: #00af00; text-decoration-color: #00af00\">0</span>][<span style=\"color: #00af00; text-decoration-color: #00af00\">0</span>],   │\n",
       "│ (<span style=\"color: #0087ff; text-decoration-color: #0087ff\">MaxPooling1D</span>)      │                   │            │ conv1d_1[<span style=\"color: #00af00; text-decoration-color: #00af00\">1</span>][<span style=\"color: #00af00; text-decoration-color: #00af00\">0</span>]    │\n",
       "├─────────────────────┼───────────────────┼────────────┼───────────────────┤\n",
       "│ conv1d_2 (<span style=\"color: #0087ff; text-decoration-color: #0087ff\">Conv1D</span>)   │ (<span style=\"color: #00d7ff; text-decoration-color: #00d7ff\">None</span>, <span style=\"color: #00af00; text-decoration-color: #00af00\">3</span>, <span style=\"color: #00af00; text-decoration-color: #00af00\">64</span>)     │     <span style=\"color: #00af00; text-decoration-color: #00af00\">41,024</span> │ max_pooling1d_1[<span style=\"color: #00af00; text-decoration-color: #00af00\">…</span> │\n",
       "│                     │                   │            │ max_pooling1d_1[<span style=\"color: #00af00; text-decoration-color: #00af00\">…</span> │\n",
       "├─────────────────────┼───────────────────┼────────────┼───────────────────┤\n",
       "│ max_pooling1d_2     │ (<span style=\"color: #00d7ff; text-decoration-color: #00d7ff\">None</span>, <span style=\"color: #00af00; text-decoration-color: #00af00\">1</span>, <span style=\"color: #00af00; text-decoration-color: #00af00\">64</span>)     │          <span style=\"color: #00af00; text-decoration-color: #00af00\">0</span> │ conv1d_2[<span style=\"color: #00af00; text-decoration-color: #00af00\">0</span>][<span style=\"color: #00af00; text-decoration-color: #00af00\">0</span>],   │\n",
       "│ (<span style=\"color: #0087ff; text-decoration-color: #0087ff\">MaxPooling1D</span>)      │                   │            │ conv1d_2[<span style=\"color: #00af00; text-decoration-color: #00af00\">1</span>][<span style=\"color: #00af00; text-decoration-color: #00af00\">0</span>]    │\n",
       "├─────────────────────┼───────────────────┼────────────┼───────────────────┤\n",
       "│ conv1d_3 (<span style=\"color: #0087ff; text-decoration-color: #0087ff\">Conv1D</span>)   │ (<span style=\"color: #00d7ff; text-decoration-color: #00d7ff\">None</span>, <span style=\"color: #00af00; text-decoration-color: #00af00\">1</span>, <span style=\"color: #00af00; text-decoration-color: #00af00\">64</span>)     │     <span style=\"color: #00af00; text-decoration-color: #00af00\">20,544</span> │ max_pooling1d_2[<span style=\"color: #00af00; text-decoration-color: #00af00\">…</span> │\n",
       "│                     │                   │            │ max_pooling1d_2[<span style=\"color: #00af00; text-decoration-color: #00af00\">…</span> │\n",
       "├─────────────────────┼───────────────────┼────────────┼───────────────────┤\n",
       "│ global_max_pooling… │ (<span style=\"color: #00d7ff; text-decoration-color: #00d7ff\">None</span>, <span style=\"color: #00af00; text-decoration-color: #00af00\">64</span>)        │          <span style=\"color: #00af00; text-decoration-color: #00af00\">0</span> │ conv1d_3[<span style=\"color: #00af00; text-decoration-color: #00af00\">0</span>][<span style=\"color: #00af00; text-decoration-color: #00af00\">0</span>],   │\n",
       "│ (<span style=\"color: #0087ff; text-decoration-color: #0087ff\">GlobalMaxPooling1…</span> │                   │            │ conv1d_3[<span style=\"color: #00af00; text-decoration-color: #00af00\">1</span>][<span style=\"color: #00af00; text-decoration-color: #00af00\">0</span>]    │\n",
       "├─────────────────────┼───────────────────┼────────────┼───────────────────┤\n",
       "│ concatenate         │ (<span style=\"color: #00d7ff; text-decoration-color: #00d7ff\">None</span>, <span style=\"color: #00af00; text-decoration-color: #00af00\">128</span>)       │          <span style=\"color: #00af00; text-decoration-color: #00af00\">0</span> │ global_max_pooli… │\n",
       "│ (<span style=\"color: #0087ff; text-decoration-color: #0087ff\">Concatenate</span>)       │                   │            │ global_max_pooli… │\n",
       "├─────────────────────┼───────────────────┼────────────┼───────────────────┤\n",
       "│ dense (<span style=\"color: #0087ff; text-decoration-color: #0087ff\">Dense</span>)       │ (<span style=\"color: #00d7ff; text-decoration-color: #00d7ff\">None</span>, <span style=\"color: #00af00; text-decoration-color: #00af00\">128</span>)       │     <span style=\"color: #00af00; text-decoration-color: #00af00\">16,512</span> │ concatenate[<span style=\"color: #00af00; text-decoration-color: #00af00\">0</span>][<span style=\"color: #00af00; text-decoration-color: #00af00\">0</span>] │\n",
       "├─────────────────────┼───────────────────┼────────────┼───────────────────┤\n",
       "│ dropout (<span style=\"color: #0087ff; text-decoration-color: #0087ff\">Dropout</span>)   │ (<span style=\"color: #00d7ff; text-decoration-color: #00d7ff\">None</span>, <span style=\"color: #00af00; text-decoration-color: #00af00\">128</span>)       │          <span style=\"color: #00af00; text-decoration-color: #00af00\">0</span> │ dense[<span style=\"color: #00af00; text-decoration-color: #00af00\">0</span>][<span style=\"color: #00af00; text-decoration-color: #00af00\">0</span>]       │\n",
       "├─────────────────────┼───────────────────┼────────────┼───────────────────┤\n",
       "│ dense_1 (<span style=\"color: #0087ff; text-decoration-color: #0087ff\">Dense</span>)     │ (<span style=\"color: #00d7ff; text-decoration-color: #00d7ff\">None</span>, <span style=\"color: #00af00; text-decoration-color: #00af00\">64</span>)        │      <span style=\"color: #00af00; text-decoration-color: #00af00\">8,256</span> │ dropout[<span style=\"color: #00af00; text-decoration-color: #00af00\">0</span>][<span style=\"color: #00af00; text-decoration-color: #00af00\">0</span>]     │\n",
       "├─────────────────────┼───────────────────┼────────────┼───────────────────┤\n",
       "│ dropout_1 (<span style=\"color: #0087ff; text-decoration-color: #0087ff\">Dropout</span>) │ (<span style=\"color: #00d7ff; text-decoration-color: #00d7ff\">None</span>, <span style=\"color: #00af00; text-decoration-color: #00af00\">64</span>)        │          <span style=\"color: #00af00; text-decoration-color: #00af00\">0</span> │ dense_1[<span style=\"color: #00af00; text-decoration-color: #00af00\">0</span>][<span style=\"color: #00af00; text-decoration-color: #00af00\">0</span>]     │\n",
       "├─────────────────────┼───────────────────┼────────────┼───────────────────┤\n",
       "│ dense_2 (<span style=\"color: #0087ff; text-decoration-color: #0087ff\">Dense</span>)     │ (<span style=\"color: #00d7ff; text-decoration-color: #00d7ff\">None</span>, <span style=\"color: #00af00; text-decoration-color: #00af00\">1</span>)         │         <span style=\"color: #00af00; text-decoration-color: #00af00\">65</span> │ dropout_1[<span style=\"color: #00af00; text-decoration-color: #00af00\">0</span>][<span style=\"color: #00af00; text-decoration-color: #00af00\">0</span>]   │\n",
       "└─────────────────────┴───────────────────┴────────────┴───────────────────┘\n",
       "</pre>\n"
      ],
      "text/plain": [
       "┏━━━━━━━━━━━━━━━━━━━━━┳━━━━━━━━━━━━━━━━━━━┳━━━━━━━━━━━━┳━━━━━━━━━━━━━━━━━━━┓\n",
       "┃\u001b[1m \u001b[0m\u001b[1mLayer (type)       \u001b[0m\u001b[1m \u001b[0m┃\u001b[1m \u001b[0m\u001b[1mOutput Shape     \u001b[0m\u001b[1m \u001b[0m┃\u001b[1m \u001b[0m\u001b[1m   Param #\u001b[0m\u001b[1m \u001b[0m┃\u001b[1m \u001b[0m\u001b[1mConnected to     \u001b[0m\u001b[1m \u001b[0m┃\n",
       "┡━━━━━━━━━━━━━━━━━━━━━╇━━━━━━━━━━━━━━━━━━━╇━━━━━━━━━━━━╇━━━━━━━━━━━━━━━━━━━┩\n",
       "│ input_layer         │ (\u001b[38;5;45mNone\u001b[0m, \u001b[38;5;34m30\u001b[0m, \u001b[38;5;34m141\u001b[0m)   │          \u001b[38;5;34m0\u001b[0m │ -                 │\n",
       "│ (\u001b[38;5;33mInputLayer\u001b[0m)        │                   │            │                   │\n",
       "├─────────────────────┼───────────────────┼────────────┼───────────────────┤\n",
       "│ input_layer_1       │ (\u001b[38;5;45mNone\u001b[0m, \u001b[38;5;34m30\u001b[0m, \u001b[38;5;34m141\u001b[0m)   │          \u001b[38;5;34m0\u001b[0m │ -                 │\n",
       "│ (\u001b[38;5;33mInputLayer\u001b[0m)        │                   │            │                   │\n",
       "├─────────────────────┼───────────────────┼────────────┼───────────────────┤\n",
       "│ conv1d (\u001b[38;5;33mConv1D\u001b[0m)     │ (\u001b[38;5;45mNone\u001b[0m, \u001b[38;5;34m30\u001b[0m, \u001b[38;5;34m128\u001b[0m)   │     \u001b[38;5;34m90,368\u001b[0m │ input_layer[\u001b[38;5;34m0\u001b[0m][\u001b[38;5;34m0\u001b[0m… │\n",
       "│                     │                   │            │ input_layer_1[\u001b[38;5;34m0\u001b[0m]… │\n",
       "├─────────────────────┼───────────────────┼────────────┼───────────────────┤\n",
       "│ max_pooling1d       │ (\u001b[38;5;45mNone\u001b[0m, \u001b[38;5;34m10\u001b[0m, \u001b[38;5;34m128\u001b[0m)   │          \u001b[38;5;34m0\u001b[0m │ conv1d[\u001b[38;5;34m0\u001b[0m][\u001b[38;5;34m0\u001b[0m],     │\n",
       "│ (\u001b[38;5;33mMaxPooling1D\u001b[0m)      │                   │            │ conv1d[\u001b[38;5;34m1\u001b[0m][\u001b[38;5;34m0\u001b[0m]      │\n",
       "├─────────────────────┼───────────────────┼────────────┼───────────────────┤\n",
       "│ conv1d_1 (\u001b[38;5;33mConv1D\u001b[0m)   │ (\u001b[38;5;45mNone\u001b[0m, \u001b[38;5;34m10\u001b[0m, \u001b[38;5;34m128\u001b[0m)   │     \u001b[38;5;34m82,048\u001b[0m │ max_pooling1d[\u001b[38;5;34m0\u001b[0m]… │\n",
       "│                     │                   │            │ max_pooling1d[\u001b[38;5;34m1\u001b[0m]… │\n",
       "├─────────────────────┼───────────────────┼────────────┼───────────────────┤\n",
       "│ max_pooling1d_1     │ (\u001b[38;5;45mNone\u001b[0m, \u001b[38;5;34m3\u001b[0m, \u001b[38;5;34m128\u001b[0m)    │          \u001b[38;5;34m0\u001b[0m │ conv1d_1[\u001b[38;5;34m0\u001b[0m][\u001b[38;5;34m0\u001b[0m],   │\n",
       "│ (\u001b[38;5;33mMaxPooling1D\u001b[0m)      │                   │            │ conv1d_1[\u001b[38;5;34m1\u001b[0m][\u001b[38;5;34m0\u001b[0m]    │\n",
       "├─────────────────────┼───────────────────┼────────────┼───────────────────┤\n",
       "│ conv1d_2 (\u001b[38;5;33mConv1D\u001b[0m)   │ (\u001b[38;5;45mNone\u001b[0m, \u001b[38;5;34m3\u001b[0m, \u001b[38;5;34m64\u001b[0m)     │     \u001b[38;5;34m41,024\u001b[0m │ max_pooling1d_1[\u001b[38;5;34m…\u001b[0m │\n",
       "│                     │                   │            │ max_pooling1d_1[\u001b[38;5;34m…\u001b[0m │\n",
       "├─────────────────────┼───────────────────┼────────────┼───────────────────┤\n",
       "│ max_pooling1d_2     │ (\u001b[38;5;45mNone\u001b[0m, \u001b[38;5;34m1\u001b[0m, \u001b[38;5;34m64\u001b[0m)     │          \u001b[38;5;34m0\u001b[0m │ conv1d_2[\u001b[38;5;34m0\u001b[0m][\u001b[38;5;34m0\u001b[0m],   │\n",
       "│ (\u001b[38;5;33mMaxPooling1D\u001b[0m)      │                   │            │ conv1d_2[\u001b[38;5;34m1\u001b[0m][\u001b[38;5;34m0\u001b[0m]    │\n",
       "├─────────────────────┼───────────────────┼────────────┼───────────────────┤\n",
       "│ conv1d_3 (\u001b[38;5;33mConv1D\u001b[0m)   │ (\u001b[38;5;45mNone\u001b[0m, \u001b[38;5;34m1\u001b[0m, \u001b[38;5;34m64\u001b[0m)     │     \u001b[38;5;34m20,544\u001b[0m │ max_pooling1d_2[\u001b[38;5;34m…\u001b[0m │\n",
       "│                     │                   │            │ max_pooling1d_2[\u001b[38;5;34m…\u001b[0m │\n",
       "├─────────────────────┼───────────────────┼────────────┼───────────────────┤\n",
       "│ global_max_pooling… │ (\u001b[38;5;45mNone\u001b[0m, \u001b[38;5;34m64\u001b[0m)        │          \u001b[38;5;34m0\u001b[0m │ conv1d_3[\u001b[38;5;34m0\u001b[0m][\u001b[38;5;34m0\u001b[0m],   │\n",
       "│ (\u001b[38;5;33mGlobalMaxPooling1…\u001b[0m │                   │            │ conv1d_3[\u001b[38;5;34m1\u001b[0m][\u001b[38;5;34m0\u001b[0m]    │\n",
       "├─────────────────────┼───────────────────┼────────────┼───────────────────┤\n",
       "│ concatenate         │ (\u001b[38;5;45mNone\u001b[0m, \u001b[38;5;34m128\u001b[0m)       │          \u001b[38;5;34m0\u001b[0m │ global_max_pooli… │\n",
       "│ (\u001b[38;5;33mConcatenate\u001b[0m)       │                   │            │ global_max_pooli… │\n",
       "├─────────────────────┼───────────────────┼────────────┼───────────────────┤\n",
       "│ dense (\u001b[38;5;33mDense\u001b[0m)       │ (\u001b[38;5;45mNone\u001b[0m, \u001b[38;5;34m128\u001b[0m)       │     \u001b[38;5;34m16,512\u001b[0m │ concatenate[\u001b[38;5;34m0\u001b[0m][\u001b[38;5;34m0\u001b[0m] │\n",
       "├─────────────────────┼───────────────────┼────────────┼───────────────────┤\n",
       "│ dropout (\u001b[38;5;33mDropout\u001b[0m)   │ (\u001b[38;5;45mNone\u001b[0m, \u001b[38;5;34m128\u001b[0m)       │          \u001b[38;5;34m0\u001b[0m │ dense[\u001b[38;5;34m0\u001b[0m][\u001b[38;5;34m0\u001b[0m]       │\n",
       "├─────────────────────┼───────────────────┼────────────┼───────────────────┤\n",
       "│ dense_1 (\u001b[38;5;33mDense\u001b[0m)     │ (\u001b[38;5;45mNone\u001b[0m, \u001b[38;5;34m64\u001b[0m)        │      \u001b[38;5;34m8,256\u001b[0m │ dropout[\u001b[38;5;34m0\u001b[0m][\u001b[38;5;34m0\u001b[0m]     │\n",
       "├─────────────────────┼───────────────────┼────────────┼───────────────────┤\n",
       "│ dropout_1 (\u001b[38;5;33mDropout\u001b[0m) │ (\u001b[38;5;45mNone\u001b[0m, \u001b[38;5;34m64\u001b[0m)        │          \u001b[38;5;34m0\u001b[0m │ dense_1[\u001b[38;5;34m0\u001b[0m][\u001b[38;5;34m0\u001b[0m]     │\n",
       "├─────────────────────┼───────────────────┼────────────┼───────────────────┤\n",
       "│ dense_2 (\u001b[38;5;33mDense\u001b[0m)     │ (\u001b[38;5;45mNone\u001b[0m, \u001b[38;5;34m1\u001b[0m)         │         \u001b[38;5;34m65\u001b[0m │ dropout_1[\u001b[38;5;34m0\u001b[0m][\u001b[38;5;34m0\u001b[0m]   │\n",
       "└─────────────────────┴───────────────────┴────────────┴───────────────────┘\n"
      ]
     },
     "metadata": {},
     "output_type": "display_data"
    },
    {
     "data": {
      "text/html": [
       "<pre style=\"white-space:pre;overflow-x:auto;line-height:normal;font-family:Menlo,'DejaVu Sans Mono',consolas,'Courier New',monospace\"><span style=\"font-weight: bold\"> Total params: </span><span style=\"color: #00af00; text-decoration-color: #00af00\">258,817</span> (1011.00 KB)\n",
       "</pre>\n"
      ],
      "text/plain": [
       "\u001b[1m Total params: \u001b[0m\u001b[38;5;34m258,817\u001b[0m (1011.00 KB)\n"
      ]
     },
     "metadata": {},
     "output_type": "display_data"
    },
    {
     "data": {
      "text/html": [
       "<pre style=\"white-space:pre;overflow-x:auto;line-height:normal;font-family:Menlo,'DejaVu Sans Mono',consolas,'Courier New',monospace\"><span style=\"font-weight: bold\"> Trainable params: </span><span style=\"color: #00af00; text-decoration-color: #00af00\">258,817</span> (1011.00 KB)\n",
       "</pre>\n"
      ],
      "text/plain": [
       "\u001b[1m Trainable params: \u001b[0m\u001b[38;5;34m258,817\u001b[0m (1011.00 KB)\n"
      ]
     },
     "metadata": {},
     "output_type": "display_data"
    },
    {
     "data": {
      "text/html": [
       "<pre style=\"white-space:pre;overflow-x:auto;line-height:normal;font-family:Menlo,'DejaVu Sans Mono',consolas,'Courier New',monospace\"><span style=\"font-weight: bold\"> Non-trainable params: </span><span style=\"color: #00af00; text-decoration-color: #00af00\">0</span> (0.00 B)\n",
       "</pre>\n"
      ],
      "text/plain": [
       "\u001b[1m Non-trainable params: \u001b[0m\u001b[38;5;34m0\u001b[0m (0.00 B)\n"
      ]
     },
     "metadata": {},
     "output_type": "display_data"
    }
   ],
   "source": [
    "K.clear_session()\n",
    "\n",
    "do = 0.05\n",
    "\n",
    "left = Input(shape=(MAX_SEQ_LEN, MAX_CHARS))\n",
    "right = Input(shape=(MAX_SEQ_LEN, MAX_CHARS))\n",
    "\n",
    "blocks = [\n",
    "    Conv1D(128, 5, padding=\"same\", activation=\"relu\"),\n",
    "    MaxPooling1D(3),\n",
    "    Conv1D(128, 5, padding=\"same\", activation=\"relu\"),\n",
    "    MaxPooling1D(3),\n",
    "    Conv1D(64, 5, padding=\"same\", activation=\"relu\"),\n",
    "    MaxPooling1D(3),\n",
    "    Conv1D(64, 5, padding=\"same\", activation=\"relu\"),\n",
    "    GlobalMaxPooling1D()\n",
    "]\n",
    "\n",
    "def encode(inpt):\n",
    "    x = blocks[0](inpt)\n",
    "    for block in blocks[1:]:\n",
    "        x = block(x)\n",
    "    return x\n",
    "\n",
    "left_stream = encode(left)\n",
    "right_stream = encode(right)\n",
    "# TODO:\n",
    "# - concatenate right and left streams\n",
    "# - use 2-3 dense blocks to get the output into the right shape \n",
    "#    this is a binary classification problem\n",
    "# - compile your model\n",
    "\n",
    "# your code here\n",
    "merged = Concatenate()([left_stream, right_stream])\n",
    "x = Dense(128, activation='relu')(merged)\n",
    "x = Dropout(do)(x)\n",
    "x = Dense(64, activation='relu')(x)\n",
    "x = Dropout(do)(x)\n",
    "output = Dense(1, activation='sigmoid')(x)\n",
    "\n",
    "model = Model([left, right], output)\n",
    "model.compile(\"adam\", loss=\"binary_crossentropy\", metrics=[\"acc\"])\n",
    "model.summary()"
   ]
  },
  {
   "cell_type": "code",
   "execution_count": 15,
   "metadata": {},
   "outputs": [],
   "source": [
    "from tensorflow.keras.callbacks import EarlyStopping, ReduceLROnPlateau\n",
    "# user these callbacks\n",
    "callbacks = [\n",
    "    EarlyStopping(\n",
    "        monitor='val_loss',\n",
    "        patience=5,\n",
    "        restore_best_weights=True\n",
    "    ),\n",
    "    ReduceLROnPlateau(\n",
    "        monitor='val_loss',\n",
    "        factor=0.5,\n",
    "        patience=2,\n",
    "        min_lr=1e-5\n",
    "    )\n",
    "]"
   ]
  },
  {
   "cell_type": "code",
   "execution_count": 16,
   "metadata": {},
   "outputs": [
    {
     "name": "stdout",
     "output_type": "stream",
     "text": [
      "Epoch 1/30\n"
     ]
    },
    {
     "name": "stderr",
     "output_type": "stream",
     "text": [
      "/Users/bluebird/develop/15.S08_applied_nlp/venv_nlp/lib/python3.10/site-packages/keras/src/models/functional.py:225: UserWarning: The structure of `inputs` doesn't match the expected structure: ['keras_tensor', 'keras_tensor_1']. Received: the structure of inputs=('*', '*')\n",
      "  warnings.warn(\n"
     ]
    },
    {
     "name": "stdout",
     "output_type": "stream",
     "text": [
      "\u001b[1m1630/1630\u001b[0m \u001b[32m━━━━━━━━━━━━━━━━━━━━\u001b[0m\u001b[37m\u001b[0m \u001b[1m183s\u001b[0m 112ms/step - acc: 0.7017 - loss: 0.5584 - val_acc: 0.7972 - val_loss: 0.4234 - learning_rate: 0.0010\n",
      "Epoch 2/30\n",
      "\u001b[1m1630/1630\u001b[0m \u001b[32m━━━━━━━━━━━━━━━━━━━━\u001b[0m\u001b[37m\u001b[0m \u001b[1m180s\u001b[0m 110ms/step - acc: 0.8072 - loss: 0.4070 - val_acc: 0.8276 - val_loss: 0.3708 - learning_rate: 0.0010\n",
      "Epoch 3/30\n",
      "\u001b[1m1630/1630\u001b[0m \u001b[32m━━━━━━━━━━━━━━━━━━━━\u001b[0m\u001b[37m\u001b[0m \u001b[1m182s\u001b[0m 111ms/step - acc: 0.8359 - loss: 0.3562 - val_acc: 0.8454 - val_loss: 0.3360 - learning_rate: 0.0010\n",
      "Epoch 4/30\n",
      "\u001b[1m1630/1630\u001b[0m \u001b[32m━━━━━━━━━━━━━━━━━━━━\u001b[0m\u001b[37m\u001b[0m \u001b[1m178s\u001b[0m 109ms/step - acc: 0.8530 - loss: 0.3234 - val_acc: 0.8532 - val_loss: 0.3240 - learning_rate: 0.0010\n",
      "Epoch 5/30\n",
      "\u001b[1m1630/1630\u001b[0m \u001b[32m━━━━━━━━━━━━━━━━━━━━\u001b[0m\u001b[37m\u001b[0m \u001b[1m174s\u001b[0m 106ms/step - acc: 0.8624 - loss: 0.3043 - val_acc: 0.8583 - val_loss: 0.3119 - learning_rate: 0.0010\n",
      "Epoch 6/30\n",
      "\u001b[1m1630/1630\u001b[0m \u001b[32m━━━━━━━━━━━━━━━━━━━━\u001b[0m\u001b[37m\u001b[0m \u001b[1m175s\u001b[0m 107ms/step - acc: 0.8707 - loss: 0.2882 - val_acc: 0.8636 - val_loss: 0.3033 - learning_rate: 0.0010\n",
      "Epoch 7/30\n",
      "\u001b[1m1630/1630\u001b[0m \u001b[32m━━━━━━━━━━━━━━━━━━━━\u001b[0m\u001b[37m\u001b[0m \u001b[1m185s\u001b[0m 114ms/step - acc: 0.8771 - loss: 0.2759 - val_acc: 0.8677 - val_loss: 0.2972 - learning_rate: 0.0010\n",
      "Epoch 8/30\n",
      "\u001b[1m1630/1630\u001b[0m \u001b[32m━━━━━━━━━━━━━━━━━━━━\u001b[0m\u001b[37m\u001b[0m \u001b[1m185s\u001b[0m 113ms/step - acc: 0.8822 - loss: 0.2658 - val_acc: 0.8700 - val_loss: 0.2919 - learning_rate: 0.0010\n",
      "Epoch 9/30\n",
      "\u001b[1m1630/1630\u001b[0m \u001b[32m━━━━━━━━━━━━━━━━━━━━\u001b[0m\u001b[37m\u001b[0m \u001b[1m196s\u001b[0m 120ms/step - acc: 0.8861 - loss: 0.2576 - val_acc: 0.8703 - val_loss: 0.2936 - learning_rate: 0.0010\n",
      "Epoch 10/30\n",
      "\u001b[1m1630/1630\u001b[0m \u001b[32m━━━━━━━━━━━━━━━━━━━━\u001b[0m\u001b[37m\u001b[0m \u001b[1m176s\u001b[0m 108ms/step - acc: 0.8899 - loss: 0.2499 - val_acc: 0.8715 - val_loss: 0.2903 - learning_rate: 0.0010\n",
      "Epoch 11/30\n",
      "\u001b[1m1630/1630\u001b[0m \u001b[32m━━━━━━━━━━━━━━━━━━━━\u001b[0m\u001b[37m\u001b[0m \u001b[1m171s\u001b[0m 105ms/step - acc: 0.8928 - loss: 0.2440 - val_acc: 0.8741 - val_loss: 0.2865 - learning_rate: 0.0010\n",
      "Epoch 12/30\n",
      "\u001b[1m1630/1630\u001b[0m \u001b[32m━━━━━━━━━━━━━━━━━━━━\u001b[0m\u001b[37m\u001b[0m \u001b[1m171s\u001b[0m 105ms/step - acc: 0.8958 - loss: 0.2379 - val_acc: 0.8746 - val_loss: 0.2870 - learning_rate: 0.0010\n",
      "Epoch 13/30\n",
      "\u001b[1m1630/1630\u001b[0m \u001b[32m━━━━━━━━━━━━━━━━━━━━\u001b[0m\u001b[37m\u001b[0m \u001b[1m174s\u001b[0m 107ms/step - acc: 0.8985 - loss: 0.2333 - val_acc: 0.8754 - val_loss: 0.2855 - learning_rate: 0.0010\n",
      "Epoch 14/30\n",
      "\u001b[1m1630/1630\u001b[0m \u001b[32m━━━━━━━━━━━━━━━━━━━━\u001b[0m\u001b[37m\u001b[0m \u001b[1m180s\u001b[0m 110ms/step - acc: 0.9003 - loss: 0.2287 - val_acc: 0.8759 - val_loss: 0.2815 - learning_rate: 0.0010\n",
      "Epoch 15/30\n",
      "\u001b[1m1630/1630\u001b[0m \u001b[32m━━━━━━━━━━━━━━━━━━━━\u001b[0m\u001b[37m\u001b[0m \u001b[1m172s\u001b[0m 105ms/step - acc: 0.9022 - loss: 0.2245 - val_acc: 0.8764 - val_loss: 0.2829 - learning_rate: 0.0010\n",
      "Epoch 16/30\n",
      "\u001b[1m1630/1630\u001b[0m \u001b[32m━━━━━━━━━━━━━━━━━━━━\u001b[0m\u001b[37m\u001b[0m \u001b[1m173s\u001b[0m 106ms/step - acc: 0.9042 - loss: 0.2207 - val_acc: 0.8775 - val_loss: 0.2813 - learning_rate: 0.0010\n",
      "Epoch 17/30\n",
      "\u001b[1m1630/1630\u001b[0m \u001b[32m━━━━━━━━━━━━━━━━━━━━\u001b[0m\u001b[37m\u001b[0m \u001b[1m173s\u001b[0m 106ms/step - acc: 0.9062 - loss: 0.2169 - val_acc: 0.8775 - val_loss: 0.2836 - learning_rate: 0.0010\n",
      "Epoch 18/30\n",
      "\u001b[1m1630/1630\u001b[0m \u001b[32m━━━━━━━━━━━━━━━━━━━━\u001b[0m\u001b[37m\u001b[0m \u001b[1m202s\u001b[0m 124ms/step - acc: 0.9076 - loss: 0.2133 - val_acc: 0.8781 - val_loss: 0.2863 - learning_rate: 0.0010\n",
      "Epoch 19/30\n",
      "\u001b[1m1630/1630\u001b[0m \u001b[32m━━━━━━━━━━━━━━━━━━━━\u001b[0m\u001b[37m\u001b[0m \u001b[1m173s\u001b[0m 106ms/step - acc: 0.9140 - loss: 0.1997 - val_acc: 0.8798 - val_loss: 0.2905 - learning_rate: 5.0000e-04\n",
      "Epoch 20/30\n",
      "\u001b[1m1630/1630\u001b[0m \u001b[32m━━━━━━━━━━━━━━━━━━━━\u001b[0m\u001b[37m\u001b[0m \u001b[1m174s\u001b[0m 107ms/step - acc: 0.9173 - loss: 0.1928 - val_acc: 0.8789 - val_loss: 0.2901 - learning_rate: 5.0000e-04\n",
      "Epoch 21/30\n",
      "\u001b[1m1630/1630\u001b[0m \u001b[32m━━━━━━━━━━━━━━━━━━━━\u001b[0m\u001b[37m\u001b[0m \u001b[1m174s\u001b[0m 107ms/step - acc: 0.9217 - loss: 0.1838 - val_acc: 0.8799 - val_loss: 0.3036 - learning_rate: 2.5000e-04\n"
     ]
    }
   ],
   "source": [
    "# Training parameters\n",
    "batch_size = 1024\n",
    "steps_per_epoch = len(x_train_src) // batch_size\n",
    "validation_steps = len(x_test_src) // batch_size\n",
    "\n",
    "# Create generators\n",
    "train_generator = train_gen(batch_size)\n",
    "val_generator = val_gen(batch_size)\n",
    "\n",
    "# Fit the model\n",
    "history = model.fit(\n",
    "    train_generator,\n",
    "    steps_per_epoch=steps_per_epoch,\n",
    "    validation_data=val_generator,\n",
    "    validation_steps=validation_steps,\n",
    "    epochs=30,\n",
    "    callbacks=callbacks\n",
    ")"
   ]
  },
  {
   "cell_type": "code",
   "execution_count": 17,
   "metadata": {},
   "outputs": [
    {
     "data": {
      "image/png": "[encoded data removed]",
      "text/plain": [
       "<Figure size 1200x400 with 2 Axes>"
      ]
     },
     "metadata": {},
     "output_type": "display_data"
    }
   ],
   "source": [
    "plt.figure(figsize=(12,4))\n",
    "\n",
    "# Plot loss\n",
    "plt.subplot(1,2,1)\n",
    "plt.plot(history.history['loss'], label='Train Loss')\n",
    "plt.plot(history.history['val_loss'], label='Val Loss')\n",
    "plt.title('Model Loss')\n",
    "plt.xlabel('Epoch')\n",
    "plt.ylabel('Loss')\n",
    "plt.legend()\n",
    "\n",
    "# Plot accuracy \n",
    "plt.subplot(1,2,2)\n",
    "plt.plot(history.history['acc'], label='Train Acc')\n",
    "plt.plot(history.history['val_acc'], label='Val Acc')\n",
    "plt.title('Model Accuracy')\n",
    "plt.xlabel('Epoch')\n",
    "plt.ylabel('Accuracy')\n",
    "plt.legend()\n",
    "\n",
    "plt.tight_layout()\n",
    "plt.show()"
   ]
  },
  {
   "cell_type": "markdown",
   "metadata": {},
   "source": [
    "## Part 5: Analysis"
   ]
  },
  {
   "cell_type": "markdown",
   "metadata": {},
   "source": [
    "We want to see how our new model works on unseen text. \n",
    "Write a function\n",
    "```python\n",
    "def compare_inputs(a, b):\n",
    "    \"\"\"takes in two strings and returns a float\"\"\"\n",
    "    pass\n",
    "```\n",
    "that can use the model to compare two strings. \n",
    "\n",
    "TODO\n",
    " - Come up with at least 10 examples of your own and comment on the results\n",
    "\n",
    "TODO: How would this be done without deep learning? \n",
    " - Can we use the same operations on both the source and target?\n",
    " - How would we need to combine representations that come from the features we engineer from the two inputs?\n",
    " - If we had hand-engineered features, how would we add them to this network?\n",
    "\n",
    "(answer in text below)"
   ]
  },
  {
   "cell_type": "code",
   "execution_count": 18,
   "metadata": {},
   "outputs": [],
   "source": [
    "def compare_inputs(a, b):\n",
    "    # take two strings, process them the same way we process our training data\n",
    "    # use `model.predict` to get a probability that they are the same\n",
    "    # your code here\n",
    "    a_clean = normalize_string(a)\n",
    "    b_clean = normalize_string(b)\n",
    "    \n",
    "    # Convert to integer sequences\n",
    "    a_seq = pad_sequences(tok.texts_to_sequences([a_clean]), maxlen=MAX_SEQ_LEN)\n",
    "    b_seq = pad_sequences(tok.texts_to_sequences([b_clean]), maxlen=MAX_SEQ_LEN)\n",
    "    \n",
    "    # One-hot encode\n",
    "    a_one_hot = to_categorical(a_seq, num_classes=MAX_CHARS)\n",
    "    b_one_hot = to_categorical(b_seq, num_classes=MAX_CHARS)\n",
    "    \n",
    "    # Get model prediction\n",
    "    return model.predict([a_one_hot, b_one_hot], verbose=0)"
   ]
  },
  {
   "cell_type": "code",
   "execution_count": 19,
   "metadata": {},
   "outputs": [
    {
     "name": "stderr",
     "output_type": "stream",
     "text": [
      "/Users/bluebird/develop/15.S08_applied_nlp/venv_nlp/lib/python3.10/site-packages/keras/src/models/functional.py:225: UserWarning: The structure of `inputs` doesn't match the expected structure: ['keras_tensor', 'keras_tensor_1']. Received: the structure of inputs=('*', '*')\n",
      "  warnings.warn(\n"
     ]
    },
    {
     "name": "stdout",
     "output_type": "stream",
     "text": [
      "\"The college of Mann\" and \"University of mann\": 0.9968\n",
      "\"S and P Global\" and \"S&P Global\": 0.9019\n",
      "\"Google Inc\" and \"Google\": 0.9965\n",
      "\"JPMorgan Chase\" and \"JP Morgan\": 0.9511\n",
      "\"Microsoft Corporation\" and \"Microsoft Corp\": 0.9995\n",
      "\"International Business Machines\" and \"IBM\": 0.9090\n",
      "\"Meta Platforms Inc\" and \"Facebook Inc\": 0.2375\n",
      "\"Walmart Inc.\" and \"Wal-Mart Stores\": 0.9332\n",
      "\"Coca Cola Co\" and \"The Coca-Cola Company\": 0.9998\n",
      "\"McDonald's Corp\" and \"McDonalds Corporation\": 0.9952\n",
      "\"Apple Inc\" and \"Alphabet Inc\": 0.4547\n",
      "\"Bank of America\" and \"Bank of China\": 0.9928\n"
     ]
    }
   ],
   "source": [
    "for pair in [\n",
    "    (\"The college of Mann\", \"University of mann\"),\n",
    "    (\"S and P Global\", \"S&P Global\"),\n",
    "    (\"Google Inc\", \"Google\"),\n",
    "    (\"JPMorgan Chase\", \"JP Morgan\"),\n",
    "    (\"Microsoft Corporation\", \"Microsoft Corp\"),\n",
    "    (\"International Business Machines\", \"IBM\"),\n",
    "    (\"Meta Platforms Inc\", \"Facebook Inc\"),\n",
    "    (\"Walmart Inc.\", \"Wal-Mart Stores\"),\n",
    "    (\"Coca Cola Co\", \"The Coca-Cola Company\"),\n",
    "    (\"McDonald's Corp\", \"McDonalds Corporation\"),\n",
    "    (\"Apple Inc\", \"Alphabet Inc\"),\n",
    "    (\"Bank of America\", \"Bank of China\")\n",
    "]:\n",
    "    print(\"\\\"{}\\\" and \\\"{}\\\": {:.4f}\".format(pair[0], pair[1], compare_inputs(*pair)[0][0]))"
   ]
  },
  {
   "cell_type": "markdown",
   "metadata": {},
   "source": [
    "**Comments on results**\n",
    "\n",
    "Strengths:\n",
    "1. Handles common corporate suffix variations very well (\"Inc\" vs \"Corporation\", \"Corp\" vs \"Company\")\n",
    "2. Strong on spacing/punctuation differences (\"S and P\" vs \"S&P\", \"Coca Cola\" vs \"Coca-Cola\")\n",
    "3. Excellent at minor spelling variations (\"McDonalds\" vs \"McDonald's\")\n",
    "4. Good at recognizing when company names are fundamentally different (Apple/Alphabet: 0.4447)\n",
    "\n",
    "Notable patterns:\n",
    "1. Very high confidence (>0.99) on simple variations like \"Google Inc\"/\"Google\"\n",
    "2. Does not correctly identifies complete company changes (Meta/Facebook: 0.2375)\n",
    "3. Partial match confusion on \"Bank of America\"/\"Bank of China\" (0.9928) - shows it's picking up on the shared terms\n",
    "\n",
    "Areas for improvement:\n",
    "1. The IBM case (0.9090) suggests it could better handle extreme abbreviations\n",
    "2. The \"Bank of\" case shows it might be too sensitive to shared words in different companies\n",
    "\n",
    "This suggests the character-level CNN is effectively learning:\n",
    "- Common corporate naming patterns\n",
    "- Various ways to write the same company name\n",
    "- The relative importance of different parts of company names"
   ]
  },
  {
   "cell_type": "markdown",
   "metadata": {},
   "source": [
    "**How would this be done without deep learning?**\n",
    "\n",
    "*Can we use the same operations on both the source and target?*\n",
    "\n",
    "Yes, using the same operations on both source and target strings is optimal through a Siamese architecture, where identical layers with shared weights process both inputs. This makes sense because what makes company names similar shouldn't depend on which name is the source or target - the features that help recognize \"Google\" or understand suffixes like \"Inc\" should work the same way in both cases. This approach is more efficient and learns better since patterns learned from one input directly apply to the other.\n",
    "\n",
    "*How would we need to combine representations that come from the features we engineer from the two inputs?*\n",
    "\n",
    "The key approaches for combining engineered features from the two inputs would be concatenation, element-wise operations, or computing a similarity/distance metric. You could concatenate the feature vectors and let the model learn the relationships, use element-wise operations like subtraction or multiplication to directly compare corresponding features, or compute similarity scores (like cosine similarity or L2 distance) between the feature vectors. For this specific task of company name matching, element-wise absolute difference or multiplication would be particularly suitable, as they preserve the symmetry of the comparison - it shouldn't matter which name is the source or target.\n",
    "\n",
    "*If we had hand-engineered features, how would we add them to this network?*\n",
    "\n",
    "Hand-engineered features could be incorporated into this network in three main ways: (1) concatenate them with the CNN encodings just before the dense layers, adding them to the learned representations after the GlobalMaxPooling1D, (2) add them as additional input channels alongside the character-level representations, expanding the input dimensionality, or (3) create a parallel branch in the network that processes these features separately and then merges with the main CNN outputs. For company name matching, useful engineered features might include things like industry codes, TF-IDF vectors, or edit distance metrics, which would complement the character-level patterns the CNN learns automatically.\n"
   ]
  },
  {
   "cell_type": "markdown",
   "metadata": {},
   "source": [
    "# Problem 4: Character level word features (30%)"
   ]
  },
  {
   "cell_type": "markdown",
   "metadata": {},
   "source": [
    "In class we showed that neural networks can learn everything from character-level representations.\n",
    "Recall the potential advantages\n",
    " - We are much less likely to see unknown characters\n",
    " - We don't have to worry about word tokenization\n",
    " - Maybe `jump` and `jumps` can \"share\" a lot of the representation\n",
    " - There's nothing special about a space \n",
    "\n",
    "In fact, there is perhaps something special about a space. \n",
    "While the network can, in principle, learn the concept of a word boundary,\n",
    "we may be able to help the network learn by telling it that words boundaries are\n",
    "an important concept. This is especially true in smaller-data problems.\n",
    "\n",
    "In this problem we'll seek to remedy the first and third bullets above by encoding\n",
    "every __word__ as a sequence of characters. This should allow for the network to implicitly\n",
    "learn similarities between words with similar letters. In some sense, we can think of \n",
    "such an encoding as character-level method for learning word embeddings"
   ]
  },
  {
   "cell_type": "markdown",
   "metadata": {},
   "source": [
    "## Part 0: Load the data"
   ]
  },
  {
   "cell_type": "markdown",
   "metadata": {},
   "source": [
    " - Load the imdb data as we did in class. \n",
    " - Tokenize it into integer sequences"
   ]
  },
  {
   "cell_type": "code",
   "execution_count": 76,
   "metadata": {},
   "outputs": [
    {
     "name": "stdout",
     "output_type": "stream",
     "text": [
      "%pylab is deprecated, use %matplotlib inline and import the required libraries.\n",
      "Populating the interactive namespace from numpy and matplotlib\n"
     ]
    }
   ],
   "source": [
    "import numpy as np\n",
    "import pandas as pd\n",
    "import glob\n",
    "import os\n",
    "%pylab inline\n",
    "np.random.seed(1234)"
   ]
  },
  {
   "cell_type": "code",
   "execution_count": 77,
   "metadata": {},
   "outputs": [],
   "source": [
    "def load_imdb_data_text(imdb_data_dir, random_seed=1234):\n",
    "    \"\"\"Provided helper function to load data\"\"\"\n",
    "    train_dir = os.path.join(imdb_data_dir, \"train\")\n",
    "    test_dir = os.path.join(imdb_data_dir, \"test\")\n",
    "\n",
    "    np.random.seed(random_seed)\n",
    "    texts = []\n",
    "    targets = []\n",
    "    for label in (\"pos\", \"neg\"):\n",
    "        data_dir = os.path.join(train_dir, label)\n",
    "        files = glob.glob(os.path.join(data_dir, \"*.txt\"))\n",
    "        for filename in files:\n",
    "            with open(filename) as fi:\n",
    "                text = fi.read()\n",
    "            target = label == \"pos\"\n",
    "            texts.append(text)\n",
    "            targets.append(target)\n",
    "\n",
    "    train_docs = texts\n",
    "    y_train = np.array(targets)\n",
    "\n",
    "    texts = []\n",
    "    targets = []\n",
    "    for label in (\"pos\", \"neg\"):\n",
    "        data_dir = os.path.join(test_dir, label)\n",
    "        files = glob.glob(os.path.join(data_dir, \"*.txt\"))\n",
    "        for filename in files:\n",
    "            with open(filename) as fi:\n",
    "                text = fi.read()\n",
    "            target = label == \"pos\"\n",
    "            texts.append(text)\n",
    "            targets.append(target)\n",
    "\n",
    "    test_docs = texts\n",
    "    y_test = np.array(targets)\n",
    "\n",
    "    inds = np.arange(y_train.shape[0])\n",
    "    np.random.shuffle(inds)\n",
    "\n",
    "    train_docs = [train_docs[i] for i in inds]\n",
    "    y_train = y_train[inds]\n",
    "\n",
    "    return (train_docs, y_train), (test_docs, y_test)"
   ]
  },
  {
   "cell_type": "code",
   "execution_count": 78,
   "metadata": {},
   "outputs": [
    {
     "name": "stdout",
     "output_type": "stream",
     "text": [
      "found 25000 train docs and 25000 test docs\n"
     ]
    }
   ],
   "source": [
    "(train_docs, y_train), (test_docs, y_test) = load_imdb_data_text('../HW6/data/aclImdb/')\n",
    "print('found {} train docs and {} test docs'.format(len(train_docs), len(test_docs)))"
   ]
  },
  {
   "cell_type": "code",
   "execution_count": 79,
   "metadata": {},
   "outputs": [],
   "source": [
    "from tensorflow.keras.preprocessing.sequence import pad_sequences\n",
    "from tensorflow.keras.preprocessing.text import Tokenizer\n",
    "\n",
    "# tokenize the text keeping the 50k most common words\n",
    "# turn text into integer sequences\n",
    "# pad the sequences to 125 elements each\n",
    "\n",
    "# your code here\n",
    "MAX_SEQ_LEN = 125\n",
    "\n",
    "# your code here\n",
    "tokenizer = Tokenizer(num_words=50000)\n",
    "tokenizer.fit_on_texts(train_docs)\n",
    "\n",
    "train_sequences = tokenizer.texts_to_sequences(train_docs)\n",
    "test_sequences = tokenizer.texts_to_sequences(test_docs)\n",
    "\n",
    "x_train = pad_sequences(train_sequences, maxlen=MAX_SEQ_LEN)\n",
    "x_test = pad_sequences(test_sequences, maxlen=MAX_SEQ_LEN)"
   ]
  },
  {
   "cell_type": "markdown",
   "metadata": {},
   "source": [
    "## Part 1: Wrangle the data into the correct representation"
   ]
  },
  {
   "cell_type": "markdown",
   "metadata": {},
   "source": [
    "Our goal is to represent the data as character-level features, word by word. \n",
    "This means we will require the data to be in a shape\n",
    " - ### batch x word-position x character\n",
    "\n",
    "which is another dimension!\n",
    "### 1a\n",
    " - create a valid set of characters from `string.ascii_lowercase + string.digits + string.punctuation`\n",
    " - create character to int and int to character lookups\n",
    " - create word to int and int to word lookups\n",
    "\n",
    "### 1b\n",
    " - for every word (int) in a sequence, resolve it to a list of integers, which encode characters\n",
    " - pad each character sequence (which encodes a single word) to a constant length of 10 chars / word\n",
    "\n",
    "### 1c\n",
    " - Pad every word sequence (each now encoded as a list of integer sequences) to 125 words\n",
    "\n",
    "This should yield training data of the shape `(25000, 125, 10)`  `(examples x words x characters)` of type `int32`\n",
    "\n",
    "### 1d\n",
    " - make sure you can recover a coherent IMDB review from an element in `x_train`"
   ]
  },
  {
   "cell_type": "code",
   "execution_count": 80,
   "metadata": {},
   "outputs": [],
   "source": [
    "import string\n",
    "valid_chars = string.ascii_lowercase + string.digits + string.punctuation\n",
    "valid_chars = list(set(valid_chars))\n",
    "char_to_int = {c: i + 1 for i, c in enumerate(valid_chars)}  # save 0 for padding\n",
    "int_to_char = {i + 1: c for i, c in enumerate(valid_chars)}\n",
    "\n",
    "word_to_int = tokenizer.word_index\n",
    "int_to_word = {v: k for k, v in word_to_int.items()}"
   ]
  },
  {
   "cell_type": "code",
   "execution_count": 81,
   "metadata": {},
   "outputs": [],
   "source": [
    "MAX_CHARS_PER_WORD = 10\n",
    "MAX_SEQ_LEN_WORDS = 125\n",
    "UNK_CHAR = len(valid_chars) + 2"
   ]
  },
  {
   "cell_type": "code",
   "execution_count": 82,
   "metadata": {},
   "outputs": [],
   "source": [
    "def word_to_char_seq(word):\n",
    "    # your code here\n",
    "    if word not in int_to_word:\n",
    "        return [UNK_CHAR] * MAX_CHARS_PER_WORD\n",
    "    \n",
    "    # Get the word string and convert to lowercase\n",
    "    word_str = int_to_word[word].lower()\n",
    "    \n",
    "    # Convert characters to integers\n",
    "    char_seq = []\n",
    "    for char in word_str:\n",
    "        if char in char_to_int:\n",
    "            char_seq.append(char_to_int[char])\n",
    "        else:\n",
    "            char_seq.append(UNK_CHAR)\n",
    "            \n",
    "    # Pad or truncate to MAX_CHARS_PER_WORD\n",
    "    if len(char_seq) > MAX_CHARS_PER_WORD:\n",
    "        char_seq = char_seq[:MAX_CHARS_PER_WORD]\n",
    "    else:\n",
    "        char_seq = char_seq + [0] * (MAX_CHARS_PER_WORD - len(char_seq))\n",
    "        \n",
    "    return char_seq"
   ]
  },
  {
   "cell_type": "code",
   "execution_count": 83,
   "metadata": {},
   "outputs": [],
   "source": [
    "def word_seq_to_char_seq(word_seq):\n",
    "    # your code here\n",
    "    return [word_to_char_seq(word) for word in word_seq]"
   ]
  },
  {
   "cell_type": "code",
   "execution_count": 84,
   "metadata": {},
   "outputs": [
    {
     "name": "stderr",
     "output_type": "stream",
     "text": [
      "2024-12-04 16:25:25.056076: W tensorflow/core/framework/op_kernel.cc:1828] INVALID_ARGUMENT: ValueError: Could not find callback with key=pyfunc_2 in the registry.\n",
      "Traceback (most recent call last):\n",
      "\n",
      "  File \"/Users/bluebird/develop/15.S08_applied_nlp/venv_nlp/lib/python3.10/site-packages/tensorflow/python/ops/script_ops.py\", line 258, in __call__\n",
      "    raise ValueError(f\"Could not find callback with key={token} in the \"\n",
      "\n",
      "ValueError: Could not find callback with key=pyfunc_2 in the registry.\n",
      "\n",
      "\n",
      "2024-12-04 16:25:25.056802: W tensorflow/core/kernels/data/generator_dataset_op.cc:108] Error occurred when finalizing GeneratorDataset iterator: INVALID_ARGUMENT: ValueError: Could not find callback with key=pyfunc_2 in the registry.\n",
      "Traceback (most recent call last):\n",
      "\n",
      "  File \"/Users/bluebird/develop/15.S08_applied_nlp/venv_nlp/lib/python3.10/site-packages/tensorflow/python/ops/script_ops.py\", line 258, in __call__\n",
      "    raise ValueError(f\"Could not find callback with key={token} in the \"\n",
      "\n",
      "ValueError: Could not find callback with key=pyfunc_2 in the registry.\n",
      "\n",
      "\n",
      "\t [[{{node PyFunc}}]]\n"
     ]
    },
    {
     "name": "stdout",
     "output_type": "stream",
     "text": [
      "CPU times: user 12.2 s, sys: 364 ms, total: 12.6 s\n",
      "Wall time: 12.8 s\n"
     ]
    },
    {
     "data": {
      "text/plain": [
       "((25000, 125, 10), (25000, 125, 10))"
      ]
     },
     "execution_count": 84,
     "metadata": {},
     "output_type": "execute_result"
    }
   ],
   "source": [
    "%%time\n",
    "char_seqs_train = [word_seq_to_char_seq(ts) for ts in train_sequences]\n",
    "x_train = pad_sequences(char_seqs_train, maxlen=MAX_SEQ_LEN_WORDS)\n",
    "\n",
    "char_seqs_test = [word_seq_to_char_seq(ts) for ts in test_sequences]\n",
    "x_test = pad_sequences(char_seqs_test, maxlen=MAX_SEQ_LEN_WORDS)\n",
    "\n",
    "x_train.shape, x_test.shape"
   ]
  },
  {
   "cell_type": "code",
   "execution_count": 92,
   "metadata": {},
   "outputs": [],
   "source": [
    "def recover_text(char_sequence):\n",
    "    \"\"\"Recover original text from a character sequence\"\"\"\n",
    "    words = []\n",
    "    for word_chars in char_sequence:\n",
    "        # Skip if all zeros (padding)\n",
    "        if not np.any(word_chars):  # more efficient than all(c == 0)\n",
    "            continue\n",
    "            \n",
    "        # Convert character indices back to characters\n",
    "        chars = [int_to_char[idx] for idx in word_chars if idx != 0]\n",
    "        \n",
    "        if chars:  # only append if we have characters\n",
    "            words.append(''.join(chars))\n",
    "    \n",
    "    return words"
   ]
  },
  {
   "cell_type": "code",
   "execution_count": 95,
   "metadata": {},
   "outputs": [
    {
     "name": "stdout",
     "output_type": "stream",
     "text": [
      "Recovered text: that my son and an 11 year old friend myself and my daughters 23 year old boyfriend went to see the movie the next day for a guys day out we had even more fun the second time around and everyone raved about it it's clean and delightful acted by a pre adolescent cast reminiscen of the tv classic freaks and geeks we all feel it will become a sleeper hit not unlike the freaks geeks which didn't survive its first season but sold out its dvd release do see it especially if you have boys and you'll find it stimulates conversati about fun and safety girls will love it because of the opportunit it affords to say boys are so weird don't miss it\n"
     ]
    }
   ],
   "source": [
    "# make sure you can recover the original text\n",
    "recovered_words = recover_text(x_train[0])\n",
    "recovered_text = \" \".join(recovered_words)\n",
    "print(\"Recovered text:\", recovered_text)"
   ]
  },
  {
   "cell_type": "markdown",
   "metadata": {},
   "source": [
    "## Part 2: Create a network"
   ]
  },
  {
   "cell_type": "markdown",
   "metadata": {},
   "source": [
    "Sadly, keras cannot handle our extra dimension gracefully, so we will do a trick.\n",
    "\n",
    "TODO\n",
    " - One-hot-encode characters for the input layer, so that the network accepts data in a shape `batch x word-seq-index x char-seq-index x char-encoding`. \n",
    " - Reshape this into `(batch x word-seq-index x char-seq-index * char-encodeing)` in the network\n",
    " - Use a recurrent network or conv net of your choice for the rest of the modeling\n",
    " - fit the model\n",
    "\n",
    "__NB__: one hot encode the characters on the fly (in the data generators) for memory efficiency"
   ]
  },
  {
   "cell_type": "code",
   "execution_count": 98,
   "metadata": {},
   "outputs": [],
   "source": [
    "from tensorflow.keras.layers import Input, Reshape, LSTM, Dense, Dropout, TimeDistributed, Embedding, Conv1D, MaxPooling1D, GlobalMaxPooling1D, Flatten\n",
    "from tensorflow.keras.models import Model\n",
    "import tensorflow.keras.backend as K\n",
    "import tensorflow as tf"
   ]
  },
  {
   "cell_type": "code",
   "execution_count": 97,
   "metadata": {},
   "outputs": [],
   "source": [
    "MAX_CHARS = UNK_CHAR + 1"
   ]
  },
  {
   "cell_type": "code",
   "execution_count": 99,
   "metadata": {},
   "outputs": [
    {
     "data": {
      "text/html": [
       "<pre style=\"white-space:pre;overflow-x:auto;line-height:normal;font-family:Menlo,'DejaVu Sans Mono',consolas,'Courier New',monospace\"><span style=\"font-weight: bold\">Model: \"functional\"</span>\n",
       "</pre>\n"
      ],
      "text/plain": [
       "\u001b[1mModel: \"functional\"\u001b[0m\n"
      ]
     },
     "metadata": {},
     "output_type": "display_data"
    },
    {
     "data": {
      "text/html": [
       "<pre style=\"white-space:pre;overflow-x:auto;line-height:normal;font-family:Menlo,'DejaVu Sans Mono',consolas,'Courier New',monospace\">┏━━━━━━━━━━━━━━━━━━━━━━━━━━━━━━━━━┳━━━━━━━━━━━━━━━━━━━━━━━━┳━━━━━━━━━━━━━━━┓\n",
       "┃<span style=\"font-weight: bold\"> Layer (type)                    </span>┃<span style=\"font-weight: bold\"> Output Shape           </span>┃<span style=\"font-weight: bold\">       Param # </span>┃\n",
       "┡━━━━━━━━━━━━━━━━━━━━━━━━━━━━━━━━━╇━━━━━━━━━━━━━━━━━━━━━━━━╇━━━━━━━━━━━━━━━┩\n",
       "│ input_layer (<span style=\"color: #0087ff; text-decoration-color: #0087ff\">InputLayer</span>)        │ (<span style=\"color: #00d7ff; text-decoration-color: #00d7ff\">None</span>, <span style=\"color: #00af00; text-decoration-color: #00af00\">125</span>, <span style=\"color: #00af00; text-decoration-color: #00af00\">10</span>)        │             <span style=\"color: #00af00; text-decoration-color: #00af00\">0</span> │\n",
       "├─────────────────────────────────┼────────────────────────┼───────────────┤\n",
       "│ time_distributed                │ (<span style=\"color: #00d7ff; text-decoration-color: #00d7ff\">None</span>, <span style=\"color: #00af00; text-decoration-color: #00af00\">125</span>, <span style=\"color: #00af00; text-decoration-color: #00af00\">10</span>, <span style=\"color: #00af00; text-decoration-color: #00af00\">71</span>)    │             <span style=\"color: #00af00; text-decoration-color: #00af00\">0</span> │\n",
       "│ (<span style=\"color: #0087ff; text-decoration-color: #0087ff\">TimeDistributed</span>)               │                        │               │\n",
       "├─────────────────────────────────┼────────────────────────┼───────────────┤\n",
       "│ reshape (<span style=\"color: #0087ff; text-decoration-color: #0087ff\">Reshape</span>)               │ (<span style=\"color: #00d7ff; text-decoration-color: #00d7ff\">None</span>, <span style=\"color: #00af00; text-decoration-color: #00af00\">125</span>, <span style=\"color: #00af00; text-decoration-color: #00af00\">710</span>)       │             <span style=\"color: #00af00; text-decoration-color: #00af00\">0</span> │\n",
       "├─────────────────────────────────┼────────────────────────┼───────────────┤\n",
       "│ lstm (<span style=\"color: #0087ff; text-decoration-color: #0087ff\">LSTM</span>)                     │ (<span style=\"color: #00d7ff; text-decoration-color: #00d7ff\">None</span>, <span style=\"color: #00af00; text-decoration-color: #00af00\">125</span>, <span style=\"color: #00af00; text-decoration-color: #00af00\">128</span>)       │       <span style=\"color: #00af00; text-decoration-color: #00af00\">429,568</span> │\n",
       "├─────────────────────────────────┼────────────────────────┼───────────────┤\n",
       "│ dropout (<span style=\"color: #0087ff; text-decoration-color: #0087ff\">Dropout</span>)               │ (<span style=\"color: #00d7ff; text-decoration-color: #00d7ff\">None</span>, <span style=\"color: #00af00; text-decoration-color: #00af00\">125</span>, <span style=\"color: #00af00; text-decoration-color: #00af00\">128</span>)       │             <span style=\"color: #00af00; text-decoration-color: #00af00\">0</span> │\n",
       "├─────────────────────────────────┼────────────────────────┼───────────────┤\n",
       "│ lstm_1 (<span style=\"color: #0087ff; text-decoration-color: #0087ff\">LSTM</span>)                   │ (<span style=\"color: #00d7ff; text-decoration-color: #00d7ff\">None</span>, <span style=\"color: #00af00; text-decoration-color: #00af00\">64</span>)             │        <span style=\"color: #00af00; text-decoration-color: #00af00\">49,408</span> │\n",
       "├─────────────────────────────────┼────────────────────────┼───────────────┤\n",
       "│ dropout_1 (<span style=\"color: #0087ff; text-decoration-color: #0087ff\">Dropout</span>)             │ (<span style=\"color: #00d7ff; text-decoration-color: #00d7ff\">None</span>, <span style=\"color: #00af00; text-decoration-color: #00af00\">64</span>)             │             <span style=\"color: #00af00; text-decoration-color: #00af00\">0</span> │\n",
       "├─────────────────────────────────┼────────────────────────┼───────────────┤\n",
       "│ dense (<span style=\"color: #0087ff; text-decoration-color: #0087ff\">Dense</span>)                   │ (<span style=\"color: #00d7ff; text-decoration-color: #00d7ff\">None</span>, <span style=\"color: #00af00; text-decoration-color: #00af00\">64</span>)             │         <span style=\"color: #00af00; text-decoration-color: #00af00\">4,160</span> │\n",
       "├─────────────────────────────────┼────────────────────────┼───────────────┤\n",
       "│ dropout_2 (<span style=\"color: #0087ff; text-decoration-color: #0087ff\">Dropout</span>)             │ (<span style=\"color: #00d7ff; text-decoration-color: #00d7ff\">None</span>, <span style=\"color: #00af00; text-decoration-color: #00af00\">64</span>)             │             <span style=\"color: #00af00; text-decoration-color: #00af00\">0</span> │\n",
       "├─────────────────────────────────┼────────────────────────┼───────────────┤\n",
       "│ dense_1 (<span style=\"color: #0087ff; text-decoration-color: #0087ff\">Dense</span>)                 │ (<span style=\"color: #00d7ff; text-decoration-color: #00d7ff\">None</span>, <span style=\"color: #00af00; text-decoration-color: #00af00\">1</span>)              │            <span style=\"color: #00af00; text-decoration-color: #00af00\">65</span> │\n",
       "└─────────────────────────────────┴────────────────────────┴───────────────┘\n",
       "</pre>\n"
      ],
      "text/plain": [
       "┏━━━━━━━━━━━━━━━━━━━━━━━━━━━━━━━━━┳━━━━━━━━━━━━━━━━━━━━━━━━┳━━━━━━━━━━━━━━━┓\n",
       "┃\u001b[1m \u001b[0m\u001b[1mLayer (type)                   \u001b[0m\u001b[1m \u001b[0m┃\u001b[1m \u001b[0m\u001b[1mOutput Shape          \u001b[0m\u001b[1m \u001b[0m┃\u001b[1m \u001b[0m\u001b[1m      Param #\u001b[0m\u001b[1m \u001b[0m┃\n",
       "┡━━━━━━━━━━━━━━━━━━━━━━━━━━━━━━━━━╇━━━━━━━━━━━━━━━━━━━━━━━━╇━━━━━━━━━━━━━━━┩\n",
       "│ input_layer (\u001b[38;5;33mInputLayer\u001b[0m)        │ (\u001b[38;5;45mNone\u001b[0m, \u001b[38;5;34m125\u001b[0m, \u001b[38;5;34m10\u001b[0m)        │             \u001b[38;5;34m0\u001b[0m │\n",
       "├─────────────────────────────────┼────────────────────────┼───────────────┤\n",
       "│ time_distributed                │ (\u001b[38;5;45mNone\u001b[0m, \u001b[38;5;34m125\u001b[0m, \u001b[38;5;34m10\u001b[0m, \u001b[38;5;34m71\u001b[0m)    │             \u001b[38;5;34m0\u001b[0m │\n",
       "│ (\u001b[38;5;33mTimeDistributed\u001b[0m)               │                        │               │\n",
       "├─────────────────────────────────┼────────────────────────┼───────────────┤\n",
       "│ reshape (\u001b[38;5;33mReshape\u001b[0m)               │ (\u001b[38;5;45mNone\u001b[0m, \u001b[38;5;34m125\u001b[0m, \u001b[38;5;34m710\u001b[0m)       │             \u001b[38;5;34m0\u001b[0m │\n",
       "├─────────────────────────────────┼────────────────────────┼───────────────┤\n",
       "│ lstm (\u001b[38;5;33mLSTM\u001b[0m)                     │ (\u001b[38;5;45mNone\u001b[0m, \u001b[38;5;34m125\u001b[0m, \u001b[38;5;34m128\u001b[0m)       │       \u001b[38;5;34m429,568\u001b[0m │\n",
       "├─────────────────────────────────┼────────────────────────┼───────────────┤\n",
       "│ dropout (\u001b[38;5;33mDropout\u001b[0m)               │ (\u001b[38;5;45mNone\u001b[0m, \u001b[38;5;34m125\u001b[0m, \u001b[38;5;34m128\u001b[0m)       │             \u001b[38;5;34m0\u001b[0m │\n",
       "├─────────────────────────────────┼────────────────────────┼───────────────┤\n",
       "│ lstm_1 (\u001b[38;5;33mLSTM\u001b[0m)                   │ (\u001b[38;5;45mNone\u001b[0m, \u001b[38;5;34m64\u001b[0m)             │        \u001b[38;5;34m49,408\u001b[0m │\n",
       "├─────────────────────────────────┼────────────────────────┼───────────────┤\n",
       "│ dropout_1 (\u001b[38;5;33mDropout\u001b[0m)             │ (\u001b[38;5;45mNone\u001b[0m, \u001b[38;5;34m64\u001b[0m)             │             \u001b[38;5;34m0\u001b[0m │\n",
       "├─────────────────────────────────┼────────────────────────┼───────────────┤\n",
       "│ dense (\u001b[38;5;33mDense\u001b[0m)                   │ (\u001b[38;5;45mNone\u001b[0m, \u001b[38;5;34m64\u001b[0m)             │         \u001b[38;5;34m4,160\u001b[0m │\n",
       "├─────────────────────────────────┼────────────────────────┼───────────────┤\n",
       "│ dropout_2 (\u001b[38;5;33mDropout\u001b[0m)             │ (\u001b[38;5;45mNone\u001b[0m, \u001b[38;5;34m64\u001b[0m)             │             \u001b[38;5;34m0\u001b[0m │\n",
       "├─────────────────────────────────┼────────────────────────┼───────────────┤\n",
       "│ dense_1 (\u001b[38;5;33mDense\u001b[0m)                 │ (\u001b[38;5;45mNone\u001b[0m, \u001b[38;5;34m1\u001b[0m)              │            \u001b[38;5;34m65\u001b[0m │\n",
       "└─────────────────────────────────┴────────────────────────┴───────────────┘\n"
      ]
     },
     "metadata": {},
     "output_type": "display_data"
    },
    {
     "data": {
      "text/html": [
       "<pre style=\"white-space:pre;overflow-x:auto;line-height:normal;font-family:Menlo,'DejaVu Sans Mono',consolas,'Courier New',monospace\"><span style=\"font-weight: bold\"> Total params: </span><span style=\"color: #00af00; text-decoration-color: #00af00\">483,201</span> (1.84 MB)\n",
       "</pre>\n"
      ],
      "text/plain": [
       "\u001b[1m Total params: \u001b[0m\u001b[38;5;34m483,201\u001b[0m (1.84 MB)\n"
      ]
     },
     "metadata": {},
     "output_type": "display_data"
    },
    {
     "data": {
      "text/html": [
       "<pre style=\"white-space:pre;overflow-x:auto;line-height:normal;font-family:Menlo,'DejaVu Sans Mono',consolas,'Courier New',monospace\"><span style=\"font-weight: bold\"> Trainable params: </span><span style=\"color: #00af00; text-decoration-color: #00af00\">483,201</span> (1.84 MB)\n",
       "</pre>\n"
      ],
      "text/plain": [
       "\u001b[1m Trainable params: \u001b[0m\u001b[38;5;34m483,201\u001b[0m (1.84 MB)\n"
      ]
     },
     "metadata": {},
     "output_type": "display_data"
    },
    {
     "data": {
      "text/html": [
       "<pre style=\"white-space:pre;overflow-x:auto;line-height:normal;font-family:Menlo,'DejaVu Sans Mono',consolas,'Courier New',monospace\"><span style=\"font-weight: bold\"> Non-trainable params: </span><span style=\"color: #00af00; text-decoration-color: #00af00\">0</span> (0.00 B)\n",
       "</pre>\n"
      ],
      "text/plain": [
       "\u001b[1m Non-trainable params: \u001b[0m\u001b[38;5;34m0\u001b[0m (0.00 B)\n"
      ]
     },
     "metadata": {},
     "output_type": "display_data"
    }
   ],
   "source": [
    "K.clear_session()\n",
    "char_token_input = Input(shape=(MAX_SEQ_LEN_WORDS, MAX_CHARS_PER_WORD))\n",
    "\n",
    "# your model definition here\n",
    "embedded = TimeDistributed(Lambda(lambda x: tf.one_hot(tf.cast(x, 'int32'), MAX_CHARS)))(char_token_input)\n",
    "char_encoding_dim = MAX_CHARS\n",
    "reshaped = Reshape((MAX_SEQ_LEN_WORDS, -1))(embedded)\n",
    "x = LSTM(128, return_sequences=True)(reshaped)\n",
    "x = Dropout(0.5)(x)\n",
    "x = LSTM(64)(x)\n",
    "x = Dropout(0.5)(x)\n",
    "x = Dense(64, activation='relu')(x)\n",
    "x = Dropout(0.5)(x)\n",
    "output = Dense(1, activation='sigmoid')(x)\n",
    "\n",
    "model = Model(char_token_input, output)\n",
    "model.compile(\"adam\", loss=\"binary_crossentropy\", metrics=[\"acc\"])\n",
    "model.summary()"
   ]
  },
  {
   "cell_type": "code",
   "execution_count": 100,
   "metadata": {},
   "outputs": [],
   "source": [
    "from tensorflow.keras.utils import to_categorical\n",
    "import funcy\n",
    "\n",
    "def train_gen(batch_size):\n",
    "    # your code here, be sure to one-hot encode characters on the fly\n",
    "    n_samples = len(x_train)\n",
    "    while True:\n",
    "        # Shuffle the data each epoch\n",
    "        indices = np.arange(n_samples)\n",
    "        np.random.shuffle(indices)\n",
    "        \n",
    "        # Generate batches\n",
    "        for start in range(0, n_samples, batch_size):\n",
    "            end = min(start + batch_size, n_samples)\n",
    "            batch_indices = indices[start:end]\n",
    "            \n",
    "            batch_x = x_train[batch_indices]\n",
    "            batch_y = y_train[batch_indices]\n",
    "            \n",
    "            yield batch_x, batch_y\n",
    "\n",
    "\n",
    "def val_gen(batch_size):\n",
    "    # your code here, be sure to one-hot encode characters on the fly\n",
    "    n_samples = len(x_test)\n",
    "    while True:\n",
    "        # Generate sequential batches for validation\n",
    "        for start in range(0, n_samples, batch_size):\n",
    "            end = min(start + batch_size, n_samples)\n",
    "            \n",
    "            batch_x = x_test[start:end]\n",
    "            batch_y = y_test[start:end]\n",
    "            \n",
    "            yield batch_x, batch_y"
   ]
  },
  {
   "cell_type": "code",
   "execution_count": null,
   "metadata": {
    "scrolled": false
   },
   "outputs": [
    {
     "name": "stdout",
     "output_type": "stream",
     "text": [
      "Epoch 1/5\n",
      "\u001b[1m97/97\u001b[0m \u001b[32m━━━━━━━━━━━━━━━━━━━━\u001b[0m\u001b[37m\u001b[0m \u001b[1m53s\u001b[0m 533ms/step - acc: 0.5245 - loss: 0.6889 - val_acc: 0.5886 - val_loss: 0.6599 - learning_rate: 0.0010\n",
      "Epoch 2/5\n",
      "\u001b[1m97/97\u001b[0m \u001b[32m━━━━━━━━━━━━━━━━━━━━\u001b[0m\u001b[37m\u001b[0m \u001b[1m49s\u001b[0m 503ms/step - acc: 0.6543 - loss: 0.6278 - val_acc: 0.7142 - val_loss: 0.5598 - learning_rate: 0.0010\n",
      "Epoch 3/5\n",
      "\u001b[1m97/97\u001b[0m \u001b[32m━━━━━━━━━━━━━━━━━━━━\u001b[0m\u001b[37m\u001b[0m \u001b[1m48s\u001b[0m 492ms/step - acc: 0.7130 - loss: 0.5723 - val_acc: 0.7298 - val_loss: 0.5290 - learning_rate: 0.0010\n"
     ]
    },
    {
     "data": {
      "text/plain": [
       "<keras.src.callbacks.history.History at 0x377de78b0>"
      ]
     },
     "execution_count": 101,
     "metadata": {},
     "output_type": "execute_result"
    }
   ],
   "source": [
    "batch_size = 256\n",
    "callbacks = [early_stopping, reduce_lr]\n",
    "\n",
    "model.fit(\n",
    "    train_gen(batch_size),\n",
    "    validation_data=val_gen(batch_size),\n",
    "    epochs=5,\n",
    "    steps_per_epoch=x_train.shape[0] // batch_size,\n",
    "    validation_steps=x_test.shape[0] // batch_size,\n",
    "    callbacks=callbacks\n",
    ")"
   ]
  },
  {
   "cell_type": "markdown",
   "metadata": {},
   "source": [
    "## Part 3: Discuss results"
   ]
  },
  {
   "cell_type": "markdown",
   "metadata": {},
   "source": [
    "### What are the advantages and disadvantages of using character-level word features\n",
    "\n",
    "**Character-level Word Features**\n",
    "\n",
    "Advantages:\n",
    "- Better handling of out-of-vocabulary (OOV) words\n",
    "    - Can capture partial word matches\n",
    "    - Can handle misspellings and variants\n",
    "    - More robust to rare words\n",
    "-  Parameter efficiency\n",
    "    - Vocabulary size is limited to character set (much smaller than word vocabulary)\n",
    "    - Shared parameters across similar words\n",
    "- Morphological awareness\n",
    "    - Can capture prefixes/suffixes\n",
    "    - Natural handling of word variations (e.g., \"jump\", \"jumped\", \"jumping\")\n",
    "\n",
    "Disadvantages:\n",
    "- Increased sequence length\n",
    "    - Each word becomes a sequence of characters\n",
    "    - More time steps for the model to process\n",
    "- More complex patterns to learn\n",
    "    - Model must learn both character-level and word-level patterns\n",
    "    - May require more training data\n",
    "    - May need deeper architectures\n",
    "\n",
    "### What are the advantages and disadvantages of the reshaping trick that we did\n",
    "\n",
    "**The Reshaping Trick**\n",
    "\n",
    "Advantages:\n",
    "- Framework compatibility\n",
    "    - Allows us to use standard Keras layers\n",
    "    - Avoids need for custom layer implementations\n",
    "- Computational efficiency\n",
    "    - Single matrix multiplication instead of nested operations\n",
    "    - Better parallelization potential\n",
    "\n",
    "Disadvantages:\n",
    "- Loss of hierarchical structure\n",
    "    - Flattens the character-level information\n",
    "    - May make it harder for model to learn natural character groupings\n",
    "- Less interpretable\n",
    "    - Harder to analyze what the model learns at character level\n",
    "    - Feature interactions become more opaque\n",
    "- Memory intensive\n",
    "    - One-hot encoding increases dimensionality significantly\n",
    "    - Full matrix must be stored in memory during forward/backward passes\n"
   ]
  },
  {
   "cell_type": "markdown",
   "metadata": {},
   "source": [
    "## Part 4: Improving our model"
   ]
  },
  {
   "cell_type": "markdown",
   "metadata": {},
   "source": [
    "In fact, we don't need to use the trick to reshape our data.\n",
    "What we really want is a character-level convolution model that we can apply word by word. \n",
    "Luckily, keras has a Layer (really a layer wrapper) called `TimeDistributed`, which will\n",
    "apply an operation element by element in a sequence. \n",
    "\n",
    "TODO\n",
    " - create a model that is __only__ the character-level encoding of a word.\n",
    "   - accept a single word as an input (shape=`(MAX_CHARS_PER_WORD, MAX_CHARS)`)\n",
    "   - the model should reshape the data to `(MAX_CHARS_PER_WORD * MAX_CHARS)`\n",
    "   - after reshaping the model should apply several convultional blocks to find the features that best represent the word.\n",
    "   - output should be a single vector of shape `(hidden,)` (try 128)\n",
    " - Use the `TimeDistributed` function to apply this entire model, word by word, to a sequence\n",
    " - This will yield a `hidden`-d digest of every word\n",
    " - Use LSTMs and Dense layers to complete the network and classify the sentiment\n",
    "\n",
    "\n",
    "__NB__: a model can be applied like any other layer or operation: `ouput = my_model(input_tensor)`"
   ]
  },
  {
   "cell_type": "code",
   "execution_count": 103,
   "metadata": {},
   "outputs": [],
   "source": [
    "from tensorflow.keras.layers import TimeDistributed"
   ]
  },
  {
   "cell_type": "code",
   "execution_count": null,
   "metadata": {
    "scrolled": false
   },
   "outputs": [
    {
     "data": {
      "text/html": [
       "<pre style=\"white-space:pre;overflow-x:auto;line-height:normal;font-family:Menlo,'DejaVu Sans Mono',consolas,'Courier New',monospace\"><span style=\"font-weight: bold\">Model: \"functional_1\"</span>\n",
       "</pre>\n"
      ],
      "text/plain": [
       "\u001b[1mModel: \"functional_1\"\u001b[0m\n"
      ]
     },
     "metadata": {},
     "output_type": "display_data"
    },
    {
     "data": {
      "text/html": [
       "<pre style=\"white-space:pre;overflow-x:auto;line-height:normal;font-family:Menlo,'DejaVu Sans Mono',consolas,'Courier New',monospace\">┏━━━━━━━━━━━━━━━━━━━━━━━━━━━━━━━━━┳━━━━━━━━━━━━━━━━━━━━━━━━┳━━━━━━━━━━━━━━━┓\n",
       "┃<span style=\"font-weight: bold\"> Layer (type)                    </span>┃<span style=\"font-weight: bold\"> Output Shape           </span>┃<span style=\"font-weight: bold\">       Param # </span>┃\n",
       "┡━━━━━━━━━━━━━━━━━━━━━━━━━━━━━━━━━╇━━━━━━━━━━━━━━━━━━━━━━━━╇━━━━━━━━━━━━━━━┩\n",
       "│ input_layer (<span style=\"color: #0087ff; text-decoration-color: #0087ff\">InputLayer</span>)        │ (<span style=\"color: #00d7ff; text-decoration-color: #00d7ff\">None</span>, <span style=\"color: #00af00; text-decoration-color: #00af00\">125</span>, <span style=\"color: #00af00; text-decoration-color: #00af00\">10</span>)        │             <span style=\"color: #00af00; text-decoration-color: #00af00\">0</span> │\n",
       "├─────────────────────────────────┼────────────────────────┼───────────────┤\n",
       "│ lambda (<span style=\"color: #0087ff; text-decoration-color: #0087ff\">Lambda</span>)                 │ (<span style=\"color: #00d7ff; text-decoration-color: #00d7ff\">None</span>, <span style=\"color: #00af00; text-decoration-color: #00af00\">125</span>, <span style=\"color: #00af00; text-decoration-color: #00af00\">10</span>, <span style=\"color: #00af00; text-decoration-color: #00af00\">71</span>)    │             <span style=\"color: #00af00; text-decoration-color: #00af00\">0</span> │\n",
       "├─────────────────────────────────┼────────────────────────┼───────────────┤\n",
       "│ time_distributed                │ (<span style=\"color: #00d7ff; text-decoration-color: #00d7ff\">None</span>, <span style=\"color: #00af00; text-decoration-color: #00af00\">125</span>, <span style=\"color: #00af00; text-decoration-color: #00af00\">128</span>)       │       <span style=\"color: #00af00; text-decoration-color: #00af00\">186,112</span> │\n",
       "│ (<span style=\"color: #0087ff; text-decoration-color: #0087ff\">TimeDistributed</span>)               │                        │               │\n",
       "├─────────────────────────────────┼────────────────────────┼───────────────┤\n",
       "│ lstm (<span style=\"color: #0087ff; text-decoration-color: #0087ff\">LSTM</span>)                     │ (<span style=\"color: #00d7ff; text-decoration-color: #00d7ff\">None</span>, <span style=\"color: #00af00; text-decoration-color: #00af00\">125</span>, <span style=\"color: #00af00; text-decoration-color: #00af00\">256</span>)       │       <span style=\"color: #00af00; text-decoration-color: #00af00\">394,240</span> │\n",
       "├─────────────────────────────────┼────────────────────────┼───────────────┤\n",
       "│ dropout (<span style=\"color: #0087ff; text-decoration-color: #0087ff\">Dropout</span>)               │ (<span style=\"color: #00d7ff; text-decoration-color: #00d7ff\">None</span>, <span style=\"color: #00af00; text-decoration-color: #00af00\">125</span>, <span style=\"color: #00af00; text-decoration-color: #00af00\">256</span>)       │             <span style=\"color: #00af00; text-decoration-color: #00af00\">0</span> │\n",
       "├─────────────────────────────────┼────────────────────────┼───────────────┤\n",
       "│ lstm_1 (<span style=\"color: #0087ff; text-decoration-color: #0087ff\">LSTM</span>)                   │ (<span style=\"color: #00d7ff; text-decoration-color: #00d7ff\">None</span>, <span style=\"color: #00af00; text-decoration-color: #00af00\">128</span>)            │       <span style=\"color: #00af00; text-decoration-color: #00af00\">197,120</span> │\n",
       "├─────────────────────────────────┼────────────────────────┼───────────────┤\n",
       "│ dropout_1 (<span style=\"color: #0087ff; text-decoration-color: #0087ff\">Dropout</span>)             │ (<span style=\"color: #00d7ff; text-decoration-color: #00d7ff\">None</span>, <span style=\"color: #00af00; text-decoration-color: #00af00\">128</span>)            │             <span style=\"color: #00af00; text-decoration-color: #00af00\">0</span> │\n",
       "├─────────────────────────────────┼────────────────────────┼───────────────┤\n",
       "│ dense (<span style=\"color: #0087ff; text-decoration-color: #0087ff\">Dense</span>)                   │ (<span style=\"color: #00d7ff; text-decoration-color: #00d7ff\">None</span>, <span style=\"color: #00af00; text-decoration-color: #00af00\">64</span>)             │         <span style=\"color: #00af00; text-decoration-color: #00af00\">8,256</span> │\n",
       "├─────────────────────────────────┼────────────────────────┼───────────────┤\n",
       "│ dropout_2 (<span style=\"color: #0087ff; text-decoration-color: #0087ff\">Dropout</span>)             │ (<span style=\"color: #00d7ff; text-decoration-color: #00d7ff\">None</span>, <span style=\"color: #00af00; text-decoration-color: #00af00\">64</span>)             │             <span style=\"color: #00af00; text-decoration-color: #00af00\">0</span> │\n",
       "├─────────────────────────────────┼────────────────────────┼───────────────┤\n",
       "│ dense_1 (<span style=\"color: #0087ff; text-decoration-color: #0087ff\">Dense</span>)                 │ (<span style=\"color: #00d7ff; text-decoration-color: #00d7ff\">None</span>, <span style=\"color: #00af00; text-decoration-color: #00af00\">1</span>)              │            <span style=\"color: #00af00; text-decoration-color: #00af00\">65</span> │\n",
       "└─────────────────────────────────┴────────────────────────┴───────────────┘\n",
       "</pre>\n"
      ],
      "text/plain": [
       "┏━━━━━━━━━━━━━━━━━━━━━━━━━━━━━━━━━┳━━━━━━━━━━━━━━━━━━━━━━━━┳━━━━━━━━━━━━━━━┓\n",
       "┃\u001b[1m \u001b[0m\u001b[1mLayer (type)                   \u001b[0m\u001b[1m \u001b[0m┃\u001b[1m \u001b[0m\u001b[1mOutput Shape          \u001b[0m\u001b[1m \u001b[0m┃\u001b[1m \u001b[0m\u001b[1m      Param #\u001b[0m\u001b[1m \u001b[0m┃\n",
       "┡━━━━━━━━━━━━━━━━━━━━━━━━━━━━━━━━━╇━━━━━━━━━━━━━━━━━━━━━━━━╇━━━━━━━━━━━━━━━┩\n",
       "│ input_layer (\u001b[38;5;33mInputLayer\u001b[0m)        │ (\u001b[38;5;45mNone\u001b[0m, \u001b[38;5;34m125\u001b[0m, \u001b[38;5;34m10\u001b[0m)        │             \u001b[38;5;34m0\u001b[0m │\n",
       "├─────────────────────────────────┼────────────────────────┼───────────────┤\n",
       "│ lambda (\u001b[38;5;33mLambda\u001b[0m)                 │ (\u001b[38;5;45mNone\u001b[0m, \u001b[38;5;34m125\u001b[0m, \u001b[38;5;34m10\u001b[0m, \u001b[38;5;34m71\u001b[0m)    │             \u001b[38;5;34m0\u001b[0m │\n",
       "├─────────────────────────────────┼────────────────────────┼───────────────┤\n",
       "│ time_distributed                │ (\u001b[38;5;45mNone\u001b[0m, \u001b[38;5;34m125\u001b[0m, \u001b[38;5;34m128\u001b[0m)       │       \u001b[38;5;34m186,112\u001b[0m │\n",
       "│ (\u001b[38;5;33mTimeDistributed\u001b[0m)               │                        │               │\n",
       "├─────────────────────────────────┼────────────────────────┼───────────────┤\n",
       "│ lstm (\u001b[38;5;33mLSTM\u001b[0m)                     │ (\u001b[38;5;45mNone\u001b[0m, \u001b[38;5;34m125\u001b[0m, \u001b[38;5;34m256\u001b[0m)       │       \u001b[38;5;34m394,240\u001b[0m │\n",
       "├─────────────────────────────────┼────────────────────────┼───────────────┤\n",
       "│ dropout (\u001b[38;5;33mDropout\u001b[0m)               │ (\u001b[38;5;45mNone\u001b[0m, \u001b[38;5;34m125\u001b[0m, \u001b[38;5;34m256\u001b[0m)       │             \u001b[38;5;34m0\u001b[0m │\n",
       "├─────────────────────────────────┼────────────────────────┼───────────────┤\n",
       "│ lstm_1 (\u001b[38;5;33mLSTM\u001b[0m)                   │ (\u001b[38;5;45mNone\u001b[0m, \u001b[38;5;34m128\u001b[0m)            │       \u001b[38;5;34m197,120\u001b[0m │\n",
       "├─────────────────────────────────┼────────────────────────┼───────────────┤\n",
       "│ dropout_1 (\u001b[38;5;33mDropout\u001b[0m)             │ (\u001b[38;5;45mNone\u001b[0m, \u001b[38;5;34m128\u001b[0m)            │             \u001b[38;5;34m0\u001b[0m │\n",
       "├─────────────────────────────────┼────────────────────────┼───────────────┤\n",
       "│ dense (\u001b[38;5;33mDense\u001b[0m)                   │ (\u001b[38;5;45mNone\u001b[0m, \u001b[38;5;34m64\u001b[0m)             │         \u001b[38;5;34m8,256\u001b[0m │\n",
       "├─────────────────────────────────┼────────────────────────┼───────────────┤\n",
       "│ dropout_2 (\u001b[38;5;33mDropout\u001b[0m)             │ (\u001b[38;5;45mNone\u001b[0m, \u001b[38;5;34m64\u001b[0m)             │             \u001b[38;5;34m0\u001b[0m │\n",
       "├─────────────────────────────────┼────────────────────────┼───────────────┤\n",
       "│ dense_1 (\u001b[38;5;33mDense\u001b[0m)                 │ (\u001b[38;5;45mNone\u001b[0m, \u001b[38;5;34m1\u001b[0m)              │            \u001b[38;5;34m65\u001b[0m │\n",
       "└─────────────────────────────────┴────────────────────────┴───────────────┘\n"
      ]
     },
     "metadata": {},
     "output_type": "display_data"
    },
    {
     "data": {
      "text/html": [
       "<pre style=\"white-space:pre;overflow-x:auto;line-height:normal;font-family:Menlo,'DejaVu Sans Mono',consolas,'Courier New',monospace\"><span style=\"font-weight: bold\"> Total params: </span><span style=\"color: #00af00; text-decoration-color: #00af00\">785,793</span> (3.00 MB)\n",
       "</pre>\n"
      ],
      "text/plain": [
       "\u001b[1m Total params: \u001b[0m\u001b[38;5;34m785,793\u001b[0m (3.00 MB)\n"
      ]
     },
     "metadata": {},
     "output_type": "display_data"
    },
    {
     "data": {
      "text/html": [
       "<pre style=\"white-space:pre;overflow-x:auto;line-height:normal;font-family:Menlo,'DejaVu Sans Mono',consolas,'Courier New',monospace\"><span style=\"font-weight: bold\"> Trainable params: </span><span style=\"color: #00af00; text-decoration-color: #00af00\">785,793</span> (3.00 MB)\n",
       "</pre>\n"
      ],
      "text/plain": [
       "\u001b[1m Trainable params: \u001b[0m\u001b[38;5;34m785,793\u001b[0m (3.00 MB)\n"
      ]
     },
     "metadata": {},
     "output_type": "display_data"
    },
    {
     "data": {
      "text/html": [
       "<pre style=\"white-space:pre;overflow-x:auto;line-height:normal;font-family:Menlo,'DejaVu Sans Mono',consolas,'Courier New',monospace\"><span style=\"font-weight: bold\"> Non-trainable params: </span><span style=\"color: #00af00; text-decoration-color: #00af00\">0</span> (0.00 B)\n",
       "</pre>\n"
      ],
      "text/plain": [
       "\u001b[1m Non-trainable params: \u001b[0m\u001b[38;5;34m0\u001b[0m (0.00 B)\n"
      ]
     },
     "metadata": {},
     "output_type": "display_data"
    }
   ],
   "source": [
    "K.clear_session()\n",
    "\n",
    "# define the encoder\n",
    "#(this should work, but feel free to play with it)\n",
    "conv_layers = [\n",
    "    Reshape((MAX_CHARS_PER_WORD, MAX_CHARS)),\n",
    "    Conv1D(256, 3, activation=\"relu\"),\n",
    "    Conv1D(128, 3, activation=\"relu\"),\n",
    "    MaxPooling1D(2),\n",
    "    Conv1D(128, 2, activation=\"relu\"),\n",
    "    GlobalMaxPooling1D(),\n",
    "]\n",
    "\n",
    "from tensorflow.keras.models import Sequential\n",
    "encoder = Sequential()\n",
    "for cl in conv_layers:\n",
    "    encoder.add(cl)\n",
    "\n",
    "\n",
    "input_shape = (MAX_SEQ_LEN_WORDS, MAX_CHARS_PER_WORD)\n",
    "inpt = Input(shape=input_shape)\n",
    "\n",
    "hidden = Lambda(lambda x: tf.one_hot(tf.cast(x, 'int32'), MAX_CHARS))(inpt)\n",
    "hidden = TimeDistributed(encoder)(hidden)\n",
    "\n",
    "# more model definition here\n",
    "hidden = LSTM(256, return_sequences=True)(hidden)\n",
    "hidden = Dropout(0.5)(hidden)\n",
    "hidden = LSTM(128)(hidden)\n",
    "hidden = Dropout(0.5)(hidden)\n",
    "hidden = Dense(64, activation='relu')(hidden)\n",
    "hidden = Dropout(0.5)(hidden)\n",
    "output = Dense(1, activation='sigmoid')(hidden)\n",
    "\n",
    "model = Model(inputs=inpt, outputs=output)\n",
    "model.compile(\"adam\", loss=\"binary_crossentropy\", metrics=[\"acc\"])\n",
    "model.summary()"
   ]
  },
  {
   "cell_type": "code",
   "execution_count": 106,
   "metadata": {},
   "outputs": [
    {
     "name": "stdout",
     "output_type": "stream",
     "text": [
      "Epoch 1/10\n",
      "\u001b[1m97/97\u001b[0m \u001b[32m━━━━━━━━━━━━━━━━━━━━\u001b[0m\u001b[37m\u001b[0m \u001b[1m171s\u001b[0m 2s/step - acc: 0.4960 - loss: 0.6942 - val_acc: 0.5424 - val_loss: 0.6917 - learning_rate: 0.0010\n",
      "Epoch 2/10\n",
      "\u001b[1m97/97\u001b[0m \u001b[32m━━━━━━━━━━━━━━━━━━━━\u001b[0m\u001b[37m\u001b[0m \u001b[1m155s\u001b[0m 2s/step - acc: 0.5684 - loss: 0.6751 - val_acc: 0.7509 - val_loss: 0.5235 - learning_rate: 0.0010\n",
      "Epoch 3/10\n",
      "\u001b[1m97/97\u001b[0m \u001b[32m━━━━━━━━━━━━━━━━━━━━\u001b[0m\u001b[37m\u001b[0m \u001b[1m152s\u001b[0m 2s/step - acc: 0.7418 - loss: 0.5327 - val_acc: 0.8067 - val_loss: 0.4252 - learning_rate: 0.0010\n"
     ]
    }
   ],
   "source": [
    "# fit the model\n",
    "batch_size = 256\n",
    "history = model.fit(\n",
    "    train_gen(batch_size),\n",
    "    validation_data=val_gen(batch_size),\n",
    "    epochs=10,\n",
    "    steps_per_epoch=len(x_train) // batch_size,\n",
    "    validation_steps=len(x_test) // batch_size,\n",
    "    callbacks=[early_stopping, reduce_lr]\n",
    ")"
   ]
  },
  {
   "cell_type": "markdown",
   "metadata": {},
   "source": [
    "## Part 5: Analysis"
   ]
  },
  {
   "cell_type": "markdown",
   "metadata": {},
   "source": [
    "In fact, our new model which we apply word by word can be thought of as a \n",
    "learned, non-linear (and somewhat complex) digest or \"embedding\" of each word\n",
    "that is learned from the characters that comprise the word.\n",
    "\n",
    "We can explore what this embedding gives us. \n",
    "\n",
    "TODO:\n",
    " - pick a few words and apply the model to them to get their vector representation\n",
    " - be sure to include words not in the vocabulary\n",
    " - pick a few words and calculate the similarity between their vector representation\n",
    " - comment on the results"
   ]
  },
  {
   "cell_type": "code",
   "execution_count": 107,
   "metadata": {},
   "outputs": [
    {
     "name": "stdout",
     "output_type": "stream",
     "text": [
      "\u001b[1m1/1\u001b[0m \u001b[32m━━━━━━━━━━━━━━━━━━━━\u001b[0m\u001b[37m\u001b[0m \u001b[1m0s\u001b[0m 34ms/step\n"
     ]
    },
    {
     "data": {
      "text/html": [
       "<div>\n",
       "<style scoped>\n",
       "    .dataframe tbody tr th:only-of-type {\n",
       "        vertical-align: middle;\n",
       "    }\n",
       "\n",
       "    .dataframe tbody tr th {\n",
       "        vertical-align: top;\n",
       "    }\n",
       "\n",
       "    .dataframe thead th {\n",
       "        text-align: right;\n",
       "    }\n",
       "</style>\n",
       "<table border=\"1\" class=\"dataframe\">\n",
       "  <thead>\n",
       "    <tr style=\"text-align: right;\">\n",
       "      <th></th>\n",
       "      <th>jump</th>\n",
       "      <th>jumped</th>\n",
       "      <th>jumps</th>\n",
       "      <th>leap</th>\n",
       "      <th>leaps</th>\n",
       "      <th>tuesday</th>\n",
       "      <th>wednesday</th>\n",
       "      <th>bad</th>\n",
       "      <th>funny</th>\n",
       "      <th>hilarious</th>\n",
       "      <th>scary</th>\n",
       "      <th>exemplary</th>\n",
       "      <th>exemplerey</th>\n",
       "      <th>happy</th>\n",
       "      <th>unhappy</th>\n",
       "      <th>wrogye</th>\n",
       "      <th>unwrogye</th>\n",
       "      <th>wrogyed</th>\n",
       "    </tr>\n",
       "  </thead>\n",
       "  <tbody>\n",
       "    <tr>\n",
       "      <th>jump</th>\n",
       "      <td>1.000000</td>\n",
       "      <td>0.764495</td>\n",
       "      <td>0.598764</td>\n",
       "      <td>0.647045</td>\n",
       "      <td>0.508508</td>\n",
       "      <td>0.482536</td>\n",
       "      <td>0.435503</td>\n",
       "      <td>0.679658</td>\n",
       "      <td>0.622398</td>\n",
       "      <td>0.245666</td>\n",
       "      <td>0.386312</td>\n",
       "      <td>0.303388</td>\n",
       "      <td>0.372699</td>\n",
       "      <td>0.596177</td>\n",
       "      <td>0.414633</td>\n",
       "      <td>0.551997</td>\n",
       "      <td>0.231156</td>\n",
       "      <td>0.542999</td>\n",
       "    </tr>\n",
       "    <tr>\n",
       "      <th>jumped</th>\n",
       "      <td>0.764495</td>\n",
       "      <td>1.000000</td>\n",
       "      <td>0.739674</td>\n",
       "      <td>0.516270</td>\n",
       "      <td>0.656761</td>\n",
       "      <td>0.545505</td>\n",
       "      <td>0.526633</td>\n",
       "      <td>0.703731</td>\n",
       "      <td>0.550829</td>\n",
       "      <td>0.257609</td>\n",
       "      <td>0.351338</td>\n",
       "      <td>0.237852</td>\n",
       "      <td>0.263628</td>\n",
       "      <td>0.732327</td>\n",
       "      <td>0.546637</td>\n",
       "      <td>0.573726</td>\n",
       "      <td>0.261591</td>\n",
       "      <td>0.569360</td>\n",
       "    </tr>\n",
       "    <tr>\n",
       "      <th>jumps</th>\n",
       "      <td>0.598764</td>\n",
       "      <td>0.739674</td>\n",
       "      <td>1.000000</td>\n",
       "      <td>0.604761</td>\n",
       "      <td>0.872101</td>\n",
       "      <td>0.736139</td>\n",
       "      <td>0.668463</td>\n",
       "      <td>0.617459</td>\n",
       "      <td>0.679487</td>\n",
       "      <td>0.459188</td>\n",
       "      <td>0.574944</td>\n",
       "      <td>0.442298</td>\n",
       "      <td>0.495845</td>\n",
       "      <td>0.784060</td>\n",
       "      <td>0.735388</td>\n",
       "      <td>0.680620</td>\n",
       "      <td>0.508542</td>\n",
       "      <td>0.686031</td>\n",
       "    </tr>\n",
       "    <tr>\n",
       "      <th>leap</th>\n",
       "      <td>0.647045</td>\n",
       "      <td>0.516270</td>\n",
       "      <td>0.604761</td>\n",
       "      <td>1.000000</td>\n",
       "      <td>0.710745</td>\n",
       "      <td>0.657450</td>\n",
       "      <td>0.588291</td>\n",
       "      <td>0.658806</td>\n",
       "      <td>0.676989</td>\n",
       "      <td>0.401585</td>\n",
       "      <td>0.618175</td>\n",
       "      <td>0.438449</td>\n",
       "      <td>0.497757</td>\n",
       "      <td>0.618177</td>\n",
       "      <td>0.507051</td>\n",
       "      <td>0.561576</td>\n",
       "      <td>0.407996</td>\n",
       "      <td>0.536329</td>\n",
       "    </tr>\n",
       "    <tr>\n",
       "      <th>leaps</th>\n",
       "      <td>0.508508</td>\n",
       "      <td>0.656761</td>\n",
       "      <td>0.872101</td>\n",
       "      <td>0.710745</td>\n",
       "      <td>1.000000</td>\n",
       "      <td>0.792859</td>\n",
       "      <td>0.700500</td>\n",
       "      <td>0.625241</td>\n",
       "      <td>0.707990</td>\n",
       "      <td>0.548274</td>\n",
       "      <td>0.679824</td>\n",
       "      <td>0.498977</td>\n",
       "      <td>0.530550</td>\n",
       "      <td>0.781736</td>\n",
       "      <td>0.752838</td>\n",
       "      <td>0.715136</td>\n",
       "      <td>0.590492</td>\n",
       "      <td>0.705173</td>\n",
       "    </tr>\n",
       "    <tr>\n",
       "      <th>tuesday</th>\n",
       "      <td>0.482536</td>\n",
       "      <td>0.545505</td>\n",
       "      <td>0.736139</td>\n",
       "      <td>0.657450</td>\n",
       "      <td>0.792859</td>\n",
       "      <td>1.000000</td>\n",
       "      <td>0.816948</td>\n",
       "      <td>0.466394</td>\n",
       "      <td>0.803416</td>\n",
       "      <td>0.708286</td>\n",
       "      <td>0.831116</td>\n",
       "      <td>0.730272</td>\n",
       "      <td>0.723972</td>\n",
       "      <td>0.686308</td>\n",
       "      <td>0.772738</td>\n",
       "      <td>0.807921</td>\n",
       "      <td>0.747137</td>\n",
       "      <td>0.809694</td>\n",
       "    </tr>\n",
       "    <tr>\n",
       "      <th>wednesday</th>\n",
       "      <td>0.435503</td>\n",
       "      <td>0.526633</td>\n",
       "      <td>0.668463</td>\n",
       "      <td>0.588291</td>\n",
       "      <td>0.700500</td>\n",
       "      <td>0.816948</td>\n",
       "      <td>1.000000</td>\n",
       "      <td>0.457778</td>\n",
       "      <td>0.725921</td>\n",
       "      <td>0.682577</td>\n",
       "      <td>0.707195</td>\n",
       "      <td>0.718300</td>\n",
       "      <td>0.757291</td>\n",
       "      <td>0.634834</td>\n",
       "      <td>0.745216</td>\n",
       "      <td>0.812392</td>\n",
       "      <td>0.780464</td>\n",
       "      <td>0.844875</td>\n",
       "    </tr>\n",
       "    <tr>\n",
       "      <th>bad</th>\n",
       "      <td>0.679658</td>\n",
       "      <td>0.703731</td>\n",
       "      <td>0.617459</td>\n",
       "      <td>0.658806</td>\n",
       "      <td>0.625241</td>\n",
       "      <td>0.466394</td>\n",
       "      <td>0.457778</td>\n",
       "      <td>1.000000</td>\n",
       "      <td>0.609455</td>\n",
       "      <td>0.268065</td>\n",
       "      <td>0.355165</td>\n",
       "      <td>0.209031</td>\n",
       "      <td>0.260042</td>\n",
       "      <td>0.725315</td>\n",
       "      <td>0.517727</td>\n",
       "      <td>0.499135</td>\n",
       "      <td>0.231749</td>\n",
       "      <td>0.461342</td>\n",
       "    </tr>\n",
       "    <tr>\n",
       "      <th>funny</th>\n",
       "      <td>0.622398</td>\n",
       "      <td>0.550829</td>\n",
       "      <td>0.679487</td>\n",
       "      <td>0.676989</td>\n",
       "      <td>0.707990</td>\n",
       "      <td>0.803416</td>\n",
       "      <td>0.725921</td>\n",
       "      <td>0.609455</td>\n",
       "      <td>1.000000</td>\n",
       "      <td>0.628628</td>\n",
       "      <td>0.860292</td>\n",
       "      <td>0.645266</td>\n",
       "      <td>0.690446</td>\n",
       "      <td>0.712556</td>\n",
       "      <td>0.760877</td>\n",
       "      <td>0.841804</td>\n",
       "      <td>0.702459</td>\n",
       "      <td>0.819477</td>\n",
       "    </tr>\n",
       "    <tr>\n",
       "      <th>hilarious</th>\n",
       "      <td>0.245666</td>\n",
       "      <td>0.257609</td>\n",
       "      <td>0.459188</td>\n",
       "      <td>0.401585</td>\n",
       "      <td>0.548274</td>\n",
       "      <td>0.708286</td>\n",
       "      <td>0.682577</td>\n",
       "      <td>0.268065</td>\n",
       "      <td>0.628628</td>\n",
       "      <td>1.000000</td>\n",
       "      <td>0.758445</td>\n",
       "      <td>0.757707</td>\n",
       "      <td>0.766904</td>\n",
       "      <td>0.407102</td>\n",
       "      <td>0.684366</td>\n",
       "      <td>0.732405</td>\n",
       "      <td>0.784929</td>\n",
       "      <td>0.750654</td>\n",
       "    </tr>\n",
       "    <tr>\n",
       "      <th>scary</th>\n",
       "      <td>0.386312</td>\n",
       "      <td>0.351338</td>\n",
       "      <td>0.574944</td>\n",
       "      <td>0.618175</td>\n",
       "      <td>0.679824</td>\n",
       "      <td>0.831116</td>\n",
       "      <td>0.707195</td>\n",
       "      <td>0.355165</td>\n",
       "      <td>0.860292</td>\n",
       "      <td>0.758445</td>\n",
       "      <td>1.000000</td>\n",
       "      <td>0.765851</td>\n",
       "      <td>0.796123</td>\n",
       "      <td>0.555943</td>\n",
       "      <td>0.741954</td>\n",
       "      <td>0.824137</td>\n",
       "      <td>0.838842</td>\n",
       "      <td>0.798931</td>\n",
       "    </tr>\n",
       "    <tr>\n",
       "      <th>exemplary</th>\n",
       "      <td>0.303388</td>\n",
       "      <td>0.237852</td>\n",
       "      <td>0.442298</td>\n",
       "      <td>0.438449</td>\n",
       "      <td>0.498977</td>\n",
       "      <td>0.730272</td>\n",
       "      <td>0.718300</td>\n",
       "      <td>0.209031</td>\n",
       "      <td>0.645266</td>\n",
       "      <td>0.757707</td>\n",
       "      <td>0.765851</td>\n",
       "      <td>1.000000</td>\n",
       "      <td>0.913328</td>\n",
       "      <td>0.388756</td>\n",
       "      <td>0.611034</td>\n",
       "      <td>0.674163</td>\n",
       "      <td>0.793534</td>\n",
       "      <td>0.687530</td>\n",
       "    </tr>\n",
       "    <tr>\n",
       "      <th>exemplerey</th>\n",
       "      <td>0.372699</td>\n",
       "      <td>0.263628</td>\n",
       "      <td>0.495845</td>\n",
       "      <td>0.497757</td>\n",
       "      <td>0.530550</td>\n",
       "      <td>0.723972</td>\n",
       "      <td>0.757291</td>\n",
       "      <td>0.260042</td>\n",
       "      <td>0.690446</td>\n",
       "      <td>0.766904</td>\n",
       "      <td>0.796123</td>\n",
       "      <td>0.913328</td>\n",
       "      <td>1.000000</td>\n",
       "      <td>0.385585</td>\n",
       "      <td>0.638494</td>\n",
       "      <td>0.726414</td>\n",
       "      <td>0.827886</td>\n",
       "      <td>0.744962</td>\n",
       "    </tr>\n",
       "    <tr>\n",
       "      <th>happy</th>\n",
       "      <td>0.596177</td>\n",
       "      <td>0.732327</td>\n",
       "      <td>0.784060</td>\n",
       "      <td>0.618177</td>\n",
       "      <td>0.781736</td>\n",
       "      <td>0.686308</td>\n",
       "      <td>0.634834</td>\n",
       "      <td>0.725315</td>\n",
       "      <td>0.712556</td>\n",
       "      <td>0.407102</td>\n",
       "      <td>0.555943</td>\n",
       "      <td>0.388756</td>\n",
       "      <td>0.385585</td>\n",
       "      <td>1.000000</td>\n",
       "      <td>0.764617</td>\n",
       "      <td>0.654738</td>\n",
       "      <td>0.498364</td>\n",
       "      <td>0.620998</td>\n",
       "    </tr>\n",
       "    <tr>\n",
       "      <th>unhappy</th>\n",
       "      <td>0.414633</td>\n",
       "      <td>0.546637</td>\n",
       "      <td>0.735388</td>\n",
       "      <td>0.507051</td>\n",
       "      <td>0.752838</td>\n",
       "      <td>0.772738</td>\n",
       "      <td>0.745216</td>\n",
       "      <td>0.517727</td>\n",
       "      <td>0.760877</td>\n",
       "      <td>0.684366</td>\n",
       "      <td>0.741954</td>\n",
       "      <td>0.611034</td>\n",
       "      <td>0.638494</td>\n",
       "      <td>0.764617</td>\n",
       "      <td>1.000000</td>\n",
       "      <td>0.819042</td>\n",
       "      <td>0.770136</td>\n",
       "      <td>0.800284</td>\n",
       "    </tr>\n",
       "    <tr>\n",
       "      <th>wrogye</th>\n",
       "      <td>0.551997</td>\n",
       "      <td>0.573726</td>\n",
       "      <td>0.680620</td>\n",
       "      <td>0.561576</td>\n",
       "      <td>0.715136</td>\n",
       "      <td>0.807921</td>\n",
       "      <td>0.812392</td>\n",
       "      <td>0.499135</td>\n",
       "      <td>0.841804</td>\n",
       "      <td>0.732405</td>\n",
       "      <td>0.824137</td>\n",
       "      <td>0.674163</td>\n",
       "      <td>0.726414</td>\n",
       "      <td>0.654738</td>\n",
       "      <td>0.819042</td>\n",
       "      <td>1.000000</td>\n",
       "      <td>0.855048</td>\n",
       "      <td>0.976910</td>\n",
       "    </tr>\n",
       "    <tr>\n",
       "      <th>unwrogye</th>\n",
       "      <td>0.231156</td>\n",
       "      <td>0.261591</td>\n",
       "      <td>0.508542</td>\n",
       "      <td>0.407996</td>\n",
       "      <td>0.590492</td>\n",
       "      <td>0.747137</td>\n",
       "      <td>0.780464</td>\n",
       "      <td>0.231749</td>\n",
       "      <td>0.702459</td>\n",
       "      <td>0.784929</td>\n",
       "      <td>0.838842</td>\n",
       "      <td>0.793534</td>\n",
       "      <td>0.827886</td>\n",
       "      <td>0.498364</td>\n",
       "      <td>0.770136</td>\n",
       "      <td>0.855048</td>\n",
       "      <td>1.000000</td>\n",
       "      <td>0.845746</td>\n",
       "    </tr>\n",
       "    <tr>\n",
       "      <th>wrogyed</th>\n",
       "      <td>0.542999</td>\n",
       "      <td>0.569360</td>\n",
       "      <td>0.686031</td>\n",
       "      <td>0.536329</td>\n",
       "      <td>0.705173</td>\n",
       "      <td>0.809694</td>\n",
       "      <td>0.844875</td>\n",
       "      <td>0.461342</td>\n",
       "      <td>0.819477</td>\n",
       "      <td>0.750654</td>\n",
       "      <td>0.798931</td>\n",
       "      <td>0.687530</td>\n",
       "      <td>0.744962</td>\n",
       "      <td>0.620998</td>\n",
       "      <td>0.800284</td>\n",
       "      <td>0.976910</td>\n",
       "      <td>0.845746</td>\n",
       "      <td>1.000000</td>\n",
       "    </tr>\n",
       "  </tbody>\n",
       "</table>\n",
       "</div>"
      ],
      "text/plain": [
       "                jump    jumped     jumps      leap     leaps   tuesday  \\\n",
       "jump        1.000000  0.764495  0.598764  0.647045  0.508508  0.482536   \n",
       "jumped      0.764495  1.000000  0.739674  0.516270  0.656761  0.545505   \n",
       "jumps       0.598764  0.739674  1.000000  0.604761  0.872101  0.736139   \n",
       "leap        0.647045  0.516270  0.604761  1.000000  0.710745  0.657450   \n",
       "leaps       0.508508  0.656761  0.872101  0.710745  1.000000  0.792859   \n",
       "tuesday     0.482536  0.545505  0.736139  0.657450  0.792859  1.000000   \n",
       "wednesday   0.435503  0.526633  0.668463  0.588291  0.700500  0.816948   \n",
       "bad         0.679658  0.703731  0.617459  0.658806  0.625241  0.466394   \n",
       "funny       0.622398  0.550829  0.679487  0.676989  0.707990  0.803416   \n",
       "hilarious   0.245666  0.257609  0.459188  0.401585  0.548274  0.708286   \n",
       "scary       0.386312  0.351338  0.574944  0.618175  0.679824  0.831116   \n",
       "exemplary   0.303388  0.237852  0.442298  0.438449  0.498977  0.730272   \n",
       "exemplerey  0.372699  0.263628  0.495845  0.497757  0.530550  0.723972   \n",
       "happy       0.596177  0.732327  0.784060  0.618177  0.781736  0.686308   \n",
       "unhappy     0.414633  0.546637  0.735388  0.507051  0.752838  0.772738   \n",
       "wrogye      0.551997  0.573726  0.680620  0.561576  0.715136  0.807921   \n",
       "unwrogye    0.231156  0.261591  0.508542  0.407996  0.590492  0.747137   \n",
       "wrogyed     0.542999  0.569360  0.686031  0.536329  0.705173  0.809694   \n",
       "\n",
       "            wednesday       bad     funny  hilarious     scary  exemplary  \\\n",
       "jump         0.435503  0.679658  0.622398   0.245666  0.386312   0.303388   \n",
       "jumped       0.526633  0.703731  0.550829   0.257609  0.351338   0.237852   \n",
       "jumps        0.668463  0.617459  0.679487   0.459188  0.574944   0.442298   \n",
       "leap         0.588291  0.658806  0.676989   0.401585  0.618175   0.438449   \n",
       "leaps        0.700500  0.625241  0.707990   0.548274  0.679824   0.498977   \n",
       "tuesday      0.816948  0.466394  0.803416   0.708286  0.831116   0.730272   \n",
       "wednesday    1.000000  0.457778  0.725921   0.682577  0.707195   0.718300   \n",
       "bad          0.457778  1.000000  0.609455   0.268065  0.355165   0.209031   \n",
       "funny        0.725921  0.609455  1.000000   0.628628  0.860292   0.645266   \n",
       "hilarious    0.682577  0.268065  0.628628   1.000000  0.758445   0.757707   \n",
       "scary        0.707195  0.355165  0.860292   0.758445  1.000000   0.765851   \n",
       "exemplary    0.718300  0.209031  0.645266   0.757707  0.765851   1.000000   \n",
       "exemplerey   0.757291  0.260042  0.690446   0.766904  0.796123   0.913328   \n",
       "happy        0.634834  0.725315  0.712556   0.407102  0.555943   0.388756   \n",
       "unhappy      0.745216  0.517727  0.760877   0.684366  0.741954   0.611034   \n",
       "wrogye       0.812392  0.499135  0.841804   0.732405  0.824137   0.674163   \n",
       "unwrogye     0.780464  0.231749  0.702459   0.784929  0.838842   0.793534   \n",
       "wrogyed      0.844875  0.461342  0.819477   0.750654  0.798931   0.687530   \n",
       "\n",
       "            exemplerey     happy   unhappy    wrogye  unwrogye   wrogyed  \n",
       "jump          0.372699  0.596177  0.414633  0.551997  0.231156  0.542999  \n",
       "jumped        0.263628  0.732327  0.546637  0.573726  0.261591  0.569360  \n",
       "jumps         0.495845  0.784060  0.735388  0.680620  0.508542  0.686031  \n",
       "leap          0.497757  0.618177  0.507051  0.561576  0.407996  0.536329  \n",
       "leaps         0.530550  0.781736  0.752838  0.715136  0.590492  0.705173  \n",
       "tuesday       0.723972  0.686308  0.772738  0.807921  0.747137  0.809694  \n",
       "wednesday     0.757291  0.634834  0.745216  0.812392  0.780464  0.844875  \n",
       "bad           0.260042  0.725315  0.517727  0.499135  0.231749  0.461342  \n",
       "funny         0.690446  0.712556  0.760877  0.841804  0.702459  0.819477  \n",
       "hilarious     0.766904  0.407102  0.684366  0.732405  0.784929  0.750654  \n",
       "scary         0.796123  0.555943  0.741954  0.824137  0.838842  0.798931  \n",
       "exemplary     0.913328  0.388756  0.611034  0.674163  0.793534  0.687530  \n",
       "exemplerey    1.000000  0.385585  0.638494  0.726414  0.827886  0.744962  \n",
       "happy         0.385585  1.000000  0.764617  0.654738  0.498364  0.620998  \n",
       "unhappy       0.638494  0.764617  1.000000  0.819042  0.770136  0.800284  \n",
       "wrogye        0.726414  0.654738  0.819042  1.000000  0.855048  0.976910  \n",
       "unwrogye      0.827886  0.498364  0.770136  0.855048  1.000000  0.845746  \n",
       "wrogyed       0.744962  0.620998  0.800284  0.976910  0.845746  1.000000  "
      ]
     },
     "execution_count": 107,
     "metadata": {},
     "output_type": "execute_result"
    }
   ],
   "source": [
    "from sklearn.metrics.pairwise import cosine_similarity\n",
    "# here are some good words to try\n",
    "# add a few others\n",
    "words = [\n",
    "    \"jump\",\n",
    "    \"jumped\",\n",
    "    \"jumps\",\n",
    "    \"leap\",\n",
    "    \"leaps\",\n",
    "    \"tuesday\",\n",
    "    \"wednesday\",\n",
    "    \"bad\",\n",
    "    \"funny\",\n",
    "    \"hilarious\",\n",
    "    \"scary\",\n",
    "    \"exemplary\",\n",
    "    \"exemplerey\", #spelling error\n",
    "    \"happy\", \n",
    "    \"unhappy\",  # added a prefix\n",
    "    \"wrogye\", # made up\n",
    "    \"unwrogye\", # opposite of made up\n",
    "    \"wrogyed\", # past tense made up\n",
    "]\n",
    "\n",
    "# your code to get the encoder inputs\n",
    "# don't forget to pad the encoder inputs\n",
    "# your code here\n",
    "encoder_inputs = []\n",
    "for word in words:\n",
    "    # Convert to character sequence\n",
    "    char_seq = []\n",
    "    for char in word.lower():\n",
    "        if char in char_to_int:\n",
    "            char_seq.append(char_to_int[char])\n",
    "        else:\n",
    "            char_seq.append(UNK_CHAR)\n",
    "    \n",
    "    # Pad to MAX_CHARS_PER_WORD\n",
    "    if len(char_seq) > MAX_CHARS_PER_WORD:\n",
    "        char_seq = char_seq[:MAX_CHARS_PER_WORD]\n",
    "    else:\n",
    "        char_seq = char_seq + [0] * (MAX_CHARS_PER_WORD - len(char_seq))\n",
    "    \n",
    "    # One-hot encode\n",
    "    char_one_hot = tf.one_hot(char_seq, MAX_CHARS)\n",
    "    encoder_inputs.append(char_one_hot)\n",
    "\n",
    "# Convert to numpy array\n",
    "encoder_inputs = np.array(encoder_inputs)\n",
    "\n",
    "extracted_word_vectors = encoder.predict(encoder_inputs, batch_size=batch_size)\n",
    "cs = cosine_similarity(extracted_word_vectors)\n",
    "similarity_df = pd.DataFrame(cs, index=words, columns=words)\n",
    "similarity_df"
   ]
  },
  {
   "cell_type": "markdown",
   "metadata": {},
   "source": [
    "**Comments**\n",
    "\n",
    "Tense Variants:\n",
    "- jump/jumped: 0.764 (high similarity for past tense)\n",
    "- jump/jumps: 0.599 (moderate similarity for plural)\n",
    "- leap/leaps: 0.711 (similar pattern to jump/jumps)\n",
    "\n",
    "Semantic Relationships:\n",
    "- funny/hilarious: 0.629 (moderate similarity for synonyms)\n",
    "- bad/scary: 0.355 (low similarity for different negative words)\n",
    "\n",
    "Spelling Differences:\n",
    "- exemplary/exemplerey: 0.913 (very high similarity despite misspelling)\n",
    "\n",
    "Prefixs:\n",
    "- happy/unhappy: 0.765 (high similarity despite opposite meaning)\n",
    "- wrogye/unwrogye: 0.855 (similar pattern with made-up words)\n",
    "\n",
    "Days of Week:\n",
    "- tuesday/wednesday: 0.817 (high similarity for related concepts)\n",
    "\n",
    "Overall:\n",
    "- Tense and spelling variations are captured well\n",
    "- The model learned that adding prefixes (un-) or suffixes (-ed) creates related words\n",
    "- Made-up words follow similar patterns to real words\n",
    "- Similar word types (like days of week) cluster together\n",
    "- Character-level patterns are more influential than semantic meaning"
   ]
  }
 ],
 "metadata": {
  "kernelspec": {
   "display_name": "venv_nlp",
   "language": "python",
   "name": "python3"
  },
  "language_info": {
   "codemirror_mode": {
    "name": "ipython",
    "version": 3
   },
   "file_extension": ".py",
   "mimetype": "text/x-python",
   "name": "python",
   "nbconvert_exporter": "python",
   "pygments_lexer": "ipython3",
   "version": "3.10.11"
  }
 },
 "nbformat": 4,
 "nbformat_minor": 4
}
