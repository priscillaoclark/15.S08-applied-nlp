{
 "cells": [
  {
   "cell_type": "markdown",
   "metadata": {},
   "source": [
    "# Problem 1: More Powerful RNNs (20%)\n",
    "RNNs are powerful tools for processing sequences. \n",
    "In this problem we'll explore a powerful variant/addition.\n",
    "\n",
    "\n",
    "While powerful sequences processors, RNNs work one element at a time.\n",
    "Therefore, RNNs can \"miss out\" on understanding a given word, if important context comes after \n",
    "that word in the sequence. \n",
    "\n",
    "\n",
    "Also, notice, that while reading backwards is more difficult, we can still learn a lot. For example\n",
    "\n",
    " - ```sanitizer hand bought and store the to went I yesterday```\n",
    "\n",
    "\n",
    "In this problem, we'll make more powerful RNNs that can gain additional context by reading \n",
    "documents from beginning to end, as well as from end to beginning. \n",
    "\n",
    "\n",
    "## Part 0 Load the data"
   ]
  },
  {
   "cell_type": "code",
   "execution_count": 30,
   "metadata": {},
   "outputs": [],
   "source": [
    "import numpy as np\n",
    "import pandas as pd\n",
    "%matplotlib inline\n",
    "#%pylab inline\n",
    "np.random.seed(1234)\n",
    "\n",
    "import glob\n",
    "import os"
   ]
  },
  {
   "cell_type": "code",
   "execution_count": 32,
   "metadata": {},
   "outputs": [],
   "source": [
    "import tensorflow as tf\n",
    "from tensorflow.keras.datasets import imdb\n",
    "from tensorflow.keras.preprocessing.sequence import pad_sequences\n",
    "\n",
    "def load_imdb_data_text(imdb_data_dir, random_seed=1234):\n",
    "    \"\"\"Provided helper function to load data\"\"\"\n",
    "    train_dir = os.path.join(imdb_data_dir, \"train\")\n",
    "    test_dir = os.path.join(imdb_data_dir, \"test\")\n",
    "\n",
    "    np.random.seed(random_seed)\n",
    "    texts = []\n",
    "    targets = []\n",
    "    for label in (\"pos\", \"neg\"):\n",
    "        data_dir = os.path.join(train_dir, label)\n",
    "        files = glob.glob(os.path.join(data_dir, \"*.txt\"))\n",
    "        for filename in files:\n",
    "            with open(filename) as fi:\n",
    "                text = fi.read()\n",
    "            target = label == \"pos\"\n",
    "            texts.append(text)\n",
    "            targets.append(target)\n",
    "\n",
    "    train_docs = texts\n",
    "    y_train = np.array(targets)\n",
    "\n",
    "    texts = []\n",
    "    targets = []\n",
    "    for label in (\"pos\", \"neg\"):\n",
    "        data_dir = os.path.join(test_dir, label)\n",
    "        files = glob.glob(os.path.join(data_dir, \"*.txt\"))\n",
    "        for filename in files:\n",
    "            with open(filename) as fi:\n",
    "                text = fi.read()\n",
    "            target = label == \"pos\"\n",
    "            texts.append(text)\n",
    "            targets.append(target)\n",
    "\n",
    "    test_docs = texts\n",
    "    y_test = np.array(targets)\n",
    "\n",
    "    inds = np.arange(y_train.shape[0])\n",
    "    np.random.shuffle(inds)\n",
    "\n",
    "    train_docs = [train_docs[i] for i in inds]\n",
    "    y_train = y_train[inds]\n",
    "\n",
    "    return (train_docs, y_train), (test_docs, y_test)"
   ]
  },
  {
   "cell_type": "code",
   "execution_count": 34,
   "metadata": {
    "scrolled": true
   },
   "outputs": [],
   "source": [
    "#import sys\n",
    "#sys.path.insert(0, \".\")\n",
    "#from helpers import load_imdb_data_text\n",
    "\n",
    "(train_docs, y_train), (test_docs, y_test) = load_imdb_data_text('aclImdb')\n",
    "\n",
    "from tensorflow.keras.preprocessing.sequence import pad_sequences\n",
    "from tensorflow.keras.preprocessing.text import Tokenizer\n",
    "\n",
    "# tokenize the text keeping the 50k most common words\n",
    "# turn text into integer sequences\n",
    "# pad the sequences to 125 elements each\n",
    "\n",
    "# your code here\n",
    "\n",
    "tokenizer = Tokenizer(num_words=50000) # create a tokenizer that keeps the 50k most common words\n",
    "tokenizer.fit_on_texts(train_docs) # fit tokenizer on training documents\n",
    "\n",
    "# turn text into integer sequences\n",
    "train_sequences = tokenizer.texts_to_sequences(train_docs)\n",
    "test_sequences = tokenizer.texts_to_sequences(test_docs)\n",
    "\n",
    "# pad the sequences to 125 elements each\n",
    "X_train = pad_sequences(train_sequences, maxlen=125, padding='post')\n",
    "X_test = pad_sequences(test_sequences, maxlen=125, padding='post')"
   ]
  },
  {
   "cell_type": "markdown",
   "metadata": {},
   "source": [
    "## Part 1: Running in reverse\n",
    "Create two identical LSTM models and fit them on the IMDB data. \n",
    " - For the first, use our regular recipe\n",
    " - For the second, flip every document around so that the sequences are processed in reverse\n",
    "   - the easiest way to flip the data is to use `np.fliplr` on the data as you feed it to your model\n",
    "\n",
    "\n",
    "Comment on the results"
   ]
  },
  {
   "cell_type": "code",
   "execution_count": 36,
   "metadata": {},
   "outputs": [],
   "source": [
    "from tensorflow.keras.layers import Input, Embedding, LSTM, Dropout, Dense\n",
    "from tensorflow.keras.models import Model\n",
    "import tensorflow.keras.backend as K"
   ]
  },
  {
   "cell_type": "code",
   "execution_count": 37,
   "metadata": {},
   "outputs": [],
   "source": [
    "K.clear_session()\n",
    "\n",
    "def build_lstm_model():\n",
    "    text_input = Input(shape=(125,), name=\"text_input\")\n",
    "\n",
    "    embedding = Embedding(input_dim=50000, output_dim=100, input_length=125)(text_input)  # embedding layer\n",
    "\n",
    "    # first LSTM layer\n",
    "    lstm_1 = LSTM(units=64, return_sequences=True)(embedding)  # output the full sequence for stacking\n",
    "    \n",
    "    # second LSTM layer for additional processing\n",
    "    lstm_2 = LSTM(units=64, return_sequences=False)(lstm_1)  # output only the last hidden state\n",
    "    \n",
    "    # dropout layer to prevent overfitting\n",
    "    dropout = Dropout(0.5)(lstm_2)\n",
    "    \n",
    "    # output layer\n",
    "    output = Dense(1, activation='sigmoid')(dropout)\n",
    "    \n",
    "    # compile the model\n",
    "    model = Model(inputs=text_input, outputs=output)\n",
    "    model.compile(optimizer='adam', loss='binary_crossentropy', metrics=['accuracy'])\n",
    "    \n",
    "    return model"
   ]
  },
  {
   "cell_type": "code",
   "execution_count": 38,
   "metadata": {},
   "outputs": [],
   "source": [
    "import funcy\n",
    "# here is a function you might find handy\n",
    "def gen_data(x, y, batch_size, fliplr=False):\n",
    "    \"\"\"Generate data for our recurrent network\n",
    "    \n",
    "    Args:\n",
    "        x: model inputs encoded as integer sequences\n",
    "        y: targets (0/1)\n",
    "        batch size: size of batch to yield\n",
    "        fliplr: whether to flip the input data\n",
    "    \"\"\"\n",
    "    idx = np.arange(x.shape[0])\n",
    "    while True:\n",
    "        np.random.shuffle(idx)\n",
    "        for chunk in funcy.chunks(batch_size, idx):\n",
    "            _x = x[chunk]\n",
    "            _y = y[chunk]\n",
    "            if fliplr:\n",
    "                _x = np.flip(_x, axis=-1)\n",
    "            yield _x, _y"
   ]
  },
  {
   "cell_type": "code",
   "execution_count": 39,
   "metadata": {},
   "outputs": [
    {
     "name": "stdout",
     "output_type": "stream",
     "text": [
      "Sample 1: film this describe to used accurately be could it and expletive your name of lump this like movies tv making to relegated been they've now hilarious utterly and completely be to consider still people which house animal made once lampoon national garbage of lump this watching consider even would you why mystery complete a is it farcical acting the and laughable even aren't they that bad so effects the laughable are sets the stands it as that at one funny damn a and spoof a is degree a to which movie a spoof you would god of name the in why zone free laugh complete a produced poorly vomit to want me made it bad so is film this\n",
      "Sample 2: lucas george from more expect i movie this than me from rating lower a gets it so comparison in weak was i episode thought i but movies sw three first the loved i example best my is i episode wars star big fail they fail they when so good be to expect you that actors great with budget big were that movies are there scale same the with movie every weigh not do i 8 an it give did i but 10 a it give wouldn't i guess i lover bike true 10 a movie the gave man old year 18 one history vote the of demographics the at looking love i sequences action riding good with anywhere slow getting without through way the all\n",
      "Sample 3: film this of director and writer the to needs someone plot the of the into meat some shock didn't it bad too scene the like did i talk parlor beyond went story the in relationship single a not in is he film another see never may i that disappointing so was williams robin even acting awful plot no movie a for criteria all lacked story the br br out them follow didn't i sadly and did theater our in people several immediately left and instinct my with gone have should i say cannot i movie this of minutes five first the in out walk didn't i why br br offered not is it sadly but 10 minus a film this rated have would i\n",
      "Sample 4: horrible totally none has this value redeeming one least at have movies most seen ever i've movie worst the doubt a without is this costs all at movie this avoid please\n",
      "Sample 5: bless god away soapbox putting ego about talk almighty the judge to qualified are they that smart so are they think who people to listening love just i end the in exist doesn't he prove not can you but exists god prove can you logic symbolic into translated when that note to interesting also it's written originally was scripture the which in language the on depending hebrew or greek arabic original the from translation word for word a provides it as translation in them assist to a use researchers biblical many why is this meanings different entirely two letters of string same here now is god as it read you do or nowhere is god as it read you do this read you would how\n"
     ]
    }
   ],
   "source": [
    "# generate a batch of data with fliplr=True\n",
    "batch_size = 5  # small batch size for demonstration\n",
    "batch_reversed, batch_labels = next(gen_data(X_train, y_train, batch_size, fliplr=True))\n",
    "\n",
    "# turn it back into words (you can use `tokenizer.word_index`)\n",
    "reversed_texts = []\n",
    "for sequence in batch_reversed:\n",
    "    words = [tokenizer.index_word.get(idx) for idx in sequence if idx != 0]  # skip padding 0\n",
    "    reversed_texts.append(\" \".join(words))  # join words to form a sentence\n",
    "\n",
    "# print reversed texts to check\n",
    "for i, text in enumerate(reversed_texts):\n",
    "    print(f\"Sample {i + 1}: {text}\")"
   ]
  },
  {
   "cell_type": "code",
   "execution_count": 40,
   "metadata": {},
   "outputs": [
    {
     "name": "stderr",
     "output_type": "stream",
     "text": [
      "/opt/anaconda3/lib/python3.12/site-packages/keras/src/layers/core/embedding.py:90: UserWarning: Argument `input_length` is deprecated. Just remove it.\n",
      "  warnings.warn(\n"
     ]
    },
    {
     "data": {
      "text/html": [
       "<pre style=\"white-space:pre;overflow-x:auto;line-height:normal;font-family:Menlo,'DejaVu Sans Mono',consolas,'Courier New',monospace\"><span style=\"font-weight: bold\">Model: \"functional\"</span>\n",
       "</pre>\n"
      ],
      "text/plain": [
       "\u001b[1mModel: \"functional\"\u001b[0m\n"
      ]
     },
     "metadata": {},
     "output_type": "display_data"
    },
    {
     "data": {
      "text/html": [
       "<pre style=\"white-space:pre;overflow-x:auto;line-height:normal;font-family:Menlo,'DejaVu Sans Mono',consolas,'Courier New',monospace\">┏━━━━━━━━━━━━━━━━━━━━━━━━━━━━━━━━━┳━━━━━━━━━━━━━━━━━━━━━━━━┳━━━━━━━━━━━━━━━┓\n",
       "┃<span style=\"font-weight: bold\"> Layer (type)                    </span>┃<span style=\"font-weight: bold\"> Output Shape           </span>┃<span style=\"font-weight: bold\">       Param # </span>┃\n",
       "┡━━━━━━━━━━━━━━━━━━━━━━━━━━━━━━━━━╇━━━━━━━━━━━━━━━━━━━━━━━━╇━━━━━━━━━━━━━━━┩\n",
       "│ text_input (<span style=\"color: #0087ff; text-decoration-color: #0087ff\">InputLayer</span>)         │ (<span style=\"color: #00d7ff; text-decoration-color: #00d7ff\">None</span>, <span style=\"color: #00af00; text-decoration-color: #00af00\">125</span>)            │             <span style=\"color: #00af00; text-decoration-color: #00af00\">0</span> │\n",
       "├─────────────────────────────────┼────────────────────────┼───────────────┤\n",
       "│ embedding (<span style=\"color: #0087ff; text-decoration-color: #0087ff\">Embedding</span>)           │ (<span style=\"color: #00d7ff; text-decoration-color: #00d7ff\">None</span>, <span style=\"color: #00af00; text-decoration-color: #00af00\">125</span>, <span style=\"color: #00af00; text-decoration-color: #00af00\">100</span>)       │     <span style=\"color: #00af00; text-decoration-color: #00af00\">5,000,000</span> │\n",
       "├─────────────────────────────────┼────────────────────────┼───────────────┤\n",
       "│ lstm (<span style=\"color: #0087ff; text-decoration-color: #0087ff\">LSTM</span>)                     │ (<span style=\"color: #00d7ff; text-decoration-color: #00d7ff\">None</span>, <span style=\"color: #00af00; text-decoration-color: #00af00\">125</span>, <span style=\"color: #00af00; text-decoration-color: #00af00\">64</span>)        │        <span style=\"color: #00af00; text-decoration-color: #00af00\">42,240</span> │\n",
       "├─────────────────────────────────┼────────────────────────┼───────────────┤\n",
       "│ lstm_1 (<span style=\"color: #0087ff; text-decoration-color: #0087ff\">LSTM</span>)                   │ (<span style=\"color: #00d7ff; text-decoration-color: #00d7ff\">None</span>, <span style=\"color: #00af00; text-decoration-color: #00af00\">64</span>)             │        <span style=\"color: #00af00; text-decoration-color: #00af00\">33,024</span> │\n",
       "├─────────────────────────────────┼────────────────────────┼───────────────┤\n",
       "│ dropout (<span style=\"color: #0087ff; text-decoration-color: #0087ff\">Dropout</span>)               │ (<span style=\"color: #00d7ff; text-decoration-color: #00d7ff\">None</span>, <span style=\"color: #00af00; text-decoration-color: #00af00\">64</span>)             │             <span style=\"color: #00af00; text-decoration-color: #00af00\">0</span> │\n",
       "├─────────────────────────────────┼────────────────────────┼───────────────┤\n",
       "│ dense (<span style=\"color: #0087ff; text-decoration-color: #0087ff\">Dense</span>)                   │ (<span style=\"color: #00d7ff; text-decoration-color: #00d7ff\">None</span>, <span style=\"color: #00af00; text-decoration-color: #00af00\">1</span>)              │            <span style=\"color: #00af00; text-decoration-color: #00af00\">65</span> │\n",
       "└─────────────────────────────────┴────────────────────────┴───────────────┘\n",
       "</pre>\n"
      ],
      "text/plain": [
       "┏━━━━━━━━━━━━━━━━━━━━━━━━━━━━━━━━━┳━━━━━━━━━━━━━━━━━━━━━━━━┳━━━━━━━━━━━━━━━┓\n",
       "┃\u001b[1m \u001b[0m\u001b[1mLayer (type)                   \u001b[0m\u001b[1m \u001b[0m┃\u001b[1m \u001b[0m\u001b[1mOutput Shape          \u001b[0m\u001b[1m \u001b[0m┃\u001b[1m \u001b[0m\u001b[1m      Param #\u001b[0m\u001b[1m \u001b[0m┃\n",
       "┡━━━━━━━━━━━━━━━━━━━━━━━━━━━━━━━━━╇━━━━━━━━━━━━━━━━━━━━━━━━╇━━━━━━━━━━━━━━━┩\n",
       "│ text_input (\u001b[38;5;33mInputLayer\u001b[0m)         │ (\u001b[38;5;45mNone\u001b[0m, \u001b[38;5;34m125\u001b[0m)            │             \u001b[38;5;34m0\u001b[0m │\n",
       "├─────────────────────────────────┼────────────────────────┼───────────────┤\n",
       "│ embedding (\u001b[38;5;33mEmbedding\u001b[0m)           │ (\u001b[38;5;45mNone\u001b[0m, \u001b[38;5;34m125\u001b[0m, \u001b[38;5;34m100\u001b[0m)       │     \u001b[38;5;34m5,000,000\u001b[0m │\n",
       "├─────────────────────────────────┼────────────────────────┼───────────────┤\n",
       "│ lstm (\u001b[38;5;33mLSTM\u001b[0m)                     │ (\u001b[38;5;45mNone\u001b[0m, \u001b[38;5;34m125\u001b[0m, \u001b[38;5;34m64\u001b[0m)        │        \u001b[38;5;34m42,240\u001b[0m │\n",
       "├─────────────────────────────────┼────────────────────────┼───────────────┤\n",
       "│ lstm_1 (\u001b[38;5;33mLSTM\u001b[0m)                   │ (\u001b[38;5;45mNone\u001b[0m, \u001b[38;5;34m64\u001b[0m)             │        \u001b[38;5;34m33,024\u001b[0m │\n",
       "├─────────────────────────────────┼────────────────────────┼───────────────┤\n",
       "│ dropout (\u001b[38;5;33mDropout\u001b[0m)               │ (\u001b[38;5;45mNone\u001b[0m, \u001b[38;5;34m64\u001b[0m)             │             \u001b[38;5;34m0\u001b[0m │\n",
       "├─────────────────────────────────┼────────────────────────┼───────────────┤\n",
       "│ dense (\u001b[38;5;33mDense\u001b[0m)                   │ (\u001b[38;5;45mNone\u001b[0m, \u001b[38;5;34m1\u001b[0m)              │            \u001b[38;5;34m65\u001b[0m │\n",
       "└─────────────────────────────────┴────────────────────────┴───────────────┘\n"
      ]
     },
     "metadata": {},
     "output_type": "display_data"
    },
    {
     "data": {
      "text/html": [
       "<pre style=\"white-space:pre;overflow-x:auto;line-height:normal;font-family:Menlo,'DejaVu Sans Mono',consolas,'Courier New',monospace\"><span style=\"font-weight: bold\"> Total params: </span><span style=\"color: #00af00; text-decoration-color: #00af00\">5,075,329</span> (19.36 MB)\n",
       "</pre>\n"
      ],
      "text/plain": [
       "\u001b[1m Total params: \u001b[0m\u001b[38;5;34m5,075,329\u001b[0m (19.36 MB)\n"
      ]
     },
     "metadata": {},
     "output_type": "display_data"
    },
    {
     "data": {
      "text/html": [
       "<pre style=\"white-space:pre;overflow-x:auto;line-height:normal;font-family:Menlo,'DejaVu Sans Mono',consolas,'Courier New',monospace\"><span style=\"font-weight: bold\"> Trainable params: </span><span style=\"color: #00af00; text-decoration-color: #00af00\">5,075,329</span> (19.36 MB)\n",
       "</pre>\n"
      ],
      "text/plain": [
       "\u001b[1m Trainable params: \u001b[0m\u001b[38;5;34m5,075,329\u001b[0m (19.36 MB)\n"
      ]
     },
     "metadata": {},
     "output_type": "display_data"
    },
    {
     "data": {
      "text/html": [
       "<pre style=\"white-space:pre;overflow-x:auto;line-height:normal;font-family:Menlo,'DejaVu Sans Mono',consolas,'Courier New',monospace\"><span style=\"font-weight: bold\"> Non-trainable params: </span><span style=\"color: #00af00; text-decoration-color: #00af00\">0</span> (0.00 B)\n",
       "</pre>\n"
      ],
      "text/plain": [
       "\u001b[1m Non-trainable params: \u001b[0m\u001b[38;5;34m0\u001b[0m (0.00 B)\n"
      ]
     },
     "metadata": {},
     "output_type": "display_data"
    },
    {
     "name": "stdout",
     "output_type": "stream",
     "text": [
      "Epoch 1/20\n",
      "\u001b[1m781/781\u001b[0m \u001b[32m━━━━━━━━━━━━━━━━━━━━\u001b[0m\u001b[37m\u001b[0m \u001b[1m74s\u001b[0m 93ms/step - accuracy: 0.6797 - loss: 0.5829 - val_accuracy: 0.8195 - val_loss: 0.4255 - learning_rate: 0.0010\n",
      "Epoch 2/20\n",
      "\u001b[1m781/781\u001b[0m \u001b[32m━━━━━━━━━━━━━━━━━━━━\u001b[0m\u001b[37m\u001b[0m \u001b[1m67s\u001b[0m 85ms/step - accuracy: 0.8834 - loss: 0.3025 - val_accuracy: 0.8304 - val_loss: 0.3889 - learning_rate: 0.0010\n",
      "Epoch 3/20\n",
      "\u001b[1m781/781\u001b[0m \u001b[32m━━━━━━━━━━━━━━━━━━━━\u001b[0m\u001b[37m\u001b[0m \u001b[1m77s\u001b[0m 99ms/step - accuracy: 0.9216 - loss: 0.2220 - val_accuracy: 0.8480 - val_loss: 0.3659 - learning_rate: 0.0010\n",
      "Epoch 4/20\n",
      "\u001b[1m781/781\u001b[0m \u001b[32m━━━━━━━━━━━━━━━━━━━━\u001b[0m\u001b[37m\u001b[0m \u001b[1m0s\u001b[0m 70ms/step - accuracy: 0.9585 - loss: 0.1293\n",
      "Epoch 4: ReduceLROnPlateau reducing learning rate to 0.00010000000474974513.\n",
      "\u001b[1m781/781\u001b[0m \u001b[32m━━━━━━━━━━━━━━━━━━━━\u001b[0m\u001b[37m\u001b[0m \u001b[1m66s\u001b[0m 85ms/step - accuracy: 0.9585 - loss: 0.1293 - val_accuracy: 0.8386 - val_loss: 0.4491 - learning_rate: 0.0010\n",
      "Epoch 5/20\n",
      "\u001b[1m781/781\u001b[0m \u001b[32m━━━━━━━━━━━━━━━━━━━━\u001b[0m\u001b[37m\u001b[0m \u001b[1m0s\u001b[0m 68ms/step - accuracy: 0.9800 - loss: 0.0691\n",
      "Epoch 5: ReduceLROnPlateau reducing learning rate to 1.0000000474974514e-05.\n",
      "\u001b[1m781/781\u001b[0m \u001b[32m━━━━━━━━━━━━━━━━━━━━\u001b[0m\u001b[37m\u001b[0m \u001b[1m64s\u001b[0m 82ms/step - accuracy: 0.9800 - loss: 0.0691 - val_accuracy: 0.8490 - val_loss: 0.5125 - learning_rate: 1.0000e-04\n",
      "Epoch 5: early stopping\n",
      "Restoring model weights from the end of the best epoch: 3.\n",
      "\u001b[1m781/781\u001b[0m \u001b[32m━━━━━━━━━━━━━━━━━━━━\u001b[0m\u001b[37m\u001b[0m \u001b[1m11s\u001b[0m 14ms/step - accuracy: 0.8474 - loss: 0.3672\n",
      "Test Loss: 0.36590471863746643, Test Accuracy: 0.8478713035583496\n"
     ]
    }
   ],
   "source": [
    "from tensorflow.keras.callbacks import EarlyStopping, ReduceLROnPlateau\n",
    "lr = ReduceLROnPlateau(patience=1, verbose=True) \n",
    "es = EarlyStopping(patience=2, verbose=True, restore_best_weights=True)  \n",
    "\n",
    "# fit the model, preserving the original order of the data\n",
    "model_original = build_lstm_model()\n",
    "model_original.summary()\n",
    "batch_size = 32  \n",
    "\n",
    "# train the model\n",
    "model_original.fit(\n",
    "    gen_data(X_train, y_train, batch_size, fliplr=False), \n",
    "    validation_data=gen_data(X_test, y_test, batch_size, fliplr=False), \n",
    "    steps_per_epoch=len(X_train) // batch_size, \n",
    "    validation_steps=len(X_test) // batch_size,  \n",
    "    epochs=20, \n",
    "    callbacks=[lr, es],  \n",
    "    verbose=1 \n",
    ")\n",
    "\n",
    "# evaluate the model on test data\n",
    "test_loss, test_accuracy = model_original.evaluate(\n",
    "    gen_data(X_test, y_test, batch_size, fliplr=False), \n",
    "    steps=len(X_test) // batch_size\n",
    ")\n",
    "\n",
    "print(f\"Test Loss: {test_loss}, Test Accuracy: {test_accuracy}\")"
   ]
  },
  {
   "cell_type": "code",
   "execution_count": 46,
   "metadata": {},
   "outputs": [
    {
     "data": {
      "text/html": [
       "<pre style=\"white-space:pre;overflow-x:auto;line-height:normal;font-family:Menlo,'DejaVu Sans Mono',consolas,'Courier New',monospace\"><span style=\"font-weight: bold\">Model: \"functional_1\"</span>\n",
       "</pre>\n"
      ],
      "text/plain": [
       "\u001b[1mModel: \"functional_1\"\u001b[0m\n"
      ]
     },
     "metadata": {},
     "output_type": "display_data"
    },
    {
     "data": {
      "text/html": [
       "<pre style=\"white-space:pre;overflow-x:auto;line-height:normal;font-family:Menlo,'DejaVu Sans Mono',consolas,'Courier New',monospace\">┏━━━━━━━━━━━━━━━━━━━━━━━━━━━━━━━━━┳━━━━━━━━━━━━━━━━━━━━━━━━┳━━━━━━━━━━━━━━━┓\n",
       "┃<span style=\"font-weight: bold\"> Layer (type)                    </span>┃<span style=\"font-weight: bold\"> Output Shape           </span>┃<span style=\"font-weight: bold\">       Param # </span>┃\n",
       "┡━━━━━━━━━━━━━━━━━━━━━━━━━━━━━━━━━╇━━━━━━━━━━━━━━━━━━━━━━━━╇━━━━━━━━━━━━━━━┩\n",
       "│ text_input (<span style=\"color: #0087ff; text-decoration-color: #0087ff\">InputLayer</span>)         │ (<span style=\"color: #00d7ff; text-decoration-color: #00d7ff\">None</span>, <span style=\"color: #00af00; text-decoration-color: #00af00\">125</span>)            │             <span style=\"color: #00af00; text-decoration-color: #00af00\">0</span> │\n",
       "├─────────────────────────────────┼────────────────────────┼───────────────┤\n",
       "│ embedding_1 (<span style=\"color: #0087ff; text-decoration-color: #0087ff\">Embedding</span>)         │ (<span style=\"color: #00d7ff; text-decoration-color: #00d7ff\">None</span>, <span style=\"color: #00af00; text-decoration-color: #00af00\">125</span>, <span style=\"color: #00af00; text-decoration-color: #00af00\">100</span>)       │     <span style=\"color: #00af00; text-decoration-color: #00af00\">5,000,000</span> │\n",
       "├─────────────────────────────────┼────────────────────────┼───────────────┤\n",
       "│ lstm_2 (<span style=\"color: #0087ff; text-decoration-color: #0087ff\">LSTM</span>)                   │ (<span style=\"color: #00d7ff; text-decoration-color: #00d7ff\">None</span>, <span style=\"color: #00af00; text-decoration-color: #00af00\">125</span>, <span style=\"color: #00af00; text-decoration-color: #00af00\">64</span>)        │        <span style=\"color: #00af00; text-decoration-color: #00af00\">42,240</span> │\n",
       "├─────────────────────────────────┼────────────────────────┼───────────────┤\n",
       "│ lstm_3 (<span style=\"color: #0087ff; text-decoration-color: #0087ff\">LSTM</span>)                   │ (<span style=\"color: #00d7ff; text-decoration-color: #00d7ff\">None</span>, <span style=\"color: #00af00; text-decoration-color: #00af00\">64</span>)             │        <span style=\"color: #00af00; text-decoration-color: #00af00\">33,024</span> │\n",
       "├─────────────────────────────────┼────────────────────────┼───────────────┤\n",
       "│ dropout_1 (<span style=\"color: #0087ff; text-decoration-color: #0087ff\">Dropout</span>)             │ (<span style=\"color: #00d7ff; text-decoration-color: #00d7ff\">None</span>, <span style=\"color: #00af00; text-decoration-color: #00af00\">64</span>)             │             <span style=\"color: #00af00; text-decoration-color: #00af00\">0</span> │\n",
       "├─────────────────────────────────┼────────────────────────┼───────────────┤\n",
       "│ dense_1 (<span style=\"color: #0087ff; text-decoration-color: #0087ff\">Dense</span>)                 │ (<span style=\"color: #00d7ff; text-decoration-color: #00d7ff\">None</span>, <span style=\"color: #00af00; text-decoration-color: #00af00\">1</span>)              │            <span style=\"color: #00af00; text-decoration-color: #00af00\">65</span> │\n",
       "└─────────────────────────────────┴────────────────────────┴───────────────┘\n",
       "</pre>\n"
      ],
      "text/plain": [
       "┏━━━━━━━━━━━━━━━━━━━━━━━━━━━━━━━━━┳━━━━━━━━━━━━━━━━━━━━━━━━┳━━━━━━━━━━━━━━━┓\n",
       "┃\u001b[1m \u001b[0m\u001b[1mLayer (type)                   \u001b[0m\u001b[1m \u001b[0m┃\u001b[1m \u001b[0m\u001b[1mOutput Shape          \u001b[0m\u001b[1m \u001b[0m┃\u001b[1m \u001b[0m\u001b[1m      Param #\u001b[0m\u001b[1m \u001b[0m┃\n",
       "┡━━━━━━━━━━━━━━━━━━━━━━━━━━━━━━━━━╇━━━━━━━━━━━━━━━━━━━━━━━━╇━━━━━━━━━━━━━━━┩\n",
       "│ text_input (\u001b[38;5;33mInputLayer\u001b[0m)         │ (\u001b[38;5;45mNone\u001b[0m, \u001b[38;5;34m125\u001b[0m)            │             \u001b[38;5;34m0\u001b[0m │\n",
       "├─────────────────────────────────┼────────────────────────┼───────────────┤\n",
       "│ embedding_1 (\u001b[38;5;33mEmbedding\u001b[0m)         │ (\u001b[38;5;45mNone\u001b[0m, \u001b[38;5;34m125\u001b[0m, \u001b[38;5;34m100\u001b[0m)       │     \u001b[38;5;34m5,000,000\u001b[0m │\n",
       "├─────────────────────────────────┼────────────────────────┼───────────────┤\n",
       "│ lstm_2 (\u001b[38;5;33mLSTM\u001b[0m)                   │ (\u001b[38;5;45mNone\u001b[0m, \u001b[38;5;34m125\u001b[0m, \u001b[38;5;34m64\u001b[0m)        │        \u001b[38;5;34m42,240\u001b[0m │\n",
       "├─────────────────────────────────┼────────────────────────┼───────────────┤\n",
       "│ lstm_3 (\u001b[38;5;33mLSTM\u001b[0m)                   │ (\u001b[38;5;45mNone\u001b[0m, \u001b[38;5;34m64\u001b[0m)             │        \u001b[38;5;34m33,024\u001b[0m │\n",
       "├─────────────────────────────────┼────────────────────────┼───────────────┤\n",
       "│ dropout_1 (\u001b[38;5;33mDropout\u001b[0m)             │ (\u001b[38;5;45mNone\u001b[0m, \u001b[38;5;34m64\u001b[0m)             │             \u001b[38;5;34m0\u001b[0m │\n",
       "├─────────────────────────────────┼────────────────────────┼───────────────┤\n",
       "│ dense_1 (\u001b[38;5;33mDense\u001b[0m)                 │ (\u001b[38;5;45mNone\u001b[0m, \u001b[38;5;34m1\u001b[0m)              │            \u001b[38;5;34m65\u001b[0m │\n",
       "└─────────────────────────────────┴────────────────────────┴───────────────┘\n"
      ]
     },
     "metadata": {},
     "output_type": "display_data"
    },
    {
     "data": {
      "text/html": [
       "<pre style=\"white-space:pre;overflow-x:auto;line-height:normal;font-family:Menlo,'DejaVu Sans Mono',consolas,'Courier New',monospace\"><span style=\"font-weight: bold\"> Total params: </span><span style=\"color: #00af00; text-decoration-color: #00af00\">5,075,329</span> (19.36 MB)\n",
       "</pre>\n"
      ],
      "text/plain": [
       "\u001b[1m Total params: \u001b[0m\u001b[38;5;34m5,075,329\u001b[0m (19.36 MB)\n"
      ]
     },
     "metadata": {},
     "output_type": "display_data"
    },
    {
     "data": {
      "text/html": [
       "<pre style=\"white-space:pre;overflow-x:auto;line-height:normal;font-family:Menlo,'DejaVu Sans Mono',consolas,'Courier New',monospace\"><span style=\"font-weight: bold\"> Trainable params: </span><span style=\"color: #00af00; text-decoration-color: #00af00\">5,075,329</span> (19.36 MB)\n",
       "</pre>\n"
      ],
      "text/plain": [
       "\u001b[1m Trainable params: \u001b[0m\u001b[38;5;34m5,075,329\u001b[0m (19.36 MB)\n"
      ]
     },
     "metadata": {},
     "output_type": "display_data"
    },
    {
     "data": {
      "text/html": [
       "<pre style=\"white-space:pre;overflow-x:auto;line-height:normal;font-family:Menlo,'DejaVu Sans Mono',consolas,'Courier New',monospace\"><span style=\"font-weight: bold\"> Non-trainable params: </span><span style=\"color: #00af00; text-decoration-color: #00af00\">0</span> (0.00 B)\n",
       "</pre>\n"
      ],
      "text/plain": [
       "\u001b[1m Non-trainable params: \u001b[0m\u001b[38;5;34m0\u001b[0m (0.00 B)\n"
      ]
     },
     "metadata": {},
     "output_type": "display_data"
    },
    {
     "name": "stdout",
     "output_type": "stream",
     "text": [
      "Epoch 1/20\n",
      "\u001b[1m781/781\u001b[0m \u001b[32m━━━━━━━━━━━━━━━━━━━━\u001b[0m\u001b[37m\u001b[0m \u001b[1m64s\u001b[0m 81ms/step - accuracy: 0.7173 - loss: 0.5290 - val_accuracy: 0.8276 - val_loss: 0.3825 - learning_rate: 0.0010\n",
      "Epoch 2/20\n",
      "\u001b[1m781/781\u001b[0m \u001b[32m━━━━━━━━━━━━━━━━━━━━\u001b[0m\u001b[37m\u001b[0m \u001b[1m0s\u001b[0m 93ms/step - accuracy: 0.9203 - loss: 0.2240\n",
      "Epoch 2: ReduceLROnPlateau reducing learning rate to 0.00010000000474974513.\n",
      "\u001b[1m781/781\u001b[0m \u001b[32m━━━━━━━━━━━━━━━━━━━━\u001b[0m\u001b[37m\u001b[0m \u001b[1m88s\u001b[0m 113ms/step - accuracy: 0.9203 - loss: 0.2240 - val_accuracy: 0.8177 - val_loss: 0.4740 - learning_rate: 0.0010\n",
      "Epoch 2: early stopping\n",
      "Restoring model weights from the end of the best epoch: 1.\n",
      "\u001b[1m781/781\u001b[0m \u001b[32m━━━━━━━━━━━━━━━━━━━━\u001b[0m\u001b[37m\u001b[0m \u001b[1m12s\u001b[0m 16ms/step - accuracy: 0.8263 - loss: 0.3857\n",
      "Reversed Test Loss: 0.3825347125530243, Reversed Test Accuracy: 0.8276248574256897\n"
     ]
    }
   ],
   "source": [
    "# make an identical model and fit it, this time flipping the data\n",
    "\n",
    "# build an identical LSTM model\n",
    "model_reversed = build_lstm_model()\n",
    "model_reversed.summary()\n",
    "\n",
    "# fit the model\n",
    "model_reversed.fit(\n",
    "    gen_data(X_train, y_train, batch_size, fliplr=True),  \n",
    "    validation_data=gen_data(X_test, y_test, batch_size, fliplr=True),  \n",
    "    steps_per_epoch=len(X_train) // batch_size,  \n",
    "    validation_steps=len(X_test) // batch_size, \n",
    "    epochs=20, \n",
    "    callbacks=[lr, es],  \n",
    "    verbose=1 \n",
    ")\n",
    "\n",
    "# evaluate the model on reversed test data\n",
    "test_loss_reversed, test_accuracy_reversed = model_reversed.evaluate(\n",
    "    gen_data(X_test, y_test, batch_size, fliplr=True),  \n",
    "    steps=len(X_test) // batch_size\n",
    ")\n",
    "print(f\"Reversed Test Loss: {test_loss_reversed}, Reversed Test Accuracy: {test_accuracy_reversed}\")"
   ]
  },
  {
   "cell_type": "markdown",
   "metadata": {},
   "source": [
    "### put comments here\n",
    "Both models achieved similar test accuracy (83-84%), indicating that reversing the input sequences didn’t significantly affect the model's ability to learn meaningful patterns. However, the reversed model reached slightly higher accuracy by epoch 2 and stopped training one epoch earlier, possibly due to better generalization at an earlier stage. The validation loss of the reversed model began to increase a bit earlier (after epoch 3), suggesting it might have started overfitting slightly sooner."
   ]
  },
  {
   "cell_type": "markdown",
   "metadata": {},
   "source": [
    "## Part 2: The bidirectional LSTM\n",
    "The idea behdind the bidirectional LSTM is to combine a forward and backward LSTM \n",
    "in order to reap the benefits of each. In such a scheme, we use two different LSTM\n",
    "one that processes the sequence in the forward direction and one that processes it \n",
    "backward. We combine (concatenate) their outputs to get a more complex and hopefully \n",
    "better represntation of the sequence we're trying to process. \n",
    "\n",
    "# $ \\\\ $\n",
    "# $ \\\\ $\n",
    "\n",
    "![bidrectional lstm](../lectures/09_intro_to_neural/bi-lstm.jpg)\n",
    "\n",
    "# $ \\\\ $\n",
    "# $ \\\\ $\n",
    "\n",
    "TODO: Make a model\n",
    " - One branch will take the embedded sequence and process it with an LSTM\n",
    " - Another branch will use a `Lambda` layer to flip the sequence and then process it with a different LSTM\n",
    "   - __NB__: `keras.backed.reverse` is a helpful tensor operation\n",
    " - Concatenate the branches together\n",
    " - Use 1-2 dense layers to get the output into the right shape. \n",
    "\n",
    "This recipe will not require flipping the data before it goes into the model. \n",
    "\n",
    "### Plot the model in the notebook to confirm two branches that get combined\n",
    "\n",
    "NB: you could also make __two__ different inputs to the model (one that gets flipped and one that doesn't) and process both with forward LSTMs. This approach is equivalent, but likely harder to implement."
   ]
  },
  {
   "cell_type": "code",
   "execution_count": 49,
   "metadata": {},
   "outputs": [],
   "source": [
    "from tensorflow.keras.layers import Lambda, Concatenate"
   ]
  },
  {
   "cell_type": "code",
   "execution_count": 71,
   "metadata": {},
   "outputs": [
    {
     "data": {
      "text/html": [
       "<pre style=\"white-space:pre;overflow-x:auto;line-height:normal;font-family:Menlo,'DejaVu Sans Mono',consolas,'Courier New',monospace\"><span style=\"font-weight: bold\">Model: \"functional\"</span>\n",
       "</pre>\n"
      ],
      "text/plain": [
       "\u001b[1mModel: \"functional\"\u001b[0m\n"
      ]
     },
     "metadata": {},
     "output_type": "display_data"
    },
    {
     "data": {
      "text/html": [
       "<pre style=\"white-space:pre;overflow-x:auto;line-height:normal;font-family:Menlo,'DejaVu Sans Mono',consolas,'Courier New',monospace\">┏━━━━━━━━━━━━━━━━━━━━━┳━━━━━━━━━━━━━━━━━━━┳━━━━━━━━━━━━┳━━━━━━━━━━━━━━━━━━━┓\n",
       "┃<span style=\"font-weight: bold\"> Layer (type)        </span>┃<span style=\"font-weight: bold\"> Output Shape      </span>┃<span style=\"font-weight: bold\">    Param # </span>┃<span style=\"font-weight: bold\"> Connected to      </span>┃\n",
       "┡━━━━━━━━━━━━━━━━━━━━━╇━━━━━━━━━━━━━━━━━━━╇━━━━━━━━━━━━╇━━━━━━━━━━━━━━━━━━━┩\n",
       "│ input_layer         │ (<span style=\"color: #00d7ff; text-decoration-color: #00d7ff\">None</span>, <span style=\"color: #00af00; text-decoration-color: #00af00\">125</span>)       │          <span style=\"color: #00af00; text-decoration-color: #00af00\">0</span> │ -                 │\n",
       "│ (<span style=\"color: #0087ff; text-decoration-color: #0087ff\">InputLayer</span>)        │                   │            │                   │\n",
       "├─────────────────────┼───────────────────┼────────────┼───────────────────┤\n",
       "│ embedding           │ (<span style=\"color: #00d7ff; text-decoration-color: #00d7ff\">None</span>, <span style=\"color: #00af00; text-decoration-color: #00af00\">125</span>, <span style=\"color: #00af00; text-decoration-color: #00af00\">100</span>)  │  <span style=\"color: #00af00; text-decoration-color: #00af00\">5,000,100</span> │ input_layer[<span style=\"color: #00af00; text-decoration-color: #00af00\">0</span>][<span style=\"color: #00af00; text-decoration-color: #00af00\">0</span>] │\n",
       "│ (<span style=\"color: #0087ff; text-decoration-color: #0087ff\">Embedding</span>)         │                   │            │                   │\n",
       "├─────────────────────┼───────────────────┼────────────┼───────────────────┤\n",
       "│ lambda (<span style=\"color: #0087ff; text-decoration-color: #0087ff\">Lambda</span>)     │ (<span style=\"color: #00d7ff; text-decoration-color: #00d7ff\">None</span>, <span style=\"color: #00af00; text-decoration-color: #00af00\">125</span>, <span style=\"color: #00af00; text-decoration-color: #00af00\">100</span>)  │          <span style=\"color: #00af00; text-decoration-color: #00af00\">0</span> │ embedding[<span style=\"color: #00af00; text-decoration-color: #00af00\">0</span>][<span style=\"color: #00af00; text-decoration-color: #00af00\">0</span>]   │\n",
       "├─────────────────────┼───────────────────┼────────────┼───────────────────┤\n",
       "│ lstm (<span style=\"color: #0087ff; text-decoration-color: #0087ff\">LSTM</span>)         │ (<span style=\"color: #00d7ff; text-decoration-color: #00d7ff\">None</span>, <span style=\"color: #00af00; text-decoration-color: #00af00\">64</span>)        │     <span style=\"color: #00af00; text-decoration-color: #00af00\">42,240</span> │ embedding[<span style=\"color: #00af00; text-decoration-color: #00af00\">0</span>][<span style=\"color: #00af00; text-decoration-color: #00af00\">0</span>]   │\n",
       "├─────────────────────┼───────────────────┼────────────┼───────────────────┤\n",
       "│ lstm_1 (<span style=\"color: #0087ff; text-decoration-color: #0087ff\">LSTM</span>)       │ (<span style=\"color: #00d7ff; text-decoration-color: #00d7ff\">None</span>, <span style=\"color: #00af00; text-decoration-color: #00af00\">64</span>)        │     <span style=\"color: #00af00; text-decoration-color: #00af00\">42,240</span> │ lambda[<span style=\"color: #00af00; text-decoration-color: #00af00\">0</span>][<span style=\"color: #00af00; text-decoration-color: #00af00\">0</span>]      │\n",
       "├─────────────────────┼───────────────────┼────────────┼───────────────────┤\n",
       "│ concatenate         │ (<span style=\"color: #00d7ff; text-decoration-color: #00d7ff\">None</span>, <span style=\"color: #00af00; text-decoration-color: #00af00\">128</span>)       │          <span style=\"color: #00af00; text-decoration-color: #00af00\">0</span> │ lstm[<span style=\"color: #00af00; text-decoration-color: #00af00\">0</span>][<span style=\"color: #00af00; text-decoration-color: #00af00\">0</span>],       │\n",
       "│ (<span style=\"color: #0087ff; text-decoration-color: #0087ff\">Concatenate</span>)       │                   │            │ lstm_1[<span style=\"color: #00af00; text-decoration-color: #00af00\">0</span>][<span style=\"color: #00af00; text-decoration-color: #00af00\">0</span>]      │\n",
       "├─────────────────────┼───────────────────┼────────────┼───────────────────┤\n",
       "│ dense (<span style=\"color: #0087ff; text-decoration-color: #0087ff\">Dense</span>)       │ (<span style=\"color: #00d7ff; text-decoration-color: #00d7ff\">None</span>, <span style=\"color: #00af00; text-decoration-color: #00af00\">64</span>)        │      <span style=\"color: #00af00; text-decoration-color: #00af00\">8,256</span> │ concatenate[<span style=\"color: #00af00; text-decoration-color: #00af00\">0</span>][<span style=\"color: #00af00; text-decoration-color: #00af00\">0</span>] │\n",
       "├─────────────────────┼───────────────────┼────────────┼───────────────────┤\n",
       "│ dropout (<span style=\"color: #0087ff; text-decoration-color: #0087ff\">Dropout</span>)   │ (<span style=\"color: #00d7ff; text-decoration-color: #00d7ff\">None</span>, <span style=\"color: #00af00; text-decoration-color: #00af00\">64</span>)        │          <span style=\"color: #00af00; text-decoration-color: #00af00\">0</span> │ dense[<span style=\"color: #00af00; text-decoration-color: #00af00\">0</span>][<span style=\"color: #00af00; text-decoration-color: #00af00\">0</span>]       │\n",
       "├─────────────────────┼───────────────────┼────────────┼───────────────────┤\n",
       "│ dense_1 (<span style=\"color: #0087ff; text-decoration-color: #0087ff\">Dense</span>)     │ (<span style=\"color: #00d7ff; text-decoration-color: #00d7ff\">None</span>, <span style=\"color: #00af00; text-decoration-color: #00af00\">1</span>)         │         <span style=\"color: #00af00; text-decoration-color: #00af00\">65</span> │ dropout[<span style=\"color: #00af00; text-decoration-color: #00af00\">0</span>][<span style=\"color: #00af00; text-decoration-color: #00af00\">0</span>]     │\n",
       "└─────────────────────┴───────────────────┴────────────┴───────────────────┘\n",
       "</pre>\n"
      ],
      "text/plain": [
       "┏━━━━━━━━━━━━━━━━━━━━━┳━━━━━━━━━━━━━━━━━━━┳━━━━━━━━━━━━┳━━━━━━━━━━━━━━━━━━━┓\n",
       "┃\u001b[1m \u001b[0m\u001b[1mLayer (type)       \u001b[0m\u001b[1m \u001b[0m┃\u001b[1m \u001b[0m\u001b[1mOutput Shape     \u001b[0m\u001b[1m \u001b[0m┃\u001b[1m \u001b[0m\u001b[1m   Param #\u001b[0m\u001b[1m \u001b[0m┃\u001b[1m \u001b[0m\u001b[1mConnected to     \u001b[0m\u001b[1m \u001b[0m┃\n",
       "┡━━━━━━━━━━━━━━━━━━━━━╇━━━━━━━━━━━━━━━━━━━╇━━━━━━━━━━━━╇━━━━━━━━━━━━━━━━━━━┩\n",
       "│ input_layer         │ (\u001b[38;5;45mNone\u001b[0m, \u001b[38;5;34m125\u001b[0m)       │          \u001b[38;5;34m0\u001b[0m │ -                 │\n",
       "│ (\u001b[38;5;33mInputLayer\u001b[0m)        │                   │            │                   │\n",
       "├─────────────────────┼───────────────────┼────────────┼───────────────────┤\n",
       "│ embedding           │ (\u001b[38;5;45mNone\u001b[0m, \u001b[38;5;34m125\u001b[0m, \u001b[38;5;34m100\u001b[0m)  │  \u001b[38;5;34m5,000,100\u001b[0m │ input_layer[\u001b[38;5;34m0\u001b[0m][\u001b[38;5;34m0\u001b[0m] │\n",
       "│ (\u001b[38;5;33mEmbedding\u001b[0m)         │                   │            │                   │\n",
       "├─────────────────────┼───────────────────┼────────────┼───────────────────┤\n",
       "│ lambda (\u001b[38;5;33mLambda\u001b[0m)     │ (\u001b[38;5;45mNone\u001b[0m, \u001b[38;5;34m125\u001b[0m, \u001b[38;5;34m100\u001b[0m)  │          \u001b[38;5;34m0\u001b[0m │ embedding[\u001b[38;5;34m0\u001b[0m][\u001b[38;5;34m0\u001b[0m]   │\n",
       "├─────────────────────┼───────────────────┼────────────┼───────────────────┤\n",
       "│ lstm (\u001b[38;5;33mLSTM\u001b[0m)         │ (\u001b[38;5;45mNone\u001b[0m, \u001b[38;5;34m64\u001b[0m)        │     \u001b[38;5;34m42,240\u001b[0m │ embedding[\u001b[38;5;34m0\u001b[0m][\u001b[38;5;34m0\u001b[0m]   │\n",
       "├─────────────────────┼───────────────────┼────────────┼───────────────────┤\n",
       "│ lstm_1 (\u001b[38;5;33mLSTM\u001b[0m)       │ (\u001b[38;5;45mNone\u001b[0m, \u001b[38;5;34m64\u001b[0m)        │     \u001b[38;5;34m42,240\u001b[0m │ lambda[\u001b[38;5;34m0\u001b[0m][\u001b[38;5;34m0\u001b[0m]      │\n",
       "├─────────────────────┼───────────────────┼────────────┼───────────────────┤\n",
       "│ concatenate         │ (\u001b[38;5;45mNone\u001b[0m, \u001b[38;5;34m128\u001b[0m)       │          \u001b[38;5;34m0\u001b[0m │ lstm[\u001b[38;5;34m0\u001b[0m][\u001b[38;5;34m0\u001b[0m],       │\n",
       "│ (\u001b[38;5;33mConcatenate\u001b[0m)       │                   │            │ lstm_1[\u001b[38;5;34m0\u001b[0m][\u001b[38;5;34m0\u001b[0m]      │\n",
       "├─────────────────────┼───────────────────┼────────────┼───────────────────┤\n",
       "│ dense (\u001b[38;5;33mDense\u001b[0m)       │ (\u001b[38;5;45mNone\u001b[0m, \u001b[38;5;34m64\u001b[0m)        │      \u001b[38;5;34m8,256\u001b[0m │ concatenate[\u001b[38;5;34m0\u001b[0m][\u001b[38;5;34m0\u001b[0m] │\n",
       "├─────────────────────┼───────────────────┼────────────┼───────────────────┤\n",
       "│ dropout (\u001b[38;5;33mDropout\u001b[0m)   │ (\u001b[38;5;45mNone\u001b[0m, \u001b[38;5;34m64\u001b[0m)        │          \u001b[38;5;34m0\u001b[0m │ dense[\u001b[38;5;34m0\u001b[0m][\u001b[38;5;34m0\u001b[0m]       │\n",
       "├─────────────────────┼───────────────────┼────────────┼───────────────────┤\n",
       "│ dense_1 (\u001b[38;5;33mDense\u001b[0m)     │ (\u001b[38;5;45mNone\u001b[0m, \u001b[38;5;34m1\u001b[0m)         │         \u001b[38;5;34m65\u001b[0m │ dropout[\u001b[38;5;34m0\u001b[0m][\u001b[38;5;34m0\u001b[0m]     │\n",
       "└─────────────────────┴───────────────────┴────────────┴───────────────────┘\n"
      ]
     },
     "metadata": {},
     "output_type": "display_data"
    },
    {
     "data": {
      "text/html": [
       "<pre style=\"white-space:pre;overflow-x:auto;line-height:normal;font-family:Menlo,'DejaVu Sans Mono',consolas,'Courier New',monospace\"><span style=\"font-weight: bold\"> Total params: </span><span style=\"color: #00af00; text-decoration-color: #00af00\">5,092,901</span> (19.43 MB)\n",
       "</pre>\n"
      ],
      "text/plain": [
       "\u001b[1m Total params: \u001b[0m\u001b[38;5;34m5,092,901\u001b[0m (19.43 MB)\n"
      ]
     },
     "metadata": {},
     "output_type": "display_data"
    },
    {
     "data": {
      "text/html": [
       "<pre style=\"white-space:pre;overflow-x:auto;line-height:normal;font-family:Menlo,'DejaVu Sans Mono',consolas,'Courier New',monospace\"><span style=\"font-weight: bold\"> Trainable params: </span><span style=\"color: #00af00; text-decoration-color: #00af00\">5,092,901</span> (19.43 MB)\n",
       "</pre>\n"
      ],
      "text/plain": [
       "\u001b[1m Trainable params: \u001b[0m\u001b[38;5;34m5,092,901\u001b[0m (19.43 MB)\n"
      ]
     },
     "metadata": {},
     "output_type": "display_data"
    },
    {
     "data": {
      "text/html": [
       "<pre style=\"white-space:pre;overflow-x:auto;line-height:normal;font-family:Menlo,'DejaVu Sans Mono',consolas,'Courier New',monospace\"><span style=\"font-weight: bold\"> Non-trainable params: </span><span style=\"color: #00af00; text-decoration-color: #00af00\">0</span> (0.00 B)\n",
       "</pre>\n"
      ],
      "text/plain": [
       "\u001b[1m Non-trainable params: \u001b[0m\u001b[38;5;34m0\u001b[0m (0.00 B)\n"
      ]
     },
     "metadata": {},
     "output_type": "display_data"
    }
   ],
   "source": [
    "K.clear_session()\n",
    "\n",
    "# model code here\n",
    "text_input = Input(shape=(125,), dtype=\"int32\")\n",
    "\n",
    "# embed the sequence\n",
    "embedded_sequence = Embedding(tokenizer.num_words + 1, 100)(text_input)\n",
    "\n",
    "# process the sequence with two different branches\n",
    "# -regular (forward) LSTM\n",
    "forward_lstm = LSTM(units=64, return_sequences=False)(embedded_sequence)\n",
    "\n",
    "# -backward LSTM\n",
    "flip_layer = Lambda(lambda x: K.reverse(x, axes=1))  #  # fix this line Flips the sequence along the time axis\n",
    "flipped_sequence = flip_layer(embedded_sequence)\n",
    "backward_lstm = LSTM(units=64, return_sequences=False)(flipped_sequence)\n",
    "\n",
    "combined = Concatenate(name=\"concatenate\")([forward_lstm, backward_lstm])\n",
    "\n",
    "# dense layers\n",
    "dense_1 = Dense(64, activation=\"relu\")(combined) \n",
    "dropout = Dropout(rate=0.5, name=\"dropout\")(dense_1) \n",
    "output = Dense(1, activation=\"sigmoid\")(dropout)  \n",
    "\n",
    "# build and compile model\n",
    "model = Model(inputs=text_input, outputs=output)\n",
    "model.compile(\"adam\", loss=\"binary_crossentropy\", metrics=[\"acc\"])\n",
    "model.summary()"
   ]
  },
  {
   "cell_type": "code",
   "execution_count": 73,
   "metadata": {},
   "outputs": [
    {
     "data": {
      "image/png": "[encoded data removed]",
      "text/plain": [
       "<IPython.core.display.Image object>"
      ]
     },
     "execution_count": 73,
     "metadata": {},
     "output_type": "execute_result"
    }
   ],
   "source": [
    "from IPython.display import Image\n",
    "#from tensorflow.keras.utils.vis_utils import model_to_dot\n",
    "from tensorflow.keras.utils import plot_model\n",
    "\n",
    "#def plot_model_in_notebook(model):\n",
    " #   return Image(plot_model(model, show_shapes=True).create(prog='dot', format='png'))\n",
    "\n",
    "def plot_model_in_notebook(model):\n",
    "    plot_model(model, show_shapes=True, to_file='model.png')\n",
    "    return Image('model.png')\n",
    "\n",
    "plot_model_in_notebook(model)"
   ]
  },
  {
   "cell_type": "markdown",
   "metadata": {},
   "source": [
    "## Part 3: Fit the model\n",
    " - fit the model feeding in forward sequences. \n",
    " - repeat for backward sequences (remember to re-initialize the model)\n",
    "\n",
    "Comment on the results\n",
    " - how is the performance?\n",
    " - does the direction matter when we use a bidirectional lstm?"
   ]
  },
  {
   "cell_type": "code",
   "execution_count": 76,
   "metadata": {},
   "outputs": [
    {
     "name": "stdout",
     "output_type": "stream",
     "text": [
      "Epoch 1/20\n",
      "\u001b[1m781/781\u001b[0m \u001b[32m━━━━━━━━━━━━━━━━━━━━\u001b[0m\u001b[37m\u001b[0m \u001b[1m66s\u001b[0m 83ms/step - acc: 0.7176 - loss: 0.5202 - val_acc: 0.8548 - val_loss: 0.3413 - learning_rate: 0.0010\n",
      "Epoch 2/20\n",
      "\u001b[1m781/781\u001b[0m \u001b[32m━━━━━━━━━━━━━━━━━━━━\u001b[0m\u001b[37m\u001b[0m \u001b[1m0s\u001b[0m 71ms/step - acc: 0.9322 - loss: 0.1906\n",
      "Epoch 2: ReduceLROnPlateau reducing learning rate to 0.00010000000474974513.\n",
      "\u001b[1m781/781\u001b[0m \u001b[32m━━━━━━━━━━━━━━━━━━━━\u001b[0m\u001b[37m\u001b[0m \u001b[1m68s\u001b[0m 87ms/step - acc: 0.9322 - loss: 0.1906 - val_acc: 0.8482 - val_loss: 0.3784 - learning_rate: 0.0010\n",
      "Epoch 3/20\n",
      "\u001b[1m781/781\u001b[0m \u001b[32m━━━━━━━━━━━━━━━━━━━━\u001b[0m\u001b[37m\u001b[0m \u001b[1m0s\u001b[0m 78ms/step - acc: 0.9811 - loss: 0.0639\n",
      "Epoch 3: ReduceLROnPlateau reducing learning rate to 1.0000000474974514e-05.\n",
      "\u001b[1m781/781\u001b[0m \u001b[32m━━━━━━━━━━━━━━━━━━━━\u001b[0m\u001b[37m\u001b[0m \u001b[1m74s\u001b[0m 95ms/step - acc: 0.9811 - loss: 0.0639 - val_acc: 0.8552 - val_loss: 0.4806 - learning_rate: 1.0000e-04\n",
      "Epoch 3: early stopping\n",
      "Restoring model weights from the end of the best epoch: 1.\n",
      "\u001b[1m781/781\u001b[0m \u001b[32m━━━━━━━━━━━━━━━━━━━━\u001b[0m\u001b[37m\u001b[0m \u001b[1m13s\u001b[0m 16ms/step - acc: 0.8498 - loss: 0.3487\n",
      "Forward Sequences - test loss: 0.3412402868270874, test accuracy: 0.8547935485839844\n"
     ]
    }
   ],
   "source": [
    "# fit the model\n",
    "model.fit(gen_data(X_train, y_train, batch_size=32, fliplr=False),  # feed forward sequences\n",
    "    validation_data=gen_data(X_test, y_test, batch_size=32, fliplr=False),  # validate on forward sequences\n",
    "    steps_per_epoch=len(X_train) // 32,\n",
    "    validation_steps=len(X_test) // 32,\n",
    "    epochs=20,\n",
    "    callbacks=[lr, es], \n",
    "    verbose=1\n",
    ")\n",
    "\n",
    "# evaluate the model\n",
    "test_loss_forward, test_accuracy_forward = model.evaluate(\n",
    "    gen_data(X_test, y_test, batch_size=32, fliplr=False),\n",
    "    steps=len(X_test) // 32\n",
    ")\n",
    "print(f\"Forward Sequences - test loss: {test_loss_forward}, test accuracy: {test_accuracy_forward}\")"
   ]
  },
  {
   "cell_type": "code",
   "execution_count": 77,
   "metadata": {},
   "outputs": [],
   "source": [
    "# reinitialize the model\n",
    "# (just re-make it)\n",
    "model = Model(inputs=text_input, outputs=output) \n",
    "model.compile(\"adam\", loss=\"binary_crossentropy\", metrics=[\"acc\"])"
   ]
  },
  {
   "cell_type": "code",
   "execution_count": 78,
   "metadata": {},
   "outputs": [
    {
     "name": "stdout",
     "output_type": "stream",
     "text": [
      "Epoch 1/20\n",
      "\u001b[1m781/781\u001b[0m \u001b[32m━━━━━━━━━━━━━━━━━━━━\u001b[0m\u001b[37m\u001b[0m \u001b[1m65s\u001b[0m 82ms/step - acc: 0.9246 - loss: 0.2086 - val_acc: 0.8394 - val_loss: 0.3784 - learning_rate: 0.0010\n",
      "Epoch 2/20\n",
      "\u001b[1m781/781\u001b[0m \u001b[32m━━━━━━━━━━━━━━━━━━━━\u001b[0m\u001b[37m\u001b[0m \u001b[1m0s\u001b[0m 71ms/step - acc: 0.9675 - loss: 0.0957\n",
      "Epoch 2: ReduceLROnPlateau reducing learning rate to 0.00010000000474974513.\n",
      "\u001b[1m781/781\u001b[0m \u001b[32m━━━━━━━━━━━━━━━━━━━━\u001b[0m\u001b[37m\u001b[0m \u001b[1m68s\u001b[0m 87ms/step - acc: 0.9675 - loss: 0.0957 - val_acc: 0.8435 - val_loss: 0.4611 - learning_rate: 0.0010\n",
      "Epoch 2: early stopping\n",
      "Restoring model weights from the end of the best epoch: 1.\n",
      "\u001b[1m781/781\u001b[0m \u001b[32m━━━━━━━━━━━━━━━━━━━━\u001b[0m\u001b[37m\u001b[0m \u001b[1m17s\u001b[0m 21ms/step - acc: 0.8420 - loss: 0.3755\n",
      "backward Sequences - Test Loss: 0.3784201443195343, test Accuracy: 0.8393886089324951\n"
     ]
    }
   ],
   "source": [
    "# fit the model with reversed sequences\n",
    "model.fit(gen_data(X_train, y_train, batch_size=32, fliplr=True),  # feed backward sequences\n",
    "    validation_data=gen_data(X_test, y_test, batch_size=32, fliplr=True),  # validate on backward sequences\n",
    "    steps_per_epoch=len(X_train) // 32,\n",
    "    validation_steps=len(X_test) // 32,\n",
    "    epochs=20,\n",
    "    callbacks=[lr, es], \n",
    "    verbose=1\n",
    ")\n",
    "\n",
    "test_loss_backward, test_accuracy_backward = model.evaluate(\n",
    "    gen_data(X_test, y_test, batch_size=32, fliplr=True),\n",
    "    steps=len(X_test) // 32\n",
    ")\n",
    "\n",
    "print(f\"backward Sequences - Test Loss: {test_loss_backward}, test Accuracy: {test_accuracy_backward}\")"
   ]
  },
  {
   "cell_type": "markdown",
   "metadata": {},
   "source": [
    "### Comment on the results:\n",
    "\n",
    "Both forward and backward-trained bidirectional LSTMs performed similarly, with forward sequences slightly outperforming backward ones in this case. Therefore, direction does not significantly matter when using a bidirectional LSTM. The slight performance differences are likely due to random initialization or data-specific nuances."
   ]
  },
  {
   "cell_type": "markdown",
   "metadata": {},
   "source": [
    "## Part 4: Use the keras builtin\n",
    "In fact, keras has a builtin called `Bidirectional` which takes an RNN as an input\n",
    "and returns a bidirectional version as the output. \n",
    "\n",
    "Use this to confirm that it works correctly. \n",
    "Comment on the number of parameters in the bidirectional LSTM"
   ]
  },
  {
   "cell_type": "code",
   "execution_count": 82,
   "metadata": {},
   "outputs": [],
   "source": [
    "from tensorflow.keras.layers import Bidirectional"
   ]
  },
  {
   "cell_type": "code",
   "execution_count": 84,
   "metadata": {},
   "outputs": [
    {
     "data": {
      "text/html": [
       "<pre style=\"white-space:pre;overflow-x:auto;line-height:normal;font-family:Menlo,'DejaVu Sans Mono',consolas,'Courier New',monospace\"><span style=\"font-weight: bold\">Model: \"functional\"</span>\n",
       "</pre>\n"
      ],
      "text/plain": [
       "\u001b[1mModel: \"functional\"\u001b[0m\n"
      ]
     },
     "metadata": {},
     "output_type": "display_data"
    },
    {
     "data": {
      "text/html": [
       "<pre style=\"white-space:pre;overflow-x:auto;line-height:normal;font-family:Menlo,'DejaVu Sans Mono',consolas,'Courier New',monospace\">┏━━━━━━━━━━━━━━━━━━━━━━━━━━━━━━━━━┳━━━━━━━━━━━━━━━━━━━━━━━━┳━━━━━━━━━━━━━━━┓\n",
       "┃<span style=\"font-weight: bold\"> Layer (type)                    </span>┃<span style=\"font-weight: bold\"> Output Shape           </span>┃<span style=\"font-weight: bold\">       Param # </span>┃\n",
       "┡━━━━━━━━━━━━━━━━━━━━━━━━━━━━━━━━━╇━━━━━━━━━━━━━━━━━━━━━━━━╇━━━━━━━━━━━━━━━┩\n",
       "│ text_input_Bidirectional        │ (<span style=\"color: #00d7ff; text-decoration-color: #00d7ff\">None</span>, <span style=\"color: #00af00; text-decoration-color: #00af00\">125</span>)            │             <span style=\"color: #00af00; text-decoration-color: #00af00\">0</span> │\n",
       "│ (<span style=\"color: #0087ff; text-decoration-color: #0087ff\">InputLayer</span>)                    │                        │               │\n",
       "├─────────────────────────────────┼────────────────────────┼───────────────┤\n",
       "│ embedding (<span style=\"color: #0087ff; text-decoration-color: #0087ff\">Embedding</span>)           │ (<span style=\"color: #00d7ff; text-decoration-color: #00d7ff\">None</span>, <span style=\"color: #00af00; text-decoration-color: #00af00\">125</span>, <span style=\"color: #00af00; text-decoration-color: #00af00\">100</span>)       │     <span style=\"color: #00af00; text-decoration-color: #00af00\">5,000,100</span> │\n",
       "├─────────────────────────────────┼────────────────────────┼───────────────┤\n",
       "│ bidirectional (<span style=\"color: #0087ff; text-decoration-color: #0087ff\">Bidirectional</span>)   │ (<span style=\"color: #00d7ff; text-decoration-color: #00d7ff\">None</span>, <span style=\"color: #00af00; text-decoration-color: #00af00\">128</span>)            │        <span style=\"color: #00af00; text-decoration-color: #00af00\">84,480</span> │\n",
       "├─────────────────────────────────┼────────────────────────┼───────────────┤\n",
       "│ dense (<span style=\"color: #0087ff; text-decoration-color: #0087ff\">Dense</span>)                   │ (<span style=\"color: #00d7ff; text-decoration-color: #00d7ff\">None</span>, <span style=\"color: #00af00; text-decoration-color: #00af00\">64</span>)             │         <span style=\"color: #00af00; text-decoration-color: #00af00\">8,256</span> │\n",
       "├─────────────────────────────────┼────────────────────────┼───────────────┤\n",
       "│ dropout (<span style=\"color: #0087ff; text-decoration-color: #0087ff\">Dropout</span>)               │ (<span style=\"color: #00d7ff; text-decoration-color: #00d7ff\">None</span>, <span style=\"color: #00af00; text-decoration-color: #00af00\">64</span>)             │             <span style=\"color: #00af00; text-decoration-color: #00af00\">0</span> │\n",
       "├─────────────────────────────────┼────────────────────────┼───────────────┤\n",
       "│ dense_1 (<span style=\"color: #0087ff; text-decoration-color: #0087ff\">Dense</span>)                 │ (<span style=\"color: #00d7ff; text-decoration-color: #00d7ff\">None</span>, <span style=\"color: #00af00; text-decoration-color: #00af00\">1</span>)              │            <span style=\"color: #00af00; text-decoration-color: #00af00\">65</span> │\n",
       "└─────────────────────────────────┴────────────────────────┴───────────────┘\n",
       "</pre>\n"
      ],
      "text/plain": [
       "┏━━━━━━━━━━━━━━━━━━━━━━━━━━━━━━━━━┳━━━━━━━━━━━━━━━━━━━━━━━━┳━━━━━━━━━━━━━━━┓\n",
       "┃\u001b[1m \u001b[0m\u001b[1mLayer (type)                   \u001b[0m\u001b[1m \u001b[0m┃\u001b[1m \u001b[0m\u001b[1mOutput Shape          \u001b[0m\u001b[1m \u001b[0m┃\u001b[1m \u001b[0m\u001b[1m      Param #\u001b[0m\u001b[1m \u001b[0m┃\n",
       "┡━━━━━━━━━━━━━━━━━━━━━━━━━━━━━━━━━╇━━━━━━━━━━━━━━━━━━━━━━━━╇━━━━━━━━━━━━━━━┩\n",
       "│ text_input_Bidirectional        │ (\u001b[38;5;45mNone\u001b[0m, \u001b[38;5;34m125\u001b[0m)            │             \u001b[38;5;34m0\u001b[0m │\n",
       "│ (\u001b[38;5;33mInputLayer\u001b[0m)                    │                        │               │\n",
       "├─────────────────────────────────┼────────────────────────┼───────────────┤\n",
       "│ embedding (\u001b[38;5;33mEmbedding\u001b[0m)           │ (\u001b[38;5;45mNone\u001b[0m, \u001b[38;5;34m125\u001b[0m, \u001b[38;5;34m100\u001b[0m)       │     \u001b[38;5;34m5,000,100\u001b[0m │\n",
       "├─────────────────────────────────┼────────────────────────┼───────────────┤\n",
       "│ bidirectional (\u001b[38;5;33mBidirectional\u001b[0m)   │ (\u001b[38;5;45mNone\u001b[0m, \u001b[38;5;34m128\u001b[0m)            │        \u001b[38;5;34m84,480\u001b[0m │\n",
       "├─────────────────────────────────┼────────────────────────┼───────────────┤\n",
       "│ dense (\u001b[38;5;33mDense\u001b[0m)                   │ (\u001b[38;5;45mNone\u001b[0m, \u001b[38;5;34m64\u001b[0m)             │         \u001b[38;5;34m8,256\u001b[0m │\n",
       "├─────────────────────────────────┼────────────────────────┼───────────────┤\n",
       "│ dropout (\u001b[38;5;33mDropout\u001b[0m)               │ (\u001b[38;5;45mNone\u001b[0m, \u001b[38;5;34m64\u001b[0m)             │             \u001b[38;5;34m0\u001b[0m │\n",
       "├─────────────────────────────────┼────────────────────────┼───────────────┤\n",
       "│ dense_1 (\u001b[38;5;33mDense\u001b[0m)                 │ (\u001b[38;5;45mNone\u001b[0m, \u001b[38;5;34m1\u001b[0m)              │            \u001b[38;5;34m65\u001b[0m │\n",
       "└─────────────────────────────────┴────────────────────────┴───────────────┘\n"
      ]
     },
     "metadata": {},
     "output_type": "display_data"
    },
    {
     "data": {
      "text/html": [
       "<pre style=\"white-space:pre;overflow-x:auto;line-height:normal;font-family:Menlo,'DejaVu Sans Mono',consolas,'Courier New',monospace\"><span style=\"font-weight: bold\"> Total params: </span><span style=\"color: #00af00; text-decoration-color: #00af00\">5,092,901</span> (19.43 MB)\n",
       "</pre>\n"
      ],
      "text/plain": [
       "\u001b[1m Total params: \u001b[0m\u001b[38;5;34m5,092,901\u001b[0m (19.43 MB)\n"
      ]
     },
     "metadata": {},
     "output_type": "display_data"
    },
    {
     "data": {
      "text/html": [
       "<pre style=\"white-space:pre;overflow-x:auto;line-height:normal;font-family:Menlo,'DejaVu Sans Mono',consolas,'Courier New',monospace\"><span style=\"font-weight: bold\"> Trainable params: </span><span style=\"color: #00af00; text-decoration-color: #00af00\">5,092,901</span> (19.43 MB)\n",
       "</pre>\n"
      ],
      "text/plain": [
       "\u001b[1m Trainable params: \u001b[0m\u001b[38;5;34m5,092,901\u001b[0m (19.43 MB)\n"
      ]
     },
     "metadata": {},
     "output_type": "display_data"
    },
    {
     "data": {
      "text/html": [
       "<pre style=\"white-space:pre;overflow-x:auto;line-height:normal;font-family:Menlo,'DejaVu Sans Mono',consolas,'Courier New',monospace\"><span style=\"font-weight: bold\"> Non-trainable params: </span><span style=\"color: #00af00; text-decoration-color: #00af00\">0</span> (0.00 B)\n",
       "</pre>\n"
      ],
      "text/plain": [
       "\u001b[1m Non-trainable params: \u001b[0m\u001b[38;5;34m0\u001b[0m (0.00 B)\n"
      ]
     },
     "metadata": {},
     "output_type": "display_data"
    }
   ],
   "source": [
    "K.clear_session()\n",
    "# make a model with a single Bidirectional LSTM using the keras builtin\n",
    "\n",
    "text_input = Input(shape=(125,), dtype=\"int32\", name=\"text_input_Bidirectional\")\n",
    "\n",
    "# embed the sequence\n",
    "embedded_sequence = Embedding(tokenizer.num_words + 1, 100)(text_input)\n",
    "\n",
    "# a single Bidirectional LSTM using the keras builtin\n",
    "bidirectional_lstm = Bidirectional(LSTM(units=64, return_sequences=False))(embedded_sequence)\n",
    "\n",
    "# dense layers\n",
    "dense_1 = Dense(64, activation=\"relu\")(bidirectional_lstm) \n",
    "dropout = Dropout(rate=0.5, name=\"dropout\")(dense_1) \n",
    "output = Dense(1, activation=\"sigmoid\")(dropout)  \n",
    "\n",
    "# build and compile model\n",
    "model = Model(inputs=text_input, outputs=output)\n",
    "model.compile(\"adam\", loss=\"binary_crossentropy\", metrics=[\"acc\"])\n",
    "model.summary()"
   ]
  },
  {
   "cell_type": "code",
   "execution_count": 86,
   "metadata": {},
   "outputs": [
    {
     "name": "stdout",
     "output_type": "stream",
     "text": [
      "Epoch 1/20\n",
      "\u001b[1m781/781\u001b[0m \u001b[32m━━━━━━━━━━━━━━━━━━━━\u001b[0m\u001b[37m\u001b[0m \u001b[1m65s\u001b[0m 83ms/step - acc: 0.7117 - loss: 0.5221 - val_acc: 0.8604 - val_loss: 0.3318 - learning_rate: 0.0010\n",
      "Epoch 2/20\n",
      "\u001b[1m781/781\u001b[0m \u001b[32m━━━━━━━━━━━━━━━━━━━━\u001b[0m\u001b[37m\u001b[0m \u001b[1m0s\u001b[0m 72ms/step - acc: 0.9321 - loss: 0.1900\n",
      "Epoch 2: ReduceLROnPlateau reducing learning rate to 0.00010000000474974513.\n",
      "\u001b[1m781/781\u001b[0m \u001b[32m━━━━━━━━━━━━━━━━━━━━\u001b[0m\u001b[37m\u001b[0m \u001b[1m70s\u001b[0m 90ms/step - acc: 0.9321 - loss: 0.1900 - val_acc: 0.8531 - val_loss: 0.3891 - learning_rate: 0.0010\n",
      "Epoch 3/20\n",
      "\u001b[1m781/781\u001b[0m \u001b[32m━━━━━━━━━━━━━━━━━━━━\u001b[0m\u001b[37m\u001b[0m \u001b[1m0s\u001b[0m 62ms/step - acc: 0.9787 - loss: 0.0654\n",
      "Epoch 3: ReduceLROnPlateau reducing learning rate to 1.0000000474974514e-05.\n",
      "\u001b[1m781/781\u001b[0m \u001b[32m━━━━━━━━━━━━━━━━━━━━\u001b[0m\u001b[37m\u001b[0m \u001b[1m67s\u001b[0m 85ms/step - acc: 0.9787 - loss: 0.0654 - val_acc: 0.8540 - val_loss: 0.4555 - learning_rate: 1.0000e-04\n",
      "Epoch 3: early stopping\n",
      "Restoring model weights from the end of the best epoch: 1.\n",
      "\u001b[1m781/781\u001b[0m \u001b[32m━━━━━━━━━━━━━━━━━━━━\u001b[0m\u001b[37m\u001b[0m \u001b[1m12s\u001b[0m 16ms/step - acc: 0.8603 - loss: 0.3305\n"
     ]
    }
   ],
   "source": [
    "# fit the model\n",
    "model.fit(\n",
    "    gen_data(X_train, y_train, batch_size=32, fliplr=False), \n",
    "    validation_data=gen_data(X_test, y_test, batch_size=32, fliplr=False),  \n",
    "    steps_per_epoch=len(X_train) // 32,\n",
    "    validation_steps=len(X_test) // 32,\n",
    "    epochs=20,\n",
    "    callbacks=[lr, es],\n",
    "    verbose=1\n",
    ")\n",
    "\n",
    "test_loss, test_accuracy = model.evaluate(\n",
    "    gen_data(X_test, y_test, batch_size=32, fliplr=False),\n",
    "    steps=len(X_test) // 32\n",
    ")"
   ]
  },
  {
   "cell_type": "markdown",
   "metadata": {},
   "source": [
    "### Comment on the number of parameters in the bidirectional LSTM\n",
    "The bidirectional LSTM has slightly more parameters than the unidirectional LSTM, as it includes both a forward and a backward layer. The embedding layer accounts for the majority of the total parameter count, due to the large vocabulary size (50,000) and embedding dimension (100). The increase in parameters from the bidirectional wrapper is minimal in comparison to the overall size of the model."
   ]
  },
  {
   "cell_type": "markdown",
   "metadata": {},
   "source": [
    "# Problem 2: Data Augmentation (10%)\n",
    "Another way to prevent overfitting is to augment the data.\n",
    "More data is always better, but sometimes we can't easily collect more data. \n",
    "A set of techniques to turn our current data set into a bigger one are called `data augmentation`. \n",
    "\n",
    "Data augmentation can take many forms, and are specific to the data and problem being solve. \n",
    "For example, in an image recognition problem, it is very common to rotate, crop, and zoom\n",
    "images to generate new ones. We can think of this as a form of regularization, since we are, \n",
    "in some sense, forcing a pentalty if the model does not have rotation /scale invariance. \n",
    "In speech recognition, this can take the form of distoring an audio clip to have higher pitches\n",
    "(e.g. speeding it up), which should \"teach\" a model that it should be pitch invariant. \n",
    "\n",
    "In text classification problems, it typcially a little more difficult to augment data. \n",
    "One common method is known as back-translation: if an autmated machine translation model is \n",
    "available, we can translate our text into one language (e.g. english to french) and then back\n",
    "to the original language again (french to english). This typically yields a very similar \n",
    "piece of text to the original, but with different words. \n",
    "\n",
    "Here we'll try a simpler approach. In a low-data setting, we do not want the model to be too sensitive\n",
    "to any given word. Accordingly, we can augment our data by creating additional examples which are \n",
    "identical to our current example, but with some words set to unknown words.\n",
    "\n",
    "This problem is more opened ended.\n",
    "TODO:\n",
    " - Load and process the IMDB sentiment data\n",
    " - train two identical models. In one of them, replace some fraction of the words with an unknown token (try `MAX_WORDS + 1`) as the integer encoding for the unknown token)\n",
    " - Discuss the results. \n",
    "   - What is the result of dropping words.\n",
    "   - How does it compare to the image / audio methods described here"
   ]
  },
  {
   "cell_type": "code",
   "execution_count": 3,
   "metadata": {},
   "outputs": [
    {
     "name": "stdout",
     "output_type": "stream",
     "text": [
      "Using matplotlib backend: <object object at 0x127100ab0>\n"
     ]
    }
   ],
   "source": [
    "import numpy as np\n",
    "import pandas as pd\n",
    "#%pylab inline\n",
    "%matplotlib\n",
    "np.random.seed(1234)"
   ]
  },
  {
   "cell_type": "code",
   "execution_count": 5,
   "metadata": {},
   "outputs": [],
   "source": [
    "MAX_SEQ_LEN = 125"
   ]
  },
  {
   "cell_type": "code",
   "execution_count": 7,
   "metadata": {},
   "outputs": [],
   "source": [
    "import tensorflow as tf\n",
    "from tensorflow.keras.datasets import imdb\n",
    "from tensorflow.keras.preprocessing.sequence import pad_sequences\n",
    "import glob\n",
    "import os\n",
    "\n",
    "def load_imdb_data_text(imdb_data_dir, random_seed=1234):\n",
    "    \"\"\"Provided helper function to load data\"\"\"\n",
    "    train_dir = os.path.join(imdb_data_dir, \"train\")\n",
    "    test_dir = os.path.join(imdb_data_dir, \"test\")\n",
    "\n",
    "    np.random.seed(random_seed)\n",
    "    texts = []\n",
    "    targets = []\n",
    "    for label in (\"pos\", \"neg\"):\n",
    "        data_dir = os.path.join(train_dir, label)\n",
    "        files = glob.glob(os.path.join(data_dir, \"*.txt\"))\n",
    "        for filename in files:\n",
    "            with open(filename) as fi:\n",
    "                text = fi.read()\n",
    "            target = label == \"pos\"\n",
    "            texts.append(text)\n",
    "            targets.append(target)\n",
    "\n",
    "    train_docs = texts\n",
    "    y_train = np.array(targets)\n",
    "\n",
    "    texts = []\n",
    "    targets = []\n",
    "    for label in (\"pos\", \"neg\"):\n",
    "        data_dir = os.path.join(test_dir, label)\n",
    "        files = glob.glob(os.path.join(data_dir, \"*.txt\"))\n",
    "        for filename in files:\n",
    "            with open(filename) as fi:\n",
    "                text = fi.read()\n",
    "            target = label == \"pos\"\n",
    "            texts.append(text)\n",
    "            targets.append(target)\n",
    "\n",
    "    test_docs = texts\n",
    "    y_test = np.array(targets)\n",
    "\n",
    "    inds = np.arange(y_train.shape[0])\n",
    "    np.random.shuffle(inds)\n",
    "\n",
    "    train_docs = [train_docs[i] for i in inds]\n",
    "    y_train = y_train[inds]\n",
    "\n",
    "    return (train_docs, y_train), (test_docs, y_test)"
   ]
  },
  {
   "cell_type": "code",
   "execution_count": 8,
   "metadata": {},
   "outputs": [],
   "source": [
    "#import sys\n",
    "#sys.path.insert(0, \".\")\n",
    "#from helpers import load_imdb_data_text\n",
    "\n",
    "(train_docs, y_train), (test_docs, y_test) = load_imdb_data_text('aclImdb')\n",
    "\n",
    "from tensorflow.keras.preprocessing.sequence import pad_sequences\n",
    "from tensorflow.keras.preprocessing.text import Tokenizer\n",
    "\n",
    "# tokenize the text keeping the 50k most common words\n",
    "# turn text into integer sequences\n",
    "# pad the sequences to 125 elements each\n",
    "\n",
    "# tokenize\n",
    "tokenizer = Tokenizer(num_words=50000)\n",
    "tokenizer.fit_on_texts(train_docs)\n",
    "train_sequences = tokenizer.texts_to_sequences(train_docs)\n",
    "test_sequences = tokenizer.texts_to_sequences(test_docs)\n",
    "\n",
    "# pad sequences\n",
    "X_train = pad_sequences(train_sequences, maxlen=MAX_SEQ_LEN, padding='post')\n",
    "X_test = pad_sequences(test_sequences, maxlen=MAX_SEQ_LEN, padding='post')"
   ]
  },
  {
   "cell_type": "code",
   "execution_count": 30,
   "metadata": {},
   "outputs": [],
   "source": [
    "UKNOWN_WORD = tokenizer.num_words + 1"
   ]
  },
  {
   "cell_type": "code",
   "execution_count": 32,
   "metadata": {},
   "outputs": [],
   "source": [
    "from tensorflow.keras.layers import Dense, Input, Dropout, GRU, Embedding, LSTM\n",
    "from tensorflow.keras.models import Model\n",
    "import tensorflow.keras.backend as K"
   ]
  },
  {
   "cell_type": "code",
   "execution_count": 34,
   "metadata": {},
   "outputs": [],
   "source": [
    "K.clear_session()\n",
    "\n",
    "# modeling code here\n",
    "\n",
    "# consider using\n",
    "# - the right input shape\n",
    "# - an embedding that takes us from an integer encoded word \n",
    "#   - NB max value is now tokenizer.num_words + 2 because of the unknown word\n",
    "# - 1-2 LSTMs or GRUs\n",
    "#  - remember, the last one needs `return_sequences=False`, the rest need it True\n",
    "# - a Dense layer\n",
    "\n",
    "# model code here\n",
    "def build_lstm_model():\n",
    "    text_input = Input(shape=(MAX_SEQ_LEN,), dtype=\"int32\")\n",
    "    embedded_sequence = Embedding(tokenizer.num_words + 2, 100)(text_input)\n",
    "    lstm_1 = LSTM(units=64, return_sequences=True)(embedded_sequence)\n",
    "    lstm_2 = LSTM(units=64, return_sequences=False)(lstm_1)\n",
    "    dropout = Dropout(0.5)(lstm_2)\n",
    "    output = Dense(1, activation=\"sigmoid\")(dropout)\n",
    "    \n",
    "    model = Model(inputs=text_input, outputs=output)\n",
    "    model.compile(\"adam\", loss=\"binary_crossentropy\", metrics=[\"acc\"])\n",
    "    \n",
    "    return model"
   ]
  },
  {
   "cell_type": "code",
   "execution_count": 36,
   "metadata": {},
   "outputs": [],
   "source": [
    "import funcy\n",
    "def train_data_gen(batch_size, dropout_frac=0.):\n",
    "    \"\"\"training data geneator\n",
    "    \n",
    "    Args:\n",
    "        batch size: size of batch to yield\n",
    "        dropout_frac: fraction of words to replace with UKNOWN_WORD\n",
    "    \"\"\"\n",
    "    # your code here\n",
    "    indices = np.arange(len(X_train))  \n",
    "    while True:\n",
    "        np.random.shuffle(indices)  # shuffle dataset at the start of each epoch\n",
    "\n",
    "        for chunk in funcy.chunks(batch_size, indices):\n",
    "            X_batch = np.copy(X_train[chunk])  # create a copy to avoid modifying original data\n",
    "            y_batch = y_train[chunk]  # extract corresponding labels\n",
    "\n",
    "            if dropout_frac > 0:\n",
    "                # replace some words with UNKNOWN_WORD\n",
    "                for i in range(X_batch.shape[0]):\n",
    "                    num_to_replace = int(dropout_frac * X_batch.shape[1])\n",
    "                    replace_indices = np.random.choice(X_batch.shape[1], num_to_replace, replace=False)\n",
    "                    X_batch[i, replace_indices] = UKNOWN_WORD\n",
    "\n",
    "            yield X_batch, y_batch"
   ]
  },
  {
   "cell_type": "code",
   "execution_count": 23,
   "metadata": {},
   "outputs": [
    {
     "name": "stdout",
     "output_type": "stream",
     "text": [
      "Epoch 1/20\n",
      "\u001b[1m781/781\u001b[0m \u001b[32m━━━━━━━━━━━━━━━━━━━━\u001b[0m\u001b[37m\u001b[0m \u001b[1m73s\u001b[0m 92ms/step - acc: 0.6987 - loss: 0.5408 - val_acc: 0.9086 - val_loss: 0.2712 - learning_rate: 0.0010\n",
      "Epoch 2/20\n",
      "\u001b[1m781/781\u001b[0m \u001b[32m━━━━━━━━━━━━━━━━━━━━\u001b[0m\u001b[37m\u001b[0m \u001b[1m80s\u001b[0m 103ms/step - acc: 0.9183 - loss: 0.2353 - val_acc: 0.9636 - val_loss: 0.1244 - learning_rate: 0.0010\n",
      "Epoch 3/20\n",
      "\u001b[1m781/781\u001b[0m \u001b[32m━━━━━━━━━━━━━━━━━━━━\u001b[0m\u001b[37m\u001b[0m \u001b[1m72s\u001b[0m 92ms/step - acc: 0.9330 - loss: 0.1860 - val_acc: 0.9759 - val_loss: 0.0803 - learning_rate: 0.0010\n",
      "Epoch 4/20\n",
      "\u001b[1m781/781\u001b[0m \u001b[32m━━━━━━━━━━━━━━━━━━━━\u001b[0m\u001b[37m\u001b[0m \u001b[1m0s\u001b[0m 64ms/step - acc: 0.9621 - loss: 0.1158\n",
      "Epoch 4: ReduceLROnPlateau reducing learning rate to 0.00010000000474974513.\n",
      "\u001b[1m781/781\u001b[0m \u001b[32m━━━━━━━━━━━━━━━━━━━━\u001b[0m\u001b[37m\u001b[0m \u001b[1m67s\u001b[0m 86ms/step - acc: 0.9621 - loss: 0.1158 - val_acc: 0.9724 - val_loss: 0.0841 - learning_rate: 0.0010\n",
      "Epoch 5/20\n",
      "\u001b[1m781/781\u001b[0m \u001b[32m━━━━━━━━━━━━━━━━━━━━\u001b[0m\u001b[37m\u001b[0m \u001b[1m66s\u001b[0m 84ms/step - acc: 0.9857 - loss: 0.0526 - val_acc: 0.9906 - val_loss: 0.0352 - learning_rate: 1.0000e-04\n",
      "Epoch 6/20\n",
      "\u001b[1m781/781\u001b[0m \u001b[32m━━━━━━━━━━━━━━━━━━━━\u001b[0m\u001b[37m\u001b[0m \u001b[1m65s\u001b[0m 83ms/step - acc: 0.9905 - loss: 0.0410 - val_acc: 0.9919 - val_loss: 0.0296 - learning_rate: 1.0000e-04\n",
      "Epoch 7/20\n",
      "\u001b[1m781/781\u001b[0m \u001b[32m━━━━━━━━━━━━━━━━━━━━\u001b[0m\u001b[37m\u001b[0m \u001b[1m68s\u001b[0m 88ms/step - acc: 0.9912 - loss: 0.0301 - val_acc: 0.9940 - val_loss: 0.0246 - learning_rate: 1.0000e-04\n",
      "Epoch 8/20\n",
      "\u001b[1m781/781\u001b[0m \u001b[32m━━━━━━━━━━━━━━━━━━━━\u001b[0m\u001b[37m\u001b[0m \u001b[1m68s\u001b[0m 88ms/step - acc: 0.9935 - loss: 0.0271 - val_acc: 0.9952 - val_loss: 0.0204 - learning_rate: 1.0000e-04\n",
      "Epoch 9/20\n",
      "\u001b[1m781/781\u001b[0m \u001b[32m━━━━━━━━━━━━━━━━━━━━\u001b[0m\u001b[37m\u001b[0m \u001b[1m70s\u001b[0m 89ms/step - acc: 0.9952 - loss: 0.0208 - val_acc: 0.9958 - val_loss: 0.0182 - learning_rate: 1.0000e-04\n",
      "Epoch 10/20\n",
      "\u001b[1m781/781\u001b[0m \u001b[32m━━━━━━━━━━━━━━━━━━━━\u001b[0m\u001b[37m\u001b[0m \u001b[1m79s\u001b[0m 102ms/step - acc: 0.9967 - loss: 0.0165 - val_acc: 0.9974 - val_loss: 0.0141 - learning_rate: 1.0000e-04\n",
      "Epoch 11/20\n",
      "\u001b[1m781/781\u001b[0m \u001b[32m━━━━━━━━━━━━━━━━━━━━\u001b[0m\u001b[37m\u001b[0m \u001b[1m69s\u001b[0m 88ms/step - acc: 0.9967 - loss: 0.0156 - val_acc: 0.9977 - val_loss: 0.0126 - learning_rate: 1.0000e-04\n",
      "Epoch 12/20\n",
      "\u001b[1m781/781\u001b[0m \u001b[32m━━━━━━━━━━━━━━━━━━━━\u001b[0m\u001b[37m\u001b[0m \u001b[1m66s\u001b[0m 85ms/step - acc: 0.9980 - loss: 0.0119 - val_acc: 0.9982 - val_loss: 0.0112 - learning_rate: 1.0000e-04\n",
      "Epoch 13/20\n",
      "\u001b[1m781/781\u001b[0m \u001b[32m━━━━━━━━━━━━━━━━━━━━\u001b[0m\u001b[37m\u001b[0m \u001b[1m67s\u001b[0m 86ms/step - acc: 0.9982 - loss: 0.0129 - val_acc: 0.9984 - val_loss: 0.0097 - learning_rate: 1.0000e-04\n",
      "Epoch 14/20\n",
      "\u001b[1m781/781\u001b[0m \u001b[32m━━━━━━━━━━━━━━━━━━━━\u001b[0m\u001b[37m\u001b[0m \u001b[1m68s\u001b[0m 87ms/step - acc: 0.9987 - loss: 0.0085 - val_acc: 0.9984 - val_loss: 0.0094 - learning_rate: 1.0000e-04\n",
      "Epoch 15/20\n",
      "\u001b[1m781/781\u001b[0m \u001b[32m━━━━━━━━━━━━━━━━━━━━\u001b[0m\u001b[37m\u001b[0m \u001b[1m67s\u001b[0m 86ms/step - acc: 0.9983 - loss: 0.0119 - val_acc: 0.9988 - val_loss: 0.0078 - learning_rate: 1.0000e-04\n",
      "Epoch 16/20\n",
      "\u001b[1m781/781\u001b[0m \u001b[32m━━━━━━━━━━━━━━━━━━━━\u001b[0m\u001b[37m\u001b[0m \u001b[1m93s\u001b[0m 119ms/step - acc: 0.9983 - loss: 0.0094 - val_acc: 0.9989 - val_loss: 0.0073 - learning_rate: 1.0000e-04\n",
      "Epoch 17/20\n",
      "\u001b[1m781/781\u001b[0m \u001b[32m━━━━━━━━━━━━━━━━━━━━\u001b[0m\u001b[37m\u001b[0m \u001b[1m83s\u001b[0m 106ms/step - acc: 0.9990 - loss: 0.0074 - val_acc: 0.9990 - val_loss: 0.0065 - learning_rate: 1.0000e-04\n",
      "Epoch 18/20\n",
      "\u001b[1m781/781\u001b[0m \u001b[32m━━━━━━━━━━━━━━━━━━━━\u001b[0m\u001b[37m\u001b[0m \u001b[1m0s\u001b[0m 117ms/step - acc: 0.9992 - loss: 0.0056\n",
      "Epoch 18: ReduceLROnPlateau reducing learning rate to 1.0000000474974514e-05.\n",
      "\u001b[1m781/781\u001b[0m \u001b[32m━━━━━━━━━━━━━━━━━━━━\u001b[0m\u001b[37m\u001b[0m \u001b[1m108s\u001b[0m 138ms/step - acc: 0.9992 - loss: 0.0056 - val_acc: 0.9989 - val_loss: 0.0067 - learning_rate: 1.0000e-04\n",
      "Epoch 19/20\n",
      "\u001b[1m781/781\u001b[0m \u001b[32m━━━━━━━━━━━━━━━━━━━━\u001b[0m\u001b[37m\u001b[0m \u001b[1m78s\u001b[0m 99ms/step - acc: 0.9987 - loss: 0.0076 - val_acc: 0.9992 - val_loss: 0.0057 - learning_rate: 1.0000e-05\n",
      "Epoch 20/20\n",
      "\u001b[1m781/781\u001b[0m \u001b[32m━━━━━━━━━━━━━━━━━━━━\u001b[0m\u001b[37m\u001b[0m \u001b[1m0s\u001b[0m 71ms/step - acc: 0.9995 - loss: 0.0044\n",
      "Epoch 20: ReduceLROnPlateau reducing learning rate to 1.0000000656873453e-06.\n",
      "\u001b[1m781/781\u001b[0m \u001b[32m━━━━━━━━━━━━━━━━━━━━\u001b[0m\u001b[37m\u001b[0m \u001b[1m66s\u001b[0m 84ms/step - acc: 0.9995 - loss: 0.0044 - val_acc: 0.9992 - val_loss: 0.0057 - learning_rate: 1.0000e-05\n",
      "Restoring model weights from the end of the best epoch: 20.\n"
     ]
    },
    {
     "data": {
      "text/plain": [
       "<keras.src.callbacks.history.History at 0x31f516870>"
      ]
     },
     "execution_count": 23,
     "metadata": {},
     "output_type": "execute_result"
    }
   ],
   "source": [
    "# fit the model\n",
    "# use `dropout_frac=0`\n",
    "from tensorflow.keras.callbacks import EarlyStopping, ReduceLROnPlateau\n",
    "lr = ReduceLROnPlateau(patience=1, verbose=True) \n",
    "es = EarlyStopping(patience=2, verbose=True, restore_best_weights=True)  \n",
    "\n",
    "model1 = build_lstm_model()\n",
    "model1.compile(\"adam\", loss=\"binary_crossentropy\", metrics=[\"acc\"])\n",
    "\n",
    "model1.fit(\n",
    "    train_data_gen(batch_size=32, dropout_frac=0.),\n",
    "    validation_data=train_data_gen(batch_size=32, dropout_frac=0.),\n",
    "    steps_per_epoch=len(X_train) // 32,\n",
    "    validation_steps=len(X_test) // 32,\n",
    "    epochs=20,  \n",
    "    callbacks=[lr, es],  \n",
    "    verbose=1\n",
    ")"
   ]
  },
  {
   "cell_type": "code",
   "execution_count": 38,
   "metadata": {},
   "outputs": [
    {
     "name": "stdout",
     "output_type": "stream",
     "text": [
      "Epoch 1/20\n",
      "\u001b[1m781/781\u001b[0m \u001b[32m━━━━━━━━━━━━━━━━━━━━\u001b[0m\u001b[37m\u001b[0m \u001b[1m65s\u001b[0m 82ms/step - acc: 0.5781 - loss: 0.6680 - val_acc: 0.8502 - val_loss: 0.3729 - learning_rate: 0.0010\n",
      "Epoch 2/20\n",
      "\u001b[1m781/781\u001b[0m \u001b[32m━━━━━━━━━━━━━━━━━━━━\u001b[0m\u001b[37m\u001b[0m \u001b[1m0s\u001b[0m 77ms/step - acc: 0.6576 - loss: 0.6072\n",
      "Epoch 2: ReduceLROnPlateau reducing learning rate to 0.00010000000474974513.\n",
      "\u001b[1m781/781\u001b[0m \u001b[32m━━━━━━━━━━━━━━━━━━━━\u001b[0m\u001b[37m\u001b[0m \u001b[1m71s\u001b[0m 91ms/step - acc: 0.6576 - loss: 0.6072 - val_acc: 0.7298 - val_loss: 0.5609 - learning_rate: 0.0010\n",
      "Epoch 2: early stopping\n",
      "Restoring model weights from the end of the best epoch: 1.\n"
     ]
    },
    {
     "data": {
      "text/plain": [
       "<keras.src.callbacks.history.History at 0x1605844a0>"
      ]
     },
     "execution_count": 38,
     "metadata": {},
     "output_type": "execute_result"
    }
   ],
   "source": [
    "# identical model code here\n",
    "model2 = build_lstm_model()\n",
    "model2.compile(\"adam\", loss=\"binary_crossentropy\", metrics=[\"acc\"])\n",
    "\n",
    "# fit it with dropout_frac > 0 (try 0.2 or 0.3)\n",
    "model2.fit(\n",
    "    train_data_gen(batch_size=32, dropout_frac=0.2),\n",
    "    validation_data=train_data_gen(batch_size=32, dropout_frac=0.2),\n",
    "    steps_per_epoch=len(X_train) // 32,\n",
    "    validation_steps=len(X_test) // 32,\n",
    "    epochs=20,  \n",
    "    callbacks=[lr, es],  \n",
    "    verbose=1\n",
    ")"
   ]
  },
  {
   "cell_type": "markdown",
   "metadata": {},
   "source": [
    "### put comments here\n",
    "In Model 2, where words were dropped and replaced with an unknown token, the accuracy decreased, and the validation loss increased compared to Model 1, which had no dropout. This implies that the model struggled more to generalize and infer sentiment with incomplete inputs, resulting in lower performance. Unlike augmentation in image or audio tasks, this approach is less effective because the meaning of text heavily depends on the specific tokens and their sequence."
   ]
  },
  {
   "cell_type": "markdown",
   "metadata": {},
   "source": [
    "# Problem 3: The Company Name Comparer (40%)\n",
    "A common problem in NLP for finance is automatically comparing two company names to see if they are the same. \n",
    "Intuitively, this is a problem that is fairly easy for humans: \n",
    " - `S and P Global` and `S&P Global`\n",
    " - `JPMorgan` and `JP Morgan`\n",
    " - `Google Inc.` and `Google`\n",
    "\n",
    "However, the number of ways in which companies can be represented, and the intricacies of corporate \n",
    "structure make it difficult to craft rules to capture this behavior.\n",
    "This makes the problem perfect for a machine learning approach. \n",
    "We will see that it is particularly well suited to deep learning, since some \n",
    "features will be difficult to craft by hand. \n",
    "In the end of this problem we will build a neural network that accepts TWO strings as input\n",
    "and produces a single floating point output, which is the probability that\n",
    "the two organizations refer to the same thing. "
   ]
  },
  {
   "cell_type": "code",
   "execution_count": null,
   "metadata": {},
   "outputs": [],
   "source": [
    "import numpy as np\n",
    "import pandas as pd\n",
    "%pylab inline\n",
    "np.random.seed(1234)"
   ]
  },
  {
   "cell_type": "markdown",
   "metadata": {},
   "source": [
    "## Part 0: Load the data\n",
    "Wikipedia is an excellent source of natural language data. \n",
    "We need a data set of many ways that we can refer to the same company.\n",
    "Here we will use the page redicts- if a certain page automatically \n",
    "redirects to a second page, we can say with high confidence that the \n",
    "title of the first page unambiguously refers to the same thing as \n",
    "the second. The lack of ambiguity is important! For example, we \n",
    "do not want `Amazon` to be another way to refer to `amazon.com` since\n",
    "it can also refer to the `amazon river`. See [here](https://en.wikipedia.org/wiki/Amazon) for more.\n",
    "\n",
    "In `org_redirects.csv` you will find data on the page redirects that have been \n",
    "filtered down to everything considered an organization (this is not only companies, \n",
    "but it's close). The file has columns\n",
    " - `souce_id` a page id for the source page\n",
    " - `source_title`: the page title for the source\n",
    " - `target_id`: the page id for the page to which the source will redirect\n",
    " - `target_title`: the title of the page to which the source redirects\n",
    " - `target_qid`: the id of the page in wikidata, the accompanying knowledge graph to wikipedia\n",
    " - `edge_type`: the type of organization the target item has in wikidata\n",
    "\n",
    "For our purposes, we can consider the `source_title` and `target_title` two \n",
    "ways to unambiguously refer to the same organization. We will teach an algorithm\n",
    "to recognize the patterns in these data.\n",
    "\n",
    "\n",
    "## TODO\n",
    " - ## 1. load the data\n",
    " - ## 2. Explore the data: \n",
    "   - ## what is the distribution of words / characters?\n",
    "   - ## are there any tokens that are particularly common?\n",
    " \n",
    "\n"
   ]
  },
  {
   "cell_type": "code",
   "execution_count": null,
   "metadata": {},
   "outputs": [],
   "source": [
    "df = pd.read_csv(\"../../data/org_redirects.csv\")\n",
    "print(df.shape)\n",
    "df.head()"
   ]
  },
  {
   "cell_type": "markdown",
   "metadata": {},
   "source": [
    "## Part 1: Process, Clean, and Filter\n",
    "We need to have the data in slightly more usable form. \n",
    "For simplicity, we will want to only deal with lowercase characters. \n",
    "Additionally, we will want to remove special characters from the source\n",
    "and target titles.\n",
    "\n",
    "Additionally, some redirects require special knowledge, that we don't expect the \n",
    "algorithm to be able to learn. \n",
    "\n",
    "## TODO: \n",
    " - create two new columns `source_clean` and `target_clean` which are lowercased versions of the original data with the characters `,_/` replaced by spaces\n",
    " - NB: remember to drop rows that are now duplicates because of the string cleaning we've done"
   ]
  },
  {
   "cell_type": "code",
   "execution_count": null,
   "metadata": {},
   "outputs": [],
   "source": [
    "import re # probably a useful import \n",
    "\n",
    "def normalize_string(s):\n",
    "    # your code here\n",
    "    # normalize the data by lowercasing, and replace certain characters with whitespace\n",
    "    # careful, replace 1 or more whitespace characters with a single whitespace\n",
    "\n",
    "df[\"clean_source\"] = df[\"source_title\"].apply(normalize_string)\n",
    "df[\"clean_target\"] = df[\"target_title\"].apply(normalize_string)\n",
    "\n",
    "# drop the duplicates here. \n",
    "# you should have approx 1.1 million examples before dropping duplicates\n",
    "# and approx 1.04 million examples after"
   ]
  },
  {
   "cell_type": "markdown",
   "metadata": {},
   "source": [
    "## Part 2: Make training data\n",
    "We only have positive examples, ie two ways of referring to the same organization. \n",
    "We need negative examples in order for the network to learn what is not considered the same orgnanization. \n",
    "There are many ways to do this, but we will use the most simple one- random examples from the training data. \n",
    "\n",
    "## TODO:\n",
    " - ## make another copy of our training data\n",
    " - ## shuffle either the source or target columns so that they no longer line up\n",
    " - ## add these new data as negative examples to the training data\n",
    " - ## split the data into two: train and test \n",
    "\n",
    "\n",
    "### Now we have a dataset with approximately 50% positive examples\n",
    "\n",
    "## TODO (answers these questions in text)\n",
    " - ## What are the benefits of this approach\n",
    " - ## What are the downsides of this appoach\n",
    " - ## What would be a more sophisticated way to generate negative examples\n"
   ]
  },
  {
   "cell_type": "code",
   "execution_count": null,
   "metadata": {},
   "outputs": [],
   "source": [
    "# wrangle the data here\n",
    "# you should have approximately twice as many examples now\n",
    "# the mean `y` value should be about 0.5"
   ]
  },
  {
   "cell_type": "code",
   "execution_count": null,
   "metadata": {},
   "outputs": [],
   "source": [
    "# split randomly into train and test"
   ]
  },
  {
   "cell_type": "code",
   "execution_count": null,
   "metadata": {},
   "outputs": [],
   "source": [
    "# comments here"
   ]
  },
  {
   "cell_type": "markdown",
   "metadata": {},
   "source": [
    "## Part 3: Turn the data into numpy arrays\n",
    "We will use a character level representation, since organizations have too\n",
    "many special words to use a word-level representation. \n",
    "\n",
    "Eventually, we will build a neural network that accepts TWO strings as input\n",
    "and produces a single floating point output, which is the probability that\n",
    "the source and target refer to the same thing.\n",
    "\n",
    "### TODO:\n",
    " - turn the data into sequences of characters that are integer encoded\n",
    "   - use the `Tokenizer` with `char_level=True`\n",
    "   - use `tokenizer.text_to_sequences` to turn the characters into integer-encoded sequences\n",
    " - pad the sequences to a constant length of 30 characters\n",
    " - write two functions, `train_gen` and `test_gen` which yield data for the network in the right form.\n",
    "   - data should be yielded as `yield [input_1, input_2], output`\n",
    "   - you will likely find it easier to have these functions one-hot-encode the characters on the fly instead of holding very large numpy arrays in memory.\n",
    " - test your functions and make sure you can recover the original input"
   ]
  },
  {
   "cell_type": "code",
   "execution_count": null,
   "metadata": {},
   "outputs": [],
   "source": [
    "from tensorflow.keras.preprocessing.sequence import pad_sequences\n",
    "from tensorflow.keras.preprocessing.text import Tokenizer"
   ]
  },
  {
   "cell_type": "code",
   "execution_count": null,
   "metadata": {},
   "outputs": [],
   "source": [
    "def text_iterator():\n",
    "    \"\"\"This is a helpful iterator\n",
    "    \n",
    "    It will yield all the data in `clean_source` and `clean_target` \n",
    "    in the training data, without making another copy\n",
    "    \"\"\"\n",
    "    for item in df_train[\"clean_source\"]:\n",
    "        yield item\n",
    "    for item in df_train[\"clean_target\"]:\n",
    "        yield item\n",
    "\n",
    "\n",
    "tok = Tokenizer(lower=True, char_level=True, num_words=140)\n",
    "tok.fit_on_texts(text_iterator())"
   ]
  },
  {
   "cell_type": "code",
   "execution_count": null,
   "metadata": {},
   "outputs": [],
   "source": [
    "MAX_SEQ_LEN = 30"
   ]
  },
  {
   "cell_type": "code",
   "execution_count": null,
   "metadata": {},
   "outputs": [],
   "source": [
    "# for both train and test\n",
    "#   for the src and target\n",
    "#   - turn each into integer sequence\n",
    "#   - pad the sequences \n",
    "# make y values for both train and test\n",
    "print(x_train_targ.shape, x_test_targ.shape)"
   ]
  },
  {
   "cell_type": "code",
   "execution_count": null,
   "metadata": {},
   "outputs": [],
   "source": [
    "MAX_CHARS = tok.num_words + 1"
   ]
  },
  {
   "cell_type": "code",
   "execution_count": null,
   "metadata": {},
   "outputs": [],
   "source": [
    "from tensorflow.keras.utils import to_categorical\n",
    "import funcy\n",
    "\n",
    "\n",
    "def train_gen(batch_size):\n",
    "    # your code here\n",
    "    # the last line should probably look like\n",
    "    #    `yield [batch_src, batch_targ], batch_y`\n",
    "    \n",
    "    # don't forget to one hot encode the characaters\n",
    "    #   keras.utils.to_categorical is helpful (num_classes=MAX_CHARS)\n",
    "    \n",
    "    # if you're feeling enterprising, you can randomly flip\n",
    "    # the source and target data, which serves as a way to augment\n",
    "    # the training data. Consider                \n",
    "#             if np.random.rand() > 0.5:\n",
    "#                 batch_src, batch_targ = batch_targ, batch_src\n",
    "\n",
    "            \n",
    "            \n",
    "\n",
    "def val_gen(batch_size):\n",
    "    # your code here, it should be very similar to the function above\n",
    "    # no need to flip the src and targets randomly"
   ]
  },
  {
   "cell_type": "code",
   "execution_count": null,
   "metadata": {},
   "outputs": [],
   "source": [
    "# check the shapes, make sure you can recover the data and it looks normal"
   ]
  },
  {
   "cell_type": "markdown",
   "metadata": {},
   "source": [
    "## Part 4: Build and fit a model\n",
    "The beauty of keras is that it is flexible enough to allow us to do almost arbitrary matrix operations. \n",
    "In this model we will use several `Conv1D`-`MaxPooling1D` combinations to\n",
    "encode or process the organization names. However, we will use the __SAME__ blocks for both \n",
    "the source and target names, in order to \"force\" the network to learn operations that\n",
    "distill the strings down into features that make them easy to compare.\n",
    "\n",
    "Build a keras model that \n",
    " - has __two__ text inputs\n",
    " - has several conv/pooling blocks to process the inputs\n",
    " - uses the __same__ blocks to process both of the text inputs\n",
    " - concatentates the result of the convolutions together into one vector\n",
    " - use one or more `Dense` layers to output a single (`float`), which is the probability that the two organizations are the same\n",
    "\n",
    "Hint: `keras.models.Model` can accept lists of inputs and outputs in addition to single tensors. \n",
    " - `model = Model([input_1, input_2], output)`\n",
    "\n"
   ]
  },
  {
   "cell_type": "code",
   "execution_count": null,
   "metadata": {},
   "outputs": [],
   "source": [
    "from tensorflow.keras.layers import (\n",
    "    Conv1D,\n",
    "    MaxPooling1D,\n",
    "    LSTM,\n",
    "    Dense,\n",
    "    Dropout,\n",
    "    Input,\n",
    "    Concatenate,\n",
    "    GlobalMaxPooling1D,\n",
    ")\n",
    "from tensorflow.keras.models import Model\n",
    "import tensorflow.keras.backend as K"
   ]
  },
  {
   "cell_type": "code",
   "execution_count": null,
   "metadata": {},
   "outputs": [],
   "source": [
    "K.clear_session()\n",
    "\n",
    "do = 0.05\n",
    "\n",
    "\n",
    "\n",
    "left = Input(shape=(MAX_SEQ_LEN, MAX_CHARS))\n",
    "right = Input(shape=(MAX_SEQ_LEN, MAX_CHARS))\n",
    "\n",
    "\n",
    "blocks = [\n",
    "    Conv1D(128, 5, padding=\"same\", activation=\"relu\"),\n",
    "    MaxPooling1D(3),\n",
    "    Conv1D(128, 5, padding=\"same\", activation=\"relu\"),\n",
    "    MaxPooling1D(3),\n",
    "    Conv1D(64, 5, padding=\"same\", activation=\"relu\"),\n",
    "    MaxPooling1D(3),\n",
    "    Conv1D(64, 5, padding=\"same\", activation=\"relu\"),\n",
    "    GlobalMaxPooling1D()\n",
    "]\n",
    "\n",
    "def encode(inpt):\n",
    "    x = blocks[0](inpt)\n",
    "    for block in blocks[1:]:\n",
    "        x = block(x)\n",
    "    return x\n",
    "\n",
    "left_stream = encode(left)\n",
    "right_stream = encode(right)\n",
    "# TODO:\n",
    "# - concatenate right and left streams\n",
    "# - use 2-3 dense blocks to get the output into the right shape \n",
    "#    this is a binary classification problem\n",
    "# - compile your model\n",
    "\n",
    "# your code here\n",
    "\n",
    "model = Model([left, right], your_output)\n",
    "model.compile(\"adam\", loss=\"binary_crossentropy\", metrics=[\"acc\"])\n",
    "model.summary()"
   ]
  },
  {
   "cell_type": "code",
   "execution_count": null,
   "metadata": {},
   "outputs": [],
   "source": [
    "from tensorflow.keras.callbacks import EarlyStopping, ReduceLROnPlateau\n",
    "# user these callbacks"
   ]
  },
  {
   "cell_type": "code",
   "execution_count": null,
   "metadata": {},
   "outputs": [],
   "source": [
    "# fit the model"
   ]
  },
  {
   "cell_type": "markdown",
   "metadata": {},
   "source": [
    "## Part 5: Analysis\n",
    "We want to see how our new model works on unseen text. \n",
    "Write a function\n",
    "```python\n",
    "def compare_inputs(a, b):\n",
    "    \"\"\"takes in two strings and returns a float\"\"\"\n",
    "    pass\n",
    "```\n",
    "that can use the model to compare two strings. \n",
    "\n",
    "TODO\n",
    " - Come up with at least 10 examples of your own and comment on the results\n",
    "\n",
    "TODO: How would this be done without deep learning? \n",
    " - Can we use the same operations on both the source and target?\n",
    " - How would we need to combine representations that come from the features we engineer from the two inputs?\n",
    " - If we had hand-engineered features, how would we add them to this network?\n",
    "\n",
    "(answer in text below)"
   ]
  },
  {
   "cell_type": "code",
   "execution_count": null,
   "metadata": {},
   "outputs": [],
   "source": [
    "def compare_inputs(a, b):\n",
    "    # take two strings, process them the same way we process our training data\n",
    "    # use `model.predict` to get a probability that they are the same\n",
    "    # your code here"
   ]
  },
  {
   "cell_type": "code",
   "execution_count": null,
   "metadata": {},
   "outputs": [],
   "source": [
    "for pair in [\n",
    "    (\"The college of Mann\", \"University of mann\"),\n",
    "    (...) # add lost more examples here\n",
    "]:\n",
    "    print(\"\\\"{}\\\" and \\\"{}\\\": {:.4f}\".format(pair[0], pair[1], compare_inputs(*pair)[0][0]))"
   ]
  },
  {
   "cell_type": "code",
   "execution_count": null,
   "metadata": {},
   "outputs": [],
   "source": [
    "# put analysis / comments here"
   ]
  },
  {
   "cell_type": "code",
   "execution_count": null,
   "metadata": {},
   "outputs": [],
   "source": []
  },
  {
   "cell_type": "code",
   "execution_count": null,
   "metadata": {},
   "outputs": [],
   "source": []
  },
  {
   "cell_type": "code",
   "execution_count": null,
   "metadata": {},
   "outputs": [],
   "source": []
  },
  {
   "cell_type": "markdown",
   "metadata": {},
   "source": [
    "# Problem 4: Character level word features (30%)\n",
    "In class we showed that neural networks can learn everything from character-level representations.\n",
    "Recall the potential advantages\n",
    " - We are much less likely to see unknown characters\n",
    " - We don't have to worry about word tokenization\n",
    " - Maybe `jump` and `jumps` can \"share\" a lot of the representation\n",
    " - There's nothing special about a space \n",
    "\n",
    "# $ \\\\ $\n",
    "In fact, there is perhaps something special about a space. \n",
    "While the network can, in principle, learn the concept of a word boundary,\n",
    "we may be able to help the network learn by telling it that words boundaries are\n",
    "an important concept. This is especially true in smaller-data problems.\n",
    "# $ \\\\ $\n",
    "In this problem we'll seek to remedy the first and third bullets above by encoding\n",
    "every __word__ as a sequence of characters. This should allow for the network to implicitly\n",
    "learn similarities between words with similar letters. In some sense, we can think of \n",
    "such an encoding as character-level method for learning word embeddings"
   ]
  },
  {
   "cell_type": "markdown",
   "metadata": {},
   "source": [
    "## Part 0: Load the data\n",
    " - ## Load the imdb data as we did in class. \n",
    " - ## Tokenize it into integer sequences"
   ]
  },
  {
   "cell_type": "code",
   "execution_count": 1,
   "metadata": {},
   "outputs": [
    {
     "name": "stdout",
     "output_type": "stream",
     "text": [
      "Populating the interactive namespace from numpy and matplotlib\n"
     ]
    }
   ],
   "source": [
    "import numpy as np\n",
    "import pandas as pd\n",
    "import glob\n",
    "import os\n",
    "%pylab inline\n",
    "np.random.seed(1234)\n",
    "\n",
    "import sys\n",
    "sys.path.insert(0, \".\")\n",
    "from helpers import load_imdb_data_text"
   ]
  },
  {
   "cell_type": "code",
   "execution_count": null,
   "metadata": {},
   "outputs": [],
   "source": [
    "import sys\n",
    "sys.path.insert(0, \".\")\n",
    "from helpers import load_imdb_data_text\n",
    "\n",
    "\n",
    "#(train_docs, y_train), (test_docs, y_test) = load_imdb_data_text(...\n",
    "\n",
    "from tensorflow.keras.preprocessing.sequence import pad_sequences\n",
    "from tensorflow.keras.preprocessing.text import Tokenizer\n",
    "\n",
    "# tokenize the text keeping the 50k most common words\n",
    "# turn text into integer sequences\n",
    "# pad the sequences to 125 elements each\n",
    "\n",
    "\n",
    "# your code here"
   ]
  },
  {
   "cell_type": "markdown",
   "metadata": {},
   "source": [
    "## Part 1: Wrangle the data into the correct representation\n",
    "Our goal is to represent the data as character-level features, word by word. \n",
    "This means we will require the data to be in a shape\n",
    " - ### batch x word-position x character\n",
    "\n",
    "which is another dimension!\n",
    "### 1a\n",
    " - create a valid set of characters from `string.ascii_lowercase + string.digits + string.punctuation`\n",
    " - create character to int and int to character lookups\n",
    " - create word to int and int to word lookups\n",
    "\n",
    "### 1b\n",
    " - for every word (int) in a sequence, resolve it to a list of integers, which encode characters\n",
    " - pad each character sequence (which encodes a single word) to a constant length of 10 chars / word\n",
    "\n",
    "### 1c\n",
    " - Pad every word sequence (each now encoded as a list of integer sequences) to 125 words\n",
    "\n",
    "This should yield training data of the shape `(25000, 125, 10)`  `(examples x words x characters)` of type `int32`\n",
    "\n",
    "### 1d\n",
    " - make sure you can recover a coherent IMDB review from an element in `x_train`"
   ]
  },
  {
   "cell_type": "code",
   "execution_count": 4,
   "metadata": {},
   "outputs": [],
   "source": [
    "import string\n",
    "valid_chars = string.ascii_lowercase + string.digits + string.punctuation\n",
    "valid_chars = list(set(valid_chars))\n",
    "char_to_int = {c: i + 1 for i, c in enumerate(valid_chars)}  # save 0 for padding\n",
    "int_to_char = ...\n",
    "\n",
    "word_to_int = ...\n",
    "int_to_word = ..."
   ]
  },
  {
   "cell_type": "code",
   "execution_count": 5,
   "metadata": {},
   "outputs": [],
   "source": [
    "MAX_CHARS_PER_WORD = 10\n",
    "MAX_SEQ_LEN_WORDS = 125\n",
    "UNK_CHAR = len(valid_chars) + 2"
   ]
  },
  {
   "cell_type": "code",
   "execution_count": 6,
   "metadata": {},
   "outputs": [],
   "source": [
    "def word_to_char_seq(word):\n",
    "    # your code here\n",
    "\n",
    "\n",
    "def word_seq_to_char_seq(word_seq):\n",
    "    # your code here"
   ]
  },
  {
   "cell_type": "code",
   "execution_count": null,
   "metadata": {},
   "outputs": [],
   "source": [
    "%%time\n",
    "char_seqs_train = [word_seq_to_char_seq(ts) for ts in train_sequences]\n",
    "x_train = pad_sequences(char_seqs_train, maxlen=MAX_SEQ_LEN_WORDS)\n",
    "\n",
    "char_seqs_test = [word_seq_to_char_seq(ts) for ts in test_sequences]\n",
    "x_test = pad_sequences(char_seqs_test, maxlen=MAX_SEQ_LEN_WORDS)\n",
    "\n",
    "x_train.shape, x_test.shape"
   ]
  },
  {
   "cell_type": "code",
   "execution_count": null,
   "metadata": {},
   "outputs": [],
   "source": [
    "# make sure you can recover the original text\n",
    "\" \".join(..."
   ]
  },
  {
   "cell_type": "code",
   "execution_count": null,
   "metadata": {},
   "outputs": [],
   "source": []
  },
  {
   "cell_type": "markdown",
   "metadata": {},
   "source": [
    "## Part 2: Create a network\n",
    "Sadly, keras cannot handle our extra dimension gracefully, so we will do a trick.\n",
    "\n",
    "### TODO\n",
    " - One-hot-encode characters for the input layer, so that the network accepts data in a shape `batch x word-seq-index x char-seq-index x char-encoding`. \n",
    " - Reshape this into `(batch x word-seq-index x char-seq-index * char-encodeing)` in the network\n",
    " - Use a recurrent network or conv net of your choice for the rest of the modeling\n",
    " - fit the model\n",
    "\n",
    "__NB__: one hot encode the characters on the fly (in the data generators) for memory efficiency"
   ]
  },
  {
   "cell_type": "code",
   "execution_count": 10,
   "metadata": {},
   "outputs": [],
   "source": [
    "from tensorflow.keras.layers import Input, Reshape, ...\n",
    "...\n",
    "import tensorflow.keras.backend as K"
   ]
  },
  {
   "cell_type": "code",
   "execution_count": 11,
   "metadata": {},
   "outputs": [],
   "source": []
  },
  {
   "cell_type": "code",
   "execution_count": 12,
   "metadata": {},
   "outputs": [],
   "source": [
    "MAX_CHARS = UNK_CHAR + 1"
   ]
  },
  {
   "cell_type": "code",
   "execution_count": null,
   "metadata": {},
   "outputs": [],
   "source": [
    "K.clear_session()\n",
    "char_token_input = Input(...\n",
    "# your model definition here\n",
    "\n",
    "model.compile(\"adam\", loss=\"binary_crossentropy\", metrics=[\"acc\"])"
   ]
  },
  {
   "cell_type": "code",
   "execution_count": 14,
   "metadata": {},
   "outputs": [],
   "source": [
    "from tensorflow.keras.utils import to_categorical\n",
    "import funcy\n",
    "\n",
    "def train_gen(batch_size):\n",
    "    # your code here, be sure to one-hot encode characters on the fly\n",
    "\n",
    "\n",
    "def val_gen(batch_size):\n",
    "    # your code here, be sure to one-hot encode characters on the fly"
   ]
  },
  {
   "cell_type": "code",
   "execution_count": null,
   "metadata": {},
   "outputs": [],
   "source": [
    "batch_size = 256\n",
    "model.fit(\n",
    "    train_gen(batch_size),\n",
    "    validation_data=val_gen(batch_size),\n",
    "    epochs=5,\n",
    "    steps_per_epoch=x_train.shape[0] // batch_size,\n",
    "    validation_steps=x_test.shape[0] // batch_size,\n",
    ")"
   ]
  },
  {
   "cell_type": "code",
   "execution_count": null,
   "metadata": {},
   "outputs": [],
   "source": []
  },
  {
   "cell_type": "code",
   "execution_count": null,
   "metadata": {},
   "outputs": [],
   "source": []
  },
  {
   "cell_type": "markdown",
   "metadata": {},
   "source": [
    "## Part 3: Discuss results\n",
    " - What are the advantages and disadvantages of using character-level word features\n",
    " - What are the advantages and disadvantages of the reshaping trick that we did\n",
    "\n",
    "Put your answers here\n",
    "\n"
   ]
  },
  {
   "cell_type": "markdown",
   "metadata": {},
   "source": [
    "# $ \\\\ $\n",
    "## Part 4: Improving our model\n",
    "\n",
    "In fact, we don't need to use the trick to reshape our data.\n",
    "What we really want is a character-level convolution model that we can apply word by word. \n",
    "Luckily, keras has a Layer (really a layer wrapper) called `TimeDistributed`, which will\n",
    "apply an operation element by element in a sequence. \n",
    "\n",
    "### TODO\n",
    " - create a model that is __only__ the character-level encoding of a word.\n",
    "   - accept a single word as an input (shape=`(MAX_CHARS_PER_WORD, MAX_CHARS)`)\n",
    "   - the model should reshape the data to `(MAX_CHARS_PER_WORD * MAX_CHARS)`\n",
    "   - after reshaping the model should apply several convultional blocks to find the features that best represent the word.\n",
    "   - output should be a single vector of shape `(hidden,)` (try 128)\n",
    " - Use the `TimeDistributed` function to apply this entire model, word by word, to a sequence\n",
    " - This will yield a `hidden`-d digest of every word\n",
    " - Use LSTMs and Dense layers to complete the network and classify the sentiment\n",
    "\n",
    "\n",
    "__NB__: a model can be applied like any other layer or operation: `ouput = my_model(input_tensor)`"
   ]
  },
  {
   "cell_type": "code",
   "execution_count": 17,
   "metadata": {},
   "outputs": [],
   "source": [
    "from tensorflow.keras.layers import TimeDistributed"
   ]
  },
  {
   "cell_type": "code",
   "execution_count": null,
   "metadata": {},
   "outputs": [],
   "source": [
    "K.clear_session()\n",
    "\n",
    "\n",
    "# define the encoder\n",
    "#(this should work, but feel free to play with it)\n",
    "conv_layers = [\n",
    "    Reshape((MAX_CHARS_PER_WORD, MAX_CHARS)),\n",
    "    Conv1D(256, 3, activation=\"relu\"),\n",
    "    Conv1D(128, 3, activation=\"relu\"),\n",
    "    MaxPooling1D(2),\n",
    "    Conv1D(128, 2, activation=\"relu\"),\n",
    "    GlobalMaxPooling1D(),\n",
    "]\n",
    "\n",
    "from tensorflow.keras.models import Sequential\n",
    "encoder = Sequential()\n",
    "for cl in conv_layers:\n",
    "    encoder.add(cl)\n",
    "\n",
    "\n",
    "input_shape = (...\n",
    "inpt = Input(shape=input_shape)\n",
    "hidden = Reshape(...\n",
    "hidden = TimeDistributed(encoder)(hidden)\n",
    "# more model definition here\n",
    "model.summary()"
   ]
  },
  {
   "cell_type": "code",
   "execution_count": null,
   "metadata": {},
   "outputs": [],
   "source": []
  },
  {
   "cell_type": "code",
   "execution_count": 1,
   "metadata": {},
   "outputs": [],
   "source": [
    "# fit the model"
   ]
  },
  {
   "cell_type": "code",
   "execution_count": null,
   "metadata": {},
   "outputs": [],
   "source": []
  },
  {
   "cell_type": "code",
   "execution_count": null,
   "metadata": {},
   "outputs": [],
   "source": []
  },
  {
   "cell_type": "markdown",
   "metadata": {},
   "source": [
    "## Part 5: Analysis\n",
    "In fact, our new model which we apply word by word can be thought of as a \n",
    "learned, non-linear (and somewhat complex) digest or \"embedding\" of each word\n",
    "that is learned from the characters that comprise the word.\n",
    "\n",
    "We can explore what this embedding gives us. \n",
    "\n",
    "### TODO:\n",
    " - pick a few words and apply the model to them to get their vector representation\n",
    " - be sure to include words not in the vocabulary\n",
    " - pick a few words and calculate the similarity between their vector representation\n",
    " - comment on the results\n",
    "\n"
   ]
  },
  {
   "cell_type": "code",
   "execution_count": null,
   "metadata": {},
   "outputs": [],
   "source": [
    "from sklearn.metrics.pairwise import cosine_similarity\n",
    "# here are some good words to try\n",
    "# add a few others\n",
    "words = [\n",
    "    \"jump\",\n",
    "    \"jumped\",\n",
    "    \"jumps\",\n",
    "    \"leap\",\n",
    "    \"leaps\",\n",
    "    \"tuesday\",\n",
    "    \"wednesday\",\n",
    "    \"bad\",\n",
    "    \"funny\",\n",
    "    \"hilarious\",\n",
    "    \"scary\",\n",
    "    \"exemplary\",\n",
    "    \"exemplerey\", #spelling error\n",
    "    \"happy\", \n",
    "    \"unhappy\",  # added a prefix\n",
    "    \"wrogye\", # made up\n",
    "    \"unwrogye\", # opposite of made up\n",
    "    \"wrogyed\", # past tense made up\n",
    "]\n",
    "\n",
    "# your code to get the encoder inputs\n",
    "# don't forget to pad the encoder inputs\n",
    "# your code here\n",
    "# ...\n",
    "extracted_word_vectors = encoder.predict(encoder_inputs, batch_size=batch_size)\n",
    "cs = cosine_similarity(extracted_word_vectors)\n",
    "pd.DataFrame(cs, index=words, columns=words)"
   ]
  },
  {
   "cell_type": "code",
   "execution_count": null,
   "metadata": {},
   "outputs": [],
   "source": []
  },
  {
   "cell_type": "code",
   "execution_count": null,
   "metadata": {},
   "outputs": [],
   "source": []
  },
  {
   "cell_type": "code",
   "execution_count": null,
   "metadata": {},
   "outputs": [],
   "source": []
  },
  {
   "cell_type": "code",
   "execution_count": null,
   "metadata": {},
   "outputs": [],
   "source": []
  }
 ],
 "metadata": {
  "kernelspec": {
   "display_name": "Python 3 (ipykernel)",
   "language": "python",
   "name": "python3"
  },
  "language_info": {
   "codemirror_mode": {
    "name": "ipython",
    "version": 3
   },
   "file_extension": ".py",
   "mimetype": "text/x-python",
   "name": "python",
   "nbconvert_exporter": "python",
   "pygments_lexer": "ipython3",
   "version": "3.12.3"
  }
 },
 "nbformat": 4,
 "nbformat_minor": 4
}
