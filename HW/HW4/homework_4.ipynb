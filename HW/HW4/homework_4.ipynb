{
 "cells": [
  {
   "cell_type": "markdown",
   "metadata": {},
   "source": [
    "# Problem 1: Multiclass (30 %)"
   ]
  },
  {
   "cell_type": "markdown",
   "metadata": {},
   "source": [
    "So far we have largely focused on binary classification, where the input is a document and the output is a yes or a no (or probability of yes). \n",
    "\n",
    "In fact, more complex tasks exist where the input is a document and the output can be multiple (more than two) classes. \n",
    "\n",
    "In this problem we'll investigate two so-called multiclass problems.\n",
    "\n",
    "Multiclass: an observation is assigned inclusion in ONE of a N $N>2$ categories\n",
    " - E.g. is this sentence positive, negative, or neutral sentiment\n",
    " - E.g. is this email spam or not spam\n",
    "\n",
    "Multiclass-multilabel: an observation can belong to more than one of $N>=2$ categories\n",
    " - E.g. is this document about `{sports, current events, Steph Curry}` ( a document can be about more than one)\n",
    " - E.g. is this blood sample A, B, O, $+$, $-$ (blood can be `A+` or `A-`)\n",
    "\n",
    "We will study the metrics we can use to evaluate these classification problems."
   ]
  },
  {
   "cell_type": "code",
   "execution_count": 1,
   "metadata": {},
   "outputs": [
    {
     "name": "stdout",
     "output_type": "stream",
     "text": [
      "%pylab is deprecated, use %matplotlib inline and import the required libraries.\n",
      "Populating the interactive namespace from numpy and matplotlib\n"
     ]
    }
   ],
   "source": [
    "import numpy as np\n",
    "import pandas as pd\n",
    "%pylab inline\n",
    "\n",
    "import json\n",
    "\n",
    "from sklearn.metrics import accuracy_score, f1_score\n",
    "from sklearn.linear_model import LogisticRegression\n",
    "from sklearn.feature_extraction.text import CountVectorizer"
   ]
  },
  {
   "cell_type": "code",
   "execution_count": 2,
   "metadata": {},
   "outputs": [],
   "source": [
    "np.random.seed(1234)"
   ]
  },
  {
   "cell_type": "markdown",
   "metadata": {},
   "source": [
    "We will start with multiclass by studying the 20 newsgroups data."
   ]
  },
  {
   "cell_type": "markdown",
   "metadata": {},
   "source": [
    "## Part 0: get the data"
   ]
  },
  {
   "cell_type": "markdown",
   "metadata": {},
   "source": [
    " - Use the builtin function `from sklearn.datasets import fetch_20newsgroups`\n",
    " - NB: look at the docs and use the `remove` kwarg in order to get cleaned data\n",
    "\n",
    "TODO\n",
    " - Fetch the data separately for the train and test data\n",
    " - How many classes are present? \n",
    " - What is the most common class- please give the name and not the number.\n",
    " - What is the accuracy of the best constant guess in the train set?"
   ]
  },
  {
   "cell_type": "code",
   "execution_count": 3,
   "metadata": {},
   "outputs": [],
   "source": [
    "from sklearn.datasets import fetch_20newsgroups"
   ]
  },
  {
   "cell_type": "code",
   "execution_count": 8,
   "metadata": {},
   "outputs": [
    {
     "name": "stdout",
     "output_type": "stream",
     "text": [
      "dict_keys(['data', 'filenames', 'target_names', 'target', 'DESCR'])\n",
      "dict_keys(['data', 'filenames', 'target_names', 'target', 'DESCR'])\n",
      "['alt.atheism', 'comp.graphics', 'comp.os.ms-windows.misc', 'comp.sys.ibm.pc.hardware', 'comp.sys.mac.hardware', 'comp.windows.x', 'misc.forsale', 'rec.autos', 'rec.motorcycles', 'rec.sport.baseball', 'rec.sport.hockey', 'sci.crypt', 'sci.electronics', 'sci.med', 'sci.space', 'soc.religion.christian', 'talk.politics.guns', 'talk.politics.mideast', 'talk.politics.misc', 'talk.religion.misc']\n",
      "[ 7  4  4  1 14]\n",
      "['/Users/bluebird/scikit_learn_data/20news_home/20news-bydate-train/rec.autos/102994'\n",
      " '/Users/bluebird/scikit_learn_data/20news_home/20news-bydate-train/comp.sys.mac.hardware/51861'\n",
      " '/Users/bluebird/scikit_learn_data/20news_home/20news-bydate-train/comp.sys.mac.hardware/51879'\n",
      " '/Users/bluebird/scikit_learn_data/20news_home/20news-bydate-train/comp.graphics/38242'\n",
      " '/Users/bluebird/scikit_learn_data/20news_home/20news-bydate-train/sci.space/60880']\n",
      "I was wondering if anyone out there could enlighten me on this car I saw\n",
      "the other day. It was a 2-door sports car, looked to be from the late 60s/\n",
      "early 70s. It was called a Bricklin. The doors were really small. In addition,\n",
      "the front bumper was separate from the rest of the body. This is \n",
      "all I know. If anyone can tellme a model name, engine specs, years\n",
      "of production, where this car is made, history, or whatever info you\n",
      "have on this funky looking car, please e-mail.\n"
     ]
    }
   ],
   "source": [
    "# Fetch the data separately for the train and test data\n",
    "data_train = fetch_20newsgroups(subset='train', remove=('headers', 'footers', 'quotes'))\n",
    "data_test = fetch_20newsgroups(subset='test', remove=('headers', 'footers', 'quotes'))\n",
    "print(data_train.keys())\n",
    "print(data_test.keys())\n",
    "print(data_train['target_names'])\n",
    "print(data_train['target'][:5])\n",
    "print(data_train['filenames'][:5])\n",
    "print(data_train['data'][0])"
   ]
  },
  {
   "cell_type": "code",
   "execution_count": 9,
   "metadata": {},
   "outputs": [
    {
     "name": "stdout",
     "output_type": "stream",
     "text": [
      "found 20 classes\n",
      "most common class: rec.sport.hockey\n",
      "constant guess acc: 0.053\n"
     ]
    }
   ],
   "source": [
    "# How many classes are present?\n",
    "val_counts = np.bincount(data_train.target)\n",
    "print('found {} classes'.format(val_counts.shape[0]))\n",
    "\n",
    "# What is the most common class- please give the name and not the number.\n",
    "most_common_class_index = np.argmax(val_counts)\n",
    "most_common_class = data_train.target_names[most_common_class_index]\n",
    "print('most common class: {}'.format(most_common_class))\n",
    "\n",
    "# What is the accuracy of the best constant guess in the train set?\n",
    "dummy_acc = accuracy_score(data_train.target, [most_common_class_index] * len(data_train.target))\n",
    "print('constant guess acc: {:.3f}'.format(dummy_acc))"
   ]
  },
  {
   "cell_type": "markdown",
   "metadata": {},
   "source": [
    "## Part 1: fit a model"
   ]
  },
  {
   "cell_type": "markdown",
   "metadata": {},
   "source": [
    "As we saw with mnist, logistic regression is capable of fitting multi-class data.\n",
    " - Encode the text with as a bag of words and fit logistic regression to the data\n",
    " - Calcuate the out of sample accuracy score\n",
    "\n",
    "TODO\n",
    "1. Make a count vectorizer with max_features=20000\n",
    "2. Fit it\n",
    "3. Transform the train and test data into number"
   ]
  },
  {
   "cell_type": "code",
   "execution_count": 15,
   "metadata": {},
   "outputs": [
    {
     "name": "stdout",
     "output_type": "stream",
     "text": [
      "(11314, 20000) (7532, 20000)\n"
     ]
    }
   ],
   "source": [
    "vec = CountVectorizer(max_features=20000)\n",
    "vec.fit(data_train.data)\n",
    "\n",
    "# your code here\n",
    "xtr = vec.transform(data_train.data) # train data\n",
    "xte = vec.transform(data_test.data) # test data\n",
    "print(xtr.shape, xte.shape)"
   ]
  },
  {
   "cell_type": "markdown",
   "metadata": {},
   "source": [
    "TODO\n",
    "1. Fit logistic regression\n",
    "2. Compute accuracy score"
   ]
  },
  {
   "cell_type": "code",
   "execution_count": 16,
   "metadata": {},
   "outputs": [
    {
     "name": "stdout",
     "output_type": "stream",
     "text": [
      "Out of sample accuracy: 0.592\n"
     ]
    }
   ],
   "source": [
    "# Fit logistic regression\n",
    "lr = LogisticRegression(max_iter=1000)\n",
    "lr.fit(xtr, data_train.target)\n",
    "\n",
    "# Compute accuracy score\n",
    "preds = lr.predict(xte)\n",
    "acc = accuracy_score(data_test.target, preds)\n",
    "print('Out of sample accuracy: {:.3f}'.format(acc))"
   ]
  },
  {
   "cell_type": "markdown",
   "metadata": {},
   "source": [
    "## Part 2: Evaluate metrics"
   ]
  },
  {
   "cell_type": "markdown",
   "metadata": {},
   "source": [
    "As we have seen previously, while accuracy is useful, it does not always capture all the behavior we want in a metric.\n",
    "\n",
    "Here we will extend the concept of f1 score to the multiclass setting. There are several ways to do this\n",
    " - Report a different f1 score for every class (no averaging)\n",
    " - Report the mean f1 score over all classes\n",
    " - Report a weighted f1 score weighted by class prevelance. \n",
    "\n",
    "For each of these three types of f1\n",
    " - Calculate the score(s) without the help of scikit learn\n",
    " - Compare it to the corresponding f1 score evaluated with scikit-learn (NB you'll need to read the docs for `f1_score`.) \n",
    " - Write down the pros and cons for this method of calculating multiclass f1 score"
   ]
  },
  {
   "cell_type": "markdown",
   "metadata": {},
   "source": [
    "### Option 1: different score for every class\n",
    "F1 score calculated for each class separately."
   ]
  },
  {
   "cell_type": "code",
   "execution_count": 23,
   "metadata": {},
   "outputs": [
    {
     "name": "stdout",
     "output_type": "stream",
     "text": [
      "fscore for alt.atheism \t = 0.422\n",
      "fscore for comp.graphics \t = 0.582\n",
      "fscore for comp.os.ms-windows.misc \t = 0.560\n",
      "fscore for comp.sys.ibm.pc.hardware \t = 0.550\n",
      "fscore for comp.sys.mac.hardware \t = 0.617\n",
      "fscore for comp.windows.x \t = 0.660\n",
      "fscore for misc.forsale \t = 0.732\n",
      "fscore for rec.autos \t = 0.605\n",
      "fscore for rec.motorcycles \t = 0.631\n",
      "fscore for rec.sport.baseball \t = 0.556\n",
      "fscore for rec.sport.hockey \t = 0.810\n",
      "fscore for sci.crypt \t = 0.644\n",
      "fscore for sci.electronics \t = 0.485\n",
      "fscore for sci.med \t = 0.652\n",
      "fscore for sci.space \t = 0.628\n",
      "fscore for soc.religion.christian \t = 0.660\n",
      "fscore for talk.politics.guns \t = 0.508\n",
      "fscore for talk.politics.mideast \t = 0.657\n",
      "fscore for talk.politics.misc \t = 0.390\n",
      "fscore for talk.religion.misc \t = 0.305\n"
     ]
    }
   ],
   "source": [
    "f1s = []\n",
    "\n",
    "for label_index, label_name in enumerate(data_train.target_names):\n",
    "    # For each class, treat it as \"positive\" and the rest as \"negative\"\n",
    "    y_true = (data_test.target == label_index).astype(int)  # True labels (1 for the current class, 0 for others)\n",
    "    y_pred = (preds == label_index).astype(int)  # Predicted labels in a one-vs-rest manner\n",
    "\n",
    "    # Manually calculate True Positives (TP), False Positives (FP), and False Negatives (FN)\n",
    "    TP = np.sum((y_true == 1) & (y_pred == 1))  # Correctly predicted positive\n",
    "    FP = np.sum((y_true == 0) & (y_pred == 1))  # Incorrectly predicted positive\n",
    "    FN = np.sum((y_true == 1) & (y_pred == 0))  # Missed positive (predicted negative)\n",
    "\n",
    "    # Calculate precision and recall manually\n",
    "    if TP + FP == 0:\n",
    "        precision = 0.0  # Avoid division by zero\n",
    "    else:\n",
    "        precision = TP / (TP + FP)\n",
    "    \n",
    "    if TP + FN == 0:\n",
    "        recall = 0.0  # Avoid division by zero\n",
    "    else:\n",
    "        recall = TP / (TP + FN)\n",
    "    \n",
    "    # Calculate F1 score\n",
    "    if precision + recall == 0:\n",
    "        f1 = 0.0\n",
    "    else:\n",
    "        f1 = 2 * (precision * recall) / (precision + recall)\n",
    "    \n",
    "    # Append the F1 score for this class\n",
    "    f1s.append(f1)\n",
    "\n",
    "# Print the F1 scores for each class\n",
    "for label_name, fs in zip(data_train.target_names, f1s):\n",
    "    print('fscore for {} \\t = {:.3f}'.format(label_name, fs))"
   ]
  },
  {
   "cell_type": "code",
   "execution_count": 30,
   "metadata": {},
   "outputs": [
    {
     "name": "stdout",
     "output_type": "stream",
     "text": [
      "sklearn f1 scores: [0.421875   0.58243081 0.55989583 0.54993515 0.61682243 0.66016713\n",
      " 0.73232323 0.60539216 0.63133098 0.55566312 0.81019108 0.64444444\n",
      " 0.4853129  0.65240642 0.62755102 0.65984655 0.50837989 0.65749656\n",
      " 0.3898917  0.30522088]\n",
      "0.422 0.582 0.560 0.550 0.617 0.660 0.732 0.605 0.631 0.556 0.810 0.644 0.485 0.652 0.628 0.660 0.508 0.657 0.390 0.305\n"
     ]
    }
   ],
   "source": [
    "# Compare with the built-in F1 score from sklearn\n",
    "sklearn_f1s = f1_score(data_test.target, preds, average=None)\n",
    "print('sklearn f1 scores:', sklearn_f1s)\n",
    "\n",
    "# Round the F1 scores to 3 decimal places with a zero-padded format\n",
    "f1s_str = ['{:.3f}'.format(fs) for fs in f1s]\n",
    "print(' '.join(f1s_str))"
   ]
  },
  {
   "cell_type": "markdown",
   "metadata": {},
   "source": [
    "Using equality is not the best for comparing decimals, changing the comparison method from what was provided. Visually above we can see they match."
   ]
  },
  {
   "cell_type": "code",
   "execution_count": 33,
   "metadata": {},
   "outputs": [
    {
     "name": "stdout",
     "output_type": "stream",
     "text": [
      "sklearn builtin matches results\n"
     ]
    }
   ],
   "source": [
    "success = np.allclose(f1s, sklearn_f1s, rtol=1e-3)\n",
    "if success:\n",
    "    print('sklearn builtin matches results')\n",
    "else:\n",
    "    print('scores do not match')"
   ]
  },
  {
   "cell_type": "markdown",
   "metadata": {},
   "source": [
    "- Pro: This method provides detailed performance per class, which is useful for identifying classes where the model struggles.\n",
    "- Con: It can be cumbersome to interpret when dealing with many classes, as it does not provide a single summary score."
   ]
  },
  {
   "cell_type": "markdown",
   "metadata": {},
   "source": [
    "### Option 2: Mean over all classes\n",
    "F1 score for each class, and then calculate the unweighted average over all classes."
   ]
  },
  {
   "cell_type": "code",
   "execution_count": 38,
   "metadata": {},
   "outputs": [
    {
     "name": "stdout",
     "output_type": "stream",
     "text": [
      "macro f1 (manual): 0.583 \t sklearn macro f1: 0.583\n"
     ]
    }
   ],
   "source": [
    "# Manually calculate the macro-averaged F1 score\n",
    "f1_macro = np.mean(f1s)  # Mean of the F1 scores across all classes - individual class F1 scores are already calculated\n",
    "\n",
    "# Calculate the macro-averaged F1 score using scikit-learn\n",
    "f1_macro_sk = f1_score(data_test.target, preds, average='macro')\n",
    "\n",
    "# Check if the manually computed macro F1 score matches the sklearn F1 score\n",
    "# Changed this from the original code to use np.isclose instead of direct comparison\n",
    "assert np.isclose(f1_macro, f1_macro_sk, rtol=1e-3), \"Macro F1 scores do not match\"\n",
    "\n",
    "# Print both manually computed and sklearn F1 macro scores\n",
    "print('macro f1 (manual): {:.3f} \\t sklearn macro f1: {:.3f}'.format(\n",
    "    f1_macro, \n",
    "    f1_macro_sk\n",
    "))"
   ]
  },
  {
   "cell_type": "markdown",
   "metadata": {},
   "source": [
    "- Pro: Treats all classes equally, regardless of their frequency in the dataset.\n",
    "- Con: May give misleading results when class distribution is imbalanced because rare classes have the same impact on the score as common ones."
   ]
  },
  {
   "cell_type": "markdown",
   "metadata": {},
   "source": [
    "### Option 3: Weighted mean\n",
    "Classes which are more prevalent have their F1 scores count more in the resulting average."
   ]
  },
  {
   "cell_type": "markdown",
   "metadata": {},
   "source": [
    "Now weighted by class prevalence\n",
    "\n",
    "TODO:\n",
    "- Calculate the frequency of each class\n",
    "- Take a weighted average of the f1s, weighted by these weights\n",
    "- Compare to sklearn"
   ]
  },
  {
   "cell_type": "code",
   "execution_count": 39,
   "metadata": {},
   "outputs": [
    {
     "name": "stdout",
     "output_type": "stream",
     "text": [
      "weighted f1 (manual): 0.592 \t sklearn weighted f1: 0.592\n"
     ]
    }
   ],
   "source": [
    "# Calculate the weights for each class based on the number of true instances in the test set\n",
    "wts = np.bincount(data_test.target) / len(data_test.target)  # Class frequencies as weights\n",
    "\n",
    "# Manually calculate the weighted-averaged F1 score\n",
    "weighted_f1 = np.sum(np.array(f1s) * wts)  # Sum of F1 scores weighted by class frequency\n",
    "\n",
    "# Calculate the weighted-averaged F1 score using scikit-learn\n",
    "weighted_f1_sk = f1_score(data_test.target, preds, average='weighted')  # Sklearn method for weighted F1 score\n",
    "\n",
    "# Print both manually computed and sklearn weighted F1 scores\n",
    "print('weighted f1 (manual): {:.3f} \\t sklearn weighted f1: {:.3f}'.format(weighted_f1, weighted_f1_sk))\n",
    "\n",
    "# Optional: Add a check to ensure the manually computed score matches sklearn's score\n",
    "assert np.isclose(weighted_f1, weighted_f1_sk, rtol=1e-3), \"Weighted F1 scores do not match\""
   ]
  },
  {
   "cell_type": "markdown",
   "metadata": {},
   "source": [
    "- Pro: Better suited for imbalanced datasets, as it reflects the actual performance for the majority of the samples.\n",
    "- Con: May overemphasize the performance on the majority classes and downplay the minority classes."
   ]
  },
  {
   "cell_type": "markdown",
   "metadata": {},
   "source": [
    "## Part 3: Confusion Matrix"
   ]
  },
  {
   "cell_type": "markdown",
   "metadata": {},
   "source": [
    "The confusion matrix is a handy way to understand errors in classification problems. It is a 2-D grid of what values were predicted and what the actual values were. \n",
    "\n",
    "See [confusion matrix](https://scikit-learn.org/stable/modules/generated/sklearn.metrics.confusion_matrix.html) in the sklearn docs. \n",
    "\n",
    "Create a confusion matrix for the 20-newsgroups dataset and comment on the most common failure modes."
   ]
  },
  {
   "cell_type": "code",
   "execution_count": 41,
   "metadata": {},
   "outputs": [
    {
     "data": {
      "text/html": [
       "<div>\n",
       "<style scoped>\n",
       "    .dataframe tbody tr th:only-of-type {\n",
       "        vertical-align: middle;\n",
       "    }\n",
       "\n",
       "    .dataframe tbody tr th {\n",
       "        vertical-align: top;\n",
       "    }\n",
       "\n",
       "    .dataframe thead th {\n",
       "        text-align: right;\n",
       "    }\n",
       "</style>\n",
       "<table border=\"1\" class=\"dataframe\">\n",
       "  <thead>\n",
       "    <tr style=\"text-align: right;\">\n",
       "      <th></th>\n",
       "      <th>alt.atheism</th>\n",
       "      <th>comp.graphics</th>\n",
       "      <th>comp.os.ms-windows.misc</th>\n",
       "      <th>comp.sys.ibm.pc.hardware</th>\n",
       "      <th>comp.sys.mac.hardware</th>\n",
       "      <th>comp.windows.x</th>\n",
       "      <th>misc.forsale</th>\n",
       "      <th>rec.autos</th>\n",
       "      <th>rec.motorcycles</th>\n",
       "      <th>rec.sport.baseball</th>\n",
       "      <th>rec.sport.hockey</th>\n",
       "      <th>sci.crypt</th>\n",
       "      <th>sci.electronics</th>\n",
       "      <th>sci.med</th>\n",
       "      <th>sci.space</th>\n",
       "      <th>soc.religion.christian</th>\n",
       "      <th>talk.politics.guns</th>\n",
       "      <th>talk.politics.mideast</th>\n",
       "      <th>talk.politics.misc</th>\n",
       "      <th>talk.religion.misc</th>\n",
       "    </tr>\n",
       "  </thead>\n",
       "  <tbody>\n",
       "    <tr>\n",
       "      <th>alt.atheism</th>\n",
       "      <td>135</td>\n",
       "      <td>3</td>\n",
       "      <td>4</td>\n",
       "      <td>0</td>\n",
       "      <td>2</td>\n",
       "      <td>4</td>\n",
       "      <td>2</td>\n",
       "      <td>6</td>\n",
       "      <td>10</td>\n",
       "      <td>15</td>\n",
       "      <td>1</td>\n",
       "      <td>3</td>\n",
       "      <td>8</td>\n",
       "      <td>11</td>\n",
       "      <td>11</td>\n",
       "      <td>30</td>\n",
       "      <td>9</td>\n",
       "      <td>12</td>\n",
       "      <td>8</td>\n",
       "      <td>45</td>\n",
       "    </tr>\n",
       "    <tr>\n",
       "      <th>comp.graphics</th>\n",
       "      <td>3</td>\n",
       "      <td>242</td>\n",
       "      <td>17</td>\n",
       "      <td>9</td>\n",
       "      <td>10</td>\n",
       "      <td>27</td>\n",
       "      <td>10</td>\n",
       "      <td>4</td>\n",
       "      <td>5</td>\n",
       "      <td>14</td>\n",
       "      <td>2</td>\n",
       "      <td>4</td>\n",
       "      <td>17</td>\n",
       "      <td>4</td>\n",
       "      <td>10</td>\n",
       "      <td>1</td>\n",
       "      <td>1</td>\n",
       "      <td>3</td>\n",
       "      <td>2</td>\n",
       "      <td>4</td>\n",
       "    </tr>\n",
       "    <tr>\n",
       "      <th>comp.os.ms-windows.misc</th>\n",
       "      <td>4</td>\n",
       "      <td>31</td>\n",
       "      <td>215</td>\n",
       "      <td>41</td>\n",
       "      <td>17</td>\n",
       "      <td>15</td>\n",
       "      <td>3</td>\n",
       "      <td>7</td>\n",
       "      <td>4</td>\n",
       "      <td>19</td>\n",
       "      <td>1</td>\n",
       "      <td>7</td>\n",
       "      <td>3</td>\n",
       "      <td>6</td>\n",
       "      <td>8</td>\n",
       "      <td>0</td>\n",
       "      <td>2</td>\n",
       "      <td>4</td>\n",
       "      <td>4</td>\n",
       "      <td>3</td>\n",
       "    </tr>\n",
       "    <tr>\n",
       "      <th>comp.sys.ibm.pc.hardware</th>\n",
       "      <td>1</td>\n",
       "      <td>19</td>\n",
       "      <td>43</td>\n",
       "      <td>212</td>\n",
       "      <td>34</td>\n",
       "      <td>6</td>\n",
       "      <td>15</td>\n",
       "      <td>5</td>\n",
       "      <td>3</td>\n",
       "      <td>8</td>\n",
       "      <td>2</td>\n",
       "      <td>4</td>\n",
       "      <td>33</td>\n",
       "      <td>3</td>\n",
       "      <td>3</td>\n",
       "      <td>0</td>\n",
       "      <td>0</td>\n",
       "      <td>0</td>\n",
       "      <td>1</td>\n",
       "      <td>0</td>\n",
       "    </tr>\n",
       "    <tr>\n",
       "      <th>comp.sys.mac.hardware</th>\n",
       "      <td>0</td>\n",
       "      <td>9</td>\n",
       "      <td>13</td>\n",
       "      <td>35</td>\n",
       "      <td>231</td>\n",
       "      <td>1</td>\n",
       "      <td>15</td>\n",
       "      <td>11</td>\n",
       "      <td>8</td>\n",
       "      <td>17</td>\n",
       "      <td>6</td>\n",
       "      <td>4</td>\n",
       "      <td>22</td>\n",
       "      <td>2</td>\n",
       "      <td>7</td>\n",
       "      <td>1</td>\n",
       "      <td>2</td>\n",
       "      <td>0</td>\n",
       "      <td>1</td>\n",
       "      <td>0</td>\n",
       "    </tr>\n",
       "    <tr>\n",
       "      <th>comp.windows.x</th>\n",
       "      <td>0</td>\n",
       "      <td>54</td>\n",
       "      <td>40</td>\n",
       "      <td>13</td>\n",
       "      <td>4</td>\n",
       "      <td>237</td>\n",
       "      <td>7</td>\n",
       "      <td>2</td>\n",
       "      <td>2</td>\n",
       "      <td>12</td>\n",
       "      <td>0</td>\n",
       "      <td>4</td>\n",
       "      <td>4</td>\n",
       "      <td>1</td>\n",
       "      <td>7</td>\n",
       "      <td>3</td>\n",
       "      <td>1</td>\n",
       "      <td>4</td>\n",
       "      <td>0</td>\n",
       "      <td>0</td>\n",
       "    </tr>\n",
       "    <tr>\n",
       "      <th>misc.forsale</th>\n",
       "      <td>0</td>\n",
       "      <td>2</td>\n",
       "      <td>5</td>\n",
       "      <td>18</td>\n",
       "      <td>14</td>\n",
       "      <td>2</td>\n",
       "      <td>290</td>\n",
       "      <td>8</td>\n",
       "      <td>15</td>\n",
       "      <td>14</td>\n",
       "      <td>1</td>\n",
       "      <td>1</td>\n",
       "      <td>9</td>\n",
       "      <td>2</td>\n",
       "      <td>3</td>\n",
       "      <td>0</td>\n",
       "      <td>1</td>\n",
       "      <td>2</td>\n",
       "      <td>2</td>\n",
       "      <td>1</td>\n",
       "    </tr>\n",
       "    <tr>\n",
       "      <th>rec.autos</th>\n",
       "      <td>8</td>\n",
       "      <td>4</td>\n",
       "      <td>3</td>\n",
       "      <td>4</td>\n",
       "      <td>2</td>\n",
       "      <td>1</td>\n",
       "      <td>12</td>\n",
       "      <td>247</td>\n",
       "      <td>22</td>\n",
       "      <td>32</td>\n",
       "      <td>2</td>\n",
       "      <td>2</td>\n",
       "      <td>21</td>\n",
       "      <td>4</td>\n",
       "      <td>6</td>\n",
       "      <td>3</td>\n",
       "      <td>5</td>\n",
       "      <td>3</td>\n",
       "      <td>10</td>\n",
       "      <td>5</td>\n",
       "    </tr>\n",
       "    <tr>\n",
       "      <th>rec.motorcycles</th>\n",
       "      <td>7</td>\n",
       "      <td>4</td>\n",
       "      <td>0</td>\n",
       "      <td>3</td>\n",
       "      <td>4</td>\n",
       "      <td>1</td>\n",
       "      <td>4</td>\n",
       "      <td>32</td>\n",
       "      <td>268</td>\n",
       "      <td>22</td>\n",
       "      <td>2</td>\n",
       "      <td>3</td>\n",
       "      <td>16</td>\n",
       "      <td>5</td>\n",
       "      <td>8</td>\n",
       "      <td>0</td>\n",
       "      <td>3</td>\n",
       "      <td>5</td>\n",
       "      <td>8</td>\n",
       "      <td>3</td>\n",
       "    </tr>\n",
       "    <tr>\n",
       "      <th>rec.sport.baseball</th>\n",
       "      <td>8</td>\n",
       "      <td>3</td>\n",
       "      <td>0</td>\n",
       "      <td>0</td>\n",
       "      <td>3</td>\n",
       "      <td>0</td>\n",
       "      <td>5</td>\n",
       "      <td>8</td>\n",
       "      <td>13</td>\n",
       "      <td>287</td>\n",
       "      <td>29</td>\n",
       "      <td>0</td>\n",
       "      <td>4</td>\n",
       "      <td>4</td>\n",
       "      <td>9</td>\n",
       "      <td>6</td>\n",
       "      <td>2</td>\n",
       "      <td>6</td>\n",
       "      <td>7</td>\n",
       "      <td>3</td>\n",
       "    </tr>\n",
       "    <tr>\n",
       "      <th>rec.sport.hockey</th>\n",
       "      <td>7</td>\n",
       "      <td>2</td>\n",
       "      <td>1</td>\n",
       "      <td>1</td>\n",
       "      <td>0</td>\n",
       "      <td>0</td>\n",
       "      <td>2</td>\n",
       "      <td>5</td>\n",
       "      <td>5</td>\n",
       "      <td>35</td>\n",
       "      <td>318</td>\n",
       "      <td>2</td>\n",
       "      <td>1</td>\n",
       "      <td>3</td>\n",
       "      <td>6</td>\n",
       "      <td>2</td>\n",
       "      <td>3</td>\n",
       "      <td>1</td>\n",
       "      <td>3</td>\n",
       "      <td>2</td>\n",
       "    </tr>\n",
       "    <tr>\n",
       "      <th>sci.crypt</th>\n",
       "      <td>7</td>\n",
       "      <td>8</td>\n",
       "      <td>9</td>\n",
       "      <td>4</td>\n",
       "      <td>10</td>\n",
       "      <td>2</td>\n",
       "      <td>5</td>\n",
       "      <td>6</td>\n",
       "      <td>9</td>\n",
       "      <td>28</td>\n",
       "      <td>3</td>\n",
       "      <td>232</td>\n",
       "      <td>19</td>\n",
       "      <td>7</td>\n",
       "      <td>10</td>\n",
       "      <td>1</td>\n",
       "      <td>15</td>\n",
       "      <td>7</td>\n",
       "      <td>7</td>\n",
       "      <td>7</td>\n",
       "    </tr>\n",
       "    <tr>\n",
       "      <th>sci.electronics</th>\n",
       "      <td>4</td>\n",
       "      <td>19</td>\n",
       "      <td>11</td>\n",
       "      <td>27</td>\n",
       "      <td>21</td>\n",
       "      <td>14</td>\n",
       "      <td>15</td>\n",
       "      <td>15</td>\n",
       "      <td>12</td>\n",
       "      <td>17</td>\n",
       "      <td>2</td>\n",
       "      <td>12</td>\n",
       "      <td>190</td>\n",
       "      <td>11</td>\n",
       "      <td>15</td>\n",
       "      <td>1</td>\n",
       "      <td>0</td>\n",
       "      <td>4</td>\n",
       "      <td>3</td>\n",
       "      <td>0</td>\n",
       "    </tr>\n",
       "    <tr>\n",
       "      <th>sci.med</th>\n",
       "      <td>8</td>\n",
       "      <td>14</td>\n",
       "      <td>4</td>\n",
       "      <td>3</td>\n",
       "      <td>3</td>\n",
       "      <td>4</td>\n",
       "      <td>9</td>\n",
       "      <td>13</td>\n",
       "      <td>16</td>\n",
       "      <td>20</td>\n",
       "      <td>2</td>\n",
       "      <td>4</td>\n",
       "      <td>10</td>\n",
       "      <td>244</td>\n",
       "      <td>9</td>\n",
       "      <td>10</td>\n",
       "      <td>8</td>\n",
       "      <td>4</td>\n",
       "      <td>8</td>\n",
       "      <td>3</td>\n",
       "    </tr>\n",
       "    <tr>\n",
       "      <th>sci.space</th>\n",
       "      <td>6</td>\n",
       "      <td>14</td>\n",
       "      <td>3</td>\n",
       "      <td>3</td>\n",
       "      <td>4</td>\n",
       "      <td>2</td>\n",
       "      <td>1</td>\n",
       "      <td>14</td>\n",
       "      <td>6</td>\n",
       "      <td>24</td>\n",
       "      <td>4</td>\n",
       "      <td>7</td>\n",
       "      <td>20</td>\n",
       "      <td>10</td>\n",
       "      <td>246</td>\n",
       "      <td>4</td>\n",
       "      <td>9</td>\n",
       "      <td>2</td>\n",
       "      <td>10</td>\n",
       "      <td>5</td>\n",
       "    </tr>\n",
       "    <tr>\n",
       "      <th>soc.religion.christian</th>\n",
       "      <td>27</td>\n",
       "      <td>4</td>\n",
       "      <td>2</td>\n",
       "      <td>1</td>\n",
       "      <td>0</td>\n",
       "      <td>0</td>\n",
       "      <td>0</td>\n",
       "      <td>4</td>\n",
       "      <td>6</td>\n",
       "      <td>15</td>\n",
       "      <td>1</td>\n",
       "      <td>2</td>\n",
       "      <td>4</td>\n",
       "      <td>13</td>\n",
       "      <td>4</td>\n",
       "      <td>258</td>\n",
       "      <td>0</td>\n",
       "      <td>10</td>\n",
       "      <td>3</td>\n",
       "      <td>44</td>\n",
       "    </tr>\n",
       "    <tr>\n",
       "      <th>talk.politics.guns</th>\n",
       "      <td>14</td>\n",
       "      <td>3</td>\n",
       "      <td>2</td>\n",
       "      <td>2</td>\n",
       "      <td>2</td>\n",
       "      <td>3</td>\n",
       "      <td>2</td>\n",
       "      <td>13</td>\n",
       "      <td>21</td>\n",
       "      <td>21</td>\n",
       "      <td>3</td>\n",
       "      <td>13</td>\n",
       "      <td>1</td>\n",
       "      <td>4</td>\n",
       "      <td>9</td>\n",
       "      <td>7</td>\n",
       "      <td>182</td>\n",
       "      <td>12</td>\n",
       "      <td>26</td>\n",
       "      <td>24</td>\n",
       "    </tr>\n",
       "    <tr>\n",
       "      <th>talk.politics.mideast</th>\n",
       "      <td>27</td>\n",
       "      <td>1</td>\n",
       "      <td>0</td>\n",
       "      <td>0</td>\n",
       "      <td>1</td>\n",
       "      <td>0</td>\n",
       "      <td>1</td>\n",
       "      <td>8</td>\n",
       "      <td>8</td>\n",
       "      <td>12</td>\n",
       "      <td>1</td>\n",
       "      <td>7</td>\n",
       "      <td>4</td>\n",
       "      <td>4</td>\n",
       "      <td>3</td>\n",
       "      <td>14</td>\n",
       "      <td>15</td>\n",
       "      <td>239</td>\n",
       "      <td>22</td>\n",
       "      <td>9</td>\n",
       "    </tr>\n",
       "    <tr>\n",
       "      <th>talk.politics.misc</th>\n",
       "      <td>18</td>\n",
       "      <td>2</td>\n",
       "      <td>0</td>\n",
       "      <td>1</td>\n",
       "      <td>1</td>\n",
       "      <td>2</td>\n",
       "      <td>1</td>\n",
       "      <td>9</td>\n",
       "      <td>12</td>\n",
       "      <td>13</td>\n",
       "      <td>4</td>\n",
       "      <td>8</td>\n",
       "      <td>3</td>\n",
       "      <td>5</td>\n",
       "      <td>9</td>\n",
       "      <td>5</td>\n",
       "      <td>77</td>\n",
       "      <td>19</td>\n",
       "      <td>108</td>\n",
       "      <td>13</td>\n",
       "    </tr>\n",
       "    <tr>\n",
       "      <th>talk.religion.misc</th>\n",
       "      <td>37</td>\n",
       "      <td>4</td>\n",
       "      <td>2</td>\n",
       "      <td>2</td>\n",
       "      <td>1</td>\n",
       "      <td>2</td>\n",
       "      <td>3</td>\n",
       "      <td>3</td>\n",
       "      <td>6</td>\n",
       "      <td>11</td>\n",
       "      <td>2</td>\n",
       "      <td>5</td>\n",
       "      <td>1</td>\n",
       "      <td>9</td>\n",
       "      <td>7</td>\n",
       "      <td>38</td>\n",
       "      <td>17</td>\n",
       "      <td>14</td>\n",
       "      <td>11</td>\n",
       "      <td>76</td>\n",
       "    </tr>\n",
       "  </tbody>\n",
       "</table>\n",
       "</div>"
      ],
      "text/plain": [
       "                          alt.atheism  comp.graphics  comp.os.ms-windows.misc  \\\n",
       "alt.atheism                       135              3                        4   \n",
       "comp.graphics                       3            242                       17   \n",
       "comp.os.ms-windows.misc             4             31                      215   \n",
       "comp.sys.ibm.pc.hardware            1             19                       43   \n",
       "comp.sys.mac.hardware               0              9                       13   \n",
       "comp.windows.x                      0             54                       40   \n",
       "misc.forsale                        0              2                        5   \n",
       "rec.autos                           8              4                        3   \n",
       "rec.motorcycles                     7              4                        0   \n",
       "rec.sport.baseball                  8              3                        0   \n",
       "rec.sport.hockey                    7              2                        1   \n",
       "sci.crypt                           7              8                        9   \n",
       "sci.electronics                     4             19                       11   \n",
       "sci.med                             8             14                        4   \n",
       "sci.space                           6             14                        3   \n",
       "soc.religion.christian             27              4                        2   \n",
       "talk.politics.guns                 14              3                        2   \n",
       "talk.politics.mideast              27              1                        0   \n",
       "talk.politics.misc                 18              2                        0   \n",
       "talk.religion.misc                 37              4                        2   \n",
       "\n",
       "                          comp.sys.ibm.pc.hardware  comp.sys.mac.hardware  \\\n",
       "alt.atheism                                      0                      2   \n",
       "comp.graphics                                    9                     10   \n",
       "comp.os.ms-windows.misc                         41                     17   \n",
       "comp.sys.ibm.pc.hardware                       212                     34   \n",
       "comp.sys.mac.hardware                           35                    231   \n",
       "comp.windows.x                                  13                      4   \n",
       "misc.forsale                                    18                     14   \n",
       "rec.autos                                        4                      2   \n",
       "rec.motorcycles                                  3                      4   \n",
       "rec.sport.baseball                               0                      3   \n",
       "rec.sport.hockey                                 1                      0   \n",
       "sci.crypt                                        4                     10   \n",
       "sci.electronics                                 27                     21   \n",
       "sci.med                                          3                      3   \n",
       "sci.space                                        3                      4   \n",
       "soc.religion.christian                           1                      0   \n",
       "talk.politics.guns                               2                      2   \n",
       "talk.politics.mideast                            0                      1   \n",
       "talk.politics.misc                               1                      1   \n",
       "talk.religion.misc                               2                      1   \n",
       "\n",
       "                          comp.windows.x  misc.forsale  rec.autos  \\\n",
       "alt.atheism                            4             2          6   \n",
       "comp.graphics                         27            10          4   \n",
       "comp.os.ms-windows.misc               15             3          7   \n",
       "comp.sys.ibm.pc.hardware               6            15          5   \n",
       "comp.sys.mac.hardware                  1            15         11   \n",
       "comp.windows.x                       237             7          2   \n",
       "misc.forsale                           2           290          8   \n",
       "rec.autos                              1            12        247   \n",
       "rec.motorcycles                        1             4         32   \n",
       "rec.sport.baseball                     0             5          8   \n",
       "rec.sport.hockey                       0             2          5   \n",
       "sci.crypt                              2             5          6   \n",
       "sci.electronics                       14            15         15   \n",
       "sci.med                                4             9         13   \n",
       "sci.space                              2             1         14   \n",
       "soc.religion.christian                 0             0          4   \n",
       "talk.politics.guns                     3             2         13   \n",
       "talk.politics.mideast                  0             1          8   \n",
       "talk.politics.misc                     2             1          9   \n",
       "talk.religion.misc                     2             3          3   \n",
       "\n",
       "                          rec.motorcycles  rec.sport.baseball  \\\n",
       "alt.atheism                            10                  15   \n",
       "comp.graphics                           5                  14   \n",
       "comp.os.ms-windows.misc                 4                  19   \n",
       "comp.sys.ibm.pc.hardware                3                   8   \n",
       "comp.sys.mac.hardware                   8                  17   \n",
       "comp.windows.x                          2                  12   \n",
       "misc.forsale                           15                  14   \n",
       "rec.autos                              22                  32   \n",
       "rec.motorcycles                       268                  22   \n",
       "rec.sport.baseball                     13                 287   \n",
       "rec.sport.hockey                        5                  35   \n",
       "sci.crypt                               9                  28   \n",
       "sci.electronics                        12                  17   \n",
       "sci.med                                16                  20   \n",
       "sci.space                               6                  24   \n",
       "soc.religion.christian                  6                  15   \n",
       "talk.politics.guns                     21                  21   \n",
       "talk.politics.mideast                   8                  12   \n",
       "talk.politics.misc                     12                  13   \n",
       "talk.religion.misc                      6                  11   \n",
       "\n",
       "                          rec.sport.hockey  sci.crypt  sci.electronics  \\\n",
       "alt.atheism                              1          3                8   \n",
       "comp.graphics                            2          4               17   \n",
       "comp.os.ms-windows.misc                  1          7                3   \n",
       "comp.sys.ibm.pc.hardware                 2          4               33   \n",
       "comp.sys.mac.hardware                    6          4               22   \n",
       "comp.windows.x                           0          4                4   \n",
       "misc.forsale                             1          1                9   \n",
       "rec.autos                                2          2               21   \n",
       "rec.motorcycles                          2          3               16   \n",
       "rec.sport.baseball                      29          0                4   \n",
       "rec.sport.hockey                       318          2                1   \n",
       "sci.crypt                                3        232               19   \n",
       "sci.electronics                          2         12              190   \n",
       "sci.med                                  2          4               10   \n",
       "sci.space                                4          7               20   \n",
       "soc.religion.christian                   1          2                4   \n",
       "talk.politics.guns                       3         13                1   \n",
       "talk.politics.mideast                    1          7                4   \n",
       "talk.politics.misc                       4          8                3   \n",
       "talk.religion.misc                       2          5                1   \n",
       "\n",
       "                          sci.med  sci.space  soc.religion.christian  \\\n",
       "alt.atheism                    11         11                      30   \n",
       "comp.graphics                   4         10                       1   \n",
       "comp.os.ms-windows.misc         6          8                       0   \n",
       "comp.sys.ibm.pc.hardware        3          3                       0   \n",
       "comp.sys.mac.hardware           2          7                       1   \n",
       "comp.windows.x                  1          7                       3   \n",
       "misc.forsale                    2          3                       0   \n",
       "rec.autos                       4          6                       3   \n",
       "rec.motorcycles                 5          8                       0   \n",
       "rec.sport.baseball              4          9                       6   \n",
       "rec.sport.hockey                3          6                       2   \n",
       "sci.crypt                       7         10                       1   \n",
       "sci.electronics                11         15                       1   \n",
       "sci.med                       244          9                      10   \n",
       "sci.space                      10        246                       4   \n",
       "soc.religion.christian         13          4                     258   \n",
       "talk.politics.guns              4          9                       7   \n",
       "talk.politics.mideast           4          3                      14   \n",
       "talk.politics.misc              5          9                       5   \n",
       "talk.religion.misc              9          7                      38   \n",
       "\n",
       "                          talk.politics.guns  talk.politics.mideast  \\\n",
       "alt.atheism                                9                     12   \n",
       "comp.graphics                              1                      3   \n",
       "comp.os.ms-windows.misc                    2                      4   \n",
       "comp.sys.ibm.pc.hardware                   0                      0   \n",
       "comp.sys.mac.hardware                      2                      0   \n",
       "comp.windows.x                             1                      4   \n",
       "misc.forsale                               1                      2   \n",
       "rec.autos                                  5                      3   \n",
       "rec.motorcycles                            3                      5   \n",
       "rec.sport.baseball                         2                      6   \n",
       "rec.sport.hockey                           3                      1   \n",
       "sci.crypt                                 15                      7   \n",
       "sci.electronics                            0                      4   \n",
       "sci.med                                    8                      4   \n",
       "sci.space                                  9                      2   \n",
       "soc.religion.christian                     0                     10   \n",
       "talk.politics.guns                       182                     12   \n",
       "talk.politics.mideast                     15                    239   \n",
       "talk.politics.misc                        77                     19   \n",
       "talk.religion.misc                        17                     14   \n",
       "\n",
       "                          talk.politics.misc  talk.religion.misc  \n",
       "alt.atheism                                8                  45  \n",
       "comp.graphics                              2                   4  \n",
       "comp.os.ms-windows.misc                    4                   3  \n",
       "comp.sys.ibm.pc.hardware                   1                   0  \n",
       "comp.sys.mac.hardware                      1                   0  \n",
       "comp.windows.x                             0                   0  \n",
       "misc.forsale                               2                   1  \n",
       "rec.autos                                 10                   5  \n",
       "rec.motorcycles                            8                   3  \n",
       "rec.sport.baseball                         7                   3  \n",
       "rec.sport.hockey                           3                   2  \n",
       "sci.crypt                                  7                   7  \n",
       "sci.electronics                            3                   0  \n",
       "sci.med                                    8                   3  \n",
       "sci.space                                 10                   5  \n",
       "soc.religion.christian                     3                  44  \n",
       "talk.politics.guns                        26                  24  \n",
       "talk.politics.mideast                     22                   9  \n",
       "talk.politics.misc                       108                  13  \n",
       "talk.religion.misc                        11                  76  "
      ]
     },
     "execution_count": 41,
     "metadata": {},
     "output_type": "execute_result"
    }
   ],
   "source": [
    "from sklearn.metrics import confusion_matrix\n",
    "# your code here\n",
    "# NB: it's handy to call `pd.DataFrame` on the confusion matrix to print it out nicely\n",
    "\n",
    "# Calculate the confusion matrix\n",
    "cm = confusion_matrix(data_test.target, preds)\n",
    "\n",
    "# Convert confusion matrix to a dataframe\n",
    "cm_df = pd.DataFrame(cm, index=data_train.target_names, columns=data_train.target_names)\n",
    "cm_df"
   ]
  },
  {
   "cell_type": "code",
   "execution_count": 44,
   "metadata": {},
   "outputs": [
    {
     "data": {
      "image/png": "[encoded data removed]",
      "text/plain": [
       "<Figure size 1200x1000 with 2 Axes>"
      ]
     },
     "metadata": {},
     "output_type": "display_data"
    }
   ],
   "source": [
    "import matplotlib.pyplot as plt\n",
    "import seaborn as sns\n",
    "\n",
    "# Plot the confusion matrix\n",
    "plt.figure(figsize=(12, 10))\n",
    "sns.heatmap(cm, annot=True, fmt='d', cmap='Blues', xticklabels=data_train.target_names, yticklabels=data_train.target_names)\n",
    "plt.xlabel('Predicted')\n",
    "plt.ylabel('Actual')\n",
    "plt.title('Confusion Matrix for 20 Newsgroups Dataset')\n",
    "plt.show()"
   ]
  },
  {
   "cell_type": "markdown",
   "metadata": {},
   "source": [
    "Comments on the most common failure modes.\n",
    "\n",
    "- Similar Topic Misclassification\n",
    "    - Classes that represent similar topics (e.g., comp.graphics and comp.os.ms-windows.misc or talk.politics.misc and talk.politics.guns) are likely to have high misclassification rates. This happens because the vocabulary and context are often shared between similar topics, making it harder for the model to differentiate between them.\n",
    "- Confusion Between Subtopics\n",
    "    - In subcategories within larger domains (e.g., rec.sport.baseball and rec.sport.hockey), the model might confuse these classes due to the overlap in general sports-related terms.\n",
    "- Overlapping Jargon\n",
    "    - Groups related to computer topics (comp.*) might share technical jargon, which leads to higher confusion among those categories.\n",
    "- General vs. Specific Topics\n",
    "    - Classes that cover general topics (e.g., soc.religion.christian vs. talk.religion.misc) may result in misclassifications because the model has trouble distinguishing between discussions of religion in general versus specific religious discussions."
   ]
  },
  {
   "cell_type": "markdown",
   "metadata": {},
   "source": [
    "# Problem 2: Multiclass Multilabel Problems (20 %)"
   ]
  },
  {
   "cell_type": "markdown",
   "metadata": {},
   "source": [
    "- In this problem we'll examine academic articles from the [arXiv](www.arxiv.org).\n",
    "- Authors who submit articles can attach one or more categories to the articles."
   ]
  },
  {
   "cell_type": "markdown",
   "metadata": {},
   "source": [
    "## Part 0: Load the data"
   ]
  },
  {
   "cell_type": "markdown",
   "metadata": {},
   "source": [
    "TODO\n",
    " - Load the data.\n",
    " - Compute all of the unique categories in the train data.\n",
    " - What are the 10 most common categories which occur together."
   ]
  },
  {
   "cell_type": "code",
   "execution_count": null,
   "metadata": {},
   "outputs": [],
   "source": [
    "with open('../../data/arxiv-qfin-train.json') as fi:\n",
    "    data_train = json.load(fi)\n",
    "\n",
    "with open('../../data/arxiv-qfin-test.json') as fi:\n",
    "    data_test = json.load(fi)\n",
    "\n",
    "    \n",
    "print(len(data_train), len(data_test))"
   ]
  },
  {
   "cell_type": "code",
   "execution_count": null,
   "metadata": {},
   "outputs": [],
   "source": []
  },
  {
   "cell_type": "code",
   "execution_count": 5,
   "metadata": {},
   "outputs": [],
   "source": [
    "# compute the unique categories here\n"
   ]
  },
  {
   "cell_type": "code",
   "execution_count": 6,
   "metadata": {},
   "outputs": [],
   "source": [
    "# compute the co-occuring categories here\n",
    "# Hint:\n",
    "#  - loop through all the train articles\n",
    "#  - loop through all the pairs of categories\n",
    "#  - keep track of the counts of every pair\n"
   ]
  },
  {
   "cell_type": "markdown",
   "metadata": {},
   "source": [
    "## Part 1: Encode the data"
   ]
  },
  {
   "cell_type": "markdown",
   "metadata": {},
   "source": [
    "We will encode the title of each article using a bag of words (`CountVectorizer`). Try limiting the features to about 20k. \n",
    "\n",
    "Encoding targets is as bit trickier for multilabel problems. In this case we want our target to be a matrix of $N_{samples} x N_{categories}$ but each row does not have to sum to 1.\n",
    " - NB: scikit learn as a `MultiLabelBinarizer` to help here. \n",
    "\n",
    "TODO\n",
    " - Fit a `CountVectorizer` on the titles to create `x_train` and `x_test`\n",
    " - Create `y_train` and `y_test` to be matrices of $N_{samples} x N_{categories}$ with all 0s and 1s"
   ]
  },
  {
   "cell_type": "code",
   "execution_count": null,
   "metadata": {},
   "outputs": [],
   "source": []
  },
  {
   "cell_type": "code",
   "execution_count": 19,
   "metadata": {},
   "outputs": [],
   "source": [
    "vec = CountVectorizer(...\n",
    "vec.fit(...\n",
    "x_train = ...\n",
    "x_test = ..."
   ]
  },
  {
   "cell_type": "code",
   "execution_count": null,
   "metadata": {},
   "outputs": [],
   "source": [
    "from sklearn.preprocessing import MultiLabelBinarizer\n",
    "\n",
    "mlb = MultiLabelBinarizer()\n",
    "# your code here\n",
    "\n",
    "y_train = ...\n",
    "y_test = ...\n",
    "print(y_train.shape, y_test.shape)\n",
    "print(list(mlb.classes_))"
   ]
  },
  {
   "cell_type": "code",
   "execution_count": null,
   "metadata": {},
   "outputs": [],
   "source": []
  },
  {
   "cell_type": "markdown",
   "metadata": {},
   "source": [
    "## Part 2: Model the data"
   ]
  },
  {
   "cell_type": "markdown",
   "metadata": {},
   "source": [
    "- While scikit-learn can't handle multilabel data in logistic regression, keras can. \n",
    "- Create and fit a multilabel logistic regression model and fit it. \n",
    "- NB: think hard about the activation function and loss function that are appropriate in this case!"
   ]
  },
  {
   "cell_type": "code",
   "execution_count": 29,
   "metadata": {},
   "outputs": [],
   "source": [
    "from keras.models import Model, Input\n",
    "from keras.layers import Dense, Softmax, Dropout\n",
    "import keras.backend as K\n",
    "\n",
    "K.clear_session()\n",
    "doc_input = Input( ...\n",
    "# your code here\n",
    "# dont forget to compile your model"
   ]
  },
  {
   "cell_type": "code",
   "execution_count": null,
   "metadata": {},
   "outputs": [],
   "source": [
    "model.fit(\n",
    "    ...\n",
    ")"
   ]
  },
  {
   "cell_type": "code",
   "execution_count": null,
   "metadata": {},
   "outputs": [],
   "source": [
    "pd.DataFrame(model.history.history)[['val_loss', 'val_accuracy']].plot(\n",
    "    figsize=(12,7), secondary_y='val_loss'\n",
    ")"
   ]
  },
  {
   "cell_type": "markdown",
   "metadata": {},
   "source": [
    "## Part 3: f1 score"
   ]
  },
  {
   "cell_type": "markdown",
   "metadata": {},
   "source": [
    "- While modeling is more difficult in the multilabel case, the metrics are, oddly, simpler. Here, we can only compute metrics class by class.\n",
    "- For each class, print the accuracy and f1 score for the class. Comment on the results. "
   ]
  },
  {
   "cell_type": "code",
   "execution_count": null,
   "metadata": {},
   "outputs": [],
   "source": [
    "preds = model.predict(...\n",
    "# loop through all the classes\n",
    "# compute and print the accuracy and f1 for that class\n",
    "for i, class_ in enumerate(mlb.classes_):\n",
    "    acc = accuracy_score(y_test[:, i], preds[:, i])\n",
    "    f1 = f1_score(y_test[:, i], preds[:, i])\n",
    "    print('class{} \\t\\tacc: {:.3f} \\tf1: {:.3f}'.format(class_, acc, f1))"
   ]
  },
  {
   "cell_type": "code",
   "execution_count": null,
   "metadata": {},
   "outputs": [],
   "source": []
  },
  {
   "cell_type": "code",
   "execution_count": null,
   "metadata": {},
   "outputs": [],
   "source": []
  },
  {
   "cell_type": "markdown",
   "metadata": {},
   "source": [
    "# Problem 3: New Metrics (30%)"
   ]
  },
  {
   "cell_type": "markdown",
   "metadata": {},
   "source": [
    "In this problem we'll explore new metrics associated with true positives and false positives."
   ]
  },
  {
   "cell_type": "markdown",
   "metadata": {},
   "source": [
    "## Part 1: Load the IMDB data and fit a model"
   ]
  },
  {
   "cell_type": "markdown",
   "metadata": {},
   "source": [
    " - Load the imdb data\n",
    " - Featurize the text using TFIDF\n",
    " - Fit logistic regression\n",
    " - Calculate the in-sample and out of sample accuracy and f1 score"
   ]
  },
  {
   "cell_type": "code",
   "execution_count": 16,
   "metadata": {},
   "outputs": [
    {
     "name": "stdout",
     "output_type": "stream",
     "text": [
      "Populating the interactive namespace from numpy and matplotlib\n",
      "found 25000 train docs and 25000 test docs\n"
     ]
    }
   ],
   "source": [
    "import os\n",
    "import glob\n",
    "import numpy as np\n",
    "import pandas as pd\n",
    "import matplotlib.pyplot as plt\n",
    "%pylab inline\n",
    "\n",
    "\n",
    "def load_imdb_data_text(imdb_data_dir, random_seed=1234):\n",
    "    train_dir = os.path.join(imdb_data_dir, 'train')\n",
    "    test_dir = os.path.join(imdb_data_dir, 'test')\n",
    "\n",
    "    np.random.seed(random_seed)\n",
    "    texts = []\n",
    "    targets = []\n",
    "    for label in ('pos', 'neg'):\n",
    "        data_dir = os.path.join(train_dir, label)\n",
    "        files = glob.glob(os.path.join(data_dir, '*.txt'))\n",
    "        for filename in files:\n",
    "            with open(filename) as fi:\n",
    "                text = fi.read()\n",
    "            target = (label == 'pos')\n",
    "            texts.append(text)\n",
    "            targets.append(target)\n",
    "\n",
    "    train_docs = texts\n",
    "    y_train = np.array(targets)\n",
    "\n",
    "\n",
    "    texts = []\n",
    "    targets = []\n",
    "    for label in ('pos', 'neg'):\n",
    "        data_dir = os.path.join(test_dir, label)\n",
    "        files = glob.glob(os.path.join(data_dir, '*.txt'))\n",
    "        for filename in files:\n",
    "            with open(filename) as fi:\n",
    "                text = fi.read()\n",
    "            target = (label == 'pos')\n",
    "            texts.append(text)\n",
    "            targets.append(target)\n",
    "\n",
    "    test_docs = texts\n",
    "    y_test = np.array(targets)\n",
    "\n",
    "    inds = np.arange(y_train.shape[0])\n",
    "    np.random.shuffle(inds)\n",
    "\n",
    "    train_docs = [train_docs[i] for i in inds]\n",
    "    y_train = y_train[inds]\n",
    "    \n",
    "    return (train_docs, y_train), (test_docs, y_test)\n",
    "\n",
    "(train_docs, y_train), (test_docs, y_test) = load_imdb_data_text('../../data/aclImdb/')\n",
    "print('found {} train docs and {} test docs'.format(len(train_docs), len(test_docs)))"
   ]
  },
  {
   "cell_type": "code",
   "execution_count": 2,
   "metadata": {},
   "outputs": [],
   "source": [
    "from sklearn.feature_extraction.text import TfidfVectorizer\n",
    "from sklearn.linear_model import LogisticRegression\n",
    "from sklearn.metrics import accuracy_score, f1_score"
   ]
  },
  {
   "cell_type": "code",
   "execution_count": null,
   "metadata": {},
   "outputs": [],
   "source": [
    "vec = TfidfVectorizer...\n",
    "# more code here\n",
    "\n",
    "\n",
    "# more code here\n",
    "preds_train = ...\n",
    "preds_test = ...\n",
    "\n",
    "print('#'*20 + ' in sample ' + '#'*20 )\n",
    "print('\\t\\taccuracy: {:.3f}'.format(accuracy_score(y_train, preds_train)))\n",
    "print('\\t\\tf1: {:.3f}'.format(f1_score(y_train, preds_train)))\n",
    "print('\\n\\n')\n",
    "print('#'*20 + ' out of sample ' + '#'*20 )\n",
    "print('\\t\\taccuracy: {:.3f}'.format(accuracy_score(y_test, preds_test)))\n",
    "print('\\t\\tf1: {:.3f}'.format(f1_score(y_test, preds_test)))"
   ]
  },
  {
   "cell_type": "markdown",
   "metadata": {},
   "source": [
    "## Part 2: Tradeoff between true positives and false positives"
   ]
  },
  {
   "cell_type": "markdown",
   "metadata": {},
   "source": [
    "Typically we take a threshold of 0.5 probability to consider something a positive example.\n",
    "However, as we change this threshold we can change the number of true positives we get.\n",
    " - Example: at a theshold of 0.0001 we will get nearly all of the true positives\n",
    " - Example: at a threshold of 0.999 we will get almost none of the true positives\n",
    "\n",
    "Notice: as we change our threshold and increase the number of true positives we will also increase the number of false positives we pick up.\n",
    "\n",
    "In this part you will create a graph of the false positive rate on the x-axis and the true positive rate on the y-axis. This is often called the `receiver operator characteristic`. Make this curve for the out of sample data below.\n",
    "\n",
    "Note: while you can use the builtin scikit-learn functionality for this, you will __not receive credit__ if you do. "
   ]
  },
  {
   "cell_type": "code",
   "execution_count": 17,
   "metadata": {},
   "outputs": [],
   "source": [
    "from tqdm import tqdm"
   ]
  },
  {
   "cell_type": "code",
   "execution_count": null,
   "metadata": {},
   "outputs": [],
   "source": [
    "# your code here\n",
    "# hint: \n",
    "#  - loop through the thresholds\n",
    "#  - calulcate the true positives and false positives\n",
    "\n",
    "# hint: what values for thresholds should you loop through?"
   ]
  },
  {
   "cell_type": "code",
   "execution_count": null,
   "metadata": {},
   "outputs": [],
   "source": [
    "pd.Series(true_pos_rates, index=false_pos_rates).plot(figsize=(12,8), fontsize=16)\n",
    "plt.xlabel('False Pos Rate', fontsize=16)\n",
    "plt.ylabel('True Pos Rate', fontsize=16)\n",
    "plt.title('Receiver Operator Characteristic', fontsize=20)"
   ]
  },
  {
   "cell_type": "markdown",
   "metadata": {},
   "source": [
    "## Part 3: Baseline"
   ]
  },
  {
   "cell_type": "markdown",
   "metadata": {},
   "source": [
    " - What does the receiver operator curve look like for a random guessing classifier? \n",
    " - Make the same plot as above but add the random guessing curve\n",
    " - Add comments about WHY the random guessing curve looks this way"
   ]
  },
  {
   "cell_type": "code",
   "execution_count": null,
   "metadata": {},
   "outputs": [],
   "source": [
    "ax = pd.Series(true_pos_rates, index=false_pos_rates, name='logistic regression').plot(\n",
    "    figsize=(12,8), fontsize=16\n",
    ")\n",
    "baseline_series = ... # your code here for the ROC for random guessing\n",
    "baseline_series.to_frame('random guess').plot(ax=ax, fontsize=16)\n",
    "plt.xlabel('False Pos Rate', fontsize=16)\n",
    "plt.ylabel('True Pos Rate', fontsize=16)\n",
    "plt.title('Receiver Operator Characteristic', fontsize=20)\n",
    "plt.legend(fontsize=16)"
   ]
  },
  {
   "cell_type": "code",
   "execution_count": 38,
   "metadata": {},
   "outputs": [],
   "source": [
    "# add comments here"
   ]
  },
  {
   "cell_type": "markdown",
   "metadata": {},
   "source": [
    "## Part 4: Boiling it down to a single number"
   ]
  },
  {
   "cell_type": "markdown",
   "metadata": {},
   "source": [
    " - While the ROC is a useful curve and contains a lot of information, it is useful to distill in down to a single number. Typically, the area under the curve is used. Calculate the area under the curve and add it as the title to your previous plot. \n",
    " - Hint: think about approximations for integrals for finding area under a curve"
   ]
  },
  {
   "cell_type": "code",
   "execution_count": null,
   "metadata": {},
   "outputs": [],
   "source": [
    "area_under = # your code here\n",
    "\n",
    "\n",
    "# repeat the plotting code here\n",
    "\n",
    "plt.title('Area under the curve = {:.3f}'.format(area_under, fontsize=20))\n",
    "plt.legend(fontsize=16)"
   ]
  },
  {
   "cell_type": "markdown",
   "metadata": {},
   "source": [
    "## Part 5: Check you work and comment on the results"
   ]
  },
  {
   "cell_type": "markdown",
   "metadata": {},
   "source": [
    " - \"There's gotta be a better way!\"\n",
    " - In fact, `scikit-learn` will take care of a lot of the headache here. \n",
    " - `from sklearn.metrics import plot_roc_curve`\n",
    " - read the docs and use this function"
   ]
  },
  {
   "cell_type": "code",
   "execution_count": null,
   "metadata": {},
   "outputs": [],
   "source": [
    "from sklearn.metrics import plot_roc_curve, auc\n",
    "# your code here"
   ]
  },
  {
   "cell_type": "markdown",
   "metadata": {},
   "source": [
    "### A few comments:\n",
    " - The area under the ROC has a nice interpretation. It can be thought of as the probability that a randomly chosen positive example has a higher probability than a randomly chosen negative example.\n",
    " - This metric is also nice since it is independent of a threshold. "
   ]
  },
  {
   "cell_type": "code",
   "execution_count": null,
   "metadata": {},
   "outputs": [],
   "source": []
  },
  {
   "cell_type": "code",
   "execution_count": null,
   "metadata": {},
   "outputs": [],
   "source": []
  },
  {
   "cell_type": "markdown",
   "metadata": {},
   "source": [
    "# Problem 4: Examining Coefficients (20%)"
   ]
  },
  {
   "cell_type": "markdown",
   "metadata": {},
   "source": [
    "In class we skipped an important step: we never made sure our models made sense. \n",
    "Logistic regression provides coefficients, which allow us to determine if a model\n",
    "if learning anything reasonable. \n",
    "\n",
    "In this problem, you'll load the imdb data, fit logistic regression and exmamine the coefficients. \n",
    "Print out the largest and smallest (largest negative) coefficients and comment on the results."
   ]
  },
  {
   "cell_type": "code",
   "execution_count": 8,
   "metadata": {},
   "outputs": [],
   "source": [
    "import os\n",
    "import glob\n",
    "import numpy as np\n",
    "import pandas as pd\n",
    "import matplotlib.pyplot as plt\n",
    "%pylab inline\n",
    "\n",
    "# copy code from above to load the data\n"
   ]
  },
  {
   "cell_type": "code",
   "execution_count": 2,
   "metadata": {},
   "outputs": [
    {
     "name": "stdout",
     "output_type": "stream",
     "text": [
      "found 25000 train docs and 25000 test docs\n"
     ]
    }
   ],
   "source": [
    "(train_docs, y_train), (test_docs, y_test) = load_imdb_data_text('../../data/aclImdb/')\n",
    "print('found {} train docs and {} test docs'.format(len(train_docs), len(test_docs)))"
   ]
  },
  {
   "cell_type": "code",
   "execution_count": 3,
   "metadata": {},
   "outputs": [],
   "source": [
    "from sklearn.feature_extraction.text import TfidfVectorizer\n",
    "from sklearn.linear_model import LogisticRegression\n",
    "\n",
    "vec = TfidfVectorizer(...\n",
    "# more code here\n",
    "                      \n",
    "lr = LogisticRegression(...\n"
   ]
  },
  {
   "cell_type": "code",
   "execution_count": null,
   "metadata": {},
   "outputs": [],
   "source": [
    "# Hint: you can call `vec.get_feature_names` to get the words in order\n",
    "# that correspond to the columns of the TFIDF matrix \n",
    "# This is useful to pass to the index of a pd.Series"
   ]
  },
  {
   "cell_type": "code",
   "execution_count": null,
   "metadata": {},
   "outputs": [],
   "source": [
    "coefs = pd.Series(...)\n",
    "\n",
    "# NB: to get the largest items in a series by abs try\n",
    "#    coefs.loc[coefs.abs().nlargest(20).index]"
   ]
  },
  {
   "cell_type": "code",
   "execution_count": 9,
   "metadata": {},
   "outputs": [],
   "source": [
    "# comments here"
   ]
  },
  {
   "cell_type": "code",
   "execution_count": null,
   "metadata": {},
   "outputs": [],
   "source": []
  },
  {
   "cell_type": "code",
   "execution_count": null,
   "metadata": {},
   "outputs": [],
   "source": []
  }
 ],
 "metadata": {
  "kernelspec": {
   "display_name": "venv_nlp",
   "language": "python",
   "name": "python3"
  },
  "language_info": {
   "codemirror_mode": {
    "name": "ipython",
    "version": 3
   },
   "file_extension": ".py",
   "mimetype": "text/x-python",
   "name": "python",
   "nbconvert_exporter": "python",
   "pygments_lexer": "ipython3",
   "version": "3.10.11"
  }
 },
 "nbformat": 4,
 "nbformat_minor": 4
}
