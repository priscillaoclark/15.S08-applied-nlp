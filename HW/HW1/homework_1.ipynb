{
 "cells": [
  {
   "cell_type": "markdown",
   "metadata": {},
   "source": [
    "# Homework Problem 0: Making sure you're set up with python\n",
    "### You will need to be able to run all of these cells without error"
   ]
  },
  {
   "cell_type": "code",
   "execution_count": 1,
   "metadata": {},
   "outputs": [],
   "source": [
    "import numpy as np\n",
    "import pandas as pd \n",
    "%matplotlib inline"
   ]
  },
  {
   "cell_type": "code",
   "execution_count": 2,
   "metadata": {},
   "outputs": [
    {
     "name": "stderr",
     "output_type": "stream",
     "text": [
      "100%|██████████| 3/3 [00:00<00:00, 38956.38it/s]"
     ]
    },
    {
     "name": "stdout",
     "output_type": "stream",
     "text": [
      "look at the pretty progress bar\n",
      "look at the pretty progress bar\n",
      "look at the pretty progress bar\n"
     ]
    },
    {
     "name": "stderr",
     "output_type": "stream",
     "text": [
      "\n"
     ]
    }
   ],
   "source": [
    "import tqdm\n",
    "\n",
    "\n",
    "for i in tqdm.tqdm(range(3)):\n",
    "    print(\"look at the pretty progress bar\")\n"
   ]
  },
  {
   "cell_type": "code",
   "execution_count": 3,
   "metadata": {},
   "outputs": [
    {
     "data": {
      "text/plain": [
       "array([135, 145, 155])"
      ]
     },
     "execution_count": 3,
     "metadata": {},
     "output_type": "execute_result"
    }
   ],
   "source": [
    "# make sure numpy works\n",
    "arr = np.arange(30).reshape(10, 3)\n",
    "arr.sum(axis=0)"
   ]
  },
  {
   "cell_type": "code",
   "execution_count": 4,
   "metadata": {},
   "outputs": [
    {
     "data": {
      "text/plain": [
       "<Axes: >"
      ]
     },
     "execution_count": 4,
     "metadata": {},
     "output_type": "execute_result"
    },
    {
     "data": {
      "image/png": "[encoded data removed]",
      "text/plain": [
       "<Figure size 640x480 with 1 Axes>"
      ]
     },
     "metadata": {},
     "output_type": "display_data"
    }
   ],
   "source": [
    "# make sure pandas works\n",
    "pd.Series(range(10), index=list(\"abcdefghij\")).plot()"
   ]
  },
  {
   "cell_type": "code",
   "execution_count": 5,
   "metadata": {},
   "outputs": [
    {
     "data": {
      "text/plain": [
       "array([1., 1., 1., 1., 1., 1., 1., 1., 1., 1.])"
      ]
     },
     "execution_count": 5,
     "metadata": {},
     "output_type": "execute_result"
    }
   ],
   "source": [
    "# make sure scikit learn works\n",
    "from sklearn.preprocessing import normalize\n",
    "\n",
    "arr = np.arange(30).reshape(10, 3)\n",
    "new_arr = normalize(arr)\n",
    "(new_arr * new_arr).sum(axis=1)"
   ]
  },
  {
   "cell_type": "code",
   "execution_count": 6,
   "metadata": {},
   "outputs": [],
   "source": [
    "from tensorflow.keras.utils import to_categorical\n",
    "\n",
    "arr = np.array([[1, 2, 1, 0, 5], [3, 4, 1, 0, 5]])\n",
    "assert to_categorical(arr).shape == (2, 5, 6)"
   ]
  },
  {
   "cell_type": "code",
   "execution_count": 7,
   "metadata": {},
   "outputs": [
    {
     "name": "stdout",
     "output_type": "stream",
     "text": [
      "[[-1.003889]\n",
      " [-1.003889]\n",
      " [-1.003889]\n",
      " [-1.003889]\n",
      " [-1.003889]\n",
      " [-1.003889]\n",
      " [-1.003889]\n",
      " [-1.003889]\n",
      " [-1.003889]\n",
      " [-1.003889]]\n"
     ]
    },
    {
     "name": "stderr",
     "output_type": "stream",
     "text": [
      "/Users/bluebird/.pyenv/versions/3.10.11/envs/venv310/lib/python3.10/site-packages/keras/src/layers/core/dense.py:87: UserWarning: Do not pass an `input_shape`/`input_dim` argument to a layer. When using Sequential models, prefer using an `Input(shape)` object as the first layer in the model instead.\n",
      "  super().__init__(activity_regularizer=activity_regularizer, **kwargs)\n"
     ]
    }
   ],
   "source": [
    "from tensorflow.keras.layers import Input, Dense\n",
    "from tensorflow.keras.models import Model\n",
    "import tensorflow.keras.backend as K\n",
    "import tensorflow as tf\n",
    "\n",
    "K.clear_session()\n",
    "inpt = Input(shape=(10,))\n",
    "mat = Dense(1, input_shape=(10,))\n",
    "\n",
    "res = mat(K.variable(np.ones((10, 1))))\n",
    "\n",
    "if tf.__version__.startswith(\"1\"):\n",
    "    print(\n",
    "        f\"you have tensorflow version {tf.__version__}.\"\n",
    "        \"Your code may not be compatible with everything we do in class\"\n",
    "    )\n",
    "    result = K.eval(res)\n",
    "else:\n",
    "    result = res.numpy()\n",
    "    assert (result == K.eval(res)).all()\n",
    "\n",
    "print(result)"
   ]
  },
  {
   "cell_type": "code",
   "execution_count": 8,
   "metadata": {},
   "outputs": [
    {
     "data": {
      "text/html": [
       "<pre style=\"white-space:pre;overflow-x:auto;line-height:normal;font-family:Menlo,'DejaVu Sans Mono',consolas,'Courier New',monospace\"><span style=\"font-weight: bold\">Model: \"functional\"</span>\n",
       "</pre>\n"
      ],
      "text/plain": [
       "\u001b[1mModel: \"functional\"\u001b[0m\n"
      ]
     },
     "metadata": {},
     "output_type": "display_data"
    },
    {
     "data": {
      "text/html": [
       "<pre style=\"white-space:pre;overflow-x:auto;line-height:normal;font-family:Menlo,'DejaVu Sans Mono',consolas,'Courier New',monospace\">┏━━━━━━━━━━━━━━━━━━━━━━━━━━━━━━━━━┳━━━━━━━━━━━━━━━━━━━━━━━━┳━━━━━━━━━━━━━━━┓\n",
       "┃<span style=\"font-weight: bold\"> Layer (type)                    </span>┃<span style=\"font-weight: bold\"> Output Shape           </span>┃<span style=\"font-weight: bold\">       Param # </span>┃\n",
       "┡━━━━━━━━━━━━━━━━━━━━━━━━━━━━━━━━━╇━━━━━━━━━━━━━━━━━━━━━━━━╇━━━━━━━━━━━━━━━┩\n",
       "│ input_layer (<span style=\"color: #0087ff; text-decoration-color: #0087ff\">InputLayer</span>)        │ (<span style=\"color: #00d7ff; text-decoration-color: #00d7ff\">None</span>, <span style=\"color: #00af00; text-decoration-color: #00af00\">10</span>)             │             <span style=\"color: #00af00; text-decoration-color: #00af00\">0</span> │\n",
       "├─────────────────────────────────┼────────────────────────┼───────────────┤\n",
       "│ dense (<span style=\"color: #0087ff; text-decoration-color: #0087ff\">Dense</span>)                   │ (<span style=\"color: #00d7ff; text-decoration-color: #00d7ff\">None</span>, <span style=\"color: #00af00; text-decoration-color: #00af00\">1</span>)              │            <span style=\"color: #00af00; text-decoration-color: #00af00\">11</span> │\n",
       "└─────────────────────────────────┴────────────────────────┴───────────────┘\n",
       "</pre>\n"
      ],
      "text/plain": [
       "┏━━━━━━━━━━━━━━━━━━━━━━━━━━━━━━━━━┳━━━━━━━━━━━━━━━━━━━━━━━━┳━━━━━━━━━━━━━━━┓\n",
       "┃\u001b[1m \u001b[0m\u001b[1mLayer (type)                   \u001b[0m\u001b[1m \u001b[0m┃\u001b[1m \u001b[0m\u001b[1mOutput Shape          \u001b[0m\u001b[1m \u001b[0m┃\u001b[1m \u001b[0m\u001b[1m      Param #\u001b[0m\u001b[1m \u001b[0m┃\n",
       "┡━━━━━━━━━━━━━━━━━━━━━━━━━━━━━━━━━╇━━━━━━━━━━━━━━━━━━━━━━━━╇━━━━━━━━━━━━━━━┩\n",
       "│ input_layer (\u001b[38;5;33mInputLayer\u001b[0m)        │ (\u001b[38;5;45mNone\u001b[0m, \u001b[38;5;34m10\u001b[0m)             │             \u001b[38;5;34m0\u001b[0m │\n",
       "├─────────────────────────────────┼────────────────────────┼───────────────┤\n",
       "│ dense (\u001b[38;5;33mDense\u001b[0m)                   │ (\u001b[38;5;45mNone\u001b[0m, \u001b[38;5;34m1\u001b[0m)              │            \u001b[38;5;34m11\u001b[0m │\n",
       "└─────────────────────────────────┴────────────────────────┴───────────────┘\n"
      ]
     },
     "metadata": {},
     "output_type": "display_data"
    },
    {
     "data": {
      "text/html": [
       "<pre style=\"white-space:pre;overflow-x:auto;line-height:normal;font-family:Menlo,'DejaVu Sans Mono',consolas,'Courier New',monospace\"><span style=\"font-weight: bold\"> Total params: </span><span style=\"color: #00af00; text-decoration-color: #00af00\">11</span> (44.00 B)\n",
       "</pre>\n"
      ],
      "text/plain": [
       "\u001b[1m Total params: \u001b[0m\u001b[38;5;34m11\u001b[0m (44.00 B)\n"
      ]
     },
     "metadata": {},
     "output_type": "display_data"
    },
    {
     "data": {
      "text/html": [
       "<pre style=\"white-space:pre;overflow-x:auto;line-height:normal;font-family:Menlo,'DejaVu Sans Mono',consolas,'Courier New',monospace\"><span style=\"font-weight: bold\"> Trainable params: </span><span style=\"color: #00af00; text-decoration-color: #00af00\">11</span> (44.00 B)\n",
       "</pre>\n"
      ],
      "text/plain": [
       "\u001b[1m Trainable params: \u001b[0m\u001b[38;5;34m11\u001b[0m (44.00 B)\n"
      ]
     },
     "metadata": {},
     "output_type": "display_data"
    },
    {
     "data": {
      "text/html": [
       "<pre style=\"white-space:pre;overflow-x:auto;line-height:normal;font-family:Menlo,'DejaVu Sans Mono',consolas,'Courier New',monospace\"><span style=\"font-weight: bold\"> Non-trainable params: </span><span style=\"color: #00af00; text-decoration-color: #00af00\">0</span> (0.00 B)\n",
       "</pre>\n"
      ],
      "text/plain": [
       "\u001b[1m Non-trainable params: \u001b[0m\u001b[38;5;34m0\u001b[0m (0.00 B)\n"
      ]
     },
     "metadata": {},
     "output_type": "display_data"
    }
   ],
   "source": [
    "K.clear_session()\n",
    "inpt = Input(shape=(10,))\n",
    "mat = Dense(1, input_shape=(10,))\n",
    "outpt = mat(inpt)\n",
    "\n",
    "model = Model(inpt, outpt)\n",
    "model.compile(\"adam\", loss=\"binary_crossentropy\")\n",
    "assert model.count_params() == 11\n",
    "model.summary()\n"
   ]
  },
  {
   "cell_type": "markdown",
   "metadata": {},
   "source": [
    "# Homework Problem 1: Company Descriptions from Wikipedia\n",
    "Downloading data from the web is a large part of working with text.\n",
    "Importantly, it can be difficult to find the __right__ data. \n",
    "Here, we will download the company descriptions from wikipedia for the current set of S&P500 companies. \n",
    "\n",
    "## The `wikipedia` package\n",
    "You can install it with `pip install wikipedia`\n",
    "\n",
    "We will use `wikipeda.page` to grab data\n",
    "```python\n",
    "import wikipedia\n",
    "\n",
    "page = wikipedia.page(page_url)\n",
    "print(page.content)\n",
    "```"
   ]
  },
  {
   "cell_type": "code",
   "execution_count": 9,
   "metadata": {},
   "outputs": [],
   "source": [
    "import numpy as np\n",
    "import pandas as pd\n",
    "%matplotlib inline\n",
    "\n",
    "from tqdm import tqdm\n",
    "import wikipedia"
   ]
  },
  {
   "cell_type": "markdown",
   "metadata": {},
   "source": [
    "## Part 0: get the list of the S&P500 companies\n",
    "### Hint, a `wikipedia` page has a method `html()` which returns the html from the page\n",
    "### pandas has `read_html` https://pandas.pydata.org/pandas-docs/version/0.23.4/generated/pandas.read_html.html"
   ]
  },
  {
   "cell_type": "code",
   "execution_count": 2,
   "metadata": {},
   "outputs": [
    {
     "name": "stdout",
     "output_type": "stream",
     "text": [
      "503\n"
     ]
    }
   ],
   "source": [
    "import requests\n",
    "from bs4 import BeautifulSoup\n",
    "import json\n",
    "\n",
    "# URL of the Wikipedia page\n",
    "url = \"https://en.wikipedia.org/wiki/List_of_S%26P_500_companies\"\n",
    "\n",
    "# Send a GET request to the URL\n",
    "response = requests.get(url)\n",
    "\n",
    "# Parse the HTML content\n",
    "soup = BeautifulSoup(response.content, 'html.parser')\n",
    "\n",
    "# Find the table with class 'wikitable sortable'\n",
    "table = soup.find('table', {'class': 'wikitable sortable'})\n",
    "\n",
    "# Initialize a list to store company data\n",
    "companies = []\n",
    "\n",
    "# Iterate through table rows, skipping the header\n",
    "for row in table.find_all('tr')[1:]:\n",
    "    cols = row.find_all('td')\n",
    "    if len(cols) >= 8:  # Ensure we have the right table\n",
    "        \n",
    "        # Find instances of links in the first two columns\n",
    "        symbol_link = cols[0].find('a')\n",
    "        name_link = cols[1].find('a')\n",
    "        \n",
    "        company = {\n",
    "            \"symbol\": cols[0].text.strip(),\n",
    "            \"name\": cols[1].text.strip(),\n",
    "            \"gics_sector\": cols[2].text.strip(),\n",
    "            \"gics_sub_sector\": cols[3].text.strip(),\n",
    "            \"headquarters\": cols[4].text.strip(),\n",
    "            \"date_added\": cols[5].text.strip(),\n",
    "            \"cik\": cols[6].text.strip(),\n",
    "            \"founded\": cols[7].text.strip(),\n",
    "            \"wikipedia_page\": f\"https://en.wikipedia.org{name_link['href']}\" if name_link else None,\n",
    "            \"nyse_page\": f\"{symbol_link['href']}\" if symbol_link else None\n",
    "        }\n",
    "        companies.append(company)\n",
    "\n",
    "# print(companies[0])\n",
    "print(len(companies))"
   ]
  },
  {
   "cell_type": "markdown",
   "metadata": {},
   "source": [
    "## Part 2: For every S&P500 company, get the page content"
   ]
  },
  {
   "cell_type": "code",
   "execution_count": 11,
   "metadata": {},
   "outputs": [
    {
     "name": "stderr",
     "output_type": "stream",
     "text": [
      "  9%|▉         | 45/503 [01:08<11:42,  1.53s/it]"
     ]
    },
    {
     "name": "stdout",
     "output_type": "stream",
     "text": [
      "Problem using https://en.wikipedia.org/wiki/Arthur_J._Gallagher_%26_Co., using search term instead.\n"
     ]
    },
    {
     "name": "stderr",
     "output_type": "stream",
     "text": [
      "  9%|▉         | 47/503 [01:11<11:45,  1.55s/it]"
     ]
    },
    {
     "name": "stdout",
     "output_type": "stream",
     "text": [
      "Problem using https://en.wikipedia.org/wiki/AT%26T, using search term instead.\n"
     ]
    },
    {
     "name": "stderr",
     "output_type": "stream",
     "text": [
      " 12%|█▏        | 59/503 [01:29<11:57,  1.62s/it]"
     ]
    },
    {
     "name": "stdout",
     "output_type": "stream",
     "text": [
      "Problem using https://en.wikipedia.org/wiki/Bath_%26_Body_Works,_Inc., using search term instead.\n"
     ]
    },
    {
     "name": "stderr",
     "output_type": "stream",
     "text": [
      " 15%|█▌        | 76/503 [01:56<10:55,  1.53s/it]"
     ]
    },
    {
     "name": "stdout",
     "output_type": "stream",
     "text": [
      "Problem using https://en.wikipedia.org/wiki/Brown_%26_Brown, using search term instead.\n"
     ]
    },
    {
     "name": "stderr",
     "output_type": "stream",
     "text": [
      " 15%|█▌        | 77/503 [01:58<11:16,  1.59s/it]"
     ]
    },
    {
     "name": "stdout",
     "output_type": "stream",
     "text": [
      "Problem using https://en.wikipedia.org/wiki/Brown%E2%80%93Forman, using search term instead.\n"
     ]
    },
    {
     "name": "stderr",
     "output_type": "stream",
     "text": [
      " 18%|█▊        | 89/503 [02:16<10:41,  1.55s/it]"
     ]
    },
    {
     "name": "stdout",
     "output_type": "stream",
     "text": [
      "Problem using https://en.wikipedia.org/wiki/Carnival_Corporation_%26_plc, using search term instead.\n"
     ]
    },
    {
     "name": "stderr",
     "output_type": "stream",
     "text": [
      " 21%|██▏       | 107/503 [02:44<10:12,  1.55s/it]"
     ]
    },
    {
     "name": "stdout",
     "output_type": "stream",
     "text": [
      "Problem using https://en.wikipedia.org/wiki/Church_%26_Dwight, using search term instead.\n"
     ]
    },
    {
     "name": "stderr",
     "output_type": "stream",
     "text": [
      " 29%|██▊       | 144/503 [03:39<08:45,  1.46s/it]"
     ]
    },
    {
     "name": "stdout",
     "output_type": "stream",
     "text": [
      "Problem using https://en.wikipedia.org/wiki/Deere_%26_Company, using search term instead.\n"
     ]
    },
    {
     "name": "stderr",
     "output_type": "stream",
     "text": [
      " 31%|███       | 154/503 [03:55<09:08,  1.57s/it]"
     ]
    },
    {
     "name": "stdout",
     "output_type": "stream",
     "text": [
      "Problem using https://en.wikipedia.org/wiki/Domino%27s, using search term instead.\n"
     ]
    },
    {
     "name": "stderr",
     "output_type": "stream",
     "text": [
      " 36%|███▌      | 180/503 [04:35<06:12,  1.15s/it]"
     ]
    },
    {
     "name": "stdout",
     "output_type": "stream",
     "text": [
      "Problem using https://en.wikipedia.org/wiki/The_Est%C3%A9e_Lauder_Companies, using search term instead.\n",
      "Page not found for Estée Lauder Companies (The), returning None.\n"
     ]
    },
    {
     "name": "stderr",
     "output_type": "stream",
     "text": [
      " 47%|████▋     | 238/503 [06:04<06:33,  1.49s/it]"
     ]
    },
    {
     "name": "stdout",
     "output_type": "stream",
     "text": [
      "Problem using https://en.wikipedia.org/wiki/Host_Hotels_%26_Resorts, using search term instead.\n"
     ]
    },
    {
     "name": "stderr",
     "output_type": "stream",
     "text": [
      " 50%|████▉     | 251/503 [06:24<06:22,  1.52s/it]"
     ]
    },
    {
     "name": "stdout",
     "output_type": "stream",
     "text": [
      "Problem using https://en.wikipedia.org/w/index.php?title=Insulet_Corporation&action=edit&redlink=1, using search term instead.\n"
     ]
    },
    {
     "name": "stderr",
     "output_type": "stream",
     "text": [
      " 50%|█████     | 252/503 [06:24<05:00,  1.20s/it]"
     ]
    },
    {
     "name": "stdout",
     "output_type": "stream",
     "text": [
      "Page not found for Insulet Corporation, returning None.\n"
     ]
    },
    {
     "name": "stderr",
     "output_type": "stream",
     "text": [
      " 50%|█████     | 254/503 [06:27<05:30,  1.33s/it]"
     ]
    },
    {
     "name": "stdout",
     "output_type": "stream",
     "text": [
      "Problem using https://en.wikipedia.org/wiki/International_Flavors_%26_Fragrances, using search term instead.\n"
     ]
    },
    {
     "name": "stderr",
     "output_type": "stream",
     "text": [
      " 53%|█████▎    | 265/503 [06:44<06:23,  1.61s/it]"
     ]
    },
    {
     "name": "stdout",
     "output_type": "stream",
     "text": [
      "Problem using https://en.wikipedia.org/wiki/Jack_Henry_%26_Associates, using search term instead.\n"
     ]
    },
    {
     "name": "stderr",
     "output_type": "stream",
     "text": [
      " 53%|█████▎    | 267/503 [06:47<06:13,  1.58s/it]"
     ]
    },
    {
     "name": "stdout",
     "output_type": "stream",
     "text": [
      "Problem using https://en.wikipedia.org/wiki/Johnson_%26_Johnson, using search term instead.\n"
     ]
    },
    {
     "name": "stderr",
     "output_type": "stream",
     "text": [
      " 59%|█████▉    | 296/503 [07:32<05:19,  1.54s/it]"
     ]
    },
    {
     "name": "stdout",
     "output_type": "stream",
     "text": [
      "Problem using https://en.wikipedia.org/wiki/Lowe%27s, using search term instead.\n"
     ]
    },
    {
     "name": "stderr",
     "output_type": "stream",
     "text": [
      " 59%|█████▉    | 299/503 [07:37<05:07,  1.51s/it]"
     ]
    },
    {
     "name": "stdout",
     "output_type": "stream",
     "text": [
      "Problem using https://en.wikipedia.org/wiki/M%26T_Bank, using search term instead.\n"
     ]
    },
    {
     "name": "stderr",
     "output_type": "stream",
     "text": [
      " 61%|██████▏   | 309/503 [07:52<05:08,  1.59s/it]"
     ]
    },
    {
     "name": "stdout",
     "output_type": "stream",
     "text": [
      "Problem using https://en.wikipedia.org/wiki/McCormick_%26_Company, using search term instead.\n"
     ]
    },
    {
     "name": "stderr",
     "output_type": "stream",
     "text": [
      " 62%|██████▏   | 310/503 [07:54<05:11,  1.61s/it]"
     ]
    },
    {
     "name": "stdout",
     "output_type": "stream",
     "text": [
      "Problem using https://en.wikipedia.org/wiki/McDonald%27s, using search term instead.\n"
     ]
    },
    {
     "name": "stderr",
     "output_type": "stream",
     "text": [
      " 62%|██████▏   | 313/503 [07:58<04:54,  1.55s/it]"
     ]
    },
    {
     "name": "stdout",
     "output_type": "stream",
     "text": [
      "Problem using https://en.wikipedia.org/wiki/Merck_%26_Co., using search term instead.\n"
     ]
    },
    {
     "name": "stderr",
     "output_type": "stream",
     "text": [
      " 65%|██████▌   | 329/503 [08:23<04:28,  1.54s/it]"
     ]
    },
    {
     "name": "stdout",
     "output_type": "stream",
     "text": [
      "Problem using https://en.wikipedia.org/wiki/Moody%27s_Corporation, using search term instead.\n"
     ]
    },
    {
     "name": "stderr",
     "output_type": "stream",
     "text": [
      " 70%|███████   | 353/503 [08:59<03:39,  1.46s/it]"
     ]
    },
    {
     "name": "stdout",
     "output_type": "stream",
     "text": [
      "Problem using https://en.wikipedia.org/wiki/O%27Reilly_Auto_Parts, using search term instead.\n"
     ]
    },
    {
     "name": "stderr",
     "output_type": "stream",
     "text": [
      " 74%|███████▍  | 372/503 [09:28<03:20,  1.53s/it]"
     ]
    },
    {
     "name": "stdout",
     "output_type": "stream",
     "text": [
      "Problem using https://en.wikipedia.org/wiki/PG%26E, using search term instead.\n"
     ]
    },
    {
     "name": "stderr",
     "output_type": "stream",
     "text": [
      " 76%|███████▌  | 381/503 [09:42<03:03,  1.51s/it]"
     ]
    },
    {
     "name": "stdout",
     "output_type": "stream",
     "text": [
      "Problem using https://en.wikipedia.org/wiki/Procter_%26_Gamble, using search term instead.\n"
     ]
    },
    {
     "name": "stderr",
     "output_type": "stream",
     "text": [
      " 81%|████████  | 408/503 [10:24<02:24,  1.52s/it]"
     ]
    },
    {
     "name": "stdout",
     "output_type": "stream",
     "text": [
      "Problem using https://en.wikipedia.org/wiki/S%26P_Global, using search term instead.\n"
     ]
    },
    {
     "name": "stderr",
     "output_type": "stream",
     "text": [
      " 84%|████████▍ | 424/503 [10:48<01:57,  1.48s/it]"
     ]
    },
    {
     "name": "stdout",
     "output_type": "stream",
     "text": [
      "Problem using https://en.wikipedia.org/wiki/Stanley_Black_%26_Decker, using search term instead.\n"
     ]
    },
    {
     "name": "stderr",
     "output_type": "stream",
     "text": [
      "100%|██████████| 503/503 [12:48<00:00,  1.53s/it]\n"
     ]
    }
   ],
   "source": [
    "import time\n",
    "\n",
    "# Scrape all pages\n",
    "for company in tqdm(companies):\n",
    "    try:\n",
    "        url = company['wikipedia_page'].split(\"/\")[-1]\n",
    "        page = wikipedia.page(url, auto_suggest=False)\n",
    "        company['page_content'] = page.content\n",
    "        time.sleep(1)\n",
    "    except Exception as e:\n",
    "        print(f\"Problem using {company['wikipedia_page']}, using search term instead.\")\n",
    "        try:\n",
    "            page = wikipedia.page(company['name'], auto_suggest=False)\n",
    "            company['page_content'] = page.content\n",
    "            time.sleep(1)\n",
    "        except wikipedia.exceptions.PageError:\n",
    "            print(f\"Page not found for {company['name']}, returning None.\")"
   ]
  },
  {
   "cell_type": "markdown",
   "metadata": {},
   "source": [
    "### Testing"
   ]
  },
  {
   "cell_type": "code",
   "execution_count": 12,
   "metadata": {},
   "outputs": [
    {
     "name": "stdout",
     "output_type": "stream",
     "text": [
      "[{'symbol': 'EL', 'name': 'Estée Lauder Companies (The)', 'gics_sector': 'Consumer Staples', 'gics_sub_sector': 'Personal Care Products', 'headquarters': 'New York City, New York', 'date_added': '2006-01-05', 'cik': '0001001250', 'founded': '1946', 'wikipedia_page': 'https://en.wikipedia.org/wiki/The_Est%C3%A9e_Lauder_Companies', 'nyse_page': 'https://www.nyse.com/quote/XNYS:EL'}, {'symbol': 'PODD', 'name': 'Insulet Corporation', 'gics_sector': 'Health Care', 'gics_sub_sector': 'Health Care Equipment', 'headquarters': 'Acton, Massachusetts', 'date_added': '2023-03-15', 'cik': '0001145197', 'founded': '2000', 'wikipedia_page': 'https://en.wikipedia.org/w/index.php?title=Insulet_Corporation&action=edit&redlink=1', 'nyse_page': 'https://www.nasdaq.com/market-activity/stocks/podd'}]\n",
      "2\n"
     ]
    }
   ],
   "source": [
    "#Check for companies that had an error and store into a new list\n",
    "error_companies = [company for company in companies if 'page_content' not in company]\n",
    "print(error_companies)\n",
    "print(len(error_companies))"
   ]
  },
  {
   "cell_type": "code",
   "execution_count": 13,
   "metadata": {},
   "outputs": [],
   "source": [
    "# Fix the error companies manually\n",
    "for company in companies: \n",
    "    if company['symbol'] == 'EL':\n",
    "        url = \"The_Estée_Lauder_Companies\"\n",
    "        page = wikipedia.page(url, auto_suggest=False)\n",
    "        company['page_content'] = page.content\n",
    "    if company['symbol'] == 'PODD':\n",
    "        company['page_content'] = \"No page found\"\n"
   ]
  },
  {
   "cell_type": "code",
   "execution_count": 14,
   "metadata": {},
   "outputs": [
    {
     "name": "stdout",
     "output_type": "stream",
     "text": [
      "[]\n",
      "0\n"
     ]
    }
   ],
   "source": [
    "#Re-check for companies that had an error and store into a new list\n",
    "error_companies = [company for company in companies if 'page_content' not in company]\n",
    "print(error_companies)\n",
    "print(len(error_companies))"
   ]
  },
  {
   "cell_type": "code",
   "execution_count": 15,
   "metadata": {},
   "outputs": [],
   "source": [
    "# Check first 100 characters of the page content for each company and export to a csv file\n",
    "df = pd.DataFrame(companies)\n",
    "df['page_content'] = df['page_content'].str[:100]\n",
    "df.to_csv(\"companies.csv\", index=False)\n"
   ]
  },
  {
   "cell_type": "markdown",
   "metadata": {},
   "source": [
    "### Export"
   ]
  },
  {
   "cell_type": "code",
   "execution_count": 3,
   "metadata": {},
   "outputs": [],
   "source": [
    "# Convert to list JSON and export to file to save\n",
    "json_data = json.dumps(companies, indent=2)\n",
    "# print(json_data)\n",
    "\n",
    "# Save to a file\n",
    "with open('sp500_companies.json', 'w') as f:\n",
    "    f.write(json_data)"
   ]
  },
  {
   "cell_type": "markdown",
   "metadata": {},
   "source": [
    "## Part 3: Content length\n",
    " - For every page, compute the length of the text (how many characters)\n",
    " - What is the mean length(number of characters) for each gics sector. "
   ]
  },
  {
   "cell_type": "code",
   "execution_count": 17,
   "metadata": {},
   "outputs": [
    {
     "data": {
      "text/html": [
       "<div>\n",
       "<style scoped>\n",
       "    .dataframe tbody tr th:only-of-type {\n",
       "        vertical-align: middle;\n",
       "    }\n",
       "\n",
       "    .dataframe tbody tr th {\n",
       "        vertical-align: top;\n",
       "    }\n",
       "\n",
       "    .dataframe thead th {\n",
       "        text-align: right;\n",
       "    }\n",
       "</style>\n",
       "<table border=\"1\" class=\"dataframe\">\n",
       "  <thead>\n",
       "    <tr style=\"text-align: right;\">\n",
       "      <th></th>\n",
       "      <th>symbol</th>\n",
       "      <th>name</th>\n",
       "      <th>gics_sector</th>\n",
       "      <th>gics_sub_sector</th>\n",
       "      <th>headquarters</th>\n",
       "      <th>date_added</th>\n",
       "      <th>cik</th>\n",
       "      <th>founded</th>\n",
       "      <th>wikipedia_page</th>\n",
       "      <th>nyse_page</th>\n",
       "      <th>page_content</th>\n",
       "    </tr>\n",
       "  </thead>\n",
       "  <tbody>\n",
       "    <tr>\n",
       "      <th>0</th>\n",
       "      <td>MMM</td>\n",
       "      <td>3M</td>\n",
       "      <td>Industrials</td>\n",
       "      <td>Industrial Conglomerates</td>\n",
       "      <td>Saint Paul, Minnesota</td>\n",
       "      <td>1957-03-04</td>\n",
       "      <td>0000066740</td>\n",
       "      <td>1902</td>\n",
       "      <td>https://en.wikipedia.org/wiki/3M</td>\n",
       "      <td>https://www.nyse.com/quote/XNYS:MMM</td>\n",
       "      <td>3M Company (originally the Minnesota Mining an...</td>\n",
       "    </tr>\n",
       "    <tr>\n",
       "      <th>1</th>\n",
       "      <td>AOS</td>\n",
       "      <td>A. O. Smith</td>\n",
       "      <td>Industrials</td>\n",
       "      <td>Building Products</td>\n",
       "      <td>Milwaukee, Wisconsin</td>\n",
       "      <td>2017-07-26</td>\n",
       "      <td>0000091142</td>\n",
       "      <td>1916</td>\n",
       "      <td>https://en.wikipedia.org/wiki/A._O._Smith</td>\n",
       "      <td>https://www.nyse.com/quote/XNYS:AOS</td>\n",
       "      <td>A. O. Smith Corporation is an American manufac...</td>\n",
       "    </tr>\n",
       "    <tr>\n",
       "      <th>2</th>\n",
       "      <td>ABT</td>\n",
       "      <td>Abbott Laboratories</td>\n",
       "      <td>Health Care</td>\n",
       "      <td>Health Care Equipment</td>\n",
       "      <td>North Chicago, Illinois</td>\n",
       "      <td>1957-03-04</td>\n",
       "      <td>0000001800</td>\n",
       "      <td>1888</td>\n",
       "      <td>https://en.wikipedia.org/wiki/Abbott_Laboratories</td>\n",
       "      <td>https://www.nyse.com/quote/XNYS:ABT</td>\n",
       "      <td>Abbott Laboratories is an American multination...</td>\n",
       "    </tr>\n",
       "    <tr>\n",
       "      <th>3</th>\n",
       "      <td>ABBV</td>\n",
       "      <td>AbbVie</td>\n",
       "      <td>Health Care</td>\n",
       "      <td>Biotechnology</td>\n",
       "      <td>North Chicago, Illinois</td>\n",
       "      <td>2012-12-31</td>\n",
       "      <td>0001551152</td>\n",
       "      <td>2013 (1888)</td>\n",
       "      <td>https://en.wikipedia.org/wiki/AbbVie</td>\n",
       "      <td>https://www.nyse.com/quote/XNYS:ABBV</td>\n",
       "      <td>AbbVie Inc. is an American pharmaceutical comp...</td>\n",
       "    </tr>\n",
       "    <tr>\n",
       "      <th>4</th>\n",
       "      <td>ACN</td>\n",
       "      <td>Accenture</td>\n",
       "      <td>Information Technology</td>\n",
       "      <td>IT Consulting &amp; Other Services</td>\n",
       "      <td>Dublin, Ireland</td>\n",
       "      <td>2011-07-06</td>\n",
       "      <td>0001467373</td>\n",
       "      <td>1989</td>\n",
       "      <td>https://en.wikipedia.org/wiki/Accenture</td>\n",
       "      <td>https://www.nyse.com/quote/XNYS:ACN</td>\n",
       "      <td>Accenture plc is an Irish-American professiona...</td>\n",
       "    </tr>\n",
       "  </tbody>\n",
       "</table>\n",
       "</div>"
      ],
      "text/plain": [
       "  symbol                 name             gics_sector  \\\n",
       "0    MMM                   3M             Industrials   \n",
       "1    AOS          A. O. Smith             Industrials   \n",
       "2    ABT  Abbott Laboratories             Health Care   \n",
       "3   ABBV               AbbVie             Health Care   \n",
       "4    ACN            Accenture  Information Technology   \n",
       "\n",
       "                  gics_sub_sector             headquarters  date_added  \\\n",
       "0        Industrial Conglomerates    Saint Paul, Minnesota  1957-03-04   \n",
       "1               Building Products     Milwaukee, Wisconsin  2017-07-26   \n",
       "2           Health Care Equipment  North Chicago, Illinois  1957-03-04   \n",
       "3                   Biotechnology  North Chicago, Illinois  2012-12-31   \n",
       "4  IT Consulting & Other Services          Dublin, Ireland  2011-07-06   \n",
       "\n",
       "          cik      founded                                     wikipedia_page  \\\n",
       "0  0000066740         1902                   https://en.wikipedia.org/wiki/3M   \n",
       "1  0000091142         1916          https://en.wikipedia.org/wiki/A._O._Smith   \n",
       "2  0000001800         1888  https://en.wikipedia.org/wiki/Abbott_Laboratories   \n",
       "3  0001551152  2013 (1888)               https://en.wikipedia.org/wiki/AbbVie   \n",
       "4  0001467373         1989            https://en.wikipedia.org/wiki/Accenture   \n",
       "\n",
       "                              nyse_page  \\\n",
       "0   https://www.nyse.com/quote/XNYS:MMM   \n",
       "1   https://www.nyse.com/quote/XNYS:AOS   \n",
       "2   https://www.nyse.com/quote/XNYS:ABT   \n",
       "3  https://www.nyse.com/quote/XNYS:ABBV   \n",
       "4   https://www.nyse.com/quote/XNYS:ACN   \n",
       "\n",
       "                                        page_content  \n",
       "0  3M Company (originally the Minnesota Mining an...  \n",
       "1  A. O. Smith Corporation is an American manufac...  \n",
       "2  Abbott Laboratories is an American multination...  \n",
       "3  AbbVie Inc. is an American pharmaceutical comp...  \n",
       "4  Accenture plc is an Irish-American professiona...  "
      ]
     },
     "execution_count": 17,
     "metadata": {},
     "output_type": "execute_result"
    }
   ],
   "source": [
    "import json\n",
    "import pandas as pd\n",
    "\n",
    "# Import json file and convert to DataFrame\n",
    "with open('sp500_companies.json', 'r') as f:\n",
    "    companies = json.load(f)\n",
    "\n",
    "df = pd.DataFrame(companies)\n",
    "df.head()"
   ]
  },
  {
   "cell_type": "code",
   "execution_count": 18,
   "metadata": {},
   "outputs": [
    {
     "data": {
      "text/html": [
       "<div>\n",
       "<style scoped>\n",
       "    .dataframe tbody tr th:only-of-type {\n",
       "        vertical-align: middle;\n",
       "    }\n",
       "\n",
       "    .dataframe tbody tr th {\n",
       "        vertical-align: top;\n",
       "    }\n",
       "\n",
       "    .dataframe thead th {\n",
       "        text-align: right;\n",
       "    }\n",
       "</style>\n",
       "<table border=\"1\" class=\"dataframe\">\n",
       "  <thead>\n",
       "    <tr style=\"text-align: right;\">\n",
       "      <th></th>\n",
       "      <th>symbol</th>\n",
       "      <th>name</th>\n",
       "      <th>gics_sector</th>\n",
       "      <th>gics_sub_sector</th>\n",
       "      <th>headquarters</th>\n",
       "      <th>date_added</th>\n",
       "      <th>cik</th>\n",
       "      <th>founded</th>\n",
       "      <th>wikipedia_page</th>\n",
       "      <th>nyse_page</th>\n",
       "      <th>page_content</th>\n",
       "      <th>page_length</th>\n",
       "    </tr>\n",
       "  </thead>\n",
       "  <tbody>\n",
       "    <tr>\n",
       "      <th>0</th>\n",
       "      <td>MMM</td>\n",
       "      <td>3M</td>\n",
       "      <td>Industrials</td>\n",
       "      <td>Industrial Conglomerates</td>\n",
       "      <td>Saint Paul, Minnesota</td>\n",
       "      <td>1957-03-04</td>\n",
       "      <td>0000066740</td>\n",
       "      <td>1902</td>\n",
       "      <td>https://en.wikipedia.org/wiki/3M</td>\n",
       "      <td>https://www.nyse.com/quote/XNYS:MMM</td>\n",
       "      <td>3M Company (originally the Minnesota Mining an...</td>\n",
       "      <td>20635</td>\n",
       "    </tr>\n",
       "    <tr>\n",
       "      <th>1</th>\n",
       "      <td>AOS</td>\n",
       "      <td>A. O. Smith</td>\n",
       "      <td>Industrials</td>\n",
       "      <td>Building Products</td>\n",
       "      <td>Milwaukee, Wisconsin</td>\n",
       "      <td>2017-07-26</td>\n",
       "      <td>0000091142</td>\n",
       "      <td>1916</td>\n",
       "      <td>https://en.wikipedia.org/wiki/A._O._Smith</td>\n",
       "      <td>https://www.nyse.com/quote/XNYS:AOS</td>\n",
       "      <td>A. O. Smith Corporation is an American manufac...</td>\n",
       "      <td>9148</td>\n",
       "    </tr>\n",
       "    <tr>\n",
       "      <th>2</th>\n",
       "      <td>ABT</td>\n",
       "      <td>Abbott Laboratories</td>\n",
       "      <td>Health Care</td>\n",
       "      <td>Health Care Equipment</td>\n",
       "      <td>North Chicago, Illinois</td>\n",
       "      <td>1957-03-04</td>\n",
       "      <td>0000001800</td>\n",
       "      <td>1888</td>\n",
       "      <td>https://en.wikipedia.org/wiki/Abbott_Laboratories</td>\n",
       "      <td>https://www.nyse.com/quote/XNYS:ABT</td>\n",
       "      <td>Abbott Laboratories is an American multination...</td>\n",
       "      <td>20957</td>\n",
       "    </tr>\n",
       "    <tr>\n",
       "      <th>3</th>\n",
       "      <td>ABBV</td>\n",
       "      <td>AbbVie</td>\n",
       "      <td>Health Care</td>\n",
       "      <td>Biotechnology</td>\n",
       "      <td>North Chicago, Illinois</td>\n",
       "      <td>2012-12-31</td>\n",
       "      <td>0001551152</td>\n",
       "      <td>2013 (1888)</td>\n",
       "      <td>https://en.wikipedia.org/wiki/AbbVie</td>\n",
       "      <td>https://www.nyse.com/quote/XNYS:ABBV</td>\n",
       "      <td>AbbVie Inc. is an American pharmaceutical comp...</td>\n",
       "      <td>11840</td>\n",
       "    </tr>\n",
       "    <tr>\n",
       "      <th>4</th>\n",
       "      <td>ACN</td>\n",
       "      <td>Accenture</td>\n",
       "      <td>Information Technology</td>\n",
       "      <td>IT Consulting &amp; Other Services</td>\n",
       "      <td>Dublin, Ireland</td>\n",
       "      <td>2011-07-06</td>\n",
       "      <td>0001467373</td>\n",
       "      <td>1989</td>\n",
       "      <td>https://en.wikipedia.org/wiki/Accenture</td>\n",
       "      <td>https://www.nyse.com/quote/XNYS:ACN</td>\n",
       "      <td>Accenture plc is an Irish-American professiona...</td>\n",
       "      <td>7304</td>\n",
       "    </tr>\n",
       "  </tbody>\n",
       "</table>\n",
       "</div>"
      ],
      "text/plain": [
       "  symbol                 name             gics_sector  \\\n",
       "0    MMM                   3M             Industrials   \n",
       "1    AOS          A. O. Smith             Industrials   \n",
       "2    ABT  Abbott Laboratories             Health Care   \n",
       "3   ABBV               AbbVie             Health Care   \n",
       "4    ACN            Accenture  Information Technology   \n",
       "\n",
       "                  gics_sub_sector             headquarters  date_added  \\\n",
       "0        Industrial Conglomerates    Saint Paul, Minnesota  1957-03-04   \n",
       "1               Building Products     Milwaukee, Wisconsin  2017-07-26   \n",
       "2           Health Care Equipment  North Chicago, Illinois  1957-03-04   \n",
       "3                   Biotechnology  North Chicago, Illinois  2012-12-31   \n",
       "4  IT Consulting & Other Services          Dublin, Ireland  2011-07-06   \n",
       "\n",
       "          cik      founded                                     wikipedia_page  \\\n",
       "0  0000066740         1902                   https://en.wikipedia.org/wiki/3M   \n",
       "1  0000091142         1916          https://en.wikipedia.org/wiki/A._O._Smith   \n",
       "2  0000001800         1888  https://en.wikipedia.org/wiki/Abbott_Laboratories   \n",
       "3  0001551152  2013 (1888)               https://en.wikipedia.org/wiki/AbbVie   \n",
       "4  0001467373         1989            https://en.wikipedia.org/wiki/Accenture   \n",
       "\n",
       "                              nyse_page  \\\n",
       "0   https://www.nyse.com/quote/XNYS:MMM   \n",
       "1   https://www.nyse.com/quote/XNYS:AOS   \n",
       "2   https://www.nyse.com/quote/XNYS:ABT   \n",
       "3  https://www.nyse.com/quote/XNYS:ABBV   \n",
       "4   https://www.nyse.com/quote/XNYS:ACN   \n",
       "\n",
       "                                        page_content  page_length  \n",
       "0  3M Company (originally the Minnesota Mining an...        20635  \n",
       "1  A. O. Smith Corporation is an American manufac...         9148  \n",
       "2  Abbott Laboratories is an American multination...        20957  \n",
       "3  AbbVie Inc. is an American pharmaceutical comp...        11840  \n",
       "4  Accenture plc is an Irish-American professiona...         7304  "
      ]
     },
     "execution_count": 18,
     "metadata": {},
     "output_type": "execute_result"
    }
   ],
   "source": [
    "# Add a column with the length of the page content to the DataFrame\n",
    "df['page_length'] = df['page_content'].apply(len)\n",
    "df.head()\n"
   ]
  },
  {
   "cell_type": "code",
   "execution_count": 19,
   "metadata": {},
   "outputs": [
    {
     "name": "stdout",
     "output_type": "stream",
     "text": [
      "gics_sector\n",
      "Communication Services    26549.409091\n",
      "Consumer Discretionary    20932.634615\n",
      "Consumer Staples          20309.315789\n",
      "Information Technology    17908.656716\n",
      "Financials                17204.169014\n",
      "Utilities                 13136.096774\n",
      "Health Care               12409.634921\n",
      "Energy                    12357.590909\n",
      "Industrials               11659.307692\n",
      "Materials                 10269.535714\n",
      "Real Estate                4292.000000\n",
      "Name: page_length, dtype: float64\n"
     ]
    }
   ],
   "source": [
    "# Calculate average page length for each sector\n",
    "sector_avg = df.groupby('gics_sector')['page_length'].mean()\n",
    "\n",
    "# Print and sort by average page length\n",
    "print(sector_avg.sort_values(ascending=False))"
   ]
  },
  {
   "cell_type": "markdown",
   "metadata": {},
   "source": [
    "## Part 4: Count how many times `computer` appears in the content for each company\n",
    " - What is the mean number of times it occurs in each sector?\n",
    " - Do these results make sense"
   ]
  },
  {
   "cell_type": "code",
   "execution_count": 20,
   "metadata": {},
   "outputs": [
    {
     "data": {
      "text/html": [
       "<div>\n",
       "<style scoped>\n",
       "    .dataframe tbody tr th:only-of-type {\n",
       "        vertical-align: middle;\n",
       "    }\n",
       "\n",
       "    .dataframe tbody tr th {\n",
       "        vertical-align: top;\n",
       "    }\n",
       "\n",
       "    .dataframe thead th {\n",
       "        text-align: right;\n",
       "    }\n",
       "</style>\n",
       "<table border=\"1\" class=\"dataframe\">\n",
       "  <thead>\n",
       "    <tr style=\"text-align: right;\">\n",
       "      <th></th>\n",
       "      <th>symbol</th>\n",
       "      <th>name</th>\n",
       "      <th>gics_sector</th>\n",
       "      <th>gics_sub_sector</th>\n",
       "      <th>headquarters</th>\n",
       "      <th>date_added</th>\n",
       "      <th>cik</th>\n",
       "      <th>founded</th>\n",
       "      <th>wikipedia_page</th>\n",
       "      <th>nyse_page</th>\n",
       "      <th>page_content</th>\n",
       "      <th>page_length</th>\n",
       "      <th>computer_count</th>\n",
       "    </tr>\n",
       "  </thead>\n",
       "  <tbody>\n",
       "    <tr>\n",
       "      <th>0</th>\n",
       "      <td>MMM</td>\n",
       "      <td>3M</td>\n",
       "      <td>Industrials</td>\n",
       "      <td>Industrial Conglomerates</td>\n",
       "      <td>Saint Paul, Minnesota</td>\n",
       "      <td>1957-03-04</td>\n",
       "      <td>0000066740</td>\n",
       "      <td>1902</td>\n",
       "      <td>https://en.wikipedia.org/wiki/3M</td>\n",
       "      <td>https://www.nyse.com/quote/XNYS:MMM</td>\n",
       "      <td>3M Company (originally the Minnesota Mining an...</td>\n",
       "      <td>20635</td>\n",
       "      <td>0</td>\n",
       "    </tr>\n",
       "    <tr>\n",
       "      <th>1</th>\n",
       "      <td>AOS</td>\n",
       "      <td>A. O. Smith</td>\n",
       "      <td>Industrials</td>\n",
       "      <td>Building Products</td>\n",
       "      <td>Milwaukee, Wisconsin</td>\n",
       "      <td>2017-07-26</td>\n",
       "      <td>0000091142</td>\n",
       "      <td>1916</td>\n",
       "      <td>https://en.wikipedia.org/wiki/A._O._Smith</td>\n",
       "      <td>https://www.nyse.com/quote/XNYS:AOS</td>\n",
       "      <td>A. O. Smith Corporation is an American manufac...</td>\n",
       "      <td>9148</td>\n",
       "      <td>0</td>\n",
       "    </tr>\n",
       "    <tr>\n",
       "      <th>2</th>\n",
       "      <td>ABT</td>\n",
       "      <td>Abbott Laboratories</td>\n",
       "      <td>Health Care</td>\n",
       "      <td>Health Care Equipment</td>\n",
       "      <td>North Chicago, Illinois</td>\n",
       "      <td>1957-03-04</td>\n",
       "      <td>0000001800</td>\n",
       "      <td>1888</td>\n",
       "      <td>https://en.wikipedia.org/wiki/Abbott_Laboratories</td>\n",
       "      <td>https://www.nyse.com/quote/XNYS:ABT</td>\n",
       "      <td>Abbott Laboratories is an American multination...</td>\n",
       "      <td>20957</td>\n",
       "      <td>0</td>\n",
       "    </tr>\n",
       "    <tr>\n",
       "      <th>3</th>\n",
       "      <td>ABBV</td>\n",
       "      <td>AbbVie</td>\n",
       "      <td>Health Care</td>\n",
       "      <td>Biotechnology</td>\n",
       "      <td>North Chicago, Illinois</td>\n",
       "      <td>2012-12-31</td>\n",
       "      <td>0001551152</td>\n",
       "      <td>2013 (1888)</td>\n",
       "      <td>https://en.wikipedia.org/wiki/AbbVie</td>\n",
       "      <td>https://www.nyse.com/quote/XNYS:ABBV</td>\n",
       "      <td>AbbVie Inc. is an American pharmaceutical comp...</td>\n",
       "      <td>11840</td>\n",
       "      <td>0</td>\n",
       "    </tr>\n",
       "    <tr>\n",
       "      <th>4</th>\n",
       "      <td>ACN</td>\n",
       "      <td>Accenture</td>\n",
       "      <td>Information Technology</td>\n",
       "      <td>IT Consulting &amp; Other Services</td>\n",
       "      <td>Dublin, Ireland</td>\n",
       "      <td>2011-07-06</td>\n",
       "      <td>0001467373</td>\n",
       "      <td>1989</td>\n",
       "      <td>https://en.wikipedia.org/wiki/Accenture</td>\n",
       "      <td>https://www.nyse.com/quote/XNYS:ACN</td>\n",
       "      <td>Accenture plc is an Irish-American professiona...</td>\n",
       "      <td>7304</td>\n",
       "      <td>3</td>\n",
       "    </tr>\n",
       "  </tbody>\n",
       "</table>\n",
       "</div>"
      ],
      "text/plain": [
       "  symbol                 name             gics_sector  \\\n",
       "0    MMM                   3M             Industrials   \n",
       "1    AOS          A. O. Smith             Industrials   \n",
       "2    ABT  Abbott Laboratories             Health Care   \n",
       "3   ABBV               AbbVie             Health Care   \n",
       "4    ACN            Accenture  Information Technology   \n",
       "\n",
       "                  gics_sub_sector             headquarters  date_added  \\\n",
       "0        Industrial Conglomerates    Saint Paul, Minnesota  1957-03-04   \n",
       "1               Building Products     Milwaukee, Wisconsin  2017-07-26   \n",
       "2           Health Care Equipment  North Chicago, Illinois  1957-03-04   \n",
       "3                   Biotechnology  North Chicago, Illinois  2012-12-31   \n",
       "4  IT Consulting & Other Services          Dublin, Ireland  2011-07-06   \n",
       "\n",
       "          cik      founded                                     wikipedia_page  \\\n",
       "0  0000066740         1902                   https://en.wikipedia.org/wiki/3M   \n",
       "1  0000091142         1916          https://en.wikipedia.org/wiki/A._O._Smith   \n",
       "2  0000001800         1888  https://en.wikipedia.org/wiki/Abbott_Laboratories   \n",
       "3  0001551152  2013 (1888)               https://en.wikipedia.org/wiki/AbbVie   \n",
       "4  0001467373         1989            https://en.wikipedia.org/wiki/Accenture   \n",
       "\n",
       "                              nyse_page  \\\n",
       "0   https://www.nyse.com/quote/XNYS:MMM   \n",
       "1   https://www.nyse.com/quote/XNYS:AOS   \n",
       "2   https://www.nyse.com/quote/XNYS:ABT   \n",
       "3  https://www.nyse.com/quote/XNYS:ABBV   \n",
       "4   https://www.nyse.com/quote/XNYS:ACN   \n",
       "\n",
       "                                        page_content  page_length  \\\n",
       "0  3M Company (originally the Minnesota Mining an...        20635   \n",
       "1  A. O. Smith Corporation is an American manufac...         9148   \n",
       "2  Abbott Laboratories is an American multination...        20957   \n",
       "3  AbbVie Inc. is an American pharmaceutical comp...        11840   \n",
       "4  Accenture plc is an Irish-American professiona...         7304   \n",
       "\n",
       "   computer_count  \n",
       "0               0  \n",
       "1               0  \n",
       "2               0  \n",
       "3               0  \n",
       "4               3  "
      ]
     },
     "execution_count": 20,
     "metadata": {},
     "output_type": "execute_result"
    }
   ],
   "source": [
    "# Count how many times the word 'computer' appears in each page content\n",
    "df['computer_count'] = df['page_content'].str.count('computer')\n",
    "df.head()"
   ]
  },
  {
   "cell_type": "code",
   "execution_count": 21,
   "metadata": {},
   "outputs": [
    {
     "name": "stdout",
     "output_type": "stream",
     "text": [
      "gics_sector\n",
      "Information Technology    4.238806\n",
      "Communication Services    0.772727\n",
      "Consumer Discretionary    0.634615\n",
      "Industrials               0.487179\n",
      "Financials                0.239437\n",
      "Energy                    0.227273\n",
      "Health Care               0.079365\n",
      "Consumer Staples          0.078947\n",
      "Utilities                 0.032258\n",
      "Materials                 0.000000\n",
      "Real Estate               0.000000\n",
      "Name: computer_count, dtype: float64\n"
     ]
    }
   ],
   "source": [
    "# What is the average number of times 'computer' appears in each sector?\n",
    "sector_computer_avg = df.groupby('gics_sector')['computer_count'].mean()\n",
    "\n",
    "# Print and sort by average computer count\n",
    "print(sector_computer_avg.sort_values(ascending=False))\n",
    "\n",
    "# Yes, these results make sense. The technology sector has the highest average count of the word 'computer'."
   ]
  },
  {
   "cell_type": "markdown",
   "metadata": {},
   "source": [
    "## Part 5: repeat part 4 with lots of words\n",
    " - Try `['computer', 'oil', 'debt', 'drug', 'building', 'food']`\n",
    " - Add your own words"
   ]
  },
  {
   "cell_type": "code",
   "execution_count": 22,
   "metadata": {},
   "outputs": [
    {
     "name": "stdout",
     "output_type": "stream",
     "text": [
      "['building', 'computer', 'construction', 'crypto', 'debt', 'drug', 'finance', 'food', 'oil', 'supercalifragilisticexpialidocious', 'technology']\n"
     ]
    }
   ],
   "source": [
    "original_words = ['computer', 'oil', 'debt', 'drug', 'building', 'food']\n",
    "new_words = ['finance', 'crypto', 'technology','construction','supercalifragilisticexpialidocious']\n",
    "words = original_words + new_words\n",
    "words.sort()\n",
    "print(words)"
   ]
  },
  {
   "cell_type": "code",
   "execution_count": 23,
   "metadata": {},
   "outputs": [
    {
     "data": {
      "text/html": [
       "<div>\n",
       "<style scoped>\n",
       "    .dataframe tbody tr th:only-of-type {\n",
       "        vertical-align: middle;\n",
       "    }\n",
       "\n",
       "    .dataframe tbody tr th {\n",
       "        vertical-align: top;\n",
       "    }\n",
       "\n",
       "    .dataframe thead th {\n",
       "        text-align: right;\n",
       "    }\n",
       "</style>\n",
       "<table border=\"1\" class=\"dataframe\">\n",
       "  <thead>\n",
       "    <tr style=\"text-align: right;\">\n",
       "      <th></th>\n",
       "      <th>building</th>\n",
       "      <th>computer</th>\n",
       "      <th>construction</th>\n",
       "      <th>crypto</th>\n",
       "      <th>debt</th>\n",
       "      <th>drug</th>\n",
       "      <th>finance</th>\n",
       "      <th>food</th>\n",
       "      <th>oil</th>\n",
       "      <th>supercalifragilisticexpialidocious</th>\n",
       "      <th>technology</th>\n",
       "      <th>gics_sector</th>\n",
       "    </tr>\n",
       "  </thead>\n",
       "  <tbody>\n",
       "    <tr>\n",
       "      <th>MMM</th>\n",
       "      <td>0</td>\n",
       "      <td>0</td>\n",
       "      <td>0</td>\n",
       "      <td>0</td>\n",
       "      <td>0</td>\n",
       "      <td>0</td>\n",
       "      <td>0</td>\n",
       "      <td>0</td>\n",
       "      <td>0</td>\n",
       "      <td>0</td>\n",
       "      <td>0</td>\n",
       "      <td>Industrials</td>\n",
       "    </tr>\n",
       "    <tr>\n",
       "      <th>AOS</th>\n",
       "      <td>0</td>\n",
       "      <td>0</td>\n",
       "      <td>0</td>\n",
       "      <td>0</td>\n",
       "      <td>0</td>\n",
       "      <td>0</td>\n",
       "      <td>0</td>\n",
       "      <td>0</td>\n",
       "      <td>0</td>\n",
       "      <td>0</td>\n",
       "      <td>0</td>\n",
       "      <td>Industrials</td>\n",
       "    </tr>\n",
       "    <tr>\n",
       "      <th>ABT</th>\n",
       "      <td>0</td>\n",
       "      <td>0</td>\n",
       "      <td>0</td>\n",
       "      <td>0</td>\n",
       "      <td>0</td>\n",
       "      <td>0</td>\n",
       "      <td>0</td>\n",
       "      <td>0</td>\n",
       "      <td>0</td>\n",
       "      <td>0</td>\n",
       "      <td>0</td>\n",
       "      <td>Health Care</td>\n",
       "    </tr>\n",
       "    <tr>\n",
       "      <th>ABBV</th>\n",
       "      <td>0</td>\n",
       "      <td>0</td>\n",
       "      <td>0</td>\n",
       "      <td>0</td>\n",
       "      <td>0</td>\n",
       "      <td>0</td>\n",
       "      <td>0</td>\n",
       "      <td>0</td>\n",
       "      <td>0</td>\n",
       "      <td>0</td>\n",
       "      <td>0</td>\n",
       "      <td>Health Care</td>\n",
       "    </tr>\n",
       "    <tr>\n",
       "      <th>ACN</th>\n",
       "      <td>0</td>\n",
       "      <td>0</td>\n",
       "      <td>0</td>\n",
       "      <td>0</td>\n",
       "      <td>0</td>\n",
       "      <td>0</td>\n",
       "      <td>0</td>\n",
       "      <td>0</td>\n",
       "      <td>0</td>\n",
       "      <td>0</td>\n",
       "      <td>0</td>\n",
       "      <td>Information Technology</td>\n",
       "    </tr>\n",
       "  </tbody>\n",
       "</table>\n",
       "</div>"
      ],
      "text/plain": [
       "      building  computer  construction  crypto  debt  drug  finance  food  \\\n",
       "MMM          0         0             0       0     0     0        0     0   \n",
       "AOS          0         0             0       0     0     0        0     0   \n",
       "ABT          0         0             0       0     0     0        0     0   \n",
       "ABBV         0         0             0       0     0     0        0     0   \n",
       "ACN          0         0             0       0     0     0        0     0   \n",
       "\n",
       "      oil  supercalifragilisticexpialidocious  technology  \\\n",
       "MMM     0                                   0           0   \n",
       "AOS     0                                   0           0   \n",
       "ABT     0                                   0           0   \n",
       "ABBV    0                                   0           0   \n",
       "ACN     0                                   0           0   \n",
       "\n",
       "                 gics_sector  \n",
       "MMM              Industrials  \n",
       "AOS              Industrials  \n",
       "ABT              Health Care  \n",
       "ABBV             Health Care  \n",
       "ACN   Information Technology  "
      ]
     },
     "execution_count": 23,
     "metadata": {},
     "output_type": "execute_result"
    }
   ],
   "source": [
    "# one way to do this is to make a dataframe of counts,\n",
    "# initialize all to 0, and then loop through and count the occurences\n",
    "counts = pd.DataFrame(0, index=df.symbol.tolist(), columns=words)\n",
    "\n",
    "# Append the gics sector to the counts DataFrame\n",
    "counts['gics_sector'] = df.set_index('symbol')['gics_sector']\n",
    "counts.head()"
   ]
  },
  {
   "cell_type": "code",
   "execution_count": 24,
   "metadata": {},
   "outputs": [
    {
     "data": {
      "text/html": [
       "<div>\n",
       "<style scoped>\n",
       "    .dataframe tbody tr th:only-of-type {\n",
       "        vertical-align: middle;\n",
       "    }\n",
       "\n",
       "    .dataframe tbody tr th {\n",
       "        vertical-align: top;\n",
       "    }\n",
       "\n",
       "    .dataframe thead th {\n",
       "        text-align: right;\n",
       "    }\n",
       "</style>\n",
       "<table border=\"1\" class=\"dataframe\">\n",
       "  <thead>\n",
       "    <tr style=\"text-align: right;\">\n",
       "      <th></th>\n",
       "      <th>building</th>\n",
       "      <th>computer</th>\n",
       "      <th>construction</th>\n",
       "      <th>crypto</th>\n",
       "      <th>debt</th>\n",
       "      <th>drug</th>\n",
       "      <th>finance</th>\n",
       "      <th>food</th>\n",
       "      <th>oil</th>\n",
       "      <th>supercalifragilisticexpialidocious</th>\n",
       "      <th>technology</th>\n",
       "      <th>gics_sector</th>\n",
       "    </tr>\n",
       "  </thead>\n",
       "  <tbody>\n",
       "    <tr>\n",
       "      <th>MMM</th>\n",
       "      <td>4</td>\n",
       "      <td>0</td>\n",
       "      <td>0</td>\n",
       "      <td>0</td>\n",
       "      <td>1</td>\n",
       "      <td>1</td>\n",
       "      <td>0</td>\n",
       "      <td>3</td>\n",
       "      <td>2</td>\n",
       "      <td>0</td>\n",
       "      <td>5</td>\n",
       "      <td>Industrials</td>\n",
       "    </tr>\n",
       "    <tr>\n",
       "      <th>AOS</th>\n",
       "      <td>0</td>\n",
       "      <td>0</td>\n",
       "      <td>0</td>\n",
       "      <td>0</td>\n",
       "      <td>0</td>\n",
       "      <td>0</td>\n",
       "      <td>0</td>\n",
       "      <td>0</td>\n",
       "      <td>8</td>\n",
       "      <td>0</td>\n",
       "      <td>0</td>\n",
       "      <td>Industrials</td>\n",
       "    </tr>\n",
       "    <tr>\n",
       "      <th>ABT</th>\n",
       "      <td>0</td>\n",
       "      <td>0</td>\n",
       "      <td>0</td>\n",
       "      <td>0</td>\n",
       "      <td>0</td>\n",
       "      <td>12</td>\n",
       "      <td>0</td>\n",
       "      <td>0</td>\n",
       "      <td>0</td>\n",
       "      <td>0</td>\n",
       "      <td>1</td>\n",
       "      <td>Health Care</td>\n",
       "    </tr>\n",
       "    <tr>\n",
       "      <th>ABBV</th>\n",
       "      <td>1</td>\n",
       "      <td>0</td>\n",
       "      <td>0</td>\n",
       "      <td>0</td>\n",
       "      <td>0</td>\n",
       "      <td>16</td>\n",
       "      <td>0</td>\n",
       "      <td>0</td>\n",
       "      <td>0</td>\n",
       "      <td>0</td>\n",
       "      <td>3</td>\n",
       "      <td>Health Care</td>\n",
       "    </tr>\n",
       "    <tr>\n",
       "      <th>ACN</th>\n",
       "      <td>0</td>\n",
       "      <td>3</td>\n",
       "      <td>0</td>\n",
       "      <td>0</td>\n",
       "      <td>0</td>\n",
       "      <td>0</td>\n",
       "      <td>0</td>\n",
       "      <td>0</td>\n",
       "      <td>0</td>\n",
       "      <td>0</td>\n",
       "      <td>4</td>\n",
       "      <td>Information Technology</td>\n",
       "    </tr>\n",
       "  </tbody>\n",
       "</table>\n",
       "</div>"
      ],
      "text/plain": [
       "      building  computer  construction  crypto  debt  drug  finance  food  \\\n",
       "MMM          4         0             0       0     1     1        0     3   \n",
       "AOS          0         0             0       0     0     0        0     0   \n",
       "ABT          0         0             0       0     0    12        0     0   \n",
       "ABBV         1         0             0       0     0    16        0     0   \n",
       "ACN          0         3             0       0     0     0        0     0   \n",
       "\n",
       "      oil  supercalifragilisticexpialidocious  technology  \\\n",
       "MMM     2                                   0           5   \n",
       "AOS     8                                   0           0   \n",
       "ABT     0                                   0           1   \n",
       "ABBV    0                                   0           3   \n",
       "ACN     0                                   0           4   \n",
       "\n",
       "                 gics_sector  \n",
       "MMM              Industrials  \n",
       "AOS              Industrials  \n",
       "ABT              Health Care  \n",
       "ABBV             Health Care  \n",
       "ACN   Information Technology  "
      ]
     },
     "execution_count": 24,
     "metadata": {},
     "output_type": "execute_result"
    }
   ],
   "source": [
    "# Loop through the DataFrame of content and count the occurences of each word\n",
    "for i, row in df.iterrows():\n",
    "    for word in words:\n",
    "        counts.loc[row['symbol'], word] = row['page_content'].count(word)\n",
    "counts.head()"
   ]
  },
  {
   "cell_type": "code",
   "execution_count": 25,
   "metadata": {},
   "outputs": [
    {
     "data": {
      "text/html": [
       "<div>\n",
       "<style scoped>\n",
       "    .dataframe tbody tr th:only-of-type {\n",
       "        vertical-align: middle;\n",
       "    }\n",
       "\n",
       "    .dataframe tbody tr th {\n",
       "        vertical-align: top;\n",
       "    }\n",
       "\n",
       "    .dataframe thead th {\n",
       "        text-align: right;\n",
       "    }\n",
       "</style>\n",
       "<table border=\"1\" class=\"dataframe\">\n",
       "  <thead>\n",
       "    <tr style=\"text-align: right;\">\n",
       "      <th></th>\n",
       "      <th>building</th>\n",
       "      <th>computer</th>\n",
       "      <th>construction</th>\n",
       "      <th>crypto</th>\n",
       "      <th>debt</th>\n",
       "      <th>drug</th>\n",
       "      <th>finance</th>\n",
       "      <th>food</th>\n",
       "      <th>oil</th>\n",
       "      <th>supercalifragilisticexpialidocious</th>\n",
       "      <th>technology</th>\n",
       "    </tr>\n",
       "    <tr>\n",
       "      <th>gics_sector</th>\n",
       "      <th></th>\n",
       "      <th></th>\n",
       "      <th></th>\n",
       "      <th></th>\n",
       "      <th></th>\n",
       "      <th></th>\n",
       "      <th></th>\n",
       "      <th></th>\n",
       "      <th></th>\n",
       "      <th></th>\n",
       "      <th></th>\n",
       "    </tr>\n",
       "  </thead>\n",
       "  <tbody>\n",
       "    <tr>\n",
       "      <th>Communication Services</th>\n",
       "      <td>1.636364</td>\n",
       "      <td>0.772727</td>\n",
       "      <td>0.454545</td>\n",
       "      <td>0.136364</td>\n",
       "      <td>0.954545</td>\n",
       "      <td>0.136364</td>\n",
       "      <td>0.363636</td>\n",
       "      <td>0.090909</td>\n",
       "      <td>0.045455</td>\n",
       "      <td>0.0</td>\n",
       "      <td>2.045455</td>\n",
       "    </tr>\n",
       "    <tr>\n",
       "      <th>Consumer Discretionary</th>\n",
       "      <td>1.269231</td>\n",
       "      <td>0.634615</td>\n",
       "      <td>0.807692</td>\n",
       "      <td>0.115385</td>\n",
       "      <td>0.538462</td>\n",
       "      <td>0.211538</td>\n",
       "      <td>0.192308</td>\n",
       "      <td>2.634615</td>\n",
       "      <td>0.538462</td>\n",
       "      <td>0.0</td>\n",
       "      <td>1.615385</td>\n",
       "    </tr>\n",
       "    <tr>\n",
       "      <th>Consumer Staples</th>\n",
       "      <td>0.868421</td>\n",
       "      <td>0.078947</td>\n",
       "      <td>0.263158</td>\n",
       "      <td>0.000000</td>\n",
       "      <td>0.184211</td>\n",
       "      <td>0.657895</td>\n",
       "      <td>0.052632</td>\n",
       "      <td>7.815789</td>\n",
       "      <td>2.157895</td>\n",
       "      <td>0.0</td>\n",
       "      <td>0.421053</td>\n",
       "    </tr>\n",
       "    <tr>\n",
       "      <th>Energy</th>\n",
       "      <td>1.045455</td>\n",
       "      <td>0.227273</td>\n",
       "      <td>0.954545</td>\n",
       "      <td>0.000000</td>\n",
       "      <td>0.454545</td>\n",
       "      <td>0.045455</td>\n",
       "      <td>0.090909</td>\n",
       "      <td>0.136364</td>\n",
       "      <td>14.136364</td>\n",
       "      <td>0.0</td>\n",
       "      <td>0.681818</td>\n",
       "    </tr>\n",
       "    <tr>\n",
       "      <th>Financials</th>\n",
       "      <td>1.676056</td>\n",
       "      <td>0.239437</td>\n",
       "      <td>0.239437</td>\n",
       "      <td>0.267606</td>\n",
       "      <td>0.915493</td>\n",
       "      <td>0.098592</td>\n",
       "      <td>0.929577</td>\n",
       "      <td>0.169014</td>\n",
       "      <td>0.535211</td>\n",
       "      <td>0.0</td>\n",
       "      <td>1.070423</td>\n",
       "    </tr>\n",
       "    <tr>\n",
       "      <th>Health Care</th>\n",
       "      <td>0.365079</td>\n",
       "      <td>0.079365</td>\n",
       "      <td>0.238095</td>\n",
       "      <td>0.047619</td>\n",
       "      <td>0.269841</td>\n",
       "      <td>5.587302</td>\n",
       "      <td>0.063492</td>\n",
       "      <td>0.253968</td>\n",
       "      <td>0.126984</td>\n",
       "      <td>0.0</td>\n",
       "      <td>1.952381</td>\n",
       "    </tr>\n",
       "    <tr>\n",
       "      <th>Industrials</th>\n",
       "      <td>1.564103</td>\n",
       "      <td>0.487179</td>\n",
       "      <td>0.807692</td>\n",
       "      <td>0.000000</td>\n",
       "      <td>0.320513</td>\n",
       "      <td>0.076923</td>\n",
       "      <td>0.128205</td>\n",
       "      <td>0.230769</td>\n",
       "      <td>0.679487</td>\n",
       "      <td>0.0</td>\n",
       "      <td>1.371795</td>\n",
       "    </tr>\n",
       "    <tr>\n",
       "      <th>Information Technology</th>\n",
       "      <td>0.895522</td>\n",
       "      <td>4.238806</td>\n",
       "      <td>0.507463</td>\n",
       "      <td>0.208955</td>\n",
       "      <td>0.149254</td>\n",
       "      <td>0.059701</td>\n",
       "      <td>0.238806</td>\n",
       "      <td>0.104478</td>\n",
       "      <td>0.134328</td>\n",
       "      <td>0.0</td>\n",
       "      <td>4.835821</td>\n",
       "    </tr>\n",
       "    <tr>\n",
       "      <th>Materials</th>\n",
       "      <td>0.821429</td>\n",
       "      <td>0.000000</td>\n",
       "      <td>0.857143</td>\n",
       "      <td>0.000000</td>\n",
       "      <td>0.107143</td>\n",
       "      <td>0.035714</td>\n",
       "      <td>0.107143</td>\n",
       "      <td>1.178571</td>\n",
       "      <td>1.250000</td>\n",
       "      <td>0.0</td>\n",
       "      <td>1.107143</td>\n",
       "    </tr>\n",
       "    <tr>\n",
       "      <th>Real Estate</th>\n",
       "      <td>0.838710</td>\n",
       "      <td>0.000000</td>\n",
       "      <td>0.290323</td>\n",
       "      <td>0.000000</td>\n",
       "      <td>0.354839</td>\n",
       "      <td>0.000000</td>\n",
       "      <td>0.096774</td>\n",
       "      <td>0.032258</td>\n",
       "      <td>0.032258</td>\n",
       "      <td>0.0</td>\n",
       "      <td>0.161290</td>\n",
       "    </tr>\n",
       "    <tr>\n",
       "      <th>Utilities</th>\n",
       "      <td>1.419355</td>\n",
       "      <td>0.032258</td>\n",
       "      <td>1.451613</td>\n",
       "      <td>0.000000</td>\n",
       "      <td>0.548387</td>\n",
       "      <td>0.000000</td>\n",
       "      <td>0.193548</td>\n",
       "      <td>0.000000</td>\n",
       "      <td>1.387097</td>\n",
       "      <td>0.0</td>\n",
       "      <td>0.967742</td>\n",
       "    </tr>\n",
       "  </tbody>\n",
       "</table>\n",
       "</div>"
      ],
      "text/plain": [
       "                        building  computer  construction    crypto      debt  \\\n",
       "gics_sector                                                                    \n",
       "Communication Services  1.636364  0.772727      0.454545  0.136364  0.954545   \n",
       "Consumer Discretionary  1.269231  0.634615      0.807692  0.115385  0.538462   \n",
       "Consumer Staples        0.868421  0.078947      0.263158  0.000000  0.184211   \n",
       "Energy                  1.045455  0.227273      0.954545  0.000000  0.454545   \n",
       "Financials              1.676056  0.239437      0.239437  0.267606  0.915493   \n",
       "Health Care             0.365079  0.079365      0.238095  0.047619  0.269841   \n",
       "Industrials             1.564103  0.487179      0.807692  0.000000  0.320513   \n",
       "Information Technology  0.895522  4.238806      0.507463  0.208955  0.149254   \n",
       "Materials               0.821429  0.000000      0.857143  0.000000  0.107143   \n",
       "Real Estate             0.838710  0.000000      0.290323  0.000000  0.354839   \n",
       "Utilities               1.419355  0.032258      1.451613  0.000000  0.548387   \n",
       "\n",
       "                            drug   finance      food        oil  \\\n",
       "gics_sector                                                       \n",
       "Communication Services  0.136364  0.363636  0.090909   0.045455   \n",
       "Consumer Discretionary  0.211538  0.192308  2.634615   0.538462   \n",
       "Consumer Staples        0.657895  0.052632  7.815789   2.157895   \n",
       "Energy                  0.045455  0.090909  0.136364  14.136364   \n",
       "Financials              0.098592  0.929577  0.169014   0.535211   \n",
       "Health Care             5.587302  0.063492  0.253968   0.126984   \n",
       "Industrials             0.076923  0.128205  0.230769   0.679487   \n",
       "Information Technology  0.059701  0.238806  0.104478   0.134328   \n",
       "Materials               0.035714  0.107143  1.178571   1.250000   \n",
       "Real Estate             0.000000  0.096774  0.032258   0.032258   \n",
       "Utilities               0.000000  0.193548  0.000000   1.387097   \n",
       "\n",
       "                        supercalifragilisticexpialidocious  technology  \n",
       "gics_sector                                                             \n",
       "Communication Services                                 0.0    2.045455  \n",
       "Consumer Discretionary                                 0.0    1.615385  \n",
       "Consumer Staples                                       0.0    0.421053  \n",
       "Energy                                                 0.0    0.681818  \n",
       "Financials                                             0.0    1.070423  \n",
       "Health Care                                            0.0    1.952381  \n",
       "Industrials                                            0.0    1.371795  \n",
       "Information Technology                                 0.0    4.835821  \n",
       "Materials                                              0.0    1.107143  \n",
       "Real Estate                                            0.0    0.161290  \n",
       "Utilities                                              0.0    0.967742  "
      ]
     },
     "execution_count": 25,
     "metadata": {},
     "output_type": "execute_result"
    }
   ],
   "source": [
    "# Show the average count of each word by sector\n",
    "counts.groupby('gics_sector').mean()"
   ]
  }
 ],
 "metadata": {
  "kernelspec": {
   "display_name": "Python 3 (ipykernel)",
   "language": "python",
   "name": "python3"
  },
  "language_info": {
   "codemirror_mode": {
    "name": "ipython",
    "version": 3
   },
   "file_extension": ".py",
   "mimetype": "text/x-python",
   "name": "python",
   "nbconvert_exporter": "python",
   "pygments_lexer": "ipython3",
   "version": "3.10.11"
  }
 },
 "nbformat": 4,
 "nbformat_minor": 4
}
